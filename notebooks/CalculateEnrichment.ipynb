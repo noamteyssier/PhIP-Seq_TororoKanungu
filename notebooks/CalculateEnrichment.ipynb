{
 "cells": [
  {
   "cell_type": "markdown",
   "metadata": {},
   "source": [
    "Calculates Enrichments for a given input read count dataset"
   ]
  },
  {
   "cell_type": "markdown",
   "metadata": {},
   "source": [
    "# Load Modules"
   ]
  },
  {
   "cell_type": "code",
   "execution_count": 1,
   "metadata": {},
   "outputs": [],
   "source": [
    "%load_ext autoreload\n",
    "%autoreload 2\n",
    "\n",
    "import numpy as np\n",
    "import pandas as pd\n",
    "import plotly\n",
    "import plotly.express as px\n",
    "import plotly.graph_objects as go\n",
    "import plotly.io as pio\n",
    "\n",
    "from plotly.subplots import make_subplots\n",
    "from multiprocessing import Pool\n",
    "from tqdm import tqdm\n",
    "import subprocess\n",
    "import os\n",
    "import datetime\n",
    "import shutil\n",
    "\n",
    "pio.templates.default = 'plotly_white'\n",
    "pd.options.mode.chained_assignment = None"
   ]
  },
  {
   "cell_type": "markdown",
   "metadata": {},
   "source": [
    "# Define Paths"
   ]
  },
  {
   "cell_type": "code",
   "execution_count": 2,
   "metadata": {},
   "outputs": [],
   "source": [
    "# raw count input matrix filepath\n",
    "fn_raw = \"../data/raw_counts/TororoKanunguRound2.csv\"\n",
    "\n",
    "# output directory to write enrichments to\n",
    "fn_outdir = \"../data/enriched/TororoKanunguRound2/\""
   ]
  },
  {
   "cell_type": "markdown",
   "metadata": {},
   "source": [
    "## Create Enrichment Directory"
   ]
  },
  {
   "cell_type": "code",
   "execution_count": 3,
   "metadata": {},
   "outputs": [],
   "source": [
    "if not os.path.exists(\"../data/enriched\"):\n",
    "    os.makedirs(\"../data/enriched\")"
   ]
  },
  {
   "cell_type": "markdown",
   "metadata": {},
   "source": [
    "# Run Pipeline"
   ]
  },
  {
   "cell_type": "markdown",
   "metadata": {},
   "source": [
    "## Preprocess"
   ]
  },
  {
   "cell_type": "code",
   "execution_count": 4,
   "metadata": {},
   "outputs": [
    {
     "name": "stdout",
     "output_type": "stream",
     "text": [
      "\n",
      "real\t0m0.001s\n",
      "user\t0m0.002s\n",
      "sys\t0m0.000s\n",
      "\n",
      "real\t0m0.970s\n",
      "user\t0m0.892s\n",
      "sys\t0m0.183s\n",
      "\n",
      "real\t0m2.878s\n",
      "user\t0m2.557s\n",
      "sys\t0m0.665s\n",
      "\n",
      "real\t0m10.490s\n",
      "user\t0m9.268s\n",
      "sys\t0m1.212s\n",
      "\n"
     ]
    }
   ],
   "source": [
    "pipeline_p = subprocess.Popen(\n",
    "    args = \" \".join([\n",
    "        \"../src/PhageLoader/pipeline/preprocess.sh\",\n",
    "        fn_raw,\n",
    "        fn_outdir\n",
    "    ]),\n",
    "    stdout = subprocess.PIPE,\n",
    "    stderr = subprocess.PIPE,\n",
    "    shell=True\n",
    ")\n",
    "stdout, stderr = pipeline_p.communicate()\n",
    "\n",
    "for line in stderr.decode(\"ascii\").split(\"\\n\"):\n",
    "    print(line)"
   ]
  },
  {
   "cell_type": "markdown",
   "metadata": {},
   "source": [
    "## Enrichment"
   ]
  },
  {
   "cell_type": "markdown",
   "metadata": {},
   "source": [
    "### Create Enrichment Directory"
   ]
  },
  {
   "cell_type": "code",
   "execution_count": 5,
   "metadata": {},
   "outputs": [],
   "source": [
    "if not os.path.exists(\"../data/enriched/TororoKanunguRound2/enrichments/\"):\n",
    "    os.mkdir(\"../data/enriched/TororoKanunguRound2/enrichments/\")"
   ]
  },
  {
   "cell_type": "code",
   "execution_count": 6,
   "metadata": {},
   "outputs": [],
   "source": [
    "def run_enrichment(input_dir, z=10, c=8):\n",
    "    \n",
    "    out_name = \"{}/enrichments/z{}_c{}\".format(input_dir, z, c)\n",
    "    \n",
    "    enrichment_p = subprocess.Popen(\n",
    "        args = \" \".join([\n",
    "            \"../src/PhageLoader/bin/enrichment\",\n",
    "            \"-i {}/raw_counts.arma\".format(input_dir),\n",
    "            \"-n {}/sample_names.txt\".format(input_dir),\n",
    "            \"-p {}/peptide_names.txt\".format(input_dir),\n",
    "            \"-o {}\".format(out_name),\n",
    "            \"-z {}\".format(z),\n",
    "            \"-c {}\".format(c)\n",
    "        ]),\n",
    "        stdout = subprocess.PIPE,\n",
    "        stderr = subprocess.PIPE,\n",
    "        shell=True\n",
    "    )\n",
    "    enrichment_p.communicate()\n",
    "    print(\"wrote to : {}\".format(out_name))\n",
    "    \n",
    "def write_log(fn_outdir, fn_raw):\n",
    "    log = open(\"{}/log.txt\".format(fn_outdir), 'w+')\n",
    "    log.write(\n",
    "        \"# Enrichment Generation\\n\\nGenerated : {}\\nInput Counts : {}\\n\".format(\n",
    "            datetime.datetime.now(),\n",
    "            fn_raw\n",
    "        )\n",
    "    )"
   ]
  },
  {
   "cell_type": "markdown",
   "metadata": {},
   "source": [
    "## Run On Default Z-Threshold and C-min"
   ]
  },
  {
   "cell_type": "code",
   "execution_count": 7,
   "metadata": {},
   "outputs": [
    {
     "name": "stdout",
     "output_type": "stream",
     "text": [
      "wrote to : ../data/enriched/TororoKanunguRound2//enrichments/z10_c8\n"
     ]
    }
   ],
   "source": [
    "# Run Default \n",
    "run_enrichment(fn_outdir)"
   ]
  },
  {
   "cell_type": "markdown",
   "metadata": {},
   "source": [
    "## Run over parameter matrix"
   ]
  },
  {
   "cell_type": "code",
   "execution_count": null,
   "metadata": {},
   "outputs": [],
   "source": [
    "# Run Over Map\n",
    "for z in np.arange(1, 15):\n",
    "    for c in np.arange(1, 15):\n",
    "        run_enrichment(fn_outdir, z, c)\n",
    "        \n",
    "write_log(fn_outdir, fn_raw)"
   ]
  }
 ],
 "metadata": {
  "kernelspec": {
   "display_name": "Python 3",
   "language": "python",
   "name": "python3"
  },
  "language_info": {
   "codemirror_mode": {
    "name": "ipython",
    "version": 3
   },
   "file_extension": ".py",
   "mimetype": "text/x-python",
   "name": "python",
   "nbconvert_exporter": "python",
   "pygments_lexer": "ipython3",
   "version": "3.8.5"
  },
  "toc": {
   "base_numbering": 1,
   "nav_menu": {},
   "number_sections": true,
   "sideBar": true,
   "skip_h1_title": false,
   "title_cell": "Table of Contents",
   "title_sidebar": "Contents",
   "toc_cell": false,
   "toc_position": {
    "height": "calc(100% - 180px)",
    "left": "10px",
    "top": "150px",
    "width": "204.733px"
   },
   "toc_section_display": true,
   "toc_window_display": true
  }
 },
 "nbformat": 4,
 "nbformat_minor": 4
}
