{
 "cells": [
  {
   "cell_type": "markdown",
   "metadata": {},
   "source": [
    "# Load Modules"
   ]
  },
  {
   "cell_type": "code",
   "execution_count": 2,
   "metadata": {},
   "outputs": [
    {
     "name": "stdout",
     "output_type": "stream",
     "text": [
      "The autoreload extension is already loaded. To reload it, use:\n",
      "  %reload_ext autoreload\n"
     ]
    }
   ],
   "source": [
    "%load_ext autoreload\n",
    "%autoreload 2\n",
    "\n",
    "import numpy as np\n",
    "import pandas as pd\n",
    "import plotly\n",
    "import plotly.express as px\n",
    "import plotly.graph_objects as go\n",
    "import plotly.io as pio\n",
    "\n",
    "from plotly.subplots import make_subplots\n",
    "from multiprocessing import Pool\n",
    "from tqdm import tqdm\n",
    "import os\n",
    "\n",
    "pio.templates.default = 'plotly_white'\n",
    "pd.options.mode.chained_assignment = None"
   ]
  },
  {
   "cell_type": "markdown",
   "metadata": {},
   "source": [
    "# Define Paths"
   ]
  },
  {
   "cell_type": "code",
   "execution_count": 35,
   "metadata": {},
   "outputs": [],
   "source": [
    "# AVARDA Results Directory (from RunAVARDA)\n",
    "fn_dir = \"../results/AVARDA_z10_c8/\"\n",
    "fn_avarda = os.path.join(fn_dir, \"26-August-2020_07-51/AVARDA_nonoverlapped_cluster_counts.csv\")\n",
    "\n",
    "# cohort meta\n",
    "fn_cohort = \"../data/meta/cohort_meta/LinkedPrism1Meta.tab\"\n",
    "\n",
    "# random effects\n",
    "fn_re = \"../src/immunity/random_effects.csv\""
   ]
  },
  {
   "cell_type": "markdown",
   "metadata": {},
   "source": [
    "# Load Data"
   ]
  },
  {
   "cell_type": "markdown",
   "metadata": {},
   "source": [
    "## Cohort Meta"
   ]
  },
  {
   "cell_type": "code",
   "execution_count": 22,
   "metadata": {},
   "outputs": [
    {
     "data": {
      "text/html": [
       "<div>\n",
       "<style scoped>\n",
       "    .dataframe tbody tr th:only-of-type {\n",
       "        vertical-align: middle;\n",
       "    }\n",
       "\n",
       "    .dataframe tbody tr th {\n",
       "        vertical-align: top;\n",
       "    }\n",
       "\n",
       "    .dataframe thead th {\n",
       "        text-align: right;\n",
       "    }\n",
       "</style>\n",
       "<table border=\"1\" class=\"dataframe\">\n",
       "  <thead>\n",
       "    <tr style=\"text-align: right;\">\n",
       "      <th></th>\n",
       "      <th>Barcode</th>\n",
       "      <th>id</th>\n",
       "      <th>date</th>\n",
       "      <th>age</th>\n",
       "      <th>gender</th>\n",
       "      <th>tsi</th>\n",
       "      <th>inc_yr</th>\n",
       "      <th>patent</th>\n",
       "      <th>malariacat</th>\n",
       "      <th>agecat</th>\n",
       "      <th>siteid</th>\n",
       "      <th>inf_type</th>\n",
       "      <th>positive</th>\n",
       "    </tr>\n",
       "  </thead>\n",
       "  <tbody>\n",
       "    <tr>\n",
       "      <th>0</th>\n",
       "      <td>CK3-8DFD</td>\n",
       "      <td>2424</td>\n",
       "      <td>2014-09-25</td>\n",
       "      <td>2.391781</td>\n",
       "      <td>Female</td>\n",
       "      <td>467</td>\n",
       "      <td>0.594870</td>\n",
       "      <td>0</td>\n",
       "      <td>Blood smear negative / LAMP negative</td>\n",
       "      <td>6 months - &lt; 5 years</td>\n",
       "      <td>Kanungu</td>\n",
       "      <td>malaria</td>\n",
       "      <td>0</td>\n",
       "    </tr>\n",
       "    <tr>\n",
       "      <th>1</th>\n",
       "      <td>CK3-ESLU</td>\n",
       "      <td>2466</td>\n",
       "      <td>2016-05-02</td>\n",
       "      <td>3.452055</td>\n",
       "      <td>Female</td>\n",
       "      <td>61</td>\n",
       "      <td>0.974000</td>\n",
       "      <td>0</td>\n",
       "      <td>Blood smear negative / LAMP negative</td>\n",
       "      <td>6 months - &lt; 5 years</td>\n",
       "      <td>Kanungu</td>\n",
       "      <td>malaria</td>\n",
       "      <td>0</td>\n",
       "    </tr>\n",
       "    <tr>\n",
       "      <th>2</th>\n",
       "      <td>CK3-92DV</td>\n",
       "      <td>2110</td>\n",
       "      <td>2014-10-28</td>\n",
       "      <td>3.997260</td>\n",
       "      <td>Male</td>\n",
       "      <td>167</td>\n",
       "      <td>0.602723</td>\n",
       "      <td>0</td>\n",
       "      <td>Blood smear negative / LAMP negative</td>\n",
       "      <td>6 months - &lt; 5 years</td>\n",
       "      <td>Kanungu</td>\n",
       "      <td>malaria</td>\n",
       "      <td>0</td>\n",
       "    </tr>\n",
       "    <tr>\n",
       "      <th>3</th>\n",
       "      <td>CK3-6EZE</td>\n",
       "      <td>2302</td>\n",
       "      <td>2013-08-14</td>\n",
       "      <td>2.898630</td>\n",
       "      <td>Male</td>\n",
       "      <td>61</td>\n",
       "      <td>2.132402</td>\n",
       "      <td>0</td>\n",
       "      <td>Blood smear negative / LAMP negative</td>\n",
       "      <td>6 months - &lt; 5 years</td>\n",
       "      <td>Kanungu</td>\n",
       "      <td>malaria</td>\n",
       "      <td>0</td>\n",
       "    </tr>\n",
       "    <tr>\n",
       "      <th>4</th>\n",
       "      <td>CK3-CB2J</td>\n",
       "      <td>2419</td>\n",
       "      <td>2015-05-11</td>\n",
       "      <td>3.128767</td>\n",
       "      <td>Male</td>\n",
       "      <td>95</td>\n",
       "      <td>1.091928</td>\n",
       "      <td>0</td>\n",
       "      <td>Blood smear negative / LAMP negative</td>\n",
       "      <td>6 months - &lt; 5 years</td>\n",
       "      <td>Kanungu</td>\n",
       "      <td>malaria</td>\n",
       "      <td>0</td>\n",
       "    </tr>\n",
       "    <tr>\n",
       "      <th>...</th>\n",
       "      <td>...</td>\n",
       "      <td>...</td>\n",
       "      <td>...</td>\n",
       "      <td>...</td>\n",
       "      <td>...</td>\n",
       "      <td>...</td>\n",
       "      <td>...</td>\n",
       "      <td>...</td>\n",
       "      <td>...</td>\n",
       "      <td>...</td>\n",
       "      <td>...</td>\n",
       "      <td>...</td>\n",
       "      <td>...</td>\n",
       "    </tr>\n",
       "    <tr>\n",
       "      <th>195</th>\n",
       "      <td>CT3-55PN</td>\n",
       "      <td>3342</td>\n",
       "      <td>2012-09-10</td>\n",
       "      <td>7.019178</td>\n",
       "      <td>Male</td>\n",
       "      <td>0</td>\n",
       "      <td>1.043571</td>\n",
       "      <td>1</td>\n",
       "      <td>Blood smear positive / no malaria</td>\n",
       "      <td>5 years - &lt; 11 years</td>\n",
       "      <td>Tororo</td>\n",
       "      <td>patent</td>\n",
       "      <td>1</td>\n",
       "    </tr>\n",
       "    <tr>\n",
       "      <th>196</th>\n",
       "      <td>CT3-559K</td>\n",
       "      <td>3352</td>\n",
       "      <td>2012-09-10</td>\n",
       "      <td>6.323288</td>\n",
       "      <td>Male</td>\n",
       "      <td>0</td>\n",
       "      <td>0.573391</td>\n",
       "      <td>0</td>\n",
       "      <td>Blood smear negative / LAMP positive</td>\n",
       "      <td>5 years - &lt; 11 years</td>\n",
       "      <td>Tororo</td>\n",
       "      <td>subpatent</td>\n",
       "      <td>1</td>\n",
       "    </tr>\n",
       "    <tr>\n",
       "      <th>197</th>\n",
       "      <td>CT3-5646</td>\n",
       "      <td>3355</td>\n",
       "      <td>2012-09-10</td>\n",
       "      <td>27.950686</td>\n",
       "      <td>Female</td>\n",
       "      <td>0</td>\n",
       "      <td>1.518260</td>\n",
       "      <td>0</td>\n",
       "      <td>Blood smear negative / LAMP positive</td>\n",
       "      <td>&gt;= 18 years</td>\n",
       "      <td>Tororo</td>\n",
       "      <td>subpatent</td>\n",
       "      <td>1</td>\n",
       "    </tr>\n",
       "    <tr>\n",
       "      <th>198</th>\n",
       "      <td>CT3-54VE</td>\n",
       "      <td>3356</td>\n",
       "      <td>2012-09-10</td>\n",
       "      <td>7.361644</td>\n",
       "      <td>Male</td>\n",
       "      <td>83</td>\n",
       "      <td>3.687203</td>\n",
       "      <td>0</td>\n",
       "      <td>Blood smear negative / LAMP negative</td>\n",
       "      <td>5 years - &lt; 11 years</td>\n",
       "      <td>Tororo</td>\n",
       "      <td>malaria</td>\n",
       "      <td>0</td>\n",
       "    </tr>\n",
       "    <tr>\n",
       "      <th>199</th>\n",
       "      <td>CT3-49JZ</td>\n",
       "      <td>3363</td>\n",
       "      <td>2012-09-03</td>\n",
       "      <td>4.728767</td>\n",
       "      <td>Female</td>\n",
       "      <td>80</td>\n",
       "      <td>4.297059</td>\n",
       "      <td>0</td>\n",
       "      <td>Blood smear negative / LAMP negative</td>\n",
       "      <td>6 months - &lt; 5 years</td>\n",
       "      <td>Tororo</td>\n",
       "      <td>malaria</td>\n",
       "      <td>0</td>\n",
       "    </tr>\n",
       "  </tbody>\n",
       "</table>\n",
       "<p>200 rows × 13 columns</p>\n",
       "</div>"
      ],
      "text/plain": [
       "      Barcode    id        date        age  gender  tsi    inc_yr  patent  \\\n",
       "0    CK3-8DFD  2424  2014-09-25   2.391781  Female  467  0.594870       0   \n",
       "1    CK3-ESLU  2466  2016-05-02   3.452055  Female   61  0.974000       0   \n",
       "2    CK3-92DV  2110  2014-10-28   3.997260    Male  167  0.602723       0   \n",
       "3    CK3-6EZE  2302  2013-08-14   2.898630    Male   61  2.132402       0   \n",
       "4    CK3-CB2J  2419  2015-05-11   3.128767    Male   95  1.091928       0   \n",
       "..        ...   ...         ...        ...     ...  ...       ...     ...   \n",
       "195  CT3-55PN  3342  2012-09-10   7.019178    Male    0  1.043571       1   \n",
       "196  CT3-559K  3352  2012-09-10   6.323288    Male    0  0.573391       0   \n",
       "197  CT3-5646  3355  2012-09-10  27.950686  Female    0  1.518260       0   \n",
       "198  CT3-54VE  3356  2012-09-10   7.361644    Male   83  3.687203       0   \n",
       "199  CT3-49JZ  3363  2012-09-03   4.728767  Female   80  4.297059       0   \n",
       "\n",
       "                               malariacat                agecat   siteid  \\\n",
       "0    Blood smear negative / LAMP negative  6 months - < 5 years  Kanungu   \n",
       "1    Blood smear negative / LAMP negative  6 months - < 5 years  Kanungu   \n",
       "2    Blood smear negative / LAMP negative  6 months - < 5 years  Kanungu   \n",
       "3    Blood smear negative / LAMP negative  6 months - < 5 years  Kanungu   \n",
       "4    Blood smear negative / LAMP negative  6 months - < 5 years  Kanungu   \n",
       "..                                    ...                   ...      ...   \n",
       "195     Blood smear positive / no malaria  5 years - < 11 years   Tororo   \n",
       "196  Blood smear negative / LAMP positive  5 years - < 11 years   Tororo   \n",
       "197  Blood smear negative / LAMP positive           >= 18 years   Tororo   \n",
       "198  Blood smear negative / LAMP negative  5 years - < 11 years   Tororo   \n",
       "199  Blood smear negative / LAMP negative  6 months - < 5 years   Tororo   \n",
       "\n",
       "      inf_type  positive  \n",
       "0      malaria         0  \n",
       "1      malaria         0  \n",
       "2      malaria         0  \n",
       "3      malaria         0  \n",
       "4      malaria         0  \n",
       "..         ...       ...  \n",
       "195     patent         1  \n",
       "196  subpatent         1  \n",
       "197  subpatent         1  \n",
       "198    malaria         0  \n",
       "199    malaria         0  \n",
       "\n",
       "[200 rows x 13 columns]"
      ]
     },
     "execution_count": 22,
     "metadata": {},
     "output_type": "execute_result"
    }
   ],
   "source": [
    "cohort_meta = pd.read_csv(\n",
    "    fn_cohort, sep=\"\\t\"\n",
    ")\n",
    "cohort_meta"
   ]
  },
  {
   "cell_type": "markdown",
   "metadata": {},
   "source": [
    "## AB Breadth"
   ]
  },
  {
   "cell_type": "code",
   "execution_count": 24,
   "metadata": {},
   "outputs": [],
   "source": [
    "av_frame = pd.read_csv(\n",
    "    fn_avarda, header=None, \n",
    "    names = ['Barcode', 'NumHits', \"Breadth\"]\n",
    ")"
   ]
  },
  {
   "cell_type": "markdown",
   "metadata": {},
   "source": [
    "## Immunity Random Effects"
   ]
  },
  {
   "cell_type": "code",
   "execution_count": 58,
   "metadata": {},
   "outputs": [
    {
     "data": {
      "text/html": [
       "<div>\n",
       "<style scoped>\n",
       "    .dataframe tbody tr th:only-of-type {\n",
       "        vertical-align: middle;\n",
       "    }\n",
       "\n",
       "    .dataframe tbody tr th {\n",
       "        vertical-align: top;\n",
       "    }\n",
       "\n",
       "    .dataframe thead th {\n",
       "        text-align: right;\n",
       "    }\n",
       "</style>\n",
       "<table border=\"1\" class=\"dataframe\">\n",
       "  <thead>\n",
       "    <tr style=\"text-align: right;\">\n",
       "      <th></th>\n",
       "      <th>id</th>\n",
       "      <th>antidisease_re</th>\n",
       "      <th>antimalaria_re</th>\n",
       "      <th>antiparasite_re</th>\n",
       "      <th>eir_geom3</th>\n",
       "    </tr>\n",
       "  </thead>\n",
       "  <tbody>\n",
       "    <tr>\n",
       "      <th>0</th>\n",
       "      <td>1006</td>\n",
       "      <td>-0.058891</td>\n",
       "      <td>-0.504627</td>\n",
       "      <td>0.075845</td>\n",
       "      <td>1.761222</td>\n",
       "    </tr>\n",
       "    <tr>\n",
       "      <th>2</th>\n",
       "      <td>1007</td>\n",
       "      <td>0.051929</td>\n",
       "      <td>0.451152</td>\n",
       "      <td>0.025785</td>\n",
       "      <td>1.761222</td>\n",
       "    </tr>\n",
       "    <tr>\n",
       "      <th>5</th>\n",
       "      <td>1011</td>\n",
       "      <td>-0.061241</td>\n",
       "      <td>0.003746</td>\n",
       "      <td>-0.119928</td>\n",
       "      <td>2.023615</td>\n",
       "    </tr>\n",
       "    <tr>\n",
       "      <th>8</th>\n",
       "      <td>1015</td>\n",
       "      <td>-0.059114</td>\n",
       "      <td>-0.064430</td>\n",
       "      <td>0.026648</td>\n",
       "      <td>1.881411</td>\n",
       "    </tr>\n",
       "    <tr>\n",
       "      <th>10</th>\n",
       "      <td>1019</td>\n",
       "      <td>-0.005443</td>\n",
       "      <td>0.064916</td>\n",
       "      <td>0.156829</td>\n",
       "      <td>3.029007</td>\n",
       "    </tr>\n",
       "    <tr>\n",
       "      <th>...</th>\n",
       "      <td>...</td>\n",
       "      <td>...</td>\n",
       "      <td>...</td>\n",
       "      <td>...</td>\n",
       "      <td>...</td>\n",
       "    </tr>\n",
       "    <tr>\n",
       "      <th>5632</th>\n",
       "      <td>3448</td>\n",
       "      <td>-0.040425</td>\n",
       "      <td>0.071614</td>\n",
       "      <td>-0.295772</td>\n",
       "      <td>129.909529</td>\n",
       "    </tr>\n",
       "    <tr>\n",
       "      <th>5633</th>\n",
       "      <td>3449</td>\n",
       "      <td>0.041075</td>\n",
       "      <td>-0.084333</td>\n",
       "      <td>-0.290134</td>\n",
       "      <td>19.130896</td>\n",
       "    </tr>\n",
       "    <tr>\n",
       "      <th>5635</th>\n",
       "      <td>3450</td>\n",
       "      <td>-0.047503</td>\n",
       "      <td>-0.350492</td>\n",
       "      <td>-0.039380</td>\n",
       "      <td>19.130896</td>\n",
       "    </tr>\n",
       "    <tr>\n",
       "      <th>5637</th>\n",
       "      <td>3451</td>\n",
       "      <td>-0.002361</td>\n",
       "      <td>-0.580846</td>\n",
       "      <td>-0.326088</td>\n",
       "      <td>19.130896</td>\n",
       "    </tr>\n",
       "    <tr>\n",
       "      <th>5639</th>\n",
       "      <td>3452</td>\n",
       "      <td>-0.012268</td>\n",
       "      <td>-0.474592</td>\n",
       "      <td>-0.087111</td>\n",
       "      <td>162.201133</td>\n",
       "    </tr>\n",
       "  </tbody>\n",
       "</table>\n",
       "<p>773 rows × 5 columns</p>\n",
       "</div>"
      ],
      "text/plain": [
       "        id  antidisease_re  antimalaria_re  antiparasite_re   eir_geom3\n",
       "0     1006       -0.058891       -0.504627         0.075845    1.761222\n",
       "2     1007        0.051929        0.451152         0.025785    1.761222\n",
       "5     1011       -0.061241        0.003746        -0.119928    2.023615\n",
       "8     1015       -0.059114       -0.064430         0.026648    1.881411\n",
       "10    1019       -0.005443        0.064916         0.156829    3.029007\n",
       "...    ...             ...             ...              ...         ...\n",
       "5632  3448       -0.040425        0.071614        -0.295772  129.909529\n",
       "5633  3449        0.041075       -0.084333        -0.290134   19.130896\n",
       "5635  3450       -0.047503       -0.350492        -0.039380   19.130896\n",
       "5637  3451       -0.002361       -0.580846        -0.326088   19.130896\n",
       "5639  3452       -0.012268       -0.474592        -0.087111  162.201133\n",
       "\n",
       "[773 rows x 5 columns]"
      ]
     },
     "execution_count": 58,
     "metadata": {},
     "output_type": "execute_result"
    }
   ],
   "source": [
    "re_frame = pd.read_csv(\n",
    "    fn_re\n",
    ")\n",
    "re_frame.rename(columns = {'uid_f' : 'id'}, inplace=True)\n",
    "re_frame = re_frame[\n",
    "    ['id', 'antidisease_re', 'antimalaria_re', 'antiparasite_re', 'eir_geom3']\n",
    "].drop_duplicates()\n",
    "re_frame"
   ]
  },
  {
   "cell_type": "markdown",
   "metadata": {},
   "source": [
    "## Merge DataFrames"
   ]
  },
  {
   "cell_type": "code",
   "execution_count": 59,
   "metadata": {},
   "outputs": [
    {
     "data": {
      "text/html": [
       "<div>\n",
       "<style scoped>\n",
       "    .dataframe tbody tr th:only-of-type {\n",
       "        vertical-align: middle;\n",
       "    }\n",
       "\n",
       "    .dataframe tbody tr th {\n",
       "        vertical-align: top;\n",
       "    }\n",
       "\n",
       "    .dataframe thead th {\n",
       "        text-align: right;\n",
       "    }\n",
       "</style>\n",
       "<table border=\"1\" class=\"dataframe\">\n",
       "  <thead>\n",
       "    <tr style=\"text-align: right;\">\n",
       "      <th></th>\n",
       "      <th>Barcode</th>\n",
       "      <th>NumHits</th>\n",
       "      <th>Breadth</th>\n",
       "      <th>id</th>\n",
       "      <th>date</th>\n",
       "      <th>age</th>\n",
       "      <th>gender</th>\n",
       "      <th>tsi</th>\n",
       "      <th>inc_yr</th>\n",
       "      <th>patent</th>\n",
       "      <th>malariacat</th>\n",
       "      <th>agecat</th>\n",
       "      <th>siteid</th>\n",
       "      <th>inf_type</th>\n",
       "      <th>positive</th>\n",
       "      <th>antidisease_re</th>\n",
       "      <th>antimalaria_re</th>\n",
       "      <th>antiparasite_re</th>\n",
       "      <th>eir_geom3</th>\n",
       "    </tr>\n",
       "  </thead>\n",
       "  <tbody>\n",
       "    <tr>\n",
       "      <th>0</th>\n",
       "      <td>CT3-3MMT</td>\n",
       "      <td>470</td>\n",
       "      <td>66</td>\n",
       "      <td>3030</td>\n",
       "      <td>2012-08-21</td>\n",
       "      <td>10.191781</td>\n",
       "      <td>Male</td>\n",
       "      <td>45</td>\n",
       "      <td>2.289969</td>\n",
       "      <td>0</td>\n",
       "      <td>Blood smear negative / LAMP negative</td>\n",
       "      <td>5 years - &lt; 11 years</td>\n",
       "      <td>Tororo</td>\n",
       "      <td>patent</td>\n",
       "      <td>0</td>\n",
       "      <td>0.161190</td>\n",
       "      <td>-0.291768</td>\n",
       "      <td>-0.189064</td>\n",
       "      <td>49.350493</td>\n",
       "    </tr>\n",
       "    <tr>\n",
       "      <th>1</th>\n",
       "      <td>CT3-3MXN</td>\n",
       "      <td>511</td>\n",
       "      <td>94</td>\n",
       "      <td>3033</td>\n",
       "      <td>2012-08-21</td>\n",
       "      <td>3.243836</td>\n",
       "      <td>Male</td>\n",
       "      <td>0</td>\n",
       "      <td>4.328584</td>\n",
       "      <td>1</td>\n",
       "      <td>Symptomatic malaria</td>\n",
       "      <td>6 months - &lt; 5 years</td>\n",
       "      <td>Tororo</td>\n",
       "      <td>malaria</td>\n",
       "      <td>1</td>\n",
       "      <td>-0.144957</td>\n",
       "      <td>-0.013771</td>\n",
       "      <td>-0.223846</td>\n",
       "      <td>49.350493</td>\n",
       "    </tr>\n",
       "    <tr>\n",
       "      <th>2</th>\n",
       "      <td>CT3-3NJM</td>\n",
       "      <td>557</td>\n",
       "      <td>114</td>\n",
       "      <td>3035</td>\n",
       "      <td>2012-08-21</td>\n",
       "      <td>9.019178</td>\n",
       "      <td>Male</td>\n",
       "      <td>45</td>\n",
       "      <td>3.652500</td>\n",
       "      <td>0</td>\n",
       "      <td>Blood smear negative / LAMP negative</td>\n",
       "      <td>5 years - &lt; 11 years</td>\n",
       "      <td>Tororo</td>\n",
       "      <td>subpatent</td>\n",
       "      <td>0</td>\n",
       "      <td>-0.061873</td>\n",
       "      <td>-0.016523</td>\n",
       "      <td>-0.171801</td>\n",
       "      <td>15.067760</td>\n",
       "    </tr>\n",
       "    <tr>\n",
       "      <th>3</th>\n",
       "      <td>CT3-47EL</td>\n",
       "      <td>186</td>\n",
       "      <td>47</td>\n",
       "      <td>3076</td>\n",
       "      <td>2012-08-22</td>\n",
       "      <td>9.816439</td>\n",
       "      <td>Female</td>\n",
       "      <td>46</td>\n",
       "      <td>4.019257</td>\n",
       "      <td>0</td>\n",
       "      <td>Blood smear negative / LAMP negative</td>\n",
       "      <td>5 years - &lt; 11 years</td>\n",
       "      <td>Tororo</td>\n",
       "      <td>subpatent</td>\n",
       "      <td>0</td>\n",
       "      <td>0.006699</td>\n",
       "      <td>0.666147</td>\n",
       "      <td>-0.081461</td>\n",
       "      <td>31.960381</td>\n",
       "    </tr>\n",
       "    <tr>\n",
       "      <th>4</th>\n",
       "      <td>CT3-47N4</td>\n",
       "      <td>348</td>\n",
       "      <td>78</td>\n",
       "      <td>3038</td>\n",
       "      <td>2012-08-22</td>\n",
       "      <td>6.509589</td>\n",
       "      <td>Male</td>\n",
       "      <td>46</td>\n",
       "      <td>2.716390</td>\n",
       "      <td>0</td>\n",
       "      <td>Blood smear negative / LAMP negative</td>\n",
       "      <td>5 years - &lt; 11 years</td>\n",
       "      <td>Tororo</td>\n",
       "      <td>subpatent</td>\n",
       "      <td>0</td>\n",
       "      <td>0.055309</td>\n",
       "      <td>-0.210962</td>\n",
       "      <td>0.006832</td>\n",
       "      <td>36.726134</td>\n",
       "    </tr>\n",
       "    <tr>\n",
       "      <th>...</th>\n",
       "      <td>...</td>\n",
       "      <td>...</td>\n",
       "      <td>...</td>\n",
       "      <td>...</td>\n",
       "      <td>...</td>\n",
       "      <td>...</td>\n",
       "      <td>...</td>\n",
       "      <td>...</td>\n",
       "      <td>...</td>\n",
       "      <td>...</td>\n",
       "      <td>...</td>\n",
       "      <td>...</td>\n",
       "      <td>...</td>\n",
       "      <td>...</td>\n",
       "      <td>...</td>\n",
       "      <td>...</td>\n",
       "      <td>...</td>\n",
       "      <td>...</td>\n",
       "      <td>...</td>\n",
       "    </tr>\n",
       "    <tr>\n",
       "      <th>127</th>\n",
       "      <td>CT3-58H5</td>\n",
       "      <td>579</td>\n",
       "      <td>81</td>\n",
       "      <td>3233</td>\n",
       "      <td>2012-09-04</td>\n",
       "      <td>7.468493</td>\n",
       "      <td>Male</td>\n",
       "      <td>0</td>\n",
       "      <td>0.800987</td>\n",
       "      <td>0</td>\n",
       "      <td>Blood smear negative / LAMP positive</td>\n",
       "      <td>5 years - &lt; 11 years</td>\n",
       "      <td>Tororo</td>\n",
       "      <td>subpatent</td>\n",
       "      <td>1</td>\n",
       "      <td>-0.016399</td>\n",
       "      <td>-0.195580</td>\n",
       "      <td>-0.038694</td>\n",
       "      <td>180.993691</td>\n",
       "    </tr>\n",
       "    <tr>\n",
       "      <th>128</th>\n",
       "      <td>CT3-59UV</td>\n",
       "      <td>296</td>\n",
       "      <td>60</td>\n",
       "      <td>3137</td>\n",
       "      <td>2012-08-27</td>\n",
       "      <td>5.241096</td>\n",
       "      <td>Female</td>\n",
       "      <td>0</td>\n",
       "      <td>2.408242</td>\n",
       "      <td>1</td>\n",
       "      <td>Blood smear positive / no malaria</td>\n",
       "      <td>5 years - &lt; 11 years</td>\n",
       "      <td>Tororo</td>\n",
       "      <td>patent</td>\n",
       "      <td>1</td>\n",
       "      <td>-0.078050</td>\n",
       "      <td>-0.320054</td>\n",
       "      <td>-0.234903</td>\n",
       "      <td>92.087564</td>\n",
       "    </tr>\n",
       "    <tr>\n",
       "      <th>129</th>\n",
       "      <td>CT3-5A9T</td>\n",
       "      <td>154</td>\n",
       "      <td>39</td>\n",
       "      <td>3138</td>\n",
       "      <td>2012-08-27</td>\n",
       "      <td>2.827397</td>\n",
       "      <td>Female</td>\n",
       "      <td>0</td>\n",
       "      <td>3.210989</td>\n",
       "      <td>0</td>\n",
       "      <td>Blood smear negative / LAMP positive</td>\n",
       "      <td>6 months - &lt; 5 years</td>\n",
       "      <td>Tororo</td>\n",
       "      <td>subpatent</td>\n",
       "      <td>1</td>\n",
       "      <td>0.063335</td>\n",
       "      <td>0.110423</td>\n",
       "      <td>0.127191</td>\n",
       "      <td>92.087564</td>\n",
       "    </tr>\n",
       "    <tr>\n",
       "      <th>130</th>\n",
       "      <td>CK3-APTQ</td>\n",
       "      <td>15</td>\n",
       "      <td>14</td>\n",
       "      <td>2359</td>\n",
       "      <td>2015-02-17</td>\n",
       "      <td>4.265753</td>\n",
       "      <td>Male</td>\n",
       "      <td>0</td>\n",
       "      <td>1.216486</td>\n",
       "      <td>0</td>\n",
       "      <td>Blood smear negative / LAMP positive</td>\n",
       "      <td>6 months - &lt; 5 years</td>\n",
       "      <td>Kanungu</td>\n",
       "      <td>subpatent</td>\n",
       "      <td>1</td>\n",
       "      <td>-0.034217</td>\n",
       "      <td>-0.169394</td>\n",
       "      <td>-0.188437</td>\n",
       "      <td>10.012314</td>\n",
       "    </tr>\n",
       "    <tr>\n",
       "      <th>131</th>\n",
       "      <td>CK3-B2VK</td>\n",
       "      <td>48</td>\n",
       "      <td>27</td>\n",
       "      <td>2426</td>\n",
       "      <td>2015-01-19</td>\n",
       "      <td>5.600000</td>\n",
       "      <td>Female</td>\n",
       "      <td>349</td>\n",
       "      <td>0.691761</td>\n",
       "      <td>0</td>\n",
       "      <td>Blood smear negative / LAMP negative</td>\n",
       "      <td>5 years - &lt; 11 years</td>\n",
       "      <td>Kanungu</td>\n",
       "      <td>malaria</td>\n",
       "      <td>0</td>\n",
       "      <td>-0.059231</td>\n",
       "      <td>0.118074</td>\n",
       "      <td>-0.128609</td>\n",
       "      <td>3.867254</td>\n",
       "    </tr>\n",
       "  </tbody>\n",
       "</table>\n",
       "<p>132 rows × 19 columns</p>\n",
       "</div>"
      ],
      "text/plain": [
       "      Barcode  NumHits  Breadth    id        date        age  gender  tsi  \\\n",
       "0    CT3-3MMT      470       66  3030  2012-08-21  10.191781    Male   45   \n",
       "1    CT3-3MXN      511       94  3033  2012-08-21   3.243836    Male    0   \n",
       "2    CT3-3NJM      557      114  3035  2012-08-21   9.019178    Male   45   \n",
       "3    CT3-47EL      186       47  3076  2012-08-22   9.816439  Female   46   \n",
       "4    CT3-47N4      348       78  3038  2012-08-22   6.509589    Male   46   \n",
       "..        ...      ...      ...   ...         ...        ...     ...  ...   \n",
       "127  CT3-58H5      579       81  3233  2012-09-04   7.468493    Male    0   \n",
       "128  CT3-59UV      296       60  3137  2012-08-27   5.241096  Female    0   \n",
       "129  CT3-5A9T      154       39  3138  2012-08-27   2.827397  Female    0   \n",
       "130  CK3-APTQ       15       14  2359  2015-02-17   4.265753    Male    0   \n",
       "131  CK3-B2VK       48       27  2426  2015-01-19   5.600000  Female  349   \n",
       "\n",
       "       inc_yr  patent                            malariacat  \\\n",
       "0    2.289969       0  Blood smear negative / LAMP negative   \n",
       "1    4.328584       1                   Symptomatic malaria   \n",
       "2    3.652500       0  Blood smear negative / LAMP negative   \n",
       "3    4.019257       0  Blood smear negative / LAMP negative   \n",
       "4    2.716390       0  Blood smear negative / LAMP negative   \n",
       "..        ...     ...                                   ...   \n",
       "127  0.800987       0  Blood smear negative / LAMP positive   \n",
       "128  2.408242       1     Blood smear positive / no malaria   \n",
       "129  3.210989       0  Blood smear negative / LAMP positive   \n",
       "130  1.216486       0  Blood smear negative / LAMP positive   \n",
       "131  0.691761       0  Blood smear negative / LAMP negative   \n",
       "\n",
       "                   agecat   siteid   inf_type  positive  antidisease_re  \\\n",
       "0    5 years - < 11 years   Tororo     patent         0        0.161190   \n",
       "1    6 months - < 5 years   Tororo    malaria         1       -0.144957   \n",
       "2    5 years - < 11 years   Tororo  subpatent         0       -0.061873   \n",
       "3    5 years - < 11 years   Tororo  subpatent         0        0.006699   \n",
       "4    5 years - < 11 years   Tororo  subpatent         0        0.055309   \n",
       "..                    ...      ...        ...       ...             ...   \n",
       "127  5 years - < 11 years   Tororo  subpatent         1       -0.016399   \n",
       "128  5 years - < 11 years   Tororo     patent         1       -0.078050   \n",
       "129  6 months - < 5 years   Tororo  subpatent         1        0.063335   \n",
       "130  6 months - < 5 years  Kanungu  subpatent         1       -0.034217   \n",
       "131  5 years - < 11 years  Kanungu    malaria         0       -0.059231   \n",
       "\n",
       "     antimalaria_re  antiparasite_re   eir_geom3  \n",
       "0         -0.291768        -0.189064   49.350493  \n",
       "1         -0.013771        -0.223846   49.350493  \n",
       "2         -0.016523        -0.171801   15.067760  \n",
       "3          0.666147        -0.081461   31.960381  \n",
       "4         -0.210962         0.006832   36.726134  \n",
       "..              ...              ...         ...  \n",
       "127       -0.195580        -0.038694  180.993691  \n",
       "128       -0.320054        -0.234903   92.087564  \n",
       "129        0.110423         0.127191   92.087564  \n",
       "130       -0.169394        -0.188437   10.012314  \n",
       "131        0.118074        -0.128609    3.867254  \n",
       "\n",
       "[132 rows x 19 columns]"
      ]
     },
     "execution_count": 59,
     "metadata": {},
     "output_type": "execute_result"
    }
   ],
   "source": [
    "frame = pd.merge(av_frame, cohort_meta, how = 'inner').\\\n",
    "    merge(re_frame, how = 'inner')\n",
    "frame"
   ]
  },
  {
   "cell_type": "markdown",
   "metadata": {},
   "source": [
    "# Plot Antibody Breadth"
   ]
  },
  {
   "cell_type": "markdown",
   "metadata": {},
   "source": [
    "## Correlation with Number of Enriched Peptides"
   ]
  },
  {
   "cell_type": "code",
   "execution_count": 60,
   "metadata": {
    "scrolled": false
   },
   "outputs": [
    {
     "data": {
      "application/vnd.plotly.v1+json": {
       "config": {
        "plotlyServerURL": "https://plot.ly"
       },
       "data": [
        {
         "hovertemplate": "siteid=Tororo<br>NumHits=%{x}<br>Breadth=%{y}<extra></extra>",
         "legendgroup": "Tororo",
         "marker": {
          "color": "#636efa",
          "symbol": "circle"
         },
         "mode": "markers",
         "name": "Tororo",
         "orientation": "v",
         "showlegend": true,
         "type": "scatter",
         "x": [
          470,
          511,
          557,
          186,
          348,
          403,
          67,
          521,
          360,
          806,
          529,
          731,
          367,
          221,
          642,
          272,
          305,
          134,
          207,
          210,
          485,
          82,
          234,
          198,
          332,
          346,
          300,
          380,
          59,
          528,
          640,
          183,
          358,
          397,
          278,
          286,
          510,
          472,
          252,
          240,
          161,
          445,
          322,
          276,
          296,
          130,
          219,
          611,
          297,
          401,
          181,
          445,
          295,
          535,
          95,
          343,
          257,
          304,
          169,
          598,
          460,
          356,
          220,
          170,
          278,
          579,
          296,
          154
         ],
         "xaxis": "x",
         "y": [
          66,
          94,
          114,
          47,
          78,
          53,
          24,
          87,
          86,
          105,
          45,
          72,
          98,
          70,
          88,
          34,
          56,
          68,
          50,
          37,
          58,
          39,
          42,
          66,
          80,
          61,
          79,
          81,
          33,
          83,
          80,
          39,
          80,
          74,
          61,
          69,
          59,
          115,
          55,
          57,
          49,
          106,
          84,
          50,
          76,
          41,
          69,
          57,
          58,
          88,
          34,
          92,
          46,
          96,
          31,
          96,
          61,
          87,
          35,
          45,
          86,
          67,
          74,
          61,
          69,
          81,
          60,
          39
         ],
         "yaxis": "y"
        },
        {
         "alignmentgroup": "True",
         "hovertemplate": "siteid=Tororo<br>NumHits=%{x}<extra></extra>",
         "legendgroup": "Tororo",
         "marker": {
          "color": "#636efa",
          "symbol": "circle"
         },
         "name": "Tororo",
         "notched": true,
         "offsetgroup": "Tororo",
         "showlegend": false,
         "type": "box",
         "x": [
          470,
          511,
          557,
          186,
          348,
          403,
          67,
          521,
          360,
          806,
          529,
          731,
          367,
          221,
          642,
          272,
          305,
          134,
          207,
          210,
          485,
          82,
          234,
          198,
          332,
          346,
          300,
          380,
          59,
          528,
          640,
          183,
          358,
          397,
          278,
          286,
          510,
          472,
          252,
          240,
          161,
          445,
          322,
          276,
          296,
          130,
          219,
          611,
          297,
          401,
          181,
          445,
          295,
          535,
          95,
          343,
          257,
          304,
          169,
          598,
          460,
          356,
          220,
          170,
          278,
          579,
          296,
          154
         ],
         "xaxis": "x3",
         "yaxis": "y3"
        },
        {
         "alignmentgroup": "True",
         "hovertemplate": "siteid=Tororo<br>Breadth=%{y}<extra></extra>",
         "legendgroup": "Tororo",
         "marker": {
          "color": "#636efa",
          "symbol": "circle"
         },
         "name": "Tororo",
         "notched": true,
         "offsetgroup": "Tororo",
         "showlegend": false,
         "type": "box",
         "xaxis": "x2",
         "y": [
          66,
          94,
          114,
          47,
          78,
          53,
          24,
          87,
          86,
          105,
          45,
          72,
          98,
          70,
          88,
          34,
          56,
          68,
          50,
          37,
          58,
          39,
          42,
          66,
          80,
          61,
          79,
          81,
          33,
          83,
          80,
          39,
          80,
          74,
          61,
          69,
          59,
          115,
          55,
          57,
          49,
          106,
          84,
          50,
          76,
          41,
          69,
          57,
          58,
          88,
          34,
          92,
          46,
          96,
          31,
          96,
          61,
          87,
          35,
          45,
          86,
          67,
          74,
          61,
          69,
          81,
          60,
          39
         ],
         "yaxis": "y2"
        },
        {
         "hovertemplate": "siteid=Kanungu<br>NumHits=%{x}<br>Breadth=%{y}<extra></extra>",
         "legendgroup": "Kanungu",
         "marker": {
          "color": "#EF553B",
          "symbol": "circle"
         },
         "mode": "markers",
         "name": "Kanungu",
         "orientation": "v",
         "showlegend": true,
         "type": "scatter",
         "x": [
          137,
          40,
          118,
          21,
          40,
          293,
          103,
          88,
          36,
          153,
          19,
          6,
          111,
          285,
          5,
          215,
          71,
          69,
          79,
          104,
          10,
          158,
          26,
          31,
          80,
          179,
          481,
          99,
          8,
          41,
          299,
          107,
          125,
          32,
          159,
          85,
          84,
          79,
          26,
          230,
          260,
          203,
          85,
          312,
          424,
          111,
          152,
          111,
          593,
          405,
          819,
          191,
          86,
          125,
          160,
          43,
          260,
          158,
          59,
          160,
          178,
          76,
          15,
          48
         ],
         "xaxis": "x",
         "y": [
          28,
          12,
          27,
          14,
          15,
          40,
          27,
          36,
          18,
          35,
          13,
          6,
          29,
          75,
          5,
          52,
          26,
          20,
          22,
          20,
          8,
          34,
          9,
          18,
          25,
          38,
          39,
          16,
          7,
          15,
          57,
          33,
          20,
          19,
          49,
          22,
          22,
          33,
          13,
          50,
          50,
          41,
          31,
          87,
          100,
          36,
          49,
          35,
          97,
          88,
          88,
          52,
          33,
          18,
          48,
          20,
          78,
          48,
          22,
          43,
          30,
          34,
          14,
          27
         ],
         "yaxis": "y"
        },
        {
         "alignmentgroup": "True",
         "hovertemplate": "siteid=Kanungu<br>NumHits=%{x}<extra></extra>",
         "legendgroup": "Kanungu",
         "marker": {
          "color": "#EF553B",
          "symbol": "circle"
         },
         "name": "Kanungu",
         "notched": true,
         "offsetgroup": "Kanungu",
         "showlegend": false,
         "type": "box",
         "x": [
          137,
          40,
          118,
          21,
          40,
          293,
          103,
          88,
          36,
          153,
          19,
          6,
          111,
          285,
          5,
          215,
          71,
          69,
          79,
          104,
          10,
          158,
          26,
          31,
          80,
          179,
          481,
          99,
          8,
          41,
          299,
          107,
          125,
          32,
          159,
          85,
          84,
          79,
          26,
          230,
          260,
          203,
          85,
          312,
          424,
          111,
          152,
          111,
          593,
          405,
          819,
          191,
          86,
          125,
          160,
          43,
          260,
          158,
          59,
          160,
          178,
          76,
          15,
          48
         ],
         "xaxis": "x3",
         "yaxis": "y3"
        },
        {
         "alignmentgroup": "True",
         "hovertemplate": "siteid=Kanungu<br>Breadth=%{y}<extra></extra>",
         "legendgroup": "Kanungu",
         "marker": {
          "color": "#EF553B",
          "symbol": "circle"
         },
         "name": "Kanungu",
         "notched": true,
         "offsetgroup": "Kanungu",
         "showlegend": false,
         "type": "box",
         "xaxis": "x2",
         "y": [
          28,
          12,
          27,
          14,
          15,
          40,
          27,
          36,
          18,
          35,
          13,
          6,
          29,
          75,
          5,
          52,
          26,
          20,
          22,
          20,
          8,
          34,
          9,
          18,
          25,
          38,
          39,
          16,
          7,
          15,
          57,
          33,
          20,
          19,
          49,
          22,
          22,
          33,
          13,
          50,
          50,
          41,
          31,
          87,
          100,
          36,
          49,
          35,
          97,
          88,
          88,
          52,
          33,
          18,
          48,
          20,
          78,
          48,
          22,
          43,
          30,
          34,
          14,
          27
         ],
         "yaxis": "y2"
        }
       ],
       "layout": {
        "legend": {
         "title": {
          "text": "siteid"
         },
         "tracegroupgap": 0
        },
        "margin": {
         "t": 60
        },
        "template": {
         "data": {
          "bar": [
           {
            "error_x": {
             "color": "#2a3f5f"
            },
            "error_y": {
             "color": "#2a3f5f"
            },
            "marker": {
             "line": {
              "color": "white",
              "width": 0.5
             }
            },
            "type": "bar"
           }
          ],
          "barpolar": [
           {
            "marker": {
             "line": {
              "color": "white",
              "width": 0.5
             }
            },
            "type": "barpolar"
           }
          ],
          "carpet": [
           {
            "aaxis": {
             "endlinecolor": "#2a3f5f",
             "gridcolor": "#C8D4E3",
             "linecolor": "#C8D4E3",
             "minorgridcolor": "#C8D4E3",
             "startlinecolor": "#2a3f5f"
            },
            "baxis": {
             "endlinecolor": "#2a3f5f",
             "gridcolor": "#C8D4E3",
             "linecolor": "#C8D4E3",
             "minorgridcolor": "#C8D4E3",
             "startlinecolor": "#2a3f5f"
            },
            "type": "carpet"
           }
          ],
          "choropleth": [
           {
            "colorbar": {
             "outlinewidth": 0,
             "ticks": ""
            },
            "type": "choropleth"
           }
          ],
          "contour": [
           {
            "colorbar": {
             "outlinewidth": 0,
             "ticks": ""
            },
            "colorscale": [
             [
              0,
              "#0d0887"
             ],
             [
              0.1111111111111111,
              "#46039f"
             ],
             [
              0.2222222222222222,
              "#7201a8"
             ],
             [
              0.3333333333333333,
              "#9c179e"
             ],
             [
              0.4444444444444444,
              "#bd3786"
             ],
             [
              0.5555555555555556,
              "#d8576b"
             ],
             [
              0.6666666666666666,
              "#ed7953"
             ],
             [
              0.7777777777777778,
              "#fb9f3a"
             ],
             [
              0.8888888888888888,
              "#fdca26"
             ],
             [
              1,
              "#f0f921"
             ]
            ],
            "type": "contour"
           }
          ],
          "contourcarpet": [
           {
            "colorbar": {
             "outlinewidth": 0,
             "ticks": ""
            },
            "type": "contourcarpet"
           }
          ],
          "heatmap": [
           {
            "colorbar": {
             "outlinewidth": 0,
             "ticks": ""
            },
            "colorscale": [
             [
              0,
              "#0d0887"
             ],
             [
              0.1111111111111111,
              "#46039f"
             ],
             [
              0.2222222222222222,
              "#7201a8"
             ],
             [
              0.3333333333333333,
              "#9c179e"
             ],
             [
              0.4444444444444444,
              "#bd3786"
             ],
             [
              0.5555555555555556,
              "#d8576b"
             ],
             [
              0.6666666666666666,
              "#ed7953"
             ],
             [
              0.7777777777777778,
              "#fb9f3a"
             ],
             [
              0.8888888888888888,
              "#fdca26"
             ],
             [
              1,
              "#f0f921"
             ]
            ],
            "type": "heatmap"
           }
          ],
          "heatmapgl": [
           {
            "colorbar": {
             "outlinewidth": 0,
             "ticks": ""
            },
            "colorscale": [
             [
              0,
              "#0d0887"
             ],
             [
              0.1111111111111111,
              "#46039f"
             ],
             [
              0.2222222222222222,
              "#7201a8"
             ],
             [
              0.3333333333333333,
              "#9c179e"
             ],
             [
              0.4444444444444444,
              "#bd3786"
             ],
             [
              0.5555555555555556,
              "#d8576b"
             ],
             [
              0.6666666666666666,
              "#ed7953"
             ],
             [
              0.7777777777777778,
              "#fb9f3a"
             ],
             [
              0.8888888888888888,
              "#fdca26"
             ],
             [
              1,
              "#f0f921"
             ]
            ],
            "type": "heatmapgl"
           }
          ],
          "histogram": [
           {
            "marker": {
             "colorbar": {
              "outlinewidth": 0,
              "ticks": ""
             }
            },
            "type": "histogram"
           }
          ],
          "histogram2d": [
           {
            "colorbar": {
             "outlinewidth": 0,
             "ticks": ""
            },
            "colorscale": [
             [
              0,
              "#0d0887"
             ],
             [
              0.1111111111111111,
              "#46039f"
             ],
             [
              0.2222222222222222,
              "#7201a8"
             ],
             [
              0.3333333333333333,
              "#9c179e"
             ],
             [
              0.4444444444444444,
              "#bd3786"
             ],
             [
              0.5555555555555556,
              "#d8576b"
             ],
             [
              0.6666666666666666,
              "#ed7953"
             ],
             [
              0.7777777777777778,
              "#fb9f3a"
             ],
             [
              0.8888888888888888,
              "#fdca26"
             ],
             [
              1,
              "#f0f921"
             ]
            ],
            "type": "histogram2d"
           }
          ],
          "histogram2dcontour": [
           {
            "colorbar": {
             "outlinewidth": 0,
             "ticks": ""
            },
            "colorscale": [
             [
              0,
              "#0d0887"
             ],
             [
              0.1111111111111111,
              "#46039f"
             ],
             [
              0.2222222222222222,
              "#7201a8"
             ],
             [
              0.3333333333333333,
              "#9c179e"
             ],
             [
              0.4444444444444444,
              "#bd3786"
             ],
             [
              0.5555555555555556,
              "#d8576b"
             ],
             [
              0.6666666666666666,
              "#ed7953"
             ],
             [
              0.7777777777777778,
              "#fb9f3a"
             ],
             [
              0.8888888888888888,
              "#fdca26"
             ],
             [
              1,
              "#f0f921"
             ]
            ],
            "type": "histogram2dcontour"
           }
          ],
          "mesh3d": [
           {
            "colorbar": {
             "outlinewidth": 0,
             "ticks": ""
            },
            "type": "mesh3d"
           }
          ],
          "parcoords": [
           {
            "line": {
             "colorbar": {
              "outlinewidth": 0,
              "ticks": ""
             }
            },
            "type": "parcoords"
           }
          ],
          "pie": [
           {
            "automargin": true,
            "type": "pie"
           }
          ],
          "scatter": [
           {
            "marker": {
             "colorbar": {
              "outlinewidth": 0,
              "ticks": ""
             }
            },
            "type": "scatter"
           }
          ],
          "scatter3d": [
           {
            "line": {
             "colorbar": {
              "outlinewidth": 0,
              "ticks": ""
             }
            },
            "marker": {
             "colorbar": {
              "outlinewidth": 0,
              "ticks": ""
             }
            },
            "type": "scatter3d"
           }
          ],
          "scattercarpet": [
           {
            "marker": {
             "colorbar": {
              "outlinewidth": 0,
              "ticks": ""
             }
            },
            "type": "scattercarpet"
           }
          ],
          "scattergeo": [
           {
            "marker": {
             "colorbar": {
              "outlinewidth": 0,
              "ticks": ""
             }
            },
            "type": "scattergeo"
           }
          ],
          "scattergl": [
           {
            "marker": {
             "colorbar": {
              "outlinewidth": 0,
              "ticks": ""
             }
            },
            "type": "scattergl"
           }
          ],
          "scattermapbox": [
           {
            "marker": {
             "colorbar": {
              "outlinewidth": 0,
              "ticks": ""
             }
            },
            "type": "scattermapbox"
           }
          ],
          "scatterpolar": [
           {
            "marker": {
             "colorbar": {
              "outlinewidth": 0,
              "ticks": ""
             }
            },
            "type": "scatterpolar"
           }
          ],
          "scatterpolargl": [
           {
            "marker": {
             "colorbar": {
              "outlinewidth": 0,
              "ticks": ""
             }
            },
            "type": "scatterpolargl"
           }
          ],
          "scatterternary": [
           {
            "marker": {
             "colorbar": {
              "outlinewidth": 0,
              "ticks": ""
             }
            },
            "type": "scatterternary"
           }
          ],
          "surface": [
           {
            "colorbar": {
             "outlinewidth": 0,
             "ticks": ""
            },
            "colorscale": [
             [
              0,
              "#0d0887"
             ],
             [
              0.1111111111111111,
              "#46039f"
             ],
             [
              0.2222222222222222,
              "#7201a8"
             ],
             [
              0.3333333333333333,
              "#9c179e"
             ],
             [
              0.4444444444444444,
              "#bd3786"
             ],
             [
              0.5555555555555556,
              "#d8576b"
             ],
             [
              0.6666666666666666,
              "#ed7953"
             ],
             [
              0.7777777777777778,
              "#fb9f3a"
             ],
             [
              0.8888888888888888,
              "#fdca26"
             ],
             [
              1,
              "#f0f921"
             ]
            ],
            "type": "surface"
           }
          ],
          "table": [
           {
            "cells": {
             "fill": {
              "color": "#EBF0F8"
             },
             "line": {
              "color": "white"
             }
            },
            "header": {
             "fill": {
              "color": "#C8D4E3"
             },
             "line": {
              "color": "white"
             }
            },
            "type": "table"
           }
          ]
         },
         "layout": {
          "annotationdefaults": {
           "arrowcolor": "#2a3f5f",
           "arrowhead": 0,
           "arrowwidth": 1
          },
          "coloraxis": {
           "colorbar": {
            "outlinewidth": 0,
            "ticks": ""
           }
          },
          "colorscale": {
           "diverging": [
            [
             0,
             "#8e0152"
            ],
            [
             0.1,
             "#c51b7d"
            ],
            [
             0.2,
             "#de77ae"
            ],
            [
             0.3,
             "#f1b6da"
            ],
            [
             0.4,
             "#fde0ef"
            ],
            [
             0.5,
             "#f7f7f7"
            ],
            [
             0.6,
             "#e6f5d0"
            ],
            [
             0.7,
             "#b8e186"
            ],
            [
             0.8,
             "#7fbc41"
            ],
            [
             0.9,
             "#4d9221"
            ],
            [
             1,
             "#276419"
            ]
           ],
           "sequential": [
            [
             0,
             "#0d0887"
            ],
            [
             0.1111111111111111,
             "#46039f"
            ],
            [
             0.2222222222222222,
             "#7201a8"
            ],
            [
             0.3333333333333333,
             "#9c179e"
            ],
            [
             0.4444444444444444,
             "#bd3786"
            ],
            [
             0.5555555555555556,
             "#d8576b"
            ],
            [
             0.6666666666666666,
             "#ed7953"
            ],
            [
             0.7777777777777778,
             "#fb9f3a"
            ],
            [
             0.8888888888888888,
             "#fdca26"
            ],
            [
             1,
             "#f0f921"
            ]
           ],
           "sequentialminus": [
            [
             0,
             "#0d0887"
            ],
            [
             0.1111111111111111,
             "#46039f"
            ],
            [
             0.2222222222222222,
             "#7201a8"
            ],
            [
             0.3333333333333333,
             "#9c179e"
            ],
            [
             0.4444444444444444,
             "#bd3786"
            ],
            [
             0.5555555555555556,
             "#d8576b"
            ],
            [
             0.6666666666666666,
             "#ed7953"
            ],
            [
             0.7777777777777778,
             "#fb9f3a"
            ],
            [
             0.8888888888888888,
             "#fdca26"
            ],
            [
             1,
             "#f0f921"
            ]
           ]
          },
          "colorway": [
           "#636efa",
           "#EF553B",
           "#00cc96",
           "#ab63fa",
           "#FFA15A",
           "#19d3f3",
           "#FF6692",
           "#B6E880",
           "#FF97FF",
           "#FECB52"
          ],
          "font": {
           "color": "#2a3f5f"
          },
          "geo": {
           "bgcolor": "white",
           "lakecolor": "white",
           "landcolor": "white",
           "showlakes": true,
           "showland": true,
           "subunitcolor": "#C8D4E3"
          },
          "hoverlabel": {
           "align": "left"
          },
          "hovermode": "closest",
          "mapbox": {
           "style": "light"
          },
          "paper_bgcolor": "white",
          "plot_bgcolor": "white",
          "polar": {
           "angularaxis": {
            "gridcolor": "#EBF0F8",
            "linecolor": "#EBF0F8",
            "ticks": ""
           },
           "bgcolor": "white",
           "radialaxis": {
            "gridcolor": "#EBF0F8",
            "linecolor": "#EBF0F8",
            "ticks": ""
           }
          },
          "scene": {
           "xaxis": {
            "backgroundcolor": "white",
            "gridcolor": "#DFE8F3",
            "gridwidth": 2,
            "linecolor": "#EBF0F8",
            "showbackground": true,
            "ticks": "",
            "zerolinecolor": "#EBF0F8"
           },
           "yaxis": {
            "backgroundcolor": "white",
            "gridcolor": "#DFE8F3",
            "gridwidth": 2,
            "linecolor": "#EBF0F8",
            "showbackground": true,
            "ticks": "",
            "zerolinecolor": "#EBF0F8"
           },
           "zaxis": {
            "backgroundcolor": "white",
            "gridcolor": "#DFE8F3",
            "gridwidth": 2,
            "linecolor": "#EBF0F8",
            "showbackground": true,
            "ticks": "",
            "zerolinecolor": "#EBF0F8"
           }
          },
          "shapedefaults": {
           "line": {
            "color": "#2a3f5f"
           }
          },
          "ternary": {
           "aaxis": {
            "gridcolor": "#DFE8F3",
            "linecolor": "#A2B1C6",
            "ticks": ""
           },
           "baxis": {
            "gridcolor": "#DFE8F3",
            "linecolor": "#A2B1C6",
            "ticks": ""
           },
           "bgcolor": "white",
           "caxis": {
            "gridcolor": "#DFE8F3",
            "linecolor": "#A2B1C6",
            "ticks": ""
           }
          },
          "title": {
           "x": 0.05
          },
          "xaxis": {
           "automargin": true,
           "gridcolor": "#EBF0F8",
           "linecolor": "#EBF0F8",
           "ticks": "",
           "title": {
            "standoff": 15
           },
           "zerolinecolor": "#EBF0F8",
           "zerolinewidth": 2
          },
          "yaxis": {
           "automargin": true,
           "gridcolor": "#EBF0F8",
           "linecolor": "#EBF0F8",
           "ticks": "",
           "title": {
            "standoff": 15
           },
           "zerolinecolor": "#EBF0F8",
           "zerolinewidth": 2
          }
         }
        },
        "xaxis": {
         "anchor": "y",
         "domain": [
          0,
          0.7363
         ],
         "title": {
          "text": "NumHits"
         }
        },
        "xaxis2": {
         "anchor": "y2",
         "domain": [
          0.7413,
          1
         ],
         "matches": "x2",
         "showgrid": false,
         "showline": false,
         "showticklabels": false,
         "ticks": ""
        },
        "xaxis3": {
         "anchor": "y3",
         "domain": [
          0,
          0.7363
         ],
         "matches": "x",
         "showgrid": true,
         "showticklabels": false
        },
        "xaxis4": {
         "anchor": "y4",
         "domain": [
          0.7413,
          1
         ],
         "matches": "x2",
         "showgrid": false,
         "showline": false,
         "showticklabels": false,
         "ticks": ""
        },
        "yaxis": {
         "anchor": "x",
         "domain": [
          0,
          0.7326
         ],
         "title": {
          "text": "Breadth"
         }
        },
        "yaxis2": {
         "anchor": "x2",
         "domain": [
          0,
          0.7326
         ],
         "matches": "y",
         "showgrid": true,
         "showticklabels": false
        },
        "yaxis3": {
         "anchor": "x3",
         "domain": [
          0.7426,
          1
         ],
         "matches": "y3",
         "showgrid": false,
         "showline": false,
         "showticklabels": false,
         "ticks": ""
        },
        "yaxis4": {
         "anchor": "x4",
         "domain": [
          0.7426,
          1
         ],
         "matches": "y3",
         "showgrid": true,
         "showline": false,
         "showticklabels": false,
         "ticks": ""
        }
       }
      },
      "text/html": [
       "<div>\n",
       "        \n",
       "        \n",
       "            <div id=\"2b3ab8ea-e497-4f61-9a1e-a4f806308c3d\" class=\"plotly-graph-div\" style=\"height:525px; width:100%;\"></div>\n",
       "            <script type=\"text/javascript\">\n",
       "                require([\"plotly\"], function(Plotly) {\n",
       "                    window.PLOTLYENV=window.PLOTLYENV || {};\n",
       "                    \n",
       "                if (document.getElementById(\"2b3ab8ea-e497-4f61-9a1e-a4f806308c3d\")) {\n",
       "                    Plotly.newPlot(\n",
       "                        '2b3ab8ea-e497-4f61-9a1e-a4f806308c3d',\n",
       "                        [{\"hovertemplate\": \"siteid=Tororo<br>NumHits=%{x}<br>Breadth=%{y}<extra></extra>\", \"legendgroup\": \"Tororo\", \"marker\": {\"color\": \"#636efa\", \"symbol\": \"circle\"}, \"mode\": \"markers\", \"name\": \"Tororo\", \"orientation\": \"v\", \"showlegend\": true, \"type\": \"scatter\", \"x\": [470, 511, 557, 186, 348, 403, 67, 521, 360, 806, 529, 731, 367, 221, 642, 272, 305, 134, 207, 210, 485, 82, 234, 198, 332, 346, 300, 380, 59, 528, 640, 183, 358, 397, 278, 286, 510, 472, 252, 240, 161, 445, 322, 276, 296, 130, 219, 611, 297, 401, 181, 445, 295, 535, 95, 343, 257, 304, 169, 598, 460, 356, 220, 170, 278, 579, 296, 154], \"xaxis\": \"x\", \"y\": [66, 94, 114, 47, 78, 53, 24, 87, 86, 105, 45, 72, 98, 70, 88, 34, 56, 68, 50, 37, 58, 39, 42, 66, 80, 61, 79, 81, 33, 83, 80, 39, 80, 74, 61, 69, 59, 115, 55, 57, 49, 106, 84, 50, 76, 41, 69, 57, 58, 88, 34, 92, 46, 96, 31, 96, 61, 87, 35, 45, 86, 67, 74, 61, 69, 81, 60, 39], \"yaxis\": \"y\"}, {\"alignmentgroup\": \"True\", \"hovertemplate\": \"siteid=Tororo<br>NumHits=%{x}<extra></extra>\", \"legendgroup\": \"Tororo\", \"marker\": {\"color\": \"#636efa\", \"symbol\": \"circle\"}, \"name\": \"Tororo\", \"notched\": true, \"offsetgroup\": \"Tororo\", \"showlegend\": false, \"type\": \"box\", \"x\": [470, 511, 557, 186, 348, 403, 67, 521, 360, 806, 529, 731, 367, 221, 642, 272, 305, 134, 207, 210, 485, 82, 234, 198, 332, 346, 300, 380, 59, 528, 640, 183, 358, 397, 278, 286, 510, 472, 252, 240, 161, 445, 322, 276, 296, 130, 219, 611, 297, 401, 181, 445, 295, 535, 95, 343, 257, 304, 169, 598, 460, 356, 220, 170, 278, 579, 296, 154], \"xaxis\": \"x3\", \"yaxis\": \"y3\"}, {\"alignmentgroup\": \"True\", \"hovertemplate\": \"siteid=Tororo<br>Breadth=%{y}<extra></extra>\", \"legendgroup\": \"Tororo\", \"marker\": {\"color\": \"#636efa\", \"symbol\": \"circle\"}, \"name\": \"Tororo\", \"notched\": true, \"offsetgroup\": \"Tororo\", \"showlegend\": false, \"type\": \"box\", \"xaxis\": \"x2\", \"y\": [66, 94, 114, 47, 78, 53, 24, 87, 86, 105, 45, 72, 98, 70, 88, 34, 56, 68, 50, 37, 58, 39, 42, 66, 80, 61, 79, 81, 33, 83, 80, 39, 80, 74, 61, 69, 59, 115, 55, 57, 49, 106, 84, 50, 76, 41, 69, 57, 58, 88, 34, 92, 46, 96, 31, 96, 61, 87, 35, 45, 86, 67, 74, 61, 69, 81, 60, 39], \"yaxis\": \"y2\"}, {\"hovertemplate\": \"siteid=Kanungu<br>NumHits=%{x}<br>Breadth=%{y}<extra></extra>\", \"legendgroup\": \"Kanungu\", \"marker\": {\"color\": \"#EF553B\", \"symbol\": \"circle\"}, \"mode\": \"markers\", \"name\": \"Kanungu\", \"orientation\": \"v\", \"showlegend\": true, \"type\": \"scatter\", \"x\": [137, 40, 118, 21, 40, 293, 103, 88, 36, 153, 19, 6, 111, 285, 5, 215, 71, 69, 79, 104, 10, 158, 26, 31, 80, 179, 481, 99, 8, 41, 299, 107, 125, 32, 159, 85, 84, 79, 26, 230, 260, 203, 85, 312, 424, 111, 152, 111, 593, 405, 819, 191, 86, 125, 160, 43, 260, 158, 59, 160, 178, 76, 15, 48], \"xaxis\": \"x\", \"y\": [28, 12, 27, 14, 15, 40, 27, 36, 18, 35, 13, 6, 29, 75, 5, 52, 26, 20, 22, 20, 8, 34, 9, 18, 25, 38, 39, 16, 7, 15, 57, 33, 20, 19, 49, 22, 22, 33, 13, 50, 50, 41, 31, 87, 100, 36, 49, 35, 97, 88, 88, 52, 33, 18, 48, 20, 78, 48, 22, 43, 30, 34, 14, 27], \"yaxis\": \"y\"}, {\"alignmentgroup\": \"True\", \"hovertemplate\": \"siteid=Kanungu<br>NumHits=%{x}<extra></extra>\", \"legendgroup\": \"Kanungu\", \"marker\": {\"color\": \"#EF553B\", \"symbol\": \"circle\"}, \"name\": \"Kanungu\", \"notched\": true, \"offsetgroup\": \"Kanungu\", \"showlegend\": false, \"type\": \"box\", \"x\": [137, 40, 118, 21, 40, 293, 103, 88, 36, 153, 19, 6, 111, 285, 5, 215, 71, 69, 79, 104, 10, 158, 26, 31, 80, 179, 481, 99, 8, 41, 299, 107, 125, 32, 159, 85, 84, 79, 26, 230, 260, 203, 85, 312, 424, 111, 152, 111, 593, 405, 819, 191, 86, 125, 160, 43, 260, 158, 59, 160, 178, 76, 15, 48], \"xaxis\": \"x3\", \"yaxis\": \"y3\"}, {\"alignmentgroup\": \"True\", \"hovertemplate\": \"siteid=Kanungu<br>Breadth=%{y}<extra></extra>\", \"legendgroup\": \"Kanungu\", \"marker\": {\"color\": \"#EF553B\", \"symbol\": \"circle\"}, \"name\": \"Kanungu\", \"notched\": true, \"offsetgroup\": \"Kanungu\", \"showlegend\": false, \"type\": \"box\", \"xaxis\": \"x2\", \"y\": [28, 12, 27, 14, 15, 40, 27, 36, 18, 35, 13, 6, 29, 75, 5, 52, 26, 20, 22, 20, 8, 34, 9, 18, 25, 38, 39, 16, 7, 15, 57, 33, 20, 19, 49, 22, 22, 33, 13, 50, 50, 41, 31, 87, 100, 36, 49, 35, 97, 88, 88, 52, 33, 18, 48, 20, 78, 48, 22, 43, 30, 34, 14, 27], \"yaxis\": \"y2\"}],\n",
       "                        {\"legend\": {\"title\": {\"text\": \"siteid\"}, \"tracegroupgap\": 0}, \"margin\": {\"t\": 60}, \"template\": {\"data\": {\"bar\": [{\"error_x\": {\"color\": \"#2a3f5f\"}, \"error_y\": {\"color\": \"#2a3f5f\"}, \"marker\": {\"line\": {\"color\": \"white\", \"width\": 0.5}}, \"type\": \"bar\"}], \"barpolar\": [{\"marker\": {\"line\": {\"color\": \"white\", \"width\": 0.5}}, \"type\": \"barpolar\"}], \"carpet\": [{\"aaxis\": {\"endlinecolor\": \"#2a3f5f\", \"gridcolor\": \"#C8D4E3\", \"linecolor\": \"#C8D4E3\", \"minorgridcolor\": \"#C8D4E3\", \"startlinecolor\": \"#2a3f5f\"}, \"baxis\": {\"endlinecolor\": \"#2a3f5f\", \"gridcolor\": \"#C8D4E3\", \"linecolor\": \"#C8D4E3\", \"minorgridcolor\": \"#C8D4E3\", \"startlinecolor\": \"#2a3f5f\"}, \"type\": \"carpet\"}], \"choropleth\": [{\"colorbar\": {\"outlinewidth\": 0, \"ticks\": \"\"}, \"type\": \"choropleth\"}], \"contour\": [{\"colorbar\": {\"outlinewidth\": 0, \"ticks\": \"\"}, \"colorscale\": [[0.0, \"#0d0887\"], [0.1111111111111111, \"#46039f\"], [0.2222222222222222, \"#7201a8\"], [0.3333333333333333, \"#9c179e\"], [0.4444444444444444, \"#bd3786\"], [0.5555555555555556, \"#d8576b\"], [0.6666666666666666, \"#ed7953\"], [0.7777777777777778, \"#fb9f3a\"], [0.8888888888888888, \"#fdca26\"], [1.0, \"#f0f921\"]], \"type\": \"contour\"}], \"contourcarpet\": [{\"colorbar\": {\"outlinewidth\": 0, \"ticks\": \"\"}, \"type\": \"contourcarpet\"}], \"heatmap\": [{\"colorbar\": {\"outlinewidth\": 0, \"ticks\": \"\"}, \"colorscale\": [[0.0, \"#0d0887\"], [0.1111111111111111, \"#46039f\"], [0.2222222222222222, \"#7201a8\"], [0.3333333333333333, \"#9c179e\"], [0.4444444444444444, \"#bd3786\"], [0.5555555555555556, \"#d8576b\"], [0.6666666666666666, \"#ed7953\"], [0.7777777777777778, \"#fb9f3a\"], [0.8888888888888888, \"#fdca26\"], [1.0, \"#f0f921\"]], \"type\": \"heatmap\"}], \"heatmapgl\": [{\"colorbar\": {\"outlinewidth\": 0, \"ticks\": \"\"}, \"colorscale\": [[0.0, \"#0d0887\"], [0.1111111111111111, \"#46039f\"], [0.2222222222222222, \"#7201a8\"], [0.3333333333333333, \"#9c179e\"], [0.4444444444444444, \"#bd3786\"], [0.5555555555555556, \"#d8576b\"], [0.6666666666666666, \"#ed7953\"], [0.7777777777777778, \"#fb9f3a\"], [0.8888888888888888, \"#fdca26\"], [1.0, \"#f0f921\"]], \"type\": \"heatmapgl\"}], \"histogram\": [{\"marker\": {\"colorbar\": {\"outlinewidth\": 0, \"ticks\": \"\"}}, \"type\": \"histogram\"}], \"histogram2d\": [{\"colorbar\": {\"outlinewidth\": 0, \"ticks\": \"\"}, \"colorscale\": [[0.0, \"#0d0887\"], [0.1111111111111111, \"#46039f\"], [0.2222222222222222, \"#7201a8\"], [0.3333333333333333, \"#9c179e\"], [0.4444444444444444, \"#bd3786\"], [0.5555555555555556, \"#d8576b\"], [0.6666666666666666, \"#ed7953\"], [0.7777777777777778, \"#fb9f3a\"], [0.8888888888888888, \"#fdca26\"], [1.0, \"#f0f921\"]], \"type\": \"histogram2d\"}], \"histogram2dcontour\": [{\"colorbar\": {\"outlinewidth\": 0, \"ticks\": \"\"}, \"colorscale\": [[0.0, \"#0d0887\"], [0.1111111111111111, \"#46039f\"], [0.2222222222222222, \"#7201a8\"], [0.3333333333333333, \"#9c179e\"], [0.4444444444444444, \"#bd3786\"], [0.5555555555555556, \"#d8576b\"], [0.6666666666666666, \"#ed7953\"], [0.7777777777777778, \"#fb9f3a\"], [0.8888888888888888, \"#fdca26\"], [1.0, \"#f0f921\"]], \"type\": \"histogram2dcontour\"}], \"mesh3d\": [{\"colorbar\": {\"outlinewidth\": 0, \"ticks\": \"\"}, \"type\": \"mesh3d\"}], \"parcoords\": [{\"line\": {\"colorbar\": {\"outlinewidth\": 0, \"ticks\": \"\"}}, \"type\": \"parcoords\"}], \"pie\": [{\"automargin\": true, \"type\": \"pie\"}], \"scatter\": [{\"marker\": {\"colorbar\": {\"outlinewidth\": 0, \"ticks\": \"\"}}, \"type\": \"scatter\"}], \"scatter3d\": [{\"line\": {\"colorbar\": {\"outlinewidth\": 0, \"ticks\": \"\"}}, \"marker\": {\"colorbar\": {\"outlinewidth\": 0, \"ticks\": \"\"}}, \"type\": \"scatter3d\"}], \"scattercarpet\": [{\"marker\": {\"colorbar\": {\"outlinewidth\": 0, \"ticks\": \"\"}}, \"type\": \"scattercarpet\"}], \"scattergeo\": [{\"marker\": {\"colorbar\": {\"outlinewidth\": 0, \"ticks\": \"\"}}, \"type\": \"scattergeo\"}], \"scattergl\": [{\"marker\": {\"colorbar\": {\"outlinewidth\": 0, \"ticks\": \"\"}}, \"type\": \"scattergl\"}], \"scattermapbox\": [{\"marker\": {\"colorbar\": {\"outlinewidth\": 0, \"ticks\": \"\"}}, \"type\": \"scattermapbox\"}], \"scatterpolar\": [{\"marker\": {\"colorbar\": {\"outlinewidth\": 0, \"ticks\": \"\"}}, \"type\": \"scatterpolar\"}], \"scatterpolargl\": [{\"marker\": {\"colorbar\": {\"outlinewidth\": 0, \"ticks\": \"\"}}, \"type\": \"scatterpolargl\"}], \"scatterternary\": [{\"marker\": {\"colorbar\": {\"outlinewidth\": 0, \"ticks\": \"\"}}, \"type\": \"scatterternary\"}], \"surface\": [{\"colorbar\": {\"outlinewidth\": 0, \"ticks\": \"\"}, \"colorscale\": [[0.0, \"#0d0887\"], [0.1111111111111111, \"#46039f\"], [0.2222222222222222, \"#7201a8\"], [0.3333333333333333, \"#9c179e\"], [0.4444444444444444, \"#bd3786\"], [0.5555555555555556, \"#d8576b\"], [0.6666666666666666, \"#ed7953\"], [0.7777777777777778, \"#fb9f3a\"], [0.8888888888888888, \"#fdca26\"], [1.0, \"#f0f921\"]], \"type\": \"surface\"}], \"table\": [{\"cells\": {\"fill\": {\"color\": \"#EBF0F8\"}, \"line\": {\"color\": \"white\"}}, \"header\": {\"fill\": {\"color\": \"#C8D4E3\"}, \"line\": {\"color\": \"white\"}}, \"type\": \"table\"}]}, \"layout\": {\"annotationdefaults\": {\"arrowcolor\": \"#2a3f5f\", \"arrowhead\": 0, \"arrowwidth\": 1}, \"coloraxis\": {\"colorbar\": {\"outlinewidth\": 0, \"ticks\": \"\"}}, \"colorscale\": {\"diverging\": [[0, \"#8e0152\"], [0.1, \"#c51b7d\"], [0.2, \"#de77ae\"], [0.3, \"#f1b6da\"], [0.4, \"#fde0ef\"], [0.5, \"#f7f7f7\"], [0.6, \"#e6f5d0\"], [0.7, \"#b8e186\"], [0.8, \"#7fbc41\"], [0.9, \"#4d9221\"], [1, \"#276419\"]], \"sequential\": [[0.0, \"#0d0887\"], [0.1111111111111111, \"#46039f\"], [0.2222222222222222, \"#7201a8\"], [0.3333333333333333, \"#9c179e\"], [0.4444444444444444, \"#bd3786\"], [0.5555555555555556, \"#d8576b\"], [0.6666666666666666, \"#ed7953\"], [0.7777777777777778, \"#fb9f3a\"], [0.8888888888888888, \"#fdca26\"], [1.0, \"#f0f921\"]], \"sequentialminus\": [[0.0, \"#0d0887\"], [0.1111111111111111, \"#46039f\"], [0.2222222222222222, \"#7201a8\"], [0.3333333333333333, \"#9c179e\"], [0.4444444444444444, \"#bd3786\"], [0.5555555555555556, \"#d8576b\"], [0.6666666666666666, \"#ed7953\"], [0.7777777777777778, \"#fb9f3a\"], [0.8888888888888888, \"#fdca26\"], [1.0, \"#f0f921\"]]}, \"colorway\": [\"#636efa\", \"#EF553B\", \"#00cc96\", \"#ab63fa\", \"#FFA15A\", \"#19d3f3\", \"#FF6692\", \"#B6E880\", \"#FF97FF\", \"#FECB52\"], \"font\": {\"color\": \"#2a3f5f\"}, \"geo\": {\"bgcolor\": \"white\", \"lakecolor\": \"white\", \"landcolor\": \"white\", \"showlakes\": true, \"showland\": true, \"subunitcolor\": \"#C8D4E3\"}, \"hoverlabel\": {\"align\": \"left\"}, \"hovermode\": \"closest\", \"mapbox\": {\"style\": \"light\"}, \"paper_bgcolor\": \"white\", \"plot_bgcolor\": \"white\", \"polar\": {\"angularaxis\": {\"gridcolor\": \"#EBF0F8\", \"linecolor\": \"#EBF0F8\", \"ticks\": \"\"}, \"bgcolor\": \"white\", \"radialaxis\": {\"gridcolor\": \"#EBF0F8\", \"linecolor\": \"#EBF0F8\", \"ticks\": \"\"}}, \"scene\": {\"xaxis\": {\"backgroundcolor\": \"white\", \"gridcolor\": \"#DFE8F3\", \"gridwidth\": 2, \"linecolor\": \"#EBF0F8\", \"showbackground\": true, \"ticks\": \"\", \"zerolinecolor\": \"#EBF0F8\"}, \"yaxis\": {\"backgroundcolor\": \"white\", \"gridcolor\": \"#DFE8F3\", \"gridwidth\": 2, \"linecolor\": \"#EBF0F8\", \"showbackground\": true, \"ticks\": \"\", \"zerolinecolor\": \"#EBF0F8\"}, \"zaxis\": {\"backgroundcolor\": \"white\", \"gridcolor\": \"#DFE8F3\", \"gridwidth\": 2, \"linecolor\": \"#EBF0F8\", \"showbackground\": true, \"ticks\": \"\", \"zerolinecolor\": \"#EBF0F8\"}}, \"shapedefaults\": {\"line\": {\"color\": \"#2a3f5f\"}}, \"ternary\": {\"aaxis\": {\"gridcolor\": \"#DFE8F3\", \"linecolor\": \"#A2B1C6\", \"ticks\": \"\"}, \"baxis\": {\"gridcolor\": \"#DFE8F3\", \"linecolor\": \"#A2B1C6\", \"ticks\": \"\"}, \"bgcolor\": \"white\", \"caxis\": {\"gridcolor\": \"#DFE8F3\", \"linecolor\": \"#A2B1C6\", \"ticks\": \"\"}}, \"title\": {\"x\": 0.05}, \"xaxis\": {\"automargin\": true, \"gridcolor\": \"#EBF0F8\", \"linecolor\": \"#EBF0F8\", \"ticks\": \"\", \"title\": {\"standoff\": 15}, \"zerolinecolor\": \"#EBF0F8\", \"zerolinewidth\": 2}, \"yaxis\": {\"automargin\": true, \"gridcolor\": \"#EBF0F8\", \"linecolor\": \"#EBF0F8\", \"ticks\": \"\", \"title\": {\"standoff\": 15}, \"zerolinecolor\": \"#EBF0F8\", \"zerolinewidth\": 2}}}, \"xaxis\": {\"anchor\": \"y\", \"domain\": [0.0, 0.7363], \"title\": {\"text\": \"NumHits\"}}, \"xaxis2\": {\"anchor\": \"y2\", \"domain\": [0.7413, 1.0], \"matches\": \"x2\", \"showgrid\": false, \"showline\": false, \"showticklabels\": false, \"ticks\": \"\"}, \"xaxis3\": {\"anchor\": \"y3\", \"domain\": [0.0, 0.7363], \"matches\": \"x\", \"showgrid\": true, \"showticklabels\": false}, \"xaxis4\": {\"anchor\": \"y4\", \"domain\": [0.7413, 1.0], \"matches\": \"x2\", \"showgrid\": false, \"showline\": false, \"showticklabels\": false, \"ticks\": \"\"}, \"yaxis\": {\"anchor\": \"x\", \"domain\": [0.0, 0.7326], \"title\": {\"text\": \"Breadth\"}}, \"yaxis2\": {\"anchor\": \"x2\", \"domain\": [0.0, 0.7326], \"matches\": \"y\", \"showgrid\": true, \"showticklabels\": false}, \"yaxis3\": {\"anchor\": \"x3\", \"domain\": [0.7426, 1.0], \"matches\": \"y3\", \"showgrid\": false, \"showline\": false, \"showticklabels\": false, \"ticks\": \"\"}, \"yaxis4\": {\"anchor\": \"x4\", \"domain\": [0.7426, 1.0], \"matches\": \"y3\", \"showgrid\": true, \"showline\": false, \"showticklabels\": false, \"ticks\": \"\"}},\n",
       "                        {\"responsive\": true}\n",
       "                    ).then(function(){\n",
       "                            \n",
       "var gd = document.getElementById('2b3ab8ea-e497-4f61-9a1e-a4f806308c3d');\n",
       "var x = new MutationObserver(function (mutations, observer) {{\n",
       "        var display = window.getComputedStyle(gd).display;\n",
       "        if (!display || display === 'none') {{\n",
       "            console.log([gd, 'removed!']);\n",
       "            Plotly.purge(gd);\n",
       "            observer.disconnect();\n",
       "        }}\n",
       "}});\n",
       "\n",
       "// Listen for the removal of the full notebook cells\n",
       "var notebookContainer = gd.closest('#notebook-container');\n",
       "if (notebookContainer) {{\n",
       "    x.observe(notebookContainer, {childList: true});\n",
       "}}\n",
       "\n",
       "// Listen for the clearing of the current output cell\n",
       "var outputEl = gd.closest('.output');\n",
       "if (outputEl) {{\n",
       "    x.observe(outputEl, {childList: true});\n",
       "}}\n",
       "\n",
       "                        })\n",
       "                };\n",
       "                });\n",
       "            </script>\n",
       "        </div>"
      ]
     },
     "metadata": {},
     "output_type": "display_data"
    }
   ],
   "source": [
    "px.scatter(\n",
    "    frame, x = 'NumHits', y = \"Breadth\",\n",
    "    color = \"siteid\", \n",
    "    marginal_x = \"box\",\n",
    "    marginal_y = \"box\"\n",
    ")"
   ]
  },
  {
   "cell_type": "markdown",
   "metadata": {},
   "source": [
    "## Correlation with Random Effects"
   ]
  },
  {
   "cell_type": "code",
   "execution_count": 65,
   "metadata": {},
   "outputs": [],
   "source": [
    "def plot_corr_re(frame, re_name = 'antidisease_re'):\n",
    "    fig = px.scatter(\n",
    "        frame, x = re_name, y = 'Breadth',\n",
    "        color = 'siteid', trendline = 'ols'\n",
    "    )\n",
    "    return fig"
   ]
  },
  {
   "cell_type": "markdown",
   "metadata": {},
   "source": [
    "### Antidisease"
   ]
  },
  {
   "cell_type": "code",
   "execution_count": 67,
   "metadata": {},
   "outputs": [
    {
     "data": {
      "application/vnd.plotly.v1+json": {
       "config": {
        "plotlyServerURL": "https://plot.ly"
       },
       "data": [
        {
         "hovertemplate": "siteid=Tororo<br>antidisease_re=%{x}<br>Breadth=%{y}<extra></extra>",
         "legendgroup": "Tororo",
         "marker": {
          "color": "#636efa",
          "symbol": "circle"
         },
         "mode": "markers",
         "name": "Tororo",
         "orientation": "v",
         "showlegend": true,
         "type": "scatter",
         "x": [
          0.1611896787397131,
          -0.1449566308389714,
          -0.06187267435725444,
          0.006699148908696885,
          0.055309196693001564,
          -0.14024672754634662,
          0.05306006780002708,
          -0.12507865742825808,
          -0.0785673074844117,
          0.03090268641421721,
          4.231153640008744e-05,
          -0.023709777371972527,
          0.12147679739680856,
          -0.018523758903571042,
          -0.1896068847760089,
          0.3043741778192013,
          -0.027298032940744232,
          0.010996824364343313,
          0.00669838383339496,
          -0.05366738816005392,
          -0.07971308104836099,
          -0.08991053894893998,
          -0.07740092416623498,
          0.03963055287626326,
          0.026151000237682985,
          -0.05182348392225969,
          0.023465870155702232,
          -0.13915389045219276,
          0.17077104471063476,
          -0.023466636743321088,
          0.06617397097010283,
          -0.06864437085416658,
          -0.00937551429924234,
          0.04953101385815939,
          -0.06933981922755786,
          -0.027809352996839096,
          -0.03896039624993202,
          0.2318323275228244,
          -0.07460079217004771,
          0.1351068871544497,
          -0.024492252200828773,
          0.10622305207027473,
          -0.10461345364459952,
          0.042714145266660515,
          -0.04875290199737812,
          -0.05341309692669242,
          0.034229376882248135,
          0.01871757320822716,
          0.13842310530737456,
          0.0010958110821766077,
          -0.0719801575007324,
          0.02285481757713044,
          0.0192077180784782,
          0.012017086223477696,
          -0.05648917165539745,
          -0.05911764608955531,
          0.10496770070146397,
          -0.036888219295977256,
          -0.019195494626644258,
          0.029428984930138118,
          -0.16818546380728794,
          -0.003655778378583911,
          -0.01753601712352624,
          -0.06160510780796241,
          0.035794227043727804,
          -0.016398761642325156,
          -0.07805017716435593,
          0.0633347442830343
         ],
         "xaxis": "x",
         "y": [
          66,
          94,
          114,
          47,
          78,
          53,
          24,
          87,
          86,
          105,
          45,
          72,
          98,
          70,
          88,
          34,
          56,
          68,
          50,
          37,
          58,
          39,
          42,
          66,
          80,
          61,
          79,
          81,
          33,
          83,
          80,
          39,
          80,
          74,
          61,
          69,
          59,
          115,
          55,
          57,
          49,
          106,
          84,
          50,
          76,
          41,
          69,
          57,
          58,
          88,
          34,
          92,
          46,
          96,
          31,
          96,
          61,
          87,
          35,
          45,
          86,
          67,
          74,
          61,
          69,
          81,
          60,
          39
         ],
         "yaxis": "y"
        },
        {
         "hovertemplate": "<b>OLS trendline</b><br>Breadth = -12.9809 * antidisease_re + 66.4258<br>R<sup>2</sup>=0.002866<br><br>siteid=Tororo<br>antidisease_re=%{x}<br>Breadth=%{y} <b>(trend)</b><extra></extra>",
         "legendgroup": "Tororo",
         "marker": {
          "color": "#636efa",
          "symbol": "circle"
         },
         "mode": "lines",
         "name": "Tororo",
         "showlegend": false,
         "type": "scatter",
         "x": [
          -0.1896068847760089,
          -0.16818546380728794,
          -0.1449566308389714,
          -0.14024672754634662,
          -0.13915389045219276,
          -0.12507865742825808,
          -0.10461345364459952,
          -0.08991053894893998,
          -0.07971308104836099,
          -0.0785673074844117,
          -0.07805017716435593,
          -0.07740092416623498,
          -0.07460079217004771,
          -0.0719801575007324,
          -0.06933981922755786,
          -0.06864437085416658,
          -0.06187267435725444,
          -0.06160510780796241,
          -0.05911764608955531,
          -0.05648917165539745,
          -0.05366738816005392,
          -0.05341309692669242,
          -0.05182348392225969,
          -0.04875290199737812,
          -0.03896039624993202,
          -0.036888219295977256,
          -0.027809352996839096,
          -0.027298032940744232,
          -0.024492252200828773,
          -0.023709777371972527,
          -0.023466636743321088,
          -0.019195494626644258,
          -0.018523758903571042,
          -0.01753601712352624,
          -0.016398761642325156,
          -0.00937551429924234,
          -0.003655778378583911,
          4.231153640008744e-05,
          0.0010958110821766077,
          0.00669838383339496,
          0.006699148908696885,
          0.010996824364343313,
          0.012017086223477696,
          0.01871757320822716,
          0.0192077180784782,
          0.02285481757713044,
          0.023465870155702232,
          0.026151000237682985,
          0.029428984930138118,
          0.03090268641421721,
          0.034229376882248135,
          0.035794227043727804,
          0.03963055287626326,
          0.042714145266660515,
          0.04953101385815939,
          0.05306006780002708,
          0.055309196693001564,
          0.0633347442830343,
          0.06617397097010283,
          0.10496770070146397,
          0.10622305207027473,
          0.12147679739680856,
          0.1351068871544497,
          0.13842310530737456,
          0.1611896787397131,
          0.17077104471063476,
          0.2318323275228244,
          0.3043741778192013
         ],
         "xaxis": "x",
         "y": [
          68.88707036103189,
          68.60900027569352,
          68.30746829164623,
          68.24632934048012,
          68.2321432925762,
          68.04943359960868,
          67.7837761079372,
          67.59291851963273,
          67.46054597568296,
          67.44567276287552,
          67.43895992751138,
          67.43053201617639,
          67.39418368315611,
          67.36016539337034,
          67.32589133237242,
          67.31686376184759,
          67.2289608059451,
          67.22548754180899,
          67.19319796151815,
          67.1590779042501,
          67.12244851451436,
          67.11914757639896,
          67.0985129124127,
          67.05865388629408,
          66.93153800015166,
          66.90463920462993,
          66.78678702618373,
          66.7801496134817,
          66.74372795448305,
          66.73357069914724,
          66.73041450631311,
          66.67497108570106,
          66.66625132756211,
          66.65342951515899,
          66.63866687503484,
          66.54749855380652,
          66.4732510303629,
          66.42524636345729,
          66.4115709537342,
          66.33884431784386,
          66.33883438645067,
          66.28304653827509,
          66.26980258482068,
          66.18282399500731,
          66.17646145602832,
          66.1291186924316,
          66.1211866582814,
          66.08633115769948,
          66.04377984961866,
          66.02464982560954,
          65.98146627099426,
          65.96115305187682,
          65.91135395343248,
          65.8713260392993,
          65.7828367073476,
          65.73702628551742,
          65.70783048827691,
          65.60365137212462,
          65.56679555344103,
          65.06321664741304,
          65.04692101218116,
          64.84891312694924,
          64.67198181003936,
          64.6289341958717,
          64.33340277307596,
          64.20902767876812,
          63.41639510097374,
          62.47473401639998
         ],
         "yaxis": "y"
        },
        {
         "hovertemplate": "siteid=Kanungu<br>antidisease_re=%{x}<br>Breadth=%{y}<extra></extra>",
         "legendgroup": "Kanungu",
         "marker": {
          "color": "#EF553B",
          "symbol": "circle"
         },
         "mode": "markers",
         "name": "Kanungu",
         "orientation": "v",
         "showlegend": true,
         "type": "scatter",
         "x": [
          0.2319031006091227,
          -0.013948009776518756,
          -0.018560017051423027,
          0.15880549485734374,
          0.06611676401584564,
          0.040540379485959635,
          -0.08736831064469089,
          -0.06623382942811354,
          0.14823841355335862,
          -0.00492010185225679,
          0.07436982141333524,
          0.03822103376984982,
          -0.09924378001126268,
          -0.013570752385161759,
          0.10162208318046688,
          0.026238322265265655,
          -0.011561869979326378,
          0.014967683665843537,
          0.1252431466267131,
          -0.02742373090440792,
          -0.044020052515174234,
          -0.015309581029107447,
          -0.058114925191781484,
          0.00445143820325371,
          0.018120668524162352,
          -0.02065772803563074,
          -0.14207083604174564,
          0.13633063644671867,
          -0.005146982845394346,
          -0.07025387549411014,
          -0.28470346703639066,
          0.1603708953961543,
          0.10209396967888648,
          0.03867457911142914,
          0.11012398421367164,
          -0.03850925965555944,
          -0.08427111203677326,
          -0.03115427812240061,
          0.05315128554933537,
          0.08705337959700854,
          0.11207702673072527,
          -0.09172937894084957,
          0.21852666684488406,
          0.028437834788161837,
          -0.1547957184533289,
          -0.0541285565731622,
          -0.021143037265122545,
          0.1101470251185018,
          0.026544051084819536,
          -0.027317508345218813,
          -0.21568657376729747,
          -0.006919763184964149,
          0.07822892711595263,
          0.13166606957994725,
          -0.05447928805821789,
          -0.10378836429844704,
          -0.22394839824240634,
          -0.20355528715416085,
          -0.08967837962346005,
          0.02729006560248199,
          0.05400678253526973,
          0.10547836388365897,
          -0.0342169532519789,
          -0.05923129504110716
         ],
         "xaxis": "x",
         "y": [
          28,
          12,
          27,
          14,
          15,
          40,
          27,
          36,
          18,
          35,
          13,
          6,
          29,
          75,
          5,
          52,
          26,
          20,
          22,
          20,
          8,
          34,
          9,
          18,
          25,
          38,
          39,
          16,
          7,
          15,
          57,
          33,
          20,
          19,
          49,
          22,
          22,
          33,
          13,
          50,
          50,
          41,
          31,
          87,
          100,
          36,
          49,
          35,
          97,
          88,
          88,
          52,
          33,
          18,
          48,
          20,
          78,
          48,
          22,
          43,
          30,
          34,
          14,
          27
         ],
         "yaxis": "y"
        },
        {
         "hovertemplate": "<b>OLS trendline</b><br>Breadth = -74.2116 * antidisease_re + 34.8005<br>R<sup>2</sup>=0.113506<br><br>siteid=Kanungu<br>antidisease_re=%{x}<br>Breadth=%{y} <b>(trend)</b><extra></extra>",
         "legendgroup": "Kanungu",
         "marker": {
          "color": "#EF553B",
          "symbol": "circle"
         },
         "mode": "lines",
         "name": "Kanungu",
         "showlegend": false,
         "type": "scatter",
         "x": [
          -0.28470346703639066,
          -0.22394839824240634,
          -0.21568657376729747,
          -0.20355528715416085,
          -0.1547957184533289,
          -0.14207083604174564,
          -0.10378836429844704,
          -0.09924378001126268,
          -0.09172937894084957,
          -0.08967837962346005,
          -0.08736831064469089,
          -0.08427111203677326,
          -0.07025387549411014,
          -0.06623382942811354,
          -0.05923129504110716,
          -0.058114925191781484,
          -0.05447928805821789,
          -0.0541285565731622,
          -0.044020052515174234,
          -0.03850925965555944,
          -0.0342169532519789,
          -0.03115427812240061,
          -0.02742373090440792,
          -0.027317508345218813,
          -0.021143037265122545,
          -0.02065772803563074,
          -0.018560017051423027,
          -0.015309581029107447,
          -0.013948009776518756,
          -0.013570752385161759,
          -0.011561869979326378,
          -0.006919763184964149,
          -0.005146982845394346,
          -0.00492010185225679,
          0.00445143820325371,
          0.014967683665843537,
          0.018120668524162352,
          0.026238322265265655,
          0.026544051084819536,
          0.02729006560248199,
          0.028437834788161837,
          0.03822103376984982,
          0.03867457911142914,
          0.040540379485959635,
          0.05315128554933537,
          0.05400678253526973,
          0.06611676401584564,
          0.07436982141333524,
          0.07822892711595263,
          0.08705337959700854,
          0.10162208318046688,
          0.10209396967888648,
          0.10547836388365897,
          0.11012398421367164,
          0.1101470251185018,
          0.11207702673072527,
          0.1252431466267131,
          0.13166606957994725,
          0.13633063644671867,
          0.14823841355335862,
          0.15880549485734374,
          0.1603708953961543,
          0.21852666684488406,
          0.2319031006091227
         ],
         "xaxis": "x",
         "y": [
          55.92883790001217,
          51.42010582056271,
          50.806982441968294,
          49.906700009516165,
          46.28817342489434,
          45.34383928660416,
          42.50283504027668,
          42.165574078020654,
          41.607918201127376,
          41.45571021913002,
          41.284276257864406,
          41.05442813165626,
          40.01418629966291,
          39.715852168562094,
          39.19618274747719,
          39.11333513242053,
          38.843528610944595,
          38.81750025924762,
          38.067331797155326,
          37.65836693146487,
          37.33982791964556,
          37.112541836693595,
          36.83569188409623,
          36.82780893589644,
          36.36959143429402,
          36.3335758501642,
          36.17790131969857,
          35.93668119672073,
          35.835636788297464,
          35.80763990612145,
          35.658557488360636,
          35.314059222858816,
          35.18249832192495,
          35.165661115873135,
          34.47018394629894,
          33.6897563340231,
          33.455768219798,
          32.85334398493319,
          32.83065535394819,
          32.775292408036215,
          32.69011459736125,
          31.964087551980946,
          31.930429217431154,
          31.79196514900881,
          30.856089380162743,
          30.792601562916843,
          29.89390021886672,
          29.28142745930524,
          28.995036973296937,
          28.340160058914222,
          27.258992964437443,
          27.223973502925546,
          26.972812126213032,
          26.628053115538606,
          26.6263432126645,
          26.483114666385866,
          25.506035579565776,
          25.02938006196151,
          24.68321499810051,
          23.79951956821471,
          23.015319345793998,
          22.89914843583329,
          18.58331442328122,
          17.59062760358618
         ],
         "yaxis": "y"
        }
       ],
       "layout": {
        "legend": {
         "title": {
          "text": "siteid"
         },
         "tracegroupgap": 0
        },
        "margin": {
         "t": 60
        },
        "template": {
         "data": {
          "bar": [
           {
            "error_x": {
             "color": "#2a3f5f"
            },
            "error_y": {
             "color": "#2a3f5f"
            },
            "marker": {
             "line": {
              "color": "white",
              "width": 0.5
             }
            },
            "type": "bar"
           }
          ],
          "barpolar": [
           {
            "marker": {
             "line": {
              "color": "white",
              "width": 0.5
             }
            },
            "type": "barpolar"
           }
          ],
          "carpet": [
           {
            "aaxis": {
             "endlinecolor": "#2a3f5f",
             "gridcolor": "#C8D4E3",
             "linecolor": "#C8D4E3",
             "minorgridcolor": "#C8D4E3",
             "startlinecolor": "#2a3f5f"
            },
            "baxis": {
             "endlinecolor": "#2a3f5f",
             "gridcolor": "#C8D4E3",
             "linecolor": "#C8D4E3",
             "minorgridcolor": "#C8D4E3",
             "startlinecolor": "#2a3f5f"
            },
            "type": "carpet"
           }
          ],
          "choropleth": [
           {
            "colorbar": {
             "outlinewidth": 0,
             "ticks": ""
            },
            "type": "choropleth"
           }
          ],
          "contour": [
           {
            "colorbar": {
             "outlinewidth": 0,
             "ticks": ""
            },
            "colorscale": [
             [
              0,
              "#0d0887"
             ],
             [
              0.1111111111111111,
              "#46039f"
             ],
             [
              0.2222222222222222,
              "#7201a8"
             ],
             [
              0.3333333333333333,
              "#9c179e"
             ],
             [
              0.4444444444444444,
              "#bd3786"
             ],
             [
              0.5555555555555556,
              "#d8576b"
             ],
             [
              0.6666666666666666,
              "#ed7953"
             ],
             [
              0.7777777777777778,
              "#fb9f3a"
             ],
             [
              0.8888888888888888,
              "#fdca26"
             ],
             [
              1,
              "#f0f921"
             ]
            ],
            "type": "contour"
           }
          ],
          "contourcarpet": [
           {
            "colorbar": {
             "outlinewidth": 0,
             "ticks": ""
            },
            "type": "contourcarpet"
           }
          ],
          "heatmap": [
           {
            "colorbar": {
             "outlinewidth": 0,
             "ticks": ""
            },
            "colorscale": [
             [
              0,
              "#0d0887"
             ],
             [
              0.1111111111111111,
              "#46039f"
             ],
             [
              0.2222222222222222,
              "#7201a8"
             ],
             [
              0.3333333333333333,
              "#9c179e"
             ],
             [
              0.4444444444444444,
              "#bd3786"
             ],
             [
              0.5555555555555556,
              "#d8576b"
             ],
             [
              0.6666666666666666,
              "#ed7953"
             ],
             [
              0.7777777777777778,
              "#fb9f3a"
             ],
             [
              0.8888888888888888,
              "#fdca26"
             ],
             [
              1,
              "#f0f921"
             ]
            ],
            "type": "heatmap"
           }
          ],
          "heatmapgl": [
           {
            "colorbar": {
             "outlinewidth": 0,
             "ticks": ""
            },
            "colorscale": [
             [
              0,
              "#0d0887"
             ],
             [
              0.1111111111111111,
              "#46039f"
             ],
             [
              0.2222222222222222,
              "#7201a8"
             ],
             [
              0.3333333333333333,
              "#9c179e"
             ],
             [
              0.4444444444444444,
              "#bd3786"
             ],
             [
              0.5555555555555556,
              "#d8576b"
             ],
             [
              0.6666666666666666,
              "#ed7953"
             ],
             [
              0.7777777777777778,
              "#fb9f3a"
             ],
             [
              0.8888888888888888,
              "#fdca26"
             ],
             [
              1,
              "#f0f921"
             ]
            ],
            "type": "heatmapgl"
           }
          ],
          "histogram": [
           {
            "marker": {
             "colorbar": {
              "outlinewidth": 0,
              "ticks": ""
             }
            },
            "type": "histogram"
           }
          ],
          "histogram2d": [
           {
            "colorbar": {
             "outlinewidth": 0,
             "ticks": ""
            },
            "colorscale": [
             [
              0,
              "#0d0887"
             ],
             [
              0.1111111111111111,
              "#46039f"
             ],
             [
              0.2222222222222222,
              "#7201a8"
             ],
             [
              0.3333333333333333,
              "#9c179e"
             ],
             [
              0.4444444444444444,
              "#bd3786"
             ],
             [
              0.5555555555555556,
              "#d8576b"
             ],
             [
              0.6666666666666666,
              "#ed7953"
             ],
             [
              0.7777777777777778,
              "#fb9f3a"
             ],
             [
              0.8888888888888888,
              "#fdca26"
             ],
             [
              1,
              "#f0f921"
             ]
            ],
            "type": "histogram2d"
           }
          ],
          "histogram2dcontour": [
           {
            "colorbar": {
             "outlinewidth": 0,
             "ticks": ""
            },
            "colorscale": [
             [
              0,
              "#0d0887"
             ],
             [
              0.1111111111111111,
              "#46039f"
             ],
             [
              0.2222222222222222,
              "#7201a8"
             ],
             [
              0.3333333333333333,
              "#9c179e"
             ],
             [
              0.4444444444444444,
              "#bd3786"
             ],
             [
              0.5555555555555556,
              "#d8576b"
             ],
             [
              0.6666666666666666,
              "#ed7953"
             ],
             [
              0.7777777777777778,
              "#fb9f3a"
             ],
             [
              0.8888888888888888,
              "#fdca26"
             ],
             [
              1,
              "#f0f921"
             ]
            ],
            "type": "histogram2dcontour"
           }
          ],
          "mesh3d": [
           {
            "colorbar": {
             "outlinewidth": 0,
             "ticks": ""
            },
            "type": "mesh3d"
           }
          ],
          "parcoords": [
           {
            "line": {
             "colorbar": {
              "outlinewidth": 0,
              "ticks": ""
             }
            },
            "type": "parcoords"
           }
          ],
          "pie": [
           {
            "automargin": true,
            "type": "pie"
           }
          ],
          "scatter": [
           {
            "marker": {
             "colorbar": {
              "outlinewidth": 0,
              "ticks": ""
             }
            },
            "type": "scatter"
           }
          ],
          "scatter3d": [
           {
            "line": {
             "colorbar": {
              "outlinewidth": 0,
              "ticks": ""
             }
            },
            "marker": {
             "colorbar": {
              "outlinewidth": 0,
              "ticks": ""
             }
            },
            "type": "scatter3d"
           }
          ],
          "scattercarpet": [
           {
            "marker": {
             "colorbar": {
              "outlinewidth": 0,
              "ticks": ""
             }
            },
            "type": "scattercarpet"
           }
          ],
          "scattergeo": [
           {
            "marker": {
             "colorbar": {
              "outlinewidth": 0,
              "ticks": ""
             }
            },
            "type": "scattergeo"
           }
          ],
          "scattergl": [
           {
            "marker": {
             "colorbar": {
              "outlinewidth": 0,
              "ticks": ""
             }
            },
            "type": "scattergl"
           }
          ],
          "scattermapbox": [
           {
            "marker": {
             "colorbar": {
              "outlinewidth": 0,
              "ticks": ""
             }
            },
            "type": "scattermapbox"
           }
          ],
          "scatterpolar": [
           {
            "marker": {
             "colorbar": {
              "outlinewidth": 0,
              "ticks": ""
             }
            },
            "type": "scatterpolar"
           }
          ],
          "scatterpolargl": [
           {
            "marker": {
             "colorbar": {
              "outlinewidth": 0,
              "ticks": ""
             }
            },
            "type": "scatterpolargl"
           }
          ],
          "scatterternary": [
           {
            "marker": {
             "colorbar": {
              "outlinewidth": 0,
              "ticks": ""
             }
            },
            "type": "scatterternary"
           }
          ],
          "surface": [
           {
            "colorbar": {
             "outlinewidth": 0,
             "ticks": ""
            },
            "colorscale": [
             [
              0,
              "#0d0887"
             ],
             [
              0.1111111111111111,
              "#46039f"
             ],
             [
              0.2222222222222222,
              "#7201a8"
             ],
             [
              0.3333333333333333,
              "#9c179e"
             ],
             [
              0.4444444444444444,
              "#bd3786"
             ],
             [
              0.5555555555555556,
              "#d8576b"
             ],
             [
              0.6666666666666666,
              "#ed7953"
             ],
             [
              0.7777777777777778,
              "#fb9f3a"
             ],
             [
              0.8888888888888888,
              "#fdca26"
             ],
             [
              1,
              "#f0f921"
             ]
            ],
            "type": "surface"
           }
          ],
          "table": [
           {
            "cells": {
             "fill": {
              "color": "#EBF0F8"
             },
             "line": {
              "color": "white"
             }
            },
            "header": {
             "fill": {
              "color": "#C8D4E3"
             },
             "line": {
              "color": "white"
             }
            },
            "type": "table"
           }
          ]
         },
         "layout": {
          "annotationdefaults": {
           "arrowcolor": "#2a3f5f",
           "arrowhead": 0,
           "arrowwidth": 1
          },
          "coloraxis": {
           "colorbar": {
            "outlinewidth": 0,
            "ticks": ""
           }
          },
          "colorscale": {
           "diverging": [
            [
             0,
             "#8e0152"
            ],
            [
             0.1,
             "#c51b7d"
            ],
            [
             0.2,
             "#de77ae"
            ],
            [
             0.3,
             "#f1b6da"
            ],
            [
             0.4,
             "#fde0ef"
            ],
            [
             0.5,
             "#f7f7f7"
            ],
            [
             0.6,
             "#e6f5d0"
            ],
            [
             0.7,
             "#b8e186"
            ],
            [
             0.8,
             "#7fbc41"
            ],
            [
             0.9,
             "#4d9221"
            ],
            [
             1,
             "#276419"
            ]
           ],
           "sequential": [
            [
             0,
             "#0d0887"
            ],
            [
             0.1111111111111111,
             "#46039f"
            ],
            [
             0.2222222222222222,
             "#7201a8"
            ],
            [
             0.3333333333333333,
             "#9c179e"
            ],
            [
             0.4444444444444444,
             "#bd3786"
            ],
            [
             0.5555555555555556,
             "#d8576b"
            ],
            [
             0.6666666666666666,
             "#ed7953"
            ],
            [
             0.7777777777777778,
             "#fb9f3a"
            ],
            [
             0.8888888888888888,
             "#fdca26"
            ],
            [
             1,
             "#f0f921"
            ]
           ],
           "sequentialminus": [
            [
             0,
             "#0d0887"
            ],
            [
             0.1111111111111111,
             "#46039f"
            ],
            [
             0.2222222222222222,
             "#7201a8"
            ],
            [
             0.3333333333333333,
             "#9c179e"
            ],
            [
             0.4444444444444444,
             "#bd3786"
            ],
            [
             0.5555555555555556,
             "#d8576b"
            ],
            [
             0.6666666666666666,
             "#ed7953"
            ],
            [
             0.7777777777777778,
             "#fb9f3a"
            ],
            [
             0.8888888888888888,
             "#fdca26"
            ],
            [
             1,
             "#f0f921"
            ]
           ]
          },
          "colorway": [
           "#636efa",
           "#EF553B",
           "#00cc96",
           "#ab63fa",
           "#FFA15A",
           "#19d3f3",
           "#FF6692",
           "#B6E880",
           "#FF97FF",
           "#FECB52"
          ],
          "font": {
           "color": "#2a3f5f"
          },
          "geo": {
           "bgcolor": "white",
           "lakecolor": "white",
           "landcolor": "white",
           "showlakes": true,
           "showland": true,
           "subunitcolor": "#C8D4E3"
          },
          "hoverlabel": {
           "align": "left"
          },
          "hovermode": "closest",
          "mapbox": {
           "style": "light"
          },
          "paper_bgcolor": "white",
          "plot_bgcolor": "white",
          "polar": {
           "angularaxis": {
            "gridcolor": "#EBF0F8",
            "linecolor": "#EBF0F8",
            "ticks": ""
           },
           "bgcolor": "white",
           "radialaxis": {
            "gridcolor": "#EBF0F8",
            "linecolor": "#EBF0F8",
            "ticks": ""
           }
          },
          "scene": {
           "xaxis": {
            "backgroundcolor": "white",
            "gridcolor": "#DFE8F3",
            "gridwidth": 2,
            "linecolor": "#EBF0F8",
            "showbackground": true,
            "ticks": "",
            "zerolinecolor": "#EBF0F8"
           },
           "yaxis": {
            "backgroundcolor": "white",
            "gridcolor": "#DFE8F3",
            "gridwidth": 2,
            "linecolor": "#EBF0F8",
            "showbackground": true,
            "ticks": "",
            "zerolinecolor": "#EBF0F8"
           },
           "zaxis": {
            "backgroundcolor": "white",
            "gridcolor": "#DFE8F3",
            "gridwidth": 2,
            "linecolor": "#EBF0F8",
            "showbackground": true,
            "ticks": "",
            "zerolinecolor": "#EBF0F8"
           }
          },
          "shapedefaults": {
           "line": {
            "color": "#2a3f5f"
           }
          },
          "ternary": {
           "aaxis": {
            "gridcolor": "#DFE8F3",
            "linecolor": "#A2B1C6",
            "ticks": ""
           },
           "baxis": {
            "gridcolor": "#DFE8F3",
            "linecolor": "#A2B1C6",
            "ticks": ""
           },
           "bgcolor": "white",
           "caxis": {
            "gridcolor": "#DFE8F3",
            "linecolor": "#A2B1C6",
            "ticks": ""
           }
          },
          "title": {
           "x": 0.05
          },
          "xaxis": {
           "automargin": true,
           "gridcolor": "#EBF0F8",
           "linecolor": "#EBF0F8",
           "ticks": "",
           "title": {
            "standoff": 15
           },
           "zerolinecolor": "#EBF0F8",
           "zerolinewidth": 2
          },
          "yaxis": {
           "automargin": true,
           "gridcolor": "#EBF0F8",
           "linecolor": "#EBF0F8",
           "ticks": "",
           "title": {
            "standoff": 15
           },
           "zerolinecolor": "#EBF0F8",
           "zerolinewidth": 2
          }
         }
        },
        "xaxis": {
         "anchor": "y",
         "domain": [
          0,
          1
         ],
         "title": {
          "text": "antidisease_re"
         }
        },
        "yaxis": {
         "anchor": "x",
         "domain": [
          0,
          1
         ],
         "title": {
          "text": "Breadth"
         }
        }
       }
      },
      "text/html": [
       "<div>\n",
       "        \n",
       "        \n",
       "            <div id=\"6a9f6911-a7b5-4c3c-a623-410f3fbf8b6c\" class=\"plotly-graph-div\" style=\"height:525px; width:100%;\"></div>\n",
       "            <script type=\"text/javascript\">\n",
       "                require([\"plotly\"], function(Plotly) {\n",
       "                    window.PLOTLYENV=window.PLOTLYENV || {};\n",
       "                    \n",
       "                if (document.getElementById(\"6a9f6911-a7b5-4c3c-a623-410f3fbf8b6c\")) {\n",
       "                    Plotly.newPlot(\n",
       "                        '6a9f6911-a7b5-4c3c-a623-410f3fbf8b6c',\n",
       "                        [{\"hovertemplate\": \"siteid=Tororo<br>antidisease_re=%{x}<br>Breadth=%{y}<extra></extra>\", \"legendgroup\": \"Tororo\", \"marker\": {\"color\": \"#636efa\", \"symbol\": \"circle\"}, \"mode\": \"markers\", \"name\": \"Tororo\", \"orientation\": \"v\", \"showlegend\": true, \"type\": \"scatter\", \"x\": [0.1611896787397131, -0.1449566308389714, -0.06187267435725444, 0.006699148908696885, 0.055309196693001564, -0.14024672754634662, 0.05306006780002708, -0.12507865742825808, -0.0785673074844117, 0.03090268641421721, 4.231153640008744e-05, -0.023709777371972527, 0.12147679739680856, -0.018523758903571042, -0.1896068847760089, 0.3043741778192013, -0.027298032940744232, 0.010996824364343313, 0.00669838383339496, -0.05366738816005392, -0.07971308104836099, -0.08991053894893998, -0.07740092416623498, 0.03963055287626326, 0.026151000237682985, -0.05182348392225969, 0.023465870155702232, -0.13915389045219276, 0.17077104471063476, -0.023466636743321088, 0.06617397097010283, -0.06864437085416658, -0.00937551429924234, 0.04953101385815939, -0.06933981922755786, -0.027809352996839096, -0.03896039624993202, 0.2318323275228244, -0.07460079217004771, 0.1351068871544497, -0.024492252200828773, 0.10622305207027473, -0.10461345364459952, 0.042714145266660515, -0.04875290199737812, -0.05341309692669242, 0.034229376882248135, 0.01871757320822716, 0.13842310530737456, 0.0010958110821766077, -0.0719801575007324, 0.02285481757713044, 0.0192077180784782, 0.012017086223477696, -0.05648917165539745, -0.05911764608955531, 0.10496770070146397, -0.036888219295977256, -0.019195494626644258, 0.029428984930138118, -0.16818546380728794, -0.003655778378583911, -0.01753601712352624, -0.06160510780796241, 0.035794227043727804, -0.016398761642325156, -0.07805017716435593, 0.0633347442830343], \"xaxis\": \"x\", \"y\": [66, 94, 114, 47, 78, 53, 24, 87, 86, 105, 45, 72, 98, 70, 88, 34, 56, 68, 50, 37, 58, 39, 42, 66, 80, 61, 79, 81, 33, 83, 80, 39, 80, 74, 61, 69, 59, 115, 55, 57, 49, 106, 84, 50, 76, 41, 69, 57, 58, 88, 34, 92, 46, 96, 31, 96, 61, 87, 35, 45, 86, 67, 74, 61, 69, 81, 60, 39], \"yaxis\": \"y\"}, {\"hovertemplate\": \"<b>OLS trendline</b><br>Breadth = -12.9809 * antidisease_re + 66.4258<br>R<sup>2</sup>=0.002866<br><br>siteid=Tororo<br>antidisease_re=%{x}<br>Breadth=%{y} <b>(trend)</b><extra></extra>\", \"legendgroup\": \"Tororo\", \"marker\": {\"color\": \"#636efa\", \"symbol\": \"circle\"}, \"mode\": \"lines\", \"name\": \"Tororo\", \"showlegend\": false, \"type\": \"scatter\", \"x\": [-0.1896068847760089, -0.16818546380728794, -0.1449566308389714, -0.14024672754634662, -0.13915389045219276, -0.12507865742825808, -0.10461345364459952, -0.08991053894893998, -0.07971308104836099, -0.0785673074844117, -0.07805017716435593, -0.07740092416623498, -0.07460079217004771, -0.0719801575007324, -0.06933981922755786, -0.06864437085416658, -0.06187267435725444, -0.06160510780796241, -0.05911764608955531, -0.05648917165539745, -0.05366738816005392, -0.05341309692669242, -0.05182348392225969, -0.04875290199737812, -0.03896039624993202, -0.036888219295977256, -0.027809352996839096, -0.027298032940744232, -0.024492252200828773, -0.023709777371972527, -0.023466636743321088, -0.019195494626644258, -0.018523758903571042, -0.01753601712352624, -0.016398761642325156, -0.00937551429924234, -0.003655778378583911, 4.231153640008744e-05, 0.0010958110821766077, 0.00669838383339496, 0.006699148908696885, 0.010996824364343313, 0.012017086223477696, 0.01871757320822716, 0.0192077180784782, 0.02285481757713044, 0.023465870155702232, 0.026151000237682985, 0.029428984930138118, 0.03090268641421721, 0.034229376882248135, 0.035794227043727804, 0.03963055287626326, 0.042714145266660515, 0.04953101385815939, 0.05306006780002708, 0.055309196693001564, 0.0633347442830343, 0.06617397097010283, 0.10496770070146397, 0.10622305207027473, 0.12147679739680856, 0.1351068871544497, 0.13842310530737456, 0.1611896787397131, 0.17077104471063476, 0.2318323275228244, 0.3043741778192013], \"xaxis\": \"x\", \"y\": [68.88707036103189, 68.60900027569352, 68.30746829164623, 68.24632934048012, 68.2321432925762, 68.04943359960868, 67.7837761079372, 67.59291851963273, 67.46054597568296, 67.44567276287552, 67.43895992751138, 67.43053201617639, 67.39418368315611, 67.36016539337034, 67.32589133237242, 67.31686376184759, 67.2289608059451, 67.22548754180899, 67.19319796151815, 67.1590779042501, 67.12244851451436, 67.11914757639896, 67.0985129124127, 67.05865388629408, 66.93153800015166, 66.90463920462993, 66.78678702618373, 66.7801496134817, 66.74372795448305, 66.73357069914724, 66.73041450631311, 66.67497108570106, 66.66625132756211, 66.65342951515899, 66.63866687503484, 66.54749855380652, 66.4732510303629, 66.42524636345729, 66.4115709537342, 66.33884431784386, 66.33883438645067, 66.28304653827509, 66.26980258482068, 66.18282399500731, 66.17646145602832, 66.1291186924316, 66.1211866582814, 66.08633115769948, 66.04377984961866, 66.02464982560954, 65.98146627099426, 65.96115305187682, 65.91135395343248, 65.8713260392993, 65.7828367073476, 65.73702628551742, 65.70783048827691, 65.60365137212462, 65.56679555344103, 65.06321664741304, 65.04692101218116, 64.84891312694924, 64.67198181003936, 64.6289341958717, 64.33340277307596, 64.20902767876812, 63.41639510097374, 62.47473401639998], \"yaxis\": \"y\"}, {\"hovertemplate\": \"siteid=Kanungu<br>antidisease_re=%{x}<br>Breadth=%{y}<extra></extra>\", \"legendgroup\": \"Kanungu\", \"marker\": {\"color\": \"#EF553B\", \"symbol\": \"circle\"}, \"mode\": \"markers\", \"name\": \"Kanungu\", \"orientation\": \"v\", \"showlegend\": true, \"type\": \"scatter\", \"x\": [0.2319031006091227, -0.013948009776518756, -0.018560017051423027, 0.15880549485734374, 0.06611676401584564, 0.040540379485959635, -0.08736831064469089, -0.06623382942811354, 0.14823841355335862, -0.00492010185225679, 0.07436982141333524, 0.03822103376984982, -0.09924378001126268, -0.013570752385161759, 0.10162208318046688, 0.026238322265265655, -0.011561869979326378, 0.014967683665843537, 0.1252431466267131, -0.02742373090440792, -0.044020052515174234, -0.015309581029107447, -0.058114925191781484, 0.00445143820325371, 0.018120668524162352, -0.02065772803563074, -0.14207083604174564, 0.13633063644671867, -0.005146982845394346, -0.07025387549411014, -0.28470346703639066, 0.1603708953961543, 0.10209396967888648, 0.03867457911142914, 0.11012398421367164, -0.03850925965555944, -0.08427111203677326, -0.03115427812240061, 0.05315128554933537, 0.08705337959700854, 0.11207702673072527, -0.09172937894084957, 0.21852666684488406, 0.028437834788161837, -0.1547957184533289, -0.0541285565731622, -0.021143037265122545, 0.1101470251185018, 0.026544051084819536, -0.027317508345218813, -0.21568657376729747, -0.006919763184964149, 0.07822892711595263, 0.13166606957994725, -0.05447928805821789, -0.10378836429844704, -0.22394839824240634, -0.20355528715416085, -0.08967837962346005, 0.02729006560248199, 0.05400678253526973, 0.10547836388365897, -0.0342169532519789, -0.05923129504110716], \"xaxis\": \"x\", \"y\": [28, 12, 27, 14, 15, 40, 27, 36, 18, 35, 13, 6, 29, 75, 5, 52, 26, 20, 22, 20, 8, 34, 9, 18, 25, 38, 39, 16, 7, 15, 57, 33, 20, 19, 49, 22, 22, 33, 13, 50, 50, 41, 31, 87, 100, 36, 49, 35, 97, 88, 88, 52, 33, 18, 48, 20, 78, 48, 22, 43, 30, 34, 14, 27], \"yaxis\": \"y\"}, {\"hovertemplate\": \"<b>OLS trendline</b><br>Breadth = -74.2116 * antidisease_re + 34.8005<br>R<sup>2</sup>=0.113506<br><br>siteid=Kanungu<br>antidisease_re=%{x}<br>Breadth=%{y} <b>(trend)</b><extra></extra>\", \"legendgroup\": \"Kanungu\", \"marker\": {\"color\": \"#EF553B\", \"symbol\": \"circle\"}, \"mode\": \"lines\", \"name\": \"Kanungu\", \"showlegend\": false, \"type\": \"scatter\", \"x\": [-0.28470346703639066, -0.22394839824240634, -0.21568657376729747, -0.20355528715416085, -0.1547957184533289, -0.14207083604174564, -0.10378836429844704, -0.09924378001126268, -0.09172937894084957, -0.08967837962346005, -0.08736831064469089, -0.08427111203677326, -0.07025387549411014, -0.06623382942811354, -0.05923129504110716, -0.058114925191781484, -0.05447928805821789, -0.0541285565731622, -0.044020052515174234, -0.03850925965555944, -0.0342169532519789, -0.03115427812240061, -0.02742373090440792, -0.027317508345218813, -0.021143037265122545, -0.02065772803563074, -0.018560017051423027, -0.015309581029107447, -0.013948009776518756, -0.013570752385161759, -0.011561869979326378, -0.006919763184964149, -0.005146982845394346, -0.00492010185225679, 0.00445143820325371, 0.014967683665843537, 0.018120668524162352, 0.026238322265265655, 0.026544051084819536, 0.02729006560248199, 0.028437834788161837, 0.03822103376984982, 0.03867457911142914, 0.040540379485959635, 0.05315128554933537, 0.05400678253526973, 0.06611676401584564, 0.07436982141333524, 0.07822892711595263, 0.08705337959700854, 0.10162208318046688, 0.10209396967888648, 0.10547836388365897, 0.11012398421367164, 0.1101470251185018, 0.11207702673072527, 0.1252431466267131, 0.13166606957994725, 0.13633063644671867, 0.14823841355335862, 0.15880549485734374, 0.1603708953961543, 0.21852666684488406, 0.2319031006091227], \"xaxis\": \"x\", \"y\": [55.92883790001217, 51.42010582056271, 50.806982441968294, 49.906700009516165, 46.28817342489434, 45.34383928660416, 42.50283504027668, 42.165574078020654, 41.607918201127376, 41.45571021913002, 41.284276257864406, 41.05442813165626, 40.01418629966291, 39.715852168562094, 39.19618274747719, 39.11333513242053, 38.843528610944595, 38.81750025924762, 38.067331797155326, 37.65836693146487, 37.33982791964556, 37.112541836693595, 36.83569188409623, 36.82780893589644, 36.36959143429402, 36.3335758501642, 36.17790131969857, 35.93668119672073, 35.835636788297464, 35.80763990612145, 35.658557488360636, 35.314059222858816, 35.18249832192495, 35.165661115873135, 34.47018394629894, 33.6897563340231, 33.455768219798, 32.85334398493319, 32.83065535394819, 32.775292408036215, 32.69011459736125, 31.964087551980946, 31.930429217431154, 31.79196514900881, 30.856089380162743, 30.792601562916843, 29.89390021886672, 29.28142745930524, 28.995036973296937, 28.340160058914222, 27.258992964437443, 27.223973502925546, 26.972812126213032, 26.628053115538606, 26.6263432126645, 26.483114666385866, 25.506035579565776, 25.02938006196151, 24.68321499810051, 23.79951956821471, 23.015319345793998, 22.89914843583329, 18.58331442328122, 17.59062760358618], \"yaxis\": \"y\"}],\n",
       "                        {\"legend\": {\"title\": {\"text\": \"siteid\"}, \"tracegroupgap\": 0}, \"margin\": {\"t\": 60}, \"template\": {\"data\": {\"bar\": [{\"error_x\": {\"color\": \"#2a3f5f\"}, \"error_y\": {\"color\": \"#2a3f5f\"}, \"marker\": {\"line\": {\"color\": \"white\", \"width\": 0.5}}, \"type\": \"bar\"}], \"barpolar\": [{\"marker\": {\"line\": {\"color\": \"white\", \"width\": 0.5}}, \"type\": \"barpolar\"}], \"carpet\": [{\"aaxis\": {\"endlinecolor\": \"#2a3f5f\", \"gridcolor\": \"#C8D4E3\", \"linecolor\": \"#C8D4E3\", \"minorgridcolor\": \"#C8D4E3\", \"startlinecolor\": \"#2a3f5f\"}, \"baxis\": {\"endlinecolor\": \"#2a3f5f\", \"gridcolor\": \"#C8D4E3\", \"linecolor\": \"#C8D4E3\", \"minorgridcolor\": \"#C8D4E3\", \"startlinecolor\": \"#2a3f5f\"}, \"type\": \"carpet\"}], \"choropleth\": [{\"colorbar\": {\"outlinewidth\": 0, \"ticks\": \"\"}, \"type\": \"choropleth\"}], \"contour\": [{\"colorbar\": {\"outlinewidth\": 0, \"ticks\": \"\"}, \"colorscale\": [[0.0, \"#0d0887\"], [0.1111111111111111, \"#46039f\"], [0.2222222222222222, \"#7201a8\"], [0.3333333333333333, \"#9c179e\"], [0.4444444444444444, \"#bd3786\"], [0.5555555555555556, \"#d8576b\"], [0.6666666666666666, \"#ed7953\"], [0.7777777777777778, \"#fb9f3a\"], [0.8888888888888888, \"#fdca26\"], [1.0, \"#f0f921\"]], \"type\": \"contour\"}], \"contourcarpet\": [{\"colorbar\": {\"outlinewidth\": 0, \"ticks\": \"\"}, \"type\": \"contourcarpet\"}], \"heatmap\": [{\"colorbar\": {\"outlinewidth\": 0, \"ticks\": \"\"}, \"colorscale\": [[0.0, \"#0d0887\"], [0.1111111111111111, \"#46039f\"], [0.2222222222222222, \"#7201a8\"], [0.3333333333333333, \"#9c179e\"], [0.4444444444444444, \"#bd3786\"], [0.5555555555555556, \"#d8576b\"], [0.6666666666666666, \"#ed7953\"], [0.7777777777777778, \"#fb9f3a\"], [0.8888888888888888, \"#fdca26\"], [1.0, \"#f0f921\"]], \"type\": \"heatmap\"}], \"heatmapgl\": [{\"colorbar\": {\"outlinewidth\": 0, \"ticks\": \"\"}, \"colorscale\": [[0.0, \"#0d0887\"], [0.1111111111111111, \"#46039f\"], [0.2222222222222222, \"#7201a8\"], [0.3333333333333333, \"#9c179e\"], [0.4444444444444444, \"#bd3786\"], [0.5555555555555556, \"#d8576b\"], [0.6666666666666666, \"#ed7953\"], [0.7777777777777778, \"#fb9f3a\"], [0.8888888888888888, \"#fdca26\"], [1.0, \"#f0f921\"]], \"type\": \"heatmapgl\"}], \"histogram\": [{\"marker\": {\"colorbar\": {\"outlinewidth\": 0, \"ticks\": \"\"}}, \"type\": \"histogram\"}], \"histogram2d\": [{\"colorbar\": {\"outlinewidth\": 0, \"ticks\": \"\"}, \"colorscale\": [[0.0, \"#0d0887\"], [0.1111111111111111, \"#46039f\"], [0.2222222222222222, \"#7201a8\"], [0.3333333333333333, \"#9c179e\"], [0.4444444444444444, \"#bd3786\"], [0.5555555555555556, \"#d8576b\"], [0.6666666666666666, \"#ed7953\"], [0.7777777777777778, \"#fb9f3a\"], [0.8888888888888888, \"#fdca26\"], [1.0, \"#f0f921\"]], \"type\": \"histogram2d\"}], \"histogram2dcontour\": [{\"colorbar\": {\"outlinewidth\": 0, \"ticks\": \"\"}, \"colorscale\": [[0.0, \"#0d0887\"], [0.1111111111111111, \"#46039f\"], [0.2222222222222222, \"#7201a8\"], [0.3333333333333333, \"#9c179e\"], [0.4444444444444444, \"#bd3786\"], [0.5555555555555556, \"#d8576b\"], [0.6666666666666666, \"#ed7953\"], [0.7777777777777778, \"#fb9f3a\"], [0.8888888888888888, \"#fdca26\"], [1.0, \"#f0f921\"]], \"type\": \"histogram2dcontour\"}], \"mesh3d\": [{\"colorbar\": {\"outlinewidth\": 0, \"ticks\": \"\"}, \"type\": \"mesh3d\"}], \"parcoords\": [{\"line\": {\"colorbar\": {\"outlinewidth\": 0, \"ticks\": \"\"}}, \"type\": \"parcoords\"}], \"pie\": [{\"automargin\": true, \"type\": \"pie\"}], \"scatter\": [{\"marker\": {\"colorbar\": {\"outlinewidth\": 0, \"ticks\": \"\"}}, \"type\": \"scatter\"}], \"scatter3d\": [{\"line\": {\"colorbar\": {\"outlinewidth\": 0, \"ticks\": \"\"}}, \"marker\": {\"colorbar\": {\"outlinewidth\": 0, \"ticks\": \"\"}}, \"type\": \"scatter3d\"}], \"scattercarpet\": [{\"marker\": {\"colorbar\": {\"outlinewidth\": 0, \"ticks\": \"\"}}, \"type\": \"scattercarpet\"}], \"scattergeo\": [{\"marker\": {\"colorbar\": {\"outlinewidth\": 0, \"ticks\": \"\"}}, \"type\": \"scattergeo\"}], \"scattergl\": [{\"marker\": {\"colorbar\": {\"outlinewidth\": 0, \"ticks\": \"\"}}, \"type\": \"scattergl\"}], \"scattermapbox\": [{\"marker\": {\"colorbar\": {\"outlinewidth\": 0, \"ticks\": \"\"}}, \"type\": \"scattermapbox\"}], \"scatterpolar\": [{\"marker\": {\"colorbar\": {\"outlinewidth\": 0, \"ticks\": \"\"}}, \"type\": \"scatterpolar\"}], \"scatterpolargl\": [{\"marker\": {\"colorbar\": {\"outlinewidth\": 0, \"ticks\": \"\"}}, \"type\": \"scatterpolargl\"}], \"scatterternary\": [{\"marker\": {\"colorbar\": {\"outlinewidth\": 0, \"ticks\": \"\"}}, \"type\": \"scatterternary\"}], \"surface\": [{\"colorbar\": {\"outlinewidth\": 0, \"ticks\": \"\"}, \"colorscale\": [[0.0, \"#0d0887\"], [0.1111111111111111, \"#46039f\"], [0.2222222222222222, \"#7201a8\"], [0.3333333333333333, \"#9c179e\"], [0.4444444444444444, \"#bd3786\"], [0.5555555555555556, \"#d8576b\"], [0.6666666666666666, \"#ed7953\"], [0.7777777777777778, \"#fb9f3a\"], [0.8888888888888888, \"#fdca26\"], [1.0, \"#f0f921\"]], \"type\": \"surface\"}], \"table\": [{\"cells\": {\"fill\": {\"color\": \"#EBF0F8\"}, \"line\": {\"color\": \"white\"}}, \"header\": {\"fill\": {\"color\": \"#C8D4E3\"}, \"line\": {\"color\": \"white\"}}, \"type\": \"table\"}]}, \"layout\": {\"annotationdefaults\": {\"arrowcolor\": \"#2a3f5f\", \"arrowhead\": 0, \"arrowwidth\": 1}, \"coloraxis\": {\"colorbar\": {\"outlinewidth\": 0, \"ticks\": \"\"}}, \"colorscale\": {\"diverging\": [[0, \"#8e0152\"], [0.1, \"#c51b7d\"], [0.2, \"#de77ae\"], [0.3, \"#f1b6da\"], [0.4, \"#fde0ef\"], [0.5, \"#f7f7f7\"], [0.6, \"#e6f5d0\"], [0.7, \"#b8e186\"], [0.8, \"#7fbc41\"], [0.9, \"#4d9221\"], [1, \"#276419\"]], \"sequential\": [[0.0, \"#0d0887\"], [0.1111111111111111, \"#46039f\"], [0.2222222222222222, \"#7201a8\"], [0.3333333333333333, \"#9c179e\"], [0.4444444444444444, \"#bd3786\"], [0.5555555555555556, \"#d8576b\"], [0.6666666666666666, \"#ed7953\"], [0.7777777777777778, \"#fb9f3a\"], [0.8888888888888888, \"#fdca26\"], [1.0, \"#f0f921\"]], \"sequentialminus\": [[0.0, \"#0d0887\"], [0.1111111111111111, \"#46039f\"], [0.2222222222222222, \"#7201a8\"], [0.3333333333333333, \"#9c179e\"], [0.4444444444444444, \"#bd3786\"], [0.5555555555555556, \"#d8576b\"], [0.6666666666666666, \"#ed7953\"], [0.7777777777777778, \"#fb9f3a\"], [0.8888888888888888, \"#fdca26\"], [1.0, \"#f0f921\"]]}, \"colorway\": [\"#636efa\", \"#EF553B\", \"#00cc96\", \"#ab63fa\", \"#FFA15A\", \"#19d3f3\", \"#FF6692\", \"#B6E880\", \"#FF97FF\", \"#FECB52\"], \"font\": {\"color\": \"#2a3f5f\"}, \"geo\": {\"bgcolor\": \"white\", \"lakecolor\": \"white\", \"landcolor\": \"white\", \"showlakes\": true, \"showland\": true, \"subunitcolor\": \"#C8D4E3\"}, \"hoverlabel\": {\"align\": \"left\"}, \"hovermode\": \"closest\", \"mapbox\": {\"style\": \"light\"}, \"paper_bgcolor\": \"white\", \"plot_bgcolor\": \"white\", \"polar\": {\"angularaxis\": {\"gridcolor\": \"#EBF0F8\", \"linecolor\": \"#EBF0F8\", \"ticks\": \"\"}, \"bgcolor\": \"white\", \"radialaxis\": {\"gridcolor\": \"#EBF0F8\", \"linecolor\": \"#EBF0F8\", \"ticks\": \"\"}}, \"scene\": {\"xaxis\": {\"backgroundcolor\": \"white\", \"gridcolor\": \"#DFE8F3\", \"gridwidth\": 2, \"linecolor\": \"#EBF0F8\", \"showbackground\": true, \"ticks\": \"\", \"zerolinecolor\": \"#EBF0F8\"}, \"yaxis\": {\"backgroundcolor\": \"white\", \"gridcolor\": \"#DFE8F3\", \"gridwidth\": 2, \"linecolor\": \"#EBF0F8\", \"showbackground\": true, \"ticks\": \"\", \"zerolinecolor\": \"#EBF0F8\"}, \"zaxis\": {\"backgroundcolor\": \"white\", \"gridcolor\": \"#DFE8F3\", \"gridwidth\": 2, \"linecolor\": \"#EBF0F8\", \"showbackground\": true, \"ticks\": \"\", \"zerolinecolor\": \"#EBF0F8\"}}, \"shapedefaults\": {\"line\": {\"color\": \"#2a3f5f\"}}, \"ternary\": {\"aaxis\": {\"gridcolor\": \"#DFE8F3\", \"linecolor\": \"#A2B1C6\", \"ticks\": \"\"}, \"baxis\": {\"gridcolor\": \"#DFE8F3\", \"linecolor\": \"#A2B1C6\", \"ticks\": \"\"}, \"bgcolor\": \"white\", \"caxis\": {\"gridcolor\": \"#DFE8F3\", \"linecolor\": \"#A2B1C6\", \"ticks\": \"\"}}, \"title\": {\"x\": 0.05}, \"xaxis\": {\"automargin\": true, \"gridcolor\": \"#EBF0F8\", \"linecolor\": \"#EBF0F8\", \"ticks\": \"\", \"title\": {\"standoff\": 15}, \"zerolinecolor\": \"#EBF0F8\", \"zerolinewidth\": 2}, \"yaxis\": {\"automargin\": true, \"gridcolor\": \"#EBF0F8\", \"linecolor\": \"#EBF0F8\", \"ticks\": \"\", \"title\": {\"standoff\": 15}, \"zerolinecolor\": \"#EBF0F8\", \"zerolinewidth\": 2}}}, \"xaxis\": {\"anchor\": \"y\", \"domain\": [0.0, 1.0], \"title\": {\"text\": \"antidisease_re\"}}, \"yaxis\": {\"anchor\": \"x\", \"domain\": [0.0, 1.0], \"title\": {\"text\": \"Breadth\"}}},\n",
       "                        {\"responsive\": true}\n",
       "                    ).then(function(){\n",
       "                            \n",
       "var gd = document.getElementById('6a9f6911-a7b5-4c3c-a623-410f3fbf8b6c');\n",
       "var x = new MutationObserver(function (mutations, observer) {{\n",
       "        var display = window.getComputedStyle(gd).display;\n",
       "        if (!display || display === 'none') {{\n",
       "            console.log([gd, 'removed!']);\n",
       "            Plotly.purge(gd);\n",
       "            observer.disconnect();\n",
       "        }}\n",
       "}});\n",
       "\n",
       "// Listen for the removal of the full notebook cells\n",
       "var notebookContainer = gd.closest('#notebook-container');\n",
       "if (notebookContainer) {{\n",
       "    x.observe(notebookContainer, {childList: true});\n",
       "}}\n",
       "\n",
       "// Listen for the clearing of the current output cell\n",
       "var outputEl = gd.closest('.output');\n",
       "if (outputEl) {{\n",
       "    x.observe(outputEl, {childList: true});\n",
       "}}\n",
       "\n",
       "                        })\n",
       "                };\n",
       "                });\n",
       "            </script>\n",
       "        </div>"
      ]
     },
     "metadata": {},
     "output_type": "display_data"
    }
   ],
   "source": [
    "plot_corr_re(frame, 'antidisease_re')"
   ]
  },
  {
   "cell_type": "code",
   "execution_count": null,
   "metadata": {},
   "outputs": [],
   "source": []
  }
 ],
 "metadata": {
  "kernelspec": {
   "display_name": "Python 3",
   "language": "python",
   "name": "python3"
  },
  "language_info": {
   "codemirror_mode": {
    "name": "ipython",
    "version": 3
   },
   "file_extension": ".py",
   "mimetype": "text/x-python",
   "name": "python",
   "nbconvert_exporter": "python",
   "pygments_lexer": "ipython3",
   "version": "3.8.5"
  },
  "toc": {
   "base_numbering": 1,
   "nav_menu": {},
   "number_sections": true,
   "sideBar": true,
   "skip_h1_title": false,
   "title_cell": "Table of Contents",
   "title_sidebar": "Contents",
   "toc_cell": false,
   "toc_position": {},
   "toc_section_display": true,
   "toc_window_display": true
  }
 },
 "nbformat": 4,
 "nbformat_minor": 4
}
