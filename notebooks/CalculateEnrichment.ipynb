{
 "cells": [
  {
   "cell_type": "markdown",
   "metadata": {},
   "source": [
    "Calculates Enrichments for a given input read count dataset"
   ]
  },
  {
   "cell_type": "markdown",
   "metadata": {},
   "source": [
    "# Load Modules"
   ]
  },
  {
   "cell_type": "code",
   "execution_count": 30,
   "metadata": {},
   "outputs": [
    {
     "name": "stdout",
     "output_type": "stream",
     "text": [
      "The autoreload extension is already loaded. To reload it, use:\n",
      "  %reload_ext autoreload\n"
     ]
    }
   ],
   "source": [
    "%load_ext autoreload\n",
    "%autoreload 2\n",
    "\n",
    "import numpy as np\n",
    "import pandas as pd\n",
    "import plotly\n",
    "import plotly.express as px\n",
    "import plotly.graph_objects as go\n",
    "import plotly.io as pio\n",
    "\n",
    "from plotly.subplots import make_subplots\n",
    "from multiprocessing import Pool\n",
    "from tqdm import tqdm\n",
    "import subprocess\n",
    "import os\n",
    "\n",
    "pio.templates.default = 'plotly_white'\n",
    "pd.options.mode.chained_assignment = None"
   ]
  },
  {
   "cell_type": "markdown",
   "metadata": {},
   "source": [
    "# Define Paths"
   ]
  },
  {
   "cell_type": "code",
   "execution_count": 25,
   "metadata": {},
   "outputs": [],
   "source": [
    "# raw count input matrix filepath\n",
    "fn_raw = \"../data/raw_counts/TororoKanunguRound2.csv\"\n",
    "\n",
    "# output directory to write enrichments to\n",
    "fn_outdir = \"../data/enriched/TororoKanunguRound2/\""
   ]
  },
  {
   "cell_type": "markdown",
   "metadata": {},
   "source": [
    "# Run Pipeline"
   ]
  },
  {
   "cell_type": "markdown",
   "metadata": {},
   "source": [
    "## Preprocess"
   ]
  },
  {
   "cell_type": "code",
   "execution_count": 26,
   "metadata": {},
   "outputs": [
    {
     "name": "stdout",
     "output_type": "stream",
     "text": [
      "\n",
      "real\t0m0.001s\n",
      "user\t0m0.002s\n",
      "sys\t0m0.000s\n",
      "\n",
      "real\t0m0.992s\n",
      "user\t0m0.913s\n",
      "sys\t0m0.176s\n",
      "\n",
      "real\t0m2.862s\n",
      "user\t0m2.568s\n",
      "sys\t0m0.626s\n",
      "\n",
      "real\t0m10.271s\n",
      "user\t0m8.860s\n",
      "sys\t0m1.260s\n",
      "\n"
     ]
    }
   ],
   "source": [
    "pipeline_p = subprocess.Popen(\n",
    "    args = \" \".join([\n",
    "        \"../src/PhageLoader/pipeline/preprocess.sh\",\n",
    "        fn_raw,\n",
    "        fn_outdir\n",
    "    ]),\n",
    "    stdout = subprocess.PIPE,\n",
    "    stderr = subprocess.PIPE,\n",
    "    shell=True\n",
    ")\n",
    "stdout, stderr = pipeline_p.communicate()\n",
    "\n",
    "for line in stderr.decode(\"ascii\").split(\"\\n\"):\n",
    "    print(line)"
   ]
  },
  {
   "cell_type": "markdown",
   "metadata": {},
   "source": [
    "## Enrichment"
   ]
  },
  {
   "cell_type": "markdown",
   "metadata": {},
   "source": [
    "### Create Enrichment Directory"
   ]
  },
  {
   "cell_type": "code",
   "execution_count": 28,
   "metadata": {},
   "outputs": [],
   "source": [
    "os.mkdir(\"../data/enriched/TororoKanunguRound2/enrichments/\")"
   ]
  },
  {
   "cell_type": "markdown",
   "metadata": {},
   "source": [
    "### Run enrichment over many z-score and c-min thresholds"
   ]
  },
  {
   "cell_type": "markdown",
   "metadata": {},
   "source": [
    "* Default for analysis is z-score threshold of 10 and c-min threshold of 8 (only patients)"
   ]
  },
  {
   "cell_type": "code",
   "execution_count": 33,
   "metadata": {},
   "outputs": [
    {
     "name": "stdout",
     "output_type": "stream",
     "text": [
      "wrote to : ../data/enriched/TororoKanunguRound2//enrichments/z1_c1\n",
      "wrote to : ../data/enriched/TororoKanunguRound2//enrichments/z1_c2\n",
      "wrote to : ../data/enriched/TororoKanunguRound2//enrichments/z1_c3\n",
      "wrote to : ../data/enriched/TororoKanunguRound2//enrichments/z1_c4\n",
      "wrote to : ../data/enriched/TororoKanunguRound2//enrichments/z1_c5\n",
      "wrote to : ../data/enriched/TororoKanunguRound2//enrichments/z1_c6\n",
      "wrote to : ../data/enriched/TororoKanunguRound2//enrichments/z1_c7\n",
      "wrote to : ../data/enriched/TororoKanunguRound2//enrichments/z1_c8\n",
      "wrote to : ../data/enriched/TororoKanunguRound2//enrichments/z1_c9\n",
      "wrote to : ../data/enriched/TororoKanunguRound2//enrichments/z1_c10\n",
      "wrote to : ../data/enriched/TororoKanunguRound2//enrichments/z1_c11\n",
      "wrote to : ../data/enriched/TororoKanunguRound2//enrichments/z1_c12\n",
      "wrote to : ../data/enriched/TororoKanunguRound2//enrichments/z1_c13\n",
      "wrote to : ../data/enriched/TororoKanunguRound2//enrichments/z1_c14\n",
      "wrote to : ../data/enriched/TororoKanunguRound2//enrichments/z2_c1\n",
      "wrote to : ../data/enriched/TororoKanunguRound2//enrichments/z2_c2\n",
      "wrote to : ../data/enriched/TororoKanunguRound2//enrichments/z2_c3\n",
      "wrote to : ../data/enriched/TororoKanunguRound2//enrichments/z2_c4\n",
      "wrote to : ../data/enriched/TororoKanunguRound2//enrichments/z2_c5\n",
      "wrote to : ../data/enriched/TororoKanunguRound2//enrichments/z2_c6\n",
      "wrote to : ../data/enriched/TororoKanunguRound2//enrichments/z2_c7\n",
      "wrote to : ../data/enriched/TororoKanunguRound2//enrichments/z2_c8\n",
      "wrote to : ../data/enriched/TororoKanunguRound2//enrichments/z2_c9\n",
      "wrote to : ../data/enriched/TororoKanunguRound2//enrichments/z2_c10\n",
      "wrote to : ../data/enriched/TororoKanunguRound2//enrichments/z2_c11\n",
      "wrote to : ../data/enriched/TororoKanunguRound2//enrichments/z2_c12\n",
      "wrote to : ../data/enriched/TororoKanunguRound2//enrichments/z2_c13\n",
      "wrote to : ../data/enriched/TororoKanunguRound2//enrichments/z2_c14\n",
      "wrote to : ../data/enriched/TororoKanunguRound2//enrichments/z3_c1\n",
      "wrote to : ../data/enriched/TororoKanunguRound2//enrichments/z3_c2\n",
      "wrote to : ../data/enriched/TororoKanunguRound2//enrichments/z3_c3\n",
      "wrote to : ../data/enriched/TororoKanunguRound2//enrichments/z3_c4\n",
      "wrote to : ../data/enriched/TororoKanunguRound2//enrichments/z3_c5\n",
      "wrote to : ../data/enriched/TororoKanunguRound2//enrichments/z3_c6\n",
      "wrote to : ../data/enriched/TororoKanunguRound2//enrichments/z3_c7\n",
      "wrote to : ../data/enriched/TororoKanunguRound2//enrichments/z3_c8\n",
      "wrote to : ../data/enriched/TororoKanunguRound2//enrichments/z3_c9\n",
      "wrote to : ../data/enriched/TororoKanunguRound2//enrichments/z3_c10\n",
      "wrote to : ../data/enriched/TororoKanunguRound2//enrichments/z3_c11\n",
      "wrote to : ../data/enriched/TororoKanunguRound2//enrichments/z3_c12\n",
      "wrote to : ../data/enriched/TororoKanunguRound2//enrichments/z3_c13\n",
      "wrote to : ../data/enriched/TororoKanunguRound2//enrichments/z3_c14\n",
      "wrote to : ../data/enriched/TororoKanunguRound2//enrichments/z4_c1\n",
      "wrote to : ../data/enriched/TororoKanunguRound2//enrichments/z4_c2\n",
      "wrote to : ../data/enriched/TororoKanunguRound2//enrichments/z4_c3\n",
      "wrote to : ../data/enriched/TororoKanunguRound2//enrichments/z4_c4\n",
      "wrote to : ../data/enriched/TororoKanunguRound2//enrichments/z4_c5\n",
      "wrote to : ../data/enriched/TororoKanunguRound2//enrichments/z4_c6\n",
      "wrote to : ../data/enriched/TororoKanunguRound2//enrichments/z4_c7\n",
      "wrote to : ../data/enriched/TororoKanunguRound2//enrichments/z4_c8\n",
      "wrote to : ../data/enriched/TororoKanunguRound2//enrichments/z4_c9\n",
      "wrote to : ../data/enriched/TororoKanunguRound2//enrichments/z4_c10\n",
      "wrote to : ../data/enriched/TororoKanunguRound2//enrichments/z4_c11\n",
      "wrote to : ../data/enriched/TororoKanunguRound2//enrichments/z4_c12\n",
      "wrote to : ../data/enriched/TororoKanunguRound2//enrichments/z4_c13\n",
      "wrote to : ../data/enriched/TororoKanunguRound2//enrichments/z4_c14\n",
      "wrote to : ../data/enriched/TororoKanunguRound2//enrichments/z5_c1\n",
      "wrote to : ../data/enriched/TororoKanunguRound2//enrichments/z5_c2\n",
      "wrote to : ../data/enriched/TororoKanunguRound2//enrichments/z5_c3\n",
      "wrote to : ../data/enriched/TororoKanunguRound2//enrichments/z5_c4\n",
      "wrote to : ../data/enriched/TororoKanunguRound2//enrichments/z5_c5\n",
      "wrote to : ../data/enriched/TororoKanunguRound2//enrichments/z5_c6\n",
      "wrote to : ../data/enriched/TororoKanunguRound2//enrichments/z5_c7\n",
      "wrote to : ../data/enriched/TororoKanunguRound2//enrichments/z5_c8\n",
      "wrote to : ../data/enriched/TororoKanunguRound2//enrichments/z5_c9\n",
      "wrote to : ../data/enriched/TororoKanunguRound2//enrichments/z5_c10\n",
      "wrote to : ../data/enriched/TororoKanunguRound2//enrichments/z5_c11\n",
      "wrote to : ../data/enriched/TororoKanunguRound2//enrichments/z5_c12\n",
      "wrote to : ../data/enriched/TororoKanunguRound2//enrichments/z5_c13\n",
      "wrote to : ../data/enriched/TororoKanunguRound2//enrichments/z5_c14\n",
      "wrote to : ../data/enriched/TororoKanunguRound2//enrichments/z6_c1\n",
      "wrote to : ../data/enriched/TororoKanunguRound2//enrichments/z6_c2\n",
      "wrote to : ../data/enriched/TororoKanunguRound2//enrichments/z6_c3\n",
      "wrote to : ../data/enriched/TororoKanunguRound2//enrichments/z6_c4\n",
      "wrote to : ../data/enriched/TororoKanunguRound2//enrichments/z6_c5\n",
      "wrote to : ../data/enriched/TororoKanunguRound2//enrichments/z6_c6\n",
      "wrote to : ../data/enriched/TororoKanunguRound2//enrichments/z6_c7\n",
      "wrote to : ../data/enriched/TororoKanunguRound2//enrichments/z6_c8\n",
      "wrote to : ../data/enriched/TororoKanunguRound2//enrichments/z6_c9\n",
      "wrote to : ../data/enriched/TororoKanunguRound2//enrichments/z6_c10\n",
      "wrote to : ../data/enriched/TororoKanunguRound2//enrichments/z6_c11\n",
      "wrote to : ../data/enriched/TororoKanunguRound2//enrichments/z6_c12\n",
      "wrote to : ../data/enriched/TororoKanunguRound2//enrichments/z6_c13\n",
      "wrote to : ../data/enriched/TororoKanunguRound2//enrichments/z6_c14\n",
      "wrote to : ../data/enriched/TororoKanunguRound2//enrichments/z7_c1\n",
      "wrote to : ../data/enriched/TororoKanunguRound2//enrichments/z7_c2\n",
      "wrote to : ../data/enriched/TororoKanunguRound2//enrichments/z7_c3\n",
      "wrote to : ../data/enriched/TororoKanunguRound2//enrichments/z7_c4\n",
      "wrote to : ../data/enriched/TororoKanunguRound2//enrichments/z7_c5\n",
      "wrote to : ../data/enriched/TororoKanunguRound2//enrichments/z7_c6\n",
      "wrote to : ../data/enriched/TororoKanunguRound2//enrichments/z7_c7\n",
      "wrote to : ../data/enriched/TororoKanunguRound2//enrichments/z7_c8\n",
      "wrote to : ../data/enriched/TororoKanunguRound2//enrichments/z7_c9\n",
      "wrote to : ../data/enriched/TororoKanunguRound2//enrichments/z7_c10\n",
      "wrote to : ../data/enriched/TororoKanunguRound2//enrichments/z7_c11\n",
      "wrote to : ../data/enriched/TororoKanunguRound2//enrichments/z7_c12\n",
      "wrote to : ../data/enriched/TororoKanunguRound2//enrichments/z7_c13\n",
      "wrote to : ../data/enriched/TororoKanunguRound2//enrichments/z7_c14\n",
      "wrote to : ../data/enriched/TororoKanunguRound2//enrichments/z8_c1\n",
      "wrote to : ../data/enriched/TororoKanunguRound2//enrichments/z8_c2\n",
      "wrote to : ../data/enriched/TororoKanunguRound2//enrichments/z8_c3\n",
      "wrote to : ../data/enriched/TororoKanunguRound2//enrichments/z8_c4\n",
      "wrote to : ../data/enriched/TororoKanunguRound2//enrichments/z8_c5\n",
      "wrote to : ../data/enriched/TororoKanunguRound2//enrichments/z8_c6\n",
      "wrote to : ../data/enriched/TororoKanunguRound2//enrichments/z8_c7\n",
      "wrote to : ../data/enriched/TororoKanunguRound2//enrichments/z8_c8\n",
      "wrote to : ../data/enriched/TororoKanunguRound2//enrichments/z8_c9\n",
      "wrote to : ../data/enriched/TororoKanunguRound2//enrichments/z8_c10\n",
      "wrote to : ../data/enriched/TororoKanunguRound2//enrichments/z8_c11\n",
      "wrote to : ../data/enriched/TororoKanunguRound2//enrichments/z8_c12\n",
      "wrote to : ../data/enriched/TororoKanunguRound2//enrichments/z8_c13\n",
      "wrote to : ../data/enriched/TororoKanunguRound2//enrichments/z8_c14\n",
      "wrote to : ../data/enriched/TororoKanunguRound2//enrichments/z9_c1\n",
      "wrote to : ../data/enriched/TororoKanunguRound2//enrichments/z9_c2\n",
      "wrote to : ../data/enriched/TororoKanunguRound2//enrichments/z9_c3\n",
      "wrote to : ../data/enriched/TororoKanunguRound2//enrichments/z9_c4\n",
      "wrote to : ../data/enriched/TororoKanunguRound2//enrichments/z9_c5\n",
      "wrote to : ../data/enriched/TororoKanunguRound2//enrichments/z9_c6\n",
      "wrote to : ../data/enriched/TororoKanunguRound2//enrichments/z9_c7\n",
      "wrote to : ../data/enriched/TororoKanunguRound2//enrichments/z9_c8\n",
      "wrote to : ../data/enriched/TororoKanunguRound2//enrichments/z9_c9\n",
      "wrote to : ../data/enriched/TororoKanunguRound2//enrichments/z9_c10\n"
     ]
    },
    {
     "name": "stdout",
     "output_type": "stream",
     "text": [
      "wrote to : ../data/enriched/TororoKanunguRound2//enrichments/z9_c11\n",
      "wrote to : ../data/enriched/TororoKanunguRound2//enrichments/z9_c12\n",
      "wrote to : ../data/enriched/TororoKanunguRound2//enrichments/z9_c13\n",
      "wrote to : ../data/enriched/TororoKanunguRound2//enrichments/z9_c14\n",
      "wrote to : ../data/enriched/TororoKanunguRound2//enrichments/z10_c1\n",
      "wrote to : ../data/enriched/TororoKanunguRound2//enrichments/z10_c2\n",
      "wrote to : ../data/enriched/TororoKanunguRound2//enrichments/z10_c3\n",
      "wrote to : ../data/enriched/TororoKanunguRound2//enrichments/z10_c4\n",
      "wrote to : ../data/enriched/TororoKanunguRound2//enrichments/z10_c5\n",
      "wrote to : ../data/enriched/TororoKanunguRound2//enrichments/z10_c6\n",
      "wrote to : ../data/enriched/TororoKanunguRound2//enrichments/z10_c7\n",
      "wrote to : ../data/enriched/TororoKanunguRound2//enrichments/z10_c8\n",
      "wrote to : ../data/enriched/TororoKanunguRound2//enrichments/z10_c9\n",
      "wrote to : ../data/enriched/TororoKanunguRound2//enrichments/z10_c10\n",
      "wrote to : ../data/enriched/TororoKanunguRound2//enrichments/z10_c11\n",
      "wrote to : ../data/enriched/TororoKanunguRound2//enrichments/z10_c12\n",
      "wrote to : ../data/enriched/TororoKanunguRound2//enrichments/z10_c13\n",
      "wrote to : ../data/enriched/TororoKanunguRound2//enrichments/z10_c14\n",
      "wrote to : ../data/enriched/TororoKanunguRound2//enrichments/z11_c1\n",
      "wrote to : ../data/enriched/TororoKanunguRound2//enrichments/z11_c2\n",
      "wrote to : ../data/enriched/TororoKanunguRound2//enrichments/z11_c3\n",
      "wrote to : ../data/enriched/TororoKanunguRound2//enrichments/z11_c4\n",
      "wrote to : ../data/enriched/TororoKanunguRound2//enrichments/z11_c5\n",
      "wrote to : ../data/enriched/TororoKanunguRound2//enrichments/z11_c6\n",
      "wrote to : ../data/enriched/TororoKanunguRound2//enrichments/z11_c7\n",
      "wrote to : ../data/enriched/TororoKanunguRound2//enrichments/z11_c8\n",
      "wrote to : ../data/enriched/TororoKanunguRound2//enrichments/z11_c9\n",
      "wrote to : ../data/enriched/TororoKanunguRound2//enrichments/z11_c10\n",
      "wrote to : ../data/enriched/TororoKanunguRound2//enrichments/z11_c11\n",
      "wrote to : ../data/enriched/TororoKanunguRound2//enrichments/z11_c12\n",
      "wrote to : ../data/enriched/TororoKanunguRound2//enrichments/z11_c13\n",
      "wrote to : ../data/enriched/TororoKanunguRound2//enrichments/z11_c14\n",
      "wrote to : ../data/enriched/TororoKanunguRound2//enrichments/z12_c1\n",
      "wrote to : ../data/enriched/TororoKanunguRound2//enrichments/z12_c2\n",
      "wrote to : ../data/enriched/TororoKanunguRound2//enrichments/z12_c3\n",
      "wrote to : ../data/enriched/TororoKanunguRound2//enrichments/z12_c4\n",
      "wrote to : ../data/enriched/TororoKanunguRound2//enrichments/z12_c5\n",
      "wrote to : ../data/enriched/TororoKanunguRound2//enrichments/z12_c6\n",
      "wrote to : ../data/enriched/TororoKanunguRound2//enrichments/z12_c7\n",
      "wrote to : ../data/enriched/TororoKanunguRound2//enrichments/z12_c8\n",
      "wrote to : ../data/enriched/TororoKanunguRound2//enrichments/z12_c9\n",
      "wrote to : ../data/enriched/TororoKanunguRound2//enrichments/z12_c10\n",
      "wrote to : ../data/enriched/TororoKanunguRound2//enrichments/z12_c11\n",
      "wrote to : ../data/enriched/TororoKanunguRound2//enrichments/z12_c12\n",
      "wrote to : ../data/enriched/TororoKanunguRound2//enrichments/z12_c13\n",
      "wrote to : ../data/enriched/TororoKanunguRound2//enrichments/z12_c14\n",
      "wrote to : ../data/enriched/TororoKanunguRound2//enrichments/z13_c1\n",
      "wrote to : ../data/enriched/TororoKanunguRound2//enrichments/z13_c2\n",
      "wrote to : ../data/enriched/TororoKanunguRound2//enrichments/z13_c3\n",
      "wrote to : ../data/enriched/TororoKanunguRound2//enrichments/z13_c4\n",
      "wrote to : ../data/enriched/TororoKanunguRound2//enrichments/z13_c5\n",
      "wrote to : ../data/enriched/TororoKanunguRound2//enrichments/z13_c6\n",
      "wrote to : ../data/enriched/TororoKanunguRound2//enrichments/z13_c7\n",
      "wrote to : ../data/enriched/TororoKanunguRound2//enrichments/z13_c8\n",
      "wrote to : ../data/enriched/TororoKanunguRound2//enrichments/z13_c9\n",
      "wrote to : ../data/enriched/TororoKanunguRound2//enrichments/z13_c10\n",
      "wrote to : ../data/enriched/TororoKanunguRound2//enrichments/z13_c11\n",
      "wrote to : ../data/enriched/TororoKanunguRound2//enrichments/z13_c12\n",
      "wrote to : ../data/enriched/TororoKanunguRound2//enrichments/z13_c13\n",
      "wrote to : ../data/enriched/TororoKanunguRound2//enrichments/z13_c14\n",
      "wrote to : ../data/enriched/TororoKanunguRound2//enrichments/z14_c1\n",
      "wrote to : ../data/enriched/TororoKanunguRound2//enrichments/z14_c2\n",
      "wrote to : ../data/enriched/TororoKanunguRound2//enrichments/z14_c3\n",
      "wrote to : ../data/enriched/TororoKanunguRound2//enrichments/z14_c4\n",
      "wrote to : ../data/enriched/TororoKanunguRound2//enrichments/z14_c5\n",
      "wrote to : ../data/enriched/TororoKanunguRound2//enrichments/z14_c6\n",
      "wrote to : ../data/enriched/TororoKanunguRound2//enrichments/z14_c7\n",
      "wrote to : ../data/enriched/TororoKanunguRound2//enrichments/z14_c8\n",
      "wrote to : ../data/enriched/TororoKanunguRound2//enrichments/z14_c9\n",
      "wrote to : ../data/enriched/TororoKanunguRound2//enrichments/z14_c10\n",
      "wrote to : ../data/enriched/TororoKanunguRound2//enrichments/z14_c11\n",
      "wrote to : ../data/enriched/TororoKanunguRound2//enrichments/z14_c12\n",
      "wrote to : ../data/enriched/TororoKanunguRound2//enrichments/z14_c13\n",
      "wrote to : ../data/enriched/TororoKanunguRound2//enrichments/z14_c14\n"
     ]
    }
   ],
   "source": [
    "def run_enrichment(input_dir, z=10, c=8):\n",
    "    \n",
    "    out_name = \"{}/enrichments/z{}_c{}\".format(input_dir, z, c)\n",
    "    \n",
    "    enrichment_p = subprocess.Popen(\n",
    "        args = \" \".join([\n",
    "            \"../src/PhageLoader/bin/enrichment\",\n",
    "            \"-i {}/raw_counts.arma\".format(input_dir),\n",
    "            \"-n {}/sample_names.txt\".format(input_dir),\n",
    "            \"-p {}/peptide_names.txt\".format(input_dir),\n",
    "            \"-o {}\".format(out_name),\n",
    "            \"-z {}\".format(z),\n",
    "            \"-c {}\".format(c)\n",
    "        ]),\n",
    "        stdout = subprocess.PIPE,\n",
    "        stderr = subprocess.PIPE,\n",
    "        shell=True\n",
    "    )\n",
    "    enrichment_p.communicate()\n",
    "    print(\"wrote to : {}\".format(out_name))\n",
    "\n",
    "for z in np.arange(1, 15):\n",
    "    for c in np.arange(1, 15):\n",
    "        run_enrichment(fn_outdir, z, c)"
   ]
  }
 ],
 "metadata": {
  "kernelspec": {
   "display_name": "Python 3",
   "language": "python",
   "name": "python3"
  },
  "language_info": {
   "codemirror_mode": {
    "name": "ipython",
    "version": 3
   },
   "file_extension": ".py",
   "mimetype": "text/x-python",
   "name": "python",
   "nbconvert_exporter": "python",
   "pygments_lexer": "ipython3",
   "version": "3.8.5"
  },
  "toc": {
   "base_numbering": 1,
   "nav_menu": {},
   "number_sections": true,
   "sideBar": true,
   "skip_h1_title": false,
   "title_cell": "Table of Contents",
   "title_sidebar": "Contents",
   "toc_cell": false,
   "toc_position": {},
   "toc_section_display": true,
   "toc_window_display": true
  }
 },
 "nbformat": 4,
 "nbformat_minor": 4
}
