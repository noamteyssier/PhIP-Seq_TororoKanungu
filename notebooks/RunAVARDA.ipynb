{
 "cells": [
  {
   "cell_type": "markdown",
   "metadata": {},
   "source": [
    "# Load Modules"
   ]
  },
  {
   "cell_type": "code",
   "execution_count": 1,
   "metadata": {},
   "outputs": [],
   "source": [
    "%load_ext autoreload\n",
    "%autoreload 2\n",
    "\n",
    "import numpy as np\n",
    "import pandas as pd\n",
    "import plotly\n",
    "import plotly.express as px\n",
    "import plotly.graph_objects as go\n",
    "import plotly.io as pio\n",
    "\n",
    "from plotly.subplots import make_subplots\n",
    "from multiprocessing import Pool\n",
    "from tqdm import tqdm\n",
    "import os\n",
    "import subprocess\n",
    "import shutil\n",
    "\n",
    "pio.templates.default = 'plotly_white'\n",
    "pd.options.mode.chained_assignment = None"
   ]
  },
  {
   "cell_type": "markdown",
   "metadata": {},
   "source": [
    "# Define Paths"
   ]
  },
  {
   "cell_type": "code",
   "execution_count": 2,
   "metadata": {},
   "outputs": [],
   "source": [
    "# binary of distance network binary\n",
    "fn_distbin = \"../src/MCD-MotifSearch/src/linkage/bin/distance_network\"\n",
    "\n",
    "# location of avarda\n",
    "fn_cwd = os.getcwd()\n",
    "fn_avarda = \"../src/AVARDA/\"\n",
    "\n",
    "# peptide meta \n",
    "fn_idxmap = \"../data/meta/peptide_meta/idx_header_map.tab\"\n",
    "fn_aaseq = \"../data/meta/peptide_meta/target_aa.fa\"\n",
    "\n",
    "# enrichment peptides\n",
    "enr_set = \"z10_c8\"\n",
    "fn_enrbool = \"../data/enriched/TororoKanunguRound2/enrichments/{}_bool.csv\".format(enr_set)\n",
    "fn_enrpep = \"../data/enriched/TororoKanunguRound2/enrichments/{}_peptides.txt\".format(enr_set)\n",
    "\n",
    "\n",
    "# output files\n",
    "fn_outdir = \"../results/AVARDA_{}\".format(enr_set)\n",
    "fn_enrboolav = os.path.join(fn_outdir, \"{}_bool.csv\".format(enr_set))\n",
    "fn_enrpepfa = os.path.join(fn_outdir, \"{}_peptides.fa\".format(enr_set))\n",
    "fn_enrdist = os.path.join(fn_outdir, \"{}_linkage.tab\".format(enr_set))\n",
    "fn_var = os.path.join(fn_avarda, \"input/variables.txt\".format(enr_set))"
   ]
  },
  {
   "cell_type": "markdown",
   "metadata": {},
   "source": [
    "## Create Output Directory"
   ]
  },
  {
   "cell_type": "code",
   "execution_count": 3,
   "metadata": {},
   "outputs": [],
   "source": [
    "try:\n",
    "    os.mkdir(\"../results/\")\n",
    "except FileExistsError:\n",
    "    pass\n",
    "\n",
    "try:\n",
    "    os.mkdir(fn_outdir)\n",
    "except FileExistsError:\n",
    "    shutil.rmtree(fn_outdir)\n",
    "    os.mkdir(fn_outdir)"
   ]
  },
  {
   "cell_type": "markdown",
   "metadata": {},
   "source": [
    "# Create Input Files"
   ]
  },
  {
   "cell_type": "markdown",
   "metadata": {},
   "source": [
    "## Input Fasta"
   ]
  },
  {
   "cell_type": "code",
   "execution_count": 4,
   "metadata": {
    "code_folding": [
     2,
     27,
     35,
     41
    ]
   },
   "outputs": [],
   "source": [
    "# fasta format is required for distance calculation\n",
    "\n",
    "def seqReader(fn):\n",
    "    \"\"\"\n",
    "    iterate through sequences and yield as generator\n",
    "    \"\"\"\n",
    "    def openSeq(fn):\n",
    "        if 'gz' in fn:\n",
    "            return gzip.open(fn, 'rt')\n",
    "        else:\n",
    "            return open(fn, 'r')\n",
    "\n",
    "    def num_iter(fn):\n",
    "        if 'fastq' in fn or 'fq' in fn:\n",
    "            return 4\n",
    "        else:\n",
    "            return 2\n",
    "\n",
    "    n = num_iter(fn)\n",
    "\n",
    "    with openSeq(fn) as f:\n",
    "        while True:\n",
    "            try:\n",
    "                yield [next(f).strip('\\n') for _ in range(n)]\n",
    "            except StopIteration:\n",
    "                break\n",
    "\n",
    "def load_idxmap(fn_idxmap):\n",
    "    d = {}\n",
    "    for line in open(fn_idxmap, \"r+\"):\n",
    "        idx, target = line.strip().split(\"\\t\")\n",
    "        d[target] = idx\n",
    "    \n",
    "    return d\n",
    "\n",
    "def load_aaseq(fn_aaseq):\n",
    "    d = {}\n",
    "    for h, s in seqReader(fn_aaseq):\n",
    "        d[h.strip(\">\")] = s\n",
    "    return d\n",
    "\n",
    "def load_peptides(fn_enrpep):\n",
    "    return [l.strip() for l in open(fn_enrpep, \"r+\") if \"#\" not in l]\n",
    "\n",
    "def write_fa(idxmap, aamap, peps, fn_out):\n",
    "    f = open(fn_out, \"w+\")\n",
    "    \n",
    "    for p in peps:\n",
    "        tnum = idxmap[p]\n",
    "        f.write(\n",
    "            \">{}\\n{}\\n\".format(p, aamap[tnum])\n",
    "        )\n",
    "    \n",
    "    f.close()\n",
    "    \n",
    "idxmap = load_idxmap(fn_idxmap)\n",
    "aamap = load_aaseq(fn_aaseq)\n",
    "peps = load_peptides(fn_enrpep)\n",
    "write_fa(idxmap, aamap, peps, fn_enrpepfa)"
   ]
  },
  {
   "cell_type": "markdown",
   "metadata": {},
   "source": [
    "# Run Pipelines"
   ]
  },
  {
   "cell_type": "markdown",
   "metadata": {},
   "source": [
    "## Build Linkage Network"
   ]
  },
  {
   "cell_type": "code",
   "execution_count": 5,
   "metadata": {},
   "outputs": [],
   "source": [
    "p = subprocess.Popen(\n",
    "    args = \" \".join([\n",
    "        fn_distbin, \n",
    "        fn_enrpepfa,\n",
    "        fn_enrdist,\n",
    "        \"0\"\n",
    "    ]), \n",
    "    shell = True,\n",
    "    stdout = subprocess.PIPE,\n",
    "    stderr = subprocess.PIPE\n",
    ")\n",
    "stdout, stderr = p.communicate()\n",
    "\n",
    "# reformat linkage network to fit avarda standards\n",
    "p = subprocess.Popen(\n",
    "    args = [\n",
    "        \"tail -n+2 {} | cut -f 1,2 | tr '\\t' ',' > tmp.txt && mv tmp.txt {}\".format(fn_enrdist, fn_enrdist)\n",
    "    ],\n",
    "    shell = True,\n",
    "    stdout = subprocess.PIPE,\n",
    "    stderr = subprocess.PIPE\n",
    ")\n",
    "stdout, stderr = p.communicate()"
   ]
  },
  {
   "cell_type": "markdown",
   "metadata": {},
   "source": [
    "## Move Bool Matrix and Format"
   ]
  },
  {
   "cell_type": "code",
   "execution_count": 6,
   "metadata": {},
   "outputs": [],
   "source": [
    "p = subprocess.Popen(\n",
    "    args = [\n",
    "        \"paste -d ',' {} {} > {}\".format(fn_enrpep, fn_enrbool, fn_enrboolav)\n",
    "    ],\n",
    "    shell = True,\n",
    "    stdout = subprocess.PIPE,\n",
    "    stderr = subprocess.PIPE\n",
    ")\n",
    "stdout, stderr = p.communicate()"
   ]
  },
  {
   "cell_type": "markdown",
   "metadata": {},
   "source": [
    "## Create AVARDA params file"
   ]
  },
  {
   "cell_type": "code",
   "execution_count": 7,
   "metadata": {},
   "outputs": [],
   "source": [
    "def write_params(fn_var, fn_enrbool, fn_enrdist):\n",
    "    f = open(fn_var, \"w+\")\n",
    "    params = {\n",
    "        \"dir_home\" : \"../src/AVARDA\",\n",
    "        \"file_annotation\" : \"VirScan_v1_annot.txt\",\n",
    "        \"file_aln\" : \"aln_sparse.pkl\",\n",
    "        \"zscore_file\" : os.path.abspath(fn_enrboolav),\n",
    "        \"linkage\" : os.path.abspath(fn_enrdist),\n",
    "        \"dir_result\" : os.path.abspath(fn_outdir),\n",
    "        \"use_filter\" : \"yes\",\n",
    "        \"Z_threshold\" : 1,\n",
    "        \"p_threshold\" : 0.01,\n",
    "        \"x_threshold\" : 2,\n",
    "        \"bh_threshold\" : 0.05\n",
    "        \n",
    "    }\n",
    "    for x, y in params.items():\n",
    "        f.write(\"{}={}\\n\".format(x, y))\n",
    "    \n",
    "    f.close()\n",
    "write_params(fn_var, fn_enrbool, fn_enrdist)"
   ]
  },
  {
   "cell_type": "markdown",
   "metadata": {},
   "source": [
    "## Run AVARDA"
   ]
  },
  {
   "cell_type": "code",
   "execution_count": 8,
   "metadata": {},
   "outputs": [],
   "source": [
    "# avarda requires a specific path placement to run\n",
    "os.chdir(os.path.join(fn_avarda, \"bin\"))\n",
    "\n",
    "p = subprocess.Popen(\n",
    "    args = \" \".join([\n",
    "        \"python3 main.py\"\n",
    "    ]), \n",
    "    shell = True,\n",
    "    stdout = subprocess.PIPE,\n",
    "    stderr = subprocess.PIPE\n",
    ")\n",
    "p.communicate()\n",
    "\n",
    "os.chdir(fn_cwd)"
   ]
  }
 ],
 "metadata": {
  "kernelspec": {
   "display_name": "Python 3",
   "language": "python",
   "name": "python3"
  },
  "language_info": {
   "codemirror_mode": {
    "name": "ipython",
    "version": 3
   },
   "file_extension": ".py",
   "mimetype": "text/x-python",
   "name": "python",
   "nbconvert_exporter": "python",
   "pygments_lexer": "ipython3",
   "version": "3.8.5"
  },
  "toc": {
   "base_numbering": 1,
   "nav_menu": {},
   "number_sections": true,
   "sideBar": true,
   "skip_h1_title": false,
   "title_cell": "Table of Contents",
   "title_sidebar": "Contents",
   "toc_cell": false,
   "toc_position": {},
   "toc_section_display": true,
   "toc_window_display": true
  }
 },
 "nbformat": 4,
 "nbformat_minor": 4
}
