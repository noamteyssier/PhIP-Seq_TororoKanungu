{
 "cells": [
  {
   "cell_type": "markdown",
   "metadata": {},
   "source": [
    "# Load Modules"
   ]
  },
  {
   "cell_type": "code",
   "execution_count": 3,
   "metadata": {},
   "outputs": [
    {
     "name": "stdout",
     "output_type": "stream",
     "text": [
      "The autoreload extension is already loaded. To reload it, use:\n",
      "  %reload_ext autoreload\n"
     ]
    }
   ],
   "source": [
    "%load_ext autoreload\n",
    "%autoreload 2\n",
    "\n",
    "import numpy as np\n",
    "import pandas as pd\n",
    "from tqdm import tqdm\n",
    "import datetime\n",
    "import os\n",
    "\n",
    "pd.options.mode.chained_assignment = None"
   ]
  },
  {
   "cell_type": "markdown",
   "metadata": {},
   "source": [
    "# Load Data"
   ]
  },
  {
   "cell_type": "code",
   "execution_count": null,
   "metadata": {
    "code_folding": [
     0,
     25
    ]
   },
   "outputs": [
    {
     "name": "stderr",
     "output_type": "stream",
     "text": [
      "101248it [00:03, 27853.19it/s]"
     ]
    }
   ],
   "source": [
    "def seqReader(fn):\n",
    "    \"\"\"\n",
    "    iterate through sequences and yield as generator\n",
    "    \"\"\"\n",
    "    def openSeq(fn):\n",
    "        if 'gz' in fn:\n",
    "            return gzip.open(fn, 'rt')\n",
    "        else:\n",
    "            return open(fn, 'r')\n",
    "\n",
    "    def num_iter(fn):\n",
    "        if 'fastq' in fn or 'fq' in fn:\n",
    "            return 4\n",
    "        else:\n",
    "            return 2\n",
    "\n",
    "    n = num_iter(fn)\n",
    "\n",
    "    with openSeq(fn) as f:\n",
    "        while True:\n",
    "            try:\n",
    "                yield [next(f).strip('\\n') for _ in range(n)]\n",
    "            except StopIteration:\n",
    "                break\n",
    "\n",
    "def strip_primers(seq):\n",
    "    left_primer = \"GTGGTTGGTGCTGTAGGAGCA\"\n",
    "    right_primer = \"TGATAAGCATATGCCATGGCCTC\"\n",
    "\n",
    "    return seq[len(left_primer) : -len(right_primer)]\n",
    "\n",
    "def translate(seq):\n",
    "\n",
    "    def chunker(seq, size):\n",
    "        return (seq[pos:pos + size] for pos in np.arange(0, len(seq), size))\n",
    "\n",
    "    translation = {\n",
    "        'ATA':'I', 'ATC':'I', 'ATT':'I', 'ATG':'M',\n",
    "        'ACA':'T', 'ACC':'T', 'ACG':'T', 'ACT':'T',\n",
    "        'AAC':'N', 'AAT':'N', 'AAA':'K', 'AAG':'K',\n",
    "        'AGC':'S', 'AGT':'S', 'AGA':'R', 'AGG':'R',\n",
    "        'CTA':'L', 'CTC':'L', 'CTG':'L', 'CTT':'L',\n",
    "        'CCA':'P', 'CCC':'P', 'CCG':'P', 'CCT':'P',\n",
    "        'CAC':'H', 'CAT':'H', 'CAA':'Q', 'CAG':'Q',\n",
    "        'CGA':'R', 'CGC':'R', 'CGG':'R', 'CGT':'R',\n",
    "        'GTA':'V', 'GTC':'V', 'GTG':'V', 'GTT':'V',\n",
    "        'GCA':'A', 'GCC':'A', 'GCG':'A', 'GCT':'A',\n",
    "        'GAC':'D', 'GAT':'D', 'GAA':'E', 'GAG':'E',\n",
    "        'GGA':'G', 'GGC':'G', 'GGG':'G', 'GGT':'G',\n",
    "        'TCA':'S', 'TCC':'S', 'TCG':'S', 'TCT':'S',\n",
    "        'TTC':'F', 'TTT':'F', 'TTA':'L', 'TTG':'L',\n",
    "        'TAC':'Y', 'TAT':'Y', 'TAA':'_', 'TAG':'_',\n",
    "        'TGC':'C', 'TGT':'C', 'TGA':'_', 'TGG':'W',\n",
    "    }\n",
    "\n",
    "    to_translate = seq.strip('\\n')\n",
    "    aa = ''.join(\n",
    "            [translation[codon] for codon in chunker(to_translate, 3) if len(codon) == 3]\n",
    "            )\n",
    "    return aa\n",
    "\n",
    "def process_reference(fasta_fn):\n",
    "    left_primer = \"GTGGTTGGTGCTGTAGGAGCA\"\n",
    "    right_primer = \"TGATAAGCATATGCCATGGCCTC\"\n",
    "\n",
    "    for idx, header_seq in tqdm(enumerate(seqReader(fasta_fn))):\n",
    "        header, seq = header_seq\n",
    "        header = header.strip(\">\")\n",
    "        trunc_seq = seq[len(left_primer) : -len(right_primer)]\n",
    "        aa_seq = translate(trunc_seq)\n",
    "        \n",
    "        \n",
    "        yield(idx, header, trunc_seq, aa_seq)\n",
    "        \n",
    "\n",
    "# Define Input Fasta\n",
    "fa_fn = \"../data/reference_sequences/plasmodium_peanut_T7_display_seqs.fasta\"\n",
    "\n",
    "idx_header_map = \"../data/meta/peptide_meta/idx_header_map.tab\"\n",
    "idx_truncated_sequence = \"../data/meta/peptide_meta/target_truncated_seq.fa\"\n",
    "idx_amino_acid = \"../data/meta/peptide_meta/target_aa.fa\"\n",
    "log_fn = \"../data/meta/peptide_meta/log.txt\"\n",
    "\n",
    "ih = open(idx_header_map, \"w+\")\n",
    "it = open(idx_truncated_sequence, \"w+\")\n",
    "ia = open(idx_amino_acid, \"w+\")\n",
    "log = open(log_fn, \"w+\")\n",
    "\n",
    "\n",
    "for idx, header, trunc_seq, aa_seq in process_reference(fa_fn):\n",
    "    ih.write(\n",
    "        \"t{}\\t{}\\n\".format(idx, header)\n",
    "    )\n",
    "    it.write(\n",
    "        \">t{}\\n{}\\n\".format(idx, trunc_seq)\n",
    "    )\n",
    "    ia.write(\n",
    "        \">t{}\\n{}\\n\".format(idx, aa_seq)\n",
    "    )\n",
    "log.write(\n",
    "    \"# Meta Generation\\n\\nGenerated : {}\\nInput Fasta : {}\\n\".format(\n",
    "        datetime.datetime.now(),\n",
    "        fa_fn\n",
    "    )\n",
    ")\n",
    "\n",
    "    \n",
    "    \n",
    "ih.close()\n",
    "it.close()\n",
    "ia.close()\n",
    "log.close()\n"
   ]
  },
  {
   "cell_type": "code",
   "execution_count": null,
   "metadata": {},
   "outputs": [],
   "source": []
  },
  {
   "cell_type": "code",
   "execution_count": null,
   "metadata": {},
   "outputs": [],
   "source": []
  },
  {
   "cell_type": "code",
   "execution_count": null,
   "metadata": {},
   "outputs": [],
   "source": []
  }
 ],
 "metadata": {
  "kernelspec": {
   "display_name": "Python 3",
   "language": "python",
   "name": "python3"
  },
  "language_info": {
   "codemirror_mode": {
    "name": "ipython",
    "version": 3
   },
   "file_extension": ".py",
   "mimetype": "text/x-python",
   "name": "python",
   "nbconvert_exporter": "python",
   "pygments_lexer": "ipython3",
   "version": "3.8.5"
  },
  "toc": {
   "base_numbering": 1,
   "nav_menu": {},
   "number_sections": true,
   "sideBar": true,
   "skip_h1_title": false,
   "title_cell": "Table of Contents",
   "title_sidebar": "Contents",
   "toc_cell": false,
   "toc_position": {},
   "toc_section_display": true,
   "toc_window_display": false
  }
 },
 "nbformat": 4,
 "nbformat_minor": 4
}
