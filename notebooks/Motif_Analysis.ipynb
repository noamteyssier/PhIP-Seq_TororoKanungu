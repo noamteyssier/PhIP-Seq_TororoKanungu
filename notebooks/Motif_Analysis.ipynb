{
 "cells": [
  {
   "cell_type": "markdown",
   "metadata": {},
   "source": [
    "# Load Modules"
   ]
  },
  {
   "cell_type": "code",
   "execution_count": 1,
   "metadata": {},
   "outputs": [],
   "source": [
    "%load_ext autoreload\n",
    "%autoreload 2\n",
    "\n",
    "import numpy as np\n",
    "import pandas as pd\n",
    "import plotly\n",
    "import plotly.express as px\n",
    "import plotly.graph_objects as go\n",
    "import plotly.io as pio\n",
    "\n",
    "from plotly.subplots import make_subplots\n",
    "import networkx as nx\n",
    "from multiprocessing import Pool\n",
    "from tqdm import tqdm\n",
    "import os\n",
    "import glob\n",
    "\n",
    "pio.templates.default = 'plotly_white'\n",
    "pd.options.mode.chained_assignment = None"
   ]
  },
  {
   "cell_type": "markdown",
   "metadata": {},
   "source": [
    "# Define Functions"
   ]
  },
  {
   "cell_type": "code",
   "execution_count": 2,
   "metadata": {},
   "outputs": [],
   "source": [
    "def seqReader(fn):\n",
    "    \"\"\"\n",
    "    iterate through sequences and yield as generator\n",
    "    \"\"\"\n",
    "    def openSeq(fn):\n",
    "        if 'gz' in fn:\n",
    "            return gzip.open(fn, 'rt')\n",
    "        else:\n",
    "            return open(fn, 'r')\n",
    "\n",
    "    def num_iter(fn):\n",
    "        if 'fastq' in fn or 'fq' in fn:\n",
    "            return 4\n",
    "        else:\n",
    "            return 2\n",
    "\n",
    "    n = num_iter(fn)\n",
    "\n",
    "    with openSeq(fn) as f:\n",
    "        while True:\n",
    "            try:\n",
    "                yield [next(f).strip('\\n') for _ in range(n)]\n",
    "            except StopIteration:\n",
    "                break"
   ]
  },
  {
   "cell_type": "markdown",
   "metadata": {},
   "source": [
    "# Define Paths"
   ]
  },
  {
   "cell_type": "markdown",
   "metadata": {},
   "source": [
    "## Peptide Metadata"
   ]
  },
  {
   "cell_type": "code",
   "execution_count": 3,
   "metadata": {},
   "outputs": [],
   "source": [
    "fn_idxmap = \"../data/meta/peptide_meta/idx_header_map.tab\""
   ]
  },
  {
   "cell_type": "markdown",
   "metadata": {},
   "source": [
    "## Enrichment Data"
   ]
  },
  {
   "cell_type": "code",
   "execution_count": 4,
   "metadata": {},
   "outputs": [],
   "source": [
    "# Define enrichment parameters being used\n",
    "enrichment_params = \"z10_c8\"\n",
    "enrichment_dir = \"../data/enriched/TororoKanunguRound2/enrichments/\"\n",
    "\n",
    "# identify bool matrix and peptide list\n",
    "input_bool = os.path.join(enrichment_dir, enrichment_params + \"_bool.csv\")\n",
    "input_peptides = os.path.join(enrichment_dir, enrichment_params + \"_peptides.txt\")"
   ]
  },
  {
   "cell_type": "markdown",
   "metadata": {},
   "source": [
    "## Motif Data"
   ]
  },
  {
   "cell_type": "code",
   "execution_count": 28,
   "metadata": {},
   "outputs": [],
   "source": [
    "# results directory for MCD-MotifSearch\n",
    "results_dir = \"../results/mcdms_enriched/\"\n",
    "motif_dir = os.path.join(results_dir, \"motifs\")\n",
    "clique_dir = os.path.join(results_dir, \"cliques\")\n",
    "\n",
    "# relative filepaths\n",
    "conv_fn = os.path.join(results_dir, \"{}.conv.txt\".format(enrichment_params))\n",
    "motif_seq_fn = os.path.join(motif_dir, \"merged_motifs.fa\")\n",
    "motif_blast_fn = os.path.join(motif_dir, \"motifs.blast.tab\")\n",
    "merged_cliques = os.path.join(clique_dir, \"merged_cliques.tab\")"
   ]
  },
  {
   "cell_type": "markdown",
   "metadata": {},
   "source": [
    "## Output Figure Directory"
   ]
  },
  {
   "cell_type": "code",
   "execution_count": 29,
   "metadata": {},
   "outputs": [],
   "source": [
    "fn_figdir = \"../figures/MCD\""
   ]
  },
  {
   "cell_type": "markdown",
   "metadata": {},
   "source": [
    "# Load and Process Data"
   ]
  },
  {
   "cell_type": "markdown",
   "metadata": {},
   "source": [
    "## Process Motifs"
   ]
  },
  {
   "cell_type": "code",
   "execution_count": 6,
   "metadata": {},
   "outputs": [
    {
     "data": {
      "text/html": [
       "<div>\n",
       "<style scoped>\n",
       "    .dataframe tbody tr th:only-of-type {\n",
       "        vertical-align: middle;\n",
       "    }\n",
       "\n",
       "    .dataframe tbody tr th {\n",
       "        vertical-align: top;\n",
       "    }\n",
       "\n",
       "    .dataframe thead th {\n",
       "        text-align: right;\n",
       "    }\n",
       "</style>\n",
       "<table border=\"1\" class=\"dataframe\">\n",
       "  <thead>\n",
       "    <tr style=\"text-align: right;\">\n",
       "      <th></th>\n",
       "      <th>qseqid</th>\n",
       "      <th>sequence</th>\n",
       "      <th>sseqid</th>\n",
       "      <th>evalue</th>\n",
       "      <th>clique_idx</th>\n",
       "    </tr>\n",
       "  </thead>\n",
       "  <tbody>\n",
       "    <tr>\n",
       "      <th>0</th>\n",
       "      <td>clique_0_MEME-0_1.4e-6639</td>\n",
       "      <td>VIPEELVEEVIP</td>\n",
       "      <td>eid_11776::11-1_polypeptide</td>\n",
       "      <td>0.480000</td>\n",
       "      <td>0</td>\n",
       "    </tr>\n",
       "    <tr>\n",
       "      <th>1</th>\n",
       "      <td>clique_0_MEME-2_5.5e-302</td>\n",
       "      <td>EVVEEVVPE</td>\n",
       "      <td>eid_11776::11-1_polypeptide</td>\n",
       "      <td>6.000000</td>\n",
       "      <td>0</td>\n",
       "    </tr>\n",
       "    <tr>\n",
       "      <th>2</th>\n",
       "      <td>clique_1_MEME-0_3.3e-1426</td>\n",
       "      <td>GYSGIDJIBDVL</td>\n",
       "      <td>eid_913933::RAP_protein</td>\n",
       "      <td>3.300000</td>\n",
       "      <td>1</td>\n",
       "    </tr>\n",
       "    <tr>\n",
       "      <th>3</th>\n",
       "      <td>clique_1_MEME-3_3.5e-125</td>\n",
       "      <td>VAKLTNSDP</td>\n",
       "      <td>eid_73821::Glycophorin-binding_protein</td>\n",
       "      <td>3.800000</td>\n",
       "      <td>1</td>\n",
       "    </tr>\n",
       "    <tr>\n",
       "      <th>4</th>\n",
       "      <td>clique_1_MEME-5_1.1e-022</td>\n",
       "      <td>RKENELF</td>\n",
       "      <td>eid_73540::PfEMP1_variant_1_of_strain_MC</td>\n",
       "      <td>0.640000</td>\n",
       "      <td>1</td>\n",
       "    </tr>\n",
       "    <tr>\n",
       "      <th>...</th>\n",
       "      <td>...</td>\n",
       "      <td>...</td>\n",
       "      <td>...</td>\n",
       "      <td>...</td>\n",
       "      <td>...</td>\n",
       "    </tr>\n",
       "    <tr>\n",
       "      <th>127</th>\n",
       "      <td>clique_90_MEME-0_5.4e-042</td>\n",
       "      <td>EPFPNQKHKDLD</td>\n",
       "      <td>eid_914157::glutamate-rich_protein_[Plasmodium...</td>\n",
       "      <td>0.000164</td>\n",
       "      <td>90</td>\n",
       "    </tr>\n",
       "    <tr>\n",
       "      <th>128</th>\n",
       "      <td>clique_93_MEME-0_3.3e-035</td>\n",
       "      <td>TNPCQLEYQWHT</td>\n",
       "      <td>eid_236266::erythrocyte_membrane_protein_1</td>\n",
       "      <td>0.000272</td>\n",
       "      <td>93</td>\n",
       "    </tr>\n",
       "    <tr>\n",
       "      <th>129</th>\n",
       "      <td>clique_94_MEME-0_3.4e-035</td>\n",
       "      <td>NIKGEDNIKNKG</td>\n",
       "      <td>eid_1068647::cytoadherence_linked_asexual_prot...</td>\n",
       "      <td>6.000000</td>\n",
       "      <td>94</td>\n",
       "    </tr>\n",
       "    <tr>\n",
       "      <th>130</th>\n",
       "      <td>clique_96_MEME-0_6.6e-025</td>\n",
       "      <td>NDTTHNSYTNKK</td>\n",
       "      <td>eid_141616::erythrocyte_membrane_protein_1</td>\n",
       "      <td>2.400000</td>\n",
       "      <td>96</td>\n",
       "    </tr>\n",
       "    <tr>\n",
       "      <th>131</th>\n",
       "      <td>clique_97_MEME-0_1.8e-038</td>\n",
       "      <td>DNIEVNNTL</td>\n",
       "      <td>eid_913807::protein_kinase</td>\n",
       "      <td>4.600000</td>\n",
       "      <td>97</td>\n",
       "    </tr>\n",
       "  </tbody>\n",
       "</table>\n",
       "<p>132 rows × 5 columns</p>\n",
       "</div>"
      ],
      "text/plain": [
       "                        qseqid      sequence  \\\n",
       "0    clique_0_MEME-0_1.4e-6639  VIPEELVEEVIP   \n",
       "1     clique_0_MEME-2_5.5e-302     EVVEEVVPE   \n",
       "2    clique_1_MEME-0_3.3e-1426  GYSGIDJIBDVL   \n",
       "3     clique_1_MEME-3_3.5e-125     VAKLTNSDP   \n",
       "4     clique_1_MEME-5_1.1e-022       RKENELF   \n",
       "..                         ...           ...   \n",
       "127  clique_90_MEME-0_5.4e-042  EPFPNQKHKDLD   \n",
       "128  clique_93_MEME-0_3.3e-035  TNPCQLEYQWHT   \n",
       "129  clique_94_MEME-0_3.4e-035  NIKGEDNIKNKG   \n",
       "130  clique_96_MEME-0_6.6e-025  NDTTHNSYTNKK   \n",
       "131  clique_97_MEME-0_1.8e-038     DNIEVNNTL   \n",
       "\n",
       "                                                sseqid    evalue  clique_idx  \n",
       "0                          eid_11776::11-1_polypeptide  0.480000           0  \n",
       "1                          eid_11776::11-1_polypeptide  6.000000           0  \n",
       "2                              eid_913933::RAP_protein  3.300000           1  \n",
       "3               eid_73821::Glycophorin-binding_protein  3.800000           1  \n",
       "4             eid_73540::PfEMP1_variant_1_of_strain_MC  0.640000           1  \n",
       "..                                                 ...       ...         ...  \n",
       "127  eid_914157::glutamate-rich_protein_[Plasmodium...  0.000164          90  \n",
       "128         eid_236266::erythrocyte_membrane_protein_1  0.000272          93  \n",
       "129  eid_1068647::cytoadherence_linked_asexual_prot...  6.000000          94  \n",
       "130         eid_141616::erythrocyte_membrane_protein_1  2.400000          96  \n",
       "131                         eid_913807::protein_kinase  4.600000          97  \n",
       "\n",
       "[132 rows x 5 columns]"
      ]
     },
     "execution_count": 6,
     "metadata": {},
     "output_type": "execute_result"
    }
   ],
   "source": [
    "# load fasta into dataframe\n",
    "motif_frame = pd.DataFrame([\n",
    "    [h.strip('>'), s] for h, s in seqReader(motif_seq_fn)\n",
    "    ],\n",
    "    columns = [\"qseqid\", \"sequence\"]\n",
    ")\n",
    "\n",
    "# load blast results into frame\n",
    "motif_blast = pd.read_csv(motif_blast_fn, sep=\"\\t\")\n",
    "minimum_evalue = motif_blast.\\\n",
    "    groupby('qseqid').\\\n",
    "    apply(\n",
    "        lambda x : pd.Series({\n",
    "            'sseqid' : x.sort_values('evalue').iloc[0].sseqid,\n",
    "            'evalue' : x.sort_values('evalue').iloc[0].evalue\n",
    "        })\n",
    "    ).reset_index()\n",
    "\n",
    "\n",
    "# create clique idx variable\n",
    "minimum_evalue['clique_idx'] = minimum_evalue.qseqid.\\\n",
    "    apply(lambda x : x.split(\"_\")[1]).\\\n",
    "    astype(int)\n",
    "\n",
    "motif_frame = motif_frame.merge(minimum_evalue)\n",
    "motif_frame"
   ]
  },
  {
   "cell_type": "markdown",
   "metadata": {},
   "source": [
    "## Create Convertion Table"
   ]
  },
  {
   "cell_type": "code",
   "execution_count": 7,
   "metadata": {},
   "outputs": [],
   "source": [
    "f = open(conv_fn, \"r+\")\n",
    "conv_dict = {\n",
    "    line.strip().split(' ')[0] : line.strip().split(' ')[1] for line in f\n",
    "}"
   ]
  },
  {
   "cell_type": "markdown",
   "metadata": {},
   "source": [
    "## Load Graph from Edgelist"
   ]
  },
  {
   "cell_type": "code",
   "execution_count": 8,
   "metadata": {},
   "outputs": [],
   "source": [
    "G = nx.read_edgelist(merged_cliques)\n",
    "G = nx.relabel_nodes(G, conv_dict)"
   ]
  },
  {
   "cell_type": "markdown",
   "metadata": {},
   "source": [
    "## Create Clique Lookup Table"
   ]
  },
  {
   "cell_type": "code",
   "execution_count": 9,
   "metadata": {},
   "outputs": [
    {
     "data": {
      "text/html": [
       "<div>\n",
       "<style scoped>\n",
       "    .dataframe tbody tr th:only-of-type {\n",
       "        vertical-align: middle;\n",
       "    }\n",
       "\n",
       "    .dataframe tbody tr th {\n",
       "        vertical-align: top;\n",
       "    }\n",
       "\n",
       "    .dataframe thead th {\n",
       "        text-align: right;\n",
       "    }\n",
       "</style>\n",
       "<table border=\"1\" class=\"dataframe\">\n",
       "  <thead>\n",
       "    <tr style=\"text-align: right;\">\n",
       "      <th></th>\n",
       "      <th>clique_idx</th>\n",
       "      <th>header</th>\n",
       "      <th>seq</th>\n",
       "    </tr>\n",
       "  </thead>\n",
       "  <tbody>\n",
       "    <tr>\n",
       "      <th>0</th>\n",
       "      <td>241</td>\n",
       "      <td>t86926</td>\n",
       "      <td>KEVLKLEFSKENIEEDKENNVSAREIDLINEMLKEDEKEQEEDDDA...</td>\n",
       "    </tr>\n",
       "    <tr>\n",
       "      <th>1</th>\n",
       "      <td>241</td>\n",
       "      <td>t176026</td>\n",
       "      <td>MSSHINLYDKDENINEDKDDDINENKDDDINENKDENINEDKDEDS...</td>\n",
       "    </tr>\n",
       "    <tr>\n",
       "      <th>2</th>\n",
       "      <td>147</td>\n",
       "      <td>t185485</td>\n",
       "      <td>SDKKLNSQSDKKLNSQSDKEINSQNDKEINSQSDKKLNSQSDKEIN...</td>\n",
       "    </tr>\n",
       "    <tr>\n",
       "      <th>3</th>\n",
       "      <td>147</td>\n",
       "      <td>t80872</td>\n",
       "      <td>VLSTDTDDSETDAEKTSNNSNTLHKKETPAMKYNMNIAQDEINRQN...</td>\n",
       "    </tr>\n",
       "    <tr>\n",
       "      <th>4</th>\n",
       "      <td>147</td>\n",
       "      <td>t80873</td>\n",
       "      <td>KETPAMKYNMNIAQDEINRQNDVSKNTTYAENNEYTSENITKPSDQ...</td>\n",
       "    </tr>\n",
       "    <tr>\n",
       "      <th>...</th>\n",
       "      <td>...</td>\n",
       "      <td>...</td>\n",
       "      <td>...</td>\n",
       "    </tr>\n",
       "    <tr>\n",
       "      <th>2389</th>\n",
       "      <td>50</td>\n",
       "      <td>t124144</td>\n",
       "      <td>YDGTFNVLNKENVQTTSQPKDDDDNGPNDPFYDGTFNVLNKENVQT...</td>\n",
       "    </tr>\n",
       "    <tr>\n",
       "      <th>2390</th>\n",
       "      <td>50</td>\n",
       "      <td>t124142</td>\n",
       "      <td>EETTSQPKDVDDNGPNDPFYDGTFNVLNKENVQTTSQPKDVDDNGP...</td>\n",
       "    </tr>\n",
       "    <tr>\n",
       "      <th>2391</th>\n",
       "      <td>50</td>\n",
       "      <td>t131353</td>\n",
       "      <td>TTKCLSNEDTLNVSNKENTTFMNTSMWNNENVQQNGEQYVQQNGEQ...</td>\n",
       "    </tr>\n",
       "    <tr>\n",
       "      <th>2392</th>\n",
       "      <td>248</td>\n",
       "      <td>t228923</td>\n",
       "      <td>KKKKGENVMDGNFEMNSADEKNNYMSNETKYNSRNFIYDFDHRNQD...</td>\n",
       "    </tr>\n",
       "    <tr>\n",
       "      <th>2393</th>\n",
       "      <td>248</td>\n",
       "      <td>t129914</td>\n",
       "      <td>SNIDNATTGYCGGNSDPSLCEKWTCYYKKKNENVVGSRAINFCVQQ...</td>\n",
       "    </tr>\n",
       "  </tbody>\n",
       "</table>\n",
       "<p>2394 rows × 3 columns</p>\n",
       "</div>"
      ],
      "text/plain": [
       "      clique_idx   header                                                seq\n",
       "0            241   t86926  KEVLKLEFSKENIEEDKENNVSAREIDLINEMLKEDEKEQEEDDDA...\n",
       "1            241  t176026  MSSHINLYDKDENINEDKDDDINENKDDDINENKDENINEDKDEDS...\n",
       "2            147  t185485  SDKKLNSQSDKKLNSQSDKEINSQNDKEINSQSDKKLNSQSDKEIN...\n",
       "3            147   t80872  VLSTDTDDSETDAEKTSNNSNTLHKKETPAMKYNMNIAQDEINRQN...\n",
       "4            147   t80873  KETPAMKYNMNIAQDEINRQNDVSKNTTYAENNEYTSENITKPSDQ...\n",
       "...          ...      ...                                                ...\n",
       "2389          50  t124144  YDGTFNVLNKENVQTTSQPKDDDDNGPNDPFYDGTFNVLNKENVQT...\n",
       "2390          50  t124142  EETTSQPKDVDDNGPNDPFYDGTFNVLNKENVQTTSQPKDVDDNGP...\n",
       "2391          50  t131353  TTKCLSNEDTLNVSNKENTTFMNTSMWNNENVQQNGEQYVQQNGEQ...\n",
       "2392         248  t228923  KKKKGENVMDGNFEMNSADEKNNYMSNETKYNSRNFIYDFDHRNQD...\n",
       "2393         248  t129914  SNIDNATTGYCGGNSDPSLCEKWTCYYKKKNENVVGSRAINFCVQQ...\n",
       "\n",
       "[2394 rows x 3 columns]"
      ]
     },
     "execution_count": 9,
     "metadata": {},
     "output_type": "execute_result"
    }
   ],
   "source": [
    "clique_table = []\n",
    "for fn in glob.glob(\"{}/*fa\".format(clique_dir)):\n",
    "    clique_idx = int(fn.split(\"/\")[-1].split(\".\")[0].split(\"_\")[1])\n",
    "    \n",
    "    \n",
    "    for header, seq in seqReader(fn):\n",
    "        clique_table.append({\n",
    "            'clique_idx' : clique_idx,\n",
    "            \"header\" : header.strip(\">\"),\n",
    "            \"seq\" : seq\n",
    "        })\n",
    "        \n",
    "\n",
    "clique_table = pd.DataFrame(clique_table)\n",
    "clique_table"
   ]
  },
  {
   "cell_type": "markdown",
   "metadata": {},
   "source": [
    "## Aggregate Clique Layouts"
   ]
  },
  {
   "cell_type": "code",
   "execution_count": 10,
   "metadata": {},
   "outputs": [],
   "source": [
    "layout = nx.spring_layout(G, seed=42)"
   ]
  },
  {
   "cell_type": "code",
   "execution_count": 11,
   "metadata": {},
   "outputs": [],
   "source": [
    "frame = []\n",
    "for idx, c in clique_table.groupby('clique_idx'):\n",
    "    \n",
    "    header_set = set(c.header.values)\n",
    "    \n",
    "    agg_x, agg_y = np.array([\n",
    "        layout[h] for h in header_set\n",
    "        ]).\\\n",
    "        mean(axis = 0)\n",
    "    \n",
    "    frame.append({\n",
    "        'clique_idx' : idx,\n",
    "        'membership' : len(header_set),\n",
    "        'agg_x' : agg_x,\n",
    "        'agg_y' : agg_y\n",
    "    })\n",
    "    \n",
    "\n",
    "frame = pd.DataFrame(frame)"
   ]
  },
  {
   "cell_type": "code",
   "execution_count": 12,
   "metadata": {},
   "outputs": [
    {
     "data": {
      "text/html": [
       "<div>\n",
       "<style scoped>\n",
       "    .dataframe tbody tr th:only-of-type {\n",
       "        vertical-align: middle;\n",
       "    }\n",
       "\n",
       "    .dataframe tbody tr th {\n",
       "        vertical-align: top;\n",
       "    }\n",
       "\n",
       "    .dataframe thead th {\n",
       "        text-align: right;\n",
       "    }\n",
       "</style>\n",
       "<table border=\"1\" class=\"dataframe\">\n",
       "  <thead>\n",
       "    <tr style=\"text-align: right;\">\n",
       "      <th></th>\n",
       "      <th>clique_idx</th>\n",
       "      <th>membership</th>\n",
       "      <th>agg_x</th>\n",
       "      <th>agg_y</th>\n",
       "      <th>qseqid</th>\n",
       "      <th>sequences</th>\n",
       "      <th>sseqid</th>\n",
       "      <th>num_known</th>\n",
       "    </tr>\n",
       "  </thead>\n",
       "  <tbody>\n",
       "    <tr>\n",
       "      <th>274</th>\n",
       "      <td>274</td>\n",
       "      <td>2</td>\n",
       "      <td>0.087412</td>\n",
       "      <td>0.849061</td>\n",
       "      <td>[]</td>\n",
       "      <td>[]</td>\n",
       "      <td>[]</td>\n",
       "      <td>0</td>\n",
       "    </tr>\n",
       "    <tr>\n",
       "      <th>122</th>\n",
       "      <td>122</td>\n",
       "      <td>4</td>\n",
       "      <td>0.810070</td>\n",
       "      <td>0.159737</td>\n",
       "      <td>[]</td>\n",
       "      <td>[]</td>\n",
       "      <td>[]</td>\n",
       "      <td>0</td>\n",
       "    </tr>\n",
       "    <tr>\n",
       "      <th>123</th>\n",
       "      <td>123</td>\n",
       "      <td>4</td>\n",
       "      <td>-0.732529</td>\n",
       "      <td>-0.260718</td>\n",
       "      <td>[]</td>\n",
       "      <td>[]</td>\n",
       "      <td>[]</td>\n",
       "      <td>0</td>\n",
       "    </tr>\n",
       "    <tr>\n",
       "      <th>124</th>\n",
       "      <td>124</td>\n",
       "      <td>4</td>\n",
       "      <td>0.244762</td>\n",
       "      <td>0.712304</td>\n",
       "      <td>[]</td>\n",
       "      <td>[]</td>\n",
       "      <td>[]</td>\n",
       "      <td>0</td>\n",
       "    </tr>\n",
       "    <tr>\n",
       "      <th>213</th>\n",
       "      <td>213</td>\n",
       "      <td>2</td>\n",
       "      <td>-0.745668</td>\n",
       "      <td>-0.528340</td>\n",
       "      <td>[]</td>\n",
       "      <td>[]</td>\n",
       "      <td>[]</td>\n",
       "      <td>0</td>\n",
       "    </tr>\n",
       "    <tr>\n",
       "      <th>...</th>\n",
       "      <td>...</td>\n",
       "      <td>...</td>\n",
       "      <td>...</td>\n",
       "      <td>...</td>\n",
       "      <td>...</td>\n",
       "      <td>...</td>\n",
       "      <td>...</td>\n",
       "      <td>...</td>\n",
       "    </tr>\n",
       "    <tr>\n",
       "      <th>11</th>\n",
       "      <td>11</td>\n",
       "      <td>27</td>\n",
       "      <td>0.181906</td>\n",
       "      <td>0.252555</td>\n",
       "      <td>[clique_11_MEME-0_1.5e-339, clique_11_MEME-1_2...</td>\n",
       "      <td>[QHEIVEVEEILP, EDKNEKV, HTEQLDLDHKTV]</td>\n",
       "      <td>[eid_469456::glutamate-rich_protein, eid_91343...</td>\n",
       "      <td>3</td>\n",
       "    </tr>\n",
       "    <tr>\n",
       "      <th>18</th>\n",
       "      <td>18</td>\n",
       "      <td>22</td>\n",
       "      <td>0.250668</td>\n",
       "      <td>-0.191435</td>\n",
       "      <td>[clique_18_MEME-0_8.1e-803, clique_18_MEME-1_1...</td>\n",
       "      <td>[PNANPNANPNAN, PNANPNA, RKPKHKKLKQPG, QGNGQGHNM]</td>\n",
       "      <td>[eid_756411::Circumsporozoite_protein_precurso...</td>\n",
       "      <td>4</td>\n",
       "    </tr>\n",
       "    <tr>\n",
       "      <th>20</th>\n",
       "      <td>20</td>\n",
       "      <td>20</td>\n",
       "      <td>-0.088426</td>\n",
       "      <td>-0.414727</td>\n",
       "      <td>[clique_20_MEME-0_3.6e-104, clique_20_MEME-1_4...</td>\n",
       "      <td>[EEEDEEDIEEEN, QQSEKKSISKVD, EKELSNQ, ETNDTEDT...</td>\n",
       "      <td>[eid_1067086::mature_parasite-infected_erythro...</td>\n",
       "      <td>4</td>\n",
       "    </tr>\n",
       "    <tr>\n",
       "      <th>1</th>\n",
       "      <td>1</td>\n",
       "      <td>120</td>\n",
       "      <td>-0.139762</td>\n",
       "      <td>0.024525</td>\n",
       "      <td>[clique_1_MEME-0_3.3e-1426, clique_1_MEME-3_3....</td>\n",
       "      <td>[GYSGIDJIBDVL, VAKLTNSDP, RKENELF, WLDRHRD]</td>\n",
       "      <td>[eid_913933::RAP_protein, eid_73821::Glycophor...</td>\n",
       "      <td>4</td>\n",
       "    </tr>\n",
       "    <tr>\n",
       "      <th>16</th>\n",
       "      <td>16</td>\n",
       "      <td>23</td>\n",
       "      <td>-0.318137</td>\n",
       "      <td>-0.164457</td>\n",
       "      <td>[clique_16_MEME-0_2.1e-305, clique_16_MEME-1_2...</td>\n",
       "      <td>[EGGACANSKIKG, MCDLNLEHJ, DVHNTQNTHDLL, AFHSNT...</td>\n",
       "      <td>[eid_1067148::antigen_332, eid_181762::PfEMP1,...</td>\n",
       "      <td>4</td>\n",
       "    </tr>\n",
       "  </tbody>\n",
       "</table>\n",
       "<p>275 rows × 8 columns</p>\n",
       "</div>"
      ],
      "text/plain": [
       "     clique_idx  membership     agg_x     agg_y  \\\n",
       "274         274           2  0.087412  0.849061   \n",
       "122         122           4  0.810070  0.159737   \n",
       "123         123           4 -0.732529 -0.260718   \n",
       "124         124           4  0.244762  0.712304   \n",
       "213         213           2 -0.745668 -0.528340   \n",
       "..          ...         ...       ...       ...   \n",
       "11           11          27  0.181906  0.252555   \n",
       "18           18          22  0.250668 -0.191435   \n",
       "20           20          20 -0.088426 -0.414727   \n",
       "1             1         120 -0.139762  0.024525   \n",
       "16           16          23 -0.318137 -0.164457   \n",
       "\n",
       "                                                qseqid  \\\n",
       "274                                                 []   \n",
       "122                                                 []   \n",
       "123                                                 []   \n",
       "124                                                 []   \n",
       "213                                                 []   \n",
       "..                                                 ...   \n",
       "11   [clique_11_MEME-0_1.5e-339, clique_11_MEME-1_2...   \n",
       "18   [clique_18_MEME-0_8.1e-803, clique_18_MEME-1_1...   \n",
       "20   [clique_20_MEME-0_3.6e-104, clique_20_MEME-1_4...   \n",
       "1    [clique_1_MEME-0_3.3e-1426, clique_1_MEME-3_3....   \n",
       "16   [clique_16_MEME-0_2.1e-305, clique_16_MEME-1_2...   \n",
       "\n",
       "                                             sequences  \\\n",
       "274                                                 []   \n",
       "122                                                 []   \n",
       "123                                                 []   \n",
       "124                                                 []   \n",
       "213                                                 []   \n",
       "..                                                 ...   \n",
       "11               [QHEIVEVEEILP, EDKNEKV, HTEQLDLDHKTV]   \n",
       "18    [PNANPNANPNAN, PNANPNA, RKPKHKKLKQPG, QGNGQGHNM]   \n",
       "20   [EEEDEEDIEEEN, QQSEKKSISKVD, EKELSNQ, ETNDTEDT...   \n",
       "1          [GYSGIDJIBDVL, VAKLTNSDP, RKENELF, WLDRHRD]   \n",
       "16   [EGGACANSKIKG, MCDLNLEHJ, DVHNTQNTHDLL, AFHSNT...   \n",
       "\n",
       "                                                sseqid  num_known  \n",
       "274                                                 []          0  \n",
       "122                                                 []          0  \n",
       "123                                                 []          0  \n",
       "124                                                 []          0  \n",
       "213                                                 []          0  \n",
       "..                                                 ...        ...  \n",
       "11   [eid_469456::glutamate-rich_protein, eid_91343...          3  \n",
       "18   [eid_756411::Circumsporozoite_protein_precurso...          4  \n",
       "20   [eid_1067086::mature_parasite-infected_erythro...          4  \n",
       "1    [eid_913933::RAP_protein, eid_73821::Glycophor...          4  \n",
       "16   [eid_1067148::antigen_332, eid_181762::PfEMP1,...          4  \n",
       "\n",
       "[275 rows x 8 columns]"
      ]
     },
     "execution_count": 12,
     "metadata": {},
     "output_type": "execute_result"
    }
   ],
   "source": [
    "group_cols = ['clique_idx', 'membership', 'agg_x', 'agg_y']\n",
    "clique_motif_frame = []\n",
    "nan_remover = lambda x : np.array([i for i in x.astype(str) if i != 'nan'])\n",
    "\n",
    "for idx, subframe in frame.merge(motif_frame, how = 'left').groupby(group_cols):\n",
    "    \n",
    "    data = {\n",
    "        'clique_idx' : idx[0],\n",
    "        'membership' : idx[1],\n",
    "        'agg_x' : idx[2],\n",
    "        'agg_y' : idx[3],\n",
    "        'qseqid' : nan_remover(subframe.qseqid.unique()),\n",
    "        'sequences' : nan_remover(subframe.sequence.unique()),\n",
    "        'sseqid' : nan_remover(subframe.sseqid.unique()),\n",
    "        'num_known' : nan_remover(subframe.sseqid.unique()).size\n",
    "    }\n",
    "    \n",
    "    clique_motif_frame.append(data)\n",
    "\n",
    "clique_motif_frame = pd.DataFrame(clique_motif_frame)\n",
    "clique_motif_frame.sort_values('num_known', inplace=True)\n",
    "clique_motif_frame"
   ]
  },
  {
   "cell_type": "markdown",
   "metadata": {},
   "source": [
    "# Plot Cliques and Motifs"
   ]
  },
  {
   "cell_type": "markdown",
   "metadata": {},
   "source": [
    "## Aggregate Clique Layout + Number of found motifs"
   ]
  },
  {
   "cell_type": "code",
   "execution_count": 31,
   "metadata": {},
   "outputs": [
    {
     "data": {
      "application/vnd.plotly.v1+json": {
       "config": {
        "plotlyServerURL": "https://plot.ly"
       },
       "data": [
        {
         "customdata": [
          [
           274,
           "",
           ""
          ],
          [
           122,
           "",
           ""
          ],
          [
           123,
           "",
           ""
          ],
          [
           124,
           "",
           ""
          ],
          [
           213,
           "",
           ""
          ],
          [
           126,
           "",
           ""
          ],
          [
           127,
           "",
           ""
          ],
          [
           128,
           "",
           ""
          ],
          [
           129,
           "",
           ""
          ],
          [
           130,
           "",
           ""
          ],
          [
           212,
           "",
           ""
          ],
          [
           132,
           "",
           ""
          ],
          [
           133,
           "",
           ""
          ],
          [
           211,
           "",
           ""
          ],
          [
           210,
           "",
           ""
          ],
          [
           209,
           "",
           ""
          ],
          [
           273,
           "",
           ""
          ],
          [
           208,
           "",
           ""
          ],
          [
           139,
           "",
           ""
          ],
          [
           207,
           "",
           ""
          ],
          [
           121,
           "",
           ""
          ],
          [
           120,
           "",
           ""
          ],
          [
           214,
           "",
           ""
          ],
          [
           118,
           "",
           ""
          ],
          [
           192,
           "",
           ""
          ],
          [
           222,
           "",
           ""
          ],
          [
           98,
           "",
           ""
          ],
          [
           99,
           "",
           ""
          ],
          [
           100,
           "",
           ""
          ],
          [
           101,
           "",
           ""
          ],
          [
           102,
           "",
           ""
          ],
          [
           104,
           "",
           ""
          ],
          [
           105,
           "",
           ""
          ],
          [
           141,
           "",
           ""
          ],
          [
           220,
           "",
           ""
          ],
          [
           108,
           "",
           ""
          ],
          [
           109,
           "",
           ""
          ],
          [
           219,
           "",
           ""
          ],
          [
           111,
           "",
           ""
          ],
          [
           218,
           "",
           ""
          ],
          [
           113,
           "",
           ""
          ],
          [
           217,
           "",
           ""
          ],
          [
           216,
           "",
           ""
          ],
          [
           116,
           "",
           ""
          ],
          [
           107,
           "",
           ""
          ],
          [
           95,
           "",
           ""
          ],
          [
           142,
           "",
           ""
          ],
          [
           144,
           "",
           ""
          ],
          [
           172,
           "",
           ""
          ],
          [
           174,
           "",
           ""
          ],
          [
           175,
           "",
           ""
          ],
          [
           196,
           "",
           ""
          ],
          [
           177,
           "",
           ""
          ],
          [
           178,
           "",
           ""
          ],
          [
           179,
           "",
           ""
          ],
          [
           180,
           "",
           ""
          ],
          [
           181,
           "",
           ""
          ],
          [
           182,
           "",
           ""
          ],
          [
           183,
           "",
           ""
          ],
          [
           184,
           "",
           ""
          ],
          [
           185,
           "",
           ""
          ],
          [
           186,
           "",
           ""
          ],
          [
           195,
           "",
           ""
          ],
          [
           188,
           "",
           ""
          ],
          [
           189,
           "",
           ""
          ],
          [
           190,
           "",
           ""
          ],
          [
           191,
           "",
           ""
          ],
          [
           198,
           "",
           ""
          ],
          [
           170,
           "",
           ""
          ],
          [
           169,
           "",
           ""
          ],
          [
           168,
           "",
           ""
          ],
          [
           145,
           "",
           ""
          ],
          [
           146,
           "",
           ""
          ],
          [
           147,
           "",
           ""
          ],
          [
           148,
           "",
           ""
          ],
          [
           206,
           "",
           ""
          ],
          [
           205,
           "",
           ""
          ],
          [
           204,
           "",
           ""
          ],
          [
           152,
           "",
           ""
          ],
          [
           154,
           "",
           ""
          ],
          [
           143,
           "",
           ""
          ],
          [
           156,
           "",
           ""
          ],
          [
           158,
           "",
           ""
          ],
          [
           159,
           "",
           ""
          ],
          [
           161,
           "",
           ""
          ],
          [
           162,
           "",
           ""
          ],
          [
           200,
           "",
           ""
          ],
          [
           164,
           "",
           ""
          ],
          [
           199,
           "",
           ""
          ],
          [
           166,
           "",
           ""
          ],
          [
           167,
           "",
           ""
          ],
          [
           157,
           "",
           ""
          ],
          [
           224,
           "",
           ""
          ],
          [
           223,
           "",
           ""
          ],
          [
           92,
           "",
           ""
          ],
          [
           28,
           "",
           ""
          ],
          [
           251,
           "",
           ""
          ],
          [
           30,
           "",
           ""
          ],
          [
           33,
           "",
           ""
          ],
          [
           34,
           "",
           ""
          ],
          [
           35,
           "",
           ""
          ],
          [
           248,
           "",
           ""
          ],
          [
           247,
           "",
           ""
          ],
          [
           252,
           "",
           ""
          ],
          [
           38,
           "",
           ""
          ],
          [
           246,
           "",
           ""
          ],
          [
           245,
           "",
           ""
          ],
          [
           42,
           "",
           ""
          ],
          [
           43,
           "",
           ""
          ],
          [
           44,
           "",
           ""
          ],
          [
           225,
           "",
           ""
          ],
          [
           244,
           "",
           ""
          ],
          [
           242,
           "",
           ""
          ],
          [
           39,
           "",
           ""
          ],
          [
           253,
           "",
           ""
          ],
          [
           254,
           "",
           ""
          ],
          [
           24,
           "",
           ""
          ],
          [
           272,
           "",
           ""
          ],
          [
           271,
           "",
           ""
          ],
          [
           270,
           "",
           ""
          ],
          [
           5,
           "",
           ""
          ],
          [
           268,
           "",
           ""
          ],
          [
           267,
           "",
           ""
          ],
          [
           265,
           "",
           ""
          ],
          [
           263,
           "",
           ""
          ],
          [
           262,
           "",
           ""
          ],
          [
           13,
           "",
           ""
          ],
          [
           14,
           "",
           ""
          ],
          [
           260,
           "",
           ""
          ],
          [
           259,
           "",
           ""
          ],
          [
           258,
           "",
           ""
          ],
          [
           257,
           "",
           ""
          ],
          [
           256,
           "",
           ""
          ],
          [
           21,
           "",
           ""
          ],
          [
           255,
           "",
           ""
          ],
          [
           23,
           "",
           ""
          ],
          [
           241,
           "",
           ""
          ],
          [
           50,
           "",
           ""
          ],
          [
           45,
           "",
           ""
          ],
          [
           52,
           "",
           ""
          ],
          [
           71,
           "",
           ""
          ],
          [
           51,
           "",
           ""
          ],
          [
           73,
           "",
           ""
          ],
          [
           75,
           "",
           ""
          ],
          [
           76,
           "",
           ""
          ],
          [
           231,
           "",
           ""
          ],
          [
           78,
           "",
           ""
          ],
          [
           79,
           "",
           ""
          ],
          [
           80,
           "",
           ""
          ],
          [
           81,
           "",
           ""
          ],
          [
           230,
           "",
           ""
          ],
          [
           83,
           "",
           ""
          ],
          [
           84,
           "",
           ""
          ],
          [
           85,
           "",
           ""
          ],
          [
           229,
           "",
           ""
          ],
          [
           228,
           "",
           ""
          ],
          [
           88,
           "",
           ""
          ],
          [
           226,
           "",
           ""
          ],
          [
           91,
           "",
           ""
          ],
          [
           233,
           "",
           ""
          ],
          [
           234,
           "",
           ""
          ],
          [
           72,
           "",
           ""
          ],
          [
           194,
           "",
           ""
          ],
          [
           237,
           "",
           ""
          ],
          [
           60,
           "",
           ""
          ],
          [
           68,
           "",
           ""
          ],
          [
           61,
           "",
           ""
          ],
          [
           236,
           "",
           ""
          ],
          [
           63,
           "",
           ""
          ],
          [
           56,
           "",
           ""
          ],
          [
           239,
           "",
           ""
          ],
          [
           240,
           "",
           ""
          ],
          [
           54,
           "",
           ""
          ],
          [
           66,
           "",
           ""
          ],
          [
           67,
           "",
           ""
          ],
          [
           53,
           "",
           ""
          ],
          [
           65,
           "",
           ""
          ],
          [
           238,
           "",
           ""
          ],
          [
           266,
           "VSEFKNNFDGCL",
           "cytoadherence_linked_asexual_protein_3.1_"
          ],
          [
           269,
           "DDYSKRNRS",
           "Merozoite_surface_protein_1_precursor"
          ],
          [
           227,
           "YNLNSGYNQNNG",
           "merozoite_surface_protein_8"
          ],
          [
           243,
           "KCDDRIFKKRNY",
           "erythrocyte_binding_antigen-165_"
          ],
          [
           201,
           "NKMDNKY",
           "erythrocyte_membrane_protein_1"
          ],
          [
           221,
           "AGYSDSDYDDEY",
           "Circumsporozoite"
          ],
          [
           197,
           "QVPVSGSPL",
           "merozoite_surface_protein_1"
          ],
          [
           235,
           "SKSQPQHPK",
           "merozoite_surface_protein_10_"
          ],
          [
           203,
           "TADLNAEKTTDL",
           "cytoadherence_linked_asexual_protein_3.1_"
          ],
          [
           202,
           "PQGSTGA",
           "serine_repeat_antigen_5"
          ],
          [
           232,
           "GGCGDKKIC",
           "merozoite_surface_protein_4_"
          ],
          [
           249,
           "SDKINDYDN",
           "PfEMP1"
          ],
          [
           215,
           "TPPAPQGESGLK",
           "MSP7-like_protein_"
          ],
          [
           250,
           "NGLRNDAGRGNJ",
           "erythrocyte_binding_antigen-181_"
          ],
          [
           264,
           "KKSNTKYNI",
           "petidase"
          ],
          [
           261,
           "GTGQHGHMHGSR",
           "merozoite_surface_protein_2"
          ],
          [
           0,
           "VIPEELVEEVIP,EVVEEVVPE",
           "11-1_polypeptide"
          ],
          [
           187,
           "GEHLYDIDG",
           "erythrocyte_membrane_protein_1"
          ],
          [
           86,
           "KEINKTDSE",
           "hypothetical_protein_PF07_0086"
          ],
          [
           82,
           "YKFLSMKH",
           "merozoite_surface_protein_10_"
          ],
          [
           77,
           "RRAKEKLQEQQS",
           "liver_stage_antigen_1_"
          ],
          [
           74,
           "EDSAQDTZNSLD",
           "erythrocyte_binding_antigen-181_"
          ],
          [
           70,
           "DEGKTTDEGKTT",
           "mature_parasite-infected_erythrocyte_surface_antigen_"
          ],
          [
           193,
           "TYDEKVKKN",
           "Liver_stage_antigen"
          ],
          [
           64,
           "YKLGNNKKSYLI,NDVHKKKADDGN",
           "merozoite_surface_protein_10_"
          ],
          [
           62,
           "ETGESKETGESK",
           "mature_parasite-infected_erythrocyte_surface_antigen_"
          ],
          [
           59,
           "NEVKSEVKNEVK",
           "CelTOS"
          ],
          [
           58,
           "VNNNBNMDNIYN",
           "duffy_binding-like_merozoite_surface_protein_"
          ],
          [
           55,
           "ATKEASTSK",
           "Knob-associated_histidine-rich_protein_precursor"
          ],
          [
           48,
           "YYDTNDDDV",
           "acidic_basic_repeat_antigen_"
          ],
          [
           47,
           "SDGDKGP",
           "endoplasmin"
          ],
          [
           87,
           "LSDDVRPDKNH",
           "erythrocyte_binding_antigen-175_"
          ],
          [
           46,
           "KEKEEVKEKEEV,NKDKVIEQE",
           "mature_parasite-infected_erythrocyte_surface_antigen_"
          ],
          [
           37,
           "FKRQMFYTLGDY",
           "cytoadherence_linked_asexual_protein_3.2_"
          ],
          [
           36,
           "LRDNYASEQEYF",
           "antigen_332"
          ],
          [
           32,
           "GSVTEEIVE",
           "antigen_332"
          ],
          [
           29,
           "FDFRDSYFCNFP",
           "cytoadherence_linked_asexual_protein_8_"
          ],
          [
           27,
           "ELKNKEL",
           "erythrocyte_binding_antigen-181_"
          ],
          [
           26,
           "EKNEKNEKSIPN",
           "probable_protein"
          ],
          [
           22,
           "NTDTISTDN",
           "sporozoite_threonine_and_asparagine-rich_protein_"
          ],
          [
           19,
           "HDHDDFCDC",
           "erythrocyte_binding_antigen-140_"
          ],
          [
           9,
           "NIEENIEEN",
           "ring-infested_erythrocyte_surface_antigen"
          ],
          [
           8,
           "SSTCECTDINNA",
           "Merozoite_surface_protein_1_precursor"
          ],
          [
           7,
           "QQSDLEQERLAK",
           "liver_stage_antigen_1_"
          ],
          [
           6,
           "KDKCMKEIQQKF",
           "apical_membrane_antigen-1"
          ],
          [
           3,
           "TTQEPVTTQEPV,TTQEPVTTQ,VTTQEPV",
           "Interspersed_repeat_antigen"
          ],
          [
           41,
           "HDDLYNSENSTF",
           "erythrocyte_binding_antigen-181_"
          ],
          [
           89,
           "FFTNKKKKDMNK",
           "glutamate-rich_protein"
          ],
          [
           137,
           "GSFDTIFDGFVN",
           "merozoite_surface_protein_"
          ],
          [
           93,
           "TNPCQLEYQWHT",
           "erythrocyte_membrane_protein_1"
          ],
          [
           160,
           "AATCGPNDGDCF",
           "sporozoite_surface_protein_2"
          ],
          [
           155,
           "NNGNNFNKDNIL",
           "merozoite_surface_protein_1"
          ],
          [
           163,
           "YGPNGTYGPNGT",
           "major_surface_antigen_p190"
          ],
          [
           153,
           "KLIGDNKLIGDB",
           "erythrocyte_membrane-associated_giant_protein_antigen_332"
          ],
          [
           151,
           "DTSSLKKIKGSP",
           "erythrocyte_binding_antigen-175_"
          ],
          [
           150,
           "SNDKQSNDI",
           "merozoite_surface_protein_5_"
          ],
          [
           90,
           "EPFPNQKHKDLD",
           "glutamate-rich_protein_"
          ],
          [
           149,
           "GASAPSGTS",
           "merozoite_surface_protein_1"
          ],
          [
           165,
           "HDDEEIYLNKIE",
           "Circumsporozoite"
          ],
          [
           138,
           "LNKDISNKDYKY",
           "apical_membrane_antigen_1"
          ],
          [
           171,
           "YRSKYCQPCPDC",
           "erythrocyte_membrane_protein_1"
          ],
          [
           136,
           "NYIEPSYKIYTS",
           "Merozoite_surface_protein_1_precursor"
          ],
          [
           135,
           "REYQLDNEGPDT",
           "MSP7-like_protein_"
          ],
          [
           131,
           "LDRHRDMCEKW",
           "erythrocyte_membrane_protein_1_(PfEMP1)"
          ],
          [
           134,
           "KDKVLGEGDKED",
           "mature_parasite-infected_erythrocyte_surface_antigen_"
          ],
          [
           110,
           "PPTQDAETKSPT",
           "merozoite_surface_protein_2_"
          ],
          [
           125,
           "RTLNKEYEDGEL",
           "erythrocyte_binding_protein"
          ],
          [
           94,
           "NIKGEDNIKNKG",
           "cytoadherence_linked_asexual_protein_9_"
          ],
          [
           176,
           "GTAESKDSTGAS",
           "Merozoite_surface_antigen_2_precursor"
          ],
          [
           117,
           "SPRIFJSDBKDE",
           "apical_membrane_antigen-1"
          ],
          [
           115,
           "AGPQDPADDVTP",
           "exported_protein_1_"
          ],
          [
           114,
           "CKCRPNYDCBIS",
           "merozoite_surface_protein_10_"
          ],
          [
           173,
           "EKRNGFDLBDDT",
           "sporozoite_surface_protein_2"
          ],
          [
           106,
           "QKQKQEE",
           "erythrocyte_binding_antigen-181_"
          ],
          [
           103,
           "MNGENIMNGDNK",
           "cytoadherence_linked_asexual_protein_3.1_"
          ],
          [
           97,
           "DNIEVNNTL",
           "protein_kinase"
          ],
          [
           96,
           "NDTTHNSYTNKK",
           "erythrocyte_membrane_protein_1"
          ],
          [
           10,
           "RNQNVNDRRNFD,CGLEKGGPPWTP",
           "cytoadherence_linked_asexual_protein_3.1_,erythrocyte_membrane_protein_1"
          ],
          [
           12,
           "NNEYYKEFYKKL,DYKTVDKFLNLL",
           "major_merozoite_surface_antigen,glutamate-rich_protein_"
          ],
          [
           4,
           "GQQNTGLKNTPS,LNKDIRNKDLKN",
           "high_molecular_weight_rhoptry_protein_3_,erythrocyte_binding_antigen-175_"
          ],
          [
           2,
           "YKZLKEVVEENG,YEQLKDVVEKNG",
           "liver_stage-specific_antigen_1,Liver_stage_antigen"
          ],
          [
           15,
           "NDTEVKDKVKKQ,VEEGIKE",
           "mature_parasite-infected_erythrocyte_surface_antigen_,mature_parasite-infected_erythrocyte_surface_antigen_"
          ],
          [
           31,
           "NADNKED,FHKILTNTD",
           "MSP7-like_protein_,Glycophorin-binding_protein"
          ],
          [
           17,
           "RPQFLRWFTEWG,DEFCRERKKKE",
           "erythrocyte_binding_antigen-140_,PfEMP1"
          ],
          [
           25,
           "FSDGSAFGGGLP,GLSVTNS",
           "erythrocyte_membrane_protein,duffy_binding-like_merozoite_surface_protein_"
          ],
          [
           140,
           "HDIYDIDTF,DMCKKCDEIKYL",
           "erythrocyte_binding_antigen-140_,erythrocyte_binding_antigen-140_"
          ],
          [
           40,
           "SNGREDKVSNGG,DEVSNGRED",
           "S-antigen_,S-antigen_"
          ],
          [
           49,
           "INNMYVKEFYEK,CWDKCDPFEQW",
           "merozoite_surface_protein_8,erythrocyte_binding_antigen-175_"
          ],
          [
           57,
           "EFYKKLKEKTYN,NSINNIYY",
           "cytoadherence_linked_asexual_protein_3.2_,cytoadherence_linked_asexual_protein_8_"
          ],
          [
           119,
           "MSIHDGMKGQKY,QNKNYKHLTDEE",
           "erythrocyte_binding_antigen-165_,conserved_Plasmodium_protein"
          ],
          [
           112,
           "FIQEDQEGQTHS,NVPSGLDIDDIP",
           "glutamate-rich_protein_,glutamate-rich_protein_"
          ],
          [
           69,
           "PQYLRWFEEWAE,VPTYFDY",
           "erythrocyte_membrane_protein_1_var_IT-ICAM,EMP1"
          ],
          [
           11,
           "QHEIVEVEEILP,EDKNEKV,HTEQLDLDHKTV",
           "glutamate-rich_protein,glutamate-rich_protein_,glutamate-rich_protein_"
          ],
          [
           18,
           "PNANPNANPNAN,PNANPNA,RKPKHKKLKQPG,QGNGQGHNM",
           "Circumsporozoite_protein_precursor,Circumsporozoite_protein_precursor,Circumsporozoite_protein_precursor,Circumsporozoite_protein_precursor"
          ],
          [
           20,
           "EEEDEEDIEEEN,QQSEKKSISKVD,EKELSNQ,ETNDTEDTD,DIIKHNEDVR",
           "mature_parasite-infected_erythrocyte_surface_antigen_,duffy_binding-like_merozoite_surface_protein_,duffy_binding-like_merozoite_surface_protein_,duffy_binding-like_merozoite_surface_protein_"
          ],
          [
           1,
           "GYSGIDJIBDVL,VAKLTNSDP,RKENELF,WLDRHRD",
           "RAP_protein,Glycophorin-binding_protein,PfEMP1_variant_1_of_strain_MC,erythrocyte_membrane_protein_1_(PfEMP1)"
          ],
          [
           16,
           "EGGACANSKIKG,MCDLNLEHJ,DVHNTQNTHDLL,AFHSNTPGNQR",
           "antigen_332,PfEMP1,erythrocyte_membrane_protein_1,high_molecular_weight_rhoptry_protein_3_"
          ]
         ],
         "hovertemplate": "<b>Clique Number</b> : %{customdata[0]}<br><b>Membership</b> : %{marker.size}<br><b>Motifs</b> : %{customdata[1]}</b><br><extra><b>Known Epitopes</b> : %{customdata[2]}<br></extra>",
         "marker": {
          "color": [
           0,
           0,
           0,
           0,
           0,
           0,
           0,
           0,
           0,
           0,
           0,
           0,
           0,
           0,
           0,
           0,
           0,
           0,
           0,
           0,
           0,
           0,
           0,
           0,
           0,
           0,
           0,
           0,
           0,
           0,
           0,
           0,
           0,
           0,
           0,
           0,
           0,
           0,
           0,
           0,
           0,
           0,
           0,
           0,
           0,
           0,
           0,
           0,
           0,
           0,
           0,
           0,
           0,
           0,
           0,
           0,
           0,
           0,
           0,
           0,
           0,
           0,
           0,
           0,
           0,
           0,
           0,
           0,
           0,
           0,
           0,
           0,
           0,
           0,
           0,
           0,
           0,
           0,
           0,
           0,
           0,
           0,
           0,
           0,
           0,
           0,
           0,
           0,
           0,
           0,
           0,
           0,
           0,
           0,
           0,
           0,
           0,
           0,
           0,
           0,
           0,
           0,
           0,
           0,
           0,
           0,
           0,
           0,
           0,
           0,
           0,
           0,
           0,
           0,
           0,
           0,
           0,
           0,
           0,
           0,
           0,
           0,
           0,
           0,
           0,
           0,
           0,
           0,
           0,
           0,
           0,
           0,
           0,
           0,
           0,
           0,
           0,
           0,
           0,
           0,
           0,
           0,
           0,
           0,
           0,
           0,
           0,
           0,
           0,
           0,
           0,
           0,
           0,
           0,
           0,
           0,
           0,
           0,
           0,
           0,
           0,
           0,
           0,
           0,
           0,
           0,
           0,
           0,
           0,
           0,
           0,
           0,
           0,
           0,
           0,
           0,
           0,
           0,
           1,
           1,
           1,
           1,
           1,
           1,
           1,
           1,
           1,
           1,
           1,
           1,
           1,
           1,
           1,
           1,
           1,
           1,
           1,
           1,
           1,
           1,
           1,
           1,
           1,
           1,
           1,
           1,
           1,
           1,
           1,
           1,
           1,
           1,
           1,
           1,
           1,
           1,
           1,
           1,
           1,
           1,
           1,
           1,
           1,
           1,
           1,
           1,
           1,
           1,
           1,
           1,
           1,
           1,
           1,
           1,
           1,
           1,
           1,
           1,
           1,
           1,
           1,
           1,
           1,
           1,
           1,
           1,
           1,
           1,
           1,
           1,
           1,
           1,
           1,
           1,
           1,
           2,
           2,
           2,
           2,
           2,
           2,
           2,
           2,
           2,
           2,
           2,
           2,
           2,
           2,
           2,
           3,
           4,
           4,
           4,
           4
          ],
          "colorbar": {
           "title": {
            "text": "known motifs"
           }
          },
          "colorscale": [
           [
            0,
            "#f5d60f"
           ],
           [
            1,
            "#C70039"
           ]
          ],
          "size": [
           2,
           4,
           4,
           4,
           2,
           4,
           4,
           4,
           4,
           4,
           2,
           4,
           3,
           2,
           2,
           2,
           2,
           2,
           3,
           2,
           4,
           4,
           2,
           4,
           2,
           2,
           5,
           5,
           5,
           5,
           5,
           4,
           4,
           3,
           2,
           4,
           4,
           2,
           4,
           2,
           4,
           2,
           2,
           4,
           4,
           5,
           3,
           3,
           3,
           3,
           3,
           2,
           3,
           3,
           3,
           3,
           2,
           2,
           2,
           2,
           2,
           2,
           2,
           2,
           2,
           2,
           2,
           2,
           3,
           3,
           3,
           3,
           3,
           3,
           3,
           2,
           2,
           2,
           3,
           3,
           3,
           3,
           3,
           3,
           3,
           3,
           2,
           3,
           2,
           3,
           3,
           3,
           2,
           2,
           5,
           16,
           2,
           15,
           12,
           12,
           12,
           2,
           2,
           2,
           12,
           2,
           2,
           11,
           11,
           11,
           2,
           2,
           2,
           11,
           2,
           2,
           17,
           2,
           2,
           2,
           43,
           2,
           2,
           2,
           2,
           2,
           25,
           24,
           2,
           2,
           2,
           2,
           2,
           18,
           2,
           17,
           2,
           9,
           11,
           9,
           7,
           9,
           7,
           7,
           7,
           2,
           6,
           6,
           6,
           6,
           2,
           6,
           6,
           6,
           2,
           2,
           5,
           2,
           5,
           2,
           2,
           7,
           2,
           2,
           8,
           7,
           8,
           2,
           8,
           8,
           2,
           2,
           9,
           7,
           7,
           9,
           7,
           2,
           2,
           2,
           2,
           2,
           2,
           2,
           2,
           2,
           2,
           2,
           2,
           2,
           2,
           2,
           2,
           2,
           442,
           2,
           5,
           6,
           6,
           7,
           7,
           2,
           8,
           8,
           8,
           8,
           8,
           10,
           10,
           5,
           10,
           12,
           12,
           13,
           16,
           16,
           16,
           17,
           21,
           29,
           35,
           37,
           40,
           66,
           11,
           5,
           3,
           5,
           3,
           3,
           3,
           3,
           3,
           3,
           5,
           3,
           3,
           3,
           3,
           3,
           3,
           4,
           3,
           4,
           4,
           5,
           3,
           4,
           4,
           4,
           3,
           4,
           5,
           5,
           5,
           27,
           26,
           57,
           83,
           24,
           14,
           22,
           16,
           3,
           11,
           10,
           8,
           4,
           4,
           7,
           27,
           22,
           20,
           120,
           23
          ],
          "sizemin": 3,
          "sizemode": "area",
          "sizeref": 0.25,
          "symbol": [
           100,
           100,
           100,
           100,
           100,
           100,
           100,
           100,
           100,
           100,
           100,
           100,
           100,
           100,
           100,
           100,
           100,
           100,
           100,
           100,
           100,
           100,
           100,
           100,
           100,
           100,
           100,
           100,
           100,
           100,
           100,
           100,
           100,
           100,
           100,
           100,
           100,
           100,
           100,
           100,
           100,
           100,
           100,
           100,
           100,
           100,
           100,
           100,
           100,
           100,
           100,
           100,
           100,
           100,
           100,
           100,
           100,
           100,
           100,
           100,
           100,
           100,
           100,
           100,
           100,
           100,
           100,
           100,
           100,
           100,
           100,
           100,
           100,
           100,
           100,
           100,
           100,
           100,
           100,
           100,
           100,
           100,
           100,
           100,
           100,
           100,
           100,
           100,
           100,
           100,
           100,
           100,
           100,
           100,
           100,
           100,
           100,
           100,
           100,
           100,
           100,
           100,
           100,
           100,
           100,
           100,
           100,
           100,
           100,
           100,
           100,
           100,
           100,
           100,
           100,
           100,
           100,
           100,
           100,
           100,
           100,
           100,
           100,
           100,
           100,
           100,
           100,
           100,
           100,
           100,
           100,
           100,
           100,
           100,
           100,
           100,
           100,
           100,
           100,
           100,
           100,
           100,
           100,
           100,
           100,
           100,
           100,
           100,
           100,
           100,
           100,
           100,
           100,
           100,
           100,
           100,
           100,
           100,
           100,
           100,
           100,
           100,
           100,
           100,
           100,
           100,
           100,
           100,
           100,
           100,
           100,
           100,
           100,
           100,
           100,
           100,
           100,
           100,
           0,
           0,
           0,
           0,
           0,
           0,
           0,
           0,
           0,
           0,
           0,
           0,
           0,
           0,
           0,
           0,
           0,
           0,
           0,
           0,
           0,
           0,
           0,
           0,
           0,
           0,
           0,
           0,
           0,
           0,
           0,
           0,
           0,
           0,
           0,
           0,
           0,
           0,
           0,
           0,
           0,
           0,
           0,
           0,
           0,
           0,
           0,
           0,
           0,
           0,
           0,
           0,
           0,
           0,
           0,
           0,
           0,
           0,
           0,
           0,
           0,
           0,
           0,
           0,
           0,
           0,
           0,
           0,
           0,
           0,
           0,
           0,
           0,
           0,
           0,
           0,
           0,
           0,
           0,
           0,
           0,
           0,
           0,
           0,
           0,
           0,
           0,
           0,
           0,
           0,
           0,
           0,
           0,
           0,
           0,
           0,
           0
          ]
         },
         "mode": "markers",
         "type": "scatter",
         "x": [
          0.08741186186671257,
          0.8100695908069611,
          -0.7325291484594345,
          0.24476170912384987,
          -0.7456682026386261,
          -0.23536089807748795,
          0.6344028115272522,
          0.7073276937007904,
          0.2402430884540081,
          0.03199549112468958,
          -0.2950160950422287,
          -0.416610985994339,
          -0.828447957833608,
          0.36117076873779297,
          0.7616588473320007,
          -0.2105705887079239,
          -0.500730499625206,
          0.9307701289653778,
          0.6318347056706747,
          -0.8717817962169647,
          -0.7095675617456436,
          0.634680300951004,
          -0.28142350912094116,
          0.4639918580651283,
          0.4699707627296448,
          0.5373697876930237,
          -0.06010209769010544,
          0.5316519260406494,
          0.33465894460678103,
          -0.7890691637992859,
          0.5765735626220703,
          -0.7624323815107346,
          -0.16452741250395775,
          -0.8024386763572693,
          0.20047051459550858,
          -0.7285996824502945,
          0.46708931773900986,
          -0.6150411367416382,
          -0.7974357455968857,
          0.5508686006069183,
          0.9116086363792419,
          0.2615208476781845,
          0.4159700572490692,
          0.5859400033950806,
          0.1170795951038599,
          0.07623241692781449,
          -0.3332040309906006,
          -0.8162234425544739,
          -0.2423804054657618,
          0.2269207884867986,
          -0.8299218813578287,
          0.5023595690727234,
          0.8250914414723715,
          -0.6391573349634806,
          -0.461915264527003,
          0.2970402141412099,
          -0.8721057176589966,
          0.05877603590488434,
          0.2691158503293991,
          0.9098321199417114,
          0.8894278705120087,
          -0.16932766884565353,
          -0.5620416700839996,
          -0.5515527725219727,
          0.4676477313041687,
          0.3714127540588379,
          0.6262489557266235,
          0.5624980628490448,
          -0.694759468237559,
          -0.3003203173478444,
          0.2621610263983409,
          0.2968331774075826,
          0.8705007632573446,
          -0.06348925456404686,
          -0.19840864837169647,
          -0.5165800452232361,
          0.8694146573543549,
          0.7559301555156708,
          0.7866345445315043,
          0.7487306793530782,
          -0.4577912191549937,
          0.5398016571998596,
          0.6613522370656332,
          0.4888985753059387,
          0.8708277146021525,
          0.7658725380897522,
          0.6188056766986847,
          -0.7336740096410116,
          0.7447687983512878,
          0.8088749249776205,
          -0.48909587661425274,
          0.7820912996927897,
          -0.7586423754692078,
          0.18046917766332626,
          -0.5883750677108764,
          0.43111768178641796,
          -0.645988792181015,
          -0.5750285863876343,
          0.5982988526423773,
          -0.03966560525198778,
          0.23255180194973946,
          -0.6876915395259857,
          0.37074439227581024,
          0.7702845335006714,
          -0.3061412001649539,
          -0.6200238764286041,
          -0.29533228278160095,
          -0.17783210223371332,
          0.7351628704504534,
          0.2017715641043403,
          -0.8404061794281006,
          -0.5375024080276489,
          -0.7863399982452393,
          0.6550398956645619,
          -0.7192818820476532,
          0.9096475839614868,
          -0.2187926436171812,
          0.8173423707485199,
          -0.8715997934341431,
          -0.8048095405101776,
          0.18120609119881032,
          -0.6961060166358948,
          0.891304224729538,
          -0.8520104289054871,
          -0.5360464453697205,
          -0.8016707301139832,
          0.07976516425609588,
          0.24205784065028033,
          -0.16603629291057587,
          0.012270500883460045,
          0.2767431288957596,
          -0.8458283543586731,
          0.09663471207022667,
          0.005168264505401667,
          0.4180283397436142,
          -0.4042127465500551,
          0.7373769283294678,
          -0.7846255699793497,
          -0.4001708057793704,
          -0.5715758403142294,
          0.3903074051652636,
          0.06136169077621566,
          -0.19233202508517674,
          0.5918283717972892,
          -0.642238165651049,
          -0.8581258654594421,
          -0.47708582878112793,
          -0.6432021458943685,
          0.7378510137399038,
          0.6603393952051798,
          0.4971752166748047,
          -0.66072545448939,
          -0.0510550681501627,
          -0.7831896245479584,
          0.5903081893920898,
          0.8315620124340057,
          -0.7181538343429565,
          0.22862257808446884,
          0.8547165274620057,
          -0.05041687376797199,
          -0.13210876286029816,
          -0.25246567385537283,
          -0.7585101127624512,
          0.4386874586343765,
          0.1448536217212677,
          -0.6107211198125567,
          -0.04158807406201959,
          0.7430870831012726,
          0.48030397668480873,
          -0.6796426102519035,
          -0.08361808210611343,
          -0.6688982546329498,
          0.6639356215794882,
          0.14884075735296523,
          -0.68770113161632,
          -0.5033220019605424,
          -0.7609620945794242,
          0.14003048092126846,
          0.8088138401508331,
          -0.029771416448056698,
          -0.5245940387248993,
          -0.36516430974006653,
          -0.7757576406002045,
          0.6119994521141052,
          -0.8339196443557739,
          0.7811398804187775,
          0.8345828652381897,
          -0.19336730986833572,
          0.6876272559165955,
          0.6508760750293732,
          -0.11182162910699844,
          0.20879388600587845,
          -0.37875300645828247,
          0.8651771247386932,
          -0.02615169909829063,
          -0.3756464719772339,
          0.8048494100570679,
          -0.8144155840078989,
          0.7159413993358612,
          -0.6887073857443673,
          -0.7454547541482108,
          0.3804747611284256,
          0.007822185521945357,
          0.6567748636007309,
          -0.28789228573441505,
          0.3663102760910988,
          0.7045884728431702,
          0.49084936678409574,
          0.40621852278709414,
          -0.6805130004882812,
          -0.03305115923285484,
          -0.7463216086228689,
          -0.5991819600264231,
          0.5667216640252334,
          0.5042765699326992,
          0.41060037538409233,
          0.09840467059984803,
          -0.03609885932768092,
          -0.23342823485533395,
          -0.34268079955002356,
          0.2692410818168095,
          0.11591760069131851,
          -0.08154275566339493,
          -0.006451798264275898,
          -0.42346167835322296,
          0.6871515870094299,
          0.5612712899843851,
          -0.07728644162416458,
          -0.9616106748580933,
          0.06672866145769756,
          -0.56719042857488,
          -0.8051658868789673,
          -0.3647873302300771,
          -0.24448485672473907,
          -0.43243529200553893,
          0.21537665526072183,
          -0.7636982798576355,
          0.5446706414222717,
          0.7720518906911215,
          -0.047890586157639824,
          0.04479858403404554,
          -0.37384501099586487,
          0.6265184084574381,
          -0.4976905807852745,
          -0.2502428814768791,
          -0.4101529777050018,
          0.32461197177569073,
          0.7718800604343414,
          -0.6028413772583008,
          0.5436108559370041,
          -0.3164479434490204,
          -0.8008471131324768,
          0.6415163516998291,
          0.36697001457214357,
          -0.6409656763076782,
          0.3591803279187944,
          -0.25988167180464816,
          0.10338734286396127,
          0.08025895059108734,
          0.35105259095629054,
          0.6075279755251748,
          -0.3343664082613858,
          -0.4259010087698698,
          -0.7932584285736084,
          0.322227957573804,
          -0.556621640920639,
          0.5065722018480301,
          0.42236149311065674,
          0.25955963134765625,
          -0.1252342632838658,
          0.18190574921943523,
          0.25066814910281787,
          -0.0884264275431633,
          -0.13976194635033606,
          -0.3181372064611186
         ],
         "y": [
          0.8490608632564545,
          0.1597374752163887,
          -0.2607179135084152,
          0.712304413318634,
          -0.5283397734165192,
          0.7222279459238052,
          0.32522203773260117,
          -0.40455781668424606,
          -0.8130281269550323,
          -0.7945081889629364,
          -0.7449380159378052,
          0.8310341089963913,
          -0.12845377624034882,
          -0.9506981372833252,
          0.3641768544912338,
          -0.8838756382465363,
          -0.8170453608036041,
          0.007607927080243826,
          0.5708160400390625,
          0.1737351194024086,
          0.3691842630505562,
          0.36278732120990753,
          -0.8244857788085938,
          -0.6307114213705063,
          -0.7157186269760132,
          -0.6637206971645355,
          0.7962396383285523,
          -0.5190059304237366,
          -0.6561058759689331,
          -0.23882408142089845,
          0.5131572246551513,
          -0.3266249820590019,
          0.7492632418870926,
          0.2362471471230189,
          -0.7944314479827881,
          -0.45338519662618637,
          0.628034234046936,
          -0.6763759851455688,
          0.36710909754037857,
          -0.8424915075302124,
          0.12957921996712685,
          0.9599418342113495,
          -0.8263508379459381,
          0.4645475670695305,
          0.8184793591499329,
          -0.7093389153480529,
          0.639624277750651,
          -0.2800912658373515,
          -0.8415272037188212,
          0.749064028263092,
          0.3239057660102844,
          -0.7018028199672699,
          0.31644266843795776,
          0.675926943620046,
          0.7231362263361613,
          -0.7309739391009012,
          0.1364191174507141,
          -0.8555690050125122,
          0.8299373984336853,
          0.0709880143404007,
          0.247247576713562,
          0.8142891228199005,
          0.568591833114624,
          -0.5466216802597046,
          0.7603584229946136,
          -0.8422617018222809,
          -0.6187876164913177,
          0.7541602551937103,
          0.5108335812886556,
          0.8635705510775248,
          0.6742053429285685,
          -0.6870562632878622,
          0.005355902947485447,
          0.8355867067972819,
          0.8495489160219828,
          0.7029245793819427,
          0.20073729008436203,
          0.23794417083263397,
          0.009002715970079104,
          -0.5114221572875977,
          0.7732784152030945,
          0.4614133636156718,
          -0.6109699408213297,
          -0.5477128426233927,
          0.05441923439502716,
          0.09384045004844666,
          0.6635446846485138,
          0.2768979072570801,
          0.44497257471084595,
          0.3727760811646779,
          0.8632955352465311,
          -0.022826241950194042,
          0.08895860984921455,
          -0.9636448919773102,
          0.5251018404960632,
          -0.31384641490876675,
          0.7352049946784973,
          0.20982277592023213,
          0.2632452150185903,
          -0.6109053194522858,
          0.5856858293215433,
          0.6456752121448517,
          0.7275796830654144,
          0.31589581072330475,
          -0.6457125842571259,
          0.6506184637546539,
          0.7327852845191956,
          0.6771037524396722,
          -0.0450568598779765,
          -0.6018094312060963,
          -0.554069310426712,
          -0.784300297498703,
          0.2670016884803772,
          0.16908384453166614,
          -0.3436197340488434,
          0.4553980976343155,
          -0.447954386472702,
          -0.3128082901239395,
          0.02485204767435789,
          0.1993967667222023,
          -0.10080226458782374,
          -0.6436246931552887,
          0.2798299491405487,
          -0.4132489413022995,
          0.5857003927230835,
          0.10917572677135468,
          -0.2972885203361511,
          -0.3554792255163193,
          -0.6415109932422638,
          0.875875860452652,
          -0.8448572754859924,
          -0.3316829204559326,
          -0.7556141018867493,
          -0.3680332882536782,
          -0.6913145184516907,
          0.37669433390392976,
          -0.09060515835881233,
          0.056332589437564216,
          -0.6297660740939054,
          0.4586481485101912,
          0.5917820164135524,
          0.7071573932965597,
          -0.7133204085486275,
          0.3969440077032362,
          0.4111344516277313,
          0.5732195973396301,
          0.565141628185908,
          -0.4351461281379064,
          -0.14662755032380423,
          -0.2657891859610875,
          0.7972534894943237,
          0.46938001612822217,
          -0.859913170337677,
          0.14872982849677405,
          -0.6116076111793518,
          0.2591441720724106,
          0.4532416880130768,
          0.8117696344852448,
          -0.16498131155967713,
          0.9910098016262054,
          -0.8892950713634491,
          0.7681993927274432,
          -0.32574737071990967,
          0.8609072864055634,
          0.7025825828313828,
          -0.4153147212096623,
          0.7020932734012604,
          0.48318029940128326,
          0.531848780810833,
          -0.3460739925503731,
          0.8988127112388611,
          -0.6707325875759125,
          -0.3514747851424747,
          -0.7700178878647941,
          0.2937735063689096,
          -0.594460474120246,
          -0.1793108390910285,
          -0.8376785814762115,
          0.03163507115095854,
          -0.7895996570587158,
          0.8755220472812653,
          0.7359733283519745,
          -0.2835308313369751,
          -0.5454920828342438,
          -0.447564497590065,
          -0.3650553226470947,
          -0.2113407999277115,
          0.9115613996982574,
          0.32503172755241394,
          0.5238805413246155,
          0.6696903109550476,
          0.9444856345653534,
          -0.7112112939357758,
          0.08457915112376213,
          0.024530763413369384,
          0.6081429719924927,
          0.10372414588928222,
          -0.17295454442501068,
          -0.33973827958106995,
          0.03130759724548885,
          0.1851942539215088,
          0.8160973191261292,
          -0.7210352346301079,
          -0.46045122668147087,
          0.6705010160803795,
          0.6678571477532387,
          -0.1994694136083126,
          0.09913995116949081,
          -0.6081770062446594,
          -0.5152043104171753,
          0.7573771834373474,
          -0.08807527149717014,
          -0.10284117298821609,
          -0.2762374236033513,
          -0.10263409931212664,
          0.2838506232947111,
          -0.589042242616415,
          0.3896605512675117,
          -0.34472667887097314,
          0.01222865538800071,
          -0.04243125521710941,
          -0.2328540582109142,
          0.2968160308897495,
          -0.10992335855509296,
          -0.5572634014216337,
          0.2723546802997589,
          0.5546871423721313,
          0.8654568076133728,
          0.1573909471432368,
          0.7845801512400309,
          0.7064804037412008,
          -0.3762867550055186,
          -0.8642682234446207,
          0.9192782839139303,
          0.6857637286186218,
          -0.697797417640686,
          0.31534279386202496,
          -0.6333915193875631,
          -0.19899280865987143,
          -0.7477441628774008,
          0.8597670197486877,
          0.7909888327121735,
          0.40958784023920697,
          0.5874452143907547,
          -0.7408706545829773,
          0.6070397973060608,
          0.7463692426681519,
          0.2015015296638012,
          -0.7516595125198364,
          0.673716813325882,
          -0.8319299419720968,
          0.0065271588973701,
          0.4416560232639313,
          -0.7200682640075684,
          0.5865991711616516,
          0.07750318282180363,
          -0.19101863984878248,
          -0.10604065029244673,
          0.11961116085210478,
          -0.2022253517061472,
          -0.031237879768013954,
          0.10529527135870674,
          -0.3898122198879719,
          -0.04763321081797282,
          0.605866405096921,
          -0.3887316703796387,
          0.5672794207930565,
          0.6053445190191269,
          -0.7590684592723846,
          -0.7227800233023507,
          0.2525546048526411,
          -0.1914347227324139,
          -0.4147268280386925,
          0.024524692337339123,
          -0.1644568734842798
         ]
        }
       ],
       "layout": {
        "height": 1000,
        "hoverlabel": {
         "font": {
          "color": "white"
         }
        },
        "template": {
         "data": {
          "bar": [
           {
            "error_x": {
             "color": "#2a3f5f"
            },
            "error_y": {
             "color": "#2a3f5f"
            },
            "marker": {
             "line": {
              "color": "white",
              "width": 0.5
             }
            },
            "type": "bar"
           }
          ],
          "barpolar": [
           {
            "marker": {
             "line": {
              "color": "white",
              "width": 0.5
             }
            },
            "type": "barpolar"
           }
          ],
          "carpet": [
           {
            "aaxis": {
             "endlinecolor": "#2a3f5f",
             "gridcolor": "#C8D4E3",
             "linecolor": "#C8D4E3",
             "minorgridcolor": "#C8D4E3",
             "startlinecolor": "#2a3f5f"
            },
            "baxis": {
             "endlinecolor": "#2a3f5f",
             "gridcolor": "#C8D4E3",
             "linecolor": "#C8D4E3",
             "minorgridcolor": "#C8D4E3",
             "startlinecolor": "#2a3f5f"
            },
            "type": "carpet"
           }
          ],
          "choropleth": [
           {
            "colorbar": {
             "outlinewidth": 0,
             "ticks": ""
            },
            "type": "choropleth"
           }
          ],
          "contour": [
           {
            "colorbar": {
             "outlinewidth": 0,
             "ticks": ""
            },
            "colorscale": [
             [
              0,
              "#0d0887"
             ],
             [
              0.1111111111111111,
              "#46039f"
             ],
             [
              0.2222222222222222,
              "#7201a8"
             ],
             [
              0.3333333333333333,
              "#9c179e"
             ],
             [
              0.4444444444444444,
              "#bd3786"
             ],
             [
              0.5555555555555556,
              "#d8576b"
             ],
             [
              0.6666666666666666,
              "#ed7953"
             ],
             [
              0.7777777777777778,
              "#fb9f3a"
             ],
             [
              0.8888888888888888,
              "#fdca26"
             ],
             [
              1,
              "#f0f921"
             ]
            ],
            "type": "contour"
           }
          ],
          "contourcarpet": [
           {
            "colorbar": {
             "outlinewidth": 0,
             "ticks": ""
            },
            "type": "contourcarpet"
           }
          ],
          "heatmap": [
           {
            "colorbar": {
             "outlinewidth": 0,
             "ticks": ""
            },
            "colorscale": [
             [
              0,
              "#0d0887"
             ],
             [
              0.1111111111111111,
              "#46039f"
             ],
             [
              0.2222222222222222,
              "#7201a8"
             ],
             [
              0.3333333333333333,
              "#9c179e"
             ],
             [
              0.4444444444444444,
              "#bd3786"
             ],
             [
              0.5555555555555556,
              "#d8576b"
             ],
             [
              0.6666666666666666,
              "#ed7953"
             ],
             [
              0.7777777777777778,
              "#fb9f3a"
             ],
             [
              0.8888888888888888,
              "#fdca26"
             ],
             [
              1,
              "#f0f921"
             ]
            ],
            "type": "heatmap"
           }
          ],
          "heatmapgl": [
           {
            "colorbar": {
             "outlinewidth": 0,
             "ticks": ""
            },
            "colorscale": [
             [
              0,
              "#0d0887"
             ],
             [
              0.1111111111111111,
              "#46039f"
             ],
             [
              0.2222222222222222,
              "#7201a8"
             ],
             [
              0.3333333333333333,
              "#9c179e"
             ],
             [
              0.4444444444444444,
              "#bd3786"
             ],
             [
              0.5555555555555556,
              "#d8576b"
             ],
             [
              0.6666666666666666,
              "#ed7953"
             ],
             [
              0.7777777777777778,
              "#fb9f3a"
             ],
             [
              0.8888888888888888,
              "#fdca26"
             ],
             [
              1,
              "#f0f921"
             ]
            ],
            "type": "heatmapgl"
           }
          ],
          "histogram": [
           {
            "marker": {
             "colorbar": {
              "outlinewidth": 0,
              "ticks": ""
             }
            },
            "type": "histogram"
           }
          ],
          "histogram2d": [
           {
            "colorbar": {
             "outlinewidth": 0,
             "ticks": ""
            },
            "colorscale": [
             [
              0,
              "#0d0887"
             ],
             [
              0.1111111111111111,
              "#46039f"
             ],
             [
              0.2222222222222222,
              "#7201a8"
             ],
             [
              0.3333333333333333,
              "#9c179e"
             ],
             [
              0.4444444444444444,
              "#bd3786"
             ],
             [
              0.5555555555555556,
              "#d8576b"
             ],
             [
              0.6666666666666666,
              "#ed7953"
             ],
             [
              0.7777777777777778,
              "#fb9f3a"
             ],
             [
              0.8888888888888888,
              "#fdca26"
             ],
             [
              1,
              "#f0f921"
             ]
            ],
            "type": "histogram2d"
           }
          ],
          "histogram2dcontour": [
           {
            "colorbar": {
             "outlinewidth": 0,
             "ticks": ""
            },
            "colorscale": [
             [
              0,
              "#0d0887"
             ],
             [
              0.1111111111111111,
              "#46039f"
             ],
             [
              0.2222222222222222,
              "#7201a8"
             ],
             [
              0.3333333333333333,
              "#9c179e"
             ],
             [
              0.4444444444444444,
              "#bd3786"
             ],
             [
              0.5555555555555556,
              "#d8576b"
             ],
             [
              0.6666666666666666,
              "#ed7953"
             ],
             [
              0.7777777777777778,
              "#fb9f3a"
             ],
             [
              0.8888888888888888,
              "#fdca26"
             ],
             [
              1,
              "#f0f921"
             ]
            ],
            "type": "histogram2dcontour"
           }
          ],
          "mesh3d": [
           {
            "colorbar": {
             "outlinewidth": 0,
             "ticks": ""
            },
            "type": "mesh3d"
           }
          ],
          "parcoords": [
           {
            "line": {
             "colorbar": {
              "outlinewidth": 0,
              "ticks": ""
             }
            },
            "type": "parcoords"
           }
          ],
          "pie": [
           {
            "automargin": true,
            "type": "pie"
           }
          ],
          "scatter": [
           {
            "marker": {
             "colorbar": {
              "outlinewidth": 0,
              "ticks": ""
             }
            },
            "type": "scatter"
           }
          ],
          "scatter3d": [
           {
            "line": {
             "colorbar": {
              "outlinewidth": 0,
              "ticks": ""
             }
            },
            "marker": {
             "colorbar": {
              "outlinewidth": 0,
              "ticks": ""
             }
            },
            "type": "scatter3d"
           }
          ],
          "scattercarpet": [
           {
            "marker": {
             "colorbar": {
              "outlinewidth": 0,
              "ticks": ""
             }
            },
            "type": "scattercarpet"
           }
          ],
          "scattergeo": [
           {
            "marker": {
             "colorbar": {
              "outlinewidth": 0,
              "ticks": ""
             }
            },
            "type": "scattergeo"
           }
          ],
          "scattergl": [
           {
            "marker": {
             "colorbar": {
              "outlinewidth": 0,
              "ticks": ""
             }
            },
            "type": "scattergl"
           }
          ],
          "scattermapbox": [
           {
            "marker": {
             "colorbar": {
              "outlinewidth": 0,
              "ticks": ""
             }
            },
            "type": "scattermapbox"
           }
          ],
          "scatterpolar": [
           {
            "marker": {
             "colorbar": {
              "outlinewidth": 0,
              "ticks": ""
             }
            },
            "type": "scatterpolar"
           }
          ],
          "scatterpolargl": [
           {
            "marker": {
             "colorbar": {
              "outlinewidth": 0,
              "ticks": ""
             }
            },
            "type": "scatterpolargl"
           }
          ],
          "scatterternary": [
           {
            "marker": {
             "colorbar": {
              "outlinewidth": 0,
              "ticks": ""
             }
            },
            "type": "scatterternary"
           }
          ],
          "surface": [
           {
            "colorbar": {
             "outlinewidth": 0,
             "ticks": ""
            },
            "colorscale": [
             [
              0,
              "#0d0887"
             ],
             [
              0.1111111111111111,
              "#46039f"
             ],
             [
              0.2222222222222222,
              "#7201a8"
             ],
             [
              0.3333333333333333,
              "#9c179e"
             ],
             [
              0.4444444444444444,
              "#bd3786"
             ],
             [
              0.5555555555555556,
              "#d8576b"
             ],
             [
              0.6666666666666666,
              "#ed7953"
             ],
             [
              0.7777777777777778,
              "#fb9f3a"
             ],
             [
              0.8888888888888888,
              "#fdca26"
             ],
             [
              1,
              "#f0f921"
             ]
            ],
            "type": "surface"
           }
          ],
          "table": [
           {
            "cells": {
             "fill": {
              "color": "#EBF0F8"
             },
             "line": {
              "color": "white"
             }
            },
            "header": {
             "fill": {
              "color": "#C8D4E3"
             },
             "line": {
              "color": "white"
             }
            },
            "type": "table"
           }
          ]
         },
         "layout": {
          "annotationdefaults": {
           "arrowcolor": "#2a3f5f",
           "arrowhead": 0,
           "arrowwidth": 1
          },
          "coloraxis": {
           "colorbar": {
            "outlinewidth": 0,
            "ticks": ""
           }
          },
          "colorscale": {
           "diverging": [
            [
             0,
             "#8e0152"
            ],
            [
             0.1,
             "#c51b7d"
            ],
            [
             0.2,
             "#de77ae"
            ],
            [
             0.3,
             "#f1b6da"
            ],
            [
             0.4,
             "#fde0ef"
            ],
            [
             0.5,
             "#f7f7f7"
            ],
            [
             0.6,
             "#e6f5d0"
            ],
            [
             0.7,
             "#b8e186"
            ],
            [
             0.8,
             "#7fbc41"
            ],
            [
             0.9,
             "#4d9221"
            ],
            [
             1,
             "#276419"
            ]
           ],
           "sequential": [
            [
             0,
             "#0d0887"
            ],
            [
             0.1111111111111111,
             "#46039f"
            ],
            [
             0.2222222222222222,
             "#7201a8"
            ],
            [
             0.3333333333333333,
             "#9c179e"
            ],
            [
             0.4444444444444444,
             "#bd3786"
            ],
            [
             0.5555555555555556,
             "#d8576b"
            ],
            [
             0.6666666666666666,
             "#ed7953"
            ],
            [
             0.7777777777777778,
             "#fb9f3a"
            ],
            [
             0.8888888888888888,
             "#fdca26"
            ],
            [
             1,
             "#f0f921"
            ]
           ],
           "sequentialminus": [
            [
             0,
             "#0d0887"
            ],
            [
             0.1111111111111111,
             "#46039f"
            ],
            [
             0.2222222222222222,
             "#7201a8"
            ],
            [
             0.3333333333333333,
             "#9c179e"
            ],
            [
             0.4444444444444444,
             "#bd3786"
            ],
            [
             0.5555555555555556,
             "#d8576b"
            ],
            [
             0.6666666666666666,
             "#ed7953"
            ],
            [
             0.7777777777777778,
             "#fb9f3a"
            ],
            [
             0.8888888888888888,
             "#fdca26"
            ],
            [
             1,
             "#f0f921"
            ]
           ]
          },
          "colorway": [
           "#636efa",
           "#EF553B",
           "#00cc96",
           "#ab63fa",
           "#FFA15A",
           "#19d3f3",
           "#FF6692",
           "#B6E880",
           "#FF97FF",
           "#FECB52"
          ],
          "font": {
           "color": "#2a3f5f"
          },
          "geo": {
           "bgcolor": "white",
           "lakecolor": "white",
           "landcolor": "white",
           "showlakes": true,
           "showland": true,
           "subunitcolor": "#C8D4E3"
          },
          "hoverlabel": {
           "align": "left"
          },
          "hovermode": "closest",
          "mapbox": {
           "style": "light"
          },
          "paper_bgcolor": "white",
          "plot_bgcolor": "white",
          "polar": {
           "angularaxis": {
            "gridcolor": "#EBF0F8",
            "linecolor": "#EBF0F8",
            "ticks": ""
           },
           "bgcolor": "white",
           "radialaxis": {
            "gridcolor": "#EBF0F8",
            "linecolor": "#EBF0F8",
            "ticks": ""
           }
          },
          "scene": {
           "xaxis": {
            "backgroundcolor": "white",
            "gridcolor": "#DFE8F3",
            "gridwidth": 2,
            "linecolor": "#EBF0F8",
            "showbackground": true,
            "ticks": "",
            "zerolinecolor": "#EBF0F8"
           },
           "yaxis": {
            "backgroundcolor": "white",
            "gridcolor": "#DFE8F3",
            "gridwidth": 2,
            "linecolor": "#EBF0F8",
            "showbackground": true,
            "ticks": "",
            "zerolinecolor": "#EBF0F8"
           },
           "zaxis": {
            "backgroundcolor": "white",
            "gridcolor": "#DFE8F3",
            "gridwidth": 2,
            "linecolor": "#EBF0F8",
            "showbackground": true,
            "ticks": "",
            "zerolinecolor": "#EBF0F8"
           }
          },
          "shapedefaults": {
           "line": {
            "color": "#2a3f5f"
           }
          },
          "ternary": {
           "aaxis": {
            "gridcolor": "#DFE8F3",
            "linecolor": "#A2B1C6",
            "ticks": ""
           },
           "baxis": {
            "gridcolor": "#DFE8F3",
            "linecolor": "#A2B1C6",
            "ticks": ""
           },
           "bgcolor": "white",
           "caxis": {
            "gridcolor": "#DFE8F3",
            "linecolor": "#A2B1C6",
            "ticks": ""
           }
          },
          "title": {
           "x": 0.05
          },
          "xaxis": {
           "automargin": true,
           "gridcolor": "#EBF0F8",
           "linecolor": "#EBF0F8",
           "ticks": "",
           "title": {
            "standoff": 15
           },
           "zerolinecolor": "#EBF0F8",
           "zerolinewidth": 2
          },
          "yaxis": {
           "automargin": true,
           "gridcolor": "#EBF0F8",
           "linecolor": "#EBF0F8",
           "ticks": "",
           "title": {
            "standoff": 15
           },
           "zerolinecolor": "#EBF0F8",
           "zerolinewidth": 2
          }
         }
        },
        "width": 1000
       }
      },
      "text/html": [
       "<div>\n",
       "        \n",
       "        \n",
       "            <div id=\"db6b7bbb-09f9-4102-82c4-4174373520ea\" class=\"plotly-graph-div\" style=\"height:1000px; width:1000px;\"></div>\n",
       "            <script type=\"text/javascript\">\n",
       "                require([\"plotly\"], function(Plotly) {\n",
       "                    window.PLOTLYENV=window.PLOTLYENV || {};\n",
       "                    \n",
       "                if (document.getElementById(\"db6b7bbb-09f9-4102-82c4-4174373520ea\")) {\n",
       "                    Plotly.newPlot(\n",
       "                        'db6b7bbb-09f9-4102-82c4-4174373520ea',\n",
       "                        [{\"customdata\": [[274, \"\", \"\"], [122, \"\", \"\"], [123, \"\", \"\"], [124, \"\", \"\"], [213, \"\", \"\"], [126, \"\", \"\"], [127, \"\", \"\"], [128, \"\", \"\"], [129, \"\", \"\"], [130, \"\", \"\"], [212, \"\", \"\"], [132, \"\", \"\"], [133, \"\", \"\"], [211, \"\", \"\"], [210, \"\", \"\"], [209, \"\", \"\"], [273, \"\", \"\"], [208, \"\", \"\"], [139, \"\", \"\"], [207, \"\", \"\"], [121, \"\", \"\"], [120, \"\", \"\"], [214, \"\", \"\"], [118, \"\", \"\"], [192, \"\", \"\"], [222, \"\", \"\"], [98, \"\", \"\"], [99, \"\", \"\"], [100, \"\", \"\"], [101, \"\", \"\"], [102, \"\", \"\"], [104, \"\", \"\"], [105, \"\", \"\"], [141, \"\", \"\"], [220, \"\", \"\"], [108, \"\", \"\"], [109, \"\", \"\"], [219, \"\", \"\"], [111, \"\", \"\"], [218, \"\", \"\"], [113, \"\", \"\"], [217, \"\", \"\"], [216, \"\", \"\"], [116, \"\", \"\"], [107, \"\", \"\"], [95, \"\", \"\"], [142, \"\", \"\"], [144, \"\", \"\"], [172, \"\", \"\"], [174, \"\", \"\"], [175, \"\", \"\"], [196, \"\", \"\"], [177, \"\", \"\"], [178, \"\", \"\"], [179, \"\", \"\"], [180, \"\", \"\"], [181, \"\", \"\"], [182, \"\", \"\"], [183, \"\", \"\"], [184, \"\", \"\"], [185, \"\", \"\"], [186, \"\", \"\"], [195, \"\", \"\"], [188, \"\", \"\"], [189, \"\", \"\"], [190, \"\", \"\"], [191, \"\", \"\"], [198, \"\", \"\"], [170, \"\", \"\"], [169, \"\", \"\"], [168, \"\", \"\"], [145, \"\", \"\"], [146, \"\", \"\"], [147, \"\", \"\"], [148, \"\", \"\"], [206, \"\", \"\"], [205, \"\", \"\"], [204, \"\", \"\"], [152, \"\", \"\"], [154, \"\", \"\"], [143, \"\", \"\"], [156, \"\", \"\"], [158, \"\", \"\"], [159, \"\", \"\"], [161, \"\", \"\"], [162, \"\", \"\"], [200, \"\", \"\"], [164, \"\", \"\"], [199, \"\", \"\"], [166, \"\", \"\"], [167, \"\", \"\"], [157, \"\", \"\"], [224, \"\", \"\"], [223, \"\", \"\"], [92, \"\", \"\"], [28, \"\", \"\"], [251, \"\", \"\"], [30, \"\", \"\"], [33, \"\", \"\"], [34, \"\", \"\"], [35, \"\", \"\"], [248, \"\", \"\"], [247, \"\", \"\"], [252, \"\", \"\"], [38, \"\", \"\"], [246, \"\", \"\"], [245, \"\", \"\"], [42, \"\", \"\"], [43, \"\", \"\"], [44, \"\", \"\"], [225, \"\", \"\"], [244, \"\", \"\"], [242, \"\", \"\"], [39, \"\", \"\"], [253, \"\", \"\"], [254, \"\", \"\"], [24, \"\", \"\"], [272, \"\", \"\"], [271, \"\", \"\"], [270, \"\", \"\"], [5, \"\", \"\"], [268, \"\", \"\"], [267, \"\", \"\"], [265, \"\", \"\"], [263, \"\", \"\"], [262, \"\", \"\"], [13, \"\", \"\"], [14, \"\", \"\"], [260, \"\", \"\"], [259, \"\", \"\"], [258, \"\", \"\"], [257, \"\", \"\"], [256, \"\", \"\"], [21, \"\", \"\"], [255, \"\", \"\"], [23, \"\", \"\"], [241, \"\", \"\"], [50, \"\", \"\"], [45, \"\", \"\"], [52, \"\", \"\"], [71, \"\", \"\"], [51, \"\", \"\"], [73, \"\", \"\"], [75, \"\", \"\"], [76, \"\", \"\"], [231, \"\", \"\"], [78, \"\", \"\"], [79, \"\", \"\"], [80, \"\", \"\"], [81, \"\", \"\"], [230, \"\", \"\"], [83, \"\", \"\"], [84, \"\", \"\"], [85, \"\", \"\"], [229, \"\", \"\"], [228, \"\", \"\"], [88, \"\", \"\"], [226, \"\", \"\"], [91, \"\", \"\"], [233, \"\", \"\"], [234, \"\", \"\"], [72, \"\", \"\"], [194, \"\", \"\"], [237, \"\", \"\"], [60, \"\", \"\"], [68, \"\", \"\"], [61, \"\", \"\"], [236, \"\", \"\"], [63, \"\", \"\"], [56, \"\", \"\"], [239, \"\", \"\"], [240, \"\", \"\"], [54, \"\", \"\"], [66, \"\", \"\"], [67, \"\", \"\"], [53, \"\", \"\"], [65, \"\", \"\"], [238, \"\", \"\"], [266, \"VSEFKNNFDGCL\", \"cytoadherence_linked_asexual_protein_3.1_\"], [269, \"DDYSKRNRS\", \"Merozoite_surface_protein_1_precursor\"], [227, \"YNLNSGYNQNNG\", \"merozoite_surface_protein_8\"], [243, \"KCDDRIFKKRNY\", \"erythrocyte_binding_antigen-165_\"], [201, \"NKMDNKY\", \"erythrocyte_membrane_protein_1\"], [221, \"AGYSDSDYDDEY\", \"Circumsporozoite\"], [197, \"QVPVSGSPL\", \"merozoite_surface_protein_1\"], [235, \"SKSQPQHPK\", \"merozoite_surface_protein_10_\"], [203, \"TADLNAEKTTDL\", \"cytoadherence_linked_asexual_protein_3.1_\"], [202, \"PQGSTGA\", \"serine_repeat_antigen_5\"], [232, \"GGCGDKKIC\", \"merozoite_surface_protein_4_\"], [249, \"SDKINDYDN\", \"PfEMP1\"], [215, \"TPPAPQGESGLK\", \"MSP7-like_protein_\"], [250, \"NGLRNDAGRGNJ\", \"erythrocyte_binding_antigen-181_\"], [264, \"KKSNTKYNI\", \"petidase\"], [261, \"GTGQHGHMHGSR\", \"merozoite_surface_protein_2\"], [0, \"VIPEELVEEVIP,EVVEEVVPE\", \"11-1_polypeptide\"], [187, \"GEHLYDIDG\", \"erythrocyte_membrane_protein_1\"], [86, \"KEINKTDSE\", \"hypothetical_protein_PF07_0086\"], [82, \"YKFLSMKH\", \"merozoite_surface_protein_10_\"], [77, \"RRAKEKLQEQQS\", \"liver_stage_antigen_1_\"], [74, \"EDSAQDTZNSLD\", \"erythrocyte_binding_antigen-181_\"], [70, \"DEGKTTDEGKTT\", \"mature_parasite-infected_erythrocyte_surface_antigen_\"], [193, \"TYDEKVKKN\", \"Liver_stage_antigen\"], [64, \"YKLGNNKKSYLI,NDVHKKKADDGN\", \"merozoite_surface_protein_10_\"], [62, \"ETGESKETGESK\", \"mature_parasite-infected_erythrocyte_surface_antigen_\"], [59, \"NEVKSEVKNEVK\", \"CelTOS\"], [58, \"VNNNBNMDNIYN\", \"duffy_binding-like_merozoite_surface_protein_\"], [55, \"ATKEASTSK\", \"Knob-associated_histidine-rich_protein_precursor\"], [48, \"YYDTNDDDV\", \"acidic_basic_repeat_antigen_\"], [47, \"SDGDKGP\", \"endoplasmin\"], [87, \"LSDDVRPDKNH\", \"erythrocyte_binding_antigen-175_\"], [46, \"KEKEEVKEKEEV,NKDKVIEQE\", \"mature_parasite-infected_erythrocyte_surface_antigen_\"], [37, \"FKRQMFYTLGDY\", \"cytoadherence_linked_asexual_protein_3.2_\"], [36, \"LRDNYASEQEYF\", \"antigen_332\"], [32, \"GSVTEEIVE\", \"antigen_332\"], [29, \"FDFRDSYFCNFP\", \"cytoadherence_linked_asexual_protein_8_\"], [27, \"ELKNKEL\", \"erythrocyte_binding_antigen-181_\"], [26, \"EKNEKNEKSIPN\", \"probable_protein\"], [22, \"NTDTISTDN\", \"sporozoite_threonine_and_asparagine-rich_protein_\"], [19, \"HDHDDFCDC\", \"erythrocyte_binding_antigen-140_\"], [9, \"NIEENIEEN\", \"ring-infested_erythrocyte_surface_antigen\"], [8, \"SSTCECTDINNA\", \"Merozoite_surface_protein_1_precursor\"], [7, \"QQSDLEQERLAK\", \"liver_stage_antigen_1_\"], [6, \"KDKCMKEIQQKF\", \"apical_membrane_antigen-1\"], [3, \"TTQEPVTTQEPV,TTQEPVTTQ,VTTQEPV\", \"Interspersed_repeat_antigen\"], [41, \"HDDLYNSENSTF\", \"erythrocyte_binding_antigen-181_\"], [89, \"FFTNKKKKDMNK\", \"glutamate-rich_protein\"], [137, \"GSFDTIFDGFVN\", \"merozoite_surface_protein_\"], [93, \"TNPCQLEYQWHT\", \"erythrocyte_membrane_protein_1\"], [160, \"AATCGPNDGDCF\", \"sporozoite_surface_protein_2\"], [155, \"NNGNNFNKDNIL\", \"merozoite_surface_protein_1\"], [163, \"YGPNGTYGPNGT\", \"major_surface_antigen_p190\"], [153, \"KLIGDNKLIGDB\", \"erythrocyte_membrane-associated_giant_protein_antigen_332\"], [151, \"DTSSLKKIKGSP\", \"erythrocyte_binding_antigen-175_\"], [150, \"SNDKQSNDI\", \"merozoite_surface_protein_5_\"], [90, \"EPFPNQKHKDLD\", \"glutamate-rich_protein_\"], [149, \"GASAPSGTS\", \"merozoite_surface_protein_1\"], [165, \"HDDEEIYLNKIE\", \"Circumsporozoite\"], [138, \"LNKDISNKDYKY\", \"apical_membrane_antigen_1\"], [171, \"YRSKYCQPCPDC\", \"erythrocyte_membrane_protein_1\"], [136, \"NYIEPSYKIYTS\", \"Merozoite_surface_protein_1_precursor\"], [135, \"REYQLDNEGPDT\", \"MSP7-like_protein_\"], [131, \"LDRHRDMCEKW\", \"erythrocyte_membrane_protein_1_(PfEMP1)\"], [134, \"KDKVLGEGDKED\", \"mature_parasite-infected_erythrocyte_surface_antigen_\"], [110, \"PPTQDAETKSPT\", \"merozoite_surface_protein_2_\"], [125, \"RTLNKEYEDGEL\", \"erythrocyte_binding_protein\"], [94, \"NIKGEDNIKNKG\", \"cytoadherence_linked_asexual_protein_9_\"], [176, \"GTAESKDSTGAS\", \"Merozoite_surface_antigen_2_precursor\"], [117, \"SPRIFJSDBKDE\", \"apical_membrane_antigen-1\"], [115, \"AGPQDPADDVTP\", \"exported_protein_1_\"], [114, \"CKCRPNYDCBIS\", \"merozoite_surface_protein_10_\"], [173, \"EKRNGFDLBDDT\", \"sporozoite_surface_protein_2\"], [106, \"QKQKQEE\", \"erythrocyte_binding_antigen-181_\"], [103, \"MNGENIMNGDNK\", \"cytoadherence_linked_asexual_protein_3.1_\"], [97, \"DNIEVNNTL\", \"protein_kinase\"], [96, \"NDTTHNSYTNKK\", \"erythrocyte_membrane_protein_1\"], [10, \"RNQNVNDRRNFD,CGLEKGGPPWTP\", \"cytoadherence_linked_asexual_protein_3.1_,erythrocyte_membrane_protein_1\"], [12, \"NNEYYKEFYKKL,DYKTVDKFLNLL\", \"major_merozoite_surface_antigen,glutamate-rich_protein_\"], [4, \"GQQNTGLKNTPS,LNKDIRNKDLKN\", \"high_molecular_weight_rhoptry_protein_3_,erythrocyte_binding_antigen-175_\"], [2, \"YKZLKEVVEENG,YEQLKDVVEKNG\", \"liver_stage-specific_antigen_1,Liver_stage_antigen\"], [15, \"NDTEVKDKVKKQ,VEEGIKE\", \"mature_parasite-infected_erythrocyte_surface_antigen_,mature_parasite-infected_erythrocyte_surface_antigen_\"], [31, \"NADNKED,FHKILTNTD\", \"MSP7-like_protein_,Glycophorin-binding_protein\"], [17, \"RPQFLRWFTEWG,DEFCRERKKKE\", \"erythrocyte_binding_antigen-140_,PfEMP1\"], [25, \"FSDGSAFGGGLP,GLSVTNS\", \"erythrocyte_membrane_protein,duffy_binding-like_merozoite_surface_protein_\"], [140, \"HDIYDIDTF,DMCKKCDEIKYL\", \"erythrocyte_binding_antigen-140_,erythrocyte_binding_antigen-140_\"], [40, \"SNGREDKVSNGG,DEVSNGRED\", \"S-antigen_,S-antigen_\"], [49, \"INNMYVKEFYEK,CWDKCDPFEQW\", \"merozoite_surface_protein_8,erythrocyte_binding_antigen-175_\"], [57, \"EFYKKLKEKTYN,NSINNIYY\", \"cytoadherence_linked_asexual_protein_3.2_,cytoadherence_linked_asexual_protein_8_\"], [119, \"MSIHDGMKGQKY,QNKNYKHLTDEE\", \"erythrocyte_binding_antigen-165_,conserved_Plasmodium_protein\"], [112, \"FIQEDQEGQTHS,NVPSGLDIDDIP\", \"glutamate-rich_protein_,glutamate-rich_protein_\"], [69, \"PQYLRWFEEWAE,VPTYFDY\", \"erythrocyte_membrane_protein_1_var_IT-ICAM,EMP1\"], [11, \"QHEIVEVEEILP,EDKNEKV,HTEQLDLDHKTV\", \"glutamate-rich_protein,glutamate-rich_protein_,glutamate-rich_protein_\"], [18, \"PNANPNANPNAN,PNANPNA,RKPKHKKLKQPG,QGNGQGHNM\", \"Circumsporozoite_protein_precursor,Circumsporozoite_protein_precursor,Circumsporozoite_protein_precursor,Circumsporozoite_protein_precursor\"], [20, \"EEEDEEDIEEEN,QQSEKKSISKVD,EKELSNQ,ETNDTEDTD,DIIKHNEDVR\", \"mature_parasite-infected_erythrocyte_surface_antigen_,duffy_binding-like_merozoite_surface_protein_,duffy_binding-like_merozoite_surface_protein_,duffy_binding-like_merozoite_surface_protein_\"], [1, \"GYSGIDJIBDVL,VAKLTNSDP,RKENELF,WLDRHRD\", \"RAP_protein,Glycophorin-binding_protein,PfEMP1_variant_1_of_strain_MC,erythrocyte_membrane_protein_1_(PfEMP1)\"], [16, \"EGGACANSKIKG,MCDLNLEHJ,DVHNTQNTHDLL,AFHSNTPGNQR\", \"antigen_332,PfEMP1,erythrocyte_membrane_protein_1,high_molecular_weight_rhoptry_protein_3_\"]], \"hovertemplate\": \"<b>Clique Number</b> : %{customdata[0]}<br><b>Membership</b> : %{marker.size}<br><b>Motifs</b> : %{customdata[1]}</b><br><extra><b>Known Epitopes</b> : %{customdata[2]}<br></extra>\", \"marker\": {\"color\": [0, 0, 0, 0, 0, 0, 0, 0, 0, 0, 0, 0, 0, 0, 0, 0, 0, 0, 0, 0, 0, 0, 0, 0, 0, 0, 0, 0, 0, 0, 0, 0, 0, 0, 0, 0, 0, 0, 0, 0, 0, 0, 0, 0, 0, 0, 0, 0, 0, 0, 0, 0, 0, 0, 0, 0, 0, 0, 0, 0, 0, 0, 0, 0, 0, 0, 0, 0, 0, 0, 0, 0, 0, 0, 0, 0, 0, 0, 0, 0, 0, 0, 0, 0, 0, 0, 0, 0, 0, 0, 0, 0, 0, 0, 0, 0, 0, 0, 0, 0, 0, 0, 0, 0, 0, 0, 0, 0, 0, 0, 0, 0, 0, 0, 0, 0, 0, 0, 0, 0, 0, 0, 0, 0, 0, 0, 0, 0, 0, 0, 0, 0, 0, 0, 0, 0, 0, 0, 0, 0, 0, 0, 0, 0, 0, 0, 0, 0, 0, 0, 0, 0, 0, 0, 0, 0, 0, 0, 0, 0, 0, 0, 0, 0, 0, 0, 0, 0, 0, 0, 0, 0, 0, 0, 0, 0, 0, 0, 1, 1, 1, 1, 1, 1, 1, 1, 1, 1, 1, 1, 1, 1, 1, 1, 1, 1, 1, 1, 1, 1, 1, 1, 1, 1, 1, 1, 1, 1, 1, 1, 1, 1, 1, 1, 1, 1, 1, 1, 1, 1, 1, 1, 1, 1, 1, 1, 1, 1, 1, 1, 1, 1, 1, 1, 1, 1, 1, 1, 1, 1, 1, 1, 1, 1, 1, 1, 1, 1, 1, 1, 1, 1, 1, 1, 1, 2, 2, 2, 2, 2, 2, 2, 2, 2, 2, 2, 2, 2, 2, 2, 3, 4, 4, 4, 4], \"colorbar\": {\"title\": {\"text\": \"known motifs\"}}, \"colorscale\": [[0.0, \"#f5d60f\"], [1.0, \"#C70039\"]], \"size\": [2, 4, 4, 4, 2, 4, 4, 4, 4, 4, 2, 4, 3, 2, 2, 2, 2, 2, 3, 2, 4, 4, 2, 4, 2, 2, 5, 5, 5, 5, 5, 4, 4, 3, 2, 4, 4, 2, 4, 2, 4, 2, 2, 4, 4, 5, 3, 3, 3, 3, 3, 2, 3, 3, 3, 3, 2, 2, 2, 2, 2, 2, 2, 2, 2, 2, 2, 2, 3, 3, 3, 3, 3, 3, 3, 2, 2, 2, 3, 3, 3, 3, 3, 3, 3, 3, 2, 3, 2, 3, 3, 3, 2, 2, 5, 16, 2, 15, 12, 12, 12, 2, 2, 2, 12, 2, 2, 11, 11, 11, 2, 2, 2, 11, 2, 2, 17, 2, 2, 2, 43, 2, 2, 2, 2, 2, 25, 24, 2, 2, 2, 2, 2, 18, 2, 17, 2, 9, 11, 9, 7, 9, 7, 7, 7, 2, 6, 6, 6, 6, 2, 6, 6, 6, 2, 2, 5, 2, 5, 2, 2, 7, 2, 2, 8, 7, 8, 2, 8, 8, 2, 2, 9, 7, 7, 9, 7, 2, 2, 2, 2, 2, 2, 2, 2, 2, 2, 2, 2, 2, 2, 2, 2, 2, 442, 2, 5, 6, 6, 7, 7, 2, 8, 8, 8, 8, 8, 10, 10, 5, 10, 12, 12, 13, 16, 16, 16, 17, 21, 29, 35, 37, 40, 66, 11, 5, 3, 5, 3, 3, 3, 3, 3, 3, 5, 3, 3, 3, 3, 3, 3, 4, 3, 4, 4, 5, 3, 4, 4, 4, 3, 4, 5, 5, 5, 27, 26, 57, 83, 24, 14, 22, 16, 3, 11, 10, 8, 4, 4, 7, 27, 22, 20, 120, 23], \"sizemin\": 3, \"sizemode\": \"area\", \"sizeref\": 0.25, \"symbol\": [100, 100, 100, 100, 100, 100, 100, 100, 100, 100, 100, 100, 100, 100, 100, 100, 100, 100, 100, 100, 100, 100, 100, 100, 100, 100, 100, 100, 100, 100, 100, 100, 100, 100, 100, 100, 100, 100, 100, 100, 100, 100, 100, 100, 100, 100, 100, 100, 100, 100, 100, 100, 100, 100, 100, 100, 100, 100, 100, 100, 100, 100, 100, 100, 100, 100, 100, 100, 100, 100, 100, 100, 100, 100, 100, 100, 100, 100, 100, 100, 100, 100, 100, 100, 100, 100, 100, 100, 100, 100, 100, 100, 100, 100, 100, 100, 100, 100, 100, 100, 100, 100, 100, 100, 100, 100, 100, 100, 100, 100, 100, 100, 100, 100, 100, 100, 100, 100, 100, 100, 100, 100, 100, 100, 100, 100, 100, 100, 100, 100, 100, 100, 100, 100, 100, 100, 100, 100, 100, 100, 100, 100, 100, 100, 100, 100, 100, 100, 100, 100, 100, 100, 100, 100, 100, 100, 100, 100, 100, 100, 100, 100, 100, 100, 100, 100, 100, 100, 100, 100, 100, 100, 100, 100, 100, 100, 100, 100, 0, 0, 0, 0, 0, 0, 0, 0, 0, 0, 0, 0, 0, 0, 0, 0, 0, 0, 0, 0, 0, 0, 0, 0, 0, 0, 0, 0, 0, 0, 0, 0, 0, 0, 0, 0, 0, 0, 0, 0, 0, 0, 0, 0, 0, 0, 0, 0, 0, 0, 0, 0, 0, 0, 0, 0, 0, 0, 0, 0, 0, 0, 0, 0, 0, 0, 0, 0, 0, 0, 0, 0, 0, 0, 0, 0, 0, 0, 0, 0, 0, 0, 0, 0, 0, 0, 0, 0, 0, 0, 0, 0, 0, 0, 0, 0, 0]}, \"mode\": \"markers\", \"type\": \"scatter\", \"x\": [0.08741186186671257, 0.8100695908069611, -0.7325291484594345, 0.24476170912384987, -0.7456682026386261, -0.23536089807748795, 0.6344028115272522, 0.7073276937007904, 0.2402430884540081, 0.03199549112468958, -0.2950160950422287, -0.416610985994339, -0.828447957833608, 0.36117076873779297, 0.7616588473320007, -0.2105705887079239, -0.500730499625206, 0.9307701289653778, 0.6318347056706747, -0.8717817962169647, -0.7095675617456436, 0.634680300951004, -0.28142350912094116, 0.4639918580651283, 0.4699707627296448, 0.5373697876930237, -0.06010209769010544, 0.5316519260406494, 0.33465894460678103, -0.7890691637992859, 0.5765735626220703, -0.7624323815107346, -0.16452741250395775, -0.8024386763572693, 0.20047051459550858, -0.7285996824502945, 0.46708931773900986, -0.6150411367416382, -0.7974357455968857, 0.5508686006069183, 0.9116086363792419, 0.2615208476781845, 0.4159700572490692, 0.5859400033950806, 0.1170795951038599, 0.07623241692781449, -0.3332040309906006, -0.8162234425544739, -0.2423804054657618, 0.2269207884867986, -0.8299218813578287, 0.5023595690727234, 0.8250914414723715, -0.6391573349634806, -0.461915264527003, 0.2970402141412099, -0.8721057176589966, 0.05877603590488434, 0.2691158503293991, 0.9098321199417114, 0.8894278705120087, -0.16932766884565353, -0.5620416700839996, -0.5515527725219727, 0.4676477313041687, 0.3714127540588379, 0.6262489557266235, 0.5624980628490448, -0.694759468237559, -0.3003203173478444, 0.2621610263983409, 0.2968331774075826, 0.8705007632573446, -0.06348925456404686, -0.19840864837169647, -0.5165800452232361, 0.8694146573543549, 0.7559301555156708, 0.7866345445315043, 0.7487306793530782, -0.4577912191549937, 0.5398016571998596, 0.6613522370656332, 0.4888985753059387, 0.8708277146021525, 0.7658725380897522, 0.6188056766986847, -0.7336740096410116, 0.7447687983512878, 0.8088749249776205, -0.48909587661425274, 0.7820912996927897, -0.7586423754692078, 0.18046917766332626, -0.5883750677108764, 0.43111768178641796, -0.645988792181015, -0.5750285863876343, 0.5982988526423773, -0.03966560525198778, 0.23255180194973946, -0.6876915395259857, 0.37074439227581024, 0.7702845335006714, -0.3061412001649539, -0.6200238764286041, -0.29533228278160095, -0.17783210223371332, 0.7351628704504534, 0.2017715641043403, -0.8404061794281006, -0.5375024080276489, -0.7863399982452393, 0.6550398956645619, -0.7192818820476532, 0.9096475839614868, -0.2187926436171812, 0.8173423707485199, -0.8715997934341431, -0.8048095405101776, 0.18120609119881032, -0.6961060166358948, 0.891304224729538, -0.8520104289054871, -0.5360464453697205, -0.8016707301139832, 0.07976516425609588, 0.24205784065028033, -0.16603629291057587, 0.012270500883460045, 0.2767431288957596, -0.8458283543586731, 0.09663471207022667, 0.005168264505401667, 0.4180283397436142, -0.4042127465500551, 0.7373769283294678, -0.7846255699793497, -0.4001708057793704, -0.5715758403142294, 0.3903074051652636, 0.06136169077621566, -0.19233202508517674, 0.5918283717972892, -0.642238165651049, -0.8581258654594421, -0.47708582878112793, -0.6432021458943685, 0.7378510137399038, 0.6603393952051798, 0.4971752166748047, -0.66072545448939, -0.0510550681501627, -0.7831896245479584, 0.5903081893920898, 0.8315620124340057, -0.7181538343429565, 0.22862257808446884, 0.8547165274620057, -0.05041687376797199, -0.13210876286029816, -0.25246567385537283, -0.7585101127624512, 0.4386874586343765, 0.1448536217212677, -0.6107211198125567, -0.04158807406201959, 0.7430870831012726, 0.48030397668480873, -0.6796426102519035, -0.08361808210611343, -0.6688982546329498, 0.6639356215794882, 0.14884075735296523, -0.68770113161632, -0.5033220019605424, -0.7609620945794242, 0.14003048092126846, 0.8088138401508331, -0.029771416448056698, -0.5245940387248993, -0.36516430974006653, -0.7757576406002045, 0.6119994521141052, -0.8339196443557739, 0.7811398804187775, 0.8345828652381897, -0.19336730986833572, 0.6876272559165955, 0.6508760750293732, -0.11182162910699844, 0.20879388600587845, -0.37875300645828247, 0.8651771247386932, -0.02615169909829063, -0.3756464719772339, 0.8048494100570679, -0.8144155840078989, 0.7159413993358612, -0.6887073857443673, -0.7454547541482108, 0.3804747611284256, 0.007822185521945357, 0.6567748636007309, -0.28789228573441505, 0.3663102760910988, 0.7045884728431702, 0.49084936678409574, 0.40621852278709414, -0.6805130004882812, -0.03305115923285484, -0.7463216086228689, -0.5991819600264231, 0.5667216640252334, 0.5042765699326992, 0.41060037538409233, 0.09840467059984803, -0.03609885932768092, -0.23342823485533395, -0.34268079955002356, 0.2692410818168095, 0.11591760069131851, -0.08154275566339493, -0.006451798264275898, -0.42346167835322296, 0.6871515870094299, 0.5612712899843851, -0.07728644162416458, -0.9616106748580933, 0.06672866145769756, -0.56719042857488, -0.8051658868789673, -0.3647873302300771, -0.24448485672473907, -0.43243529200553893, 0.21537665526072183, -0.7636982798576355, 0.5446706414222717, 0.7720518906911215, -0.047890586157639824, 0.04479858403404554, -0.37384501099586487, 0.6265184084574381, -0.4976905807852745, -0.2502428814768791, -0.4101529777050018, 0.32461197177569073, 0.7718800604343414, -0.6028413772583008, 0.5436108559370041, -0.3164479434490204, -0.8008471131324768, 0.6415163516998291, 0.36697001457214357, -0.6409656763076782, 0.3591803279187944, -0.25988167180464816, 0.10338734286396127, 0.08025895059108734, 0.35105259095629054, 0.6075279755251748, -0.3343664082613858, -0.4259010087698698, -0.7932584285736084, 0.322227957573804, -0.556621640920639, 0.5065722018480301, 0.42236149311065674, 0.25955963134765625, -0.1252342632838658, 0.18190574921943523, 0.25066814910281787, -0.0884264275431633, -0.13976194635033606, -0.3181372064611186], \"y\": [0.8490608632564545, 0.1597374752163887, -0.2607179135084152, 0.712304413318634, -0.5283397734165192, 0.7222279459238052, 0.32522203773260117, -0.40455781668424606, -0.8130281269550323, -0.7945081889629364, -0.7449380159378052, 0.8310341089963913, -0.12845377624034882, -0.9506981372833252, 0.3641768544912338, -0.8838756382465363, -0.8170453608036041, 0.007607927080243826, 0.5708160400390625, 0.1737351194024086, 0.3691842630505562, 0.36278732120990753, -0.8244857788085938, -0.6307114213705063, -0.7157186269760132, -0.6637206971645355, 0.7962396383285523, -0.5190059304237366, -0.6561058759689331, -0.23882408142089845, 0.5131572246551513, -0.3266249820590019, 0.7492632418870926, 0.2362471471230189, -0.7944314479827881, -0.45338519662618637, 0.628034234046936, -0.6763759851455688, 0.36710909754037857, -0.8424915075302124, 0.12957921996712685, 0.9599418342113495, -0.8263508379459381, 0.4645475670695305, 0.8184793591499329, -0.7093389153480529, 0.639624277750651, -0.2800912658373515, -0.8415272037188212, 0.749064028263092, 0.3239057660102844, -0.7018028199672699, 0.31644266843795776, 0.675926943620046, 0.7231362263361613, -0.7309739391009012, 0.1364191174507141, -0.8555690050125122, 0.8299373984336853, 0.0709880143404007, 0.247247576713562, 0.8142891228199005, 0.568591833114624, -0.5466216802597046, 0.7603584229946136, -0.8422617018222809, -0.6187876164913177, 0.7541602551937103, 0.5108335812886556, 0.8635705510775248, 0.6742053429285685, -0.6870562632878622, 0.005355902947485447, 0.8355867067972819, 0.8495489160219828, 0.7029245793819427, 0.20073729008436203, 0.23794417083263397, 0.009002715970079104, -0.5114221572875977, 0.7732784152030945, 0.4614133636156718, -0.6109699408213297, -0.5477128426233927, 0.05441923439502716, 0.09384045004844666, 0.6635446846485138, 0.2768979072570801, 0.44497257471084595, 0.3727760811646779, 0.8632955352465311, -0.022826241950194042, 0.08895860984921455, -0.9636448919773102, 0.5251018404960632, -0.31384641490876675, 0.7352049946784973, 0.20982277592023213, 0.2632452150185903, -0.6109053194522858, 0.5856858293215433, 0.6456752121448517, 0.7275796830654144, 0.31589581072330475, -0.6457125842571259, 0.6506184637546539, 0.7327852845191956, 0.6771037524396722, -0.0450568598779765, -0.6018094312060963, -0.554069310426712, -0.784300297498703, 0.2670016884803772, 0.16908384453166614, -0.3436197340488434, 0.4553980976343155, -0.447954386472702, -0.3128082901239395, 0.02485204767435789, 0.1993967667222023, -0.10080226458782374, -0.6436246931552887, 0.2798299491405487, -0.4132489413022995, 0.5857003927230835, 0.10917572677135468, -0.2972885203361511, -0.3554792255163193, -0.6415109932422638, 0.875875860452652, -0.8448572754859924, -0.3316829204559326, -0.7556141018867493, -0.3680332882536782, -0.6913145184516907, 0.37669433390392976, -0.09060515835881233, 0.056332589437564216, -0.6297660740939054, 0.4586481485101912, 0.5917820164135524, 0.7071573932965597, -0.7133204085486275, 0.3969440077032362, 0.4111344516277313, 0.5732195973396301, 0.565141628185908, -0.4351461281379064, -0.14662755032380423, -0.2657891859610875, 0.7972534894943237, 0.46938001612822217, -0.859913170337677, 0.14872982849677405, -0.6116076111793518, 0.2591441720724106, 0.4532416880130768, 0.8117696344852448, -0.16498131155967713, 0.9910098016262054, -0.8892950713634491, 0.7681993927274432, -0.32574737071990967, 0.8609072864055634, 0.7025825828313828, -0.4153147212096623, 0.7020932734012604, 0.48318029940128326, 0.531848780810833, -0.3460739925503731, 0.8988127112388611, -0.6707325875759125, -0.3514747851424747, -0.7700178878647941, 0.2937735063689096, -0.594460474120246, -0.1793108390910285, -0.8376785814762115, 0.03163507115095854, -0.7895996570587158, 0.8755220472812653, 0.7359733283519745, -0.2835308313369751, -0.5454920828342438, -0.447564497590065, -0.3650553226470947, -0.2113407999277115, 0.9115613996982574, 0.32503172755241394, 0.5238805413246155, 0.6696903109550476, 0.9444856345653534, -0.7112112939357758, 0.08457915112376213, 0.024530763413369384, 0.6081429719924927, 0.10372414588928222, -0.17295454442501068, -0.33973827958106995, 0.03130759724548885, 0.1851942539215088, 0.8160973191261292, -0.7210352346301079, -0.46045122668147087, 0.6705010160803795, 0.6678571477532387, -0.1994694136083126, 0.09913995116949081, -0.6081770062446594, -0.5152043104171753, 0.7573771834373474, -0.08807527149717014, -0.10284117298821609, -0.2762374236033513, -0.10263409931212664, 0.2838506232947111, -0.589042242616415, 0.3896605512675117, -0.34472667887097314, 0.01222865538800071, -0.04243125521710941, -0.2328540582109142, 0.2968160308897495, -0.10992335855509296, -0.5572634014216337, 0.2723546802997589, 0.5546871423721313, 0.8654568076133728, 0.1573909471432368, 0.7845801512400309, 0.7064804037412008, -0.3762867550055186, -0.8642682234446207, 0.9192782839139303, 0.6857637286186218, -0.697797417640686, 0.31534279386202496, -0.6333915193875631, -0.19899280865987143, -0.7477441628774008, 0.8597670197486877, 0.7909888327121735, 0.40958784023920697, 0.5874452143907547, -0.7408706545829773, 0.6070397973060608, 0.7463692426681519, 0.2015015296638012, -0.7516595125198364, 0.673716813325882, -0.8319299419720968, 0.0065271588973701, 0.4416560232639313, -0.7200682640075684, 0.5865991711616516, 0.07750318282180363, -0.19101863984878248, -0.10604065029244673, 0.11961116085210478, -0.2022253517061472, -0.031237879768013954, 0.10529527135870674, -0.3898122198879719, -0.04763321081797282, 0.605866405096921, -0.3887316703796387, 0.5672794207930565, 0.6053445190191269, -0.7590684592723846, -0.7227800233023507, 0.2525546048526411, -0.1914347227324139, -0.4147268280386925, 0.024524692337339123, -0.1644568734842798]}],\n",
       "                        {\"height\": 1000, \"hoverlabel\": {\"font\": {\"color\": \"white\"}}, \"template\": {\"data\": {\"bar\": [{\"error_x\": {\"color\": \"#2a3f5f\"}, \"error_y\": {\"color\": \"#2a3f5f\"}, \"marker\": {\"line\": {\"color\": \"white\", \"width\": 0.5}}, \"type\": \"bar\"}], \"barpolar\": [{\"marker\": {\"line\": {\"color\": \"white\", \"width\": 0.5}}, \"type\": \"barpolar\"}], \"carpet\": [{\"aaxis\": {\"endlinecolor\": \"#2a3f5f\", \"gridcolor\": \"#C8D4E3\", \"linecolor\": \"#C8D4E3\", \"minorgridcolor\": \"#C8D4E3\", \"startlinecolor\": \"#2a3f5f\"}, \"baxis\": {\"endlinecolor\": \"#2a3f5f\", \"gridcolor\": \"#C8D4E3\", \"linecolor\": \"#C8D4E3\", \"minorgridcolor\": \"#C8D4E3\", \"startlinecolor\": \"#2a3f5f\"}, \"type\": \"carpet\"}], \"choropleth\": [{\"colorbar\": {\"outlinewidth\": 0, \"ticks\": \"\"}, \"type\": \"choropleth\"}], \"contour\": [{\"colorbar\": {\"outlinewidth\": 0, \"ticks\": \"\"}, \"colorscale\": [[0.0, \"#0d0887\"], [0.1111111111111111, \"#46039f\"], [0.2222222222222222, \"#7201a8\"], [0.3333333333333333, \"#9c179e\"], [0.4444444444444444, \"#bd3786\"], [0.5555555555555556, \"#d8576b\"], [0.6666666666666666, \"#ed7953\"], [0.7777777777777778, \"#fb9f3a\"], [0.8888888888888888, \"#fdca26\"], [1.0, \"#f0f921\"]], \"type\": \"contour\"}], \"contourcarpet\": [{\"colorbar\": {\"outlinewidth\": 0, \"ticks\": \"\"}, \"type\": \"contourcarpet\"}], \"heatmap\": [{\"colorbar\": {\"outlinewidth\": 0, \"ticks\": \"\"}, \"colorscale\": [[0.0, \"#0d0887\"], [0.1111111111111111, \"#46039f\"], [0.2222222222222222, \"#7201a8\"], [0.3333333333333333, \"#9c179e\"], [0.4444444444444444, \"#bd3786\"], [0.5555555555555556, \"#d8576b\"], [0.6666666666666666, \"#ed7953\"], [0.7777777777777778, \"#fb9f3a\"], [0.8888888888888888, \"#fdca26\"], [1.0, \"#f0f921\"]], \"type\": \"heatmap\"}], \"heatmapgl\": [{\"colorbar\": {\"outlinewidth\": 0, \"ticks\": \"\"}, \"colorscale\": [[0.0, \"#0d0887\"], [0.1111111111111111, \"#46039f\"], [0.2222222222222222, \"#7201a8\"], [0.3333333333333333, \"#9c179e\"], [0.4444444444444444, \"#bd3786\"], [0.5555555555555556, \"#d8576b\"], [0.6666666666666666, \"#ed7953\"], [0.7777777777777778, \"#fb9f3a\"], [0.8888888888888888, \"#fdca26\"], [1.0, \"#f0f921\"]], \"type\": \"heatmapgl\"}], \"histogram\": [{\"marker\": {\"colorbar\": {\"outlinewidth\": 0, \"ticks\": \"\"}}, \"type\": \"histogram\"}], \"histogram2d\": [{\"colorbar\": {\"outlinewidth\": 0, \"ticks\": \"\"}, \"colorscale\": [[0.0, \"#0d0887\"], [0.1111111111111111, \"#46039f\"], [0.2222222222222222, \"#7201a8\"], [0.3333333333333333, \"#9c179e\"], [0.4444444444444444, \"#bd3786\"], [0.5555555555555556, \"#d8576b\"], [0.6666666666666666, \"#ed7953\"], [0.7777777777777778, \"#fb9f3a\"], [0.8888888888888888, \"#fdca26\"], [1.0, \"#f0f921\"]], \"type\": \"histogram2d\"}], \"histogram2dcontour\": [{\"colorbar\": {\"outlinewidth\": 0, \"ticks\": \"\"}, \"colorscale\": [[0.0, \"#0d0887\"], [0.1111111111111111, \"#46039f\"], [0.2222222222222222, \"#7201a8\"], [0.3333333333333333, \"#9c179e\"], [0.4444444444444444, \"#bd3786\"], [0.5555555555555556, \"#d8576b\"], [0.6666666666666666, \"#ed7953\"], [0.7777777777777778, \"#fb9f3a\"], [0.8888888888888888, \"#fdca26\"], [1.0, \"#f0f921\"]], \"type\": \"histogram2dcontour\"}], \"mesh3d\": [{\"colorbar\": {\"outlinewidth\": 0, \"ticks\": \"\"}, \"type\": \"mesh3d\"}], \"parcoords\": [{\"line\": {\"colorbar\": {\"outlinewidth\": 0, \"ticks\": \"\"}}, \"type\": \"parcoords\"}], \"pie\": [{\"automargin\": true, \"type\": \"pie\"}], \"scatter\": [{\"marker\": {\"colorbar\": {\"outlinewidth\": 0, \"ticks\": \"\"}}, \"type\": \"scatter\"}], \"scatter3d\": [{\"line\": {\"colorbar\": {\"outlinewidth\": 0, \"ticks\": \"\"}}, \"marker\": {\"colorbar\": {\"outlinewidth\": 0, \"ticks\": \"\"}}, \"type\": \"scatter3d\"}], \"scattercarpet\": [{\"marker\": {\"colorbar\": {\"outlinewidth\": 0, \"ticks\": \"\"}}, \"type\": \"scattercarpet\"}], \"scattergeo\": [{\"marker\": {\"colorbar\": {\"outlinewidth\": 0, \"ticks\": \"\"}}, \"type\": \"scattergeo\"}], \"scattergl\": [{\"marker\": {\"colorbar\": {\"outlinewidth\": 0, \"ticks\": \"\"}}, \"type\": \"scattergl\"}], \"scattermapbox\": [{\"marker\": {\"colorbar\": {\"outlinewidth\": 0, \"ticks\": \"\"}}, \"type\": \"scattermapbox\"}], \"scatterpolar\": [{\"marker\": {\"colorbar\": {\"outlinewidth\": 0, \"ticks\": \"\"}}, \"type\": \"scatterpolar\"}], \"scatterpolargl\": [{\"marker\": {\"colorbar\": {\"outlinewidth\": 0, \"ticks\": \"\"}}, \"type\": \"scatterpolargl\"}], \"scatterternary\": [{\"marker\": {\"colorbar\": {\"outlinewidth\": 0, \"ticks\": \"\"}}, \"type\": \"scatterternary\"}], \"surface\": [{\"colorbar\": {\"outlinewidth\": 0, \"ticks\": \"\"}, \"colorscale\": [[0.0, \"#0d0887\"], [0.1111111111111111, \"#46039f\"], [0.2222222222222222, \"#7201a8\"], [0.3333333333333333, \"#9c179e\"], [0.4444444444444444, \"#bd3786\"], [0.5555555555555556, \"#d8576b\"], [0.6666666666666666, \"#ed7953\"], [0.7777777777777778, \"#fb9f3a\"], [0.8888888888888888, \"#fdca26\"], [1.0, \"#f0f921\"]], \"type\": \"surface\"}], \"table\": [{\"cells\": {\"fill\": {\"color\": \"#EBF0F8\"}, \"line\": {\"color\": \"white\"}}, \"header\": {\"fill\": {\"color\": \"#C8D4E3\"}, \"line\": {\"color\": \"white\"}}, \"type\": \"table\"}]}, \"layout\": {\"annotationdefaults\": {\"arrowcolor\": \"#2a3f5f\", \"arrowhead\": 0, \"arrowwidth\": 1}, \"coloraxis\": {\"colorbar\": {\"outlinewidth\": 0, \"ticks\": \"\"}}, \"colorscale\": {\"diverging\": [[0, \"#8e0152\"], [0.1, \"#c51b7d\"], [0.2, \"#de77ae\"], [0.3, \"#f1b6da\"], [0.4, \"#fde0ef\"], [0.5, \"#f7f7f7\"], [0.6, \"#e6f5d0\"], [0.7, \"#b8e186\"], [0.8, \"#7fbc41\"], [0.9, \"#4d9221\"], [1, \"#276419\"]], \"sequential\": [[0.0, \"#0d0887\"], [0.1111111111111111, \"#46039f\"], [0.2222222222222222, \"#7201a8\"], [0.3333333333333333, \"#9c179e\"], [0.4444444444444444, \"#bd3786\"], [0.5555555555555556, \"#d8576b\"], [0.6666666666666666, \"#ed7953\"], [0.7777777777777778, \"#fb9f3a\"], [0.8888888888888888, \"#fdca26\"], [1.0, \"#f0f921\"]], \"sequentialminus\": [[0.0, \"#0d0887\"], [0.1111111111111111, \"#46039f\"], [0.2222222222222222, \"#7201a8\"], [0.3333333333333333, \"#9c179e\"], [0.4444444444444444, \"#bd3786\"], [0.5555555555555556, \"#d8576b\"], [0.6666666666666666, \"#ed7953\"], [0.7777777777777778, \"#fb9f3a\"], [0.8888888888888888, \"#fdca26\"], [1.0, \"#f0f921\"]]}, \"colorway\": [\"#636efa\", \"#EF553B\", \"#00cc96\", \"#ab63fa\", \"#FFA15A\", \"#19d3f3\", \"#FF6692\", \"#B6E880\", \"#FF97FF\", \"#FECB52\"], \"font\": {\"color\": \"#2a3f5f\"}, \"geo\": {\"bgcolor\": \"white\", \"lakecolor\": \"white\", \"landcolor\": \"white\", \"showlakes\": true, \"showland\": true, \"subunitcolor\": \"#C8D4E3\"}, \"hoverlabel\": {\"align\": \"left\"}, \"hovermode\": \"closest\", \"mapbox\": {\"style\": \"light\"}, \"paper_bgcolor\": \"white\", \"plot_bgcolor\": \"white\", \"polar\": {\"angularaxis\": {\"gridcolor\": \"#EBF0F8\", \"linecolor\": \"#EBF0F8\", \"ticks\": \"\"}, \"bgcolor\": \"white\", \"radialaxis\": {\"gridcolor\": \"#EBF0F8\", \"linecolor\": \"#EBF0F8\", \"ticks\": \"\"}}, \"scene\": {\"xaxis\": {\"backgroundcolor\": \"white\", \"gridcolor\": \"#DFE8F3\", \"gridwidth\": 2, \"linecolor\": \"#EBF0F8\", \"showbackground\": true, \"ticks\": \"\", \"zerolinecolor\": \"#EBF0F8\"}, \"yaxis\": {\"backgroundcolor\": \"white\", \"gridcolor\": \"#DFE8F3\", \"gridwidth\": 2, \"linecolor\": \"#EBF0F8\", \"showbackground\": true, \"ticks\": \"\", \"zerolinecolor\": \"#EBF0F8\"}, \"zaxis\": {\"backgroundcolor\": \"white\", \"gridcolor\": \"#DFE8F3\", \"gridwidth\": 2, \"linecolor\": \"#EBF0F8\", \"showbackground\": true, \"ticks\": \"\", \"zerolinecolor\": \"#EBF0F8\"}}, \"shapedefaults\": {\"line\": {\"color\": \"#2a3f5f\"}}, \"ternary\": {\"aaxis\": {\"gridcolor\": \"#DFE8F3\", \"linecolor\": \"#A2B1C6\", \"ticks\": \"\"}, \"baxis\": {\"gridcolor\": \"#DFE8F3\", \"linecolor\": \"#A2B1C6\", \"ticks\": \"\"}, \"bgcolor\": \"white\", \"caxis\": {\"gridcolor\": \"#DFE8F3\", \"linecolor\": \"#A2B1C6\", \"ticks\": \"\"}}, \"title\": {\"x\": 0.05}, \"xaxis\": {\"automargin\": true, \"gridcolor\": \"#EBF0F8\", \"linecolor\": \"#EBF0F8\", \"ticks\": \"\", \"title\": {\"standoff\": 15}, \"zerolinecolor\": \"#EBF0F8\", \"zerolinewidth\": 2}, \"yaxis\": {\"automargin\": true, \"gridcolor\": \"#EBF0F8\", \"linecolor\": \"#EBF0F8\", \"ticks\": \"\", \"title\": {\"standoff\": 15}, \"zerolinecolor\": \"#EBF0F8\", \"zerolinewidth\": 2}}}, \"width\": 1000},\n",
       "                        {\"responsive\": true}\n",
       "                    ).then(function(){\n",
       "                            \n",
       "var gd = document.getElementById('db6b7bbb-09f9-4102-82c4-4174373520ea');\n",
       "var x = new MutationObserver(function (mutations, observer) {{\n",
       "        var display = window.getComputedStyle(gd).display;\n",
       "        if (!display || display === 'none') {{\n",
       "            console.log([gd, 'removed!']);\n",
       "            Plotly.purge(gd);\n",
       "            observer.disconnect();\n",
       "        }}\n",
       "}});\n",
       "\n",
       "// Listen for the removal of the full notebook cells\n",
       "var notebookContainer = gd.closest('#notebook-container');\n",
       "if (notebookContainer) {{\n",
       "    x.observe(notebookContainer, {childList: true});\n",
       "}}\n",
       "\n",
       "// Listen for the clearing of the current output cell\n",
       "var outputEl = gd.closest('.output');\n",
       "if (outputEl) {{\n",
       "    x.observe(outputEl, {childList: true});\n",
       "}}\n",
       "\n",
       "                        })\n",
       "                };\n",
       "                });\n",
       "            </script>\n",
       "        </div>"
      ]
     },
     "metadata": {},
     "output_type": "display_data"
    }
   ],
   "source": [
    "clique_motif_frame['joined_sequences'] = [\n",
    "    ','.join(x) for x in clique_motif_frame.sequences\n",
    "]\n",
    "\n",
    "\n",
    "clique_motif_frame['joined_epitopes'] = [\n",
    "    ','.join([i.split(\"::\")[-1].replace(\"[Plasmodium_falciparum_3D7]\", \"\") for i in x]) for x in clique_motif_frame.sseqid\n",
    "]\n",
    "\n",
    "fig = go.Figure()\n",
    "\n",
    "tr = go.Scatter(\n",
    "    x = clique_motif_frame.agg_x,\n",
    "    y = clique_motif_frame.agg_y,\n",
    "    mode = 'markers',\n",
    "    marker = dict(\n",
    "        size = clique_motif_frame.membership,\n",
    "        color = clique_motif_frame.num_known,\n",
    "        sizemode = 'area',\n",
    "        sizeref=100*max(clique_motif_frame.num_known)/(40.**2),\n",
    "        sizemin = 3,\n",
    "        symbol = [0 if x > 0 else 100 for x in clique_motif_frame.num_known],\n",
    "        colorbar = dict(title = 'known motifs'),\n",
    "        colorscale = [\"#f5d60f\", \"#C70039\"]    \n",
    "    ),\n",
    "    customdata = clique_motif_frame[['clique_idx', 'joined_sequences', 'joined_epitopes']].values,\n",
    "    hovertemplate = \n",
    "        '<b>Clique Number</b> : %{customdata[0]}<br>' +\n",
    "        \"<b>Membership</b> : %{marker.size}<br>\" +\n",
    "        '<b>Motifs</b> : %{customdata[1]}</b><br>' +\n",
    "        \"<extra><b>Known Epitopes</b> : %{customdata[2]}<br></extra>\",\n",
    ")\n",
    "\n",
    "fig.add_trace(tr)\n",
    "\n",
    "\n",
    "fig.update_layout(\n",
    "    height = 1000, width = 1000,\n",
    "    hoverlabel = dict(font=dict(color='white'))\n",
    ")\n",
    "\n",
    "fig.write_html(os.path.join(fn_figdir, \"clique_scatter.html\"))\n",
    "fig"
   ]
  },
  {
   "cell_type": "markdown",
   "metadata": {},
   "source": [
    "## Distribution of Number of Found Motifs"
   ]
  },
  {
   "cell_type": "code",
   "execution_count": 32,
   "metadata": {},
   "outputs": [
    {
     "data": {
      "application/vnd.plotly.v1+json": {
       "config": {
        "plotlyServerURL": "https://plot.ly"
       },
       "data": [
        {
         "alignmentgroup": "True",
         "hovertemplate": "num_known=%{x}<br>counts=%{y}<extra></extra>",
         "legendgroup": "",
         "marker": {
          "color": "#636efa"
         },
         "name": "",
         "offsetgroup": "",
         "orientation": "v",
         "showlegend": false,
         "textposition": "auto",
         "type": "bar",
         "x": [
          0,
          1,
          2,
          3,
          4
         ],
         "xaxis": "x",
         "y": [
          178,
          77,
          15,
          1,
          4
         ],
         "yaxis": "y"
        }
       ],
       "layout": {
        "barmode": "relative",
        "legend": {
         "tracegroupgap": 0
        },
        "margin": {
         "t": 60
        },
        "template": {
         "data": {
          "bar": [
           {
            "error_x": {
             "color": "#2a3f5f"
            },
            "error_y": {
             "color": "#2a3f5f"
            },
            "marker": {
             "line": {
              "color": "white",
              "width": 0.5
             }
            },
            "type": "bar"
           }
          ],
          "barpolar": [
           {
            "marker": {
             "line": {
              "color": "white",
              "width": 0.5
             }
            },
            "type": "barpolar"
           }
          ],
          "carpet": [
           {
            "aaxis": {
             "endlinecolor": "#2a3f5f",
             "gridcolor": "#C8D4E3",
             "linecolor": "#C8D4E3",
             "minorgridcolor": "#C8D4E3",
             "startlinecolor": "#2a3f5f"
            },
            "baxis": {
             "endlinecolor": "#2a3f5f",
             "gridcolor": "#C8D4E3",
             "linecolor": "#C8D4E3",
             "minorgridcolor": "#C8D4E3",
             "startlinecolor": "#2a3f5f"
            },
            "type": "carpet"
           }
          ],
          "choropleth": [
           {
            "colorbar": {
             "outlinewidth": 0,
             "ticks": ""
            },
            "type": "choropleth"
           }
          ],
          "contour": [
           {
            "colorbar": {
             "outlinewidth": 0,
             "ticks": ""
            },
            "colorscale": [
             [
              0,
              "#0d0887"
             ],
             [
              0.1111111111111111,
              "#46039f"
             ],
             [
              0.2222222222222222,
              "#7201a8"
             ],
             [
              0.3333333333333333,
              "#9c179e"
             ],
             [
              0.4444444444444444,
              "#bd3786"
             ],
             [
              0.5555555555555556,
              "#d8576b"
             ],
             [
              0.6666666666666666,
              "#ed7953"
             ],
             [
              0.7777777777777778,
              "#fb9f3a"
             ],
             [
              0.8888888888888888,
              "#fdca26"
             ],
             [
              1,
              "#f0f921"
             ]
            ],
            "type": "contour"
           }
          ],
          "contourcarpet": [
           {
            "colorbar": {
             "outlinewidth": 0,
             "ticks": ""
            },
            "type": "contourcarpet"
           }
          ],
          "heatmap": [
           {
            "colorbar": {
             "outlinewidth": 0,
             "ticks": ""
            },
            "colorscale": [
             [
              0,
              "#0d0887"
             ],
             [
              0.1111111111111111,
              "#46039f"
             ],
             [
              0.2222222222222222,
              "#7201a8"
             ],
             [
              0.3333333333333333,
              "#9c179e"
             ],
             [
              0.4444444444444444,
              "#bd3786"
             ],
             [
              0.5555555555555556,
              "#d8576b"
             ],
             [
              0.6666666666666666,
              "#ed7953"
             ],
             [
              0.7777777777777778,
              "#fb9f3a"
             ],
             [
              0.8888888888888888,
              "#fdca26"
             ],
             [
              1,
              "#f0f921"
             ]
            ],
            "type": "heatmap"
           }
          ],
          "heatmapgl": [
           {
            "colorbar": {
             "outlinewidth": 0,
             "ticks": ""
            },
            "colorscale": [
             [
              0,
              "#0d0887"
             ],
             [
              0.1111111111111111,
              "#46039f"
             ],
             [
              0.2222222222222222,
              "#7201a8"
             ],
             [
              0.3333333333333333,
              "#9c179e"
             ],
             [
              0.4444444444444444,
              "#bd3786"
             ],
             [
              0.5555555555555556,
              "#d8576b"
             ],
             [
              0.6666666666666666,
              "#ed7953"
             ],
             [
              0.7777777777777778,
              "#fb9f3a"
             ],
             [
              0.8888888888888888,
              "#fdca26"
             ],
             [
              1,
              "#f0f921"
             ]
            ],
            "type": "heatmapgl"
           }
          ],
          "histogram": [
           {
            "marker": {
             "colorbar": {
              "outlinewidth": 0,
              "ticks": ""
             }
            },
            "type": "histogram"
           }
          ],
          "histogram2d": [
           {
            "colorbar": {
             "outlinewidth": 0,
             "ticks": ""
            },
            "colorscale": [
             [
              0,
              "#0d0887"
             ],
             [
              0.1111111111111111,
              "#46039f"
             ],
             [
              0.2222222222222222,
              "#7201a8"
             ],
             [
              0.3333333333333333,
              "#9c179e"
             ],
             [
              0.4444444444444444,
              "#bd3786"
             ],
             [
              0.5555555555555556,
              "#d8576b"
             ],
             [
              0.6666666666666666,
              "#ed7953"
             ],
             [
              0.7777777777777778,
              "#fb9f3a"
             ],
             [
              0.8888888888888888,
              "#fdca26"
             ],
             [
              1,
              "#f0f921"
             ]
            ],
            "type": "histogram2d"
           }
          ],
          "histogram2dcontour": [
           {
            "colorbar": {
             "outlinewidth": 0,
             "ticks": ""
            },
            "colorscale": [
             [
              0,
              "#0d0887"
             ],
             [
              0.1111111111111111,
              "#46039f"
             ],
             [
              0.2222222222222222,
              "#7201a8"
             ],
             [
              0.3333333333333333,
              "#9c179e"
             ],
             [
              0.4444444444444444,
              "#bd3786"
             ],
             [
              0.5555555555555556,
              "#d8576b"
             ],
             [
              0.6666666666666666,
              "#ed7953"
             ],
             [
              0.7777777777777778,
              "#fb9f3a"
             ],
             [
              0.8888888888888888,
              "#fdca26"
             ],
             [
              1,
              "#f0f921"
             ]
            ],
            "type": "histogram2dcontour"
           }
          ],
          "mesh3d": [
           {
            "colorbar": {
             "outlinewidth": 0,
             "ticks": ""
            },
            "type": "mesh3d"
           }
          ],
          "parcoords": [
           {
            "line": {
             "colorbar": {
              "outlinewidth": 0,
              "ticks": ""
             }
            },
            "type": "parcoords"
           }
          ],
          "pie": [
           {
            "automargin": true,
            "type": "pie"
           }
          ],
          "scatter": [
           {
            "marker": {
             "colorbar": {
              "outlinewidth": 0,
              "ticks": ""
             }
            },
            "type": "scatter"
           }
          ],
          "scatter3d": [
           {
            "line": {
             "colorbar": {
              "outlinewidth": 0,
              "ticks": ""
             }
            },
            "marker": {
             "colorbar": {
              "outlinewidth": 0,
              "ticks": ""
             }
            },
            "type": "scatter3d"
           }
          ],
          "scattercarpet": [
           {
            "marker": {
             "colorbar": {
              "outlinewidth": 0,
              "ticks": ""
             }
            },
            "type": "scattercarpet"
           }
          ],
          "scattergeo": [
           {
            "marker": {
             "colorbar": {
              "outlinewidth": 0,
              "ticks": ""
             }
            },
            "type": "scattergeo"
           }
          ],
          "scattergl": [
           {
            "marker": {
             "colorbar": {
              "outlinewidth": 0,
              "ticks": ""
             }
            },
            "type": "scattergl"
           }
          ],
          "scattermapbox": [
           {
            "marker": {
             "colorbar": {
              "outlinewidth": 0,
              "ticks": ""
             }
            },
            "type": "scattermapbox"
           }
          ],
          "scatterpolar": [
           {
            "marker": {
             "colorbar": {
              "outlinewidth": 0,
              "ticks": ""
             }
            },
            "type": "scatterpolar"
           }
          ],
          "scatterpolargl": [
           {
            "marker": {
             "colorbar": {
              "outlinewidth": 0,
              "ticks": ""
             }
            },
            "type": "scatterpolargl"
           }
          ],
          "scatterternary": [
           {
            "marker": {
             "colorbar": {
              "outlinewidth": 0,
              "ticks": ""
             }
            },
            "type": "scatterternary"
           }
          ],
          "surface": [
           {
            "colorbar": {
             "outlinewidth": 0,
             "ticks": ""
            },
            "colorscale": [
             [
              0,
              "#0d0887"
             ],
             [
              0.1111111111111111,
              "#46039f"
             ],
             [
              0.2222222222222222,
              "#7201a8"
             ],
             [
              0.3333333333333333,
              "#9c179e"
             ],
             [
              0.4444444444444444,
              "#bd3786"
             ],
             [
              0.5555555555555556,
              "#d8576b"
             ],
             [
              0.6666666666666666,
              "#ed7953"
             ],
             [
              0.7777777777777778,
              "#fb9f3a"
             ],
             [
              0.8888888888888888,
              "#fdca26"
             ],
             [
              1,
              "#f0f921"
             ]
            ],
            "type": "surface"
           }
          ],
          "table": [
           {
            "cells": {
             "fill": {
              "color": "#EBF0F8"
             },
             "line": {
              "color": "white"
             }
            },
            "header": {
             "fill": {
              "color": "#C8D4E3"
             },
             "line": {
              "color": "white"
             }
            },
            "type": "table"
           }
          ]
         },
         "layout": {
          "annotationdefaults": {
           "arrowcolor": "#2a3f5f",
           "arrowhead": 0,
           "arrowwidth": 1
          },
          "coloraxis": {
           "colorbar": {
            "outlinewidth": 0,
            "ticks": ""
           }
          },
          "colorscale": {
           "diverging": [
            [
             0,
             "#8e0152"
            ],
            [
             0.1,
             "#c51b7d"
            ],
            [
             0.2,
             "#de77ae"
            ],
            [
             0.3,
             "#f1b6da"
            ],
            [
             0.4,
             "#fde0ef"
            ],
            [
             0.5,
             "#f7f7f7"
            ],
            [
             0.6,
             "#e6f5d0"
            ],
            [
             0.7,
             "#b8e186"
            ],
            [
             0.8,
             "#7fbc41"
            ],
            [
             0.9,
             "#4d9221"
            ],
            [
             1,
             "#276419"
            ]
           ],
           "sequential": [
            [
             0,
             "#0d0887"
            ],
            [
             0.1111111111111111,
             "#46039f"
            ],
            [
             0.2222222222222222,
             "#7201a8"
            ],
            [
             0.3333333333333333,
             "#9c179e"
            ],
            [
             0.4444444444444444,
             "#bd3786"
            ],
            [
             0.5555555555555556,
             "#d8576b"
            ],
            [
             0.6666666666666666,
             "#ed7953"
            ],
            [
             0.7777777777777778,
             "#fb9f3a"
            ],
            [
             0.8888888888888888,
             "#fdca26"
            ],
            [
             1,
             "#f0f921"
            ]
           ],
           "sequentialminus": [
            [
             0,
             "#0d0887"
            ],
            [
             0.1111111111111111,
             "#46039f"
            ],
            [
             0.2222222222222222,
             "#7201a8"
            ],
            [
             0.3333333333333333,
             "#9c179e"
            ],
            [
             0.4444444444444444,
             "#bd3786"
            ],
            [
             0.5555555555555556,
             "#d8576b"
            ],
            [
             0.6666666666666666,
             "#ed7953"
            ],
            [
             0.7777777777777778,
             "#fb9f3a"
            ],
            [
             0.8888888888888888,
             "#fdca26"
            ],
            [
             1,
             "#f0f921"
            ]
           ]
          },
          "colorway": [
           "#636efa",
           "#EF553B",
           "#00cc96",
           "#ab63fa",
           "#FFA15A",
           "#19d3f3",
           "#FF6692",
           "#B6E880",
           "#FF97FF",
           "#FECB52"
          ],
          "font": {
           "color": "#2a3f5f"
          },
          "geo": {
           "bgcolor": "white",
           "lakecolor": "white",
           "landcolor": "white",
           "showlakes": true,
           "showland": true,
           "subunitcolor": "#C8D4E3"
          },
          "hoverlabel": {
           "align": "left"
          },
          "hovermode": "closest",
          "mapbox": {
           "style": "light"
          },
          "paper_bgcolor": "white",
          "plot_bgcolor": "white",
          "polar": {
           "angularaxis": {
            "gridcolor": "#EBF0F8",
            "linecolor": "#EBF0F8",
            "ticks": ""
           },
           "bgcolor": "white",
           "radialaxis": {
            "gridcolor": "#EBF0F8",
            "linecolor": "#EBF0F8",
            "ticks": ""
           }
          },
          "scene": {
           "xaxis": {
            "backgroundcolor": "white",
            "gridcolor": "#DFE8F3",
            "gridwidth": 2,
            "linecolor": "#EBF0F8",
            "showbackground": true,
            "ticks": "",
            "zerolinecolor": "#EBF0F8"
           },
           "yaxis": {
            "backgroundcolor": "white",
            "gridcolor": "#DFE8F3",
            "gridwidth": 2,
            "linecolor": "#EBF0F8",
            "showbackground": true,
            "ticks": "",
            "zerolinecolor": "#EBF0F8"
           },
           "zaxis": {
            "backgroundcolor": "white",
            "gridcolor": "#DFE8F3",
            "gridwidth": 2,
            "linecolor": "#EBF0F8",
            "showbackground": true,
            "ticks": "",
            "zerolinecolor": "#EBF0F8"
           }
          },
          "shapedefaults": {
           "line": {
            "color": "#2a3f5f"
           }
          },
          "ternary": {
           "aaxis": {
            "gridcolor": "#DFE8F3",
            "linecolor": "#A2B1C6",
            "ticks": ""
           },
           "baxis": {
            "gridcolor": "#DFE8F3",
            "linecolor": "#A2B1C6",
            "ticks": ""
           },
           "bgcolor": "white",
           "caxis": {
            "gridcolor": "#DFE8F3",
            "linecolor": "#A2B1C6",
            "ticks": ""
           }
          },
          "title": {
           "x": 0.05
          },
          "xaxis": {
           "automargin": true,
           "gridcolor": "#EBF0F8",
           "linecolor": "#EBF0F8",
           "ticks": "",
           "title": {
            "standoff": 15
           },
           "zerolinecolor": "#EBF0F8",
           "zerolinewidth": 2
          },
          "yaxis": {
           "automargin": true,
           "gridcolor": "#EBF0F8",
           "linecolor": "#EBF0F8",
           "ticks": "",
           "title": {
            "standoff": 15
           },
           "zerolinecolor": "#EBF0F8",
           "zerolinewidth": 2
          }
         }
        },
        "xaxis": {
         "anchor": "y",
         "domain": [
          0,
          1
         ],
         "title": {
          "text": "num_known"
         }
        },
        "yaxis": {
         "anchor": "x",
         "domain": [
          0,
          1
         ],
         "title": {
          "text": "counts"
         }
        }
       }
      },
      "text/html": [
       "<div>\n",
       "        \n",
       "        \n",
       "            <div id=\"1548e049-0e3c-4b2f-82b9-8a9629a44d1a\" class=\"plotly-graph-div\" style=\"height:525px; width:100%;\"></div>\n",
       "            <script type=\"text/javascript\">\n",
       "                require([\"plotly\"], function(Plotly) {\n",
       "                    window.PLOTLYENV=window.PLOTLYENV || {};\n",
       "                    \n",
       "                if (document.getElementById(\"1548e049-0e3c-4b2f-82b9-8a9629a44d1a\")) {\n",
       "                    Plotly.newPlot(\n",
       "                        '1548e049-0e3c-4b2f-82b9-8a9629a44d1a',\n",
       "                        [{\"alignmentgroup\": \"True\", \"hovertemplate\": \"num_known=%{x}<br>counts=%{y}<extra></extra>\", \"legendgroup\": \"\", \"marker\": {\"color\": \"#636efa\"}, \"name\": \"\", \"offsetgroup\": \"\", \"orientation\": \"v\", \"showlegend\": false, \"textposition\": \"auto\", \"type\": \"bar\", \"x\": [0, 1, 2, 3, 4], \"xaxis\": \"x\", \"y\": [178, 77, 15, 1, 4], \"yaxis\": \"y\"}],\n",
       "                        {\"barmode\": \"relative\", \"legend\": {\"tracegroupgap\": 0}, \"margin\": {\"t\": 60}, \"template\": {\"data\": {\"bar\": [{\"error_x\": {\"color\": \"#2a3f5f\"}, \"error_y\": {\"color\": \"#2a3f5f\"}, \"marker\": {\"line\": {\"color\": \"white\", \"width\": 0.5}}, \"type\": \"bar\"}], \"barpolar\": [{\"marker\": {\"line\": {\"color\": \"white\", \"width\": 0.5}}, \"type\": \"barpolar\"}], \"carpet\": [{\"aaxis\": {\"endlinecolor\": \"#2a3f5f\", \"gridcolor\": \"#C8D4E3\", \"linecolor\": \"#C8D4E3\", \"minorgridcolor\": \"#C8D4E3\", \"startlinecolor\": \"#2a3f5f\"}, \"baxis\": {\"endlinecolor\": \"#2a3f5f\", \"gridcolor\": \"#C8D4E3\", \"linecolor\": \"#C8D4E3\", \"minorgridcolor\": \"#C8D4E3\", \"startlinecolor\": \"#2a3f5f\"}, \"type\": \"carpet\"}], \"choropleth\": [{\"colorbar\": {\"outlinewidth\": 0, \"ticks\": \"\"}, \"type\": \"choropleth\"}], \"contour\": [{\"colorbar\": {\"outlinewidth\": 0, \"ticks\": \"\"}, \"colorscale\": [[0.0, \"#0d0887\"], [0.1111111111111111, \"#46039f\"], [0.2222222222222222, \"#7201a8\"], [0.3333333333333333, \"#9c179e\"], [0.4444444444444444, \"#bd3786\"], [0.5555555555555556, \"#d8576b\"], [0.6666666666666666, \"#ed7953\"], [0.7777777777777778, \"#fb9f3a\"], [0.8888888888888888, \"#fdca26\"], [1.0, \"#f0f921\"]], \"type\": \"contour\"}], \"contourcarpet\": [{\"colorbar\": {\"outlinewidth\": 0, \"ticks\": \"\"}, \"type\": \"contourcarpet\"}], \"heatmap\": [{\"colorbar\": {\"outlinewidth\": 0, \"ticks\": \"\"}, \"colorscale\": [[0.0, \"#0d0887\"], [0.1111111111111111, \"#46039f\"], [0.2222222222222222, \"#7201a8\"], [0.3333333333333333, \"#9c179e\"], [0.4444444444444444, \"#bd3786\"], [0.5555555555555556, \"#d8576b\"], [0.6666666666666666, \"#ed7953\"], [0.7777777777777778, \"#fb9f3a\"], [0.8888888888888888, \"#fdca26\"], [1.0, \"#f0f921\"]], \"type\": \"heatmap\"}], \"heatmapgl\": [{\"colorbar\": {\"outlinewidth\": 0, \"ticks\": \"\"}, \"colorscale\": [[0.0, \"#0d0887\"], [0.1111111111111111, \"#46039f\"], [0.2222222222222222, \"#7201a8\"], [0.3333333333333333, \"#9c179e\"], [0.4444444444444444, \"#bd3786\"], [0.5555555555555556, \"#d8576b\"], [0.6666666666666666, \"#ed7953\"], [0.7777777777777778, \"#fb9f3a\"], [0.8888888888888888, \"#fdca26\"], [1.0, \"#f0f921\"]], \"type\": \"heatmapgl\"}], \"histogram\": [{\"marker\": {\"colorbar\": {\"outlinewidth\": 0, \"ticks\": \"\"}}, \"type\": \"histogram\"}], \"histogram2d\": [{\"colorbar\": {\"outlinewidth\": 0, \"ticks\": \"\"}, \"colorscale\": [[0.0, \"#0d0887\"], [0.1111111111111111, \"#46039f\"], [0.2222222222222222, \"#7201a8\"], [0.3333333333333333, \"#9c179e\"], [0.4444444444444444, \"#bd3786\"], [0.5555555555555556, \"#d8576b\"], [0.6666666666666666, \"#ed7953\"], [0.7777777777777778, \"#fb9f3a\"], [0.8888888888888888, \"#fdca26\"], [1.0, \"#f0f921\"]], \"type\": \"histogram2d\"}], \"histogram2dcontour\": [{\"colorbar\": {\"outlinewidth\": 0, \"ticks\": \"\"}, \"colorscale\": [[0.0, \"#0d0887\"], [0.1111111111111111, \"#46039f\"], [0.2222222222222222, \"#7201a8\"], [0.3333333333333333, \"#9c179e\"], [0.4444444444444444, \"#bd3786\"], [0.5555555555555556, \"#d8576b\"], [0.6666666666666666, \"#ed7953\"], [0.7777777777777778, \"#fb9f3a\"], [0.8888888888888888, \"#fdca26\"], [1.0, \"#f0f921\"]], \"type\": \"histogram2dcontour\"}], \"mesh3d\": [{\"colorbar\": {\"outlinewidth\": 0, \"ticks\": \"\"}, \"type\": \"mesh3d\"}], \"parcoords\": [{\"line\": {\"colorbar\": {\"outlinewidth\": 0, \"ticks\": \"\"}}, \"type\": \"parcoords\"}], \"pie\": [{\"automargin\": true, \"type\": \"pie\"}], \"scatter\": [{\"marker\": {\"colorbar\": {\"outlinewidth\": 0, \"ticks\": \"\"}}, \"type\": \"scatter\"}], \"scatter3d\": [{\"line\": {\"colorbar\": {\"outlinewidth\": 0, \"ticks\": \"\"}}, \"marker\": {\"colorbar\": {\"outlinewidth\": 0, \"ticks\": \"\"}}, \"type\": \"scatter3d\"}], \"scattercarpet\": [{\"marker\": {\"colorbar\": {\"outlinewidth\": 0, \"ticks\": \"\"}}, \"type\": \"scattercarpet\"}], \"scattergeo\": [{\"marker\": {\"colorbar\": {\"outlinewidth\": 0, \"ticks\": \"\"}}, \"type\": \"scattergeo\"}], \"scattergl\": [{\"marker\": {\"colorbar\": {\"outlinewidth\": 0, \"ticks\": \"\"}}, \"type\": \"scattergl\"}], \"scattermapbox\": [{\"marker\": {\"colorbar\": {\"outlinewidth\": 0, \"ticks\": \"\"}}, \"type\": \"scattermapbox\"}], \"scatterpolar\": [{\"marker\": {\"colorbar\": {\"outlinewidth\": 0, \"ticks\": \"\"}}, \"type\": \"scatterpolar\"}], \"scatterpolargl\": [{\"marker\": {\"colorbar\": {\"outlinewidth\": 0, \"ticks\": \"\"}}, \"type\": \"scatterpolargl\"}], \"scatterternary\": [{\"marker\": {\"colorbar\": {\"outlinewidth\": 0, \"ticks\": \"\"}}, \"type\": \"scatterternary\"}], \"surface\": [{\"colorbar\": {\"outlinewidth\": 0, \"ticks\": \"\"}, \"colorscale\": [[0.0, \"#0d0887\"], [0.1111111111111111, \"#46039f\"], [0.2222222222222222, \"#7201a8\"], [0.3333333333333333, \"#9c179e\"], [0.4444444444444444, \"#bd3786\"], [0.5555555555555556, \"#d8576b\"], [0.6666666666666666, \"#ed7953\"], [0.7777777777777778, \"#fb9f3a\"], [0.8888888888888888, \"#fdca26\"], [1.0, \"#f0f921\"]], \"type\": \"surface\"}], \"table\": [{\"cells\": {\"fill\": {\"color\": \"#EBF0F8\"}, \"line\": {\"color\": \"white\"}}, \"header\": {\"fill\": {\"color\": \"#C8D4E3\"}, \"line\": {\"color\": \"white\"}}, \"type\": \"table\"}]}, \"layout\": {\"annotationdefaults\": {\"arrowcolor\": \"#2a3f5f\", \"arrowhead\": 0, \"arrowwidth\": 1}, \"coloraxis\": {\"colorbar\": {\"outlinewidth\": 0, \"ticks\": \"\"}}, \"colorscale\": {\"diverging\": [[0, \"#8e0152\"], [0.1, \"#c51b7d\"], [0.2, \"#de77ae\"], [0.3, \"#f1b6da\"], [0.4, \"#fde0ef\"], [0.5, \"#f7f7f7\"], [0.6, \"#e6f5d0\"], [0.7, \"#b8e186\"], [0.8, \"#7fbc41\"], [0.9, \"#4d9221\"], [1, \"#276419\"]], \"sequential\": [[0.0, \"#0d0887\"], [0.1111111111111111, \"#46039f\"], [0.2222222222222222, \"#7201a8\"], [0.3333333333333333, \"#9c179e\"], [0.4444444444444444, \"#bd3786\"], [0.5555555555555556, \"#d8576b\"], [0.6666666666666666, \"#ed7953\"], [0.7777777777777778, \"#fb9f3a\"], [0.8888888888888888, \"#fdca26\"], [1.0, \"#f0f921\"]], \"sequentialminus\": [[0.0, \"#0d0887\"], [0.1111111111111111, \"#46039f\"], [0.2222222222222222, \"#7201a8\"], [0.3333333333333333, \"#9c179e\"], [0.4444444444444444, \"#bd3786\"], [0.5555555555555556, \"#d8576b\"], [0.6666666666666666, \"#ed7953\"], [0.7777777777777778, \"#fb9f3a\"], [0.8888888888888888, \"#fdca26\"], [1.0, \"#f0f921\"]]}, \"colorway\": [\"#636efa\", \"#EF553B\", \"#00cc96\", \"#ab63fa\", \"#FFA15A\", \"#19d3f3\", \"#FF6692\", \"#B6E880\", \"#FF97FF\", \"#FECB52\"], \"font\": {\"color\": \"#2a3f5f\"}, \"geo\": {\"bgcolor\": \"white\", \"lakecolor\": \"white\", \"landcolor\": \"white\", \"showlakes\": true, \"showland\": true, \"subunitcolor\": \"#C8D4E3\"}, \"hoverlabel\": {\"align\": \"left\"}, \"hovermode\": \"closest\", \"mapbox\": {\"style\": \"light\"}, \"paper_bgcolor\": \"white\", \"plot_bgcolor\": \"white\", \"polar\": {\"angularaxis\": {\"gridcolor\": \"#EBF0F8\", \"linecolor\": \"#EBF0F8\", \"ticks\": \"\"}, \"bgcolor\": \"white\", \"radialaxis\": {\"gridcolor\": \"#EBF0F8\", \"linecolor\": \"#EBF0F8\", \"ticks\": \"\"}}, \"scene\": {\"xaxis\": {\"backgroundcolor\": \"white\", \"gridcolor\": \"#DFE8F3\", \"gridwidth\": 2, \"linecolor\": \"#EBF0F8\", \"showbackground\": true, \"ticks\": \"\", \"zerolinecolor\": \"#EBF0F8\"}, \"yaxis\": {\"backgroundcolor\": \"white\", \"gridcolor\": \"#DFE8F3\", \"gridwidth\": 2, \"linecolor\": \"#EBF0F8\", \"showbackground\": true, \"ticks\": \"\", \"zerolinecolor\": \"#EBF0F8\"}, \"zaxis\": {\"backgroundcolor\": \"white\", \"gridcolor\": \"#DFE8F3\", \"gridwidth\": 2, \"linecolor\": \"#EBF0F8\", \"showbackground\": true, \"ticks\": \"\", \"zerolinecolor\": \"#EBF0F8\"}}, \"shapedefaults\": {\"line\": {\"color\": \"#2a3f5f\"}}, \"ternary\": {\"aaxis\": {\"gridcolor\": \"#DFE8F3\", \"linecolor\": \"#A2B1C6\", \"ticks\": \"\"}, \"baxis\": {\"gridcolor\": \"#DFE8F3\", \"linecolor\": \"#A2B1C6\", \"ticks\": \"\"}, \"bgcolor\": \"white\", \"caxis\": {\"gridcolor\": \"#DFE8F3\", \"linecolor\": \"#A2B1C6\", \"ticks\": \"\"}}, \"title\": {\"x\": 0.05}, \"xaxis\": {\"automargin\": true, \"gridcolor\": \"#EBF0F8\", \"linecolor\": \"#EBF0F8\", \"ticks\": \"\", \"title\": {\"standoff\": 15}, \"zerolinecolor\": \"#EBF0F8\", \"zerolinewidth\": 2}, \"yaxis\": {\"automargin\": true, \"gridcolor\": \"#EBF0F8\", \"linecolor\": \"#EBF0F8\", \"ticks\": \"\", \"title\": {\"standoff\": 15}, \"zerolinecolor\": \"#EBF0F8\", \"zerolinewidth\": 2}}}, \"xaxis\": {\"anchor\": \"y\", \"domain\": [0.0, 1.0], \"title\": {\"text\": \"num_known\"}}, \"yaxis\": {\"anchor\": \"x\", \"domain\": [0.0, 1.0], \"title\": {\"text\": \"counts\"}}},\n",
       "                        {\"responsive\": true}\n",
       "                    ).then(function(){\n",
       "                            \n",
       "var gd = document.getElementById('1548e049-0e3c-4b2f-82b9-8a9629a44d1a');\n",
       "var x = new MutationObserver(function (mutations, observer) {{\n",
       "        var display = window.getComputedStyle(gd).display;\n",
       "        if (!display || display === 'none') {{\n",
       "            console.log([gd, 'removed!']);\n",
       "            Plotly.purge(gd);\n",
       "            observer.disconnect();\n",
       "        }}\n",
       "}});\n",
       "\n",
       "// Listen for the removal of the full notebook cells\n",
       "var notebookContainer = gd.closest('#notebook-container');\n",
       "if (notebookContainer) {{\n",
       "    x.observe(notebookContainer, {childList: true});\n",
       "}}\n",
       "\n",
       "// Listen for the clearing of the current output cell\n",
       "var outputEl = gd.closest('.output');\n",
       "if (outputEl) {{\n",
       "    x.observe(outputEl, {childList: true});\n",
       "}}\n",
       "\n",
       "                        })\n",
       "                };\n",
       "                });\n",
       "            </script>\n",
       "        </div>"
      ]
     },
     "metadata": {},
     "output_type": "display_data"
    }
   ],
   "source": [
    "known_frame = clique_motif_frame[['clique_idx', 'membership', 'num_known']].drop_duplicates()\n",
    "\n",
    "known_hist = known_frame.\\\n",
    "    groupby('num_known').apply(lambda x : pd.Series({'counts':x.shape[0]})).reset_index()\n",
    "\n",
    "px.bar(\n",
    "    known_hist, x = 'num_known', y = 'counts'\n",
    ")"
   ]
  },
  {
   "cell_type": "markdown",
   "metadata": {},
   "source": [
    "## Membership size of nodes with number of motifs found"
   ]
  },
  {
   "cell_type": "code",
   "execution_count": 15,
   "metadata": {},
   "outputs": [
    {
     "data": {
      "application/vnd.plotly.v1+json": {
       "config": {
        "plotlyServerURL": "https://plot.ly"
       },
       "data": [
        {
         "alignmentgroup": "True",
         "hovertemplate": "<b>%{hovertext}</b><br><br>num_known=%{x}<br>membership=%{y}<extra></extra>",
         "hovertext": [
          274,
          122,
          123,
          124,
          213,
          126,
          127,
          128,
          129,
          130,
          212,
          132,
          133,
          211,
          210,
          209,
          273,
          208,
          139,
          207,
          121,
          120,
          214,
          118,
          192,
          222,
          98,
          99,
          100,
          101,
          102,
          104,
          105,
          141,
          220,
          108,
          109,
          219,
          111,
          218,
          113,
          217,
          216,
          116,
          107,
          95,
          142,
          144,
          172,
          174,
          175,
          196,
          177,
          178,
          179,
          180,
          181,
          182,
          183,
          184,
          185,
          186,
          195,
          188,
          189,
          190,
          191,
          198,
          170,
          169,
          168,
          145,
          146,
          147,
          148,
          206,
          205,
          204,
          152,
          154,
          143,
          156,
          158,
          159,
          161,
          162,
          200,
          164,
          199,
          166,
          167,
          157,
          224,
          223,
          92,
          28,
          251,
          30,
          33,
          34,
          35,
          248,
          247,
          252,
          38,
          246,
          245,
          42,
          43,
          44,
          225,
          244,
          242,
          39,
          253,
          254,
          24,
          272,
          271,
          270,
          5,
          268,
          267,
          265,
          263,
          262,
          13,
          14,
          260,
          259,
          258,
          257,
          256,
          21,
          255,
          23,
          241,
          50,
          45,
          52,
          71,
          51,
          73,
          75,
          76,
          231,
          78,
          79,
          80,
          81,
          230,
          83,
          84,
          85,
          229,
          228,
          88,
          226,
          91,
          233,
          234,
          72,
          194,
          237,
          60,
          68,
          61,
          236,
          63,
          56,
          239,
          240,
          54,
          66,
          67,
          53,
          65,
          238,
          266,
          269,
          227,
          243,
          201,
          221,
          197,
          235,
          203,
          202,
          232,
          249,
          215,
          250,
          264,
          261,
          0,
          187,
          86,
          82,
          77,
          74,
          70,
          193,
          64,
          62,
          59,
          58,
          55,
          48,
          47,
          87,
          46,
          37,
          36,
          32,
          29,
          27,
          26,
          22,
          19,
          9,
          8,
          7,
          6,
          3,
          41,
          89,
          137,
          93,
          160,
          155,
          163,
          153,
          151,
          150,
          90,
          149,
          165,
          138,
          171,
          136,
          135,
          131,
          134,
          110,
          125,
          94,
          176,
          117,
          115,
          114,
          173,
          106,
          103,
          97,
          96,
          10,
          12,
          4,
          2,
          15,
          31,
          17,
          25,
          140,
          40,
          49,
          57,
          119,
          112,
          69,
          11,
          18,
          20,
          1,
          16
         ],
         "legendgroup": "",
         "marker": {
          "color": "#636efa"
         },
         "name": "",
         "notched": false,
         "offsetgroup": "",
         "orientation": "v",
         "showlegend": false,
         "type": "box",
         "x": [
          0,
          0,
          0,
          0,
          0,
          0,
          0,
          0,
          0,
          0,
          0,
          0,
          0,
          0,
          0,
          0,
          0,
          0,
          0,
          0,
          0,
          0,
          0,
          0,
          0,
          0,
          0,
          0,
          0,
          0,
          0,
          0,
          0,
          0,
          0,
          0,
          0,
          0,
          0,
          0,
          0,
          0,
          0,
          0,
          0,
          0,
          0,
          0,
          0,
          0,
          0,
          0,
          0,
          0,
          0,
          0,
          0,
          0,
          0,
          0,
          0,
          0,
          0,
          0,
          0,
          0,
          0,
          0,
          0,
          0,
          0,
          0,
          0,
          0,
          0,
          0,
          0,
          0,
          0,
          0,
          0,
          0,
          0,
          0,
          0,
          0,
          0,
          0,
          0,
          0,
          0,
          0,
          0,
          0,
          0,
          0,
          0,
          0,
          0,
          0,
          0,
          0,
          0,
          0,
          0,
          0,
          0,
          0,
          0,
          0,
          0,
          0,
          0,
          0,
          0,
          0,
          0,
          0,
          0,
          0,
          0,
          0,
          0,
          0,
          0,
          0,
          0,
          0,
          0,
          0,
          0,
          0,
          0,
          0,
          0,
          0,
          0,
          0,
          0,
          0,
          0,
          0,
          0,
          0,
          0,
          0,
          0,
          0,
          0,
          0,
          0,
          0,
          0,
          0,
          0,
          0,
          0,
          0,
          0,
          0,
          0,
          0,
          0,
          0,
          0,
          0,
          0,
          0,
          0,
          0,
          0,
          0,
          0,
          0,
          0,
          0,
          0,
          0,
          1,
          1,
          1,
          1,
          1,
          1,
          1,
          1,
          1,
          1,
          1,
          1,
          1,
          1,
          1,
          1,
          1,
          1,
          1,
          1,
          1,
          1,
          1,
          1,
          1,
          1,
          1,
          1,
          1,
          1,
          1,
          1,
          1,
          1,
          1,
          1,
          1,
          1,
          1,
          1,
          1,
          1,
          1,
          1,
          1,
          1,
          1,
          1,
          1,
          1,
          1,
          1,
          1,
          1,
          1,
          1,
          1,
          1,
          1,
          1,
          1,
          1,
          1,
          1,
          1,
          1,
          1,
          1,
          1,
          1,
          1,
          1,
          1,
          1,
          1,
          1,
          1,
          2,
          2,
          2,
          2,
          2,
          2,
          2,
          2,
          2,
          2,
          2,
          2,
          2,
          2,
          2,
          3,
          4,
          4,
          4,
          4
         ],
         "x0": " ",
         "xaxis": "x",
         "y": [
          2,
          4,
          4,
          4,
          2,
          4,
          4,
          4,
          4,
          4,
          2,
          4,
          3,
          2,
          2,
          2,
          2,
          2,
          3,
          2,
          4,
          4,
          2,
          4,
          2,
          2,
          5,
          5,
          5,
          5,
          5,
          4,
          4,
          3,
          2,
          4,
          4,
          2,
          4,
          2,
          4,
          2,
          2,
          4,
          4,
          5,
          3,
          3,
          3,
          3,
          3,
          2,
          3,
          3,
          3,
          3,
          2,
          2,
          2,
          2,
          2,
          2,
          2,
          2,
          2,
          2,
          2,
          2,
          3,
          3,
          3,
          3,
          3,
          3,
          3,
          2,
          2,
          2,
          3,
          3,
          3,
          3,
          3,
          3,
          3,
          3,
          2,
          3,
          2,
          3,
          3,
          3,
          2,
          2,
          5,
          16,
          2,
          15,
          12,
          12,
          12,
          2,
          2,
          2,
          12,
          2,
          2,
          11,
          11,
          11,
          2,
          2,
          2,
          11,
          2,
          2,
          17,
          2,
          2,
          2,
          43,
          2,
          2,
          2,
          2,
          2,
          25,
          24,
          2,
          2,
          2,
          2,
          2,
          18,
          2,
          17,
          2,
          9,
          11,
          9,
          7,
          9,
          7,
          7,
          7,
          2,
          6,
          6,
          6,
          6,
          2,
          6,
          6,
          6,
          2,
          2,
          5,
          2,
          5,
          2,
          2,
          7,
          2,
          2,
          8,
          7,
          8,
          2,
          8,
          8,
          2,
          2,
          9,
          7,
          7,
          9,
          7,
          2,
          2,
          2,
          2,
          2,
          2,
          2,
          2,
          2,
          2,
          2,
          2,
          2,
          2,
          2,
          2,
          2,
          442,
          2,
          5,
          6,
          6,
          7,
          7,
          2,
          8,
          8,
          8,
          8,
          8,
          10,
          10,
          5,
          10,
          12,
          12,
          13,
          16,
          16,
          16,
          17,
          21,
          29,
          35,
          37,
          40,
          66,
          11,
          5,
          3,
          5,
          3,
          3,
          3,
          3,
          3,
          3,
          5,
          3,
          3,
          3,
          3,
          3,
          3,
          4,
          3,
          4,
          4,
          5,
          3,
          4,
          4,
          4,
          3,
          4,
          5,
          5,
          5,
          27,
          26,
          57,
          83,
          24,
          14,
          22,
          16,
          3,
          11,
          10,
          8,
          4,
          4,
          7,
          27,
          22,
          20,
          120,
          23
         ],
         "y0": " ",
         "yaxis": "y"
        }
       ],
       "layout": {
        "boxmode": "group",
        "height": 1000,
        "legend": {
         "tracegroupgap": 0
        },
        "margin": {
         "t": 60
        },
        "template": {
         "data": {
          "bar": [
           {
            "error_x": {
             "color": "#2a3f5f"
            },
            "error_y": {
             "color": "#2a3f5f"
            },
            "marker": {
             "line": {
              "color": "white",
              "width": 0.5
             }
            },
            "type": "bar"
           }
          ],
          "barpolar": [
           {
            "marker": {
             "line": {
              "color": "white",
              "width": 0.5
             }
            },
            "type": "barpolar"
           }
          ],
          "carpet": [
           {
            "aaxis": {
             "endlinecolor": "#2a3f5f",
             "gridcolor": "#C8D4E3",
             "linecolor": "#C8D4E3",
             "minorgridcolor": "#C8D4E3",
             "startlinecolor": "#2a3f5f"
            },
            "baxis": {
             "endlinecolor": "#2a3f5f",
             "gridcolor": "#C8D4E3",
             "linecolor": "#C8D4E3",
             "minorgridcolor": "#C8D4E3",
             "startlinecolor": "#2a3f5f"
            },
            "type": "carpet"
           }
          ],
          "choropleth": [
           {
            "colorbar": {
             "outlinewidth": 0,
             "ticks": ""
            },
            "type": "choropleth"
           }
          ],
          "contour": [
           {
            "colorbar": {
             "outlinewidth": 0,
             "ticks": ""
            },
            "colorscale": [
             [
              0,
              "#0d0887"
             ],
             [
              0.1111111111111111,
              "#46039f"
             ],
             [
              0.2222222222222222,
              "#7201a8"
             ],
             [
              0.3333333333333333,
              "#9c179e"
             ],
             [
              0.4444444444444444,
              "#bd3786"
             ],
             [
              0.5555555555555556,
              "#d8576b"
             ],
             [
              0.6666666666666666,
              "#ed7953"
             ],
             [
              0.7777777777777778,
              "#fb9f3a"
             ],
             [
              0.8888888888888888,
              "#fdca26"
             ],
             [
              1,
              "#f0f921"
             ]
            ],
            "type": "contour"
           }
          ],
          "contourcarpet": [
           {
            "colorbar": {
             "outlinewidth": 0,
             "ticks": ""
            },
            "type": "contourcarpet"
           }
          ],
          "heatmap": [
           {
            "colorbar": {
             "outlinewidth": 0,
             "ticks": ""
            },
            "colorscale": [
             [
              0,
              "#0d0887"
             ],
             [
              0.1111111111111111,
              "#46039f"
             ],
             [
              0.2222222222222222,
              "#7201a8"
             ],
             [
              0.3333333333333333,
              "#9c179e"
             ],
             [
              0.4444444444444444,
              "#bd3786"
             ],
             [
              0.5555555555555556,
              "#d8576b"
             ],
             [
              0.6666666666666666,
              "#ed7953"
             ],
             [
              0.7777777777777778,
              "#fb9f3a"
             ],
             [
              0.8888888888888888,
              "#fdca26"
             ],
             [
              1,
              "#f0f921"
             ]
            ],
            "type": "heatmap"
           }
          ],
          "heatmapgl": [
           {
            "colorbar": {
             "outlinewidth": 0,
             "ticks": ""
            },
            "colorscale": [
             [
              0,
              "#0d0887"
             ],
             [
              0.1111111111111111,
              "#46039f"
             ],
             [
              0.2222222222222222,
              "#7201a8"
             ],
             [
              0.3333333333333333,
              "#9c179e"
             ],
             [
              0.4444444444444444,
              "#bd3786"
             ],
             [
              0.5555555555555556,
              "#d8576b"
             ],
             [
              0.6666666666666666,
              "#ed7953"
             ],
             [
              0.7777777777777778,
              "#fb9f3a"
             ],
             [
              0.8888888888888888,
              "#fdca26"
             ],
             [
              1,
              "#f0f921"
             ]
            ],
            "type": "heatmapgl"
           }
          ],
          "histogram": [
           {
            "marker": {
             "colorbar": {
              "outlinewidth": 0,
              "ticks": ""
             }
            },
            "type": "histogram"
           }
          ],
          "histogram2d": [
           {
            "colorbar": {
             "outlinewidth": 0,
             "ticks": ""
            },
            "colorscale": [
             [
              0,
              "#0d0887"
             ],
             [
              0.1111111111111111,
              "#46039f"
             ],
             [
              0.2222222222222222,
              "#7201a8"
             ],
             [
              0.3333333333333333,
              "#9c179e"
             ],
             [
              0.4444444444444444,
              "#bd3786"
             ],
             [
              0.5555555555555556,
              "#d8576b"
             ],
             [
              0.6666666666666666,
              "#ed7953"
             ],
             [
              0.7777777777777778,
              "#fb9f3a"
             ],
             [
              0.8888888888888888,
              "#fdca26"
             ],
             [
              1,
              "#f0f921"
             ]
            ],
            "type": "histogram2d"
           }
          ],
          "histogram2dcontour": [
           {
            "colorbar": {
             "outlinewidth": 0,
             "ticks": ""
            },
            "colorscale": [
             [
              0,
              "#0d0887"
             ],
             [
              0.1111111111111111,
              "#46039f"
             ],
             [
              0.2222222222222222,
              "#7201a8"
             ],
             [
              0.3333333333333333,
              "#9c179e"
             ],
             [
              0.4444444444444444,
              "#bd3786"
             ],
             [
              0.5555555555555556,
              "#d8576b"
             ],
             [
              0.6666666666666666,
              "#ed7953"
             ],
             [
              0.7777777777777778,
              "#fb9f3a"
             ],
             [
              0.8888888888888888,
              "#fdca26"
             ],
             [
              1,
              "#f0f921"
             ]
            ],
            "type": "histogram2dcontour"
           }
          ],
          "mesh3d": [
           {
            "colorbar": {
             "outlinewidth": 0,
             "ticks": ""
            },
            "type": "mesh3d"
           }
          ],
          "parcoords": [
           {
            "line": {
             "colorbar": {
              "outlinewidth": 0,
              "ticks": ""
             }
            },
            "type": "parcoords"
           }
          ],
          "pie": [
           {
            "automargin": true,
            "type": "pie"
           }
          ],
          "scatter": [
           {
            "marker": {
             "colorbar": {
              "outlinewidth": 0,
              "ticks": ""
             }
            },
            "type": "scatter"
           }
          ],
          "scatter3d": [
           {
            "line": {
             "colorbar": {
              "outlinewidth": 0,
              "ticks": ""
             }
            },
            "marker": {
             "colorbar": {
              "outlinewidth": 0,
              "ticks": ""
             }
            },
            "type": "scatter3d"
           }
          ],
          "scattercarpet": [
           {
            "marker": {
             "colorbar": {
              "outlinewidth": 0,
              "ticks": ""
             }
            },
            "type": "scattercarpet"
           }
          ],
          "scattergeo": [
           {
            "marker": {
             "colorbar": {
              "outlinewidth": 0,
              "ticks": ""
             }
            },
            "type": "scattergeo"
           }
          ],
          "scattergl": [
           {
            "marker": {
             "colorbar": {
              "outlinewidth": 0,
              "ticks": ""
             }
            },
            "type": "scattergl"
           }
          ],
          "scattermapbox": [
           {
            "marker": {
             "colorbar": {
              "outlinewidth": 0,
              "ticks": ""
             }
            },
            "type": "scattermapbox"
           }
          ],
          "scatterpolar": [
           {
            "marker": {
             "colorbar": {
              "outlinewidth": 0,
              "ticks": ""
             }
            },
            "type": "scatterpolar"
           }
          ],
          "scatterpolargl": [
           {
            "marker": {
             "colorbar": {
              "outlinewidth": 0,
              "ticks": ""
             }
            },
            "type": "scatterpolargl"
           }
          ],
          "scatterternary": [
           {
            "marker": {
             "colorbar": {
              "outlinewidth": 0,
              "ticks": ""
             }
            },
            "type": "scatterternary"
           }
          ],
          "surface": [
           {
            "colorbar": {
             "outlinewidth": 0,
             "ticks": ""
            },
            "colorscale": [
             [
              0,
              "#0d0887"
             ],
             [
              0.1111111111111111,
              "#46039f"
             ],
             [
              0.2222222222222222,
              "#7201a8"
             ],
             [
              0.3333333333333333,
              "#9c179e"
             ],
             [
              0.4444444444444444,
              "#bd3786"
             ],
             [
              0.5555555555555556,
              "#d8576b"
             ],
             [
              0.6666666666666666,
              "#ed7953"
             ],
             [
              0.7777777777777778,
              "#fb9f3a"
             ],
             [
              0.8888888888888888,
              "#fdca26"
             ],
             [
              1,
              "#f0f921"
             ]
            ],
            "type": "surface"
           }
          ],
          "table": [
           {
            "cells": {
             "fill": {
              "color": "#EBF0F8"
             },
             "line": {
              "color": "white"
             }
            },
            "header": {
             "fill": {
              "color": "#C8D4E3"
             },
             "line": {
              "color": "white"
             }
            },
            "type": "table"
           }
          ]
         },
         "layout": {
          "annotationdefaults": {
           "arrowcolor": "#2a3f5f",
           "arrowhead": 0,
           "arrowwidth": 1
          },
          "coloraxis": {
           "colorbar": {
            "outlinewidth": 0,
            "ticks": ""
           }
          },
          "colorscale": {
           "diverging": [
            [
             0,
             "#8e0152"
            ],
            [
             0.1,
             "#c51b7d"
            ],
            [
             0.2,
             "#de77ae"
            ],
            [
             0.3,
             "#f1b6da"
            ],
            [
             0.4,
             "#fde0ef"
            ],
            [
             0.5,
             "#f7f7f7"
            ],
            [
             0.6,
             "#e6f5d0"
            ],
            [
             0.7,
             "#b8e186"
            ],
            [
             0.8,
             "#7fbc41"
            ],
            [
             0.9,
             "#4d9221"
            ],
            [
             1,
             "#276419"
            ]
           ],
           "sequential": [
            [
             0,
             "#0d0887"
            ],
            [
             0.1111111111111111,
             "#46039f"
            ],
            [
             0.2222222222222222,
             "#7201a8"
            ],
            [
             0.3333333333333333,
             "#9c179e"
            ],
            [
             0.4444444444444444,
             "#bd3786"
            ],
            [
             0.5555555555555556,
             "#d8576b"
            ],
            [
             0.6666666666666666,
             "#ed7953"
            ],
            [
             0.7777777777777778,
             "#fb9f3a"
            ],
            [
             0.8888888888888888,
             "#fdca26"
            ],
            [
             1,
             "#f0f921"
            ]
           ],
           "sequentialminus": [
            [
             0,
             "#0d0887"
            ],
            [
             0.1111111111111111,
             "#46039f"
            ],
            [
             0.2222222222222222,
             "#7201a8"
            ],
            [
             0.3333333333333333,
             "#9c179e"
            ],
            [
             0.4444444444444444,
             "#bd3786"
            ],
            [
             0.5555555555555556,
             "#d8576b"
            ],
            [
             0.6666666666666666,
             "#ed7953"
            ],
            [
             0.7777777777777778,
             "#fb9f3a"
            ],
            [
             0.8888888888888888,
             "#fdca26"
            ],
            [
             1,
             "#f0f921"
            ]
           ]
          },
          "colorway": [
           "#636efa",
           "#EF553B",
           "#00cc96",
           "#ab63fa",
           "#FFA15A",
           "#19d3f3",
           "#FF6692",
           "#B6E880",
           "#FF97FF",
           "#FECB52"
          ],
          "font": {
           "color": "#2a3f5f"
          },
          "geo": {
           "bgcolor": "white",
           "lakecolor": "white",
           "landcolor": "white",
           "showlakes": true,
           "showland": true,
           "subunitcolor": "#C8D4E3"
          },
          "hoverlabel": {
           "align": "left"
          },
          "hovermode": "closest",
          "mapbox": {
           "style": "light"
          },
          "paper_bgcolor": "white",
          "plot_bgcolor": "white",
          "polar": {
           "angularaxis": {
            "gridcolor": "#EBF0F8",
            "linecolor": "#EBF0F8",
            "ticks": ""
           },
           "bgcolor": "white",
           "radialaxis": {
            "gridcolor": "#EBF0F8",
            "linecolor": "#EBF0F8",
            "ticks": ""
           }
          },
          "scene": {
           "xaxis": {
            "backgroundcolor": "white",
            "gridcolor": "#DFE8F3",
            "gridwidth": 2,
            "linecolor": "#EBF0F8",
            "showbackground": true,
            "ticks": "",
            "zerolinecolor": "#EBF0F8"
           },
           "yaxis": {
            "backgroundcolor": "white",
            "gridcolor": "#DFE8F3",
            "gridwidth": 2,
            "linecolor": "#EBF0F8",
            "showbackground": true,
            "ticks": "",
            "zerolinecolor": "#EBF0F8"
           },
           "zaxis": {
            "backgroundcolor": "white",
            "gridcolor": "#DFE8F3",
            "gridwidth": 2,
            "linecolor": "#EBF0F8",
            "showbackground": true,
            "ticks": "",
            "zerolinecolor": "#EBF0F8"
           }
          },
          "shapedefaults": {
           "line": {
            "color": "#2a3f5f"
           }
          },
          "ternary": {
           "aaxis": {
            "gridcolor": "#DFE8F3",
            "linecolor": "#A2B1C6",
            "ticks": ""
           },
           "baxis": {
            "gridcolor": "#DFE8F3",
            "linecolor": "#A2B1C6",
            "ticks": ""
           },
           "bgcolor": "white",
           "caxis": {
            "gridcolor": "#DFE8F3",
            "linecolor": "#A2B1C6",
            "ticks": ""
           }
          },
          "title": {
           "x": 0.05
          },
          "xaxis": {
           "automargin": true,
           "gridcolor": "#EBF0F8",
           "linecolor": "#EBF0F8",
           "ticks": "",
           "title": {
            "standoff": 15
           },
           "zerolinecolor": "#EBF0F8",
           "zerolinewidth": 2
          },
          "yaxis": {
           "automargin": true,
           "gridcolor": "#EBF0F8",
           "linecolor": "#EBF0F8",
           "ticks": "",
           "title": {
            "standoff": 15
           },
           "zerolinecolor": "#EBF0F8",
           "zerolinewidth": 2
          }
         }
        },
        "xaxis": {
         "anchor": "y",
         "domain": [
          0,
          1
         ],
         "title": {
          "text": "num_known"
         }
        },
        "yaxis": {
         "anchor": "x",
         "domain": [
          0,
          1
         ],
         "title": {
          "text": "membership"
         },
         "type": "log"
        }
       }
      },
      "text/html": [
       "<div>\n",
       "        \n",
       "        \n",
       "            <div id=\"f5e6489d-7298-4816-868e-2b984494fafe\" class=\"plotly-graph-div\" style=\"height:1000px; width:100%;\"></div>\n",
       "            <script type=\"text/javascript\">\n",
       "                require([\"plotly\"], function(Plotly) {\n",
       "                    window.PLOTLYENV=window.PLOTLYENV || {};\n",
       "                    \n",
       "                if (document.getElementById(\"f5e6489d-7298-4816-868e-2b984494fafe\")) {\n",
       "                    Plotly.newPlot(\n",
       "                        'f5e6489d-7298-4816-868e-2b984494fafe',\n",
       "                        [{\"alignmentgroup\": \"True\", \"hovertemplate\": \"<b>%{hovertext}</b><br><br>num_known=%{x}<br>membership=%{y}<extra></extra>\", \"hovertext\": [274.0, 122.0, 123.0, 124.0, 213.0, 126.0, 127.0, 128.0, 129.0, 130.0, 212.0, 132.0, 133.0, 211.0, 210.0, 209.0, 273.0, 208.0, 139.0, 207.0, 121.0, 120.0, 214.0, 118.0, 192.0, 222.0, 98.0, 99.0, 100.0, 101.0, 102.0, 104.0, 105.0, 141.0, 220.0, 108.0, 109.0, 219.0, 111.0, 218.0, 113.0, 217.0, 216.0, 116.0, 107.0, 95.0, 142.0, 144.0, 172.0, 174.0, 175.0, 196.0, 177.0, 178.0, 179.0, 180.0, 181.0, 182.0, 183.0, 184.0, 185.0, 186.0, 195.0, 188.0, 189.0, 190.0, 191.0, 198.0, 170.0, 169.0, 168.0, 145.0, 146.0, 147.0, 148.0, 206.0, 205.0, 204.0, 152.0, 154.0, 143.0, 156.0, 158.0, 159.0, 161.0, 162.0, 200.0, 164.0, 199.0, 166.0, 167.0, 157.0, 224.0, 223.0, 92.0, 28.0, 251.0, 30.0, 33.0, 34.0, 35.0, 248.0, 247.0, 252.0, 38.0, 246.0, 245.0, 42.0, 43.0, 44.0, 225.0, 244.0, 242.0, 39.0, 253.0, 254.0, 24.0, 272.0, 271.0, 270.0, 5.0, 268.0, 267.0, 265.0, 263.0, 262.0, 13.0, 14.0, 260.0, 259.0, 258.0, 257.0, 256.0, 21.0, 255.0, 23.0, 241.0, 50.0, 45.0, 52.0, 71.0, 51.0, 73.0, 75.0, 76.0, 231.0, 78.0, 79.0, 80.0, 81.0, 230.0, 83.0, 84.0, 85.0, 229.0, 228.0, 88.0, 226.0, 91.0, 233.0, 234.0, 72.0, 194.0, 237.0, 60.0, 68.0, 61.0, 236.0, 63.0, 56.0, 239.0, 240.0, 54.0, 66.0, 67.0, 53.0, 65.0, 238.0, 266.0, 269.0, 227.0, 243.0, 201.0, 221.0, 197.0, 235.0, 203.0, 202.0, 232.0, 249.0, 215.0, 250.0, 264.0, 261.0, 0.0, 187.0, 86.0, 82.0, 77.0, 74.0, 70.0, 193.0, 64.0, 62.0, 59.0, 58.0, 55.0, 48.0, 47.0, 87.0, 46.0, 37.0, 36.0, 32.0, 29.0, 27.0, 26.0, 22.0, 19.0, 9.0, 8.0, 7.0, 6.0, 3.0, 41.0, 89.0, 137.0, 93.0, 160.0, 155.0, 163.0, 153.0, 151.0, 150.0, 90.0, 149.0, 165.0, 138.0, 171.0, 136.0, 135.0, 131.0, 134.0, 110.0, 125.0, 94.0, 176.0, 117.0, 115.0, 114.0, 173.0, 106.0, 103.0, 97.0, 96.0, 10.0, 12.0, 4.0, 2.0, 15.0, 31.0, 17.0, 25.0, 140.0, 40.0, 49.0, 57.0, 119.0, 112.0, 69.0, 11.0, 18.0, 20.0, 1.0, 16.0], \"legendgroup\": \"\", \"marker\": {\"color\": \"#636efa\"}, \"name\": \"\", \"notched\": false, \"offsetgroup\": \"\", \"orientation\": \"v\", \"showlegend\": false, \"type\": \"box\", \"x\": [0, 0, 0, 0, 0, 0, 0, 0, 0, 0, 0, 0, 0, 0, 0, 0, 0, 0, 0, 0, 0, 0, 0, 0, 0, 0, 0, 0, 0, 0, 0, 0, 0, 0, 0, 0, 0, 0, 0, 0, 0, 0, 0, 0, 0, 0, 0, 0, 0, 0, 0, 0, 0, 0, 0, 0, 0, 0, 0, 0, 0, 0, 0, 0, 0, 0, 0, 0, 0, 0, 0, 0, 0, 0, 0, 0, 0, 0, 0, 0, 0, 0, 0, 0, 0, 0, 0, 0, 0, 0, 0, 0, 0, 0, 0, 0, 0, 0, 0, 0, 0, 0, 0, 0, 0, 0, 0, 0, 0, 0, 0, 0, 0, 0, 0, 0, 0, 0, 0, 0, 0, 0, 0, 0, 0, 0, 0, 0, 0, 0, 0, 0, 0, 0, 0, 0, 0, 0, 0, 0, 0, 0, 0, 0, 0, 0, 0, 0, 0, 0, 0, 0, 0, 0, 0, 0, 0, 0, 0, 0, 0, 0, 0, 0, 0, 0, 0, 0, 0, 0, 0, 0, 0, 0, 0, 0, 0, 0, 1, 1, 1, 1, 1, 1, 1, 1, 1, 1, 1, 1, 1, 1, 1, 1, 1, 1, 1, 1, 1, 1, 1, 1, 1, 1, 1, 1, 1, 1, 1, 1, 1, 1, 1, 1, 1, 1, 1, 1, 1, 1, 1, 1, 1, 1, 1, 1, 1, 1, 1, 1, 1, 1, 1, 1, 1, 1, 1, 1, 1, 1, 1, 1, 1, 1, 1, 1, 1, 1, 1, 1, 1, 1, 1, 1, 1, 2, 2, 2, 2, 2, 2, 2, 2, 2, 2, 2, 2, 2, 2, 2, 3, 4, 4, 4, 4], \"x0\": \" \", \"xaxis\": \"x\", \"y\": [2, 4, 4, 4, 2, 4, 4, 4, 4, 4, 2, 4, 3, 2, 2, 2, 2, 2, 3, 2, 4, 4, 2, 4, 2, 2, 5, 5, 5, 5, 5, 4, 4, 3, 2, 4, 4, 2, 4, 2, 4, 2, 2, 4, 4, 5, 3, 3, 3, 3, 3, 2, 3, 3, 3, 3, 2, 2, 2, 2, 2, 2, 2, 2, 2, 2, 2, 2, 3, 3, 3, 3, 3, 3, 3, 2, 2, 2, 3, 3, 3, 3, 3, 3, 3, 3, 2, 3, 2, 3, 3, 3, 2, 2, 5, 16, 2, 15, 12, 12, 12, 2, 2, 2, 12, 2, 2, 11, 11, 11, 2, 2, 2, 11, 2, 2, 17, 2, 2, 2, 43, 2, 2, 2, 2, 2, 25, 24, 2, 2, 2, 2, 2, 18, 2, 17, 2, 9, 11, 9, 7, 9, 7, 7, 7, 2, 6, 6, 6, 6, 2, 6, 6, 6, 2, 2, 5, 2, 5, 2, 2, 7, 2, 2, 8, 7, 8, 2, 8, 8, 2, 2, 9, 7, 7, 9, 7, 2, 2, 2, 2, 2, 2, 2, 2, 2, 2, 2, 2, 2, 2, 2, 2, 2, 442, 2, 5, 6, 6, 7, 7, 2, 8, 8, 8, 8, 8, 10, 10, 5, 10, 12, 12, 13, 16, 16, 16, 17, 21, 29, 35, 37, 40, 66, 11, 5, 3, 5, 3, 3, 3, 3, 3, 3, 5, 3, 3, 3, 3, 3, 3, 4, 3, 4, 4, 5, 3, 4, 4, 4, 3, 4, 5, 5, 5, 27, 26, 57, 83, 24, 14, 22, 16, 3, 11, 10, 8, 4, 4, 7, 27, 22, 20, 120, 23], \"y0\": \" \", \"yaxis\": \"y\"}],\n",
       "                        {\"boxmode\": \"group\", \"height\": 1000, \"legend\": {\"tracegroupgap\": 0}, \"margin\": {\"t\": 60}, \"template\": {\"data\": {\"bar\": [{\"error_x\": {\"color\": \"#2a3f5f\"}, \"error_y\": {\"color\": \"#2a3f5f\"}, \"marker\": {\"line\": {\"color\": \"white\", \"width\": 0.5}}, \"type\": \"bar\"}], \"barpolar\": [{\"marker\": {\"line\": {\"color\": \"white\", \"width\": 0.5}}, \"type\": \"barpolar\"}], \"carpet\": [{\"aaxis\": {\"endlinecolor\": \"#2a3f5f\", \"gridcolor\": \"#C8D4E3\", \"linecolor\": \"#C8D4E3\", \"minorgridcolor\": \"#C8D4E3\", \"startlinecolor\": \"#2a3f5f\"}, \"baxis\": {\"endlinecolor\": \"#2a3f5f\", \"gridcolor\": \"#C8D4E3\", \"linecolor\": \"#C8D4E3\", \"minorgridcolor\": \"#C8D4E3\", \"startlinecolor\": \"#2a3f5f\"}, \"type\": \"carpet\"}], \"choropleth\": [{\"colorbar\": {\"outlinewidth\": 0, \"ticks\": \"\"}, \"type\": \"choropleth\"}], \"contour\": [{\"colorbar\": {\"outlinewidth\": 0, \"ticks\": \"\"}, \"colorscale\": [[0.0, \"#0d0887\"], [0.1111111111111111, \"#46039f\"], [0.2222222222222222, \"#7201a8\"], [0.3333333333333333, \"#9c179e\"], [0.4444444444444444, \"#bd3786\"], [0.5555555555555556, \"#d8576b\"], [0.6666666666666666, \"#ed7953\"], [0.7777777777777778, \"#fb9f3a\"], [0.8888888888888888, \"#fdca26\"], [1.0, \"#f0f921\"]], \"type\": \"contour\"}], \"contourcarpet\": [{\"colorbar\": {\"outlinewidth\": 0, \"ticks\": \"\"}, \"type\": \"contourcarpet\"}], \"heatmap\": [{\"colorbar\": {\"outlinewidth\": 0, \"ticks\": \"\"}, \"colorscale\": [[0.0, \"#0d0887\"], [0.1111111111111111, \"#46039f\"], [0.2222222222222222, \"#7201a8\"], [0.3333333333333333, \"#9c179e\"], [0.4444444444444444, \"#bd3786\"], [0.5555555555555556, \"#d8576b\"], [0.6666666666666666, \"#ed7953\"], [0.7777777777777778, \"#fb9f3a\"], [0.8888888888888888, \"#fdca26\"], [1.0, \"#f0f921\"]], \"type\": \"heatmap\"}], \"heatmapgl\": [{\"colorbar\": {\"outlinewidth\": 0, \"ticks\": \"\"}, \"colorscale\": [[0.0, \"#0d0887\"], [0.1111111111111111, \"#46039f\"], [0.2222222222222222, \"#7201a8\"], [0.3333333333333333, \"#9c179e\"], [0.4444444444444444, \"#bd3786\"], [0.5555555555555556, \"#d8576b\"], [0.6666666666666666, \"#ed7953\"], [0.7777777777777778, \"#fb9f3a\"], [0.8888888888888888, \"#fdca26\"], [1.0, \"#f0f921\"]], \"type\": \"heatmapgl\"}], \"histogram\": [{\"marker\": {\"colorbar\": {\"outlinewidth\": 0, \"ticks\": \"\"}}, \"type\": \"histogram\"}], \"histogram2d\": [{\"colorbar\": {\"outlinewidth\": 0, \"ticks\": \"\"}, \"colorscale\": [[0.0, \"#0d0887\"], [0.1111111111111111, \"#46039f\"], [0.2222222222222222, \"#7201a8\"], [0.3333333333333333, \"#9c179e\"], [0.4444444444444444, \"#bd3786\"], [0.5555555555555556, \"#d8576b\"], [0.6666666666666666, \"#ed7953\"], [0.7777777777777778, \"#fb9f3a\"], [0.8888888888888888, \"#fdca26\"], [1.0, \"#f0f921\"]], \"type\": \"histogram2d\"}], \"histogram2dcontour\": [{\"colorbar\": {\"outlinewidth\": 0, \"ticks\": \"\"}, \"colorscale\": [[0.0, \"#0d0887\"], [0.1111111111111111, \"#46039f\"], [0.2222222222222222, \"#7201a8\"], [0.3333333333333333, \"#9c179e\"], [0.4444444444444444, \"#bd3786\"], [0.5555555555555556, \"#d8576b\"], [0.6666666666666666, \"#ed7953\"], [0.7777777777777778, \"#fb9f3a\"], [0.8888888888888888, \"#fdca26\"], [1.0, \"#f0f921\"]], \"type\": \"histogram2dcontour\"}], \"mesh3d\": [{\"colorbar\": {\"outlinewidth\": 0, \"ticks\": \"\"}, \"type\": \"mesh3d\"}], \"parcoords\": [{\"line\": {\"colorbar\": {\"outlinewidth\": 0, \"ticks\": \"\"}}, \"type\": \"parcoords\"}], \"pie\": [{\"automargin\": true, \"type\": \"pie\"}], \"scatter\": [{\"marker\": {\"colorbar\": {\"outlinewidth\": 0, \"ticks\": \"\"}}, \"type\": \"scatter\"}], \"scatter3d\": [{\"line\": {\"colorbar\": {\"outlinewidth\": 0, \"ticks\": \"\"}}, \"marker\": {\"colorbar\": {\"outlinewidth\": 0, \"ticks\": \"\"}}, \"type\": \"scatter3d\"}], \"scattercarpet\": [{\"marker\": {\"colorbar\": {\"outlinewidth\": 0, \"ticks\": \"\"}}, \"type\": \"scattercarpet\"}], \"scattergeo\": [{\"marker\": {\"colorbar\": {\"outlinewidth\": 0, \"ticks\": \"\"}}, \"type\": \"scattergeo\"}], \"scattergl\": [{\"marker\": {\"colorbar\": {\"outlinewidth\": 0, \"ticks\": \"\"}}, \"type\": \"scattergl\"}], \"scattermapbox\": [{\"marker\": {\"colorbar\": {\"outlinewidth\": 0, \"ticks\": \"\"}}, \"type\": \"scattermapbox\"}], \"scatterpolar\": [{\"marker\": {\"colorbar\": {\"outlinewidth\": 0, \"ticks\": \"\"}}, \"type\": \"scatterpolar\"}], \"scatterpolargl\": [{\"marker\": {\"colorbar\": {\"outlinewidth\": 0, \"ticks\": \"\"}}, \"type\": \"scatterpolargl\"}], \"scatterternary\": [{\"marker\": {\"colorbar\": {\"outlinewidth\": 0, \"ticks\": \"\"}}, \"type\": \"scatterternary\"}], \"surface\": [{\"colorbar\": {\"outlinewidth\": 0, \"ticks\": \"\"}, \"colorscale\": [[0.0, \"#0d0887\"], [0.1111111111111111, \"#46039f\"], [0.2222222222222222, \"#7201a8\"], [0.3333333333333333, \"#9c179e\"], [0.4444444444444444, \"#bd3786\"], [0.5555555555555556, \"#d8576b\"], [0.6666666666666666, \"#ed7953\"], [0.7777777777777778, \"#fb9f3a\"], [0.8888888888888888, \"#fdca26\"], [1.0, \"#f0f921\"]], \"type\": \"surface\"}], \"table\": [{\"cells\": {\"fill\": {\"color\": \"#EBF0F8\"}, \"line\": {\"color\": \"white\"}}, \"header\": {\"fill\": {\"color\": \"#C8D4E3\"}, \"line\": {\"color\": \"white\"}}, \"type\": \"table\"}]}, \"layout\": {\"annotationdefaults\": {\"arrowcolor\": \"#2a3f5f\", \"arrowhead\": 0, \"arrowwidth\": 1}, \"coloraxis\": {\"colorbar\": {\"outlinewidth\": 0, \"ticks\": \"\"}}, \"colorscale\": {\"diverging\": [[0, \"#8e0152\"], [0.1, \"#c51b7d\"], [0.2, \"#de77ae\"], [0.3, \"#f1b6da\"], [0.4, \"#fde0ef\"], [0.5, \"#f7f7f7\"], [0.6, \"#e6f5d0\"], [0.7, \"#b8e186\"], [0.8, \"#7fbc41\"], [0.9, \"#4d9221\"], [1, \"#276419\"]], \"sequential\": [[0.0, \"#0d0887\"], [0.1111111111111111, \"#46039f\"], [0.2222222222222222, \"#7201a8\"], [0.3333333333333333, \"#9c179e\"], [0.4444444444444444, \"#bd3786\"], [0.5555555555555556, \"#d8576b\"], [0.6666666666666666, \"#ed7953\"], [0.7777777777777778, \"#fb9f3a\"], [0.8888888888888888, \"#fdca26\"], [1.0, \"#f0f921\"]], \"sequentialminus\": [[0.0, \"#0d0887\"], [0.1111111111111111, \"#46039f\"], [0.2222222222222222, \"#7201a8\"], [0.3333333333333333, \"#9c179e\"], [0.4444444444444444, \"#bd3786\"], [0.5555555555555556, \"#d8576b\"], [0.6666666666666666, \"#ed7953\"], [0.7777777777777778, \"#fb9f3a\"], [0.8888888888888888, \"#fdca26\"], [1.0, \"#f0f921\"]]}, \"colorway\": [\"#636efa\", \"#EF553B\", \"#00cc96\", \"#ab63fa\", \"#FFA15A\", \"#19d3f3\", \"#FF6692\", \"#B6E880\", \"#FF97FF\", \"#FECB52\"], \"font\": {\"color\": \"#2a3f5f\"}, \"geo\": {\"bgcolor\": \"white\", \"lakecolor\": \"white\", \"landcolor\": \"white\", \"showlakes\": true, \"showland\": true, \"subunitcolor\": \"#C8D4E3\"}, \"hoverlabel\": {\"align\": \"left\"}, \"hovermode\": \"closest\", \"mapbox\": {\"style\": \"light\"}, \"paper_bgcolor\": \"white\", \"plot_bgcolor\": \"white\", \"polar\": {\"angularaxis\": {\"gridcolor\": \"#EBF0F8\", \"linecolor\": \"#EBF0F8\", \"ticks\": \"\"}, \"bgcolor\": \"white\", \"radialaxis\": {\"gridcolor\": \"#EBF0F8\", \"linecolor\": \"#EBF0F8\", \"ticks\": \"\"}}, \"scene\": {\"xaxis\": {\"backgroundcolor\": \"white\", \"gridcolor\": \"#DFE8F3\", \"gridwidth\": 2, \"linecolor\": \"#EBF0F8\", \"showbackground\": true, \"ticks\": \"\", \"zerolinecolor\": \"#EBF0F8\"}, \"yaxis\": {\"backgroundcolor\": \"white\", \"gridcolor\": \"#DFE8F3\", \"gridwidth\": 2, \"linecolor\": \"#EBF0F8\", \"showbackground\": true, \"ticks\": \"\", \"zerolinecolor\": \"#EBF0F8\"}, \"zaxis\": {\"backgroundcolor\": \"white\", \"gridcolor\": \"#DFE8F3\", \"gridwidth\": 2, \"linecolor\": \"#EBF0F8\", \"showbackground\": true, \"ticks\": \"\", \"zerolinecolor\": \"#EBF0F8\"}}, \"shapedefaults\": {\"line\": {\"color\": \"#2a3f5f\"}}, \"ternary\": {\"aaxis\": {\"gridcolor\": \"#DFE8F3\", \"linecolor\": \"#A2B1C6\", \"ticks\": \"\"}, \"baxis\": {\"gridcolor\": \"#DFE8F3\", \"linecolor\": \"#A2B1C6\", \"ticks\": \"\"}, \"bgcolor\": \"white\", \"caxis\": {\"gridcolor\": \"#DFE8F3\", \"linecolor\": \"#A2B1C6\", \"ticks\": \"\"}}, \"title\": {\"x\": 0.05}, \"xaxis\": {\"automargin\": true, \"gridcolor\": \"#EBF0F8\", \"linecolor\": \"#EBF0F8\", \"ticks\": \"\", \"title\": {\"standoff\": 15}, \"zerolinecolor\": \"#EBF0F8\", \"zerolinewidth\": 2}, \"yaxis\": {\"automargin\": true, \"gridcolor\": \"#EBF0F8\", \"linecolor\": \"#EBF0F8\", \"ticks\": \"\", \"title\": {\"standoff\": 15}, \"zerolinecolor\": \"#EBF0F8\", \"zerolinewidth\": 2}}}, \"xaxis\": {\"anchor\": \"y\", \"domain\": [0.0, 1.0], \"title\": {\"text\": \"num_known\"}}, \"yaxis\": {\"anchor\": \"x\", \"domain\": [0.0, 1.0], \"title\": {\"text\": \"membership\"}, \"type\": \"log\"}},\n",
       "                        {\"responsive\": true}\n",
       "                    ).then(function(){\n",
       "                            \n",
       "var gd = document.getElementById('f5e6489d-7298-4816-868e-2b984494fafe');\n",
       "var x = new MutationObserver(function (mutations, observer) {{\n",
       "        var display = window.getComputedStyle(gd).display;\n",
       "        if (!display || display === 'none') {{\n",
       "            console.log([gd, 'removed!']);\n",
       "            Plotly.purge(gd);\n",
       "            observer.disconnect();\n",
       "        }}\n",
       "}});\n",
       "\n",
       "// Listen for the removal of the full notebook cells\n",
       "var notebookContainer = gd.closest('#notebook-container');\n",
       "if (notebookContainer) {{\n",
       "    x.observe(notebookContainer, {childList: true});\n",
       "}}\n",
       "\n",
       "// Listen for the clearing of the current output cell\n",
       "var outputEl = gd.closest('.output');\n",
       "if (outputEl) {{\n",
       "    x.observe(outputEl, {childList: true});\n",
       "}}\n",
       "\n",
       "                        })\n",
       "                };\n",
       "                });\n",
       "            </script>\n",
       "        </div>"
      ]
     },
     "metadata": {},
     "output_type": "display_data"
    }
   ],
   "source": [
    "fig = px.box(\n",
    "    known_frame, x = 'num_known', y = 'membership',\n",
    "    log_y=True, hover_name='clique_idx'\n",
    ")\n",
    "\n",
    "fig.update_layout(height = 1000)"
   ]
  },
  {
   "cell_type": "code",
   "execution_count": 16,
   "metadata": {},
   "outputs": [
    {
     "name": "stdout",
     "output_type": "stream",
     "text": [
      "Total Unknown Clique Motifs : 178 / 275 ( 0.647 )\n"
     ]
    }
   ],
   "source": [
    "num_unknown_motifs = (known_frame.num_known.astype(int) == 0).sum()\n",
    "total_cliques = known_frame.clique_idx.unique().size\n",
    "\n",
    "print(\n",
    "    \"Total Unknown Clique Motifs : {} / {} ( {:.3f} )\".\\\n",
    "    format(num_unknown_motifs, total_cliques, num_unknown_motifs/total_cliques)\n",
    ")\n",
    "\n",
    "# known_frame.clique_idx.unique().size"
   ]
  },
  {
   "cell_type": "markdown",
   "metadata": {},
   "source": [
    "# Motif Distribution"
   ]
  },
  {
   "cell_type": "code",
   "execution_count": 17,
   "metadata": {},
   "outputs": [
    {
     "data": {
      "text/html": [
       "<div>\n",
       "<style scoped>\n",
       "    .dataframe tbody tr th:only-of-type {\n",
       "        vertical-align: middle;\n",
       "    }\n",
       "\n",
       "    .dataframe tbody tr th {\n",
       "        vertical-align: top;\n",
       "    }\n",
       "\n",
       "    .dataframe thead th {\n",
       "        text-align: right;\n",
       "    }\n",
       "</style>\n",
       "<table border=\"1\" class=\"dataframe\">\n",
       "  <thead>\n",
       "    <tr style=\"text-align: right;\">\n",
       "      <th></th>\n",
       "      <th>clique_idx</th>\n",
       "      <th>motif_id</th>\n",
       "      <th>evalue</th>\n",
       "      <th>seq</th>\n",
       "      <th>membership</th>\n",
       "    </tr>\n",
       "  </thead>\n",
       "  <tbody>\n",
       "    <tr>\n",
       "      <th>0</th>\n",
       "      <td>0</td>\n",
       "      <td>MEME-0</td>\n",
       "      <td>0.000000e+00</td>\n",
       "      <td>VIPEELVEEVIP</td>\n",
       "      <td>442</td>\n",
       "    </tr>\n",
       "    <tr>\n",
       "      <th>1</th>\n",
       "      <td>0</td>\n",
       "      <td>MEME-1</td>\n",
       "      <td>0.000000e+00</td>\n",
       "      <td>VVEEVVPEELVE</td>\n",
       "      <td>442</td>\n",
       "    </tr>\n",
       "    <tr>\n",
       "      <th>2</th>\n",
       "      <td>0</td>\n",
       "      <td>MEME-2</td>\n",
       "      <td>5.500000e-302</td>\n",
       "      <td>EVVEEVVPE</td>\n",
       "      <td>442</td>\n",
       "    </tr>\n",
       "    <tr>\n",
       "      <th>3</th>\n",
       "      <td>0</td>\n",
       "      <td>MEME-3</td>\n",
       "      <td>3.800000e-56</td>\n",
       "      <td>EELVEEV</td>\n",
       "      <td>442</td>\n",
       "    </tr>\n",
       "    <tr>\n",
       "      <th>4</th>\n",
       "      <td>0</td>\n",
       "      <td>MEME-4</td>\n",
       "      <td>3.500000e-51</td>\n",
       "      <td>PEELVEE</td>\n",
       "      <td>442</td>\n",
       "    </tr>\n",
       "    <tr>\n",
       "      <th>...</th>\n",
       "      <td>...</td>\n",
       "      <td>...</td>\n",
       "      <td>...</td>\n",
       "      <td>...</td>\n",
       "      <td>...</td>\n",
       "    </tr>\n",
       "    <tr>\n",
       "      <th>328</th>\n",
       "      <td>94</td>\n",
       "      <td>MEME-0</td>\n",
       "      <td>3.400000e-35</td>\n",
       "      <td>NIKGEDNIKNKG</td>\n",
       "      <td>5</td>\n",
       "    </tr>\n",
       "    <tr>\n",
       "      <th>329</th>\n",
       "      <td>95</td>\n",
       "      <td>MEME-0</td>\n",
       "      <td>1.300000e-10</td>\n",
       "      <td>NNDNMND</td>\n",
       "      <td>5</td>\n",
       "    </tr>\n",
       "    <tr>\n",
       "      <th>330</th>\n",
       "      <td>96</td>\n",
       "      <td>MEME-0</td>\n",
       "      <td>6.600000e-25</td>\n",
       "      <td>NDTTHNSYTNKK</td>\n",
       "      <td>5</td>\n",
       "    </tr>\n",
       "    <tr>\n",
       "      <th>331</th>\n",
       "      <td>97</td>\n",
       "      <td>MEME-0</td>\n",
       "      <td>1.800000e-38</td>\n",
       "      <td>DNIEVNNTL</td>\n",
       "      <td>5</td>\n",
       "    </tr>\n",
       "    <tr>\n",
       "      <th>332</th>\n",
       "      <td>98</td>\n",
       "      <td>MEME-0</td>\n",
       "      <td>1.800000e-99</td>\n",
       "      <td>DQKDQKDQKDQK</td>\n",
       "      <td>5</td>\n",
       "    </tr>\n",
       "  </tbody>\n",
       "</table>\n",
       "<p>333 rows × 5 columns</p>\n",
       "</div>"
      ],
      "text/plain": [
       "     clique_idx motif_id         evalue           seq  membership\n",
       "0             0   MEME-0   0.000000e+00  VIPEELVEEVIP         442\n",
       "1             0   MEME-1   0.000000e+00  VVEEVVPEELVE         442\n",
       "2             0   MEME-2  5.500000e-302     EVVEEVVPE         442\n",
       "3             0   MEME-3   3.800000e-56       EELVEEV         442\n",
       "4             0   MEME-4   3.500000e-51       PEELVEE         442\n",
       "..          ...      ...            ...           ...         ...\n",
       "328          94   MEME-0   3.400000e-35  NIKGEDNIKNKG           5\n",
       "329          95   MEME-0   1.300000e-10       NNDNMND           5\n",
       "330          96   MEME-0   6.600000e-25  NDTTHNSYTNKK           5\n",
       "331          97   MEME-0   1.800000e-38     DNIEVNNTL           5\n",
       "332          98   MEME-0   1.800000e-99  DQKDQKDQKDQK           5\n",
       "\n",
       "[333 rows x 5 columns]"
      ]
     },
     "execution_count": 17,
     "metadata": {},
     "output_type": "execute_result"
    }
   ],
   "source": [
    "import scipy\n",
    "\n",
    "motif_seq_frame = []\n",
    "\n",
    "for h, s in seqReader(motif_seq_fn):\n",
    "    _, clique_idx, motif_id, evalue = h.split(\"_\")\n",
    "    motif_seq_frame.append({\n",
    "        \"clique_idx\" : int(clique_idx),\n",
    "        \"motif_id\" : motif_id,\n",
    "        \"evalue\" : float(evalue),\n",
    "        \"seq\" : s\n",
    "    })\n",
    "    \n",
    "motif_seq_frame = pd.DataFrame(motif_seq_frame).merge(clique_motif_frame[[\"clique_idx\", \"membership\"]])\n",
    "motif_seq_frame"
   ]
  },
  {
   "cell_type": "markdown",
   "metadata": {},
   "source": [
    "## Correlation of Membership and Discovered Motifs"
   ]
  },
  {
   "cell_type": "code",
   "execution_count": 18,
   "metadata": {},
   "outputs": [
    {
     "data": {
      "application/vnd.plotly.v1+json": {
       "config": {
        "plotlyServerURL": "https://plot.ly"
       },
       "data": [
        {
         "hovertemplate": "membership=%{x}<br>n_motifs=%{y}<extra></extra>",
         "legendgroup": "",
         "marker": {
          "color": "#636efa",
          "symbol": "circle"
         },
         "mode": "markers",
         "name": "",
         "orientation": "v",
         "showlegend": false,
         "type": "scatter",
         "x": [
          442,
          120,
          83,
          66,
          57,
          43,
          40,
          37,
          35,
          29,
          27,
          27,
          26,
          25,
          24,
          24,
          23,
          22,
          22,
          21,
          20,
          18,
          17,
          17,
          17,
          16,
          16,
          16,
          16,
          16,
          15,
          14,
          13,
          12,
          12,
          12,
          12,
          12,
          12,
          11,
          11,
          11,
          11,
          11,
          11,
          11,
          10,
          10,
          10,
          10,
          9,
          9,
          9,
          9,
          9,
          8,
          8,
          8,
          8,
          8,
          8,
          8,
          8,
          8,
          8,
          7,
          7,
          7,
          7,
          7,
          7,
          7,
          7,
          7,
          7,
          7,
          7,
          6,
          6,
          6,
          6,
          6,
          6,
          6,
          6,
          6,
          5,
          5,
          5,
          5,
          5,
          5,
          5,
          5,
          5,
          5,
          5,
          5,
          5,
          5,
          5,
          5,
          5,
          4,
          4,
          4,
          4,
          4,
          4,
          4,
          4,
          4,
          4,
          4,
          4,
          4,
          4,
          4,
          4,
          4,
          4,
          4,
          4,
          4,
          4,
          4,
          3,
          3,
          3,
          3,
          3,
          3,
          3,
          3,
          3,
          3,
          3,
          3,
          3,
          3,
          3,
          3,
          3,
          3,
          3,
          3,
          3,
          3,
          3,
          3,
          3,
          3,
          3,
          3,
          3,
          3,
          3,
          3,
          3,
          3,
          3,
          3,
          2,
          2,
          2,
          2,
          2,
          2,
          2,
          2,
          2,
          2,
          2,
          2,
          2,
          2,
          2,
          2,
          2,
          2,
          2,
          2,
          2,
          2,
          2,
          2,
          2,
          2,
          2,
          2,
          2,
          2,
          2,
          2,
          2,
          2,
          2,
          2,
          2,
          2
         ],
         "xaxis": "x",
         "y": [
          5,
          9,
          6,
          7,
          4,
          3,
          4,
          2,
          6,
          2,
          4,
          4,
          3,
          2,
          4,
          2,
          5,
          4,
          4,
          4,
          5,
          2,
          1,
          5,
          2,
          4,
          2,
          3,
          2,
          2,
          3,
          3,
          2,
          4,
          2,
          1,
          2,
          3,
          2,
          1,
          2,
          2,
          2,
          2,
          1,
          1,
          2,
          2,
          3,
          3,
          2,
          1,
          2,
          1,
          1,
          2,
          3,
          2,
          1,
          1,
          2,
          1,
          1,
          1,
          2,
          1,
          1,
          1,
          2,
          3,
          1,
          1,
          1,
          1,
          2,
          1,
          1,
          1,
          2,
          1,
          1,
          1,
          2,
          1,
          1,
          1,
          1,
          2,
          1,
          1,
          1,
          1,
          1,
          2,
          1,
          1,
          1,
          1,
          1,
          1,
          1,
          1,
          1,
          1,
          1,
          1,
          1,
          1,
          1,
          1,
          2,
          1,
          2,
          2,
          2,
          1,
          2,
          1,
          1,
          1,
          1,
          1,
          1,
          1,
          2,
          1,
          1,
          1,
          1,
          1,
          1,
          1,
          1,
          2,
          2,
          1,
          1,
          2,
          2,
          1,
          1,
          1,
          1,
          1,
          1,
          1,
          1,
          1,
          1,
          1,
          1,
          1,
          1,
          1,
          1,
          1,
          1,
          2,
          1,
          1,
          1,
          1,
          1,
          1,
          1,
          1,
          1,
          1,
          1,
          1,
          1,
          1,
          1,
          1,
          1,
          1,
          1,
          1,
          1,
          1,
          1,
          2,
          1,
          1,
          1,
          1,
          1,
          1,
          1,
          1,
          1,
          1,
          1,
          1,
          1,
          1,
          1,
          1,
          1,
          1
         ],
         "yaxis": "y"
        }
       ],
       "layout": {
        "legend": {
         "tracegroupgap": 0
        },
        "margin": {
         "t": 60
        },
        "template": {
         "data": {
          "bar": [
           {
            "error_x": {
             "color": "#2a3f5f"
            },
            "error_y": {
             "color": "#2a3f5f"
            },
            "marker": {
             "line": {
              "color": "white",
              "width": 0.5
             }
            },
            "type": "bar"
           }
          ],
          "barpolar": [
           {
            "marker": {
             "line": {
              "color": "white",
              "width": 0.5
             }
            },
            "type": "barpolar"
           }
          ],
          "carpet": [
           {
            "aaxis": {
             "endlinecolor": "#2a3f5f",
             "gridcolor": "#C8D4E3",
             "linecolor": "#C8D4E3",
             "minorgridcolor": "#C8D4E3",
             "startlinecolor": "#2a3f5f"
            },
            "baxis": {
             "endlinecolor": "#2a3f5f",
             "gridcolor": "#C8D4E3",
             "linecolor": "#C8D4E3",
             "minorgridcolor": "#C8D4E3",
             "startlinecolor": "#2a3f5f"
            },
            "type": "carpet"
           }
          ],
          "choropleth": [
           {
            "colorbar": {
             "outlinewidth": 0,
             "ticks": ""
            },
            "type": "choropleth"
           }
          ],
          "contour": [
           {
            "colorbar": {
             "outlinewidth": 0,
             "ticks": ""
            },
            "colorscale": [
             [
              0,
              "#0d0887"
             ],
             [
              0.1111111111111111,
              "#46039f"
             ],
             [
              0.2222222222222222,
              "#7201a8"
             ],
             [
              0.3333333333333333,
              "#9c179e"
             ],
             [
              0.4444444444444444,
              "#bd3786"
             ],
             [
              0.5555555555555556,
              "#d8576b"
             ],
             [
              0.6666666666666666,
              "#ed7953"
             ],
             [
              0.7777777777777778,
              "#fb9f3a"
             ],
             [
              0.8888888888888888,
              "#fdca26"
             ],
             [
              1,
              "#f0f921"
             ]
            ],
            "type": "contour"
           }
          ],
          "contourcarpet": [
           {
            "colorbar": {
             "outlinewidth": 0,
             "ticks": ""
            },
            "type": "contourcarpet"
           }
          ],
          "heatmap": [
           {
            "colorbar": {
             "outlinewidth": 0,
             "ticks": ""
            },
            "colorscale": [
             [
              0,
              "#0d0887"
             ],
             [
              0.1111111111111111,
              "#46039f"
             ],
             [
              0.2222222222222222,
              "#7201a8"
             ],
             [
              0.3333333333333333,
              "#9c179e"
             ],
             [
              0.4444444444444444,
              "#bd3786"
             ],
             [
              0.5555555555555556,
              "#d8576b"
             ],
             [
              0.6666666666666666,
              "#ed7953"
             ],
             [
              0.7777777777777778,
              "#fb9f3a"
             ],
             [
              0.8888888888888888,
              "#fdca26"
             ],
             [
              1,
              "#f0f921"
             ]
            ],
            "type": "heatmap"
           }
          ],
          "heatmapgl": [
           {
            "colorbar": {
             "outlinewidth": 0,
             "ticks": ""
            },
            "colorscale": [
             [
              0,
              "#0d0887"
             ],
             [
              0.1111111111111111,
              "#46039f"
             ],
             [
              0.2222222222222222,
              "#7201a8"
             ],
             [
              0.3333333333333333,
              "#9c179e"
             ],
             [
              0.4444444444444444,
              "#bd3786"
             ],
             [
              0.5555555555555556,
              "#d8576b"
             ],
             [
              0.6666666666666666,
              "#ed7953"
             ],
             [
              0.7777777777777778,
              "#fb9f3a"
             ],
             [
              0.8888888888888888,
              "#fdca26"
             ],
             [
              1,
              "#f0f921"
             ]
            ],
            "type": "heatmapgl"
           }
          ],
          "histogram": [
           {
            "marker": {
             "colorbar": {
              "outlinewidth": 0,
              "ticks": ""
             }
            },
            "type": "histogram"
           }
          ],
          "histogram2d": [
           {
            "colorbar": {
             "outlinewidth": 0,
             "ticks": ""
            },
            "colorscale": [
             [
              0,
              "#0d0887"
             ],
             [
              0.1111111111111111,
              "#46039f"
             ],
             [
              0.2222222222222222,
              "#7201a8"
             ],
             [
              0.3333333333333333,
              "#9c179e"
             ],
             [
              0.4444444444444444,
              "#bd3786"
             ],
             [
              0.5555555555555556,
              "#d8576b"
             ],
             [
              0.6666666666666666,
              "#ed7953"
             ],
             [
              0.7777777777777778,
              "#fb9f3a"
             ],
             [
              0.8888888888888888,
              "#fdca26"
             ],
             [
              1,
              "#f0f921"
             ]
            ],
            "type": "histogram2d"
           }
          ],
          "histogram2dcontour": [
           {
            "colorbar": {
             "outlinewidth": 0,
             "ticks": ""
            },
            "colorscale": [
             [
              0,
              "#0d0887"
             ],
             [
              0.1111111111111111,
              "#46039f"
             ],
             [
              0.2222222222222222,
              "#7201a8"
             ],
             [
              0.3333333333333333,
              "#9c179e"
             ],
             [
              0.4444444444444444,
              "#bd3786"
             ],
             [
              0.5555555555555556,
              "#d8576b"
             ],
             [
              0.6666666666666666,
              "#ed7953"
             ],
             [
              0.7777777777777778,
              "#fb9f3a"
             ],
             [
              0.8888888888888888,
              "#fdca26"
             ],
             [
              1,
              "#f0f921"
             ]
            ],
            "type": "histogram2dcontour"
           }
          ],
          "mesh3d": [
           {
            "colorbar": {
             "outlinewidth": 0,
             "ticks": ""
            },
            "type": "mesh3d"
           }
          ],
          "parcoords": [
           {
            "line": {
             "colorbar": {
              "outlinewidth": 0,
              "ticks": ""
             }
            },
            "type": "parcoords"
           }
          ],
          "pie": [
           {
            "automargin": true,
            "type": "pie"
           }
          ],
          "scatter": [
           {
            "marker": {
             "colorbar": {
              "outlinewidth": 0,
              "ticks": ""
             }
            },
            "type": "scatter"
           }
          ],
          "scatter3d": [
           {
            "line": {
             "colorbar": {
              "outlinewidth": 0,
              "ticks": ""
             }
            },
            "marker": {
             "colorbar": {
              "outlinewidth": 0,
              "ticks": ""
             }
            },
            "type": "scatter3d"
           }
          ],
          "scattercarpet": [
           {
            "marker": {
             "colorbar": {
              "outlinewidth": 0,
              "ticks": ""
             }
            },
            "type": "scattercarpet"
           }
          ],
          "scattergeo": [
           {
            "marker": {
             "colorbar": {
              "outlinewidth": 0,
              "ticks": ""
             }
            },
            "type": "scattergeo"
           }
          ],
          "scattergl": [
           {
            "marker": {
             "colorbar": {
              "outlinewidth": 0,
              "ticks": ""
             }
            },
            "type": "scattergl"
           }
          ],
          "scattermapbox": [
           {
            "marker": {
             "colorbar": {
              "outlinewidth": 0,
              "ticks": ""
             }
            },
            "type": "scattermapbox"
           }
          ],
          "scatterpolar": [
           {
            "marker": {
             "colorbar": {
              "outlinewidth": 0,
              "ticks": ""
             }
            },
            "type": "scatterpolar"
           }
          ],
          "scatterpolargl": [
           {
            "marker": {
             "colorbar": {
              "outlinewidth": 0,
              "ticks": ""
             }
            },
            "type": "scatterpolargl"
           }
          ],
          "scatterternary": [
           {
            "marker": {
             "colorbar": {
              "outlinewidth": 0,
              "ticks": ""
             }
            },
            "type": "scatterternary"
           }
          ],
          "surface": [
           {
            "colorbar": {
             "outlinewidth": 0,
             "ticks": ""
            },
            "colorscale": [
             [
              0,
              "#0d0887"
             ],
             [
              0.1111111111111111,
              "#46039f"
             ],
             [
              0.2222222222222222,
              "#7201a8"
             ],
             [
              0.3333333333333333,
              "#9c179e"
             ],
             [
              0.4444444444444444,
              "#bd3786"
             ],
             [
              0.5555555555555556,
              "#d8576b"
             ],
             [
              0.6666666666666666,
              "#ed7953"
             ],
             [
              0.7777777777777778,
              "#fb9f3a"
             ],
             [
              0.8888888888888888,
              "#fdca26"
             ],
             [
              1,
              "#f0f921"
             ]
            ],
            "type": "surface"
           }
          ],
          "table": [
           {
            "cells": {
             "fill": {
              "color": "#EBF0F8"
             },
             "line": {
              "color": "white"
             }
            },
            "header": {
             "fill": {
              "color": "#C8D4E3"
             },
             "line": {
              "color": "white"
             }
            },
            "type": "table"
           }
          ]
         },
         "layout": {
          "annotationdefaults": {
           "arrowcolor": "#2a3f5f",
           "arrowhead": 0,
           "arrowwidth": 1
          },
          "coloraxis": {
           "colorbar": {
            "outlinewidth": 0,
            "ticks": ""
           }
          },
          "colorscale": {
           "diverging": [
            [
             0,
             "#8e0152"
            ],
            [
             0.1,
             "#c51b7d"
            ],
            [
             0.2,
             "#de77ae"
            ],
            [
             0.3,
             "#f1b6da"
            ],
            [
             0.4,
             "#fde0ef"
            ],
            [
             0.5,
             "#f7f7f7"
            ],
            [
             0.6,
             "#e6f5d0"
            ],
            [
             0.7,
             "#b8e186"
            ],
            [
             0.8,
             "#7fbc41"
            ],
            [
             0.9,
             "#4d9221"
            ],
            [
             1,
             "#276419"
            ]
           ],
           "sequential": [
            [
             0,
             "#0d0887"
            ],
            [
             0.1111111111111111,
             "#46039f"
            ],
            [
             0.2222222222222222,
             "#7201a8"
            ],
            [
             0.3333333333333333,
             "#9c179e"
            ],
            [
             0.4444444444444444,
             "#bd3786"
            ],
            [
             0.5555555555555556,
             "#d8576b"
            ],
            [
             0.6666666666666666,
             "#ed7953"
            ],
            [
             0.7777777777777778,
             "#fb9f3a"
            ],
            [
             0.8888888888888888,
             "#fdca26"
            ],
            [
             1,
             "#f0f921"
            ]
           ],
           "sequentialminus": [
            [
             0,
             "#0d0887"
            ],
            [
             0.1111111111111111,
             "#46039f"
            ],
            [
             0.2222222222222222,
             "#7201a8"
            ],
            [
             0.3333333333333333,
             "#9c179e"
            ],
            [
             0.4444444444444444,
             "#bd3786"
            ],
            [
             0.5555555555555556,
             "#d8576b"
            ],
            [
             0.6666666666666666,
             "#ed7953"
            ],
            [
             0.7777777777777778,
             "#fb9f3a"
            ],
            [
             0.8888888888888888,
             "#fdca26"
            ],
            [
             1,
             "#f0f921"
            ]
           ]
          },
          "colorway": [
           "#636efa",
           "#EF553B",
           "#00cc96",
           "#ab63fa",
           "#FFA15A",
           "#19d3f3",
           "#FF6692",
           "#B6E880",
           "#FF97FF",
           "#FECB52"
          ],
          "font": {
           "color": "#2a3f5f"
          },
          "geo": {
           "bgcolor": "white",
           "lakecolor": "white",
           "landcolor": "white",
           "showlakes": true,
           "showland": true,
           "subunitcolor": "#C8D4E3"
          },
          "hoverlabel": {
           "align": "left"
          },
          "hovermode": "closest",
          "mapbox": {
           "style": "light"
          },
          "paper_bgcolor": "white",
          "plot_bgcolor": "white",
          "polar": {
           "angularaxis": {
            "gridcolor": "#EBF0F8",
            "linecolor": "#EBF0F8",
            "ticks": ""
           },
           "bgcolor": "white",
           "radialaxis": {
            "gridcolor": "#EBF0F8",
            "linecolor": "#EBF0F8",
            "ticks": ""
           }
          },
          "scene": {
           "xaxis": {
            "backgroundcolor": "white",
            "gridcolor": "#DFE8F3",
            "gridwidth": 2,
            "linecolor": "#EBF0F8",
            "showbackground": true,
            "ticks": "",
            "zerolinecolor": "#EBF0F8"
           },
           "yaxis": {
            "backgroundcolor": "white",
            "gridcolor": "#DFE8F3",
            "gridwidth": 2,
            "linecolor": "#EBF0F8",
            "showbackground": true,
            "ticks": "",
            "zerolinecolor": "#EBF0F8"
           },
           "zaxis": {
            "backgroundcolor": "white",
            "gridcolor": "#DFE8F3",
            "gridwidth": 2,
            "linecolor": "#EBF0F8",
            "showbackground": true,
            "ticks": "",
            "zerolinecolor": "#EBF0F8"
           }
          },
          "shapedefaults": {
           "line": {
            "color": "#2a3f5f"
           }
          },
          "ternary": {
           "aaxis": {
            "gridcolor": "#DFE8F3",
            "linecolor": "#A2B1C6",
            "ticks": ""
           },
           "baxis": {
            "gridcolor": "#DFE8F3",
            "linecolor": "#A2B1C6",
            "ticks": ""
           },
           "bgcolor": "white",
           "caxis": {
            "gridcolor": "#DFE8F3",
            "linecolor": "#A2B1C6",
            "ticks": ""
           }
          },
          "title": {
           "x": 0.05
          },
          "xaxis": {
           "automargin": true,
           "gridcolor": "#EBF0F8",
           "linecolor": "#EBF0F8",
           "ticks": "",
           "title": {
            "standoff": 15
           },
           "zerolinecolor": "#EBF0F8",
           "zerolinewidth": 2
          },
          "yaxis": {
           "automargin": true,
           "gridcolor": "#EBF0F8",
           "linecolor": "#EBF0F8",
           "ticks": "",
           "title": {
            "standoff": 15
           },
           "zerolinecolor": "#EBF0F8",
           "zerolinewidth": 2
          }
         }
        },
        "xaxis": {
         "anchor": "y",
         "domain": [
          0,
          1
         ],
         "title": {
          "text": "membership"
         },
         "type": "log"
        },
        "yaxis": {
         "anchor": "x",
         "domain": [
          0,
          1
         ],
         "title": {
          "text": "n_motifs"
         }
        }
       }
      },
      "text/html": [
       "<div>\n",
       "        \n",
       "        \n",
       "            <div id=\"cbbea8e6-ab8d-4328-912e-3b05c89e1501\" class=\"plotly-graph-div\" style=\"height:525px; width:100%;\"></div>\n",
       "            <script type=\"text/javascript\">\n",
       "                require([\"plotly\"], function(Plotly) {\n",
       "                    window.PLOTLYENV=window.PLOTLYENV || {};\n",
       "                    \n",
       "                if (document.getElementById(\"cbbea8e6-ab8d-4328-912e-3b05c89e1501\")) {\n",
       "                    Plotly.newPlot(\n",
       "                        'cbbea8e6-ab8d-4328-912e-3b05c89e1501',\n",
       "                        [{\"hovertemplate\": \"membership=%{x}<br>n_motifs=%{y}<extra></extra>\", \"legendgroup\": \"\", \"marker\": {\"color\": \"#636efa\", \"symbol\": \"circle\"}, \"mode\": \"markers\", \"name\": \"\", \"orientation\": \"v\", \"showlegend\": false, \"type\": \"scatter\", \"x\": [442, 120, 83, 66, 57, 43, 40, 37, 35, 29, 27, 27, 26, 25, 24, 24, 23, 22, 22, 21, 20, 18, 17, 17, 17, 16, 16, 16, 16, 16, 15, 14, 13, 12, 12, 12, 12, 12, 12, 11, 11, 11, 11, 11, 11, 11, 10, 10, 10, 10, 9, 9, 9, 9, 9, 8, 8, 8, 8, 8, 8, 8, 8, 8, 8, 7, 7, 7, 7, 7, 7, 7, 7, 7, 7, 7, 7, 6, 6, 6, 6, 6, 6, 6, 6, 6, 5, 5, 5, 5, 5, 5, 5, 5, 5, 5, 5, 5, 5, 5, 5, 5, 5, 4, 4, 4, 4, 4, 4, 4, 4, 4, 4, 4, 4, 4, 4, 4, 4, 4, 4, 4, 4, 4, 4, 4, 3, 3, 3, 3, 3, 3, 3, 3, 3, 3, 3, 3, 3, 3, 3, 3, 3, 3, 3, 3, 3, 3, 3, 3, 3, 3, 3, 3, 3, 3, 3, 3, 3, 3, 3, 3, 2, 2, 2, 2, 2, 2, 2, 2, 2, 2, 2, 2, 2, 2, 2, 2, 2, 2, 2, 2, 2, 2, 2, 2, 2, 2, 2, 2, 2, 2, 2, 2, 2, 2, 2, 2, 2, 2], \"xaxis\": \"x\", \"y\": [5, 9, 6, 7, 4, 3, 4, 2, 6, 2, 4, 4, 3, 2, 4, 2, 5, 4, 4, 4, 5, 2, 1, 5, 2, 4, 2, 3, 2, 2, 3, 3, 2, 4, 2, 1, 2, 3, 2, 1, 2, 2, 2, 2, 1, 1, 2, 2, 3, 3, 2, 1, 2, 1, 1, 2, 3, 2, 1, 1, 2, 1, 1, 1, 2, 1, 1, 1, 2, 3, 1, 1, 1, 1, 2, 1, 1, 1, 2, 1, 1, 1, 2, 1, 1, 1, 1, 2, 1, 1, 1, 1, 1, 2, 1, 1, 1, 1, 1, 1, 1, 1, 1, 1, 1, 1, 1, 1, 1, 1, 2, 1, 2, 2, 2, 1, 2, 1, 1, 1, 1, 1, 1, 1, 2, 1, 1, 1, 1, 1, 1, 1, 1, 2, 2, 1, 1, 2, 2, 1, 1, 1, 1, 1, 1, 1, 1, 1, 1, 1, 1, 1, 1, 1, 1, 1, 1, 2, 1, 1, 1, 1, 1, 1, 1, 1, 1, 1, 1, 1, 1, 1, 1, 1, 1, 1, 1, 1, 1, 1, 1, 2, 1, 1, 1, 1, 1, 1, 1, 1, 1, 1, 1, 1, 1, 1, 1, 1, 1, 1], \"yaxis\": \"y\"}],\n",
       "                        {\"legend\": {\"tracegroupgap\": 0}, \"margin\": {\"t\": 60}, \"template\": {\"data\": {\"bar\": [{\"error_x\": {\"color\": \"#2a3f5f\"}, \"error_y\": {\"color\": \"#2a3f5f\"}, \"marker\": {\"line\": {\"color\": \"white\", \"width\": 0.5}}, \"type\": \"bar\"}], \"barpolar\": [{\"marker\": {\"line\": {\"color\": \"white\", \"width\": 0.5}}, \"type\": \"barpolar\"}], \"carpet\": [{\"aaxis\": {\"endlinecolor\": \"#2a3f5f\", \"gridcolor\": \"#C8D4E3\", \"linecolor\": \"#C8D4E3\", \"minorgridcolor\": \"#C8D4E3\", \"startlinecolor\": \"#2a3f5f\"}, \"baxis\": {\"endlinecolor\": \"#2a3f5f\", \"gridcolor\": \"#C8D4E3\", \"linecolor\": \"#C8D4E3\", \"minorgridcolor\": \"#C8D4E3\", \"startlinecolor\": \"#2a3f5f\"}, \"type\": \"carpet\"}], \"choropleth\": [{\"colorbar\": {\"outlinewidth\": 0, \"ticks\": \"\"}, \"type\": \"choropleth\"}], \"contour\": [{\"colorbar\": {\"outlinewidth\": 0, \"ticks\": \"\"}, \"colorscale\": [[0.0, \"#0d0887\"], [0.1111111111111111, \"#46039f\"], [0.2222222222222222, \"#7201a8\"], [0.3333333333333333, \"#9c179e\"], [0.4444444444444444, \"#bd3786\"], [0.5555555555555556, \"#d8576b\"], [0.6666666666666666, \"#ed7953\"], [0.7777777777777778, \"#fb9f3a\"], [0.8888888888888888, \"#fdca26\"], [1.0, \"#f0f921\"]], \"type\": \"contour\"}], \"contourcarpet\": [{\"colorbar\": {\"outlinewidth\": 0, \"ticks\": \"\"}, \"type\": \"contourcarpet\"}], \"heatmap\": [{\"colorbar\": {\"outlinewidth\": 0, \"ticks\": \"\"}, \"colorscale\": [[0.0, \"#0d0887\"], [0.1111111111111111, \"#46039f\"], [0.2222222222222222, \"#7201a8\"], [0.3333333333333333, \"#9c179e\"], [0.4444444444444444, \"#bd3786\"], [0.5555555555555556, \"#d8576b\"], [0.6666666666666666, \"#ed7953\"], [0.7777777777777778, \"#fb9f3a\"], [0.8888888888888888, \"#fdca26\"], [1.0, \"#f0f921\"]], \"type\": \"heatmap\"}], \"heatmapgl\": [{\"colorbar\": {\"outlinewidth\": 0, \"ticks\": \"\"}, \"colorscale\": [[0.0, \"#0d0887\"], [0.1111111111111111, \"#46039f\"], [0.2222222222222222, \"#7201a8\"], [0.3333333333333333, \"#9c179e\"], [0.4444444444444444, \"#bd3786\"], [0.5555555555555556, \"#d8576b\"], [0.6666666666666666, \"#ed7953\"], [0.7777777777777778, \"#fb9f3a\"], [0.8888888888888888, \"#fdca26\"], [1.0, \"#f0f921\"]], \"type\": \"heatmapgl\"}], \"histogram\": [{\"marker\": {\"colorbar\": {\"outlinewidth\": 0, \"ticks\": \"\"}}, \"type\": \"histogram\"}], \"histogram2d\": [{\"colorbar\": {\"outlinewidth\": 0, \"ticks\": \"\"}, \"colorscale\": [[0.0, \"#0d0887\"], [0.1111111111111111, \"#46039f\"], [0.2222222222222222, \"#7201a8\"], [0.3333333333333333, \"#9c179e\"], [0.4444444444444444, \"#bd3786\"], [0.5555555555555556, \"#d8576b\"], [0.6666666666666666, \"#ed7953\"], [0.7777777777777778, \"#fb9f3a\"], [0.8888888888888888, \"#fdca26\"], [1.0, \"#f0f921\"]], \"type\": \"histogram2d\"}], \"histogram2dcontour\": [{\"colorbar\": {\"outlinewidth\": 0, \"ticks\": \"\"}, \"colorscale\": [[0.0, \"#0d0887\"], [0.1111111111111111, \"#46039f\"], [0.2222222222222222, \"#7201a8\"], [0.3333333333333333, \"#9c179e\"], [0.4444444444444444, \"#bd3786\"], [0.5555555555555556, \"#d8576b\"], [0.6666666666666666, \"#ed7953\"], [0.7777777777777778, \"#fb9f3a\"], [0.8888888888888888, \"#fdca26\"], [1.0, \"#f0f921\"]], \"type\": \"histogram2dcontour\"}], \"mesh3d\": [{\"colorbar\": {\"outlinewidth\": 0, \"ticks\": \"\"}, \"type\": \"mesh3d\"}], \"parcoords\": [{\"line\": {\"colorbar\": {\"outlinewidth\": 0, \"ticks\": \"\"}}, \"type\": \"parcoords\"}], \"pie\": [{\"automargin\": true, \"type\": \"pie\"}], \"scatter\": [{\"marker\": {\"colorbar\": {\"outlinewidth\": 0, \"ticks\": \"\"}}, \"type\": \"scatter\"}], \"scatter3d\": [{\"line\": {\"colorbar\": {\"outlinewidth\": 0, \"ticks\": \"\"}}, \"marker\": {\"colorbar\": {\"outlinewidth\": 0, \"ticks\": \"\"}}, \"type\": \"scatter3d\"}], \"scattercarpet\": [{\"marker\": {\"colorbar\": {\"outlinewidth\": 0, \"ticks\": \"\"}}, \"type\": \"scattercarpet\"}], \"scattergeo\": [{\"marker\": {\"colorbar\": {\"outlinewidth\": 0, \"ticks\": \"\"}}, \"type\": \"scattergeo\"}], \"scattergl\": [{\"marker\": {\"colorbar\": {\"outlinewidth\": 0, \"ticks\": \"\"}}, \"type\": \"scattergl\"}], \"scattermapbox\": [{\"marker\": {\"colorbar\": {\"outlinewidth\": 0, \"ticks\": \"\"}}, \"type\": \"scattermapbox\"}], \"scatterpolar\": [{\"marker\": {\"colorbar\": {\"outlinewidth\": 0, \"ticks\": \"\"}}, \"type\": \"scatterpolar\"}], \"scatterpolargl\": [{\"marker\": {\"colorbar\": {\"outlinewidth\": 0, \"ticks\": \"\"}}, \"type\": \"scatterpolargl\"}], \"scatterternary\": [{\"marker\": {\"colorbar\": {\"outlinewidth\": 0, \"ticks\": \"\"}}, \"type\": \"scatterternary\"}], \"surface\": [{\"colorbar\": {\"outlinewidth\": 0, \"ticks\": \"\"}, \"colorscale\": [[0.0, \"#0d0887\"], [0.1111111111111111, \"#46039f\"], [0.2222222222222222, \"#7201a8\"], [0.3333333333333333, \"#9c179e\"], [0.4444444444444444, \"#bd3786\"], [0.5555555555555556, \"#d8576b\"], [0.6666666666666666, \"#ed7953\"], [0.7777777777777778, \"#fb9f3a\"], [0.8888888888888888, \"#fdca26\"], [1.0, \"#f0f921\"]], \"type\": \"surface\"}], \"table\": [{\"cells\": {\"fill\": {\"color\": \"#EBF0F8\"}, \"line\": {\"color\": \"white\"}}, \"header\": {\"fill\": {\"color\": \"#C8D4E3\"}, \"line\": {\"color\": \"white\"}}, \"type\": \"table\"}]}, \"layout\": {\"annotationdefaults\": {\"arrowcolor\": \"#2a3f5f\", \"arrowhead\": 0, \"arrowwidth\": 1}, \"coloraxis\": {\"colorbar\": {\"outlinewidth\": 0, \"ticks\": \"\"}}, \"colorscale\": {\"diverging\": [[0, \"#8e0152\"], [0.1, \"#c51b7d\"], [0.2, \"#de77ae\"], [0.3, \"#f1b6da\"], [0.4, \"#fde0ef\"], [0.5, \"#f7f7f7\"], [0.6, \"#e6f5d0\"], [0.7, \"#b8e186\"], [0.8, \"#7fbc41\"], [0.9, \"#4d9221\"], [1, \"#276419\"]], \"sequential\": [[0.0, \"#0d0887\"], [0.1111111111111111, \"#46039f\"], [0.2222222222222222, \"#7201a8\"], [0.3333333333333333, \"#9c179e\"], [0.4444444444444444, \"#bd3786\"], [0.5555555555555556, \"#d8576b\"], [0.6666666666666666, \"#ed7953\"], [0.7777777777777778, \"#fb9f3a\"], [0.8888888888888888, \"#fdca26\"], [1.0, \"#f0f921\"]], \"sequentialminus\": [[0.0, \"#0d0887\"], [0.1111111111111111, \"#46039f\"], [0.2222222222222222, \"#7201a8\"], [0.3333333333333333, \"#9c179e\"], [0.4444444444444444, \"#bd3786\"], [0.5555555555555556, \"#d8576b\"], [0.6666666666666666, \"#ed7953\"], [0.7777777777777778, \"#fb9f3a\"], [0.8888888888888888, \"#fdca26\"], [1.0, \"#f0f921\"]]}, \"colorway\": [\"#636efa\", \"#EF553B\", \"#00cc96\", \"#ab63fa\", \"#FFA15A\", \"#19d3f3\", \"#FF6692\", \"#B6E880\", \"#FF97FF\", \"#FECB52\"], \"font\": {\"color\": \"#2a3f5f\"}, \"geo\": {\"bgcolor\": \"white\", \"lakecolor\": \"white\", \"landcolor\": \"white\", \"showlakes\": true, \"showland\": true, \"subunitcolor\": \"#C8D4E3\"}, \"hoverlabel\": {\"align\": \"left\"}, \"hovermode\": \"closest\", \"mapbox\": {\"style\": \"light\"}, \"paper_bgcolor\": \"white\", \"plot_bgcolor\": \"white\", \"polar\": {\"angularaxis\": {\"gridcolor\": \"#EBF0F8\", \"linecolor\": \"#EBF0F8\", \"ticks\": \"\"}, \"bgcolor\": \"white\", \"radialaxis\": {\"gridcolor\": \"#EBF0F8\", \"linecolor\": \"#EBF0F8\", \"ticks\": \"\"}}, \"scene\": {\"xaxis\": {\"backgroundcolor\": \"white\", \"gridcolor\": \"#DFE8F3\", \"gridwidth\": 2, \"linecolor\": \"#EBF0F8\", \"showbackground\": true, \"ticks\": \"\", \"zerolinecolor\": \"#EBF0F8\"}, \"yaxis\": {\"backgroundcolor\": \"white\", \"gridcolor\": \"#DFE8F3\", \"gridwidth\": 2, \"linecolor\": \"#EBF0F8\", \"showbackground\": true, \"ticks\": \"\", \"zerolinecolor\": \"#EBF0F8\"}, \"zaxis\": {\"backgroundcolor\": \"white\", \"gridcolor\": \"#DFE8F3\", \"gridwidth\": 2, \"linecolor\": \"#EBF0F8\", \"showbackground\": true, \"ticks\": \"\", \"zerolinecolor\": \"#EBF0F8\"}}, \"shapedefaults\": {\"line\": {\"color\": \"#2a3f5f\"}}, \"ternary\": {\"aaxis\": {\"gridcolor\": \"#DFE8F3\", \"linecolor\": \"#A2B1C6\", \"ticks\": \"\"}, \"baxis\": {\"gridcolor\": \"#DFE8F3\", \"linecolor\": \"#A2B1C6\", \"ticks\": \"\"}, \"bgcolor\": \"white\", \"caxis\": {\"gridcolor\": \"#DFE8F3\", \"linecolor\": \"#A2B1C6\", \"ticks\": \"\"}}, \"title\": {\"x\": 0.05}, \"xaxis\": {\"automargin\": true, \"gridcolor\": \"#EBF0F8\", \"linecolor\": \"#EBF0F8\", \"ticks\": \"\", \"title\": {\"standoff\": 15}, \"zerolinecolor\": \"#EBF0F8\", \"zerolinewidth\": 2}, \"yaxis\": {\"automargin\": true, \"gridcolor\": \"#EBF0F8\", \"linecolor\": \"#EBF0F8\", \"ticks\": \"\", \"title\": {\"standoff\": 15}, \"zerolinecolor\": \"#EBF0F8\", \"zerolinewidth\": 2}}}, \"xaxis\": {\"anchor\": \"y\", \"domain\": [0.0, 1.0], \"title\": {\"text\": \"membership\"}, \"type\": \"log\"}, \"yaxis\": {\"anchor\": \"x\", \"domain\": [0.0, 1.0], \"title\": {\"text\": \"n_motifs\"}}},\n",
       "                        {\"responsive\": true}\n",
       "                    ).then(function(){\n",
       "                            \n",
       "var gd = document.getElementById('cbbea8e6-ab8d-4328-912e-3b05c89e1501');\n",
       "var x = new MutationObserver(function (mutations, observer) {{\n",
       "        var display = window.getComputedStyle(gd).display;\n",
       "        if (!display || display === 'none') {{\n",
       "            console.log([gd, 'removed!']);\n",
       "            Plotly.purge(gd);\n",
       "            observer.disconnect();\n",
       "        }}\n",
       "}});\n",
       "\n",
       "// Listen for the removal of the full notebook cells\n",
       "var notebookContainer = gd.closest('#notebook-container');\n",
       "if (notebookContainer) {{\n",
       "    x.observe(notebookContainer, {childList: true});\n",
       "}}\n",
       "\n",
       "// Listen for the clearing of the current output cell\n",
       "var outputEl = gd.closest('.output');\n",
       "if (outputEl) {{\n",
       "    x.observe(outputEl, {childList: true});\n",
       "}}\n",
       "\n",
       "                        })\n",
       "                };\n",
       "                });\n",
       "            </script>\n",
       "        </div>"
      ]
     },
     "metadata": {},
     "output_type": "display_data"
    }
   ],
   "source": [
    "n_motifs_frame = motif_seq_frame.\\\n",
    "    groupby([\"clique_idx\", \"membership\"]).\\\n",
    "    apply(lambda x : pd.Series({\"n_motifs\" : x.shape[0]})).\\\n",
    "    reset_index()\n",
    "\n",
    "px.scatter(\n",
    "    n_motifs_frame, x = 'membership', y = \"n_motifs\",\n",
    "    log_x = True\n",
    ")"
   ]
  },
  {
   "cell_type": "markdown",
   "metadata": {},
   "source": [
    "## Distribution of E-Value with Motif Rank"
   ]
  },
  {
   "cell_type": "code",
   "execution_count": 19,
   "metadata": {},
   "outputs": [
    {
     "data": {
      "application/vnd.plotly.v1+json": {
       "config": {
        "plotlyServerURL": "https://plot.ly"
       },
       "data": [
        {
         "alignmentgroup": "True",
         "boxpoints": "all",
         "hovertemplate": "motif_id=%{x}<br>evalue=%{y}<extra></extra>",
         "legendgroup": "",
         "marker": {
          "color": "#636efa"
         },
         "name": "",
         "notched": false,
         "offsetgroup": "",
         "orientation": "v",
         "showlegend": false,
         "type": "box",
         "x": [
          "MEME-0",
          "MEME-1",
          "MEME-2",
          "MEME-3",
          "MEME-4",
          "MEME-0",
          "MEME-1",
          "MEME-2",
          "MEME-3",
          "MEME-4",
          "MEME-5",
          "MEME-6",
          "MEME-7",
          "MEME-8",
          "MEME-0",
          "MEME-1",
          "MEME-2",
          "MEME-3",
          "MEME-0",
          "MEME-0",
          "MEME-0",
          "MEME-0",
          "MEME-0",
          "MEME-0",
          "MEME-0",
          "MEME-0",
          "MEME-0",
          "MEME-0",
          "MEME-1",
          "MEME-2",
          "MEME-3",
          "MEME-0",
          "MEME-0",
          "MEME-0",
          "MEME-1",
          "MEME-0",
          "MEME-0",
          "MEME-1",
          "MEME-0",
          "MEME-1",
          "MEME-0",
          "MEME-1",
          "MEME-0",
          "MEME-0",
          "MEME-1",
          "MEME-0",
          "MEME-1",
          "MEME-2",
          "MEME-0",
          "MEME-0",
          "MEME-0",
          "MEME-0",
          "MEME-0",
          "MEME-0",
          "MEME-0",
          "MEME-1",
          "MEME-0",
          "MEME-0",
          "MEME-1",
          "MEME-0",
          "MEME-0",
          "MEME-0",
          "MEME-0",
          "MEME-0",
          "MEME-0",
          "MEME-0",
          "MEME-0",
          "MEME-0",
          "MEME-1",
          "MEME-2",
          "MEME-3",
          "MEME-0",
          "MEME-1",
          "MEME-0",
          "MEME-1",
          "MEME-0",
          "MEME-0",
          "MEME-0",
          "MEME-1",
          "MEME-0",
          "MEME-1",
          "MEME-0",
          "MEME-0",
          "MEME-1",
          "MEME-0",
          "MEME-0",
          "MEME-0",
          "MEME-0",
          "MEME-0",
          "MEME-0",
          "MEME-0",
          "MEME-0",
          "MEME-0",
          "MEME-1",
          "MEME-2",
          "MEME-3",
          "MEME-4",
          "MEME-0",
          "MEME-0",
          "MEME-0",
          "MEME-0",
          "MEME-0",
          "MEME-0",
          "MEME-0",
          "MEME-1",
          "MEME-2",
          "MEME-3",
          "MEME-0",
          "MEME-0",
          "MEME-0",
          "MEME-0",
          "MEME-1",
          "MEME-0",
          "MEME-0",
          "MEME-0",
          "MEME-0",
          "MEME-1",
          "MEME-2",
          "MEME-3",
          "MEME-0",
          "MEME-0",
          "MEME-0",
          "MEME-1",
          "MEME-2",
          "MEME-3",
          "MEME-0",
          "MEME-0",
          "MEME-0",
          "MEME-0",
          "MEME-0",
          "MEME-1",
          "MEME-2",
          "MEME-3",
          "MEME-4",
          "MEME-5",
          "MEME-0",
          "MEME-1",
          "MEME-2",
          "MEME-3",
          "MEME-4",
          "MEME-0",
          "MEME-0",
          "MEME-0",
          "MEME-0",
          "MEME-0",
          "MEME-0",
          "MEME-0",
          "MEME-1",
          "MEME-0",
          "MEME-0",
          "MEME-0",
          "MEME-0",
          "MEME-0",
          "MEME-0",
          "MEME-0",
          "MEME-0",
          "MEME-0",
          "MEME-0",
          "MEME-1",
          "MEME-0",
          "MEME-1",
          "MEME-2",
          "MEME-3",
          "MEME-4",
          "MEME-0",
          "MEME-0",
          "MEME-0",
          "MEME-1",
          "MEME-0",
          "MEME-0",
          "MEME-0",
          "MEME-0",
          "MEME-0",
          "MEME-0",
          "MEME-1",
          "MEME-2",
          "MEME-3",
          "MEME-0",
          "MEME-0",
          "MEME-0",
          "MEME-0",
          "MEME-0",
          "MEME-1",
          "MEME-0",
          "MEME-0",
          "MEME-0",
          "MEME-0",
          "MEME-0",
          "MEME-0",
          "MEME-0",
          "MEME-1",
          "MEME-2",
          "MEME-0",
          "MEME-0",
          "MEME-1",
          "MEME-0",
          "MEME-1",
          "MEME-0",
          "MEME-1",
          "MEME-2",
          "MEME-3",
          "MEME-4",
          "MEME-5",
          "MEME-6",
          "MEME-0",
          "MEME-1",
          "MEME-2",
          "MEME-0",
          "MEME-1",
          "MEME-2",
          "MEME-0",
          "MEME-1",
          "MEME-0",
          "MEME-1",
          "MEME-2",
          "MEME-3",
          "MEME-0",
          "MEME-1",
          "MEME-0",
          "MEME-0",
          "MEME-1",
          "MEME-0",
          "MEME-1",
          "MEME-2",
          "MEME-0",
          "MEME-1",
          "MEME-0",
          "MEME-0",
          "MEME-1",
          "MEME-2",
          "MEME-3",
          "MEME-0",
          "MEME-1",
          "MEME-0",
          "MEME-1",
          "MEME-0",
          "MEME-1",
          "MEME-0",
          "MEME-1",
          "MEME-0",
          "MEME-0",
          "MEME-0",
          "MEME-1",
          "MEME-0",
          "MEME-1",
          "MEME-0",
          "MEME-1",
          "MEME-2",
          "MEME-0",
          "MEME-1",
          "MEME-2",
          "MEME-0",
          "MEME-1",
          "MEME-2",
          "MEME-0",
          "MEME-1",
          "MEME-0",
          "MEME-0",
          "MEME-1",
          "MEME-0",
          "MEME-0",
          "MEME-0",
          "MEME-1",
          "MEME-0",
          "MEME-1",
          "MEME-2",
          "MEME-0",
          "MEME-1",
          "MEME-0",
          "MEME-0",
          "MEME-0",
          "MEME-1",
          "MEME-2",
          "MEME-3",
          "MEME-0",
          "MEME-1",
          "MEME-0",
          "MEME-0",
          "MEME-0",
          "MEME-0",
          "MEME-1",
          "MEME-0",
          "MEME-0",
          "MEME-0",
          "MEME-0",
          "MEME-1",
          "MEME-0",
          "MEME-1",
          "MEME-2",
          "MEME-0",
          "MEME-1",
          "MEME-0",
          "MEME-0",
          "MEME-0",
          "MEME-0",
          "MEME-0",
          "MEME-1",
          "MEME-0",
          "MEME-0",
          "MEME-0",
          "MEME-0",
          "MEME-1",
          "MEME-0",
          "MEME-0",
          "MEME-1",
          "MEME-2",
          "MEME-3",
          "MEME-4",
          "MEME-5",
          "MEME-0",
          "MEME-0",
          "MEME-0",
          "MEME-1",
          "MEME-0",
          "MEME-0",
          "MEME-0",
          "MEME-0",
          "MEME-0",
          "MEME-1",
          "MEME-0",
          "MEME-0",
          "MEME-0",
          "MEME-1",
          "MEME-0",
          "MEME-0",
          "MEME-0",
          "MEME-0",
          "MEME-1",
          "MEME-0",
          "MEME-0",
          "MEME-0",
          "MEME-0",
          "MEME-0"
         ],
         "x0": " ",
         "xaxis": "x",
         "y": [
          0,
          0,
          5.5e-302,
          3.8e-56,
          3.5e-51,
          0,
          0,
          0,
          3.5e-125,
          3.2e-29,
          1.1e-22,
          1.4e-16,
          1.4e-10,
          2.6e-08,
          0,
          8.2e-37,
          4.2e-27,
          1.7e-07,
          3e-65,
          3.2e-80,
          2.8e-58,
          4.8e-175,
          3.4e-84,
          2.3e-15,
          9.7e-14,
          2.9e-106,
          3.9e-99,
          0,
          2.1e-89,
          2.2e-54,
          1.1e-13,
          3.8e-35,
          1.3e-21,
          7.6e-11,
          4.1e-08,
          5.2e-47,
          1.1e-21,
          3.8e-06,
          1.1e-29,
          5.1e-09,
          2e-37,
          2.7e-10,
          2.5e-40,
          2.9e-30,
          1.8e-12,
          3.4e-203,
          7.4e-70,
          4.9e-86,
          1e-180,
          1.1e-34,
          2.1e-99,
          3.8e-19,
          7e-27,
          4.2e-11,
          0,
          2e-266,
          4e-19,
          6.8e-16,
          4.2e-09,
          1.6e-06,
          8.6e-11,
          2e-10,
          3.5e-12,
          4e-08,
          8.2e-15,
          5.6e-15,
          4.2e-22,
          1.2e-232,
          1.1e-81,
          5.1e-43,
          1.6e-15,
          3.7e-12,
          9.8e-06,
          1e-25,
          3e-08,
          3.7e-07,
          9.8e-06,
          1.1e-44,
          7.9e-13,
          7.5e-20,
          5.5e-06,
          5.4e-44,
          1.2e-209,
          1.7e-45,
          8.2e-15,
          2e-06,
          2.4e-20,
          1.5e-48,
          6e-49,
          5.6e-44,
          7.3e-29,
          2.9e-101,
          2.1e-305,
          2.2e-52,
          8.5e-13,
          6.4e-12,
          1.7e-07,
          3.2e-06,
          1.9e-63,
          8.4e-14,
          6.5e-14,
          1e-07,
          1.6e-11,
          6e-280,
          2.2e-83,
          5.9e-50,
          2.2e-21,
          3.5e-67,
          1.8e-23,
          1.7e-11,
          6.5e-22,
          2.7e-11,
          1e-50,
          2.4e-06,
          6.6e-14,
          0,
          1.2e-44,
          1.4e-22,
          3e-14,
          4e-10,
          7.2e-11,
          1.3e-188,
          2e-40,
          8.9e-15,
          3.9e-13,
          6e-06,
          1.6e-12,
          1.2e-09,
          3.2e-12,
          0,
          0,
          1.7e-148,
          2.6e-52,
          2.9e-49,
          4.6e-17,
          3.6e-104,
          4.2e-63,
          3.1e-17,
          1.4e-13,
          3.3e-07,
          1.2e-19,
          6.3e-34,
          1.1e-22,
          2.1e-12,
          1.6e-06,
          7.2e-09,
          7.4e-269,
          1.1e-171,
          1.1e-09,
          4.3e-22,
          1.5e-19,
          1.3e-17,
          0,
          1.5e-11,
          5.5e-13,
          3.7e-12,
          2.2e-10,
          1.1e-23,
          3.1e-08,
          2.1e-170,
          3.1e-31,
          4.7e-31,
          6e-20,
          2e-07,
          4.5e-07,
          6.2e-13,
          0,
          5e-09,
          1.9e-10,
          3.1e-17,
          3.4e-07,
          3.1e-43,
          4.4e-13,
          5.2e-241,
          2.2e-56,
          4.3e-08,
          2.1e-07,
          1.1e-07,
          1.5e-08,
          2.6e-14,
          3.6e-09,
          5e-147,
          3.5e-13,
          2.1e-09,
          1.5e-09,
          1.5e-12,
          6.5e-27,
          2.5e-10,
          5.5e-09,
          0,
          1.2e-143,
          1.5e-09,
          8.6e-07,
          1.4e-259,
          2.3e-22,
          6.3e-69,
          5.8e-11,
          0,
          4.1e-139,
          5.7e-33,
          3.9e-28,
          2.5e-11,
          1.3e-06,
          3.6e-06,
          7.7e-289,
          5.9e-123,
          9.3e-40,
          0,
          7.2e-33,
          1.6e-11,
          6.9e-225,
          1.9e-13,
          1.5e-119,
          1.6e-28,
          5.4e-15,
          1.4e-07,
          0,
          6.8e-12,
          1.6e-269,
          8.7e-229,
          2.6e-11,
          3.4e-131,
          1e-16,
          5.8e-16,
          3.1e-226,
          1.8e-13,
          9.4e-186,
          0,
          4.4e-133,
          1e-11,
          2.7e-06,
          1e-323,
          3.1e-51,
          2.3e-260,
          1.6e-16,
          1.1e-204,
          3.1e-06,
          5.2e-58,
          3.6e-16,
          4.2e-294,
          1.4e-95,
          1.2e-75,
          1e-11,
          9.7e-301,
          2.9e-47,
          7.7e-111,
          3.8e-28,
          4.5e-06,
          1.2e-48,
          9.9e-20,
          5.6e-07,
          0,
          4.5e-277,
          5.7e-09,
          8.6e-127,
          1.9e-06,
          4.7e-199,
          1.3e-264,
          6.1e-127,
          1.1e-164,
          2e-196,
          9.9e-161,
          3.4e-06,
          4e-40,
          6.7e-21,
          3.3e-08,
          1.9e-64,
          3.3e-23,
          2.1e-136,
          1.1e-59,
          0,
          1.1e-115,
          3.1e-41,
          7.6e-11,
          7e-240,
          6.9e-11,
          2.3e-47,
          9.4e-186,
          2.8e-154,
          2.9e-36,
          8.3e-21,
          3.5e-289,
          6.4e-111,
          9.7e-71,
          5.5e-110,
          2.8e-55,
          2e-69,
          3e-24,
          2.4e-10,
          0,
          7e-110,
          4.7e-106,
          1.1e-212,
          3.2e-100,
          1.6e-14,
          6.5e-27,
          1.3e-14,
          1.4e-117,
          1.2e-16,
          4.3e-146,
          2.4e-204,
          1.4e-27,
          1.8e-23,
          0,
          2.6e-116,
          3.2e-61,
          3e-28,
          1.9e-15,
          2.5e-09,
          2.4e-43,
          1e-32,
          6e-17,
          1.2e-09,
          3.5e-25,
          9.6e-129,
          3.7e-152,
          2.5e-85,
          4.1e-26,
          3.2e-07,
          3.4e-35,
          2.9e-25,
          0,
          3.6e-21,
          5.4e-42,
          1.5e-92,
          5.2e-27,
          3.3e-35,
          4.5e-13,
          3.4e-35,
          1.3e-10,
          6.6e-25,
          1.8e-38,
          1.8e-99
         ],
         "y0": " ",
         "yaxis": "y"
        }
       ],
       "layout": {
        "boxmode": "group",
        "legend": {
         "tracegroupgap": 0
        },
        "margin": {
         "t": 60
        },
        "template": {
         "data": {
          "bar": [
           {
            "error_x": {
             "color": "#2a3f5f"
            },
            "error_y": {
             "color": "#2a3f5f"
            },
            "marker": {
             "line": {
              "color": "white",
              "width": 0.5
             }
            },
            "type": "bar"
           }
          ],
          "barpolar": [
           {
            "marker": {
             "line": {
              "color": "white",
              "width": 0.5
             }
            },
            "type": "barpolar"
           }
          ],
          "carpet": [
           {
            "aaxis": {
             "endlinecolor": "#2a3f5f",
             "gridcolor": "#C8D4E3",
             "linecolor": "#C8D4E3",
             "minorgridcolor": "#C8D4E3",
             "startlinecolor": "#2a3f5f"
            },
            "baxis": {
             "endlinecolor": "#2a3f5f",
             "gridcolor": "#C8D4E3",
             "linecolor": "#C8D4E3",
             "minorgridcolor": "#C8D4E3",
             "startlinecolor": "#2a3f5f"
            },
            "type": "carpet"
           }
          ],
          "choropleth": [
           {
            "colorbar": {
             "outlinewidth": 0,
             "ticks": ""
            },
            "type": "choropleth"
           }
          ],
          "contour": [
           {
            "colorbar": {
             "outlinewidth": 0,
             "ticks": ""
            },
            "colorscale": [
             [
              0,
              "#0d0887"
             ],
             [
              0.1111111111111111,
              "#46039f"
             ],
             [
              0.2222222222222222,
              "#7201a8"
             ],
             [
              0.3333333333333333,
              "#9c179e"
             ],
             [
              0.4444444444444444,
              "#bd3786"
             ],
             [
              0.5555555555555556,
              "#d8576b"
             ],
             [
              0.6666666666666666,
              "#ed7953"
             ],
             [
              0.7777777777777778,
              "#fb9f3a"
             ],
             [
              0.8888888888888888,
              "#fdca26"
             ],
             [
              1,
              "#f0f921"
             ]
            ],
            "type": "contour"
           }
          ],
          "contourcarpet": [
           {
            "colorbar": {
             "outlinewidth": 0,
             "ticks": ""
            },
            "type": "contourcarpet"
           }
          ],
          "heatmap": [
           {
            "colorbar": {
             "outlinewidth": 0,
             "ticks": ""
            },
            "colorscale": [
             [
              0,
              "#0d0887"
             ],
             [
              0.1111111111111111,
              "#46039f"
             ],
             [
              0.2222222222222222,
              "#7201a8"
             ],
             [
              0.3333333333333333,
              "#9c179e"
             ],
             [
              0.4444444444444444,
              "#bd3786"
             ],
             [
              0.5555555555555556,
              "#d8576b"
             ],
             [
              0.6666666666666666,
              "#ed7953"
             ],
             [
              0.7777777777777778,
              "#fb9f3a"
             ],
             [
              0.8888888888888888,
              "#fdca26"
             ],
             [
              1,
              "#f0f921"
             ]
            ],
            "type": "heatmap"
           }
          ],
          "heatmapgl": [
           {
            "colorbar": {
             "outlinewidth": 0,
             "ticks": ""
            },
            "colorscale": [
             [
              0,
              "#0d0887"
             ],
             [
              0.1111111111111111,
              "#46039f"
             ],
             [
              0.2222222222222222,
              "#7201a8"
             ],
             [
              0.3333333333333333,
              "#9c179e"
             ],
             [
              0.4444444444444444,
              "#bd3786"
             ],
             [
              0.5555555555555556,
              "#d8576b"
             ],
             [
              0.6666666666666666,
              "#ed7953"
             ],
             [
              0.7777777777777778,
              "#fb9f3a"
             ],
             [
              0.8888888888888888,
              "#fdca26"
             ],
             [
              1,
              "#f0f921"
             ]
            ],
            "type": "heatmapgl"
           }
          ],
          "histogram": [
           {
            "marker": {
             "colorbar": {
              "outlinewidth": 0,
              "ticks": ""
             }
            },
            "type": "histogram"
           }
          ],
          "histogram2d": [
           {
            "colorbar": {
             "outlinewidth": 0,
             "ticks": ""
            },
            "colorscale": [
             [
              0,
              "#0d0887"
             ],
             [
              0.1111111111111111,
              "#46039f"
             ],
             [
              0.2222222222222222,
              "#7201a8"
             ],
             [
              0.3333333333333333,
              "#9c179e"
             ],
             [
              0.4444444444444444,
              "#bd3786"
             ],
             [
              0.5555555555555556,
              "#d8576b"
             ],
             [
              0.6666666666666666,
              "#ed7953"
             ],
             [
              0.7777777777777778,
              "#fb9f3a"
             ],
             [
              0.8888888888888888,
              "#fdca26"
             ],
             [
              1,
              "#f0f921"
             ]
            ],
            "type": "histogram2d"
           }
          ],
          "histogram2dcontour": [
           {
            "colorbar": {
             "outlinewidth": 0,
             "ticks": ""
            },
            "colorscale": [
             [
              0,
              "#0d0887"
             ],
             [
              0.1111111111111111,
              "#46039f"
             ],
             [
              0.2222222222222222,
              "#7201a8"
             ],
             [
              0.3333333333333333,
              "#9c179e"
             ],
             [
              0.4444444444444444,
              "#bd3786"
             ],
             [
              0.5555555555555556,
              "#d8576b"
             ],
             [
              0.6666666666666666,
              "#ed7953"
             ],
             [
              0.7777777777777778,
              "#fb9f3a"
             ],
             [
              0.8888888888888888,
              "#fdca26"
             ],
             [
              1,
              "#f0f921"
             ]
            ],
            "type": "histogram2dcontour"
           }
          ],
          "mesh3d": [
           {
            "colorbar": {
             "outlinewidth": 0,
             "ticks": ""
            },
            "type": "mesh3d"
           }
          ],
          "parcoords": [
           {
            "line": {
             "colorbar": {
              "outlinewidth": 0,
              "ticks": ""
             }
            },
            "type": "parcoords"
           }
          ],
          "pie": [
           {
            "automargin": true,
            "type": "pie"
           }
          ],
          "scatter": [
           {
            "marker": {
             "colorbar": {
              "outlinewidth": 0,
              "ticks": ""
             }
            },
            "type": "scatter"
           }
          ],
          "scatter3d": [
           {
            "line": {
             "colorbar": {
              "outlinewidth": 0,
              "ticks": ""
             }
            },
            "marker": {
             "colorbar": {
              "outlinewidth": 0,
              "ticks": ""
             }
            },
            "type": "scatter3d"
           }
          ],
          "scattercarpet": [
           {
            "marker": {
             "colorbar": {
              "outlinewidth": 0,
              "ticks": ""
             }
            },
            "type": "scattercarpet"
           }
          ],
          "scattergeo": [
           {
            "marker": {
             "colorbar": {
              "outlinewidth": 0,
              "ticks": ""
             }
            },
            "type": "scattergeo"
           }
          ],
          "scattergl": [
           {
            "marker": {
             "colorbar": {
              "outlinewidth": 0,
              "ticks": ""
             }
            },
            "type": "scattergl"
           }
          ],
          "scattermapbox": [
           {
            "marker": {
             "colorbar": {
              "outlinewidth": 0,
              "ticks": ""
             }
            },
            "type": "scattermapbox"
           }
          ],
          "scatterpolar": [
           {
            "marker": {
             "colorbar": {
              "outlinewidth": 0,
              "ticks": ""
             }
            },
            "type": "scatterpolar"
           }
          ],
          "scatterpolargl": [
           {
            "marker": {
             "colorbar": {
              "outlinewidth": 0,
              "ticks": ""
             }
            },
            "type": "scatterpolargl"
           }
          ],
          "scatterternary": [
           {
            "marker": {
             "colorbar": {
              "outlinewidth": 0,
              "ticks": ""
             }
            },
            "type": "scatterternary"
           }
          ],
          "surface": [
           {
            "colorbar": {
             "outlinewidth": 0,
             "ticks": ""
            },
            "colorscale": [
             [
              0,
              "#0d0887"
             ],
             [
              0.1111111111111111,
              "#46039f"
             ],
             [
              0.2222222222222222,
              "#7201a8"
             ],
             [
              0.3333333333333333,
              "#9c179e"
             ],
             [
              0.4444444444444444,
              "#bd3786"
             ],
             [
              0.5555555555555556,
              "#d8576b"
             ],
             [
              0.6666666666666666,
              "#ed7953"
             ],
             [
              0.7777777777777778,
              "#fb9f3a"
             ],
             [
              0.8888888888888888,
              "#fdca26"
             ],
             [
              1,
              "#f0f921"
             ]
            ],
            "type": "surface"
           }
          ],
          "table": [
           {
            "cells": {
             "fill": {
              "color": "#EBF0F8"
             },
             "line": {
              "color": "white"
             }
            },
            "header": {
             "fill": {
              "color": "#C8D4E3"
             },
             "line": {
              "color": "white"
             }
            },
            "type": "table"
           }
          ]
         },
         "layout": {
          "annotationdefaults": {
           "arrowcolor": "#2a3f5f",
           "arrowhead": 0,
           "arrowwidth": 1
          },
          "coloraxis": {
           "colorbar": {
            "outlinewidth": 0,
            "ticks": ""
           }
          },
          "colorscale": {
           "diverging": [
            [
             0,
             "#8e0152"
            ],
            [
             0.1,
             "#c51b7d"
            ],
            [
             0.2,
             "#de77ae"
            ],
            [
             0.3,
             "#f1b6da"
            ],
            [
             0.4,
             "#fde0ef"
            ],
            [
             0.5,
             "#f7f7f7"
            ],
            [
             0.6,
             "#e6f5d0"
            ],
            [
             0.7,
             "#b8e186"
            ],
            [
             0.8,
             "#7fbc41"
            ],
            [
             0.9,
             "#4d9221"
            ],
            [
             1,
             "#276419"
            ]
           ],
           "sequential": [
            [
             0,
             "#0d0887"
            ],
            [
             0.1111111111111111,
             "#46039f"
            ],
            [
             0.2222222222222222,
             "#7201a8"
            ],
            [
             0.3333333333333333,
             "#9c179e"
            ],
            [
             0.4444444444444444,
             "#bd3786"
            ],
            [
             0.5555555555555556,
             "#d8576b"
            ],
            [
             0.6666666666666666,
             "#ed7953"
            ],
            [
             0.7777777777777778,
             "#fb9f3a"
            ],
            [
             0.8888888888888888,
             "#fdca26"
            ],
            [
             1,
             "#f0f921"
            ]
           ],
           "sequentialminus": [
            [
             0,
             "#0d0887"
            ],
            [
             0.1111111111111111,
             "#46039f"
            ],
            [
             0.2222222222222222,
             "#7201a8"
            ],
            [
             0.3333333333333333,
             "#9c179e"
            ],
            [
             0.4444444444444444,
             "#bd3786"
            ],
            [
             0.5555555555555556,
             "#d8576b"
            ],
            [
             0.6666666666666666,
             "#ed7953"
            ],
            [
             0.7777777777777778,
             "#fb9f3a"
            ],
            [
             0.8888888888888888,
             "#fdca26"
            ],
            [
             1,
             "#f0f921"
            ]
           ]
          },
          "colorway": [
           "#636efa",
           "#EF553B",
           "#00cc96",
           "#ab63fa",
           "#FFA15A",
           "#19d3f3",
           "#FF6692",
           "#B6E880",
           "#FF97FF",
           "#FECB52"
          ],
          "font": {
           "color": "#2a3f5f"
          },
          "geo": {
           "bgcolor": "white",
           "lakecolor": "white",
           "landcolor": "white",
           "showlakes": true,
           "showland": true,
           "subunitcolor": "#C8D4E3"
          },
          "hoverlabel": {
           "align": "left"
          },
          "hovermode": "closest",
          "mapbox": {
           "style": "light"
          },
          "paper_bgcolor": "white",
          "plot_bgcolor": "white",
          "polar": {
           "angularaxis": {
            "gridcolor": "#EBF0F8",
            "linecolor": "#EBF0F8",
            "ticks": ""
           },
           "bgcolor": "white",
           "radialaxis": {
            "gridcolor": "#EBF0F8",
            "linecolor": "#EBF0F8",
            "ticks": ""
           }
          },
          "scene": {
           "xaxis": {
            "backgroundcolor": "white",
            "gridcolor": "#DFE8F3",
            "gridwidth": 2,
            "linecolor": "#EBF0F8",
            "showbackground": true,
            "ticks": "",
            "zerolinecolor": "#EBF0F8"
           },
           "yaxis": {
            "backgroundcolor": "white",
            "gridcolor": "#DFE8F3",
            "gridwidth": 2,
            "linecolor": "#EBF0F8",
            "showbackground": true,
            "ticks": "",
            "zerolinecolor": "#EBF0F8"
           },
           "zaxis": {
            "backgroundcolor": "white",
            "gridcolor": "#DFE8F3",
            "gridwidth": 2,
            "linecolor": "#EBF0F8",
            "showbackground": true,
            "ticks": "",
            "zerolinecolor": "#EBF0F8"
           }
          },
          "shapedefaults": {
           "line": {
            "color": "#2a3f5f"
           }
          },
          "ternary": {
           "aaxis": {
            "gridcolor": "#DFE8F3",
            "linecolor": "#A2B1C6",
            "ticks": ""
           },
           "baxis": {
            "gridcolor": "#DFE8F3",
            "linecolor": "#A2B1C6",
            "ticks": ""
           },
           "bgcolor": "white",
           "caxis": {
            "gridcolor": "#DFE8F3",
            "linecolor": "#A2B1C6",
            "ticks": ""
           }
          },
          "title": {
           "x": 0.05
          },
          "xaxis": {
           "automargin": true,
           "gridcolor": "#EBF0F8",
           "linecolor": "#EBF0F8",
           "ticks": "",
           "title": {
            "standoff": 15
           },
           "zerolinecolor": "#EBF0F8",
           "zerolinewidth": 2
          },
          "yaxis": {
           "automargin": true,
           "gridcolor": "#EBF0F8",
           "linecolor": "#EBF0F8",
           "ticks": "",
           "title": {
            "standoff": 15
           },
           "zerolinecolor": "#EBF0F8",
           "zerolinewidth": 2
          }
         }
        },
        "xaxis": {
         "anchor": "y",
         "domain": [
          0,
          1
         ],
         "title": {
          "text": "motif_id"
         }
        },
        "yaxis": {
         "anchor": "x",
         "domain": [
          0,
          1
         ],
         "title": {
          "text": "evalue"
         },
         "type": "log"
        }
       }
      },
      "text/html": [
       "<div>\n",
       "        \n",
       "        \n",
       "            <div id=\"811b2515-4a10-4ee1-a09d-a76ead9ea37b\" class=\"plotly-graph-div\" style=\"height:525px; width:100%;\"></div>\n",
       "            <script type=\"text/javascript\">\n",
       "                require([\"plotly\"], function(Plotly) {\n",
       "                    window.PLOTLYENV=window.PLOTLYENV || {};\n",
       "                    \n",
       "                if (document.getElementById(\"811b2515-4a10-4ee1-a09d-a76ead9ea37b\")) {\n",
       "                    Plotly.newPlot(\n",
       "                        '811b2515-4a10-4ee1-a09d-a76ead9ea37b',\n",
       "                        [{\"alignmentgroup\": \"True\", \"boxpoints\": \"all\", \"hovertemplate\": \"motif_id=%{x}<br>evalue=%{y}<extra></extra>\", \"legendgroup\": \"\", \"marker\": {\"color\": \"#636efa\"}, \"name\": \"\", \"notched\": false, \"offsetgroup\": \"\", \"orientation\": \"v\", \"showlegend\": false, \"type\": \"box\", \"x\": [\"MEME-0\", \"MEME-1\", \"MEME-2\", \"MEME-3\", \"MEME-4\", \"MEME-0\", \"MEME-1\", \"MEME-2\", \"MEME-3\", \"MEME-4\", \"MEME-5\", \"MEME-6\", \"MEME-7\", \"MEME-8\", \"MEME-0\", \"MEME-1\", \"MEME-2\", \"MEME-3\", \"MEME-0\", \"MEME-0\", \"MEME-0\", \"MEME-0\", \"MEME-0\", \"MEME-0\", \"MEME-0\", \"MEME-0\", \"MEME-0\", \"MEME-0\", \"MEME-1\", \"MEME-2\", \"MEME-3\", \"MEME-0\", \"MEME-0\", \"MEME-0\", \"MEME-1\", \"MEME-0\", \"MEME-0\", \"MEME-1\", \"MEME-0\", \"MEME-1\", \"MEME-0\", \"MEME-1\", \"MEME-0\", \"MEME-0\", \"MEME-1\", \"MEME-0\", \"MEME-1\", \"MEME-2\", \"MEME-0\", \"MEME-0\", \"MEME-0\", \"MEME-0\", \"MEME-0\", \"MEME-0\", \"MEME-0\", \"MEME-1\", \"MEME-0\", \"MEME-0\", \"MEME-1\", \"MEME-0\", \"MEME-0\", \"MEME-0\", \"MEME-0\", \"MEME-0\", \"MEME-0\", \"MEME-0\", \"MEME-0\", \"MEME-0\", \"MEME-1\", \"MEME-2\", \"MEME-3\", \"MEME-0\", \"MEME-1\", \"MEME-0\", \"MEME-1\", \"MEME-0\", \"MEME-0\", \"MEME-0\", \"MEME-1\", \"MEME-0\", \"MEME-1\", \"MEME-0\", \"MEME-0\", \"MEME-1\", \"MEME-0\", \"MEME-0\", \"MEME-0\", \"MEME-0\", \"MEME-0\", \"MEME-0\", \"MEME-0\", \"MEME-0\", \"MEME-0\", \"MEME-1\", \"MEME-2\", \"MEME-3\", \"MEME-4\", \"MEME-0\", \"MEME-0\", \"MEME-0\", \"MEME-0\", \"MEME-0\", \"MEME-0\", \"MEME-0\", \"MEME-1\", \"MEME-2\", \"MEME-3\", \"MEME-0\", \"MEME-0\", \"MEME-0\", \"MEME-0\", \"MEME-1\", \"MEME-0\", \"MEME-0\", \"MEME-0\", \"MEME-0\", \"MEME-1\", \"MEME-2\", \"MEME-3\", \"MEME-0\", \"MEME-0\", \"MEME-0\", \"MEME-1\", \"MEME-2\", \"MEME-3\", \"MEME-0\", \"MEME-0\", \"MEME-0\", \"MEME-0\", \"MEME-0\", \"MEME-1\", \"MEME-2\", \"MEME-3\", \"MEME-4\", \"MEME-5\", \"MEME-0\", \"MEME-1\", \"MEME-2\", \"MEME-3\", \"MEME-4\", \"MEME-0\", \"MEME-0\", \"MEME-0\", \"MEME-0\", \"MEME-0\", \"MEME-0\", \"MEME-0\", \"MEME-1\", \"MEME-0\", \"MEME-0\", \"MEME-0\", \"MEME-0\", \"MEME-0\", \"MEME-0\", \"MEME-0\", \"MEME-0\", \"MEME-0\", \"MEME-0\", \"MEME-1\", \"MEME-0\", \"MEME-1\", \"MEME-2\", \"MEME-3\", \"MEME-4\", \"MEME-0\", \"MEME-0\", \"MEME-0\", \"MEME-1\", \"MEME-0\", \"MEME-0\", \"MEME-0\", \"MEME-0\", \"MEME-0\", \"MEME-0\", \"MEME-1\", \"MEME-2\", \"MEME-3\", \"MEME-0\", \"MEME-0\", \"MEME-0\", \"MEME-0\", \"MEME-0\", \"MEME-1\", \"MEME-0\", \"MEME-0\", \"MEME-0\", \"MEME-0\", \"MEME-0\", \"MEME-0\", \"MEME-0\", \"MEME-1\", \"MEME-2\", \"MEME-0\", \"MEME-0\", \"MEME-1\", \"MEME-0\", \"MEME-1\", \"MEME-0\", \"MEME-1\", \"MEME-2\", \"MEME-3\", \"MEME-4\", \"MEME-5\", \"MEME-6\", \"MEME-0\", \"MEME-1\", \"MEME-2\", \"MEME-0\", \"MEME-1\", \"MEME-2\", \"MEME-0\", \"MEME-1\", \"MEME-0\", \"MEME-1\", \"MEME-2\", \"MEME-3\", \"MEME-0\", \"MEME-1\", \"MEME-0\", \"MEME-0\", \"MEME-1\", \"MEME-0\", \"MEME-1\", \"MEME-2\", \"MEME-0\", \"MEME-1\", \"MEME-0\", \"MEME-0\", \"MEME-1\", \"MEME-2\", \"MEME-3\", \"MEME-0\", \"MEME-1\", \"MEME-0\", \"MEME-1\", \"MEME-0\", \"MEME-1\", \"MEME-0\", \"MEME-1\", \"MEME-0\", \"MEME-0\", \"MEME-0\", \"MEME-1\", \"MEME-0\", \"MEME-1\", \"MEME-0\", \"MEME-1\", \"MEME-2\", \"MEME-0\", \"MEME-1\", \"MEME-2\", \"MEME-0\", \"MEME-1\", \"MEME-2\", \"MEME-0\", \"MEME-1\", \"MEME-0\", \"MEME-0\", \"MEME-1\", \"MEME-0\", \"MEME-0\", \"MEME-0\", \"MEME-1\", \"MEME-0\", \"MEME-1\", \"MEME-2\", \"MEME-0\", \"MEME-1\", \"MEME-0\", \"MEME-0\", \"MEME-0\", \"MEME-1\", \"MEME-2\", \"MEME-3\", \"MEME-0\", \"MEME-1\", \"MEME-0\", \"MEME-0\", \"MEME-0\", \"MEME-0\", \"MEME-1\", \"MEME-0\", \"MEME-0\", \"MEME-0\", \"MEME-0\", \"MEME-1\", \"MEME-0\", \"MEME-1\", \"MEME-2\", \"MEME-0\", \"MEME-1\", \"MEME-0\", \"MEME-0\", \"MEME-0\", \"MEME-0\", \"MEME-0\", \"MEME-1\", \"MEME-0\", \"MEME-0\", \"MEME-0\", \"MEME-0\", \"MEME-1\", \"MEME-0\", \"MEME-0\", \"MEME-1\", \"MEME-2\", \"MEME-3\", \"MEME-4\", \"MEME-5\", \"MEME-0\", \"MEME-0\", \"MEME-0\", \"MEME-1\", \"MEME-0\", \"MEME-0\", \"MEME-0\", \"MEME-0\", \"MEME-0\", \"MEME-1\", \"MEME-0\", \"MEME-0\", \"MEME-0\", \"MEME-1\", \"MEME-0\", \"MEME-0\", \"MEME-0\", \"MEME-0\", \"MEME-1\", \"MEME-0\", \"MEME-0\", \"MEME-0\", \"MEME-0\", \"MEME-0\"], \"x0\": \" \", \"xaxis\": \"x\", \"y\": [0.0, 0.0, 5.5e-302, 3.8e-56, 3.5e-51, 0.0, 0.0, 0.0, 3.5e-125, 3.2e-29, 1.1e-22, 1.4e-16, 1.4e-10, 2.6e-08, 0.0, 8.2e-37, 4.2e-27, 1.7e-07, 3e-65, 3.2e-80, 2.8e-58, 4.8e-175, 3.4e-84, 2.3e-15, 9.7e-14, 2.9e-106, 3.9e-99, 0.0, 2.1e-89, 2.2e-54, 1.1e-13, 3.8e-35, 1.3e-21, 7.6e-11, 4.1e-08, 5.2e-47, 1.1e-21, 3.8e-06, 1.1e-29, 5.1e-09, 2e-37, 2.7e-10, 2.5e-40, 2.9e-30, 1.8e-12, 3.4e-203, 7.4e-70, 4.9e-86, 1e-180, 1.1e-34, 2.1e-99, 3.8e-19, 7e-27, 4.2e-11, 0.0, 2e-266, 4e-19, 6.8e-16, 4.2e-09, 1.6e-06, 8.6e-11, 2e-10, 3.5e-12, 4e-08, 8.2e-15, 5.6e-15, 4.2e-22, 1.2e-232, 1.1e-81, 5.1e-43, 1.6e-15, 3.7e-12, 9.8e-06, 1e-25, 3e-08, 3.7e-07, 9.8e-06, 1.1e-44, 7.9e-13, 7.5e-20, 5.5e-06, 5.4e-44, 1.2e-209, 1.7e-45, 8.2e-15, 2e-06, 2.4e-20, 1.5e-48, 6e-49, 5.6e-44, 7.3e-29, 2.9e-101, 2.1e-305, 2.2e-52, 8.5e-13, 6.4e-12, 1.7e-07, 3.2e-06, 1.9e-63, 8.4e-14, 6.5e-14, 1e-07, 1.6e-11, 6e-280, 2.2e-83, 5.9e-50, 2.2e-21, 3.5e-67, 1.8e-23, 1.7e-11, 6.5e-22, 2.7e-11, 1e-50, 2.4e-06, 6.6e-14, 0.0, 1.2e-44, 1.4e-22, 3e-14, 4e-10, 7.2e-11, 1.3e-188, 2e-40, 8.9e-15, 3.9e-13, 6e-06, 1.6e-12, 1.2e-09, 3.2e-12, 0.0, 0.0, 1.7e-148, 2.6e-52, 2.9e-49, 4.6e-17, 3.6e-104, 4.2e-63, 3.1e-17, 1.4e-13, 3.3e-07, 1.2e-19, 6.3e-34, 1.1e-22, 2.1e-12, 1.6e-06, 7.2e-09, 7.4e-269, 1.1e-171, 1.1e-09, 4.3e-22, 1.5e-19, 1.3e-17, 0.0, 1.5e-11, 5.5e-13, 3.7e-12, 2.2e-10, 1.1e-23, 3.1e-08, 2.1e-170, 3.1e-31, 4.7e-31, 6e-20, 2e-07, 4.5e-07, 6.2e-13, 0.0, 5e-09, 1.9e-10, 3.1e-17, 3.4e-07, 3.1e-43, 4.4e-13, 5.2e-241, 2.2e-56, 4.3e-08, 2.1e-07, 1.1e-07, 1.5e-08, 2.6e-14, 3.6e-09, 5e-147, 3.5e-13, 2.1e-09, 1.5e-09, 1.5e-12, 6.5e-27, 2.5e-10, 5.5e-09, 0.0, 1.2e-143, 1.5e-09, 8.6e-07, 1.4e-259, 2.3e-22, 6.3e-69, 5.8e-11, 0.0, 4.1e-139, 5.7e-33, 3.9e-28, 2.5e-11, 1.3e-06, 3.6e-06, 7.7e-289, 5.9e-123, 9.3e-40, 0.0, 7.2e-33, 1.6e-11, 6.9e-225, 1.9e-13, 1.5e-119, 1.6e-28, 5.4e-15, 1.4e-07, 0.0, 6.8e-12, 1.6e-269, 8.7e-229, 2.6e-11, 3.4e-131, 1e-16, 5.8e-16, 3.1e-226, 1.8e-13, 9.4e-186, 0.0, 4.4e-133, 1e-11, 2.7e-06, 1e-323, 3.1e-51, 2.3e-260, 1.6e-16, 1.1e-204, 3.1e-06, 5.2e-58, 3.6e-16, 4.2e-294, 1.4e-95, 1.2e-75, 1e-11, 9.7e-301, 2.9e-47, 7.7e-111, 3.8e-28, 4.5e-06, 1.2e-48, 9.9e-20, 5.6e-07, 0.0, 4.5e-277, 5.7e-09, 8.6e-127, 1.9e-06, 4.7e-199, 1.3e-264, 6.1e-127, 1.1e-164, 2e-196, 9.9e-161, 3.4e-06, 4e-40, 6.7e-21, 3.3e-08, 1.9e-64, 3.3e-23, 2.1e-136, 1.1e-59, 0.0, 1.1e-115, 3.1e-41, 7.6e-11, 7e-240, 6.9e-11, 2.3e-47, 9.4e-186, 2.8e-154, 2.9e-36, 8.3e-21, 3.5e-289, 6.4e-111, 9.7e-71, 5.5e-110, 2.8e-55, 2e-69, 3e-24, 2.4e-10, 0.0, 7e-110, 4.7e-106, 1.1e-212, 3.2e-100, 1.6e-14, 6.5e-27, 1.3e-14, 1.4e-117, 1.2e-16, 4.3e-146, 2.4e-204, 1.4e-27, 1.8e-23, 0.0, 2.6e-116, 3.2e-61, 3e-28, 1.9e-15, 2.5e-09, 2.4e-43, 1e-32, 6e-17, 1.2e-09, 3.5e-25, 9.6e-129, 3.7e-152, 2.5e-85, 4.1e-26, 3.2e-07, 3.4e-35, 2.9e-25, 0.0, 3.6e-21, 5.4e-42, 1.5e-92, 5.2e-27, 3.3e-35, 4.5e-13, 3.4e-35, 1.3e-10, 6.6e-25, 1.8e-38, 1.8e-99], \"y0\": \" \", \"yaxis\": \"y\"}],\n",
       "                        {\"boxmode\": \"group\", \"legend\": {\"tracegroupgap\": 0}, \"margin\": {\"t\": 60}, \"template\": {\"data\": {\"bar\": [{\"error_x\": {\"color\": \"#2a3f5f\"}, \"error_y\": {\"color\": \"#2a3f5f\"}, \"marker\": {\"line\": {\"color\": \"white\", \"width\": 0.5}}, \"type\": \"bar\"}], \"barpolar\": [{\"marker\": {\"line\": {\"color\": \"white\", \"width\": 0.5}}, \"type\": \"barpolar\"}], \"carpet\": [{\"aaxis\": {\"endlinecolor\": \"#2a3f5f\", \"gridcolor\": \"#C8D4E3\", \"linecolor\": \"#C8D4E3\", \"minorgridcolor\": \"#C8D4E3\", \"startlinecolor\": \"#2a3f5f\"}, \"baxis\": {\"endlinecolor\": \"#2a3f5f\", \"gridcolor\": \"#C8D4E3\", \"linecolor\": \"#C8D4E3\", \"minorgridcolor\": \"#C8D4E3\", \"startlinecolor\": \"#2a3f5f\"}, \"type\": \"carpet\"}], \"choropleth\": [{\"colorbar\": {\"outlinewidth\": 0, \"ticks\": \"\"}, \"type\": \"choropleth\"}], \"contour\": [{\"colorbar\": {\"outlinewidth\": 0, \"ticks\": \"\"}, \"colorscale\": [[0.0, \"#0d0887\"], [0.1111111111111111, \"#46039f\"], [0.2222222222222222, \"#7201a8\"], [0.3333333333333333, \"#9c179e\"], [0.4444444444444444, \"#bd3786\"], [0.5555555555555556, \"#d8576b\"], [0.6666666666666666, \"#ed7953\"], [0.7777777777777778, \"#fb9f3a\"], [0.8888888888888888, \"#fdca26\"], [1.0, \"#f0f921\"]], \"type\": \"contour\"}], \"contourcarpet\": [{\"colorbar\": {\"outlinewidth\": 0, \"ticks\": \"\"}, \"type\": \"contourcarpet\"}], \"heatmap\": [{\"colorbar\": {\"outlinewidth\": 0, \"ticks\": \"\"}, \"colorscale\": [[0.0, \"#0d0887\"], [0.1111111111111111, \"#46039f\"], [0.2222222222222222, \"#7201a8\"], [0.3333333333333333, \"#9c179e\"], [0.4444444444444444, \"#bd3786\"], [0.5555555555555556, \"#d8576b\"], [0.6666666666666666, \"#ed7953\"], [0.7777777777777778, \"#fb9f3a\"], [0.8888888888888888, \"#fdca26\"], [1.0, \"#f0f921\"]], \"type\": \"heatmap\"}], \"heatmapgl\": [{\"colorbar\": {\"outlinewidth\": 0, \"ticks\": \"\"}, \"colorscale\": [[0.0, \"#0d0887\"], [0.1111111111111111, \"#46039f\"], [0.2222222222222222, \"#7201a8\"], [0.3333333333333333, \"#9c179e\"], [0.4444444444444444, \"#bd3786\"], [0.5555555555555556, \"#d8576b\"], [0.6666666666666666, \"#ed7953\"], [0.7777777777777778, \"#fb9f3a\"], [0.8888888888888888, \"#fdca26\"], [1.0, \"#f0f921\"]], \"type\": \"heatmapgl\"}], \"histogram\": [{\"marker\": {\"colorbar\": {\"outlinewidth\": 0, \"ticks\": \"\"}}, \"type\": \"histogram\"}], \"histogram2d\": [{\"colorbar\": {\"outlinewidth\": 0, \"ticks\": \"\"}, \"colorscale\": [[0.0, \"#0d0887\"], [0.1111111111111111, \"#46039f\"], [0.2222222222222222, \"#7201a8\"], [0.3333333333333333, \"#9c179e\"], [0.4444444444444444, \"#bd3786\"], [0.5555555555555556, \"#d8576b\"], [0.6666666666666666, \"#ed7953\"], [0.7777777777777778, \"#fb9f3a\"], [0.8888888888888888, \"#fdca26\"], [1.0, \"#f0f921\"]], \"type\": \"histogram2d\"}], \"histogram2dcontour\": [{\"colorbar\": {\"outlinewidth\": 0, \"ticks\": \"\"}, \"colorscale\": [[0.0, \"#0d0887\"], [0.1111111111111111, \"#46039f\"], [0.2222222222222222, \"#7201a8\"], [0.3333333333333333, \"#9c179e\"], [0.4444444444444444, \"#bd3786\"], [0.5555555555555556, \"#d8576b\"], [0.6666666666666666, \"#ed7953\"], [0.7777777777777778, \"#fb9f3a\"], [0.8888888888888888, \"#fdca26\"], [1.0, \"#f0f921\"]], \"type\": \"histogram2dcontour\"}], \"mesh3d\": [{\"colorbar\": {\"outlinewidth\": 0, \"ticks\": \"\"}, \"type\": \"mesh3d\"}], \"parcoords\": [{\"line\": {\"colorbar\": {\"outlinewidth\": 0, \"ticks\": \"\"}}, \"type\": \"parcoords\"}], \"pie\": [{\"automargin\": true, \"type\": \"pie\"}], \"scatter\": [{\"marker\": {\"colorbar\": {\"outlinewidth\": 0, \"ticks\": \"\"}}, \"type\": \"scatter\"}], \"scatter3d\": [{\"line\": {\"colorbar\": {\"outlinewidth\": 0, \"ticks\": \"\"}}, \"marker\": {\"colorbar\": {\"outlinewidth\": 0, \"ticks\": \"\"}}, \"type\": \"scatter3d\"}], \"scattercarpet\": [{\"marker\": {\"colorbar\": {\"outlinewidth\": 0, \"ticks\": \"\"}}, \"type\": \"scattercarpet\"}], \"scattergeo\": [{\"marker\": {\"colorbar\": {\"outlinewidth\": 0, \"ticks\": \"\"}}, \"type\": \"scattergeo\"}], \"scattergl\": [{\"marker\": {\"colorbar\": {\"outlinewidth\": 0, \"ticks\": \"\"}}, \"type\": \"scattergl\"}], \"scattermapbox\": [{\"marker\": {\"colorbar\": {\"outlinewidth\": 0, \"ticks\": \"\"}}, \"type\": \"scattermapbox\"}], \"scatterpolar\": [{\"marker\": {\"colorbar\": {\"outlinewidth\": 0, \"ticks\": \"\"}}, \"type\": \"scatterpolar\"}], \"scatterpolargl\": [{\"marker\": {\"colorbar\": {\"outlinewidth\": 0, \"ticks\": \"\"}}, \"type\": \"scatterpolargl\"}], \"scatterternary\": [{\"marker\": {\"colorbar\": {\"outlinewidth\": 0, \"ticks\": \"\"}}, \"type\": \"scatterternary\"}], \"surface\": [{\"colorbar\": {\"outlinewidth\": 0, \"ticks\": \"\"}, \"colorscale\": [[0.0, \"#0d0887\"], [0.1111111111111111, \"#46039f\"], [0.2222222222222222, \"#7201a8\"], [0.3333333333333333, \"#9c179e\"], [0.4444444444444444, \"#bd3786\"], [0.5555555555555556, \"#d8576b\"], [0.6666666666666666, \"#ed7953\"], [0.7777777777777778, \"#fb9f3a\"], [0.8888888888888888, \"#fdca26\"], [1.0, \"#f0f921\"]], \"type\": \"surface\"}], \"table\": [{\"cells\": {\"fill\": {\"color\": \"#EBF0F8\"}, \"line\": {\"color\": \"white\"}}, \"header\": {\"fill\": {\"color\": \"#C8D4E3\"}, \"line\": {\"color\": \"white\"}}, \"type\": \"table\"}]}, \"layout\": {\"annotationdefaults\": {\"arrowcolor\": \"#2a3f5f\", \"arrowhead\": 0, \"arrowwidth\": 1}, \"coloraxis\": {\"colorbar\": {\"outlinewidth\": 0, \"ticks\": \"\"}}, \"colorscale\": {\"diverging\": [[0, \"#8e0152\"], [0.1, \"#c51b7d\"], [0.2, \"#de77ae\"], [0.3, \"#f1b6da\"], [0.4, \"#fde0ef\"], [0.5, \"#f7f7f7\"], [0.6, \"#e6f5d0\"], [0.7, \"#b8e186\"], [0.8, \"#7fbc41\"], [0.9, \"#4d9221\"], [1, \"#276419\"]], \"sequential\": [[0.0, \"#0d0887\"], [0.1111111111111111, \"#46039f\"], [0.2222222222222222, \"#7201a8\"], [0.3333333333333333, \"#9c179e\"], [0.4444444444444444, \"#bd3786\"], [0.5555555555555556, \"#d8576b\"], [0.6666666666666666, \"#ed7953\"], [0.7777777777777778, \"#fb9f3a\"], [0.8888888888888888, \"#fdca26\"], [1.0, \"#f0f921\"]], \"sequentialminus\": [[0.0, \"#0d0887\"], [0.1111111111111111, \"#46039f\"], [0.2222222222222222, \"#7201a8\"], [0.3333333333333333, \"#9c179e\"], [0.4444444444444444, \"#bd3786\"], [0.5555555555555556, \"#d8576b\"], [0.6666666666666666, \"#ed7953\"], [0.7777777777777778, \"#fb9f3a\"], [0.8888888888888888, \"#fdca26\"], [1.0, \"#f0f921\"]]}, \"colorway\": [\"#636efa\", \"#EF553B\", \"#00cc96\", \"#ab63fa\", \"#FFA15A\", \"#19d3f3\", \"#FF6692\", \"#B6E880\", \"#FF97FF\", \"#FECB52\"], \"font\": {\"color\": \"#2a3f5f\"}, \"geo\": {\"bgcolor\": \"white\", \"lakecolor\": \"white\", \"landcolor\": \"white\", \"showlakes\": true, \"showland\": true, \"subunitcolor\": \"#C8D4E3\"}, \"hoverlabel\": {\"align\": \"left\"}, \"hovermode\": \"closest\", \"mapbox\": {\"style\": \"light\"}, \"paper_bgcolor\": \"white\", \"plot_bgcolor\": \"white\", \"polar\": {\"angularaxis\": {\"gridcolor\": \"#EBF0F8\", \"linecolor\": \"#EBF0F8\", \"ticks\": \"\"}, \"bgcolor\": \"white\", \"radialaxis\": {\"gridcolor\": \"#EBF0F8\", \"linecolor\": \"#EBF0F8\", \"ticks\": \"\"}}, \"scene\": {\"xaxis\": {\"backgroundcolor\": \"white\", \"gridcolor\": \"#DFE8F3\", \"gridwidth\": 2, \"linecolor\": \"#EBF0F8\", \"showbackground\": true, \"ticks\": \"\", \"zerolinecolor\": \"#EBF0F8\"}, \"yaxis\": {\"backgroundcolor\": \"white\", \"gridcolor\": \"#DFE8F3\", \"gridwidth\": 2, \"linecolor\": \"#EBF0F8\", \"showbackground\": true, \"ticks\": \"\", \"zerolinecolor\": \"#EBF0F8\"}, \"zaxis\": {\"backgroundcolor\": \"white\", \"gridcolor\": \"#DFE8F3\", \"gridwidth\": 2, \"linecolor\": \"#EBF0F8\", \"showbackground\": true, \"ticks\": \"\", \"zerolinecolor\": \"#EBF0F8\"}}, \"shapedefaults\": {\"line\": {\"color\": \"#2a3f5f\"}}, \"ternary\": {\"aaxis\": {\"gridcolor\": \"#DFE8F3\", \"linecolor\": \"#A2B1C6\", \"ticks\": \"\"}, \"baxis\": {\"gridcolor\": \"#DFE8F3\", \"linecolor\": \"#A2B1C6\", \"ticks\": \"\"}, \"bgcolor\": \"white\", \"caxis\": {\"gridcolor\": \"#DFE8F3\", \"linecolor\": \"#A2B1C6\", \"ticks\": \"\"}}, \"title\": {\"x\": 0.05}, \"xaxis\": {\"automargin\": true, \"gridcolor\": \"#EBF0F8\", \"linecolor\": \"#EBF0F8\", \"ticks\": \"\", \"title\": {\"standoff\": 15}, \"zerolinecolor\": \"#EBF0F8\", \"zerolinewidth\": 2}, \"yaxis\": {\"automargin\": true, \"gridcolor\": \"#EBF0F8\", \"linecolor\": \"#EBF0F8\", \"ticks\": \"\", \"title\": {\"standoff\": 15}, \"zerolinecolor\": \"#EBF0F8\", \"zerolinewidth\": 2}}}, \"xaxis\": {\"anchor\": \"y\", \"domain\": [0.0, 1.0], \"title\": {\"text\": \"motif_id\"}}, \"yaxis\": {\"anchor\": \"x\", \"domain\": [0.0, 1.0], \"title\": {\"text\": \"evalue\"}, \"type\": \"log\"}},\n",
       "                        {\"responsive\": true}\n",
       "                    ).then(function(){\n",
       "                            \n",
       "var gd = document.getElementById('811b2515-4a10-4ee1-a09d-a76ead9ea37b');\n",
       "var x = new MutationObserver(function (mutations, observer) {{\n",
       "        var display = window.getComputedStyle(gd).display;\n",
       "        if (!display || display === 'none') {{\n",
       "            console.log([gd, 'removed!']);\n",
       "            Plotly.purge(gd);\n",
       "            observer.disconnect();\n",
       "        }}\n",
       "}});\n",
       "\n",
       "// Listen for the removal of the full notebook cells\n",
       "var notebookContainer = gd.closest('#notebook-container');\n",
       "if (notebookContainer) {{\n",
       "    x.observe(notebookContainer, {childList: true});\n",
       "}}\n",
       "\n",
       "// Listen for the clearing of the current output cell\n",
       "var outputEl = gd.closest('.output');\n",
       "if (outputEl) {{\n",
       "    x.observe(outputEl, {childList: true});\n",
       "}}\n",
       "\n",
       "                        })\n",
       "                };\n",
       "                });\n",
       "            </script>\n",
       "        </div>"
      ]
     },
     "metadata": {},
     "output_type": "display_data"
    }
   ],
   "source": [
    "px.box(\n",
    "    motif_seq_frame, x = 'motif_id', y = 'evalue',\n",
    "    points = 'all', log_y = True\n",
    ")"
   ]
  },
  {
   "cell_type": "markdown",
   "metadata": {},
   "source": [
    "# Response Rate"
   ]
  },
  {
   "cell_type": "markdown",
   "metadata": {},
   "source": [
    "## Create Patient Responses"
   ]
  },
  {
   "cell_type": "code",
   "execution_count": 20,
   "metadata": {},
   "outputs": [],
   "source": [
    "bool_mat = pd.read_csv(input_bool)"
   ]
  },
  {
   "cell_type": "code",
   "execution_count": 21,
   "metadata": {},
   "outputs": [],
   "source": [
    "idx_lookup = {}\n",
    "for line in open(fn_idxmap, \"r+\"):\n",
    "    idx, name = line.strip().split(\"\\t\")\n",
    "    idx_lookup[name] = idx\n",
    "\n",
    "peptide_index = []\n",
    "for line in open(input_peptides, \"r+\"):\n",
    "    if \"#\" in line:\n",
    "        continue\n",
    "        \n",
    "    peptide_index.append(idx_lookup[line.strip()])\n",
    "\n",
    "bool_mat.index = peptide_index"
   ]
  },
  {
   "cell_type": "code",
   "execution_count": 22,
   "metadata": {},
   "outputs": [
    {
     "data": {
      "text/html": [
       "<div>\n",
       "<style scoped>\n",
       "    .dataframe tbody tr th:only-of-type {\n",
       "        vertical-align: middle;\n",
       "    }\n",
       "\n",
       "    .dataframe tbody tr th {\n",
       "        vertical-align: top;\n",
       "    }\n",
       "\n",
       "    .dataframe thead th {\n",
       "        text-align: right;\n",
       "    }\n",
       "</style>\n",
       "<table border=\"1\" class=\"dataframe\">\n",
       "  <thead>\n",
       "    <tr style=\"text-align: right;\">\n",
       "      <th></th>\n",
       "      <th>cid</th>\n",
       "      <th>header</th>\n",
       "      <th>clique_idx</th>\n",
       "    </tr>\n",
       "  </thead>\n",
       "  <tbody>\n",
       "    <tr>\n",
       "      <th>0</th>\n",
       "      <td>CK3-4F42</td>\n",
       "      <td>t152479</td>\n",
       "      <td>9</td>\n",
       "    </tr>\n",
       "    <tr>\n",
       "      <th>1</th>\n",
       "      <td>CT3-4CX7</td>\n",
       "      <td>t152479</td>\n",
       "      <td>9</td>\n",
       "    </tr>\n",
       "    <tr>\n",
       "      <th>2</th>\n",
       "      <td>CT3-5779</td>\n",
       "      <td>t152479</td>\n",
       "      <td>9</td>\n",
       "    </tr>\n",
       "    <tr>\n",
       "      <th>3</th>\n",
       "      <td>CT3-5A4B</td>\n",
       "      <td>t152479</td>\n",
       "      <td>9</td>\n",
       "    </tr>\n",
       "    <tr>\n",
       "      <th>4</th>\n",
       "      <td>CT3-4CCQ</td>\n",
       "      <td>t152479</td>\n",
       "      <td>9</td>\n",
       "    </tr>\n",
       "    <tr>\n",
       "      <th>...</th>\n",
       "      <td>...</td>\n",
       "      <td>...</td>\n",
       "      <td>...</td>\n",
       "    </tr>\n",
       "    <tr>\n",
       "      <th>59395</th>\n",
       "      <td>CK3-5FAC</td>\n",
       "      <td>t146905</td>\n",
       "      <td>146</td>\n",
       "    </tr>\n",
       "    <tr>\n",
       "      <th>59396</th>\n",
       "      <td>CK3-9BFT</td>\n",
       "      <td>t146905</td>\n",
       "      <td>146</td>\n",
       "    </tr>\n",
       "    <tr>\n",
       "      <th>59397</th>\n",
       "      <td>CK3-DUL2</td>\n",
       "      <td>t146905</td>\n",
       "      <td>146</td>\n",
       "    </tr>\n",
       "    <tr>\n",
       "      <th>59398</th>\n",
       "      <td>CK3-G5NH</td>\n",
       "      <td>t146905</td>\n",
       "      <td>146</td>\n",
       "    </tr>\n",
       "    <tr>\n",
       "      <th>59399</th>\n",
       "      <td>CT3-52HJ</td>\n",
       "      <td>t146905</td>\n",
       "      <td>146</td>\n",
       "    </tr>\n",
       "  </tbody>\n",
       "</table>\n",
       "<p>59400 rows × 3 columns</p>\n",
       "</div>"
      ],
      "text/plain": [
       "            cid   header  clique_idx\n",
       "0      CK3-4F42  t152479           9\n",
       "1      CT3-4CX7  t152479           9\n",
       "2      CT3-5779  t152479           9\n",
       "3      CT3-5A4B  t152479           9\n",
       "4      CT3-4CCQ  t152479           9\n",
       "...         ...      ...         ...\n",
       "59395  CK3-5FAC  t146905         146\n",
       "59396  CK3-9BFT  t146905         146\n",
       "59397  CK3-DUL2  t146905         146\n",
       "59398  CK3-G5NH  t146905         146\n",
       "59399  CT3-52HJ  t146905         146\n",
       "\n",
       "[59400 rows x 3 columns]"
      ]
     },
     "execution_count": 22,
     "metadata": {},
     "output_type": "execute_result"
    }
   ],
   "source": [
    "patient_frame = []\n",
    "for c in bool_mat.columns:\n",
    "    responses = bool_mat.index.values[bool_mat.loc[:,c] == 1]\n",
    "    for r in responses:\n",
    "        patient_frame.append({\n",
    "            'cid' : c,\n",
    "            'header' : r\n",
    "        })\n",
    "patient_frame = pd.DataFrame(patient_frame)\n",
    "patient_frame = patient_frame.merge(clique_table[['clique_idx', 'header']])\n",
    "\n",
    "patient_frame"
   ]
  },
  {
   "cell_type": "code",
   "execution_count": 23,
   "metadata": {},
   "outputs": [],
   "source": [
    "number_responses = patient_frame.\\\n",
    "    groupby('clique_idx').\\\n",
    "    apply(\n",
    "        lambda x : pd.Series({\n",
    "            'num_patients' : x.cid.unique().size\n",
    "        })\n",
    "    ).reset_index()"
   ]
  },
  {
   "cell_type": "markdown",
   "metadata": {},
   "source": [
    "## Clique Motifs with Patient Responses"
   ]
  },
  {
   "cell_type": "code",
   "execution_count": 24,
   "metadata": {},
   "outputs": [
    {
     "data": {
      "application/vnd.plotly.v1+json": {
       "config": {
        "plotlyServerURL": "https://plot.ly"
       },
       "data": [
        {
         "customdata": [
          [
           [],
           [],
           []
          ],
          [
           [],
           [],
           []
          ],
          [
           [],
           [],
           []
          ],
          [
           [],
           [],
           []
          ],
          [
           [],
           [],
           []
          ],
          [
           [],
           [],
           []
          ],
          [
           [],
           [],
           []
          ],
          [
           [],
           [],
           []
          ],
          [
           [],
           [],
           []
          ],
          [
           [],
           [],
           []
          ],
          [
           [],
           [],
           []
          ],
          [
           [],
           [],
           []
          ],
          [
           [],
           [],
           []
          ],
          [
           [],
           [],
           []
          ],
          [
           [],
           [],
           []
          ],
          [
           [],
           [],
           []
          ],
          [
           [],
           [],
           []
          ],
          [
           [],
           [],
           []
          ],
          [
           [],
           [],
           []
          ],
          [
           [],
           [],
           []
          ],
          [
           [],
           [],
           []
          ],
          [
           [],
           [],
           []
          ],
          [
           [],
           [],
           []
          ],
          [
           [],
           [],
           []
          ],
          [
           [],
           [],
           []
          ],
          [
           [],
           [],
           []
          ],
          [
           [],
           [],
           []
          ],
          [
           [],
           [],
           []
          ],
          [
           [],
           [],
           []
          ],
          [
           [],
           [],
           []
          ],
          [
           [],
           [],
           []
          ],
          [
           [],
           [],
           []
          ],
          [
           [],
           [],
           []
          ],
          [
           [],
           [],
           []
          ],
          [
           [],
           [],
           []
          ],
          [
           [],
           [],
           []
          ],
          [
           [],
           [],
           []
          ],
          [
           [],
           [],
           []
          ],
          [
           [],
           [],
           []
          ],
          [
           [],
           [],
           []
          ],
          [
           [],
           [],
           []
          ],
          [
           [],
           [],
           []
          ],
          [
           [],
           [],
           []
          ],
          [
           [],
           [],
           []
          ],
          [
           [],
           [],
           []
          ],
          [
           [],
           [],
           []
          ],
          [
           [],
           [],
           []
          ],
          [
           [],
           [],
           []
          ],
          [
           [],
           [],
           []
          ],
          [
           [],
           [],
           []
          ],
          [
           [],
           [],
           []
          ],
          [
           [],
           [],
           []
          ],
          [
           [],
           [],
           []
          ],
          [
           [],
           [],
           []
          ],
          [
           [],
           [],
           []
          ],
          [
           [],
           [],
           []
          ],
          [
           [],
           [],
           []
          ],
          [
           [],
           [],
           []
          ],
          [
           [],
           [],
           []
          ],
          [
           [],
           [],
           []
          ],
          [
           [],
           [],
           []
          ],
          [
           [],
           [],
           []
          ],
          [
           [],
           [],
           []
          ],
          [
           [],
           [],
           []
          ],
          [
           [],
           [],
           []
          ],
          [
           [],
           [],
           []
          ],
          [
           [],
           [],
           []
          ],
          [
           [],
           [],
           []
          ],
          [
           [],
           [],
           []
          ],
          [
           [],
           [],
           []
          ],
          [
           [],
           [],
           []
          ],
          [
           [],
           [],
           []
          ],
          [
           [],
           [],
           []
          ],
          [
           [],
           [],
           []
          ],
          [
           [],
           [],
           []
          ],
          [
           [],
           [],
           []
          ],
          [
           [],
           [],
           []
          ],
          [
           [],
           [],
           []
          ],
          [
           [],
           [],
           []
          ],
          [
           [],
           [],
           []
          ],
          [
           [],
           [],
           []
          ],
          [
           [],
           [],
           []
          ],
          [
           [],
           [],
           []
          ],
          [
           [],
           [],
           []
          ],
          [
           [],
           [],
           []
          ],
          [
           [],
           [],
           []
          ],
          [
           [],
           [],
           []
          ],
          [
           [],
           [],
           []
          ],
          [
           [],
           [],
           []
          ],
          [
           [],
           [],
           []
          ],
          [
           [],
           [],
           []
          ],
          [
           [],
           [],
           []
          ],
          [
           [],
           [],
           []
          ],
          [
           [],
           [],
           []
          ],
          [
           [],
           [],
           []
          ],
          [
           [],
           [],
           []
          ],
          [
           [],
           [],
           []
          ],
          [
           [],
           [],
           []
          ],
          [
           [],
           [],
           []
          ],
          [
           [],
           [],
           []
          ],
          [
           [],
           [],
           []
          ],
          [
           [],
           [],
           []
          ],
          [
           [],
           [],
           []
          ],
          [
           [],
           [],
           []
          ],
          [
           [],
           [],
           []
          ],
          [
           [],
           [],
           []
          ],
          [
           [],
           [],
           []
          ],
          [
           [],
           [],
           []
          ],
          [
           [],
           [],
           []
          ],
          [
           [],
           [],
           []
          ],
          [
           [],
           [],
           []
          ],
          [
           [],
           [],
           []
          ],
          [
           [],
           [],
           []
          ],
          [
           [],
           [],
           []
          ],
          [
           [],
           [],
           []
          ],
          [
           [],
           [],
           []
          ],
          [
           [],
           [],
           []
          ],
          [
           [],
           [],
           []
          ],
          [
           [],
           [],
           []
          ],
          [
           [],
           [],
           []
          ],
          [
           [],
           [],
           []
          ],
          [
           [],
           [],
           []
          ],
          [
           [],
           [],
           []
          ],
          [
           [],
           [],
           []
          ],
          [
           [],
           [],
           []
          ],
          [
           [],
           [],
           []
          ],
          [
           [],
           [],
           []
          ],
          [
           [],
           [],
           []
          ],
          [
           [],
           [],
           []
          ],
          [
           [],
           [],
           []
          ],
          [
           [],
           [],
           []
          ],
          [
           [],
           [],
           []
          ],
          [
           [],
           [],
           []
          ],
          [
           [],
           [],
           []
          ],
          [
           [],
           [],
           []
          ],
          [
           [],
           [],
           []
          ],
          [
           [],
           [],
           []
          ],
          [
           [],
           [],
           []
          ],
          [
           [],
           [],
           []
          ],
          [
           [],
           [],
           []
          ],
          [
           [],
           [],
           []
          ],
          [
           [],
           [],
           []
          ],
          [
           [],
           [],
           []
          ],
          [
           [],
           [],
           []
          ],
          [
           [],
           [],
           []
          ],
          [
           [],
           [],
           []
          ],
          [
           [],
           [],
           []
          ],
          [
           [],
           [],
           []
          ],
          [
           [],
           [],
           []
          ],
          [
           [],
           [],
           []
          ],
          [
           [],
           [],
           []
          ],
          [
           [],
           [],
           []
          ],
          [
           [],
           [],
           []
          ],
          [
           [],
           [],
           []
          ],
          [
           [],
           [],
           []
          ],
          [
           [],
           [],
           []
          ],
          [
           [],
           [],
           []
          ],
          [
           [],
           [],
           []
          ],
          [
           [],
           [],
           []
          ],
          [
           [],
           [],
           []
          ],
          [
           [],
           [],
           []
          ],
          [
           [],
           [],
           []
          ],
          [
           [],
           [],
           []
          ],
          [
           [],
           [],
           []
          ],
          [
           [],
           [],
           []
          ],
          [
           [],
           [],
           []
          ],
          [
           [],
           [],
           []
          ],
          [
           [],
           [],
           []
          ],
          [
           [],
           [],
           []
          ],
          [
           [],
           [],
           []
          ],
          [
           [],
           [],
           []
          ],
          [
           [],
           [],
           []
          ],
          [
           [],
           [],
           []
          ],
          [
           [],
           [],
           []
          ],
          [
           [],
           [],
           []
          ],
          [
           [],
           [],
           []
          ],
          [
           [],
           [],
           []
          ],
          [
           [],
           [],
           []
          ]
         ],
         "hovertemplate": "<b>%{hovertext}</b><br><br>num_known=0<br>agg_x=%{x}<br>agg_y=%{y}<br>membership=%{marker.size}<br>qseqid=%{customdata[0]}<br>sequences=%{customdata[1]}<br>sseqid=%{customdata[2]}<br>num_patients=%{marker.color}<extra></extra>",
         "hovertext": [
          274,
          122,
          123,
          124,
          213,
          126,
          127,
          128,
          129,
          130,
          212,
          132,
          133,
          211,
          210,
          209,
          273,
          208,
          139,
          207,
          121,
          120,
          214,
          118,
          192,
          222,
          98,
          99,
          100,
          101,
          102,
          104,
          105,
          141,
          220,
          108,
          109,
          219,
          111,
          218,
          113,
          217,
          216,
          116,
          107,
          95,
          142,
          144,
          172,
          174,
          175,
          196,
          177,
          178,
          179,
          180,
          181,
          182,
          183,
          184,
          185,
          186,
          195,
          188,
          189,
          190,
          191,
          198,
          170,
          169,
          168,
          145,
          146,
          147,
          148,
          206,
          205,
          204,
          152,
          154,
          143,
          156,
          158,
          159,
          161,
          162,
          200,
          164,
          199,
          166,
          167,
          157,
          224,
          223,
          92,
          28,
          251,
          30,
          33,
          34,
          35,
          248,
          247,
          252,
          38,
          246,
          245,
          42,
          43,
          44,
          225,
          244,
          242,
          39,
          253,
          254,
          24,
          272,
          271,
          270,
          5,
          268,
          267,
          265,
          263,
          262,
          13,
          14,
          260,
          259,
          258,
          257,
          256,
          21,
          255,
          23,
          241,
          50,
          45,
          52,
          71,
          51,
          73,
          75,
          76,
          231,
          78,
          79,
          80,
          81,
          230,
          83,
          84,
          85,
          229,
          228,
          88,
          226,
          91,
          233,
          234,
          72,
          194,
          237,
          60,
          68,
          61,
          236,
          63,
          56,
          239,
          240,
          54,
          66,
          67,
          53,
          65,
          238
         ],
         "legendgroup": "",
         "marker": {
          "color": [
           16,
           35,
           22,
           21,
           21,
           32,
           39,
           42,
           39,
           19,
           17,
           46,
           22,
           25,
           30,
           17,
           9,
           16,
           24,
           21,
           35,
           9,
           17,
           21,
           21,
           20,
           21,
           34,
           21,
           46,
           20,
           31,
           28,
           29,
           18,
           25,
           24,
           20,
           39,
           15,
           35,
           14,
           17,
           34,
           35,
           33,
           38,
           23,
           26,
           35,
           26,
           26,
           19,
           22,
           39,
           36,
           18,
           36,
           21,
           23,
           17,
           17,
           18,
           16,
           23,
           17,
           35,
           18,
           66,
           23,
           33,
           29,
           11,
           35,
           30,
           17,
           59,
           15,
           24,
           24,
           24,
           24,
           24,
           20,
           42,
           67,
           10,
           28,
           20,
           38,
           28,
           23,
           12,
           23,
           42,
           40,
           15,
           126,
           43,
           52,
           37,
           27,
           14,
           20,
           58,
           17,
           27,
           29,
           58,
           29,
           25,
           56,
           17,
           99,
           19,
           48,
           45,
           12,
           17,
           9,
           68,
           19,
           21,
           8,
           16,
           15,
           37,
           42,
           20,
           23,
           12,
           22,
           25,
           63,
           22,
           77,
           17,
           33,
           86,
           16,
           50,
           40,
           49,
           50,
           73,
           16,
           42,
           84,
           98,
           32,
           16,
           60,
           104,
           18,
           11,
           19,
           31,
           36,
           32,
           19,
           17,
           51,
           12,
           18,
           25,
           39,
           52,
           29,
           92,
           50,
           21,
           15,
           26,
           29,
           36,
           19,
           20,
           16
          ],
          "coloraxis": "coloraxis",
          "size": [
           2,
           4,
           4,
           4,
           2,
           4,
           4,
           4,
           4,
           4,
           2,
           4,
           3,
           2,
           2,
           2,
           2,
           2,
           3,
           2,
           4,
           4,
           2,
           4,
           2,
           2,
           5,
           5,
           5,
           5,
           5,
           4,
           4,
           3,
           2,
           4,
           4,
           2,
           4,
           2,
           4,
           2,
           2,
           4,
           4,
           5,
           3,
           3,
           3,
           3,
           3,
           2,
           3,
           3,
           3,
           3,
           2,
           2,
           2,
           2,
           2,
           2,
           2,
           2,
           2,
           2,
           2,
           2,
           3,
           3,
           3,
           3,
           3,
           3,
           3,
           2,
           2,
           2,
           3,
           3,
           3,
           3,
           3,
           3,
           3,
           3,
           2,
           3,
           2,
           3,
           3,
           3,
           2,
           2,
           5,
           16,
           2,
           15,
           12,
           12,
           12,
           2,
           2,
           2,
           12,
           2,
           2,
           11,
           11,
           11,
           2,
           2,
           2,
           11,
           2,
           2,
           17,
           2,
           2,
           2,
           43,
           2,
           2,
           2,
           2,
           2,
           25,
           24,
           2,
           2,
           2,
           2,
           2,
           18,
           2,
           17,
           2,
           9,
           11,
           9,
           7,
           9,
           7,
           7,
           7,
           2,
           6,
           6,
           6,
           6,
           2,
           6,
           6,
           6,
           2,
           2,
           5,
           2,
           5,
           2,
           2,
           7,
           2,
           2,
           8,
           7,
           8,
           2,
           8,
           8,
           2,
           2,
           9,
           7,
           7,
           9,
           7,
           2
          ],
          "sizemode": "area",
          "sizeref": 0.1768,
          "symbol": "circle"
         },
         "mode": "markers",
         "name": "",
         "orientation": "v",
         "showlegend": false,
         "type": "scatter",
         "x": [
          0.08741186186671257,
          0.8100695908069611,
          -0.7325291484594345,
          0.24476170912384987,
          -0.7456682026386261,
          -0.23536089807748795,
          0.6344028115272522,
          0.7073276937007904,
          0.2402430884540081,
          0.03199549112468958,
          -0.2950160950422287,
          -0.416610985994339,
          -0.828447957833608,
          0.36117076873779297,
          0.7616588473320007,
          -0.2105705887079239,
          -0.500730499625206,
          0.9307701289653778,
          0.6318347056706747,
          -0.8717817962169647,
          -0.7095675617456436,
          0.634680300951004,
          -0.28142350912094116,
          0.4639918580651283,
          0.4699707627296448,
          0.5373697876930237,
          -0.06010209769010544,
          0.5316519260406494,
          0.33465894460678103,
          -0.7890691637992859,
          0.5765735626220703,
          -0.7624323815107346,
          -0.16452741250395775,
          -0.8024386763572693,
          0.20047051459550858,
          -0.7285996824502945,
          0.46708931773900986,
          -0.6150411367416382,
          -0.7974357455968857,
          0.5508686006069183,
          0.9116086363792419,
          0.2615208476781845,
          0.4159700572490692,
          0.5859400033950806,
          0.1170795951038599,
          0.07623241692781449,
          -0.3332040309906006,
          -0.8162234425544739,
          -0.2423804054657618,
          0.2269207884867986,
          -0.8299218813578287,
          0.5023595690727234,
          0.8250914414723715,
          -0.6391573349634806,
          -0.461915264527003,
          0.2970402141412099,
          -0.8721057176589966,
          0.05877603590488434,
          0.2691158503293991,
          0.9098321199417114,
          0.8894278705120087,
          -0.16932766884565353,
          -0.5620416700839996,
          -0.5515527725219727,
          0.4676477313041687,
          0.3714127540588379,
          0.6262489557266235,
          0.5624980628490448,
          -0.694759468237559,
          -0.3003203173478444,
          0.2621610263983409,
          0.2968331774075826,
          0.8705007632573446,
          -0.06348925456404686,
          -0.19840864837169647,
          -0.5165800452232361,
          0.8694146573543549,
          0.7559301555156708,
          0.7866345445315043,
          0.7487306793530782,
          -0.4577912191549937,
          0.5398016571998596,
          0.6613522370656332,
          0.4888985753059387,
          0.8708277146021525,
          0.7658725380897522,
          0.6188056766986847,
          -0.7336740096410116,
          0.7447687983512878,
          0.8088749249776205,
          -0.48909587661425274,
          0.7820912996927897,
          -0.7586423754692078,
          0.18046917766332626,
          -0.5883750677108764,
          0.43111768178641796,
          -0.645988792181015,
          -0.5750285863876343,
          0.5982988526423773,
          -0.03966560525198778,
          0.23255180194973946,
          -0.6876915395259857,
          0.37074439227581024,
          0.7702845335006714,
          -0.3061412001649539,
          -0.6200238764286041,
          -0.29533228278160095,
          -0.17783210223371332,
          0.7351628704504534,
          0.2017715641043403,
          -0.8404061794281006,
          -0.5375024080276489,
          -0.7863399982452393,
          0.6550398956645619,
          -0.7192818820476532,
          0.9096475839614868,
          -0.2187926436171812,
          0.8173423707485199,
          -0.8715997934341431,
          -0.8048095405101776,
          0.18120609119881032,
          -0.6961060166358948,
          0.891304224729538,
          -0.8520104289054871,
          -0.5360464453697205,
          -0.8016707301139832,
          0.07976516425609588,
          0.24205784065028033,
          -0.16603629291057587,
          0.012270500883460045,
          0.2767431288957596,
          -0.8458283543586731,
          0.09663471207022667,
          0.005168264505401667,
          0.4180283397436142,
          -0.4042127465500551,
          0.7373769283294678,
          -0.7846255699793497,
          -0.4001708057793704,
          -0.5715758403142294,
          0.3903074051652636,
          0.06136169077621566,
          -0.19233202508517674,
          0.5918283717972892,
          -0.642238165651049,
          -0.8581258654594421,
          -0.47708582878112793,
          -0.6432021458943685,
          0.7378510137399038,
          0.6603393952051798,
          0.4971752166748047,
          -0.66072545448939,
          -0.0510550681501627,
          -0.7831896245479584,
          0.5903081893920898,
          0.8315620124340057,
          -0.7181538343429565,
          0.22862257808446884,
          0.8547165274620057,
          -0.05041687376797199,
          -0.13210876286029816,
          -0.25246567385537283,
          -0.7585101127624512,
          0.4386874586343765,
          0.1448536217212677,
          -0.6107211198125567,
          -0.04158807406201959,
          0.7430870831012726,
          0.48030397668480873,
          -0.6796426102519035,
          -0.08361808210611343,
          -0.6688982546329498,
          0.6639356215794882,
          0.14884075735296523,
          -0.68770113161632,
          -0.5033220019605424,
          -0.7609620945794242,
          0.14003048092126846
         ],
         "xaxis": "x5",
         "y": [
          0.8490608632564545,
          0.1597374752163887,
          -0.2607179135084152,
          0.712304413318634,
          -0.5283397734165192,
          0.7222279459238052,
          0.32522203773260117,
          -0.40455781668424606,
          -0.8130281269550323,
          -0.7945081889629364,
          -0.7449380159378052,
          0.8310341089963913,
          -0.12845377624034882,
          -0.9506981372833252,
          0.3641768544912338,
          -0.8838756382465363,
          -0.8170453608036041,
          0.007607927080243826,
          0.5708160400390625,
          0.1737351194024086,
          0.3691842630505562,
          0.36278732120990753,
          -0.8244857788085938,
          -0.6307114213705063,
          -0.7157186269760132,
          -0.6637206971645355,
          0.7962396383285523,
          -0.5190059304237366,
          -0.6561058759689331,
          -0.23882408142089845,
          0.5131572246551513,
          -0.3266249820590019,
          0.7492632418870926,
          0.2362471471230189,
          -0.7944314479827881,
          -0.45338519662618637,
          0.628034234046936,
          -0.6763759851455688,
          0.36710909754037857,
          -0.8424915075302124,
          0.12957921996712685,
          0.9599418342113495,
          -0.8263508379459381,
          0.4645475670695305,
          0.8184793591499329,
          -0.7093389153480529,
          0.639624277750651,
          -0.2800912658373515,
          -0.8415272037188212,
          0.749064028263092,
          0.3239057660102844,
          -0.7018028199672699,
          0.31644266843795776,
          0.675926943620046,
          0.7231362263361613,
          -0.7309739391009012,
          0.1364191174507141,
          -0.8555690050125122,
          0.8299373984336853,
          0.0709880143404007,
          0.247247576713562,
          0.8142891228199005,
          0.568591833114624,
          -0.5466216802597046,
          0.7603584229946136,
          -0.8422617018222809,
          -0.6187876164913177,
          0.7541602551937103,
          0.5108335812886556,
          0.8635705510775248,
          0.6742053429285685,
          -0.6870562632878622,
          0.005355902947485447,
          0.8355867067972819,
          0.8495489160219828,
          0.7029245793819427,
          0.20073729008436203,
          0.23794417083263397,
          0.009002715970079104,
          -0.5114221572875977,
          0.7732784152030945,
          0.4614133636156718,
          -0.6109699408213297,
          -0.5477128426233927,
          0.05441923439502716,
          0.09384045004844666,
          0.6635446846485138,
          0.2768979072570801,
          0.44497257471084595,
          0.3727760811646779,
          0.8632955352465311,
          -0.022826241950194042,
          0.08895860984921455,
          -0.9636448919773102,
          0.5251018404960632,
          -0.31384641490876675,
          0.7352049946784973,
          0.20982277592023213,
          0.2632452150185903,
          -0.6109053194522858,
          0.5856858293215433,
          0.6456752121448517,
          0.7275796830654144,
          0.31589581072330475,
          -0.6457125842571259,
          0.6506184637546539,
          0.7327852845191956,
          0.6771037524396722,
          -0.0450568598779765,
          -0.6018094312060963,
          -0.554069310426712,
          -0.784300297498703,
          0.2670016884803772,
          0.16908384453166614,
          -0.3436197340488434,
          0.4553980976343155,
          -0.447954386472702,
          -0.3128082901239395,
          0.02485204767435789,
          0.1993967667222023,
          -0.10080226458782374,
          -0.6436246931552887,
          0.2798299491405487,
          -0.4132489413022995,
          0.5857003927230835,
          0.10917572677135468,
          -0.2972885203361511,
          -0.3554792255163193,
          -0.6415109932422638,
          0.875875860452652,
          -0.8448572754859924,
          -0.3316829204559326,
          -0.7556141018867493,
          -0.3680332882536782,
          -0.6913145184516907,
          0.37669433390392976,
          -0.09060515835881233,
          0.056332589437564216,
          -0.6297660740939054,
          0.4586481485101912,
          0.5917820164135524,
          0.7071573932965597,
          -0.7133204085486275,
          0.3969440077032362,
          0.4111344516277313,
          0.5732195973396301,
          0.565141628185908,
          -0.4351461281379064,
          -0.14662755032380423,
          -0.2657891859610875,
          0.7972534894943237,
          0.46938001612822217,
          -0.859913170337677,
          0.14872982849677405,
          -0.6116076111793518,
          0.2591441720724106,
          0.4532416880130768,
          0.8117696344852448,
          -0.16498131155967713,
          0.9910098016262054,
          -0.8892950713634491,
          0.7681993927274432,
          -0.32574737071990967,
          0.8609072864055634,
          0.7025825828313828,
          -0.4153147212096623,
          0.7020932734012604,
          0.48318029940128326,
          0.531848780810833,
          -0.3460739925503731,
          0.8988127112388611,
          -0.6707325875759125,
          -0.3514747851424747,
          -0.7700178878647941,
          0.2937735063689096,
          -0.594460474120246,
          -0.1793108390910285,
          -0.8376785814762115
         ],
         "yaxis": "y5"
        },
        {
         "customdata": [
          [
           [
            "clique_266_MEME-0_2.5e-010"
           ],
           [
            "VSEFKNNFDGCL"
           ],
           [
            "eid_1067233::cytoadherence_linked_asexual_protein_3.1_[Plasmodium_falciparum_3D7]"
           ]
          ],
          [
           [
            "clique_269_MEME-0_5.5e-009"
           ],
           [
            "DDYSKRNRS"
           ],
           [
            "eid_32301::Merozoite_surface_protein_1_precursor"
           ]
          ],
          [
           [
            "clique_227_MEME-0_2.2e-010"
           ],
           [
            "YNLNSGYNQNNG"
           ],
           [
            "eid_179965::merozoite_surface_protein_8"
           ]
          ],
          [
           [
            "clique_243_MEME-0_1.9e-010"
           ],
           [
            "KCDDRIFKKRNY"
           ],
           [
            "eid_1067745::erythrocyte_binding_antigen-165_[Plasmodium_falciparum_3D7]"
           ]
          ],
          [
           [
            "clique_201_MEME-0_1.2e-019"
           ],
           [
            "NKMDNKY"
           ],
           [
            "eid_141618::erythrocyte_membrane_protein_1"
           ]
          ],
          [
           [
            "clique_221_MEME-0_1.5e-011"
           ],
           [
            "AGYSDSDYDDEY"
           ],
           [
            "eid_74323::Circumsporozoite"
           ]
          ],
          [
           [
            "clique_197_MEME-0_1.2e-009"
           ],
           [
            "QVPVSGSPL"
           ],
           [
            "eid_1068342::merozoite_surface_protein_1"
           ]
          ],
          [
           [
            "clique_235_MEME-0_6.2e-013"
           ],
           [
            "SKSQPQHPK"
           ],
           [
            "eid_1066612::merozoite_surface_protein_10_[Plasmodium_falciparum_3D7]"
           ]
          ],
          [
           [
            "clique_203_MEME-0_1.1e-022"
           ],
           [
            "TADLNAEKTTDL"
           ],
           [
            "eid_1066649::cytoadherence_linked_asexual_protein_3.1_[Plasmodium_falciparum_3D7]"
           ]
          ],
          [
           [
            "clique_202_MEME-0_6.3e-034"
           ],
           [
            "PQGSTGA"
           ],
           [
            "eid_227384::serine_repeat_antigen_5"
           ]
          ],
          [
           [
            "clique_232_MEME-0_4.5e-007"
           ],
           [
            "GGCGDKKIC"
           ],
           [
            "eid_1068670::merozoite_surface_protein_4_[Plasmodium_falciparum_3D7]"
           ]
          ],
          [
           [
            "clique_249_MEME-0_4.4e-013"
           ],
           [
            "SDKINDYDN"
           ],
           [
            "eid_181598::PfEMP1"
           ]
          ],
          [
           [
            "clique_215_MEME-0_1.1e-009"
           ],
           [
            "TPPAPQGESGLK"
           ],
           [
            "eid_1066955::MSP7-like_protein_[Plasmodium_falciparum_3D7]"
           ]
          ],
          [
           [
            "clique_250_MEME-0_1.1e-007"
           ],
           [
            "NGLRNDAGRGNJ"
           ],
           [
            "eid_1068491::erythrocyte_binding_antigen-181_[Plasmodium_falciparum_3D7]"
           ]
          ],
          [
           [
            "clique_264_MEME-0_1.5e-012"
           ],
           [
            "KKSNTKYNI"
           ],
           [
            "eid_913343::petidase"
           ]
          ],
          [
           [
            "clique_261_MEME-0_1.5e-009"
           ],
           [
            "GTGQHGHMHGSR"
           ],
           [
            "eid_142387::merozoite_surface_protein_2"
           ]
          ],
          [
           [
            "clique_0_MEME-0_1.4e-6639",
            "clique_0_MEME-2_5.5e-302"
           ],
           [
            "VIPEELVEEVIP",
            "EVVEEVVPE"
           ],
           [
            "eid_11776::11-1_polypeptide"
           ]
          ],
          [
           [
            "clique_187_MEME-0_7.2e-011"
           ],
           [
            "GEHLYDIDG"
           ],
           [
            "eid_181804::erythrocyte_membrane_protein_1"
           ]
          ],
          [
           [
            "clique_86_MEME-0_2.5e-085"
           ],
           [
            "KEINKTDSE"
           ],
           [
            "eid_43692::hypothetical_protein_PF07_0086"
           ]
          ],
          [
           [
            "clique_82_MEME-1_1.2e-009"
           ],
           [
            "YKFLSMKH"
           ],
           [
            "eid_1067951::merozoite_surface_protein_10_[Plasmodium_falciparum_3D7]"
           ]
          ],
          [
           [
            "clique_77_MEME-0_4.3e-146"
           ],
           [
            "RRAKEKLQEQQS"
           ],
           [
            "eid_914045::liver_stage_antigen_1_[Plasmodium_falciparum_3D7]"
           ]
          ],
          [
           [
            "clique_74_MEME-1_1.3e-014"
           ],
           [
            "EDSAQDTZNSLD"
           ],
           [
            "eid_1067155::erythrocyte_binding_antigen-181_[Plasmodium_falciparum_3D7]"
           ]
          ],
          [
           [
            "clique_70_MEME-0_4.7e-106"
           ],
           [
            "DEGKTTDEGKTT"
           ],
           [
            "eid_1068178::mature_parasite-infected_erythrocyte_surface_antigen_[Plasmodium_falciparum_3D7]"
           ]
          ],
          [
           [
            "clique_193_MEME-0_6.0e-006"
           ],
           [
            "TYDEKVKKN"
           ],
           [
            "eid_59591::Liver_stage_antigen"
           ]
          ],
          [
           [
            "clique_64_MEME-0_2.9e-036",
            "clique_64_MEME-1_8.3e-021"
           ],
           [
            "YKLGNNKKSYLI",
            "NDVHKKKADDGN"
           ],
           [
            "eid_1068632::merozoite_surface_protein_10_[Plasmodium_falciparum_3D7]"
           ]
          ],
          [
           [
            "clique_62_MEME-0_9.4e-186"
           ],
           [
            "ETGESKETGESK"
           ],
           [
            "eid_1067392::mature_parasite-infected_erythrocyte_surface_antigen_[Plasmodium_falciparum_3D7]"
           ]
          ],
          [
           [
            "clique_59_MEME-0_1.1e-059"
           ],
           [
            "NEVKSEVKNEVK"
           ],
           [
            "eid_188093::CelTOS"
           ]
          ],
          [
           [
            "clique_58_MEME-0_2.1e-136"
           ],
           [
            "VNNNBNMDNIYN"
           ],
           [
            "eid_1068012::duffy_binding-like_merozoite_surface_protein_[Plasmodium_falciparum_3D7]"
           ]
          ],
          [
           [
            "clique_55_MEME-0_9.9e-161"
           ],
           [
            "ATKEASTSK"
           ],
           [
            "eid_58833::Knob-associated_histidine-rich_protein_precursor"
           ]
          ],
          [
           [
            "clique_48_MEME-0_7.7e-111"
           ],
           [
            "YYDTNDDDV"
           ],
           [
            "eid_1067887::acidic_basic_repeat_antigen_[Plasmodium_falciparum_3D7]"
           ]
          ],
          [
           [
            "clique_47_MEME-0_9.7e-301"
           ],
           [
            "SDGDKGP"
           ],
           [
            "eid_1067578::endoplasmin"
           ]
          ],
          [
           [
            "clique_87_MEME-1_3.2e-007"
           ],
           [
            "LSDDVRPDKNH"
           ],
           [
            "eid_1066748::erythrocyte_binding_antigen-175_[Plasmodium_falciparum_3D7]"
           ]
          ],
          [
           [
            "clique_46_MEME-0_1.2e-075",
            "clique_46_MEME-1_1.0e-011"
           ],
           [
            "KEKEEVKEKEEV",
            "NKDKVIEQE"
           ],
           [
            "eid_1066787::mature_parasite-infected_erythrocyte_surface_antigen_[Plasmodium_falciparum_3D7]"
           ]
          ],
          [
           [
            "clique_37_MEME-0_3.4e-131"
           ],
           [
            "FKRQMFYTLGDY"
           ],
           [
            "eid_1068080::cytoadherence_linked_asexual_protein_3.2_[Plasmodium_falciparum_3D7]"
           ]
          ],
          [
           [
            "clique_36_MEME-1_2.6e-011"
           ],
           [
            "LRDNYASEQEYF"
           ],
           [
            "eid_1068141::antigen_332"
           ]
          ],
          [
           [
            "clique_32_MEME-0_6.9e-225"
           ],
           [
            "GSVTEEIVE"
           ],
           [
            "eid_70537::antigen_332"
           ]
          ],
          [
           [
            "clique_29_MEME-1_5.8e-011"
           ],
           [
            "FDFRDSYFCNFP"
           ],
           [
            "eid_1068363::cytoadherence_linked_asexual_protein_8_[Plasmodium_falciparum_3D7]"
           ]
          ],
          [
           [
            "clique_27_MEME-1_1.2e-143"
           ],
           [
            "ELKNKEL"
           ],
           [
            "eid_1067038::erythrocyte_binding_antigen-181_[Plasmodium_falciparum_3D7]"
           ]
          ],
          [
           [
            "clique_26_MEME-0_5.0e-147"
           ],
           [
            "EKNEKNEKSIPN"
           ],
           [
            "eid_913475::probable_protein"
           ]
          ],
          [
           [
            "clique_22_MEME-0_7.8e-420"
           ],
           [
            "NTDTISTDN"
           ],
           [
            "eid_913827::sporozoite_threonine_and_asparagine-rich_protein_[Plasmodium_falciparum_3D7]"
           ]
          ],
          [
           [
            "clique_19_MEME-3_3.9e-013"
           ],
           [
            "HDHDDFCDC"
           ],
           [
            "eid_1066667::erythrocyte_binding_antigen-140_[Plasmodium_falciparum_3D7]"
           ]
          ],
          [
           [
            "clique_9_MEME-1_3.6e-021"
           ],
           [
            "NIEENIEEN"
           ],
           [
            "eid_46363::ring-infested_erythrocyte_surface_antigen"
           ]
          ],
          [
           [
            "clique_8_MEME-3_3.0e-028"
           ],
           [
            "SSTCECTDINNA"
           ],
           [
            "eid_58239::Merozoite_surface_protein_1_precursor"
           ]
          ],
          [
           [
            "clique_7_MEME-0_1.0e-957"
           ],
           [
            "QQSDLEQERLAK"
           ],
           [
            "eid_913175::liver_stage_antigen_1_[Plasmodium_falciparum_3D7]"
           ]
          ],
          [
           [
            "clique_6_MEME-0_2.2e-752"
           ],
           [
            "KDKCMKEIQQKF"
           ],
           [
            "eid_914089::apical_membrane_antigen-1"
           ]
          ],
          [
           [
            "clique_3_MEME-0_7.3e-1603",
            "clique_3_MEME-1_4.1e-139",
            "clique_3_MEME-4_2.5e-011"
           ],
           [
            "TTQEPVTTQEPV",
            "TTQEPVTTQ",
            "VTTQEPV"
           ],
           [
            "eid_78559::Interspersed_repeat_antigen"
           ]
          ],
          [
           [
            "clique_41_MEME-1_1.6e-016"
           ],
           [
            "HDDLYNSENSTF"
           ],
           [
            "eid_1067003::erythrocyte_binding_antigen-181_[Plasmodium_falciparum_3D7]"
           ]
          ],
          [
           [
            "clique_89_MEME-0_2.9e-025"
           ],
           [
            "FFTNKKKKDMNK"
           ],
           [
            "eid_28742::glutamate-rich_protein"
           ]
          ],
          [
           [
            "clique_137_MEME-0_8.2e-015"
           ],
           [
            "GSFDTIFDGFVN"
           ],
           [
            "eid_1067481::merozoite_surface_protein_[Plasmodium_falciparum_3D7]"
           ]
          ],
          [
           [
            "clique_93_MEME-0_3.3e-035"
           ],
           [
            "TNPCQLEYQWHT"
           ],
           [
            "eid_236266::erythrocyte_membrane_protein_1"
           ]
          ],
          [
           [
            "clique_160_MEME-0_3.2e-006"
           ],
           [
            "AATCGPNDGDCF"
           ],
           [
            "eid_16942::sporozoite_surface_protein_2"
           ]
          ],
          [
           [
            "clique_155_MEME-0_5.6e-044"
           ],
           [
            "NNGNNFNKDNIL"
           ],
           [
            "eid_1066909::merozoite_surface_protein_1"
           ]
          ],
          [
           [
            "clique_163_MEME-0_1.9e-063"
           ],
           [
            "YGPNGTYGPNGT"
           ],
           [
            "eid_58266::major_surface_antigen_p190"
           ]
          ],
          [
           [
            "clique_153_MEME-0_1.5e-048"
           ],
           [
            "KLIGDNKLIGDB"
           ],
           [
            "eid_11927::erythrocyte_membrane-associated_giant_protein_antigen_332"
           ]
          ],
          [
           [
            "clique_151_MEME-0_2.0e-006"
           ],
           [
            "DTSSLKKIKGSP"
           ],
           [
            "eid_1066934::erythrocyte_binding_antigen-175_[Plasmodium_falciparum_3D7]"
           ]
          ],
          [
           [
            "clique_150_MEME-0_8.2e-015"
           ],
           [
            "SNDKQSNDI"
           ],
           [
            "eid_1066904::merozoite_surface_protein_5_[Plasmodium_falciparum_3D7]"
           ]
          ],
          [
           [
            "clique_90_MEME-0_5.4e-042"
           ],
           [
            "EPFPNQKHKDLD"
           ],
           [
            "eid_914157::glutamate-rich_protein_[Plasmodium_falciparum_3D7]"
           ]
          ],
          [
           [
            "clique_149_MEME-0_5.4e-044"
           ],
           [
            "GASAPSGTS"
           ],
           [
            "eid_95828::merozoite_surface_protein_1"
           ]
          ],
          [
           [
            "clique_165_MEME-0_8.4e-014"
           ],
           [
            "HDDEEIYLNKIE"
           ],
           [
            "eid_49314::Circumsporozoite"
           ]
          ],
          [
           [
            "clique_138_MEME-0_5.6e-015"
           ],
           [
            "LNKDISNKDYKY"
           ],
           [
            "eid_1067988::apical_membrane_antigen_1"
           ]
          ],
          [
           [
            "clique_171_MEME-0_1.8e-023"
           ],
           [
            "YRSKYCQPCPDC"
           ],
           [
            "eid_236277::erythrocyte_membrane_protein_1"
           ]
          ],
          [
           [
            "clique_136_MEME-0_4.0e-008"
           ],
           [
            "NYIEPSYKIYTS"
           ],
           [
            "eid_45345::Merozoite_surface_protein_1_precursor"
           ]
          ],
          [
           [
            "clique_135_MEME-0_3.5e-012"
           ],
           [
            "REYQLDNEGPDT"
           ],
           [
            "eid_1067713::MSP7-like_protein_[Plasmodium_falciparum_3D7]"
           ]
          ],
          [
           [
            "clique_131_MEME-0_6.8e-016"
           ],
           [
            "LDRHRDMCEKW"
           ],
           [
            "eid_913519::erythrocyte_membrane_protein_1_(PfEMP1)"
           ]
          ],
          [
           [
            "clique_134_MEME-0_2.0e-010"
           ],
           [
            "KDKVLGEGDKED"
           ],
           [
            "eid_1067479::mature_parasite-infected_erythrocyte_surface_antigen_[Plasmodium_falciparum_3D7]"
           ]
          ],
          [
           [
            "clique_110_MEME-0_3.8e-035"
           ],
           [
            "PPTQDAETKSPT"
           ],
           [
            "eid_1068306::merozoite_surface_protein_2_[Plasmodium_falciparum_3D7]"
           ]
          ],
          [
           [
            "clique_125_MEME-0_3.8e-019"
           ],
           [
            "RTLNKEYEDGEL"
           ],
           [
            "eid_13975::erythrocyte_binding_protein"
           ]
          ],
          [
           [
            "clique_94_MEME-0_3.4e-035"
           ],
           [
            "NIKGEDNIKNKG"
           ],
           [
            "eid_1068647::cytoadherence_linked_asexual_protein_9_[Plasmodium_falciparum_3D7]"
           ]
          ],
          [
           [
            "clique_176_MEME-0_6.6e-014"
           ],
           [
            "GTAESKDSTGAS"
           ],
           [
            "eid_872058::Merozoite_surface_antigen_2_precursor"
           ]
          ],
          [
           [
            "clique_117_MEME-0_2.0e-037"
           ],
           [
            "SPRIFJSDBKDE"
           ],
           [
            "eid_230393::apical_membrane_antigen-1"
           ]
          ],
          [
           [
            "clique_115_MEME-1_3.8e-006"
           ],
           [
            "AGPQDPADDVTP"
           ],
           [
            "eid_913259::exported_protein_1_[Plasmodium_falciparum_3D7]"
           ]
          ],
          [
           [
            "clique_114_MEME-0_5.2e-047"
           ],
           [
            "CKCRPNYDCBIS"
           ],
           [
            "eid_1067389::merozoite_surface_protein_10_[Plasmodium_falciparum_3D7]"
           ]
          ],
          [
           [
            "clique_173_MEME-1_2.7e-011"
           ],
           [
            "EKRNGFDLBDDT"
           ],
           [
            "eid_45337::sporozoite_surface_protein_2"
           ]
          ],
          [
           [
            "clique_106_MEME-0_2.3e-015"
           ],
           [
            "QKQKQEE"
           ],
           [
            "eid_1068069::erythrocyte_binding_antigen-181_[Plasmodium_falciparum_3D7]"
           ]
          ],
          [
           [
            "clique_103_MEME-0_4.8e-175"
           ],
           [
            "MNGENIMNGDNK"
           ],
           [
            "eid_1067857::cytoadherence_linked_asexual_protein_3.1_[Plasmodium_falciparum_3D7]"
           ]
          ],
          [
           [
            "clique_97_MEME-0_1.8e-038"
           ],
           [
            "DNIEVNNTL"
           ],
           [
            "eid_913807::protein_kinase"
           ]
          ],
          [
           [
            "clique_96_MEME-0_6.6e-025"
           ],
           [
            "NDTTHNSYTNKK"
           ],
           [
            "eid_141616::erythrocyte_membrane_protein_1"
           ]
          ]
         ],
         "hovertemplate": "<b>%{hovertext}</b><br><br>num_known=1<br>agg_x=%{x}<br>agg_y=%{y}<br>membership=%{marker.size}<br>qseqid=%{customdata[0]}<br>sequences=%{customdata[1]}<br>sseqid=%{customdata[2]}<br>num_patients=%{marker.color}<extra></extra>",
         "hovertext": [
          266,
          269,
          227,
          243,
          201,
          221,
          197,
          235,
          203,
          202,
          232,
          249,
          215,
          250,
          264,
          261,
          0,
          187,
          86,
          82,
          77,
          74,
          70,
          193,
          64,
          62,
          59,
          58,
          55,
          48,
          47,
          87,
          46,
          37,
          36,
          32,
          29,
          27,
          26,
          22,
          19,
          9,
          8,
          7,
          6,
          3,
          41,
          89,
          137,
          93,
          160,
          155,
          163,
          153,
          151,
          150,
          90,
          149,
          165,
          138,
          171,
          136,
          135,
          131,
          134,
          110,
          125,
          94,
          176,
          117,
          115,
          114,
          173,
          106,
          103,
          97,
          96
         ],
         "legendgroup": "",
         "marker": {
          "color": [
           29,
           32,
           31,
           13,
           16,
           20,
           16,
           60,
           15,
           18,
           23,
           16,
           16,
           18,
           11,
           17,
           109,
           21,
           34,
           41,
           74,
           24,
           30,
           16,
           60,
           76,
           38,
           45,
           62,
           41,
           25,
           30,
           49,
           82,
           111,
           32,
           86,
           26,
           81,
           65,
           38,
           120,
           66,
           112,
           43,
           150,
           58,
           41,
           29,
           23,
           20,
           17,
           22,
           18,
           46,
           30,
           31,
           21,
           25,
           20,
           37,
           25,
           24,
           67,
           54,
           57,
           39,
           28,
           35,
           21,
           94,
           80,
           15,
           37,
           23,
           45,
           16
          ],
          "coloraxis": "coloraxis",
          "size": [
           2,
           2,
           2,
           2,
           2,
           2,
           2,
           2,
           2,
           2,
           2,
           2,
           2,
           2,
           2,
           2,
           442,
           2,
           5,
           6,
           6,
           7,
           7,
           2,
           8,
           8,
           8,
           8,
           8,
           10,
           10,
           5,
           10,
           12,
           12,
           13,
           16,
           16,
           16,
           17,
           21,
           29,
           35,
           37,
           40,
           66,
           11,
           5,
           3,
           5,
           3,
           3,
           3,
           3,
           3,
           3,
           5,
           3,
           3,
           3,
           3,
           3,
           3,
           4,
           3,
           4,
           4,
           5,
           3,
           4,
           4,
           4,
           3,
           4,
           5,
           5,
           5
          ],
          "sizemode": "area",
          "sizeref": 0.1768,
          "symbol": "circle"
         },
         "mode": "markers",
         "name": "",
         "orientation": "v",
         "showlegend": false,
         "type": "scatter",
         "x": [
          0.8088138401508331,
          -0.029771416448056698,
          -0.5245940387248993,
          -0.36516430974006653,
          -0.7757576406002045,
          0.6119994521141052,
          -0.8339196443557739,
          0.7811398804187775,
          0.8345828652381897,
          -0.19336730986833572,
          0.6876272559165955,
          0.6508760750293732,
          -0.11182162910699844,
          0.20879388600587845,
          -0.37875300645828247,
          0.8651771247386932,
          -0.02615169909829063,
          -0.3756464719772339,
          0.8048494100570679,
          -0.8144155840078989,
          0.7159413993358612,
          -0.6887073857443673,
          -0.7454547541482108,
          0.3804747611284256,
          0.007822185521945357,
          0.6567748636007309,
          -0.28789228573441505,
          0.3663102760910988,
          0.7045884728431702,
          0.49084936678409574,
          0.40621852278709414,
          -0.6805130004882812,
          -0.03305115923285484,
          -0.7463216086228689,
          -0.5991819600264231,
          0.5667216640252334,
          0.5042765699326992,
          0.41060037538409233,
          0.09840467059984803,
          -0.03609885932768092,
          -0.23342823485533395,
          -0.34268079955002356,
          0.2692410818168095,
          0.11591760069131851,
          -0.08154275566339493,
          -0.006451798264275898,
          -0.42346167835322296,
          0.6871515870094299,
          0.5612712899843851,
          -0.07728644162416458,
          -0.9616106748580933,
          0.06672866145769756,
          -0.56719042857488,
          -0.8051658868789673,
          -0.3647873302300771,
          -0.24448485672473907,
          -0.43243529200553893,
          0.21537665526072183,
          -0.7636982798576355,
          0.5446706414222717,
          0.7720518906911215,
          -0.047890586157639824,
          0.04479858403404554,
          -0.37384501099586487,
          0.6265184084574381,
          -0.4976905807852745,
          -0.2502428814768791,
          -0.4101529777050018,
          0.32461197177569073,
          0.7718800604343414,
          -0.6028413772583008,
          0.5436108559370041,
          -0.3164479434490204,
          -0.8008471131324768,
          0.6415163516998291,
          0.36697001457214357,
          -0.6409656763076782
         ],
         "xaxis": "x6",
         "y": [
          0.03163507115095854,
          -0.7895996570587158,
          0.8755220472812653,
          0.7359733283519745,
          -0.2835308313369751,
          -0.5454920828342438,
          -0.447564497590065,
          -0.3650553226470947,
          -0.2113407999277115,
          0.9115613996982574,
          0.32503172755241394,
          0.5238805413246155,
          0.6696903109550476,
          0.9444856345653534,
          -0.7112112939357758,
          0.08457915112376213,
          0.024530763413369384,
          0.6081429719924927,
          0.10372414588928222,
          -0.17295454442501068,
          -0.33973827958106995,
          0.03130759724548885,
          0.1851942539215088,
          0.8160973191261292,
          -0.7210352346301079,
          -0.46045122668147087,
          0.6705010160803795,
          0.6678571477532387,
          -0.1994694136083126,
          0.09913995116949081,
          -0.6081770062446594,
          -0.5152043104171753,
          0.7573771834373474,
          -0.08807527149717014,
          -0.10284117298821609,
          -0.2762374236033513,
          -0.10263409931212664,
          0.2838506232947111,
          -0.589042242616415,
          0.3896605512675117,
          -0.34472667887097314,
          0.01222865538800071,
          -0.04243125521710941,
          -0.2328540582109142,
          0.2968160308897495,
          -0.10992335855509296,
          -0.5572634014216337,
          0.2723546802997589,
          0.5546871423721313,
          0.8654568076133728,
          0.1573909471432368,
          0.7845801512400309,
          0.7064804037412008,
          -0.3762867550055186,
          -0.8642682234446207,
          0.9192782839139303,
          0.6857637286186218,
          -0.697797417640686,
          0.31534279386202496,
          -0.6333915193875631,
          -0.19899280865987143,
          -0.7477441628774008,
          0.8597670197486877,
          0.7909888327121735,
          0.40958784023920697,
          0.5874452143907547,
          -0.7408706545829773,
          0.6070397973060608,
          0.7463692426681519,
          0.2015015296638012,
          -0.7516595125198364,
          0.673716813325882,
          -0.8319299419720968,
          0.0065271588973701,
          0.4416560232639313,
          -0.7200682640075684,
          0.5865991711616516
         ],
         "yaxis": "y6"
        },
        {
         "customdata": [
          [
           [
            "clique_10_MEME-0_6.0e-954",
            "clique_10_MEME-3_1.7e-007"
           ],
           [
            "RNQNVNDRRNFD",
            "CGLEKGGPPWTP"
           ],
           [
            "eid_1067300::cytoadherence_linked_asexual_protein_3.1_[Plasmodium_falciparum_3D7]",
            "eid_181625::erythrocyte_membrane_protein_1"
           ]
          ],
          [
           [
            "clique_12_MEME-0_3.4e-203",
            "clique_12_MEME-1_7.4e-070"
           ],
           [
            "NNEYYKEFYKKL",
            "DYKTVDKFLNLL"
           ],
           [
            "eid_71354::major_merozoite_surface_antigen",
            "eid_1066699::glutamate-rich_protein_[Plasmodium_falciparum_3D7]"
           ]
          ],
          [
           [
            "clique_4_MEME-0_1.3e-2238",
            "clique_4_MEME-2_1.0e-011"
           ],
           [
            "GQQNTGLKNTPS",
            "LNKDIRNKDLKN"
           ],
           [
            "eid_1067917::high_molecular_weight_rhoptry_protein_3_[Plasmodium_falciparum_3D7]",
            "eid_1066836::erythrocyte_binding_antigen-175_[Plasmodium_falciparum_3D7]"
           ]
          ],
          [
           [
            "clique_2_MEME-1_4.1e-546",
            "clique_2_MEME-5_4.6e-017"
           ],
           [
            "YKZLKEVVEENG",
            "YEQLKDVVEKNG"
           ],
           [
            "eid_501542::liver_stage-specific_antigen_1",
            "eid_11799::Liver_stage_antigen"
           ]
          ],
          [
           [
            "clique_15_MEME-0_1.2e-209",
            "clique_15_MEME-1_1.7e-045"
           ],
           [
            "NDTEVKDKVKKQ",
            "VEEGIKE"
           ],
           [
            "eid_1067371::mature_parasite-infected_erythrocyte_surface_antigen_[Plasmodium_falciparum_3D7]",
            "eid_1068514::mature_parasite-infected_erythrocyte_surface_antigen_[Plasmodium_falciparum_3D7]"
           ]
          ],
          [
           [
            "clique_31_MEME-1_7.2e-033",
            "clique_31_MEME-2_1.6e-011"
           ],
           [
            "NADNKED",
            "FHKILTNTD"
           ],
           [
            "eid_1068703::MSP7-like_protein_[Plasmodium_falciparum_3D7]",
            "eid_73821::Glycophorin-binding_protein"
           ]
          ],
          [
           [
            "clique_17_MEME-0_6.0e-280",
            "clique_17_MEME-1_2.2e-083"
           ],
           [
            "RPQFLRWFTEWG",
            "DEFCRERKKKE"
           ],
           [
            "eid_1067630::erythrocyte_binding_antigen-140_[Plasmodium_falciparum_3D7]",
            "eid_181547::PfEMP1"
           ]
          ],
          [
           [
            "clique_25_MEME-0_5.2e-241",
            "clique_25_MEME-1_2.2e-056"
           ],
           [
            "FSDGSAFGGGLP",
            "GLSVTNS"
           ],
           [
            "eid_466413::erythrocyte_membrane_protein",
            "eid_1068688::duffy_binding-like_merozoite_surface_protein_[Plasmodium_falciparum_3D7]"
           ]
          ],
          [
           [
            "clique_140_MEME-0_3.7e-012",
            "clique_140_MEME-1_9.8e-006"
           ],
           [
            "HDIYDIDTF",
            "DMCKKCDEIKYL"
           ],
           [
            "eid_1067530::erythrocyte_binding_antigen-140_[Plasmodium_falciparum_3D7]",
            "eid_1066720::erythrocyte_binding_antigen-140_[Plasmodium_falciparum_3D7]"
           ]
          ],
          [
           [
            "clique_40_MEME-0_7.9e-324",
            "clique_40_MEME-1_3.1e-051"
           ],
           [
            "SNGREDKVSNGG",
            "DEVSNGRED"
           ],
           [
            "eid_914261::S-antigen_[Plasmodium_falciparum_3D7]",
            "eid_913339::S-antigen_[Plasmodium_falciparum_3D7]"
           ]
          ],
          [
           [
            "clique_49_MEME-0_1.2e-048",
            "clique_49_MEME-2_5.6e-007"
           ],
           [
            "INNMYVKEFYEK",
            "CWDKCDPFEQW"
           ],
           [
            "eid_179993::merozoite_surface_protein_8",
            "eid_1067841::erythrocyte_binding_antigen-175_[Plasmodium_falciparum_3D7]"
           ]
          ],
          [
           [
            "clique_57_MEME-0_1.9e-064",
            "clique_57_MEME-1_3.3e-023"
           ],
           [
            "EFYKKLKEKTYN",
            "NSINNIYY"
           ],
           [
            "eid_1066998::cytoadherence_linked_asexual_protein_3.2_[Plasmodium_falciparum_3D7]",
            "eid_1068183::cytoadherence_linked_asexual_protein_8_[Plasmodium_falciparum_3D7]"
           ]
          ],
          [
           [
            "clique_119_MEME-0_2.9e-030",
            "clique_119_MEME-1_1.8e-012"
           ],
           [
            "MSIHDGMKGQKY",
            "QNKNYKHLTDEE"
           ],
           [
            "eid_1066929::erythrocyte_binding_antigen-165_[Plasmodium_falciparum_3D7]",
            "eid_913567::conserved_Plasmodium_protein"
           ]
          ],
          [
           [
            "clique_112_MEME-0_7.6e-011",
            "clique_112_MEME-1_4.1e-008"
           ],
           [
            "FIQEDQEGQTHS",
            "NVPSGLDIDDIP"
           ],
           [
            "eid_1066701::glutamate-rich_protein_[Plasmodium_falciparum_3D7]",
            "eid_1068139::glutamate-rich_protein_[Plasmodium_falciparum_3D7]"
           ]
          ],
          [
           [
            "clique_69_MEME-0_2.0e-069",
            "clique_69_MEME-2_2.4e-010"
           ],
           [
            "PQYLRWFEEWAE",
            "VPTYFDY"
           ],
           [
            "eid_70460::erythrocyte_membrane_protein_1_var_IT-ICAM",
            "eid_236163::EMP1"
           ]
          ]
         ],
         "hovertemplate": "<b>%{hovertext}</b><br><br>num_known=2<br>agg_x=%{x}<br>agg_y=%{y}<br>membership=%{marker.size}<br>qseqid=%{customdata[0]}<br>sequences=%{customdata[1]}<br>sseqid=%{customdata[2]}<br>num_patients=%{marker.color}<extra></extra>",
         "hovertext": [
          10,
          12,
          4,
          2,
          15,
          31,
          17,
          25,
          140,
          40,
          49,
          57,
          119,
          112,
          69
         ],
         "legendgroup": "",
         "marker": {
          "color": [
           165,
           30,
           74,
           77,
           113,
           19,
           35,
           45,
           35,
           11,
           22,
           26,
           18,
           22,
           17
          ],
          "coloraxis": "coloraxis",
          "size": [
           27,
           26,
           57,
           83,
           24,
           14,
           22,
           16,
           3,
           11,
           10,
           8,
           4,
           4,
           7
          ],
          "sizemode": "area",
          "sizeref": 0.1768,
          "symbol": "circle"
         },
         "mode": "markers",
         "name": "",
         "orientation": "v",
         "showlegend": false,
         "type": "scatter",
         "x": [
          0.3591803279187944,
          -0.25988167180464816,
          0.10338734286396127,
          0.08025895059108734,
          0.35105259095629054,
          0.6075279755251748,
          -0.3343664082613858,
          -0.4259010087698698,
          -0.7932584285736084,
          0.322227957573804,
          -0.556621640920639,
          0.5065722018480301,
          0.42236149311065674,
          0.25955963134765625,
          -0.1252342632838658
         ],
         "xaxis": "x3",
         "y": [
          0.07750318282180363,
          -0.19101863984878248,
          -0.10604065029244673,
          0.11961116085210478,
          -0.2022253517061472,
          -0.031237879768013954,
          0.10529527135870674,
          -0.3898122198879719,
          -0.04763321081797282,
          0.605866405096921,
          -0.3887316703796387,
          0.5672794207930565,
          0.6053445190191269,
          -0.7590684592723846,
          -0.7227800233023507
         ],
         "yaxis": "y3"
        },
        {
         "customdata": [
          [
           [
            "clique_11_MEME-0_1.5e-339",
            "clique_11_MEME-1_2.1e-089",
            "clique_11_MEME-3_1.1e-013"
           ],
           [
            "QHEIVEVEEILP",
            "EDKNEKV",
            "HTEQLDLDHKTV"
           ],
           [
            "eid_469456::glutamate-rich_protein",
            "eid_913436::glutamate-rich_protein_[Plasmodium_falciparum_3D7]",
            "eid_1067856::glutamate-rich_protein_[Plasmodium_falciparum_3D7]"
           ]
          ]
         ],
         "hovertemplate": "<b>%{hovertext}</b><br><br>num_known=3<br>agg_x=%{x}<br>agg_y=%{y}<br>membership=%{marker.size}<br>qseqid=%{customdata[0]}<br>sequences=%{customdata[1]}<br>sseqid=%{customdata[2]}<br>num_patients=%{marker.color}<extra></extra>",
         "hovertext": [
          11
         ],
         "legendgroup": "",
         "marker": {
          "color": [
           109
          ],
          "coloraxis": "coloraxis",
          "size": [
           27
          ],
          "sizemode": "area",
          "sizeref": 0.1768,
          "symbol": "circle"
         },
         "mode": "markers",
         "name": "",
         "orientation": "v",
         "showlegend": false,
         "type": "scatter",
         "x": [
          0.18190574921943523
         ],
         "xaxis": "x4",
         "y": [
          0.2525546048526411
         ],
         "yaxis": "y4"
        },
        {
         "customdata": [
          [
           [
            "clique_18_MEME-0_8.1e-803",
            "clique_18_MEME-1_1.2e-044",
            "clique_18_MEME-2_1.4e-022",
            "clique_18_MEME-3_3.0e-014"
           ],
           [
            "PNANPNANPNAN",
            "PNANPNA",
            "RKPKHKKLKQPG",
            "QGNGQGHNM"
           ],
           [
            "eid_756411::Circumsporozoite_protein_precursor",
            "eid_68038::Circumsporozoite_protein_precursor",
            "eid_45110::Circumsporozoite_protein_precursor",
            "eid_118868::Circumsporozoite_protein_precursor"
           ]
          ],
          [
           [
            "clique_20_MEME-0_3.6e-104",
            "clique_20_MEME-1_4.2e-063",
            "clique_20_MEME-2_3.1e-017",
            "clique_20_MEME-3_1.4e-013",
            "clique_20_MEME-4_3.3e-007"
           ],
           [
            "EEEDEEDIEEEN",
            "QQSEKKSISKVD",
            "EKELSNQ",
            "ETNDTEDTD",
            "DIIKHNEDVR"
           ],
           [
            "eid_1067086::mature_parasite-infected_erythrocyte_surface_antigen_[Plasmodium_falciparum_3D7]",
            "eid_1068135::duffy_binding-like_merozoite_surface_protein_[Plasmodium_falciparum_3D7]",
            "eid_1067872::duffy_binding-like_merozoite_surface_protein_[Plasmodium_falciparum_3D7]",
            "eid_1068370::duffy_binding-like_merozoite_surface_protein_[Plasmodium_falciparum_3D7]"
           ]
          ],
          [
           [
            "clique_1_MEME-0_3.3e-1426",
            "clique_1_MEME-3_3.5e-125",
            "clique_1_MEME-5_1.1e-022",
            "clique_1_MEME-8_2.6e-008"
           ],
           [
            "GYSGIDJIBDVL",
            "VAKLTNSDP",
            "RKENELF",
            "WLDRHRD"
           ],
           [
            "eid_913933::RAP_protein",
            "eid_73821::Glycophorin-binding_protein",
            "eid_73540::PfEMP1_variant_1_of_strain_MC",
            "eid_913519::erythrocyte_membrane_protein_1_(PfEMP1)"
           ]
          ],
          [
           [
            "clique_16_MEME-0_2.1e-305",
            "clique_16_MEME-1_2.2e-052",
            "clique_16_MEME-2_8.5e-013",
            "clique_16_MEME-4_1.7e-007"
           ],
           [
            "EGGACANSKIKG",
            "MCDLNLEHJ",
            "DVHNTQNTHDLL",
            "AFHSNTPGNQR"
           ],
           [
            "eid_1067148::antigen_332",
            "eid_181762::PfEMP1",
            "eid_181618::erythrocyte_membrane_protein_1",
            "eid_1067253::high_molecular_weight_rhoptry_protein_3_[Plasmodium_falciparum_3D7]"
           ]
          ]
         ],
         "hovertemplate": "<b>%{hovertext}</b><br><br>num_known=4<br>agg_x=%{x}<br>agg_y=%{y}<br>membership=%{marker.size}<br>qseqid=%{customdata[0]}<br>sequences=%{customdata[1]}<br>sseqid=%{customdata[2]}<br>num_patients=%{marker.color}<extra></extra>",
         "hovertext": [
          18,
          20,
          1,
          16
         ],
         "legendgroup": "",
         "marker": {
          "color": [
           37,
           56,
           47,
           17
          ],
          "coloraxis": "coloraxis",
          "size": [
           22,
           20,
           120,
           23
          ],
          "sizemode": "area",
          "sizeref": 0.1768,
          "symbol": "circle"
         },
         "mode": "markers",
         "name": "",
         "orientation": "v",
         "showlegend": false,
         "type": "scatter",
         "x": [
          0.25066814910281787,
          -0.0884264275431633,
          -0.13976194635033606,
          -0.3181372064611186
         ],
         "xaxis": "x",
         "y": [
          -0.1914347227324139,
          -0.4147268280386925,
          0.024524692337339123,
          -0.1644568734842798
         ],
         "yaxis": "y"
        }
       ],
       "layout": {
        "annotations": [
         {
          "font": {},
          "showarrow": false,
          "text": "num_known=4",
          "x": 0.245,
          "xanchor": "center",
          "xref": "paper",
          "y": 0.2866666666666666,
          "yanchor": "bottom",
          "yref": "paper"
         },
         {
          "font": {},
          "showarrow": false,
          "text": "num_known=2",
          "x": 0.245,
          "xanchor": "center",
          "xref": "paper",
          "y": 0.6433333333333333,
          "yanchor": "bottom",
          "yref": "paper"
         },
         {
          "font": {},
          "showarrow": false,
          "text": "num_known=3",
          "x": 0.755,
          "xanchor": "center",
          "xref": "paper",
          "y": 0.6433333333333333,
          "yanchor": "bottom",
          "yref": "paper"
         },
         {
          "font": {},
          "showarrow": false,
          "text": "num_known=0",
          "x": 0.245,
          "xanchor": "center",
          "xref": "paper",
          "y": 0.9999999999999999,
          "yanchor": "bottom",
          "yref": "paper"
         },
         {
          "font": {},
          "showarrow": false,
          "text": "num_known=1",
          "x": 0.755,
          "xanchor": "center",
          "xref": "paper",
          "y": 0.9999999999999999,
          "yanchor": "bottom",
          "yref": "paper"
         }
        ],
        "coloraxis": {
         "colorbar": {
          "title": {
           "text": "num_patients"
          }
         },
         "colorscale": [
          [
           0,
           "rgb(255,247,236)"
          ],
          [
           0.125,
           "rgb(254,232,200)"
          ],
          [
           0.25,
           "rgb(253,212,158)"
          ],
          [
           0.375,
           "rgb(253,187,132)"
          ],
          [
           0.5,
           "rgb(252,141,89)"
          ],
          [
           0.625,
           "rgb(239,101,72)"
          ],
          [
           0.75,
           "rgb(215,48,31)"
          ],
          [
           0.875,
           "rgb(179,0,0)"
          ],
          [
           1,
           "rgb(127,0,0)"
          ]
         ]
        },
        "height": 1000,
        "legend": {
         "itemsizing": "constant",
         "tracegroupgap": 0
        },
        "margin": {
         "t": 60
        },
        "template": {
         "data": {
          "bar": [
           {
            "error_x": {
             "color": "#2a3f5f"
            },
            "error_y": {
             "color": "#2a3f5f"
            },
            "marker": {
             "line": {
              "color": "white",
              "width": 0.5
             }
            },
            "type": "bar"
           }
          ],
          "barpolar": [
           {
            "marker": {
             "line": {
              "color": "white",
              "width": 0.5
             }
            },
            "type": "barpolar"
           }
          ],
          "carpet": [
           {
            "aaxis": {
             "endlinecolor": "#2a3f5f",
             "gridcolor": "#C8D4E3",
             "linecolor": "#C8D4E3",
             "minorgridcolor": "#C8D4E3",
             "startlinecolor": "#2a3f5f"
            },
            "baxis": {
             "endlinecolor": "#2a3f5f",
             "gridcolor": "#C8D4E3",
             "linecolor": "#C8D4E3",
             "minorgridcolor": "#C8D4E3",
             "startlinecolor": "#2a3f5f"
            },
            "type": "carpet"
           }
          ],
          "choropleth": [
           {
            "colorbar": {
             "outlinewidth": 0,
             "ticks": ""
            },
            "type": "choropleth"
           }
          ],
          "contour": [
           {
            "colorbar": {
             "outlinewidth": 0,
             "ticks": ""
            },
            "colorscale": [
             [
              0,
              "#0d0887"
             ],
             [
              0.1111111111111111,
              "#46039f"
             ],
             [
              0.2222222222222222,
              "#7201a8"
             ],
             [
              0.3333333333333333,
              "#9c179e"
             ],
             [
              0.4444444444444444,
              "#bd3786"
             ],
             [
              0.5555555555555556,
              "#d8576b"
             ],
             [
              0.6666666666666666,
              "#ed7953"
             ],
             [
              0.7777777777777778,
              "#fb9f3a"
             ],
             [
              0.8888888888888888,
              "#fdca26"
             ],
             [
              1,
              "#f0f921"
             ]
            ],
            "type": "contour"
           }
          ],
          "contourcarpet": [
           {
            "colorbar": {
             "outlinewidth": 0,
             "ticks": ""
            },
            "type": "contourcarpet"
           }
          ],
          "heatmap": [
           {
            "colorbar": {
             "outlinewidth": 0,
             "ticks": ""
            },
            "colorscale": [
             [
              0,
              "#0d0887"
             ],
             [
              0.1111111111111111,
              "#46039f"
             ],
             [
              0.2222222222222222,
              "#7201a8"
             ],
             [
              0.3333333333333333,
              "#9c179e"
             ],
             [
              0.4444444444444444,
              "#bd3786"
             ],
             [
              0.5555555555555556,
              "#d8576b"
             ],
             [
              0.6666666666666666,
              "#ed7953"
             ],
             [
              0.7777777777777778,
              "#fb9f3a"
             ],
             [
              0.8888888888888888,
              "#fdca26"
             ],
             [
              1,
              "#f0f921"
             ]
            ],
            "type": "heatmap"
           }
          ],
          "heatmapgl": [
           {
            "colorbar": {
             "outlinewidth": 0,
             "ticks": ""
            },
            "colorscale": [
             [
              0,
              "#0d0887"
             ],
             [
              0.1111111111111111,
              "#46039f"
             ],
             [
              0.2222222222222222,
              "#7201a8"
             ],
             [
              0.3333333333333333,
              "#9c179e"
             ],
             [
              0.4444444444444444,
              "#bd3786"
             ],
             [
              0.5555555555555556,
              "#d8576b"
             ],
             [
              0.6666666666666666,
              "#ed7953"
             ],
             [
              0.7777777777777778,
              "#fb9f3a"
             ],
             [
              0.8888888888888888,
              "#fdca26"
             ],
             [
              1,
              "#f0f921"
             ]
            ],
            "type": "heatmapgl"
           }
          ],
          "histogram": [
           {
            "marker": {
             "colorbar": {
              "outlinewidth": 0,
              "ticks": ""
             }
            },
            "type": "histogram"
           }
          ],
          "histogram2d": [
           {
            "colorbar": {
             "outlinewidth": 0,
             "ticks": ""
            },
            "colorscale": [
             [
              0,
              "#0d0887"
             ],
             [
              0.1111111111111111,
              "#46039f"
             ],
             [
              0.2222222222222222,
              "#7201a8"
             ],
             [
              0.3333333333333333,
              "#9c179e"
             ],
             [
              0.4444444444444444,
              "#bd3786"
             ],
             [
              0.5555555555555556,
              "#d8576b"
             ],
             [
              0.6666666666666666,
              "#ed7953"
             ],
             [
              0.7777777777777778,
              "#fb9f3a"
             ],
             [
              0.8888888888888888,
              "#fdca26"
             ],
             [
              1,
              "#f0f921"
             ]
            ],
            "type": "histogram2d"
           }
          ],
          "histogram2dcontour": [
           {
            "colorbar": {
             "outlinewidth": 0,
             "ticks": ""
            },
            "colorscale": [
             [
              0,
              "#0d0887"
             ],
             [
              0.1111111111111111,
              "#46039f"
             ],
             [
              0.2222222222222222,
              "#7201a8"
             ],
             [
              0.3333333333333333,
              "#9c179e"
             ],
             [
              0.4444444444444444,
              "#bd3786"
             ],
             [
              0.5555555555555556,
              "#d8576b"
             ],
             [
              0.6666666666666666,
              "#ed7953"
             ],
             [
              0.7777777777777778,
              "#fb9f3a"
             ],
             [
              0.8888888888888888,
              "#fdca26"
             ],
             [
              1,
              "#f0f921"
             ]
            ],
            "type": "histogram2dcontour"
           }
          ],
          "mesh3d": [
           {
            "colorbar": {
             "outlinewidth": 0,
             "ticks": ""
            },
            "type": "mesh3d"
           }
          ],
          "parcoords": [
           {
            "line": {
             "colorbar": {
              "outlinewidth": 0,
              "ticks": ""
             }
            },
            "type": "parcoords"
           }
          ],
          "pie": [
           {
            "automargin": true,
            "type": "pie"
           }
          ],
          "scatter": [
           {
            "marker": {
             "colorbar": {
              "outlinewidth": 0,
              "ticks": ""
             }
            },
            "type": "scatter"
           }
          ],
          "scatter3d": [
           {
            "line": {
             "colorbar": {
              "outlinewidth": 0,
              "ticks": ""
             }
            },
            "marker": {
             "colorbar": {
              "outlinewidth": 0,
              "ticks": ""
             }
            },
            "type": "scatter3d"
           }
          ],
          "scattercarpet": [
           {
            "marker": {
             "colorbar": {
              "outlinewidth": 0,
              "ticks": ""
             }
            },
            "type": "scattercarpet"
           }
          ],
          "scattergeo": [
           {
            "marker": {
             "colorbar": {
              "outlinewidth": 0,
              "ticks": ""
             }
            },
            "type": "scattergeo"
           }
          ],
          "scattergl": [
           {
            "marker": {
             "colorbar": {
              "outlinewidth": 0,
              "ticks": ""
             }
            },
            "type": "scattergl"
           }
          ],
          "scattermapbox": [
           {
            "marker": {
             "colorbar": {
              "outlinewidth": 0,
              "ticks": ""
             }
            },
            "type": "scattermapbox"
           }
          ],
          "scatterpolar": [
           {
            "marker": {
             "colorbar": {
              "outlinewidth": 0,
              "ticks": ""
             }
            },
            "type": "scatterpolar"
           }
          ],
          "scatterpolargl": [
           {
            "marker": {
             "colorbar": {
              "outlinewidth": 0,
              "ticks": ""
             }
            },
            "type": "scatterpolargl"
           }
          ],
          "scatterternary": [
           {
            "marker": {
             "colorbar": {
              "outlinewidth": 0,
              "ticks": ""
             }
            },
            "type": "scatterternary"
           }
          ],
          "surface": [
           {
            "colorbar": {
             "outlinewidth": 0,
             "ticks": ""
            },
            "colorscale": [
             [
              0,
              "#0d0887"
             ],
             [
              0.1111111111111111,
              "#46039f"
             ],
             [
              0.2222222222222222,
              "#7201a8"
             ],
             [
              0.3333333333333333,
              "#9c179e"
             ],
             [
              0.4444444444444444,
              "#bd3786"
             ],
             [
              0.5555555555555556,
              "#d8576b"
             ],
             [
              0.6666666666666666,
              "#ed7953"
             ],
             [
              0.7777777777777778,
              "#fb9f3a"
             ],
             [
              0.8888888888888888,
              "#fdca26"
             ],
             [
              1,
              "#f0f921"
             ]
            ],
            "type": "surface"
           }
          ],
          "table": [
           {
            "cells": {
             "fill": {
              "color": "#EBF0F8"
             },
             "line": {
              "color": "white"
             }
            },
            "header": {
             "fill": {
              "color": "#C8D4E3"
             },
             "line": {
              "color": "white"
             }
            },
            "type": "table"
           }
          ]
         },
         "layout": {
          "annotationdefaults": {
           "arrowcolor": "#2a3f5f",
           "arrowhead": 0,
           "arrowwidth": 1
          },
          "coloraxis": {
           "colorbar": {
            "outlinewidth": 0,
            "ticks": ""
           }
          },
          "colorscale": {
           "diverging": [
            [
             0,
             "#8e0152"
            ],
            [
             0.1,
             "#c51b7d"
            ],
            [
             0.2,
             "#de77ae"
            ],
            [
             0.3,
             "#f1b6da"
            ],
            [
             0.4,
             "#fde0ef"
            ],
            [
             0.5,
             "#f7f7f7"
            ],
            [
             0.6,
             "#e6f5d0"
            ],
            [
             0.7,
             "#b8e186"
            ],
            [
             0.8,
             "#7fbc41"
            ],
            [
             0.9,
             "#4d9221"
            ],
            [
             1,
             "#276419"
            ]
           ],
           "sequential": [
            [
             0,
             "#0d0887"
            ],
            [
             0.1111111111111111,
             "#46039f"
            ],
            [
             0.2222222222222222,
             "#7201a8"
            ],
            [
             0.3333333333333333,
             "#9c179e"
            ],
            [
             0.4444444444444444,
             "#bd3786"
            ],
            [
             0.5555555555555556,
             "#d8576b"
            ],
            [
             0.6666666666666666,
             "#ed7953"
            ],
            [
             0.7777777777777778,
             "#fb9f3a"
            ],
            [
             0.8888888888888888,
             "#fdca26"
            ],
            [
             1,
             "#f0f921"
            ]
           ],
           "sequentialminus": [
            [
             0,
             "#0d0887"
            ],
            [
             0.1111111111111111,
             "#46039f"
            ],
            [
             0.2222222222222222,
             "#7201a8"
            ],
            [
             0.3333333333333333,
             "#9c179e"
            ],
            [
             0.4444444444444444,
             "#bd3786"
            ],
            [
             0.5555555555555556,
             "#d8576b"
            ],
            [
             0.6666666666666666,
             "#ed7953"
            ],
            [
             0.7777777777777778,
             "#fb9f3a"
            ],
            [
             0.8888888888888888,
             "#fdca26"
            ],
            [
             1,
             "#f0f921"
            ]
           ]
          },
          "colorway": [
           "#636efa",
           "#EF553B",
           "#00cc96",
           "#ab63fa",
           "#FFA15A",
           "#19d3f3",
           "#FF6692",
           "#B6E880",
           "#FF97FF",
           "#FECB52"
          ],
          "font": {
           "color": "#2a3f5f"
          },
          "geo": {
           "bgcolor": "white",
           "lakecolor": "white",
           "landcolor": "white",
           "showlakes": true,
           "showland": true,
           "subunitcolor": "#C8D4E3"
          },
          "hoverlabel": {
           "align": "left"
          },
          "hovermode": "closest",
          "mapbox": {
           "style": "light"
          },
          "paper_bgcolor": "white",
          "plot_bgcolor": "white",
          "polar": {
           "angularaxis": {
            "gridcolor": "#EBF0F8",
            "linecolor": "#EBF0F8",
            "ticks": ""
           },
           "bgcolor": "white",
           "radialaxis": {
            "gridcolor": "#EBF0F8",
            "linecolor": "#EBF0F8",
            "ticks": ""
           }
          },
          "scene": {
           "xaxis": {
            "backgroundcolor": "white",
            "gridcolor": "#DFE8F3",
            "gridwidth": 2,
            "linecolor": "#EBF0F8",
            "showbackground": true,
            "ticks": "",
            "zerolinecolor": "#EBF0F8"
           },
           "yaxis": {
            "backgroundcolor": "white",
            "gridcolor": "#DFE8F3",
            "gridwidth": 2,
            "linecolor": "#EBF0F8",
            "showbackground": true,
            "ticks": "",
            "zerolinecolor": "#EBF0F8"
           },
           "zaxis": {
            "backgroundcolor": "white",
            "gridcolor": "#DFE8F3",
            "gridwidth": 2,
            "linecolor": "#EBF0F8",
            "showbackground": true,
            "ticks": "",
            "zerolinecolor": "#EBF0F8"
           }
          },
          "shapedefaults": {
           "line": {
            "color": "#2a3f5f"
           }
          },
          "ternary": {
           "aaxis": {
            "gridcolor": "#DFE8F3",
            "linecolor": "#A2B1C6",
            "ticks": ""
           },
           "baxis": {
            "gridcolor": "#DFE8F3",
            "linecolor": "#A2B1C6",
            "ticks": ""
           },
           "bgcolor": "white",
           "caxis": {
            "gridcolor": "#DFE8F3",
            "linecolor": "#A2B1C6",
            "ticks": ""
           }
          },
          "title": {
           "x": 0.05
          },
          "xaxis": {
           "automargin": true,
           "gridcolor": "#EBF0F8",
           "linecolor": "#EBF0F8",
           "ticks": "",
           "title": {
            "standoff": 15
           },
           "zerolinecolor": "#EBF0F8",
           "zerolinewidth": 2
          },
          "yaxis": {
           "automargin": true,
           "gridcolor": "#EBF0F8",
           "linecolor": "#EBF0F8",
           "ticks": "",
           "title": {
            "standoff": 15
           },
           "zerolinecolor": "#EBF0F8",
           "zerolinewidth": 2
          }
         }
        },
        "width": 1000,
        "xaxis": {
         "anchor": "y",
         "domain": [
          0,
          0.49
         ],
         "title": {
          "text": "agg_x"
         }
        },
        "xaxis2": {
         "anchor": "y2",
         "domain": [
          0.51,
          1
         ],
         "matches": "x",
         "title": {
          "text": "agg_x"
         }
        },
        "xaxis3": {
         "anchor": "y3",
         "domain": [
          0,
          0.49
         ],
         "matches": "x",
         "showticklabels": false
        },
        "xaxis4": {
         "anchor": "y4",
         "domain": [
          0.51,
          1
         ],
         "matches": "x",
         "showticklabels": false
        },
        "xaxis5": {
         "anchor": "y5",
         "domain": [
          0,
          0.49
         ],
         "matches": "x",
         "showticklabels": false
        },
        "xaxis6": {
         "anchor": "y6",
         "domain": [
          0.51,
          1
         ],
         "matches": "x",
         "showticklabels": false
        },
        "yaxis": {
         "anchor": "x",
         "domain": [
          0,
          0.2866666666666666
         ],
         "title": {
          "text": "agg_y"
         }
        },
        "yaxis2": {
         "anchor": "x2",
         "domain": [
          0,
          0.2866666666666666
         ],
         "matches": "y",
         "showticklabels": false
        },
        "yaxis3": {
         "anchor": "x3",
         "domain": [
          0.35666666666666663,
          0.6433333333333333
         ],
         "matches": "y",
         "title": {
          "text": "agg_y"
         }
        },
        "yaxis4": {
         "anchor": "x4",
         "domain": [
          0.35666666666666663,
          0.6433333333333333
         ],
         "matches": "y",
         "showticklabels": false
        },
        "yaxis5": {
         "anchor": "x5",
         "domain": [
          0.7133333333333333,
          0.9999999999999999
         ],
         "matches": "y",
         "title": {
          "text": "agg_y"
         }
        },
        "yaxis6": {
         "anchor": "x6",
         "domain": [
          0.7133333333333333,
          0.9999999999999999
         ],
         "matches": "y",
         "showticklabels": false
        }
       }
      },
      "text/html": [
       "<div>\n",
       "        \n",
       "        \n",
       "            <div id=\"50ccc3b2-d88b-470d-ac5c-fa99446ee587\" class=\"plotly-graph-div\" style=\"height:1000px; width:1000px;\"></div>\n",
       "            <script type=\"text/javascript\">\n",
       "                require([\"plotly\"], function(Plotly) {\n",
       "                    window.PLOTLYENV=window.PLOTLYENV || {};\n",
       "                    \n",
       "                if (document.getElementById(\"50ccc3b2-d88b-470d-ac5c-fa99446ee587\")) {\n",
       "                    Plotly.newPlot(\n",
       "                        '50ccc3b2-d88b-470d-ac5c-fa99446ee587',\n",
       "                        [{\"customdata\": [[[], [], []], [[], [], []], [[], [], []], [[], [], []], [[], [], []], [[], [], []], [[], [], []], [[], [], []], [[], [], []], [[], [], []], [[], [], []], [[], [], []], [[], [], []], [[], [], []], [[], [], []], [[], [], []], [[], [], []], [[], [], []], [[], [], []], [[], [], []], [[], [], []], [[], [], []], [[], [], []], [[], [], []], [[], [], []], [[], [], []], [[], [], []], [[], [], []], [[], [], []], [[], [], []], [[], [], []], [[], [], []], [[], [], []], [[], [], []], [[], [], []], [[], [], []], [[], [], []], [[], [], []], [[], [], []], [[], [], []], [[], [], []], [[], [], []], [[], [], []], [[], [], []], [[], [], []], [[], [], []], [[], [], []], [[], [], []], [[], [], []], [[], [], []], [[], [], []], [[], [], []], [[], [], []], [[], [], []], [[], [], []], [[], [], []], [[], [], []], [[], [], []], [[], [], []], [[], [], []], [[], [], []], [[], [], []], [[], [], []], [[], [], []], [[], [], []], [[], [], []], [[], [], []], [[], [], []], [[], [], []], [[], [], []], [[], [], []], [[], [], []], [[], [], []], [[], [], []], [[], [], []], [[], [], []], [[], [], []], [[], [], []], [[], [], []], [[], [], []], [[], [], []], [[], [], []], [[], [], []], [[], [], []], [[], [], []], [[], [], []], [[], [], []], [[], [], []], [[], [], []], [[], [], []], [[], [], []], [[], [], []], [[], [], []], [[], [], []], [[], [], []], [[], [], []], [[], [], []], [[], [], []], [[], [], []], [[], [], []], [[], [], []], [[], [], []], [[], [], []], [[], [], []], [[], [], []], [[], [], []], [[], [], []], [[], [], []], [[], [], []], [[], [], []], [[], [], []], [[], [], []], [[], [], []], [[], [], []], [[], [], []], [[], [], []], [[], [], []], [[], [], []], [[], [], []], [[], [], []], [[], [], []], [[], [], []], [[], [], []], [[], [], []], [[], [], []], [[], [], []], [[], [], []], [[], [], []], [[], [], []], [[], [], []], [[], [], []], [[], [], []], [[], [], []], [[], [], []], [[], [], []], [[], [], []], [[], [], []], [[], [], []], [[], [], []], [[], [], []], [[], [], []], [[], [], []], [[], [], []], [[], [], []], [[], [], []], [[], [], []], [[], [], []], [[], [], []], [[], [], []], [[], [], []], [[], [], []], [[], [], []], [[], [], []], [[], [], []], [[], [], []], [[], [], []], [[], [], []], [[], [], []], [[], [], []], [[], [], []], [[], [], []], [[], [], []], [[], [], []], [[], [], []], [[], [], []], [[], [], []], [[], [], []], [[], [], []], [[], [], []], [[], [], []], [[], [], []], [[], [], []], [[], [], []], [[], [], []], [[], [], []], [[], [], []], [[], [], []], [[], [], []]], \"hovertemplate\": \"<b>%{hovertext}</b><br><br>num_known=0<br>agg_x=%{x}<br>agg_y=%{y}<br>membership=%{marker.size}<br>qseqid=%{customdata[0]}<br>sequences=%{customdata[1]}<br>sseqid=%{customdata[2]}<br>num_patients=%{marker.color}<extra></extra>\", \"hovertext\": [274.0, 122.0, 123.0, 124.0, 213.0, 126.0, 127.0, 128.0, 129.0, 130.0, 212.0, 132.0, 133.0, 211.0, 210.0, 209.0, 273.0, 208.0, 139.0, 207.0, 121.0, 120.0, 214.0, 118.0, 192.0, 222.0, 98.0, 99.0, 100.0, 101.0, 102.0, 104.0, 105.0, 141.0, 220.0, 108.0, 109.0, 219.0, 111.0, 218.0, 113.0, 217.0, 216.0, 116.0, 107.0, 95.0, 142.0, 144.0, 172.0, 174.0, 175.0, 196.0, 177.0, 178.0, 179.0, 180.0, 181.0, 182.0, 183.0, 184.0, 185.0, 186.0, 195.0, 188.0, 189.0, 190.0, 191.0, 198.0, 170.0, 169.0, 168.0, 145.0, 146.0, 147.0, 148.0, 206.0, 205.0, 204.0, 152.0, 154.0, 143.0, 156.0, 158.0, 159.0, 161.0, 162.0, 200.0, 164.0, 199.0, 166.0, 167.0, 157.0, 224.0, 223.0, 92.0, 28.0, 251.0, 30.0, 33.0, 34.0, 35.0, 248.0, 247.0, 252.0, 38.0, 246.0, 245.0, 42.0, 43.0, 44.0, 225.0, 244.0, 242.0, 39.0, 253.0, 254.0, 24.0, 272.0, 271.0, 270.0, 5.0, 268.0, 267.0, 265.0, 263.0, 262.0, 13.0, 14.0, 260.0, 259.0, 258.0, 257.0, 256.0, 21.0, 255.0, 23.0, 241.0, 50.0, 45.0, 52.0, 71.0, 51.0, 73.0, 75.0, 76.0, 231.0, 78.0, 79.0, 80.0, 81.0, 230.0, 83.0, 84.0, 85.0, 229.0, 228.0, 88.0, 226.0, 91.0, 233.0, 234.0, 72.0, 194.0, 237.0, 60.0, 68.0, 61.0, 236.0, 63.0, 56.0, 239.0, 240.0, 54.0, 66.0, 67.0, 53.0, 65.0, 238.0], \"legendgroup\": \"\", \"marker\": {\"color\": [16, 35, 22, 21, 21, 32, 39, 42, 39, 19, 17, 46, 22, 25, 30, 17, 9, 16, 24, 21, 35, 9, 17, 21, 21, 20, 21, 34, 21, 46, 20, 31, 28, 29, 18, 25, 24, 20, 39, 15, 35, 14, 17, 34, 35, 33, 38, 23, 26, 35, 26, 26, 19, 22, 39, 36, 18, 36, 21, 23, 17, 17, 18, 16, 23, 17, 35, 18, 66, 23, 33, 29, 11, 35, 30, 17, 59, 15, 24, 24, 24, 24, 24, 20, 42, 67, 10, 28, 20, 38, 28, 23, 12, 23, 42, 40, 15, 126, 43, 52, 37, 27, 14, 20, 58, 17, 27, 29, 58, 29, 25, 56, 17, 99, 19, 48, 45, 12, 17, 9, 68, 19, 21, 8, 16, 15, 37, 42, 20, 23, 12, 22, 25, 63, 22, 77, 17, 33, 86, 16, 50, 40, 49, 50, 73, 16, 42, 84, 98, 32, 16, 60, 104, 18, 11, 19, 31, 36, 32, 19, 17, 51, 12, 18, 25, 39, 52, 29, 92, 50, 21, 15, 26, 29, 36, 19, 20, 16], \"coloraxis\": \"coloraxis\", \"size\": [2, 4, 4, 4, 2, 4, 4, 4, 4, 4, 2, 4, 3, 2, 2, 2, 2, 2, 3, 2, 4, 4, 2, 4, 2, 2, 5, 5, 5, 5, 5, 4, 4, 3, 2, 4, 4, 2, 4, 2, 4, 2, 2, 4, 4, 5, 3, 3, 3, 3, 3, 2, 3, 3, 3, 3, 2, 2, 2, 2, 2, 2, 2, 2, 2, 2, 2, 2, 3, 3, 3, 3, 3, 3, 3, 2, 2, 2, 3, 3, 3, 3, 3, 3, 3, 3, 2, 3, 2, 3, 3, 3, 2, 2, 5, 16, 2, 15, 12, 12, 12, 2, 2, 2, 12, 2, 2, 11, 11, 11, 2, 2, 2, 11, 2, 2, 17, 2, 2, 2, 43, 2, 2, 2, 2, 2, 25, 24, 2, 2, 2, 2, 2, 18, 2, 17, 2, 9, 11, 9, 7, 9, 7, 7, 7, 2, 6, 6, 6, 6, 2, 6, 6, 6, 2, 2, 5, 2, 5, 2, 2, 7, 2, 2, 8, 7, 8, 2, 8, 8, 2, 2, 9, 7, 7, 9, 7, 2], \"sizemode\": \"area\", \"sizeref\": 0.1768, \"symbol\": \"circle\"}, \"mode\": \"markers\", \"name\": \"\", \"orientation\": \"v\", \"showlegend\": false, \"type\": \"scatter\", \"x\": [0.08741186186671257, 0.8100695908069611, -0.7325291484594345, 0.24476170912384987, -0.7456682026386261, -0.23536089807748795, 0.6344028115272522, 0.7073276937007904, 0.2402430884540081, 0.03199549112468958, -0.2950160950422287, -0.416610985994339, -0.828447957833608, 0.36117076873779297, 0.7616588473320007, -0.2105705887079239, -0.500730499625206, 0.9307701289653778, 0.6318347056706747, -0.8717817962169647, -0.7095675617456436, 0.634680300951004, -0.28142350912094116, 0.4639918580651283, 0.4699707627296448, 0.5373697876930237, -0.06010209769010544, 0.5316519260406494, 0.33465894460678103, -0.7890691637992859, 0.5765735626220703, -0.7624323815107346, -0.16452741250395775, -0.8024386763572693, 0.20047051459550858, -0.7285996824502945, 0.46708931773900986, -0.6150411367416382, -0.7974357455968857, 0.5508686006069183, 0.9116086363792419, 0.2615208476781845, 0.4159700572490692, 0.5859400033950806, 0.1170795951038599, 0.07623241692781449, -0.3332040309906006, -0.8162234425544739, -0.2423804054657618, 0.2269207884867986, -0.8299218813578287, 0.5023595690727234, 0.8250914414723715, -0.6391573349634806, -0.461915264527003, 0.2970402141412099, -0.8721057176589966, 0.05877603590488434, 0.2691158503293991, 0.9098321199417114, 0.8894278705120087, -0.16932766884565353, -0.5620416700839996, -0.5515527725219727, 0.4676477313041687, 0.3714127540588379, 0.6262489557266235, 0.5624980628490448, -0.694759468237559, -0.3003203173478444, 0.2621610263983409, 0.2968331774075826, 0.8705007632573446, -0.06348925456404686, -0.19840864837169647, -0.5165800452232361, 0.8694146573543549, 0.7559301555156708, 0.7866345445315043, 0.7487306793530782, -0.4577912191549937, 0.5398016571998596, 0.6613522370656332, 0.4888985753059387, 0.8708277146021525, 0.7658725380897522, 0.6188056766986847, -0.7336740096410116, 0.7447687983512878, 0.8088749249776205, -0.48909587661425274, 0.7820912996927897, -0.7586423754692078, 0.18046917766332626, -0.5883750677108764, 0.43111768178641796, -0.645988792181015, -0.5750285863876343, 0.5982988526423773, -0.03966560525198778, 0.23255180194973946, -0.6876915395259857, 0.37074439227581024, 0.7702845335006714, -0.3061412001649539, -0.6200238764286041, -0.29533228278160095, -0.17783210223371332, 0.7351628704504534, 0.2017715641043403, -0.8404061794281006, -0.5375024080276489, -0.7863399982452393, 0.6550398956645619, -0.7192818820476532, 0.9096475839614868, -0.2187926436171812, 0.8173423707485199, -0.8715997934341431, -0.8048095405101776, 0.18120609119881032, -0.6961060166358948, 0.891304224729538, -0.8520104289054871, -0.5360464453697205, -0.8016707301139832, 0.07976516425609588, 0.24205784065028033, -0.16603629291057587, 0.012270500883460045, 0.2767431288957596, -0.8458283543586731, 0.09663471207022667, 0.005168264505401667, 0.4180283397436142, -0.4042127465500551, 0.7373769283294678, -0.7846255699793497, -0.4001708057793704, -0.5715758403142294, 0.3903074051652636, 0.06136169077621566, -0.19233202508517674, 0.5918283717972892, -0.642238165651049, -0.8581258654594421, -0.47708582878112793, -0.6432021458943685, 0.7378510137399038, 0.6603393952051798, 0.4971752166748047, -0.66072545448939, -0.0510550681501627, -0.7831896245479584, 0.5903081893920898, 0.8315620124340057, -0.7181538343429565, 0.22862257808446884, 0.8547165274620057, -0.05041687376797199, -0.13210876286029816, -0.25246567385537283, -0.7585101127624512, 0.4386874586343765, 0.1448536217212677, -0.6107211198125567, -0.04158807406201959, 0.7430870831012726, 0.48030397668480873, -0.6796426102519035, -0.08361808210611343, -0.6688982546329498, 0.6639356215794882, 0.14884075735296523, -0.68770113161632, -0.5033220019605424, -0.7609620945794242, 0.14003048092126846], \"xaxis\": \"x5\", \"y\": [0.8490608632564545, 0.1597374752163887, -0.2607179135084152, 0.712304413318634, -0.5283397734165192, 0.7222279459238052, 0.32522203773260117, -0.40455781668424606, -0.8130281269550323, -0.7945081889629364, -0.7449380159378052, 0.8310341089963913, -0.12845377624034882, -0.9506981372833252, 0.3641768544912338, -0.8838756382465363, -0.8170453608036041, 0.007607927080243826, 0.5708160400390625, 0.1737351194024086, 0.3691842630505562, 0.36278732120990753, -0.8244857788085938, -0.6307114213705063, -0.7157186269760132, -0.6637206971645355, 0.7962396383285523, -0.5190059304237366, -0.6561058759689331, -0.23882408142089845, 0.5131572246551513, -0.3266249820590019, 0.7492632418870926, 0.2362471471230189, -0.7944314479827881, -0.45338519662618637, 0.628034234046936, -0.6763759851455688, 0.36710909754037857, -0.8424915075302124, 0.12957921996712685, 0.9599418342113495, -0.8263508379459381, 0.4645475670695305, 0.8184793591499329, -0.7093389153480529, 0.639624277750651, -0.2800912658373515, -0.8415272037188212, 0.749064028263092, 0.3239057660102844, -0.7018028199672699, 0.31644266843795776, 0.675926943620046, 0.7231362263361613, -0.7309739391009012, 0.1364191174507141, -0.8555690050125122, 0.8299373984336853, 0.0709880143404007, 0.247247576713562, 0.8142891228199005, 0.568591833114624, -0.5466216802597046, 0.7603584229946136, -0.8422617018222809, -0.6187876164913177, 0.7541602551937103, 0.5108335812886556, 0.8635705510775248, 0.6742053429285685, -0.6870562632878622, 0.005355902947485447, 0.8355867067972819, 0.8495489160219828, 0.7029245793819427, 0.20073729008436203, 0.23794417083263397, 0.009002715970079104, -0.5114221572875977, 0.7732784152030945, 0.4614133636156718, -0.6109699408213297, -0.5477128426233927, 0.05441923439502716, 0.09384045004844666, 0.6635446846485138, 0.2768979072570801, 0.44497257471084595, 0.3727760811646779, 0.8632955352465311, -0.022826241950194042, 0.08895860984921455, -0.9636448919773102, 0.5251018404960632, -0.31384641490876675, 0.7352049946784973, 0.20982277592023213, 0.2632452150185903, -0.6109053194522858, 0.5856858293215433, 0.6456752121448517, 0.7275796830654144, 0.31589581072330475, -0.6457125842571259, 0.6506184637546539, 0.7327852845191956, 0.6771037524396722, -0.0450568598779765, -0.6018094312060963, -0.554069310426712, -0.784300297498703, 0.2670016884803772, 0.16908384453166614, -0.3436197340488434, 0.4553980976343155, -0.447954386472702, -0.3128082901239395, 0.02485204767435789, 0.1993967667222023, -0.10080226458782374, -0.6436246931552887, 0.2798299491405487, -0.4132489413022995, 0.5857003927230835, 0.10917572677135468, -0.2972885203361511, -0.3554792255163193, -0.6415109932422638, 0.875875860452652, -0.8448572754859924, -0.3316829204559326, -0.7556141018867493, -0.3680332882536782, -0.6913145184516907, 0.37669433390392976, -0.09060515835881233, 0.056332589437564216, -0.6297660740939054, 0.4586481485101912, 0.5917820164135524, 0.7071573932965597, -0.7133204085486275, 0.3969440077032362, 0.4111344516277313, 0.5732195973396301, 0.565141628185908, -0.4351461281379064, -0.14662755032380423, -0.2657891859610875, 0.7972534894943237, 0.46938001612822217, -0.859913170337677, 0.14872982849677405, -0.6116076111793518, 0.2591441720724106, 0.4532416880130768, 0.8117696344852448, -0.16498131155967713, 0.9910098016262054, -0.8892950713634491, 0.7681993927274432, -0.32574737071990967, 0.8609072864055634, 0.7025825828313828, -0.4153147212096623, 0.7020932734012604, 0.48318029940128326, 0.531848780810833, -0.3460739925503731, 0.8988127112388611, -0.6707325875759125, -0.3514747851424747, -0.7700178878647941, 0.2937735063689096, -0.594460474120246, -0.1793108390910285, -0.8376785814762115], \"yaxis\": \"y5\"}, {\"customdata\": [[[\"clique_266_MEME-0_2.5e-010\"], [\"VSEFKNNFDGCL\"], [\"eid_1067233::cytoadherence_linked_asexual_protein_3.1_[Plasmodium_falciparum_3D7]\"]], [[\"clique_269_MEME-0_5.5e-009\"], [\"DDYSKRNRS\"], [\"eid_32301::Merozoite_surface_protein_1_precursor\"]], [[\"clique_227_MEME-0_2.2e-010\"], [\"YNLNSGYNQNNG\"], [\"eid_179965::merozoite_surface_protein_8\"]], [[\"clique_243_MEME-0_1.9e-010\"], [\"KCDDRIFKKRNY\"], [\"eid_1067745::erythrocyte_binding_antigen-165_[Plasmodium_falciparum_3D7]\"]], [[\"clique_201_MEME-0_1.2e-019\"], [\"NKMDNKY\"], [\"eid_141618::erythrocyte_membrane_protein_1\"]], [[\"clique_221_MEME-0_1.5e-011\"], [\"AGYSDSDYDDEY\"], [\"eid_74323::Circumsporozoite\"]], [[\"clique_197_MEME-0_1.2e-009\"], [\"QVPVSGSPL\"], [\"eid_1068342::merozoite_surface_protein_1\"]], [[\"clique_235_MEME-0_6.2e-013\"], [\"SKSQPQHPK\"], [\"eid_1066612::merozoite_surface_protein_10_[Plasmodium_falciparum_3D7]\"]], [[\"clique_203_MEME-0_1.1e-022\"], [\"TADLNAEKTTDL\"], [\"eid_1066649::cytoadherence_linked_asexual_protein_3.1_[Plasmodium_falciparum_3D7]\"]], [[\"clique_202_MEME-0_6.3e-034\"], [\"PQGSTGA\"], [\"eid_227384::serine_repeat_antigen_5\"]], [[\"clique_232_MEME-0_4.5e-007\"], [\"GGCGDKKIC\"], [\"eid_1068670::merozoite_surface_protein_4_[Plasmodium_falciparum_3D7]\"]], [[\"clique_249_MEME-0_4.4e-013\"], [\"SDKINDYDN\"], [\"eid_181598::PfEMP1\"]], [[\"clique_215_MEME-0_1.1e-009\"], [\"TPPAPQGESGLK\"], [\"eid_1066955::MSP7-like_protein_[Plasmodium_falciparum_3D7]\"]], [[\"clique_250_MEME-0_1.1e-007\"], [\"NGLRNDAGRGNJ\"], [\"eid_1068491::erythrocyte_binding_antigen-181_[Plasmodium_falciparum_3D7]\"]], [[\"clique_264_MEME-0_1.5e-012\"], [\"KKSNTKYNI\"], [\"eid_913343::petidase\"]], [[\"clique_261_MEME-0_1.5e-009\"], [\"GTGQHGHMHGSR\"], [\"eid_142387::merozoite_surface_protein_2\"]], [[\"clique_0_MEME-0_1.4e-6639\", \"clique_0_MEME-2_5.5e-302\"], [\"VIPEELVEEVIP\", \"EVVEEVVPE\"], [\"eid_11776::11-1_polypeptide\"]], [[\"clique_187_MEME-0_7.2e-011\"], [\"GEHLYDIDG\"], [\"eid_181804::erythrocyte_membrane_protein_1\"]], [[\"clique_86_MEME-0_2.5e-085\"], [\"KEINKTDSE\"], [\"eid_43692::hypothetical_protein_PF07_0086\"]], [[\"clique_82_MEME-1_1.2e-009\"], [\"YKFLSMKH\"], [\"eid_1067951::merozoite_surface_protein_10_[Plasmodium_falciparum_3D7]\"]], [[\"clique_77_MEME-0_4.3e-146\"], [\"RRAKEKLQEQQS\"], [\"eid_914045::liver_stage_antigen_1_[Plasmodium_falciparum_3D7]\"]], [[\"clique_74_MEME-1_1.3e-014\"], [\"EDSAQDTZNSLD\"], [\"eid_1067155::erythrocyte_binding_antigen-181_[Plasmodium_falciparum_3D7]\"]], [[\"clique_70_MEME-0_4.7e-106\"], [\"DEGKTTDEGKTT\"], [\"eid_1068178::mature_parasite-infected_erythrocyte_surface_antigen_[Plasmodium_falciparum_3D7]\"]], [[\"clique_193_MEME-0_6.0e-006\"], [\"TYDEKVKKN\"], [\"eid_59591::Liver_stage_antigen\"]], [[\"clique_64_MEME-0_2.9e-036\", \"clique_64_MEME-1_8.3e-021\"], [\"YKLGNNKKSYLI\", \"NDVHKKKADDGN\"], [\"eid_1068632::merozoite_surface_protein_10_[Plasmodium_falciparum_3D7]\"]], [[\"clique_62_MEME-0_9.4e-186\"], [\"ETGESKETGESK\"], [\"eid_1067392::mature_parasite-infected_erythrocyte_surface_antigen_[Plasmodium_falciparum_3D7]\"]], [[\"clique_59_MEME-0_1.1e-059\"], [\"NEVKSEVKNEVK\"], [\"eid_188093::CelTOS\"]], [[\"clique_58_MEME-0_2.1e-136\"], [\"VNNNBNMDNIYN\"], [\"eid_1068012::duffy_binding-like_merozoite_surface_protein_[Plasmodium_falciparum_3D7]\"]], [[\"clique_55_MEME-0_9.9e-161\"], [\"ATKEASTSK\"], [\"eid_58833::Knob-associated_histidine-rich_protein_precursor\"]], [[\"clique_48_MEME-0_7.7e-111\"], [\"YYDTNDDDV\"], [\"eid_1067887::acidic_basic_repeat_antigen_[Plasmodium_falciparum_3D7]\"]], [[\"clique_47_MEME-0_9.7e-301\"], [\"SDGDKGP\"], [\"eid_1067578::endoplasmin\"]], [[\"clique_87_MEME-1_3.2e-007\"], [\"LSDDVRPDKNH\"], [\"eid_1066748::erythrocyte_binding_antigen-175_[Plasmodium_falciparum_3D7]\"]], [[\"clique_46_MEME-0_1.2e-075\", \"clique_46_MEME-1_1.0e-011\"], [\"KEKEEVKEKEEV\", \"NKDKVIEQE\"], [\"eid_1066787::mature_parasite-infected_erythrocyte_surface_antigen_[Plasmodium_falciparum_3D7]\"]], [[\"clique_37_MEME-0_3.4e-131\"], [\"FKRQMFYTLGDY\"], [\"eid_1068080::cytoadherence_linked_asexual_protein_3.2_[Plasmodium_falciparum_3D7]\"]], [[\"clique_36_MEME-1_2.6e-011\"], [\"LRDNYASEQEYF\"], [\"eid_1068141::antigen_332\"]], [[\"clique_32_MEME-0_6.9e-225\"], [\"GSVTEEIVE\"], [\"eid_70537::antigen_332\"]], [[\"clique_29_MEME-1_5.8e-011\"], [\"FDFRDSYFCNFP\"], [\"eid_1068363::cytoadherence_linked_asexual_protein_8_[Plasmodium_falciparum_3D7]\"]], [[\"clique_27_MEME-1_1.2e-143\"], [\"ELKNKEL\"], [\"eid_1067038::erythrocyte_binding_antigen-181_[Plasmodium_falciparum_3D7]\"]], [[\"clique_26_MEME-0_5.0e-147\"], [\"EKNEKNEKSIPN\"], [\"eid_913475::probable_protein\"]], [[\"clique_22_MEME-0_7.8e-420\"], [\"NTDTISTDN\"], [\"eid_913827::sporozoite_threonine_and_asparagine-rich_protein_[Plasmodium_falciparum_3D7]\"]], [[\"clique_19_MEME-3_3.9e-013\"], [\"HDHDDFCDC\"], [\"eid_1066667::erythrocyte_binding_antigen-140_[Plasmodium_falciparum_3D7]\"]], [[\"clique_9_MEME-1_3.6e-021\"], [\"NIEENIEEN\"], [\"eid_46363::ring-infested_erythrocyte_surface_antigen\"]], [[\"clique_8_MEME-3_3.0e-028\"], [\"SSTCECTDINNA\"], [\"eid_58239::Merozoite_surface_protein_1_precursor\"]], [[\"clique_7_MEME-0_1.0e-957\"], [\"QQSDLEQERLAK\"], [\"eid_913175::liver_stage_antigen_1_[Plasmodium_falciparum_3D7]\"]], [[\"clique_6_MEME-0_2.2e-752\"], [\"KDKCMKEIQQKF\"], [\"eid_914089::apical_membrane_antigen-1\"]], [[\"clique_3_MEME-0_7.3e-1603\", \"clique_3_MEME-1_4.1e-139\", \"clique_3_MEME-4_2.5e-011\"], [\"TTQEPVTTQEPV\", \"TTQEPVTTQ\", \"VTTQEPV\"], [\"eid_78559::Interspersed_repeat_antigen\"]], [[\"clique_41_MEME-1_1.6e-016\"], [\"HDDLYNSENSTF\"], [\"eid_1067003::erythrocyte_binding_antigen-181_[Plasmodium_falciparum_3D7]\"]], [[\"clique_89_MEME-0_2.9e-025\"], [\"FFTNKKKKDMNK\"], [\"eid_28742::glutamate-rich_protein\"]], [[\"clique_137_MEME-0_8.2e-015\"], [\"GSFDTIFDGFVN\"], [\"eid_1067481::merozoite_surface_protein_[Plasmodium_falciparum_3D7]\"]], [[\"clique_93_MEME-0_3.3e-035\"], [\"TNPCQLEYQWHT\"], [\"eid_236266::erythrocyte_membrane_protein_1\"]], [[\"clique_160_MEME-0_3.2e-006\"], [\"AATCGPNDGDCF\"], [\"eid_16942::sporozoite_surface_protein_2\"]], [[\"clique_155_MEME-0_5.6e-044\"], [\"NNGNNFNKDNIL\"], [\"eid_1066909::merozoite_surface_protein_1\"]], [[\"clique_163_MEME-0_1.9e-063\"], [\"YGPNGTYGPNGT\"], [\"eid_58266::major_surface_antigen_p190\"]], [[\"clique_153_MEME-0_1.5e-048\"], [\"KLIGDNKLIGDB\"], [\"eid_11927::erythrocyte_membrane-associated_giant_protein_antigen_332\"]], [[\"clique_151_MEME-0_2.0e-006\"], [\"DTSSLKKIKGSP\"], [\"eid_1066934::erythrocyte_binding_antigen-175_[Plasmodium_falciparum_3D7]\"]], [[\"clique_150_MEME-0_8.2e-015\"], [\"SNDKQSNDI\"], [\"eid_1066904::merozoite_surface_protein_5_[Plasmodium_falciparum_3D7]\"]], [[\"clique_90_MEME-0_5.4e-042\"], [\"EPFPNQKHKDLD\"], [\"eid_914157::glutamate-rich_protein_[Plasmodium_falciparum_3D7]\"]], [[\"clique_149_MEME-0_5.4e-044\"], [\"GASAPSGTS\"], [\"eid_95828::merozoite_surface_protein_1\"]], [[\"clique_165_MEME-0_8.4e-014\"], [\"HDDEEIYLNKIE\"], [\"eid_49314::Circumsporozoite\"]], [[\"clique_138_MEME-0_5.6e-015\"], [\"LNKDISNKDYKY\"], [\"eid_1067988::apical_membrane_antigen_1\"]], [[\"clique_171_MEME-0_1.8e-023\"], [\"YRSKYCQPCPDC\"], [\"eid_236277::erythrocyte_membrane_protein_1\"]], [[\"clique_136_MEME-0_4.0e-008\"], [\"NYIEPSYKIYTS\"], [\"eid_45345::Merozoite_surface_protein_1_precursor\"]], [[\"clique_135_MEME-0_3.5e-012\"], [\"REYQLDNEGPDT\"], [\"eid_1067713::MSP7-like_protein_[Plasmodium_falciparum_3D7]\"]], [[\"clique_131_MEME-0_6.8e-016\"], [\"LDRHRDMCEKW\"], [\"eid_913519::erythrocyte_membrane_protein_1_(PfEMP1)\"]], [[\"clique_134_MEME-0_2.0e-010\"], [\"KDKVLGEGDKED\"], [\"eid_1067479::mature_parasite-infected_erythrocyte_surface_antigen_[Plasmodium_falciparum_3D7]\"]], [[\"clique_110_MEME-0_3.8e-035\"], [\"PPTQDAETKSPT\"], [\"eid_1068306::merozoite_surface_protein_2_[Plasmodium_falciparum_3D7]\"]], [[\"clique_125_MEME-0_3.8e-019\"], [\"RTLNKEYEDGEL\"], [\"eid_13975::erythrocyte_binding_protein\"]], [[\"clique_94_MEME-0_3.4e-035\"], [\"NIKGEDNIKNKG\"], [\"eid_1068647::cytoadherence_linked_asexual_protein_9_[Plasmodium_falciparum_3D7]\"]], [[\"clique_176_MEME-0_6.6e-014\"], [\"GTAESKDSTGAS\"], [\"eid_872058::Merozoite_surface_antigen_2_precursor\"]], [[\"clique_117_MEME-0_2.0e-037\"], [\"SPRIFJSDBKDE\"], [\"eid_230393::apical_membrane_antigen-1\"]], [[\"clique_115_MEME-1_3.8e-006\"], [\"AGPQDPADDVTP\"], [\"eid_913259::exported_protein_1_[Plasmodium_falciparum_3D7]\"]], [[\"clique_114_MEME-0_5.2e-047\"], [\"CKCRPNYDCBIS\"], [\"eid_1067389::merozoite_surface_protein_10_[Plasmodium_falciparum_3D7]\"]], [[\"clique_173_MEME-1_2.7e-011\"], [\"EKRNGFDLBDDT\"], [\"eid_45337::sporozoite_surface_protein_2\"]], [[\"clique_106_MEME-0_2.3e-015\"], [\"QKQKQEE\"], [\"eid_1068069::erythrocyte_binding_antigen-181_[Plasmodium_falciparum_3D7]\"]], [[\"clique_103_MEME-0_4.8e-175\"], [\"MNGENIMNGDNK\"], [\"eid_1067857::cytoadherence_linked_asexual_protein_3.1_[Plasmodium_falciparum_3D7]\"]], [[\"clique_97_MEME-0_1.8e-038\"], [\"DNIEVNNTL\"], [\"eid_913807::protein_kinase\"]], [[\"clique_96_MEME-0_6.6e-025\"], [\"NDTTHNSYTNKK\"], [\"eid_141616::erythrocyte_membrane_protein_1\"]]], \"hovertemplate\": \"<b>%{hovertext}</b><br><br>num_known=1<br>agg_x=%{x}<br>agg_y=%{y}<br>membership=%{marker.size}<br>qseqid=%{customdata[0]}<br>sequences=%{customdata[1]}<br>sseqid=%{customdata[2]}<br>num_patients=%{marker.color}<extra></extra>\", \"hovertext\": [266.0, 269.0, 227.0, 243.0, 201.0, 221.0, 197.0, 235.0, 203.0, 202.0, 232.0, 249.0, 215.0, 250.0, 264.0, 261.0, 0.0, 187.0, 86.0, 82.0, 77.0, 74.0, 70.0, 193.0, 64.0, 62.0, 59.0, 58.0, 55.0, 48.0, 47.0, 87.0, 46.0, 37.0, 36.0, 32.0, 29.0, 27.0, 26.0, 22.0, 19.0, 9.0, 8.0, 7.0, 6.0, 3.0, 41.0, 89.0, 137.0, 93.0, 160.0, 155.0, 163.0, 153.0, 151.0, 150.0, 90.0, 149.0, 165.0, 138.0, 171.0, 136.0, 135.0, 131.0, 134.0, 110.0, 125.0, 94.0, 176.0, 117.0, 115.0, 114.0, 173.0, 106.0, 103.0, 97.0, 96.0], \"legendgroup\": \"\", \"marker\": {\"color\": [29, 32, 31, 13, 16, 20, 16, 60, 15, 18, 23, 16, 16, 18, 11, 17, 109, 21, 34, 41, 74, 24, 30, 16, 60, 76, 38, 45, 62, 41, 25, 30, 49, 82, 111, 32, 86, 26, 81, 65, 38, 120, 66, 112, 43, 150, 58, 41, 29, 23, 20, 17, 22, 18, 46, 30, 31, 21, 25, 20, 37, 25, 24, 67, 54, 57, 39, 28, 35, 21, 94, 80, 15, 37, 23, 45, 16], \"coloraxis\": \"coloraxis\", \"size\": [2, 2, 2, 2, 2, 2, 2, 2, 2, 2, 2, 2, 2, 2, 2, 2, 442, 2, 5, 6, 6, 7, 7, 2, 8, 8, 8, 8, 8, 10, 10, 5, 10, 12, 12, 13, 16, 16, 16, 17, 21, 29, 35, 37, 40, 66, 11, 5, 3, 5, 3, 3, 3, 3, 3, 3, 5, 3, 3, 3, 3, 3, 3, 4, 3, 4, 4, 5, 3, 4, 4, 4, 3, 4, 5, 5, 5], \"sizemode\": \"area\", \"sizeref\": 0.1768, \"symbol\": \"circle\"}, \"mode\": \"markers\", \"name\": \"\", \"orientation\": \"v\", \"showlegend\": false, \"type\": \"scatter\", \"x\": [0.8088138401508331, -0.029771416448056698, -0.5245940387248993, -0.36516430974006653, -0.7757576406002045, 0.6119994521141052, -0.8339196443557739, 0.7811398804187775, 0.8345828652381897, -0.19336730986833572, 0.6876272559165955, 0.6508760750293732, -0.11182162910699844, 0.20879388600587845, -0.37875300645828247, 0.8651771247386932, -0.02615169909829063, -0.3756464719772339, 0.8048494100570679, -0.8144155840078989, 0.7159413993358612, -0.6887073857443673, -0.7454547541482108, 0.3804747611284256, 0.007822185521945357, 0.6567748636007309, -0.28789228573441505, 0.3663102760910988, 0.7045884728431702, 0.49084936678409574, 0.40621852278709414, -0.6805130004882812, -0.03305115923285484, -0.7463216086228689, -0.5991819600264231, 0.5667216640252334, 0.5042765699326992, 0.41060037538409233, 0.09840467059984803, -0.03609885932768092, -0.23342823485533395, -0.34268079955002356, 0.2692410818168095, 0.11591760069131851, -0.08154275566339493, -0.006451798264275898, -0.42346167835322296, 0.6871515870094299, 0.5612712899843851, -0.07728644162416458, -0.9616106748580933, 0.06672866145769756, -0.56719042857488, -0.8051658868789673, -0.3647873302300771, -0.24448485672473907, -0.43243529200553893, 0.21537665526072183, -0.7636982798576355, 0.5446706414222717, 0.7720518906911215, -0.047890586157639824, 0.04479858403404554, -0.37384501099586487, 0.6265184084574381, -0.4976905807852745, -0.2502428814768791, -0.4101529777050018, 0.32461197177569073, 0.7718800604343414, -0.6028413772583008, 0.5436108559370041, -0.3164479434490204, -0.8008471131324768, 0.6415163516998291, 0.36697001457214357, -0.6409656763076782], \"xaxis\": \"x6\", \"y\": [0.03163507115095854, -0.7895996570587158, 0.8755220472812653, 0.7359733283519745, -0.2835308313369751, -0.5454920828342438, -0.447564497590065, -0.3650553226470947, -0.2113407999277115, 0.9115613996982574, 0.32503172755241394, 0.5238805413246155, 0.6696903109550476, 0.9444856345653534, -0.7112112939357758, 0.08457915112376213, 0.024530763413369384, 0.6081429719924927, 0.10372414588928222, -0.17295454442501068, -0.33973827958106995, 0.03130759724548885, 0.1851942539215088, 0.8160973191261292, -0.7210352346301079, -0.46045122668147087, 0.6705010160803795, 0.6678571477532387, -0.1994694136083126, 0.09913995116949081, -0.6081770062446594, -0.5152043104171753, 0.7573771834373474, -0.08807527149717014, -0.10284117298821609, -0.2762374236033513, -0.10263409931212664, 0.2838506232947111, -0.589042242616415, 0.3896605512675117, -0.34472667887097314, 0.01222865538800071, -0.04243125521710941, -0.2328540582109142, 0.2968160308897495, -0.10992335855509296, -0.5572634014216337, 0.2723546802997589, 0.5546871423721313, 0.8654568076133728, 0.1573909471432368, 0.7845801512400309, 0.7064804037412008, -0.3762867550055186, -0.8642682234446207, 0.9192782839139303, 0.6857637286186218, -0.697797417640686, 0.31534279386202496, -0.6333915193875631, -0.19899280865987143, -0.7477441628774008, 0.8597670197486877, 0.7909888327121735, 0.40958784023920697, 0.5874452143907547, -0.7408706545829773, 0.6070397973060608, 0.7463692426681519, 0.2015015296638012, -0.7516595125198364, 0.673716813325882, -0.8319299419720968, 0.0065271588973701, 0.4416560232639313, -0.7200682640075684, 0.5865991711616516], \"yaxis\": \"y6\"}, {\"customdata\": [[[\"clique_10_MEME-0_6.0e-954\", \"clique_10_MEME-3_1.7e-007\"], [\"RNQNVNDRRNFD\", \"CGLEKGGPPWTP\"], [\"eid_1067300::cytoadherence_linked_asexual_protein_3.1_[Plasmodium_falciparum_3D7]\", \"eid_181625::erythrocyte_membrane_protein_1\"]], [[\"clique_12_MEME-0_3.4e-203\", \"clique_12_MEME-1_7.4e-070\"], [\"NNEYYKEFYKKL\", \"DYKTVDKFLNLL\"], [\"eid_71354::major_merozoite_surface_antigen\", \"eid_1066699::glutamate-rich_protein_[Plasmodium_falciparum_3D7]\"]], [[\"clique_4_MEME-0_1.3e-2238\", \"clique_4_MEME-2_1.0e-011\"], [\"GQQNTGLKNTPS\", \"LNKDIRNKDLKN\"], [\"eid_1067917::high_molecular_weight_rhoptry_protein_3_[Plasmodium_falciparum_3D7]\", \"eid_1066836::erythrocyte_binding_antigen-175_[Plasmodium_falciparum_3D7]\"]], [[\"clique_2_MEME-1_4.1e-546\", \"clique_2_MEME-5_4.6e-017\"], [\"YKZLKEVVEENG\", \"YEQLKDVVEKNG\"], [\"eid_501542::liver_stage-specific_antigen_1\", \"eid_11799::Liver_stage_antigen\"]], [[\"clique_15_MEME-0_1.2e-209\", \"clique_15_MEME-1_1.7e-045\"], [\"NDTEVKDKVKKQ\", \"VEEGIKE\"], [\"eid_1067371::mature_parasite-infected_erythrocyte_surface_antigen_[Plasmodium_falciparum_3D7]\", \"eid_1068514::mature_parasite-infected_erythrocyte_surface_antigen_[Plasmodium_falciparum_3D7]\"]], [[\"clique_31_MEME-1_7.2e-033\", \"clique_31_MEME-2_1.6e-011\"], [\"NADNKED\", \"FHKILTNTD\"], [\"eid_1068703::MSP7-like_protein_[Plasmodium_falciparum_3D7]\", \"eid_73821::Glycophorin-binding_protein\"]], [[\"clique_17_MEME-0_6.0e-280\", \"clique_17_MEME-1_2.2e-083\"], [\"RPQFLRWFTEWG\", \"DEFCRERKKKE\"], [\"eid_1067630::erythrocyte_binding_antigen-140_[Plasmodium_falciparum_3D7]\", \"eid_181547::PfEMP1\"]], [[\"clique_25_MEME-0_5.2e-241\", \"clique_25_MEME-1_2.2e-056\"], [\"FSDGSAFGGGLP\", \"GLSVTNS\"], [\"eid_466413::erythrocyte_membrane_protein\", \"eid_1068688::duffy_binding-like_merozoite_surface_protein_[Plasmodium_falciparum_3D7]\"]], [[\"clique_140_MEME-0_3.7e-012\", \"clique_140_MEME-1_9.8e-006\"], [\"HDIYDIDTF\", \"DMCKKCDEIKYL\"], [\"eid_1067530::erythrocyte_binding_antigen-140_[Plasmodium_falciparum_3D7]\", \"eid_1066720::erythrocyte_binding_antigen-140_[Plasmodium_falciparum_3D7]\"]], [[\"clique_40_MEME-0_7.9e-324\", \"clique_40_MEME-1_3.1e-051\"], [\"SNGREDKVSNGG\", \"DEVSNGRED\"], [\"eid_914261::S-antigen_[Plasmodium_falciparum_3D7]\", \"eid_913339::S-antigen_[Plasmodium_falciparum_3D7]\"]], [[\"clique_49_MEME-0_1.2e-048\", \"clique_49_MEME-2_5.6e-007\"], [\"INNMYVKEFYEK\", \"CWDKCDPFEQW\"], [\"eid_179993::merozoite_surface_protein_8\", \"eid_1067841::erythrocyte_binding_antigen-175_[Plasmodium_falciparum_3D7]\"]], [[\"clique_57_MEME-0_1.9e-064\", \"clique_57_MEME-1_3.3e-023\"], [\"EFYKKLKEKTYN\", \"NSINNIYY\"], [\"eid_1066998::cytoadherence_linked_asexual_protein_3.2_[Plasmodium_falciparum_3D7]\", \"eid_1068183::cytoadherence_linked_asexual_protein_8_[Plasmodium_falciparum_3D7]\"]], [[\"clique_119_MEME-0_2.9e-030\", \"clique_119_MEME-1_1.8e-012\"], [\"MSIHDGMKGQKY\", \"QNKNYKHLTDEE\"], [\"eid_1066929::erythrocyte_binding_antigen-165_[Plasmodium_falciparum_3D7]\", \"eid_913567::conserved_Plasmodium_protein\"]], [[\"clique_112_MEME-0_7.6e-011\", \"clique_112_MEME-1_4.1e-008\"], [\"FIQEDQEGQTHS\", \"NVPSGLDIDDIP\"], [\"eid_1066701::glutamate-rich_protein_[Plasmodium_falciparum_3D7]\", \"eid_1068139::glutamate-rich_protein_[Plasmodium_falciparum_3D7]\"]], [[\"clique_69_MEME-0_2.0e-069\", \"clique_69_MEME-2_2.4e-010\"], [\"PQYLRWFEEWAE\", \"VPTYFDY\"], [\"eid_70460::erythrocyte_membrane_protein_1_var_IT-ICAM\", \"eid_236163::EMP1\"]]], \"hovertemplate\": \"<b>%{hovertext}</b><br><br>num_known=2<br>agg_x=%{x}<br>agg_y=%{y}<br>membership=%{marker.size}<br>qseqid=%{customdata[0]}<br>sequences=%{customdata[1]}<br>sseqid=%{customdata[2]}<br>num_patients=%{marker.color}<extra></extra>\", \"hovertext\": [10.0, 12.0, 4.0, 2.0, 15.0, 31.0, 17.0, 25.0, 140.0, 40.0, 49.0, 57.0, 119.0, 112.0, 69.0], \"legendgroup\": \"\", \"marker\": {\"color\": [165, 30, 74, 77, 113, 19, 35, 45, 35, 11, 22, 26, 18, 22, 17], \"coloraxis\": \"coloraxis\", \"size\": [27, 26, 57, 83, 24, 14, 22, 16, 3, 11, 10, 8, 4, 4, 7], \"sizemode\": \"area\", \"sizeref\": 0.1768, \"symbol\": \"circle\"}, \"mode\": \"markers\", \"name\": \"\", \"orientation\": \"v\", \"showlegend\": false, \"type\": \"scatter\", \"x\": [0.3591803279187944, -0.25988167180464816, 0.10338734286396127, 0.08025895059108734, 0.35105259095629054, 0.6075279755251748, -0.3343664082613858, -0.4259010087698698, -0.7932584285736084, 0.322227957573804, -0.556621640920639, 0.5065722018480301, 0.42236149311065674, 0.25955963134765625, -0.1252342632838658], \"xaxis\": \"x3\", \"y\": [0.07750318282180363, -0.19101863984878248, -0.10604065029244673, 0.11961116085210478, -0.2022253517061472, -0.031237879768013954, 0.10529527135870674, -0.3898122198879719, -0.04763321081797282, 0.605866405096921, -0.3887316703796387, 0.5672794207930565, 0.6053445190191269, -0.7590684592723846, -0.7227800233023507], \"yaxis\": \"y3\"}, {\"customdata\": [[[\"clique_11_MEME-0_1.5e-339\", \"clique_11_MEME-1_2.1e-089\", \"clique_11_MEME-3_1.1e-013\"], [\"QHEIVEVEEILP\", \"EDKNEKV\", \"HTEQLDLDHKTV\"], [\"eid_469456::glutamate-rich_protein\", \"eid_913436::glutamate-rich_protein_[Plasmodium_falciparum_3D7]\", \"eid_1067856::glutamate-rich_protein_[Plasmodium_falciparum_3D7]\"]]], \"hovertemplate\": \"<b>%{hovertext}</b><br><br>num_known=3<br>agg_x=%{x}<br>agg_y=%{y}<br>membership=%{marker.size}<br>qseqid=%{customdata[0]}<br>sequences=%{customdata[1]}<br>sseqid=%{customdata[2]}<br>num_patients=%{marker.color}<extra></extra>\", \"hovertext\": [11.0], \"legendgroup\": \"\", \"marker\": {\"color\": [109], \"coloraxis\": \"coloraxis\", \"size\": [27], \"sizemode\": \"area\", \"sizeref\": 0.1768, \"symbol\": \"circle\"}, \"mode\": \"markers\", \"name\": \"\", \"orientation\": \"v\", \"showlegend\": false, \"type\": \"scatter\", \"x\": [0.18190574921943523], \"xaxis\": \"x4\", \"y\": [0.2525546048526411], \"yaxis\": \"y4\"}, {\"customdata\": [[[\"clique_18_MEME-0_8.1e-803\", \"clique_18_MEME-1_1.2e-044\", \"clique_18_MEME-2_1.4e-022\", \"clique_18_MEME-3_3.0e-014\"], [\"PNANPNANPNAN\", \"PNANPNA\", \"RKPKHKKLKQPG\", \"QGNGQGHNM\"], [\"eid_756411::Circumsporozoite_protein_precursor\", \"eid_68038::Circumsporozoite_protein_precursor\", \"eid_45110::Circumsporozoite_protein_precursor\", \"eid_118868::Circumsporozoite_protein_precursor\"]], [[\"clique_20_MEME-0_3.6e-104\", \"clique_20_MEME-1_4.2e-063\", \"clique_20_MEME-2_3.1e-017\", \"clique_20_MEME-3_1.4e-013\", \"clique_20_MEME-4_3.3e-007\"], [\"EEEDEEDIEEEN\", \"QQSEKKSISKVD\", \"EKELSNQ\", \"ETNDTEDTD\", \"DIIKHNEDVR\"], [\"eid_1067086::mature_parasite-infected_erythrocyte_surface_antigen_[Plasmodium_falciparum_3D7]\", \"eid_1068135::duffy_binding-like_merozoite_surface_protein_[Plasmodium_falciparum_3D7]\", \"eid_1067872::duffy_binding-like_merozoite_surface_protein_[Plasmodium_falciparum_3D7]\", \"eid_1068370::duffy_binding-like_merozoite_surface_protein_[Plasmodium_falciparum_3D7]\"]], [[\"clique_1_MEME-0_3.3e-1426\", \"clique_1_MEME-3_3.5e-125\", \"clique_1_MEME-5_1.1e-022\", \"clique_1_MEME-8_2.6e-008\"], [\"GYSGIDJIBDVL\", \"VAKLTNSDP\", \"RKENELF\", \"WLDRHRD\"], [\"eid_913933::RAP_protein\", \"eid_73821::Glycophorin-binding_protein\", \"eid_73540::PfEMP1_variant_1_of_strain_MC\", \"eid_913519::erythrocyte_membrane_protein_1_(PfEMP1)\"]], [[\"clique_16_MEME-0_2.1e-305\", \"clique_16_MEME-1_2.2e-052\", \"clique_16_MEME-2_8.5e-013\", \"clique_16_MEME-4_1.7e-007\"], [\"EGGACANSKIKG\", \"MCDLNLEHJ\", \"DVHNTQNTHDLL\", \"AFHSNTPGNQR\"], [\"eid_1067148::antigen_332\", \"eid_181762::PfEMP1\", \"eid_181618::erythrocyte_membrane_protein_1\", \"eid_1067253::high_molecular_weight_rhoptry_protein_3_[Plasmodium_falciparum_3D7]\"]]], \"hovertemplate\": \"<b>%{hovertext}</b><br><br>num_known=4<br>agg_x=%{x}<br>agg_y=%{y}<br>membership=%{marker.size}<br>qseqid=%{customdata[0]}<br>sequences=%{customdata[1]}<br>sseqid=%{customdata[2]}<br>num_patients=%{marker.color}<extra></extra>\", \"hovertext\": [18.0, 20.0, 1.0, 16.0], \"legendgroup\": \"\", \"marker\": {\"color\": [37, 56, 47, 17], \"coloraxis\": \"coloraxis\", \"size\": [22, 20, 120, 23], \"sizemode\": \"area\", \"sizeref\": 0.1768, \"symbol\": \"circle\"}, \"mode\": \"markers\", \"name\": \"\", \"orientation\": \"v\", \"showlegend\": false, \"type\": \"scatter\", \"x\": [0.25066814910281787, -0.0884264275431633, -0.13976194635033606, -0.3181372064611186], \"xaxis\": \"x\", \"y\": [-0.1914347227324139, -0.4147268280386925, 0.024524692337339123, -0.1644568734842798], \"yaxis\": \"y\"}],\n",
       "                        {\"annotations\": [{\"font\": {}, \"showarrow\": false, \"text\": \"num_known=4\", \"x\": 0.245, \"xanchor\": \"center\", \"xref\": \"paper\", \"y\": 0.2866666666666666, \"yanchor\": \"bottom\", \"yref\": \"paper\"}, {\"font\": {}, \"showarrow\": false, \"text\": \"num_known=2\", \"x\": 0.245, \"xanchor\": \"center\", \"xref\": \"paper\", \"y\": 0.6433333333333333, \"yanchor\": \"bottom\", \"yref\": \"paper\"}, {\"font\": {}, \"showarrow\": false, \"text\": \"num_known=3\", \"x\": 0.755, \"xanchor\": \"center\", \"xref\": \"paper\", \"y\": 0.6433333333333333, \"yanchor\": \"bottom\", \"yref\": \"paper\"}, {\"font\": {}, \"showarrow\": false, \"text\": \"num_known=0\", \"x\": 0.245, \"xanchor\": \"center\", \"xref\": \"paper\", \"y\": 0.9999999999999999, \"yanchor\": \"bottom\", \"yref\": \"paper\"}, {\"font\": {}, \"showarrow\": false, \"text\": \"num_known=1\", \"x\": 0.755, \"xanchor\": \"center\", \"xref\": \"paper\", \"y\": 0.9999999999999999, \"yanchor\": \"bottom\", \"yref\": \"paper\"}], \"coloraxis\": {\"colorbar\": {\"title\": {\"text\": \"num_patients\"}}, \"colorscale\": [[0.0, \"rgb(255,247,236)\"], [0.125, \"rgb(254,232,200)\"], [0.25, \"rgb(253,212,158)\"], [0.375, \"rgb(253,187,132)\"], [0.5, \"rgb(252,141,89)\"], [0.625, \"rgb(239,101,72)\"], [0.75, \"rgb(215,48,31)\"], [0.875, \"rgb(179,0,0)\"], [1.0, \"rgb(127,0,0)\"]]}, \"height\": 1000, \"legend\": {\"itemsizing\": \"constant\", \"tracegroupgap\": 0}, \"margin\": {\"t\": 60}, \"template\": {\"data\": {\"bar\": [{\"error_x\": {\"color\": \"#2a3f5f\"}, \"error_y\": {\"color\": \"#2a3f5f\"}, \"marker\": {\"line\": {\"color\": \"white\", \"width\": 0.5}}, \"type\": \"bar\"}], \"barpolar\": [{\"marker\": {\"line\": {\"color\": \"white\", \"width\": 0.5}}, \"type\": \"barpolar\"}], \"carpet\": [{\"aaxis\": {\"endlinecolor\": \"#2a3f5f\", \"gridcolor\": \"#C8D4E3\", \"linecolor\": \"#C8D4E3\", \"minorgridcolor\": \"#C8D4E3\", \"startlinecolor\": \"#2a3f5f\"}, \"baxis\": {\"endlinecolor\": \"#2a3f5f\", \"gridcolor\": \"#C8D4E3\", \"linecolor\": \"#C8D4E3\", \"minorgridcolor\": \"#C8D4E3\", \"startlinecolor\": \"#2a3f5f\"}, \"type\": \"carpet\"}], \"choropleth\": [{\"colorbar\": {\"outlinewidth\": 0, \"ticks\": \"\"}, \"type\": \"choropleth\"}], \"contour\": [{\"colorbar\": {\"outlinewidth\": 0, \"ticks\": \"\"}, \"colorscale\": [[0.0, \"#0d0887\"], [0.1111111111111111, \"#46039f\"], [0.2222222222222222, \"#7201a8\"], [0.3333333333333333, \"#9c179e\"], [0.4444444444444444, \"#bd3786\"], [0.5555555555555556, \"#d8576b\"], [0.6666666666666666, \"#ed7953\"], [0.7777777777777778, \"#fb9f3a\"], [0.8888888888888888, \"#fdca26\"], [1.0, \"#f0f921\"]], \"type\": \"contour\"}], \"contourcarpet\": [{\"colorbar\": {\"outlinewidth\": 0, \"ticks\": \"\"}, \"type\": \"contourcarpet\"}], \"heatmap\": [{\"colorbar\": {\"outlinewidth\": 0, \"ticks\": \"\"}, \"colorscale\": [[0.0, \"#0d0887\"], [0.1111111111111111, \"#46039f\"], [0.2222222222222222, \"#7201a8\"], [0.3333333333333333, \"#9c179e\"], [0.4444444444444444, \"#bd3786\"], [0.5555555555555556, \"#d8576b\"], [0.6666666666666666, \"#ed7953\"], [0.7777777777777778, \"#fb9f3a\"], [0.8888888888888888, \"#fdca26\"], [1.0, \"#f0f921\"]], \"type\": \"heatmap\"}], \"heatmapgl\": [{\"colorbar\": {\"outlinewidth\": 0, \"ticks\": \"\"}, \"colorscale\": [[0.0, \"#0d0887\"], [0.1111111111111111, \"#46039f\"], [0.2222222222222222, \"#7201a8\"], [0.3333333333333333, \"#9c179e\"], [0.4444444444444444, \"#bd3786\"], [0.5555555555555556, \"#d8576b\"], [0.6666666666666666, \"#ed7953\"], [0.7777777777777778, \"#fb9f3a\"], [0.8888888888888888, \"#fdca26\"], [1.0, \"#f0f921\"]], \"type\": \"heatmapgl\"}], \"histogram\": [{\"marker\": {\"colorbar\": {\"outlinewidth\": 0, \"ticks\": \"\"}}, \"type\": \"histogram\"}], \"histogram2d\": [{\"colorbar\": {\"outlinewidth\": 0, \"ticks\": \"\"}, \"colorscale\": [[0.0, \"#0d0887\"], [0.1111111111111111, \"#46039f\"], [0.2222222222222222, \"#7201a8\"], [0.3333333333333333, \"#9c179e\"], [0.4444444444444444, \"#bd3786\"], [0.5555555555555556, \"#d8576b\"], [0.6666666666666666, \"#ed7953\"], [0.7777777777777778, \"#fb9f3a\"], [0.8888888888888888, \"#fdca26\"], [1.0, \"#f0f921\"]], \"type\": \"histogram2d\"}], \"histogram2dcontour\": [{\"colorbar\": {\"outlinewidth\": 0, \"ticks\": \"\"}, \"colorscale\": [[0.0, \"#0d0887\"], [0.1111111111111111, \"#46039f\"], [0.2222222222222222, \"#7201a8\"], [0.3333333333333333, \"#9c179e\"], [0.4444444444444444, \"#bd3786\"], [0.5555555555555556, \"#d8576b\"], [0.6666666666666666, \"#ed7953\"], [0.7777777777777778, \"#fb9f3a\"], [0.8888888888888888, \"#fdca26\"], [1.0, \"#f0f921\"]], \"type\": \"histogram2dcontour\"}], \"mesh3d\": [{\"colorbar\": {\"outlinewidth\": 0, \"ticks\": \"\"}, \"type\": \"mesh3d\"}], \"parcoords\": [{\"line\": {\"colorbar\": {\"outlinewidth\": 0, \"ticks\": \"\"}}, \"type\": \"parcoords\"}], \"pie\": [{\"automargin\": true, \"type\": \"pie\"}], \"scatter\": [{\"marker\": {\"colorbar\": {\"outlinewidth\": 0, \"ticks\": \"\"}}, \"type\": \"scatter\"}], \"scatter3d\": [{\"line\": {\"colorbar\": {\"outlinewidth\": 0, \"ticks\": \"\"}}, \"marker\": {\"colorbar\": {\"outlinewidth\": 0, \"ticks\": \"\"}}, \"type\": \"scatter3d\"}], \"scattercarpet\": [{\"marker\": {\"colorbar\": {\"outlinewidth\": 0, \"ticks\": \"\"}}, \"type\": \"scattercarpet\"}], \"scattergeo\": [{\"marker\": {\"colorbar\": {\"outlinewidth\": 0, \"ticks\": \"\"}}, \"type\": \"scattergeo\"}], \"scattergl\": [{\"marker\": {\"colorbar\": {\"outlinewidth\": 0, \"ticks\": \"\"}}, \"type\": \"scattergl\"}], \"scattermapbox\": [{\"marker\": {\"colorbar\": {\"outlinewidth\": 0, \"ticks\": \"\"}}, \"type\": \"scattermapbox\"}], \"scatterpolar\": [{\"marker\": {\"colorbar\": {\"outlinewidth\": 0, \"ticks\": \"\"}}, \"type\": \"scatterpolar\"}], \"scatterpolargl\": [{\"marker\": {\"colorbar\": {\"outlinewidth\": 0, \"ticks\": \"\"}}, \"type\": \"scatterpolargl\"}], \"scatterternary\": [{\"marker\": {\"colorbar\": {\"outlinewidth\": 0, \"ticks\": \"\"}}, \"type\": \"scatterternary\"}], \"surface\": [{\"colorbar\": {\"outlinewidth\": 0, \"ticks\": \"\"}, \"colorscale\": [[0.0, \"#0d0887\"], [0.1111111111111111, \"#46039f\"], [0.2222222222222222, \"#7201a8\"], [0.3333333333333333, \"#9c179e\"], [0.4444444444444444, \"#bd3786\"], [0.5555555555555556, \"#d8576b\"], [0.6666666666666666, \"#ed7953\"], [0.7777777777777778, \"#fb9f3a\"], [0.8888888888888888, \"#fdca26\"], [1.0, \"#f0f921\"]], \"type\": \"surface\"}], \"table\": [{\"cells\": {\"fill\": {\"color\": \"#EBF0F8\"}, \"line\": {\"color\": \"white\"}}, \"header\": {\"fill\": {\"color\": \"#C8D4E3\"}, \"line\": {\"color\": \"white\"}}, \"type\": \"table\"}]}, \"layout\": {\"annotationdefaults\": {\"arrowcolor\": \"#2a3f5f\", \"arrowhead\": 0, \"arrowwidth\": 1}, \"coloraxis\": {\"colorbar\": {\"outlinewidth\": 0, \"ticks\": \"\"}}, \"colorscale\": {\"diverging\": [[0, \"#8e0152\"], [0.1, \"#c51b7d\"], [0.2, \"#de77ae\"], [0.3, \"#f1b6da\"], [0.4, \"#fde0ef\"], [0.5, \"#f7f7f7\"], [0.6, \"#e6f5d0\"], [0.7, \"#b8e186\"], [0.8, \"#7fbc41\"], [0.9, \"#4d9221\"], [1, \"#276419\"]], \"sequential\": [[0.0, \"#0d0887\"], [0.1111111111111111, \"#46039f\"], [0.2222222222222222, \"#7201a8\"], [0.3333333333333333, \"#9c179e\"], [0.4444444444444444, \"#bd3786\"], [0.5555555555555556, \"#d8576b\"], [0.6666666666666666, \"#ed7953\"], [0.7777777777777778, \"#fb9f3a\"], [0.8888888888888888, \"#fdca26\"], [1.0, \"#f0f921\"]], \"sequentialminus\": [[0.0, \"#0d0887\"], [0.1111111111111111, \"#46039f\"], [0.2222222222222222, \"#7201a8\"], [0.3333333333333333, \"#9c179e\"], [0.4444444444444444, \"#bd3786\"], [0.5555555555555556, \"#d8576b\"], [0.6666666666666666, \"#ed7953\"], [0.7777777777777778, \"#fb9f3a\"], [0.8888888888888888, \"#fdca26\"], [1.0, \"#f0f921\"]]}, \"colorway\": [\"#636efa\", \"#EF553B\", \"#00cc96\", \"#ab63fa\", \"#FFA15A\", \"#19d3f3\", \"#FF6692\", \"#B6E880\", \"#FF97FF\", \"#FECB52\"], \"font\": {\"color\": \"#2a3f5f\"}, \"geo\": {\"bgcolor\": \"white\", \"lakecolor\": \"white\", \"landcolor\": \"white\", \"showlakes\": true, \"showland\": true, \"subunitcolor\": \"#C8D4E3\"}, \"hoverlabel\": {\"align\": \"left\"}, \"hovermode\": \"closest\", \"mapbox\": {\"style\": \"light\"}, \"paper_bgcolor\": \"white\", \"plot_bgcolor\": \"white\", \"polar\": {\"angularaxis\": {\"gridcolor\": \"#EBF0F8\", \"linecolor\": \"#EBF0F8\", \"ticks\": \"\"}, \"bgcolor\": \"white\", \"radialaxis\": {\"gridcolor\": \"#EBF0F8\", \"linecolor\": \"#EBF0F8\", \"ticks\": \"\"}}, \"scene\": {\"xaxis\": {\"backgroundcolor\": \"white\", \"gridcolor\": \"#DFE8F3\", \"gridwidth\": 2, \"linecolor\": \"#EBF0F8\", \"showbackground\": true, \"ticks\": \"\", \"zerolinecolor\": \"#EBF0F8\"}, \"yaxis\": {\"backgroundcolor\": \"white\", \"gridcolor\": \"#DFE8F3\", \"gridwidth\": 2, \"linecolor\": \"#EBF0F8\", \"showbackground\": true, \"ticks\": \"\", \"zerolinecolor\": \"#EBF0F8\"}, \"zaxis\": {\"backgroundcolor\": \"white\", \"gridcolor\": \"#DFE8F3\", \"gridwidth\": 2, \"linecolor\": \"#EBF0F8\", \"showbackground\": true, \"ticks\": \"\", \"zerolinecolor\": \"#EBF0F8\"}}, \"shapedefaults\": {\"line\": {\"color\": \"#2a3f5f\"}}, \"ternary\": {\"aaxis\": {\"gridcolor\": \"#DFE8F3\", \"linecolor\": \"#A2B1C6\", \"ticks\": \"\"}, \"baxis\": {\"gridcolor\": \"#DFE8F3\", \"linecolor\": \"#A2B1C6\", \"ticks\": \"\"}, \"bgcolor\": \"white\", \"caxis\": {\"gridcolor\": \"#DFE8F3\", \"linecolor\": \"#A2B1C6\", \"ticks\": \"\"}}, \"title\": {\"x\": 0.05}, \"xaxis\": {\"automargin\": true, \"gridcolor\": \"#EBF0F8\", \"linecolor\": \"#EBF0F8\", \"ticks\": \"\", \"title\": {\"standoff\": 15}, \"zerolinecolor\": \"#EBF0F8\", \"zerolinewidth\": 2}, \"yaxis\": {\"automargin\": true, \"gridcolor\": \"#EBF0F8\", \"linecolor\": \"#EBF0F8\", \"ticks\": \"\", \"title\": {\"standoff\": 15}, \"zerolinecolor\": \"#EBF0F8\", \"zerolinewidth\": 2}}}, \"width\": 1000, \"xaxis\": {\"anchor\": \"y\", \"domain\": [0.0, 0.49], \"title\": {\"text\": \"agg_x\"}}, \"xaxis2\": {\"anchor\": \"y2\", \"domain\": [0.51, 1.0], \"matches\": \"x\", \"title\": {\"text\": \"agg_x\"}}, \"xaxis3\": {\"anchor\": \"y3\", \"domain\": [0.0, 0.49], \"matches\": \"x\", \"showticklabels\": false}, \"xaxis4\": {\"anchor\": \"y4\", \"domain\": [0.51, 1.0], \"matches\": \"x\", \"showticklabels\": false}, \"xaxis5\": {\"anchor\": \"y5\", \"domain\": [0.0, 0.49], \"matches\": \"x\", \"showticklabels\": false}, \"xaxis6\": {\"anchor\": \"y6\", \"domain\": [0.51, 1.0], \"matches\": \"x\", \"showticklabels\": false}, \"yaxis\": {\"anchor\": \"x\", \"domain\": [0.0, 0.2866666666666666], \"title\": {\"text\": \"agg_y\"}}, \"yaxis2\": {\"anchor\": \"x2\", \"domain\": [0.0, 0.2866666666666666], \"matches\": \"y\", \"showticklabels\": false}, \"yaxis3\": {\"anchor\": \"x3\", \"domain\": [0.35666666666666663, 0.6433333333333333], \"matches\": \"y\", \"title\": {\"text\": \"agg_y\"}}, \"yaxis4\": {\"anchor\": \"x4\", \"domain\": [0.35666666666666663, 0.6433333333333333], \"matches\": \"y\", \"showticklabels\": false}, \"yaxis5\": {\"anchor\": \"x5\", \"domain\": [0.7133333333333333, 0.9999999999999999], \"matches\": \"y\", \"title\": {\"text\": \"agg_y\"}}, \"yaxis6\": {\"anchor\": \"x6\", \"domain\": [0.7133333333333333, 0.9999999999999999], \"matches\": \"y\", \"showticklabels\": false}},\n",
       "                        {\"responsive\": true}\n",
       "                    ).then(function(){\n",
       "                            \n",
       "var gd = document.getElementById('50ccc3b2-d88b-470d-ac5c-fa99446ee587');\n",
       "var x = new MutationObserver(function (mutations, observer) {{\n",
       "        var display = window.getComputedStyle(gd).display;\n",
       "        if (!display || display === 'none') {{\n",
       "            console.log([gd, 'removed!']);\n",
       "            Plotly.purge(gd);\n",
       "            observer.disconnect();\n",
       "        }}\n",
       "}});\n",
       "\n",
       "// Listen for the removal of the full notebook cells\n",
       "var notebookContainer = gd.closest('#notebook-container');\n",
       "if (notebookContainer) {{\n",
       "    x.observe(notebookContainer, {childList: true});\n",
       "}}\n",
       "\n",
       "// Listen for the clearing of the current output cell\n",
       "var outputEl = gd.closest('.output');\n",
       "if (outputEl) {{\n",
       "    x.observe(outputEl, {childList: true});\n",
       "}}\n",
       "\n",
       "                        })\n",
       "                };\n",
       "                });\n",
       "            </script>\n",
       "        </div>"
      ]
     },
     "metadata": {},
     "output_type": "display_data"
    }
   ],
   "source": [
    "clique_response_frame = clique_motif_frame.merge(number_responses)\n",
    "\n",
    "fig = px.scatter(\n",
    "    clique_response_frame, x = 'agg_x', y = 'agg_y', size = 'membership',\n",
    "    size_max = 50, hover_name='clique_idx', hover_data=['qseqid', 'sequences', 'sseqid'],\n",
    "    color = 'num_patients', color_continuous_scale=\"OrRd\",\n",
    "    facet_col=\"num_known\",facet_col_wrap=2\n",
    ")\n",
    "\n",
    "fig.update_layout(\n",
    "    height = 1000, width = 1000\n",
    ")\n",
    "\n",
    "fig.write_html(\"../figures/enriched_set_clique_motifs/patient_responses.html\")\n",
    "\n",
    "fig"
   ]
  },
  {
   "cell_type": "markdown",
   "metadata": {},
   "source": [
    "## Correlation of number of known motifs against patient recognition"
   ]
  },
  {
   "cell_type": "code",
   "execution_count": 33,
   "metadata": {
    "code_folding": []
   },
   "outputs": [
    {
     "data": {
      "application/vnd.plotly.v1+json": {
       "config": {
        "plotlyServerURL": "https://plot.ly"
       },
       "data": [
        {
         "hovertemplate": "<b>%{hovertext}</b><br><br>num_known=%{marker.color}<br>num_patients=%{y}<br>membership=%{marker.size}<extra></extra>",
         "hovertext": [
          274,
          122,
          123,
          124,
          213,
          126,
          127,
          128,
          129,
          130,
          212,
          132,
          133,
          211,
          210,
          209,
          273,
          208,
          139,
          207,
          121,
          120,
          214,
          118,
          192,
          222,
          98,
          99,
          100,
          101,
          102,
          104,
          105,
          141,
          220,
          108,
          109,
          219,
          111,
          218,
          113,
          217,
          216,
          116,
          107,
          95,
          142,
          144,
          172,
          174,
          175,
          196,
          177,
          178,
          179,
          180,
          181,
          182,
          183,
          184,
          185,
          186,
          195,
          188,
          189,
          190,
          191,
          198,
          170,
          169,
          168,
          145,
          146,
          147,
          148,
          206,
          205,
          204,
          152,
          154,
          143,
          156,
          158,
          159,
          161,
          162,
          200,
          164,
          199,
          166,
          167,
          157,
          224,
          223,
          92,
          28,
          251,
          30,
          33,
          34,
          35,
          248,
          247,
          252,
          38,
          246,
          245,
          42,
          43,
          44,
          225,
          244,
          242,
          39,
          253,
          254,
          24,
          272,
          271,
          270,
          5,
          268,
          267,
          265,
          263,
          262,
          13,
          14,
          260,
          259,
          258,
          257,
          256,
          21,
          255,
          23,
          241,
          50,
          45,
          52,
          71,
          51,
          73,
          75,
          76,
          231,
          78,
          79,
          80,
          81,
          230,
          83,
          84,
          85,
          229,
          228,
          88,
          226,
          91,
          233,
          234,
          72,
          194,
          237,
          60,
          68,
          61,
          236,
          63,
          56,
          239,
          240,
          54,
          66,
          67,
          53,
          65,
          238,
          266,
          269,
          227,
          243,
          201,
          221,
          197,
          235,
          203,
          202,
          232,
          249,
          215,
          250,
          264,
          261,
          0,
          187,
          86,
          82,
          77,
          74,
          70,
          193,
          64,
          62,
          59,
          58,
          55,
          48,
          47,
          87,
          46,
          37,
          36,
          32,
          29,
          27,
          26,
          22,
          19,
          9,
          8,
          7,
          6,
          3,
          41,
          89,
          137,
          93,
          160,
          155,
          163,
          153,
          151,
          150,
          90,
          149,
          165,
          138,
          171,
          136,
          135,
          131,
          134,
          110,
          125,
          94,
          176,
          117,
          115,
          114,
          173,
          106,
          103,
          97,
          96,
          10,
          12,
          4,
          2,
          15,
          31,
          17,
          25,
          140,
          40,
          49,
          57,
          119,
          112,
          69,
          11,
          18,
          20,
          1,
          16
         ],
         "legendgroup": "",
         "marker": {
          "color": [
           0,
           0,
           0,
           0,
           0,
           0,
           0,
           0,
           0,
           0,
           0,
           0,
           0,
           0,
           0,
           0,
           0,
           0,
           0,
           0,
           0,
           0,
           0,
           0,
           0,
           0,
           0,
           0,
           0,
           0,
           0,
           0,
           0,
           0,
           0,
           0,
           0,
           0,
           0,
           0,
           0,
           0,
           0,
           0,
           0,
           0,
           0,
           0,
           0,
           0,
           0,
           0,
           0,
           0,
           0,
           0,
           0,
           0,
           0,
           0,
           0,
           0,
           0,
           0,
           0,
           0,
           0,
           0,
           0,
           0,
           0,
           0,
           0,
           0,
           0,
           0,
           0,
           0,
           0,
           0,
           0,
           0,
           0,
           0,
           0,
           0,
           0,
           0,
           0,
           0,
           0,
           0,
           0,
           0,
           0,
           0,
           0,
           0,
           0,
           0,
           0,
           0,
           0,
           0,
           0,
           0,
           0,
           0,
           0,
           0,
           0,
           0,
           0,
           0,
           0,
           0,
           0,
           0,
           0,
           0,
           0,
           0,
           0,
           0,
           0,
           0,
           0,
           0,
           0,
           0,
           0,
           0,
           0,
           0,
           0,
           0,
           0,
           0,
           0,
           0,
           0,
           0,
           0,
           0,
           0,
           0,
           0,
           0,
           0,
           0,
           0,
           0,
           0,
           0,
           0,
           0,
           0,
           0,
           0,
           0,
           0,
           0,
           0,
           0,
           0,
           0,
           0,
           0,
           0,
           0,
           0,
           0,
           0,
           0,
           0,
           0,
           0,
           0,
           1,
           1,
           1,
           1,
           1,
           1,
           1,
           1,
           1,
           1,
           1,
           1,
           1,
           1,
           1,
           1,
           1,
           1,
           1,
           1,
           1,
           1,
           1,
           1,
           1,
           1,
           1,
           1,
           1,
           1,
           1,
           1,
           1,
           1,
           1,
           1,
           1,
           1,
           1,
           1,
           1,
           1,
           1,
           1,
           1,
           1,
           1,
           1,
           1,
           1,
           1,
           1,
           1,
           1,
           1,
           1,
           1,
           1,
           1,
           1,
           1,
           1,
           1,
           1,
           1,
           1,
           1,
           1,
           1,
           1,
           1,
           1,
           1,
           1,
           1,
           1,
           1,
           2,
           2,
           2,
           2,
           2,
           2,
           2,
           2,
           2,
           2,
           2,
           2,
           2,
           2,
           2,
           3,
           4,
           4,
           4,
           4
          ],
          "coloraxis": "coloraxis",
          "size": [
           2,
           4,
           4,
           4,
           2,
           4,
           4,
           4,
           4,
           4,
           2,
           4,
           3,
           2,
           2,
           2,
           2,
           2,
           3,
           2,
           4,
           4,
           2,
           4,
           2,
           2,
           5,
           5,
           5,
           5,
           5,
           4,
           4,
           3,
           2,
           4,
           4,
           2,
           4,
           2,
           4,
           2,
           2,
           4,
           4,
           5,
           3,
           3,
           3,
           3,
           3,
           2,
           3,
           3,
           3,
           3,
           2,
           2,
           2,
           2,
           2,
           2,
           2,
           2,
           2,
           2,
           2,
           2,
           3,
           3,
           3,
           3,
           3,
           3,
           3,
           2,
           2,
           2,
           3,
           3,
           3,
           3,
           3,
           3,
           3,
           3,
           2,
           3,
           2,
           3,
           3,
           3,
           2,
           2,
           5,
           16,
           2,
           15,
           12,
           12,
           12,
           2,
           2,
           2,
           12,
           2,
           2,
           11,
           11,
           11,
           2,
           2,
           2,
           11,
           2,
           2,
           17,
           2,
           2,
           2,
           43,
           2,
           2,
           2,
           2,
           2,
           25,
           24,
           2,
           2,
           2,
           2,
           2,
           18,
           2,
           17,
           2,
           9,
           11,
           9,
           7,
           9,
           7,
           7,
           7,
           2,
           6,
           6,
           6,
           6,
           2,
           6,
           6,
           6,
           2,
           2,
           5,
           2,
           5,
           2,
           2,
           7,
           2,
           2,
           8,
           7,
           8,
           2,
           8,
           8,
           2,
           2,
           9,
           7,
           7,
           9,
           7,
           2,
           2,
           2,
           2,
           2,
           2,
           2,
           2,
           2,
           2,
           2,
           2,
           2,
           2,
           2,
           2,
           2,
           442,
           2,
           5,
           6,
           6,
           7,
           7,
           2,
           8,
           8,
           8,
           8,
           8,
           10,
           10,
           5,
           10,
           12,
           12,
           13,
           16,
           16,
           16,
           17,
           21,
           29,
           35,
           37,
           40,
           66,
           11,
           5,
           3,
           5,
           3,
           3,
           3,
           3,
           3,
           3,
           5,
           3,
           3,
           3,
           3,
           3,
           3,
           4,
           3,
           4,
           4,
           5,
           3,
           4,
           4,
           4,
           3,
           4,
           5,
           5,
           5,
           27,
           26,
           57,
           83,
           24,
           14,
           22,
           16,
           3,
           11,
           10,
           8,
           4,
           4,
           7,
           27,
           22,
           20,
           120,
           23
          ],
          "sizemode": "area",
          "sizeref": 0.1768,
          "symbol": "circle"
         },
         "mode": "markers",
         "name": "",
         "orientation": "v",
         "showlegend": false,
         "type": "scatter",
         "x": [
          0,
          0,
          0,
          0,
          0,
          0,
          0,
          0,
          0,
          0,
          0,
          0,
          0,
          0,
          0,
          0,
          0,
          0,
          0,
          0,
          0,
          0,
          0,
          0,
          0,
          0,
          0,
          0,
          0,
          0,
          0,
          0,
          0,
          0,
          0,
          0,
          0,
          0,
          0,
          0,
          0,
          0,
          0,
          0,
          0,
          0,
          0,
          0,
          0,
          0,
          0,
          0,
          0,
          0,
          0,
          0,
          0,
          0,
          0,
          0,
          0,
          0,
          0,
          0,
          0,
          0,
          0,
          0,
          0,
          0,
          0,
          0,
          0,
          0,
          0,
          0,
          0,
          0,
          0,
          0,
          0,
          0,
          0,
          0,
          0,
          0,
          0,
          0,
          0,
          0,
          0,
          0,
          0,
          0,
          0,
          0,
          0,
          0,
          0,
          0,
          0,
          0,
          0,
          0,
          0,
          0,
          0,
          0,
          0,
          0,
          0,
          0,
          0,
          0,
          0,
          0,
          0,
          0,
          0,
          0,
          0,
          0,
          0,
          0,
          0,
          0,
          0,
          0,
          0,
          0,
          0,
          0,
          0,
          0,
          0,
          0,
          0,
          0,
          0,
          0,
          0,
          0,
          0,
          0,
          0,
          0,
          0,
          0,
          0,
          0,
          0,
          0,
          0,
          0,
          0,
          0,
          0,
          0,
          0,
          0,
          0,
          0,
          0,
          0,
          0,
          0,
          0,
          0,
          0,
          0,
          0,
          0,
          0,
          0,
          0,
          0,
          0,
          0,
          1,
          1,
          1,
          1,
          1,
          1,
          1,
          1,
          1,
          1,
          1,
          1,
          1,
          1,
          1,
          1,
          1,
          1,
          1,
          1,
          1,
          1,
          1,
          1,
          1,
          1,
          1,
          1,
          1,
          1,
          1,
          1,
          1,
          1,
          1,
          1,
          1,
          1,
          1,
          1,
          1,
          1,
          1,
          1,
          1,
          1,
          1,
          1,
          1,
          1,
          1,
          1,
          1,
          1,
          1,
          1,
          1,
          1,
          1,
          1,
          1,
          1,
          1,
          1,
          1,
          1,
          1,
          1,
          1,
          1,
          1,
          1,
          1,
          1,
          1,
          1,
          1,
          2,
          2,
          2,
          2,
          2,
          2,
          2,
          2,
          2,
          2,
          2,
          2,
          2,
          2,
          2,
          3,
          4,
          4,
          4,
          4
         ],
         "xaxis": "x",
         "y": [
          16,
          35,
          22,
          21,
          21,
          32,
          39,
          42,
          39,
          19,
          17,
          46,
          22,
          25,
          30,
          17,
          9,
          16,
          24,
          21,
          35,
          9,
          17,
          21,
          21,
          20,
          21,
          34,
          21,
          46,
          20,
          31,
          28,
          29,
          18,
          25,
          24,
          20,
          39,
          15,
          35,
          14,
          17,
          34,
          35,
          33,
          38,
          23,
          26,
          35,
          26,
          26,
          19,
          22,
          39,
          36,
          18,
          36,
          21,
          23,
          17,
          17,
          18,
          16,
          23,
          17,
          35,
          18,
          66,
          23,
          33,
          29,
          11,
          35,
          30,
          17,
          59,
          15,
          24,
          24,
          24,
          24,
          24,
          20,
          42,
          67,
          10,
          28,
          20,
          38,
          28,
          23,
          12,
          23,
          42,
          40,
          15,
          126,
          43,
          52,
          37,
          27,
          14,
          20,
          58,
          17,
          27,
          29,
          58,
          29,
          25,
          56,
          17,
          99,
          19,
          48,
          45,
          12,
          17,
          9,
          68,
          19,
          21,
          8,
          16,
          15,
          37,
          42,
          20,
          23,
          12,
          22,
          25,
          63,
          22,
          77,
          17,
          33,
          86,
          16,
          50,
          40,
          49,
          50,
          73,
          16,
          42,
          84,
          98,
          32,
          16,
          60,
          104,
          18,
          11,
          19,
          31,
          36,
          32,
          19,
          17,
          51,
          12,
          18,
          25,
          39,
          52,
          29,
          92,
          50,
          21,
          15,
          26,
          29,
          36,
          19,
          20,
          16,
          29,
          32,
          31,
          13,
          16,
          20,
          16,
          60,
          15,
          18,
          23,
          16,
          16,
          18,
          11,
          17,
          109,
          21,
          34,
          41,
          74,
          24,
          30,
          16,
          60,
          76,
          38,
          45,
          62,
          41,
          25,
          30,
          49,
          82,
          111,
          32,
          86,
          26,
          81,
          65,
          38,
          120,
          66,
          112,
          43,
          150,
          58,
          41,
          29,
          23,
          20,
          17,
          22,
          18,
          46,
          30,
          31,
          21,
          25,
          20,
          37,
          25,
          24,
          67,
          54,
          57,
          39,
          28,
          35,
          21,
          94,
          80,
          15,
          37,
          23,
          45,
          16,
          165,
          30,
          74,
          77,
          113,
          19,
          35,
          45,
          35,
          11,
          22,
          26,
          18,
          22,
          17,
          109,
          37,
          56,
          47,
          17
         ],
         "yaxis": "y"
        }
       ],
       "layout": {
        "coloraxis": {
         "colorbar": {
          "title": {
           "text": "num_known"
          }
         },
         "colorscale": [
          [
           0,
           "#0d0887"
          ],
          [
           0.1111111111111111,
           "#46039f"
          ],
          [
           0.2222222222222222,
           "#7201a8"
          ],
          [
           0.3333333333333333,
           "#9c179e"
          ],
          [
           0.4444444444444444,
           "#bd3786"
          ],
          [
           0.5555555555555556,
           "#d8576b"
          ],
          [
           0.6666666666666666,
           "#ed7953"
          ],
          [
           0.7777777777777778,
           "#fb9f3a"
          ],
          [
           0.8888888888888888,
           "#fdca26"
          ],
          [
           1,
           "#f0f921"
          ]
         ]
        },
        "legend": {
         "itemsizing": "constant",
         "tracegroupgap": 0
        },
        "margin": {
         "t": 60
        },
        "template": {
         "data": {
          "bar": [
           {
            "error_x": {
             "color": "#2a3f5f"
            },
            "error_y": {
             "color": "#2a3f5f"
            },
            "marker": {
             "line": {
              "color": "white",
              "width": 0.5
             }
            },
            "type": "bar"
           }
          ],
          "barpolar": [
           {
            "marker": {
             "line": {
              "color": "white",
              "width": 0.5
             }
            },
            "type": "barpolar"
           }
          ],
          "carpet": [
           {
            "aaxis": {
             "endlinecolor": "#2a3f5f",
             "gridcolor": "#C8D4E3",
             "linecolor": "#C8D4E3",
             "minorgridcolor": "#C8D4E3",
             "startlinecolor": "#2a3f5f"
            },
            "baxis": {
             "endlinecolor": "#2a3f5f",
             "gridcolor": "#C8D4E3",
             "linecolor": "#C8D4E3",
             "minorgridcolor": "#C8D4E3",
             "startlinecolor": "#2a3f5f"
            },
            "type": "carpet"
           }
          ],
          "choropleth": [
           {
            "colorbar": {
             "outlinewidth": 0,
             "ticks": ""
            },
            "type": "choropleth"
           }
          ],
          "contour": [
           {
            "colorbar": {
             "outlinewidth": 0,
             "ticks": ""
            },
            "colorscale": [
             [
              0,
              "#0d0887"
             ],
             [
              0.1111111111111111,
              "#46039f"
             ],
             [
              0.2222222222222222,
              "#7201a8"
             ],
             [
              0.3333333333333333,
              "#9c179e"
             ],
             [
              0.4444444444444444,
              "#bd3786"
             ],
             [
              0.5555555555555556,
              "#d8576b"
             ],
             [
              0.6666666666666666,
              "#ed7953"
             ],
             [
              0.7777777777777778,
              "#fb9f3a"
             ],
             [
              0.8888888888888888,
              "#fdca26"
             ],
             [
              1,
              "#f0f921"
             ]
            ],
            "type": "contour"
           }
          ],
          "contourcarpet": [
           {
            "colorbar": {
             "outlinewidth": 0,
             "ticks": ""
            },
            "type": "contourcarpet"
           }
          ],
          "heatmap": [
           {
            "colorbar": {
             "outlinewidth": 0,
             "ticks": ""
            },
            "colorscale": [
             [
              0,
              "#0d0887"
             ],
             [
              0.1111111111111111,
              "#46039f"
             ],
             [
              0.2222222222222222,
              "#7201a8"
             ],
             [
              0.3333333333333333,
              "#9c179e"
             ],
             [
              0.4444444444444444,
              "#bd3786"
             ],
             [
              0.5555555555555556,
              "#d8576b"
             ],
             [
              0.6666666666666666,
              "#ed7953"
             ],
             [
              0.7777777777777778,
              "#fb9f3a"
             ],
             [
              0.8888888888888888,
              "#fdca26"
             ],
             [
              1,
              "#f0f921"
             ]
            ],
            "type": "heatmap"
           }
          ],
          "heatmapgl": [
           {
            "colorbar": {
             "outlinewidth": 0,
             "ticks": ""
            },
            "colorscale": [
             [
              0,
              "#0d0887"
             ],
             [
              0.1111111111111111,
              "#46039f"
             ],
             [
              0.2222222222222222,
              "#7201a8"
             ],
             [
              0.3333333333333333,
              "#9c179e"
             ],
             [
              0.4444444444444444,
              "#bd3786"
             ],
             [
              0.5555555555555556,
              "#d8576b"
             ],
             [
              0.6666666666666666,
              "#ed7953"
             ],
             [
              0.7777777777777778,
              "#fb9f3a"
             ],
             [
              0.8888888888888888,
              "#fdca26"
             ],
             [
              1,
              "#f0f921"
             ]
            ],
            "type": "heatmapgl"
           }
          ],
          "histogram": [
           {
            "marker": {
             "colorbar": {
              "outlinewidth": 0,
              "ticks": ""
             }
            },
            "type": "histogram"
           }
          ],
          "histogram2d": [
           {
            "colorbar": {
             "outlinewidth": 0,
             "ticks": ""
            },
            "colorscale": [
             [
              0,
              "#0d0887"
             ],
             [
              0.1111111111111111,
              "#46039f"
             ],
             [
              0.2222222222222222,
              "#7201a8"
             ],
             [
              0.3333333333333333,
              "#9c179e"
             ],
             [
              0.4444444444444444,
              "#bd3786"
             ],
             [
              0.5555555555555556,
              "#d8576b"
             ],
             [
              0.6666666666666666,
              "#ed7953"
             ],
             [
              0.7777777777777778,
              "#fb9f3a"
             ],
             [
              0.8888888888888888,
              "#fdca26"
             ],
             [
              1,
              "#f0f921"
             ]
            ],
            "type": "histogram2d"
           }
          ],
          "histogram2dcontour": [
           {
            "colorbar": {
             "outlinewidth": 0,
             "ticks": ""
            },
            "colorscale": [
             [
              0,
              "#0d0887"
             ],
             [
              0.1111111111111111,
              "#46039f"
             ],
             [
              0.2222222222222222,
              "#7201a8"
             ],
             [
              0.3333333333333333,
              "#9c179e"
             ],
             [
              0.4444444444444444,
              "#bd3786"
             ],
             [
              0.5555555555555556,
              "#d8576b"
             ],
             [
              0.6666666666666666,
              "#ed7953"
             ],
             [
              0.7777777777777778,
              "#fb9f3a"
             ],
             [
              0.8888888888888888,
              "#fdca26"
             ],
             [
              1,
              "#f0f921"
             ]
            ],
            "type": "histogram2dcontour"
           }
          ],
          "mesh3d": [
           {
            "colorbar": {
             "outlinewidth": 0,
             "ticks": ""
            },
            "type": "mesh3d"
           }
          ],
          "parcoords": [
           {
            "line": {
             "colorbar": {
              "outlinewidth": 0,
              "ticks": ""
             }
            },
            "type": "parcoords"
           }
          ],
          "pie": [
           {
            "automargin": true,
            "type": "pie"
           }
          ],
          "scatter": [
           {
            "marker": {
             "colorbar": {
              "outlinewidth": 0,
              "ticks": ""
             }
            },
            "type": "scatter"
           }
          ],
          "scatter3d": [
           {
            "line": {
             "colorbar": {
              "outlinewidth": 0,
              "ticks": ""
             }
            },
            "marker": {
             "colorbar": {
              "outlinewidth": 0,
              "ticks": ""
             }
            },
            "type": "scatter3d"
           }
          ],
          "scattercarpet": [
           {
            "marker": {
             "colorbar": {
              "outlinewidth": 0,
              "ticks": ""
             }
            },
            "type": "scattercarpet"
           }
          ],
          "scattergeo": [
           {
            "marker": {
             "colorbar": {
              "outlinewidth": 0,
              "ticks": ""
             }
            },
            "type": "scattergeo"
           }
          ],
          "scattergl": [
           {
            "marker": {
             "colorbar": {
              "outlinewidth": 0,
              "ticks": ""
             }
            },
            "type": "scattergl"
           }
          ],
          "scattermapbox": [
           {
            "marker": {
             "colorbar": {
              "outlinewidth": 0,
              "ticks": ""
             }
            },
            "type": "scattermapbox"
           }
          ],
          "scatterpolar": [
           {
            "marker": {
             "colorbar": {
              "outlinewidth": 0,
              "ticks": ""
             }
            },
            "type": "scatterpolar"
           }
          ],
          "scatterpolargl": [
           {
            "marker": {
             "colorbar": {
              "outlinewidth": 0,
              "ticks": ""
             }
            },
            "type": "scatterpolargl"
           }
          ],
          "scatterternary": [
           {
            "marker": {
             "colorbar": {
              "outlinewidth": 0,
              "ticks": ""
             }
            },
            "type": "scatterternary"
           }
          ],
          "surface": [
           {
            "colorbar": {
             "outlinewidth": 0,
             "ticks": ""
            },
            "colorscale": [
             [
              0,
              "#0d0887"
             ],
             [
              0.1111111111111111,
              "#46039f"
             ],
             [
              0.2222222222222222,
              "#7201a8"
             ],
             [
              0.3333333333333333,
              "#9c179e"
             ],
             [
              0.4444444444444444,
              "#bd3786"
             ],
             [
              0.5555555555555556,
              "#d8576b"
             ],
             [
              0.6666666666666666,
              "#ed7953"
             ],
             [
              0.7777777777777778,
              "#fb9f3a"
             ],
             [
              0.8888888888888888,
              "#fdca26"
             ],
             [
              1,
              "#f0f921"
             ]
            ],
            "type": "surface"
           }
          ],
          "table": [
           {
            "cells": {
             "fill": {
              "color": "#EBF0F8"
             },
             "line": {
              "color": "white"
             }
            },
            "header": {
             "fill": {
              "color": "#C8D4E3"
             },
             "line": {
              "color": "white"
             }
            },
            "type": "table"
           }
          ]
         },
         "layout": {
          "annotationdefaults": {
           "arrowcolor": "#2a3f5f",
           "arrowhead": 0,
           "arrowwidth": 1
          },
          "coloraxis": {
           "colorbar": {
            "outlinewidth": 0,
            "ticks": ""
           }
          },
          "colorscale": {
           "diverging": [
            [
             0,
             "#8e0152"
            ],
            [
             0.1,
             "#c51b7d"
            ],
            [
             0.2,
             "#de77ae"
            ],
            [
             0.3,
             "#f1b6da"
            ],
            [
             0.4,
             "#fde0ef"
            ],
            [
             0.5,
             "#f7f7f7"
            ],
            [
             0.6,
             "#e6f5d0"
            ],
            [
             0.7,
             "#b8e186"
            ],
            [
             0.8,
             "#7fbc41"
            ],
            [
             0.9,
             "#4d9221"
            ],
            [
             1,
             "#276419"
            ]
           ],
           "sequential": [
            [
             0,
             "#0d0887"
            ],
            [
             0.1111111111111111,
             "#46039f"
            ],
            [
             0.2222222222222222,
             "#7201a8"
            ],
            [
             0.3333333333333333,
             "#9c179e"
            ],
            [
             0.4444444444444444,
             "#bd3786"
            ],
            [
             0.5555555555555556,
             "#d8576b"
            ],
            [
             0.6666666666666666,
             "#ed7953"
            ],
            [
             0.7777777777777778,
             "#fb9f3a"
            ],
            [
             0.8888888888888888,
             "#fdca26"
            ],
            [
             1,
             "#f0f921"
            ]
           ],
           "sequentialminus": [
            [
             0,
             "#0d0887"
            ],
            [
             0.1111111111111111,
             "#46039f"
            ],
            [
             0.2222222222222222,
             "#7201a8"
            ],
            [
             0.3333333333333333,
             "#9c179e"
            ],
            [
             0.4444444444444444,
             "#bd3786"
            ],
            [
             0.5555555555555556,
             "#d8576b"
            ],
            [
             0.6666666666666666,
             "#ed7953"
            ],
            [
             0.7777777777777778,
             "#fb9f3a"
            ],
            [
             0.8888888888888888,
             "#fdca26"
            ],
            [
             1,
             "#f0f921"
            ]
           ]
          },
          "colorway": [
           "#636efa",
           "#EF553B",
           "#00cc96",
           "#ab63fa",
           "#FFA15A",
           "#19d3f3",
           "#FF6692",
           "#B6E880",
           "#FF97FF",
           "#FECB52"
          ],
          "font": {
           "color": "#2a3f5f"
          },
          "geo": {
           "bgcolor": "white",
           "lakecolor": "white",
           "landcolor": "white",
           "showlakes": true,
           "showland": true,
           "subunitcolor": "#C8D4E3"
          },
          "hoverlabel": {
           "align": "left"
          },
          "hovermode": "closest",
          "mapbox": {
           "style": "light"
          },
          "paper_bgcolor": "white",
          "plot_bgcolor": "white",
          "polar": {
           "angularaxis": {
            "gridcolor": "#EBF0F8",
            "linecolor": "#EBF0F8",
            "ticks": ""
           },
           "bgcolor": "white",
           "radialaxis": {
            "gridcolor": "#EBF0F8",
            "linecolor": "#EBF0F8",
            "ticks": ""
           }
          },
          "scene": {
           "xaxis": {
            "backgroundcolor": "white",
            "gridcolor": "#DFE8F3",
            "gridwidth": 2,
            "linecolor": "#EBF0F8",
            "showbackground": true,
            "ticks": "",
            "zerolinecolor": "#EBF0F8"
           },
           "yaxis": {
            "backgroundcolor": "white",
            "gridcolor": "#DFE8F3",
            "gridwidth": 2,
            "linecolor": "#EBF0F8",
            "showbackground": true,
            "ticks": "",
            "zerolinecolor": "#EBF0F8"
           },
           "zaxis": {
            "backgroundcolor": "white",
            "gridcolor": "#DFE8F3",
            "gridwidth": 2,
            "linecolor": "#EBF0F8",
            "showbackground": true,
            "ticks": "",
            "zerolinecolor": "#EBF0F8"
           }
          },
          "shapedefaults": {
           "line": {
            "color": "#2a3f5f"
           }
          },
          "ternary": {
           "aaxis": {
            "gridcolor": "#DFE8F3",
            "linecolor": "#A2B1C6",
            "ticks": ""
           },
           "baxis": {
            "gridcolor": "#DFE8F3",
            "linecolor": "#A2B1C6",
            "ticks": ""
           },
           "bgcolor": "white",
           "caxis": {
            "gridcolor": "#DFE8F3",
            "linecolor": "#A2B1C6",
            "ticks": ""
           }
          },
          "title": {
           "x": 0.05
          },
          "xaxis": {
           "automargin": true,
           "gridcolor": "#EBF0F8",
           "linecolor": "#EBF0F8",
           "ticks": "",
           "title": {
            "standoff": 15
           },
           "zerolinecolor": "#EBF0F8",
           "zerolinewidth": 2
          },
          "yaxis": {
           "automargin": true,
           "gridcolor": "#EBF0F8",
           "linecolor": "#EBF0F8",
           "ticks": "",
           "title": {
            "standoff": 15
           },
           "zerolinecolor": "#EBF0F8",
           "zerolinewidth": 2
          }
         }
        },
        "xaxis": {
         "anchor": "y",
         "domain": [
          0,
          1
         ],
         "title": {
          "text": "num_known"
         }
        },
        "yaxis": {
         "anchor": "x",
         "domain": [
          0,
          1
         ],
         "title": {
          "text": "num_patients"
         }
        }
       }
      },
      "text/html": [
       "<div>\n",
       "        \n",
       "        \n",
       "            <div id=\"e9a02fdf-421a-41ff-9963-97e493a156e2\" class=\"plotly-graph-div\" style=\"height:525px; width:100%;\"></div>\n",
       "            <script type=\"text/javascript\">\n",
       "                require([\"plotly\"], function(Plotly) {\n",
       "                    window.PLOTLYENV=window.PLOTLYENV || {};\n",
       "                    \n",
       "                if (document.getElementById(\"e9a02fdf-421a-41ff-9963-97e493a156e2\")) {\n",
       "                    Plotly.newPlot(\n",
       "                        'e9a02fdf-421a-41ff-9963-97e493a156e2',\n",
       "                        [{\"hovertemplate\": \"<b>%{hovertext}</b><br><br>num_known=%{marker.color}<br>num_patients=%{y}<br>membership=%{marker.size}<extra></extra>\", \"hovertext\": [274.0, 122.0, 123.0, 124.0, 213.0, 126.0, 127.0, 128.0, 129.0, 130.0, 212.0, 132.0, 133.0, 211.0, 210.0, 209.0, 273.0, 208.0, 139.0, 207.0, 121.0, 120.0, 214.0, 118.0, 192.0, 222.0, 98.0, 99.0, 100.0, 101.0, 102.0, 104.0, 105.0, 141.0, 220.0, 108.0, 109.0, 219.0, 111.0, 218.0, 113.0, 217.0, 216.0, 116.0, 107.0, 95.0, 142.0, 144.0, 172.0, 174.0, 175.0, 196.0, 177.0, 178.0, 179.0, 180.0, 181.0, 182.0, 183.0, 184.0, 185.0, 186.0, 195.0, 188.0, 189.0, 190.0, 191.0, 198.0, 170.0, 169.0, 168.0, 145.0, 146.0, 147.0, 148.0, 206.0, 205.0, 204.0, 152.0, 154.0, 143.0, 156.0, 158.0, 159.0, 161.0, 162.0, 200.0, 164.0, 199.0, 166.0, 167.0, 157.0, 224.0, 223.0, 92.0, 28.0, 251.0, 30.0, 33.0, 34.0, 35.0, 248.0, 247.0, 252.0, 38.0, 246.0, 245.0, 42.0, 43.0, 44.0, 225.0, 244.0, 242.0, 39.0, 253.0, 254.0, 24.0, 272.0, 271.0, 270.0, 5.0, 268.0, 267.0, 265.0, 263.0, 262.0, 13.0, 14.0, 260.0, 259.0, 258.0, 257.0, 256.0, 21.0, 255.0, 23.0, 241.0, 50.0, 45.0, 52.0, 71.0, 51.0, 73.0, 75.0, 76.0, 231.0, 78.0, 79.0, 80.0, 81.0, 230.0, 83.0, 84.0, 85.0, 229.0, 228.0, 88.0, 226.0, 91.0, 233.0, 234.0, 72.0, 194.0, 237.0, 60.0, 68.0, 61.0, 236.0, 63.0, 56.0, 239.0, 240.0, 54.0, 66.0, 67.0, 53.0, 65.0, 238.0, 266.0, 269.0, 227.0, 243.0, 201.0, 221.0, 197.0, 235.0, 203.0, 202.0, 232.0, 249.0, 215.0, 250.0, 264.0, 261.0, 0.0, 187.0, 86.0, 82.0, 77.0, 74.0, 70.0, 193.0, 64.0, 62.0, 59.0, 58.0, 55.0, 48.0, 47.0, 87.0, 46.0, 37.0, 36.0, 32.0, 29.0, 27.0, 26.0, 22.0, 19.0, 9.0, 8.0, 7.0, 6.0, 3.0, 41.0, 89.0, 137.0, 93.0, 160.0, 155.0, 163.0, 153.0, 151.0, 150.0, 90.0, 149.0, 165.0, 138.0, 171.0, 136.0, 135.0, 131.0, 134.0, 110.0, 125.0, 94.0, 176.0, 117.0, 115.0, 114.0, 173.0, 106.0, 103.0, 97.0, 96.0, 10.0, 12.0, 4.0, 2.0, 15.0, 31.0, 17.0, 25.0, 140.0, 40.0, 49.0, 57.0, 119.0, 112.0, 69.0, 11.0, 18.0, 20.0, 1.0, 16.0], \"legendgroup\": \"\", \"marker\": {\"color\": [0, 0, 0, 0, 0, 0, 0, 0, 0, 0, 0, 0, 0, 0, 0, 0, 0, 0, 0, 0, 0, 0, 0, 0, 0, 0, 0, 0, 0, 0, 0, 0, 0, 0, 0, 0, 0, 0, 0, 0, 0, 0, 0, 0, 0, 0, 0, 0, 0, 0, 0, 0, 0, 0, 0, 0, 0, 0, 0, 0, 0, 0, 0, 0, 0, 0, 0, 0, 0, 0, 0, 0, 0, 0, 0, 0, 0, 0, 0, 0, 0, 0, 0, 0, 0, 0, 0, 0, 0, 0, 0, 0, 0, 0, 0, 0, 0, 0, 0, 0, 0, 0, 0, 0, 0, 0, 0, 0, 0, 0, 0, 0, 0, 0, 0, 0, 0, 0, 0, 0, 0, 0, 0, 0, 0, 0, 0, 0, 0, 0, 0, 0, 0, 0, 0, 0, 0, 0, 0, 0, 0, 0, 0, 0, 0, 0, 0, 0, 0, 0, 0, 0, 0, 0, 0, 0, 0, 0, 0, 0, 0, 0, 0, 0, 0, 0, 0, 0, 0, 0, 0, 0, 0, 0, 0, 0, 0, 0, 1, 1, 1, 1, 1, 1, 1, 1, 1, 1, 1, 1, 1, 1, 1, 1, 1, 1, 1, 1, 1, 1, 1, 1, 1, 1, 1, 1, 1, 1, 1, 1, 1, 1, 1, 1, 1, 1, 1, 1, 1, 1, 1, 1, 1, 1, 1, 1, 1, 1, 1, 1, 1, 1, 1, 1, 1, 1, 1, 1, 1, 1, 1, 1, 1, 1, 1, 1, 1, 1, 1, 1, 1, 1, 1, 1, 1, 2, 2, 2, 2, 2, 2, 2, 2, 2, 2, 2, 2, 2, 2, 2, 3, 4, 4, 4, 4], \"coloraxis\": \"coloraxis\", \"size\": [2, 4, 4, 4, 2, 4, 4, 4, 4, 4, 2, 4, 3, 2, 2, 2, 2, 2, 3, 2, 4, 4, 2, 4, 2, 2, 5, 5, 5, 5, 5, 4, 4, 3, 2, 4, 4, 2, 4, 2, 4, 2, 2, 4, 4, 5, 3, 3, 3, 3, 3, 2, 3, 3, 3, 3, 2, 2, 2, 2, 2, 2, 2, 2, 2, 2, 2, 2, 3, 3, 3, 3, 3, 3, 3, 2, 2, 2, 3, 3, 3, 3, 3, 3, 3, 3, 2, 3, 2, 3, 3, 3, 2, 2, 5, 16, 2, 15, 12, 12, 12, 2, 2, 2, 12, 2, 2, 11, 11, 11, 2, 2, 2, 11, 2, 2, 17, 2, 2, 2, 43, 2, 2, 2, 2, 2, 25, 24, 2, 2, 2, 2, 2, 18, 2, 17, 2, 9, 11, 9, 7, 9, 7, 7, 7, 2, 6, 6, 6, 6, 2, 6, 6, 6, 2, 2, 5, 2, 5, 2, 2, 7, 2, 2, 8, 7, 8, 2, 8, 8, 2, 2, 9, 7, 7, 9, 7, 2, 2, 2, 2, 2, 2, 2, 2, 2, 2, 2, 2, 2, 2, 2, 2, 2, 442, 2, 5, 6, 6, 7, 7, 2, 8, 8, 8, 8, 8, 10, 10, 5, 10, 12, 12, 13, 16, 16, 16, 17, 21, 29, 35, 37, 40, 66, 11, 5, 3, 5, 3, 3, 3, 3, 3, 3, 5, 3, 3, 3, 3, 3, 3, 4, 3, 4, 4, 5, 3, 4, 4, 4, 3, 4, 5, 5, 5, 27, 26, 57, 83, 24, 14, 22, 16, 3, 11, 10, 8, 4, 4, 7, 27, 22, 20, 120, 23], \"sizemode\": \"area\", \"sizeref\": 0.1768, \"symbol\": \"circle\"}, \"mode\": \"markers\", \"name\": \"\", \"orientation\": \"v\", \"showlegend\": false, \"type\": \"scatter\", \"x\": [0, 0, 0, 0, 0, 0, 0, 0, 0, 0, 0, 0, 0, 0, 0, 0, 0, 0, 0, 0, 0, 0, 0, 0, 0, 0, 0, 0, 0, 0, 0, 0, 0, 0, 0, 0, 0, 0, 0, 0, 0, 0, 0, 0, 0, 0, 0, 0, 0, 0, 0, 0, 0, 0, 0, 0, 0, 0, 0, 0, 0, 0, 0, 0, 0, 0, 0, 0, 0, 0, 0, 0, 0, 0, 0, 0, 0, 0, 0, 0, 0, 0, 0, 0, 0, 0, 0, 0, 0, 0, 0, 0, 0, 0, 0, 0, 0, 0, 0, 0, 0, 0, 0, 0, 0, 0, 0, 0, 0, 0, 0, 0, 0, 0, 0, 0, 0, 0, 0, 0, 0, 0, 0, 0, 0, 0, 0, 0, 0, 0, 0, 0, 0, 0, 0, 0, 0, 0, 0, 0, 0, 0, 0, 0, 0, 0, 0, 0, 0, 0, 0, 0, 0, 0, 0, 0, 0, 0, 0, 0, 0, 0, 0, 0, 0, 0, 0, 0, 0, 0, 0, 0, 0, 0, 0, 0, 0, 0, 1, 1, 1, 1, 1, 1, 1, 1, 1, 1, 1, 1, 1, 1, 1, 1, 1, 1, 1, 1, 1, 1, 1, 1, 1, 1, 1, 1, 1, 1, 1, 1, 1, 1, 1, 1, 1, 1, 1, 1, 1, 1, 1, 1, 1, 1, 1, 1, 1, 1, 1, 1, 1, 1, 1, 1, 1, 1, 1, 1, 1, 1, 1, 1, 1, 1, 1, 1, 1, 1, 1, 1, 1, 1, 1, 1, 1, 2, 2, 2, 2, 2, 2, 2, 2, 2, 2, 2, 2, 2, 2, 2, 3, 4, 4, 4, 4], \"xaxis\": \"x\", \"y\": [16, 35, 22, 21, 21, 32, 39, 42, 39, 19, 17, 46, 22, 25, 30, 17, 9, 16, 24, 21, 35, 9, 17, 21, 21, 20, 21, 34, 21, 46, 20, 31, 28, 29, 18, 25, 24, 20, 39, 15, 35, 14, 17, 34, 35, 33, 38, 23, 26, 35, 26, 26, 19, 22, 39, 36, 18, 36, 21, 23, 17, 17, 18, 16, 23, 17, 35, 18, 66, 23, 33, 29, 11, 35, 30, 17, 59, 15, 24, 24, 24, 24, 24, 20, 42, 67, 10, 28, 20, 38, 28, 23, 12, 23, 42, 40, 15, 126, 43, 52, 37, 27, 14, 20, 58, 17, 27, 29, 58, 29, 25, 56, 17, 99, 19, 48, 45, 12, 17, 9, 68, 19, 21, 8, 16, 15, 37, 42, 20, 23, 12, 22, 25, 63, 22, 77, 17, 33, 86, 16, 50, 40, 49, 50, 73, 16, 42, 84, 98, 32, 16, 60, 104, 18, 11, 19, 31, 36, 32, 19, 17, 51, 12, 18, 25, 39, 52, 29, 92, 50, 21, 15, 26, 29, 36, 19, 20, 16, 29, 32, 31, 13, 16, 20, 16, 60, 15, 18, 23, 16, 16, 18, 11, 17, 109, 21, 34, 41, 74, 24, 30, 16, 60, 76, 38, 45, 62, 41, 25, 30, 49, 82, 111, 32, 86, 26, 81, 65, 38, 120, 66, 112, 43, 150, 58, 41, 29, 23, 20, 17, 22, 18, 46, 30, 31, 21, 25, 20, 37, 25, 24, 67, 54, 57, 39, 28, 35, 21, 94, 80, 15, 37, 23, 45, 16, 165, 30, 74, 77, 113, 19, 35, 45, 35, 11, 22, 26, 18, 22, 17, 109, 37, 56, 47, 17], \"yaxis\": \"y\"}],\n",
       "                        {\"coloraxis\": {\"colorbar\": {\"title\": {\"text\": \"num_known\"}}, \"colorscale\": [[0.0, \"#0d0887\"], [0.1111111111111111, \"#46039f\"], [0.2222222222222222, \"#7201a8\"], [0.3333333333333333, \"#9c179e\"], [0.4444444444444444, \"#bd3786\"], [0.5555555555555556, \"#d8576b\"], [0.6666666666666666, \"#ed7953\"], [0.7777777777777778, \"#fb9f3a\"], [0.8888888888888888, \"#fdca26\"], [1.0, \"#f0f921\"]]}, \"legend\": {\"itemsizing\": \"constant\", \"tracegroupgap\": 0}, \"margin\": {\"t\": 60}, \"template\": {\"data\": {\"bar\": [{\"error_x\": {\"color\": \"#2a3f5f\"}, \"error_y\": {\"color\": \"#2a3f5f\"}, \"marker\": {\"line\": {\"color\": \"white\", \"width\": 0.5}}, \"type\": \"bar\"}], \"barpolar\": [{\"marker\": {\"line\": {\"color\": \"white\", \"width\": 0.5}}, \"type\": \"barpolar\"}], \"carpet\": [{\"aaxis\": {\"endlinecolor\": \"#2a3f5f\", \"gridcolor\": \"#C8D4E3\", \"linecolor\": \"#C8D4E3\", \"minorgridcolor\": \"#C8D4E3\", \"startlinecolor\": \"#2a3f5f\"}, \"baxis\": {\"endlinecolor\": \"#2a3f5f\", \"gridcolor\": \"#C8D4E3\", \"linecolor\": \"#C8D4E3\", \"minorgridcolor\": \"#C8D4E3\", \"startlinecolor\": \"#2a3f5f\"}, \"type\": \"carpet\"}], \"choropleth\": [{\"colorbar\": {\"outlinewidth\": 0, \"ticks\": \"\"}, \"type\": \"choropleth\"}], \"contour\": [{\"colorbar\": {\"outlinewidth\": 0, \"ticks\": \"\"}, \"colorscale\": [[0.0, \"#0d0887\"], [0.1111111111111111, \"#46039f\"], [0.2222222222222222, \"#7201a8\"], [0.3333333333333333, \"#9c179e\"], [0.4444444444444444, \"#bd3786\"], [0.5555555555555556, \"#d8576b\"], [0.6666666666666666, \"#ed7953\"], [0.7777777777777778, \"#fb9f3a\"], [0.8888888888888888, \"#fdca26\"], [1.0, \"#f0f921\"]], \"type\": \"contour\"}], \"contourcarpet\": [{\"colorbar\": {\"outlinewidth\": 0, \"ticks\": \"\"}, \"type\": \"contourcarpet\"}], \"heatmap\": [{\"colorbar\": {\"outlinewidth\": 0, \"ticks\": \"\"}, \"colorscale\": [[0.0, \"#0d0887\"], [0.1111111111111111, \"#46039f\"], [0.2222222222222222, \"#7201a8\"], [0.3333333333333333, \"#9c179e\"], [0.4444444444444444, \"#bd3786\"], [0.5555555555555556, \"#d8576b\"], [0.6666666666666666, \"#ed7953\"], [0.7777777777777778, \"#fb9f3a\"], [0.8888888888888888, \"#fdca26\"], [1.0, \"#f0f921\"]], \"type\": \"heatmap\"}], \"heatmapgl\": [{\"colorbar\": {\"outlinewidth\": 0, \"ticks\": \"\"}, \"colorscale\": [[0.0, \"#0d0887\"], [0.1111111111111111, \"#46039f\"], [0.2222222222222222, \"#7201a8\"], [0.3333333333333333, \"#9c179e\"], [0.4444444444444444, \"#bd3786\"], [0.5555555555555556, \"#d8576b\"], [0.6666666666666666, \"#ed7953\"], [0.7777777777777778, \"#fb9f3a\"], [0.8888888888888888, \"#fdca26\"], [1.0, \"#f0f921\"]], \"type\": \"heatmapgl\"}], \"histogram\": [{\"marker\": {\"colorbar\": {\"outlinewidth\": 0, \"ticks\": \"\"}}, \"type\": \"histogram\"}], \"histogram2d\": [{\"colorbar\": {\"outlinewidth\": 0, \"ticks\": \"\"}, \"colorscale\": [[0.0, \"#0d0887\"], [0.1111111111111111, \"#46039f\"], [0.2222222222222222, \"#7201a8\"], [0.3333333333333333, \"#9c179e\"], [0.4444444444444444, \"#bd3786\"], [0.5555555555555556, \"#d8576b\"], [0.6666666666666666, \"#ed7953\"], [0.7777777777777778, \"#fb9f3a\"], [0.8888888888888888, \"#fdca26\"], [1.0, \"#f0f921\"]], \"type\": \"histogram2d\"}], \"histogram2dcontour\": [{\"colorbar\": {\"outlinewidth\": 0, \"ticks\": \"\"}, \"colorscale\": [[0.0, \"#0d0887\"], [0.1111111111111111, \"#46039f\"], [0.2222222222222222, \"#7201a8\"], [0.3333333333333333, \"#9c179e\"], [0.4444444444444444, \"#bd3786\"], [0.5555555555555556, \"#d8576b\"], [0.6666666666666666, \"#ed7953\"], [0.7777777777777778, \"#fb9f3a\"], [0.8888888888888888, \"#fdca26\"], [1.0, \"#f0f921\"]], \"type\": \"histogram2dcontour\"}], \"mesh3d\": [{\"colorbar\": {\"outlinewidth\": 0, \"ticks\": \"\"}, \"type\": \"mesh3d\"}], \"parcoords\": [{\"line\": {\"colorbar\": {\"outlinewidth\": 0, \"ticks\": \"\"}}, \"type\": \"parcoords\"}], \"pie\": [{\"automargin\": true, \"type\": \"pie\"}], \"scatter\": [{\"marker\": {\"colorbar\": {\"outlinewidth\": 0, \"ticks\": \"\"}}, \"type\": \"scatter\"}], \"scatter3d\": [{\"line\": {\"colorbar\": {\"outlinewidth\": 0, \"ticks\": \"\"}}, \"marker\": {\"colorbar\": {\"outlinewidth\": 0, \"ticks\": \"\"}}, \"type\": \"scatter3d\"}], \"scattercarpet\": [{\"marker\": {\"colorbar\": {\"outlinewidth\": 0, \"ticks\": \"\"}}, \"type\": \"scattercarpet\"}], \"scattergeo\": [{\"marker\": {\"colorbar\": {\"outlinewidth\": 0, \"ticks\": \"\"}}, \"type\": \"scattergeo\"}], \"scattergl\": [{\"marker\": {\"colorbar\": {\"outlinewidth\": 0, \"ticks\": \"\"}}, \"type\": \"scattergl\"}], \"scattermapbox\": [{\"marker\": {\"colorbar\": {\"outlinewidth\": 0, \"ticks\": \"\"}}, \"type\": \"scattermapbox\"}], \"scatterpolar\": [{\"marker\": {\"colorbar\": {\"outlinewidth\": 0, \"ticks\": \"\"}}, \"type\": \"scatterpolar\"}], \"scatterpolargl\": [{\"marker\": {\"colorbar\": {\"outlinewidth\": 0, \"ticks\": \"\"}}, \"type\": \"scatterpolargl\"}], \"scatterternary\": [{\"marker\": {\"colorbar\": {\"outlinewidth\": 0, \"ticks\": \"\"}}, \"type\": \"scatterternary\"}], \"surface\": [{\"colorbar\": {\"outlinewidth\": 0, \"ticks\": \"\"}, \"colorscale\": [[0.0, \"#0d0887\"], [0.1111111111111111, \"#46039f\"], [0.2222222222222222, \"#7201a8\"], [0.3333333333333333, \"#9c179e\"], [0.4444444444444444, \"#bd3786\"], [0.5555555555555556, \"#d8576b\"], [0.6666666666666666, \"#ed7953\"], [0.7777777777777778, \"#fb9f3a\"], [0.8888888888888888, \"#fdca26\"], [1.0, \"#f0f921\"]], \"type\": \"surface\"}], \"table\": [{\"cells\": {\"fill\": {\"color\": \"#EBF0F8\"}, \"line\": {\"color\": \"white\"}}, \"header\": {\"fill\": {\"color\": \"#C8D4E3\"}, \"line\": {\"color\": \"white\"}}, \"type\": \"table\"}]}, \"layout\": {\"annotationdefaults\": {\"arrowcolor\": \"#2a3f5f\", \"arrowhead\": 0, \"arrowwidth\": 1}, \"coloraxis\": {\"colorbar\": {\"outlinewidth\": 0, \"ticks\": \"\"}}, \"colorscale\": {\"diverging\": [[0, \"#8e0152\"], [0.1, \"#c51b7d\"], [0.2, \"#de77ae\"], [0.3, \"#f1b6da\"], [0.4, \"#fde0ef\"], [0.5, \"#f7f7f7\"], [0.6, \"#e6f5d0\"], [0.7, \"#b8e186\"], [0.8, \"#7fbc41\"], [0.9, \"#4d9221\"], [1, \"#276419\"]], \"sequential\": [[0.0, \"#0d0887\"], [0.1111111111111111, \"#46039f\"], [0.2222222222222222, \"#7201a8\"], [0.3333333333333333, \"#9c179e\"], [0.4444444444444444, \"#bd3786\"], [0.5555555555555556, \"#d8576b\"], [0.6666666666666666, \"#ed7953\"], [0.7777777777777778, \"#fb9f3a\"], [0.8888888888888888, \"#fdca26\"], [1.0, \"#f0f921\"]], \"sequentialminus\": [[0.0, \"#0d0887\"], [0.1111111111111111, \"#46039f\"], [0.2222222222222222, \"#7201a8\"], [0.3333333333333333, \"#9c179e\"], [0.4444444444444444, \"#bd3786\"], [0.5555555555555556, \"#d8576b\"], [0.6666666666666666, \"#ed7953\"], [0.7777777777777778, \"#fb9f3a\"], [0.8888888888888888, \"#fdca26\"], [1.0, \"#f0f921\"]]}, \"colorway\": [\"#636efa\", \"#EF553B\", \"#00cc96\", \"#ab63fa\", \"#FFA15A\", \"#19d3f3\", \"#FF6692\", \"#B6E880\", \"#FF97FF\", \"#FECB52\"], \"font\": {\"color\": \"#2a3f5f\"}, \"geo\": {\"bgcolor\": \"white\", \"lakecolor\": \"white\", \"landcolor\": \"white\", \"showlakes\": true, \"showland\": true, \"subunitcolor\": \"#C8D4E3\"}, \"hoverlabel\": {\"align\": \"left\"}, \"hovermode\": \"closest\", \"mapbox\": {\"style\": \"light\"}, \"paper_bgcolor\": \"white\", \"plot_bgcolor\": \"white\", \"polar\": {\"angularaxis\": {\"gridcolor\": \"#EBF0F8\", \"linecolor\": \"#EBF0F8\", \"ticks\": \"\"}, \"bgcolor\": \"white\", \"radialaxis\": {\"gridcolor\": \"#EBF0F8\", \"linecolor\": \"#EBF0F8\", \"ticks\": \"\"}}, \"scene\": {\"xaxis\": {\"backgroundcolor\": \"white\", \"gridcolor\": \"#DFE8F3\", \"gridwidth\": 2, \"linecolor\": \"#EBF0F8\", \"showbackground\": true, \"ticks\": \"\", \"zerolinecolor\": \"#EBF0F8\"}, \"yaxis\": {\"backgroundcolor\": \"white\", \"gridcolor\": \"#DFE8F3\", \"gridwidth\": 2, \"linecolor\": \"#EBF0F8\", \"showbackground\": true, \"ticks\": \"\", \"zerolinecolor\": \"#EBF0F8\"}, \"zaxis\": {\"backgroundcolor\": \"white\", \"gridcolor\": \"#DFE8F3\", \"gridwidth\": 2, \"linecolor\": \"#EBF0F8\", \"showbackground\": true, \"ticks\": \"\", \"zerolinecolor\": \"#EBF0F8\"}}, \"shapedefaults\": {\"line\": {\"color\": \"#2a3f5f\"}}, \"ternary\": {\"aaxis\": {\"gridcolor\": \"#DFE8F3\", \"linecolor\": \"#A2B1C6\", \"ticks\": \"\"}, \"baxis\": {\"gridcolor\": \"#DFE8F3\", \"linecolor\": \"#A2B1C6\", \"ticks\": \"\"}, \"bgcolor\": \"white\", \"caxis\": {\"gridcolor\": \"#DFE8F3\", \"linecolor\": \"#A2B1C6\", \"ticks\": \"\"}}, \"title\": {\"x\": 0.05}, \"xaxis\": {\"automargin\": true, \"gridcolor\": \"#EBF0F8\", \"linecolor\": \"#EBF0F8\", \"ticks\": \"\", \"title\": {\"standoff\": 15}, \"zerolinecolor\": \"#EBF0F8\", \"zerolinewidth\": 2}, \"yaxis\": {\"automargin\": true, \"gridcolor\": \"#EBF0F8\", \"linecolor\": \"#EBF0F8\", \"ticks\": \"\", \"title\": {\"standoff\": 15}, \"zerolinecolor\": \"#EBF0F8\", \"zerolinewidth\": 2}}}, \"xaxis\": {\"anchor\": \"y\", \"domain\": [0.0, 1.0], \"title\": {\"text\": \"num_known\"}}, \"yaxis\": {\"anchor\": \"x\", \"domain\": [0.0, 1.0], \"title\": {\"text\": \"num_patients\"}}},\n",
       "                        {\"responsive\": true}\n",
       "                    ).then(function(){\n",
       "                            \n",
       "var gd = document.getElementById('e9a02fdf-421a-41ff-9963-97e493a156e2');\n",
       "var x = new MutationObserver(function (mutations, observer) {{\n",
       "        var display = window.getComputedStyle(gd).display;\n",
       "        if (!display || display === 'none') {{\n",
       "            console.log([gd, 'removed!']);\n",
       "            Plotly.purge(gd);\n",
       "            observer.disconnect();\n",
       "        }}\n",
       "}});\n",
       "\n",
       "// Listen for the removal of the full notebook cells\n",
       "var notebookContainer = gd.closest('#notebook-container');\n",
       "if (notebookContainer) {{\n",
       "    x.observe(notebookContainer, {childList: true});\n",
       "}}\n",
       "\n",
       "// Listen for the clearing of the current output cell\n",
       "var outputEl = gd.closest('.output');\n",
       "if (outputEl) {{\n",
       "    x.observe(outputEl, {childList: true});\n",
       "}}\n",
       "\n",
       "                        })\n",
       "                };\n",
       "                });\n",
       "            </script>\n",
       "        </div>"
      ]
     },
     "metadata": {},
     "output_type": "display_data"
    }
   ],
   "source": [
    "clique_responses = clique_response_frame[\n",
    "    ['clique_idx', 'membership', 'num_known', 'num_patients']\n",
    "].drop_duplicates()\n",
    "\n",
    "fig = px.scatter(\n",
    "    clique_responses, x = 'num_known', y = 'num_patients',\n",
    "    size = 'membership', color = 'num_known',\n",
    "    hover_name=\"clique_idx\", size_max=50\n",
    ")\n",
    "\n",
    "fig.write_html(os.path.join(fn_figdir, \"motif_confidence.html\"))\n",
    "\n",
    "fig"
   ]
  },
  {
   "cell_type": "code",
   "execution_count": 26,
   "metadata": {},
   "outputs": [
    {
     "data": {
      "text/html": [
       "<div>\n",
       "<style scoped>\n",
       "    .dataframe tbody tr th:only-of-type {\n",
       "        vertical-align: middle;\n",
       "    }\n",
       "\n",
       "    .dataframe tbody tr th {\n",
       "        vertical-align: top;\n",
       "    }\n",
       "\n",
       "    .dataframe thead th {\n",
       "        text-align: right;\n",
       "    }\n",
       "</style>\n",
       "<table border=\"1\" class=\"dataframe\">\n",
       "  <thead>\n",
       "    <tr style=\"text-align: right;\">\n",
       "      <th>location</th>\n",
       "      <th>clique_idx</th>\n",
       "      <th>Kanungu</th>\n",
       "      <th>Tororo</th>\n",
       "      <th>leaning</th>\n",
       "    </tr>\n",
       "  </thead>\n",
       "  <tbody>\n",
       "    <tr>\n",
       "      <th>0</th>\n",
       "      <td>0</td>\n",
       "      <td>42.0</td>\n",
       "      <td>67.0</td>\n",
       "      <td>T</td>\n",
       "    </tr>\n",
       "    <tr>\n",
       "      <th>1</th>\n",
       "      <td>1</td>\n",
       "      <td>15.0</td>\n",
       "      <td>32.0</td>\n",
       "      <td>T</td>\n",
       "    </tr>\n",
       "    <tr>\n",
       "      <th>2</th>\n",
       "      <td>2</td>\n",
       "      <td>29.0</td>\n",
       "      <td>48.0</td>\n",
       "      <td>T</td>\n",
       "    </tr>\n",
       "    <tr>\n",
       "      <th>3</th>\n",
       "      <td>3</td>\n",
       "      <td>77.0</td>\n",
       "      <td>73.0</td>\n",
       "      <td>K</td>\n",
       "    </tr>\n",
       "    <tr>\n",
       "      <th>4</th>\n",
       "      <td>4</td>\n",
       "      <td>54.0</td>\n",
       "      <td>20.0</td>\n",
       "      <td>K</td>\n",
       "    </tr>\n",
       "    <tr>\n",
       "      <th>...</th>\n",
       "      <td>...</td>\n",
       "      <td>...</td>\n",
       "      <td>...</td>\n",
       "      <td>...</td>\n",
       "    </tr>\n",
       "    <tr>\n",
       "      <th>270</th>\n",
       "      <td>270</td>\n",
       "      <td>NaN</td>\n",
       "      <td>9.0</td>\n",
       "      <td>T</td>\n",
       "    </tr>\n",
       "    <tr>\n",
       "      <th>271</th>\n",
       "      <td>271</td>\n",
       "      <td>7.0</td>\n",
       "      <td>10.0</td>\n",
       "      <td>T</td>\n",
       "    </tr>\n",
       "    <tr>\n",
       "      <th>272</th>\n",
       "      <td>272</td>\n",
       "      <td>1.0</td>\n",
       "      <td>11.0</td>\n",
       "      <td>T</td>\n",
       "    </tr>\n",
       "    <tr>\n",
       "      <th>273</th>\n",
       "      <td>273</td>\n",
       "      <td>6.0</td>\n",
       "      <td>3.0</td>\n",
       "      <td>K</td>\n",
       "    </tr>\n",
       "    <tr>\n",
       "      <th>274</th>\n",
       "      <td>274</td>\n",
       "      <td>9.0</td>\n",
       "      <td>7.0</td>\n",
       "      <td>K</td>\n",
       "    </tr>\n",
       "  </tbody>\n",
       "</table>\n",
       "<p>275 rows × 4 columns</p>\n",
       "</div>"
      ],
      "text/plain": [
       "location  clique_idx  Kanungu  Tororo leaning\n",
       "0                  0     42.0    67.0       T\n",
       "1                  1     15.0    32.0       T\n",
       "2                  2     29.0    48.0       T\n",
       "3                  3     77.0    73.0       K\n",
       "4                  4     54.0    20.0       K\n",
       "..               ...      ...     ...     ...\n",
       "270              270      NaN     9.0       T\n",
       "271              271      7.0    10.0       T\n",
       "272              272      1.0    11.0       T\n",
       "273              273      6.0     3.0       K\n",
       "274              274      9.0     7.0       K\n",
       "\n",
       "[275 rows x 4 columns]"
      ]
     },
     "execution_count": 26,
     "metadata": {},
     "output_type": "execute_result"
    }
   ],
   "source": [
    "patient_frame['location'] = patient_frame.cid.apply(lambda x : 'Tororo' if 'CT' in x else 'Kanungu')\n",
    "patient_response_by_region = patient_frame.\\\n",
    "    groupby(['location', 'clique_idx']).\\\n",
    "    apply(\n",
    "        lambda x : pd.Series({'num_patients' : x.cid.unique().size})\n",
    ").reset_index()\n",
    "\n",
    "patient_response_by_region = pd.pivot_table(\n",
    "    patient_response_by_region, index = 'clique_idx', \n",
    "    columns = 'location', values = 'num_patients'\n",
    ").reset_index()\n",
    "\n",
    "patient_response_by_region['leaning'] = patient_response_by_region.apply(\n",
    "    lambda x : 'K' if x.Kanungu > x.Tororo else 'T',\n",
    "    axis = 1\n",
    ")\n",
    "\n",
    "patient_response_by_region"
   ]
  },
  {
   "cell_type": "markdown",
   "metadata": {},
   "source": [
    "## Regional Obervations of Cliques"
   ]
  },
  {
   "cell_type": "code",
   "execution_count": 34,
   "metadata": {},
   "outputs": [
    {
     "data": {
      "application/vnd.plotly.v1+json": {
       "config": {
        "plotlyServerURL": "https://plot.ly"
       },
       "data": [
        {
         "customdata": [
          [
           [],
           [],
           []
          ],
          [
           [],
           [],
           []
          ],
          [
           [],
           [],
           []
          ],
          [
           [],
           [],
           []
          ],
          [
           [],
           [],
           []
          ],
          [
           [],
           [],
           []
          ],
          [
           [],
           [],
           []
          ],
          [
           [],
           [],
           []
          ],
          [
           [],
           [],
           []
          ],
          [
           [],
           [],
           []
          ],
          [
           [],
           [],
           []
          ],
          [
           [],
           [],
           []
          ],
          [
           [],
           [],
           []
          ],
          [
           [],
           [],
           []
          ],
          [
           [],
           [],
           []
          ],
          [
           [],
           [],
           []
          ],
          [
           [],
           [],
           []
          ],
          [
           [],
           [],
           []
          ],
          [
           [],
           [],
           []
          ],
          [
           [],
           [],
           []
          ],
          [
           [],
           [],
           []
          ],
          [
           [],
           [],
           []
          ],
          [
           [],
           [],
           []
          ],
          [
           [],
           [],
           []
          ],
          [
           [],
           [],
           []
          ],
          [
           [],
           [],
           []
          ],
          [
           [],
           [],
           []
          ],
          [
           [],
           [],
           []
          ],
          [
           [],
           [],
           []
          ],
          [
           [],
           [],
           []
          ],
          [
           [],
           [],
           []
          ],
          [
           [],
           [],
           []
          ],
          [
           [],
           [],
           []
          ],
          [
           [],
           [],
           []
          ],
          [
           [],
           [],
           []
          ],
          [
           [],
           [],
           []
          ],
          [
           [],
           [],
           []
          ],
          [
           [],
           [],
           []
          ],
          [
           [],
           [],
           []
          ],
          [
           [],
           [],
           []
          ],
          [
           [],
           [],
           []
          ],
          [
           [],
           [],
           []
          ],
          [
           [],
           [],
           []
          ],
          [
           [],
           [],
           []
          ],
          [
           [],
           [],
           []
          ],
          [
           [],
           [],
           []
          ],
          [
           [],
           [],
           []
          ],
          [
           [],
           [],
           []
          ],
          [
           [],
           [],
           []
          ],
          [
           [],
           [],
           []
          ],
          [
           [],
           [],
           []
          ],
          [
           [],
           [],
           []
          ],
          [
           [],
           [],
           []
          ],
          [
           [],
           [],
           []
          ],
          [
           [
            "clique_269_MEME-0_5.5e-009"
           ],
           [
            "DDYSKRNRS"
           ],
           [
            "eid_32301::Merozoite_surface_protein_1_precursor"
           ]
          ],
          [
           [
            "clique_227_MEME-0_2.2e-010"
           ],
           [
            "YNLNSGYNQNNG"
           ],
           [
            "eid_179965::merozoite_surface_protein_8"
           ]
          ],
          [
           [
            "clique_243_MEME-0_1.9e-010"
           ],
           [
            "KCDDRIFKKRNY"
           ],
           [
            "eid_1067745::erythrocyte_binding_antigen-165_[Plasmodium_falciparum_3D7]"
           ]
          ],
          [
           [
            "clique_201_MEME-0_1.2e-019"
           ],
           [
            "NKMDNKY"
           ],
           [
            "eid_141618::erythrocyte_membrane_protein_1"
           ]
          ],
          [
           [
            "clique_221_MEME-0_1.5e-011"
           ],
           [
            "AGYSDSDYDDEY"
           ],
           [
            "eid_74323::Circumsporozoite"
           ]
          ],
          [
           [
            "clique_197_MEME-0_1.2e-009"
           ],
           [
            "QVPVSGSPL"
           ],
           [
            "eid_1068342::merozoite_surface_protein_1"
           ]
          ],
          [
           [
            "clique_203_MEME-0_1.1e-022"
           ],
           [
            "TADLNAEKTTDL"
           ],
           [
            "eid_1066649::cytoadherence_linked_asexual_protein_3.1_[Plasmodium_falciparum_3D7]"
           ]
          ],
          [
           [
            "clique_202_MEME-0_6.3e-034"
           ],
           [
            "PQGSTGA"
           ],
           [
            "eid_227384::serine_repeat_antigen_5"
           ]
          ],
          [
           [
            "clique_250_MEME-0_1.1e-007"
           ],
           [
            "NGLRNDAGRGNJ"
           ],
           [
            "eid_1068491::erythrocyte_binding_antigen-181_[Plasmodium_falciparum_3D7]"
           ]
          ],
          [
           [
            "clique_87_MEME-1_3.2e-007"
           ],
           [
            "LSDDVRPDKNH"
           ],
           [
            "eid_1066748::erythrocyte_binding_antigen-175_[Plasmodium_falciparum_3D7]"
           ]
          ],
          [
           [
            "clique_37_MEME-0_3.4e-131"
           ],
           [
            "FKRQMFYTLGDY"
           ],
           [
            "eid_1068080::cytoadherence_linked_asexual_protein_3.2_[Plasmodium_falciparum_3D7]"
           ]
          ],
          [
           [
            "clique_29_MEME-1_5.8e-011"
           ],
           [
            "FDFRDSYFCNFP"
           ],
           [
            "eid_1068363::cytoadherence_linked_asexual_protein_8_[Plasmodium_falciparum_3D7]"
           ]
          ],
          [
           [
            "clique_27_MEME-1_1.2e-143"
           ],
           [
            "ELKNKEL"
           ],
           [
            "eid_1067038::erythrocyte_binding_antigen-181_[Plasmodium_falciparum_3D7]"
           ]
          ],
          [
           [
            "clique_9_MEME-1_3.6e-021"
           ],
           [
            "NIEENIEEN"
           ],
           [
            "eid_46363::ring-infested_erythrocyte_surface_antigen"
           ]
          ],
          [
           [
            "clique_3_MEME-0_7.3e-1603",
            "clique_3_MEME-1_4.1e-139",
            "clique_3_MEME-4_2.5e-011"
           ],
           [
            "TTQEPVTTQEPV",
            "TTQEPVTTQ",
            "VTTQEPV"
           ],
           [
            "eid_78559::Interspersed_repeat_antigen"
           ]
          ],
          [
           [
            "clique_41_MEME-1_1.6e-016"
           ],
           [
            "HDDLYNSENSTF"
           ],
           [
            "eid_1067003::erythrocyte_binding_antigen-181_[Plasmodium_falciparum_3D7]"
           ]
          ],
          [
           [
            "clique_155_MEME-0_5.6e-044"
           ],
           [
            "NNGNNFNKDNIL"
           ],
           [
            "eid_1066909::merozoite_surface_protein_1"
           ]
          ],
          [
           [
            "clique_153_MEME-0_1.5e-048"
           ],
           [
            "KLIGDNKLIGDB"
           ],
           [
            "eid_11927::erythrocyte_membrane-associated_giant_protein_antigen_332"
           ]
          ],
          [
           [
            "clique_151_MEME-0_2.0e-006"
           ],
           [
            "DTSSLKKIKGSP"
           ],
           [
            "eid_1066934::erythrocyte_binding_antigen-175_[Plasmodium_falciparum_3D7]"
           ]
          ],
          [
           [
            "clique_149_MEME-0_5.4e-044"
           ],
           [
            "GASAPSGTS"
           ],
           [
            "eid_95828::merozoite_surface_protein_1"
           ]
          ],
          [
           [
            "clique_138_MEME-0_5.6e-015"
           ],
           [
            "LNKDISNKDYKY"
           ],
           [
            "eid_1067988::apical_membrane_antigen_1"
           ]
          ],
          [
           [
            "clique_131_MEME-0_6.8e-016"
           ],
           [
            "LDRHRDMCEKW"
           ],
           [
            "eid_913519::erythrocyte_membrane_protein_1_(PfEMP1)"
           ]
          ],
          [
           [
            "clique_125_MEME-0_3.8e-019"
           ],
           [
            "RTLNKEYEDGEL"
           ],
           [
            "eid_13975::erythrocyte_binding_protein"
           ]
          ],
          [
           [
            "clique_173_MEME-1_2.7e-011"
           ],
           [
            "EKRNGFDLBDDT"
           ],
           [
            "eid_45337::sporozoite_surface_protein_2"
           ]
          ],
          [
           [
            "clique_10_MEME-0_6.0e-954",
            "clique_10_MEME-3_1.7e-007"
           ],
           [
            "RNQNVNDRRNFD",
            "CGLEKGGPPWTP"
           ],
           [
            "eid_1067300::cytoadherence_linked_asexual_protein_3.1_[Plasmodium_falciparum_3D7]",
            "eid_181625::erythrocyte_membrane_protein_1"
           ]
          ],
          [
           [
            "clique_4_MEME-0_1.3e-2238",
            "clique_4_MEME-2_1.0e-011"
           ],
           [
            "GQQNTGLKNTPS",
            "LNKDIRNKDLKN"
           ],
           [
            "eid_1067917::high_molecular_weight_rhoptry_protein_3_[Plasmodium_falciparum_3D7]",
            "eid_1066836::erythrocyte_binding_antigen-175_[Plasmodium_falciparum_3D7]"
           ]
          ],
          [
           [
            "clique_31_MEME-1_7.2e-033",
            "clique_31_MEME-2_1.6e-011"
           ],
           [
            "NADNKED",
            "FHKILTNTD"
           ],
           [
            "eid_1068703::MSP7-like_protein_[Plasmodium_falciparum_3D7]",
            "eid_73821::Glycophorin-binding_protein"
           ]
          ],
          [
           [
            "clique_140_MEME-0_3.7e-012",
            "clique_140_MEME-1_9.8e-006"
           ],
           [
            "HDIYDIDTF",
            "DMCKKCDEIKYL"
           ],
           [
            "eid_1067530::erythrocyte_binding_antigen-140_[Plasmodium_falciparum_3D7]",
            "eid_1066720::erythrocyte_binding_antigen-140_[Plasmodium_falciparum_3D7]"
           ]
          ],
          [
           [
            "clique_40_MEME-0_7.9e-324",
            "clique_40_MEME-1_3.1e-051"
           ],
           [
            "SNGREDKVSNGG",
            "DEVSNGRED"
           ],
           [
            "eid_914261::S-antigen_[Plasmodium_falciparum_3D7]",
            "eid_913339::S-antigen_[Plasmodium_falciparum_3D7]"
           ]
          ],
          [
           [
            "clique_119_MEME-0_2.9e-030",
            "clique_119_MEME-1_1.8e-012"
           ],
           [
            "MSIHDGMKGQKY",
            "QNKNYKHLTDEE"
           ],
           [
            "eid_1066929::erythrocyte_binding_antigen-165_[Plasmodium_falciparum_3D7]",
            "eid_913567::conserved_Plasmodium_protein"
           ]
          ]
         ],
         "hovertemplate": "<b>%{hovertext}</b><br><br>leaning=K<br>agg_x=%{x}<br>agg_y=%{y}<br>membership=%{marker.size}<br>qseqid=%{customdata[0]}<br>sequences=%{customdata[1]}<br>sseqid=%{customdata[2]}<br>num_known=%{marker.color}<extra></extra>",
         "hovertext": [
          274,
          126,
          127,
          128,
          273,
          121,
          120,
          100,
          101,
          104,
          141,
          220,
          218,
          107,
          142,
          144,
          196,
          177,
          181,
          182,
          190,
          191,
          198,
          169,
          146,
          147,
          148,
          206,
          205,
          152,
          158,
          157,
          34,
          248,
          245,
          44,
          244,
          242,
          268,
          265,
          263,
          13,
          21,
          255,
          81,
          230,
          84,
          88,
          226,
          233,
          234,
          61,
          236,
          238,
          269,
          227,
          243,
          201,
          221,
          197,
          203,
          202,
          250,
          87,
          37,
          29,
          27,
          9,
          3,
          41,
          155,
          153,
          151,
          149,
          138,
          131,
          125,
          173,
          10,
          4,
          31,
          140,
          40,
          119
         ],
         "legendgroup": "",
         "marker": {
          "color": [
           0,
           0,
           0,
           0,
           0,
           0,
           0,
           0,
           0,
           0,
           0,
           0,
           0,
           0,
           0,
           0,
           0,
           0,
           0,
           0,
           0,
           0,
           0,
           0,
           0,
           0,
           0,
           0,
           0,
           0,
           0,
           0,
           0,
           0,
           0,
           0,
           0,
           0,
           0,
           0,
           0,
           0,
           0,
           0,
           0,
           0,
           0,
           0,
           0,
           0,
           0,
           0,
           0,
           0,
           1,
           1,
           1,
           1,
           1,
           1,
           1,
           1,
           1,
           1,
           1,
           1,
           1,
           1,
           1,
           1,
           1,
           1,
           1,
           1,
           1,
           1,
           1,
           1,
           2,
           2,
           2,
           2,
           2,
           2
          ],
          "coloraxis": "coloraxis",
          "size": [
           2,
           4,
           4,
           4,
           2,
           4,
           4,
           5,
           5,
           4,
           3,
           2,
           2,
           4,
           3,
           3,
           2,
           3,
           2,
           2,
           2,
           2,
           2,
           3,
           3,
           3,
           3,
           2,
           2,
           3,
           3,
           3,
           12,
           2,
           2,
           11,
           2,
           2,
           2,
           2,
           2,
           25,
           18,
           2,
           6,
           2,
           6,
           5,
           2,
           2,
           2,
           8,
           2,
           2,
           2,
           2,
           2,
           2,
           2,
           2,
           2,
           2,
           2,
           5,
           12,
           16,
           16,
           29,
           66,
           11,
           3,
           3,
           3,
           3,
           3,
           4,
           4,
           3,
           27,
           57,
           14,
           3,
           11,
           4
          ],
          "sizemode": "area",
          "sizeref": 0.1768,
          "symbol": "circle"
         },
         "mode": "markers",
         "name": "",
         "orientation": "v",
         "showlegend": false,
         "type": "scatter",
         "x": [
          0.08741186186671257,
          -0.23536089807748795,
          0.6344028115272522,
          0.7073276937007904,
          -0.500730499625206,
          -0.7095675617456436,
          0.634680300951004,
          0.33465894460678103,
          -0.7890691637992859,
          -0.7624323815107346,
          -0.8024386763572693,
          0.20047051459550858,
          0.5508686006069183,
          0.1170795951038599,
          -0.3332040309906006,
          -0.8162234425544739,
          0.5023595690727234,
          0.8250914414723715,
          -0.8721057176589966,
          0.05877603590488434,
          0.3714127540588379,
          0.6262489557266235,
          0.5624980628490448,
          -0.3003203173478444,
          0.8705007632573446,
          -0.06348925456404686,
          -0.19840864837169647,
          -0.5165800452232361,
          0.8694146573543549,
          0.7866345445315043,
          0.6613522370656332,
          0.7820912996927897,
          -0.03966560525198778,
          -0.6876915395259857,
          -0.29533228278160095,
          0.2017715641043403,
          -0.5375024080276489,
          -0.7863399982452393,
          -0.6961060166358948,
          -0.8520104289054871,
          -0.5360464453697205,
          0.07976516425609588,
          0.005168264505401667,
          0.4180283397436142,
          0.6603393952051798,
          0.4971752166748047,
          -0.0510550681501627,
          -0.7181538343429565,
          0.22862257808446884,
          -0.05041687376797199,
          -0.13210876286029816,
          -0.04158807406201959,
          0.7430870831012726,
          0.14003048092126846,
          -0.029771416448056698,
          -0.5245940387248993,
          -0.36516430974006653,
          -0.7757576406002045,
          0.6119994521141052,
          -0.8339196443557739,
          0.8345828652381897,
          -0.19336730986833572,
          0.20879388600587845,
          -0.6805130004882812,
          -0.7463216086228689,
          0.5042765699326992,
          0.41060037538409233,
          -0.34268079955002356,
          -0.006451798264275898,
          -0.42346167835322296,
          0.06672866145769756,
          -0.8051658868789673,
          -0.3647873302300771,
          0.21537665526072183,
          0.5446706414222717,
          -0.37384501099586487,
          -0.2502428814768791,
          -0.3164479434490204,
          0.3591803279187944,
          0.10338734286396127,
          0.6075279755251748,
          -0.7932584285736084,
          0.322227957573804,
          0.42236149311065674
         ],
         "xaxis": "x2",
         "y": [
          0.8490608632564545,
          0.7222279459238052,
          0.32522203773260117,
          -0.40455781668424606,
          -0.8170453608036041,
          0.3691842630505562,
          0.36278732120990753,
          -0.6561058759689331,
          -0.23882408142089845,
          -0.3266249820590019,
          0.2362471471230189,
          -0.7944314479827881,
          -0.8424915075302124,
          0.8184793591499329,
          0.639624277750651,
          -0.2800912658373515,
          -0.7018028199672699,
          0.31644266843795776,
          0.1364191174507141,
          -0.8555690050125122,
          -0.8422617018222809,
          -0.6187876164913177,
          0.7541602551937103,
          0.8635705510775248,
          0.005355902947485447,
          0.8355867067972819,
          0.8495489160219828,
          0.7029245793819427,
          0.20073729008436203,
          0.009002715970079104,
          -0.6109699408213297,
          -0.022826241950194042,
          -0.6109053194522858,
          0.6456752121448517,
          0.7327852845191956,
          -0.6018094312060963,
          -0.784300297498703,
          0.2670016884803772,
          -0.6436246931552887,
          -0.4132489413022995,
          0.5857003927230835,
          -0.2972885203361511,
          -0.3680332882536782,
          -0.6913145184516907,
          -0.2657891859610875,
          0.7972534894943237,
          -0.859913170337677,
          0.4532416880130768,
          0.8117696344852448,
          0.9910098016262054,
          -0.8892950713634491,
          0.7020932734012604,
          0.48318029940128326,
          -0.8376785814762115,
          -0.7895996570587158,
          0.8755220472812653,
          0.7359733283519745,
          -0.2835308313369751,
          -0.5454920828342438,
          -0.447564497590065,
          -0.2113407999277115,
          0.9115613996982574,
          0.9444856345653534,
          -0.5152043104171753,
          -0.08807527149717014,
          -0.10263409931212664,
          0.2838506232947111,
          0.01222865538800071,
          -0.10992335855509296,
          -0.5572634014216337,
          0.7845801512400309,
          -0.3762867550055186,
          -0.8642682234446207,
          -0.697797417640686,
          -0.6333915193875631,
          0.7909888327121735,
          -0.7408706545829773,
          -0.8319299419720968,
          0.07750318282180363,
          -0.10604065029244673,
          -0.031237879768013954,
          -0.04763321081797282,
          0.605866405096921,
          0.6053445190191269
         ],
         "yaxis": "y2"
        },
        {
         "customdata": [
          [
           [],
           [],
           []
          ],
          [
           [],
           [],
           []
          ],
          [
           [],
           [],
           []
          ],
          [
           [],
           [],
           []
          ],
          [
           [],
           [],
           []
          ],
          [
           [],
           [],
           []
          ],
          [
           [],
           [],
           []
          ],
          [
           [],
           [],
           []
          ],
          [
           [],
           [],
           []
          ],
          [
           [],
           [],
           []
          ],
          [
           [],
           [],
           []
          ],
          [
           [],
           [],
           []
          ],
          [
           [],
           [],
           []
          ],
          [
           [],
           [],
           []
          ],
          [
           [],
           [],
           []
          ],
          [
           [],
           [],
           []
          ],
          [
           [],
           [],
           []
          ],
          [
           [],
           [],
           []
          ],
          [
           [],
           [],
           []
          ],
          [
           [],
           [],
           []
          ],
          [
           [],
           [],
           []
          ],
          [
           [],
           [],
           []
          ],
          [
           [],
           [],
           []
          ],
          [
           [],
           [],
           []
          ],
          [
           [],
           [],
           []
          ],
          [
           [],
           [],
           []
          ],
          [
           [],
           [],
           []
          ],
          [
           [],
           [],
           []
          ],
          [
           [],
           [],
           []
          ],
          [
           [],
           [],
           []
          ],
          [
           [],
           [],
           []
          ],
          [
           [],
           [],
           []
          ],
          [
           [],
           [],
           []
          ],
          [
           [],
           [],
           []
          ],
          [
           [],
           [],
           []
          ],
          [
           [],
           [],
           []
          ],
          [
           [],
           [],
           []
          ],
          [
           [],
           [],
           []
          ],
          [
           [],
           [],
           []
          ],
          [
           [],
           [],
           []
          ],
          [
           [],
           [],
           []
          ],
          [
           [],
           [],
           []
          ],
          [
           [],
           [],
           []
          ],
          [
           [],
           [],
           []
          ],
          [
           [],
           [],
           []
          ],
          [
           [],
           [],
           []
          ],
          [
           [],
           [],
           []
          ],
          [
           [],
           [],
           []
          ],
          [
           [],
           [],
           []
          ],
          [
           [],
           [],
           []
          ],
          [
           [],
           [],
           []
          ],
          [
           [],
           [],
           []
          ],
          [
           [],
           [],
           []
          ],
          [
           [],
           [],
           []
          ],
          [
           [],
           [],
           []
          ],
          [
           [],
           [],
           []
          ],
          [
           [],
           [],
           []
          ],
          [
           [],
           [],
           []
          ],
          [
           [],
           [],
           []
          ],
          [
           [],
           [],
           []
          ],
          [
           [],
           [],
           []
          ],
          [
           [],
           [],
           []
          ],
          [
           [],
           [],
           []
          ],
          [
           [],
           [],
           []
          ],
          [
           [],
           [],
           []
          ],
          [
           [],
           [],
           []
          ],
          [
           [],
           [],
           []
          ],
          [
           [],
           [],
           []
          ],
          [
           [],
           [],
           []
          ],
          [
           [],
           [],
           []
          ],
          [
           [],
           [],
           []
          ],
          [
           [],
           [],
           []
          ],
          [
           [],
           [],
           []
          ],
          [
           [],
           [],
           []
          ],
          [
           [],
           [],
           []
          ],
          [
           [],
           [],
           []
          ],
          [
           [],
           [],
           []
          ],
          [
           [],
           [],
           []
          ],
          [
           [],
           [],
           []
          ],
          [
           [],
           [],
           []
          ],
          [
           [],
           [],
           []
          ],
          [
           [],
           [],
           []
          ],
          [
           [],
           [],
           []
          ],
          [
           [],
           [],
           []
          ],
          [
           [],
           [],
           []
          ],
          [
           [],
           [],
           []
          ],
          [
           [],
           [],
           []
          ],
          [
           [],
           [],
           []
          ],
          [
           [],
           [],
           []
          ],
          [
           [],
           [],
           []
          ],
          [
           [],
           [],
           []
          ],
          [
           [],
           [],
           []
          ],
          [
           [],
           [],
           []
          ],
          [
           [],
           [],
           []
          ],
          [
           [],
           [],
           []
          ],
          [
           [],
           [],
           []
          ],
          [
           [],
           [],
           []
          ],
          [
           [],
           [],
           []
          ],
          [
           [],
           [],
           []
          ],
          [
           [],
           [],
           []
          ],
          [
           [],
           [],
           []
          ],
          [
           [],
           [],
           []
          ],
          [
           [],
           [],
           []
          ],
          [
           [],
           [],
           []
          ],
          [
           [],
           [],
           []
          ],
          [
           [],
           [],
           []
          ],
          [
           [],
           [],
           []
          ],
          [
           [],
           [],
           []
          ],
          [
           [],
           [],
           []
          ],
          [
           [],
           [],
           []
          ],
          [
           [],
           [],
           []
          ],
          [
           [],
           [],
           []
          ],
          [
           [],
           [],
           []
          ],
          [
           [],
           [],
           []
          ],
          [
           [],
           [],
           []
          ],
          [
           [],
           [],
           []
          ],
          [
           [],
           [],
           []
          ],
          [
           [],
           [],
           []
          ],
          [
           [],
           [],
           []
          ],
          [
           [],
           [],
           []
          ],
          [
           [],
           [],
           []
          ],
          [
           [],
           [],
           []
          ],
          [
           [],
           [],
           []
          ],
          [
           [],
           [],
           []
          ],
          [
           [
            "clique_266_MEME-0_2.5e-010"
           ],
           [
            "VSEFKNNFDGCL"
           ],
           [
            "eid_1067233::cytoadherence_linked_asexual_protein_3.1_[Plasmodium_falciparum_3D7]"
           ]
          ],
          [
           [
            "clique_235_MEME-0_6.2e-013"
           ],
           [
            "SKSQPQHPK"
           ],
           [
            "eid_1066612::merozoite_surface_protein_10_[Plasmodium_falciparum_3D7]"
           ]
          ],
          [
           [
            "clique_232_MEME-0_4.5e-007"
           ],
           [
            "GGCGDKKIC"
           ],
           [
            "eid_1068670::merozoite_surface_protein_4_[Plasmodium_falciparum_3D7]"
           ]
          ],
          [
           [
            "clique_249_MEME-0_4.4e-013"
           ],
           [
            "SDKINDYDN"
           ],
           [
            "eid_181598::PfEMP1"
           ]
          ],
          [
           [
            "clique_215_MEME-0_1.1e-009"
           ],
           [
            "TPPAPQGESGLK"
           ],
           [
            "eid_1066955::MSP7-like_protein_[Plasmodium_falciparum_3D7]"
           ]
          ],
          [
           [
            "clique_264_MEME-0_1.5e-012"
           ],
           [
            "KKSNTKYNI"
           ],
           [
            "eid_913343::petidase"
           ]
          ],
          [
           [
            "clique_261_MEME-0_1.5e-009"
           ],
           [
            "GTGQHGHMHGSR"
           ],
           [
            "eid_142387::merozoite_surface_protein_2"
           ]
          ],
          [
           [
            "clique_0_MEME-0_1.4e-6639",
            "clique_0_MEME-2_5.5e-302"
           ],
           [
            "VIPEELVEEVIP",
            "EVVEEVVPE"
           ],
           [
            "eid_11776::11-1_polypeptide"
           ]
          ],
          [
           [
            "clique_187_MEME-0_7.2e-011"
           ],
           [
            "GEHLYDIDG"
           ],
           [
            "eid_181804::erythrocyte_membrane_protein_1"
           ]
          ],
          [
           [
            "clique_86_MEME-0_2.5e-085"
           ],
           [
            "KEINKTDSE"
           ],
           [
            "eid_43692::hypothetical_protein_PF07_0086"
           ]
          ],
          [
           [
            "clique_82_MEME-1_1.2e-009"
           ],
           [
            "YKFLSMKH"
           ],
           [
            "eid_1067951::merozoite_surface_protein_10_[Plasmodium_falciparum_3D7]"
           ]
          ],
          [
           [
            "clique_77_MEME-0_4.3e-146"
           ],
           [
            "RRAKEKLQEQQS"
           ],
           [
            "eid_914045::liver_stage_antigen_1_[Plasmodium_falciparum_3D7]"
           ]
          ],
          [
           [
            "clique_74_MEME-1_1.3e-014"
           ],
           [
            "EDSAQDTZNSLD"
           ],
           [
            "eid_1067155::erythrocyte_binding_antigen-181_[Plasmodium_falciparum_3D7]"
           ]
          ],
          [
           [
            "clique_70_MEME-0_4.7e-106"
           ],
           [
            "DEGKTTDEGKTT"
           ],
           [
            "eid_1068178::mature_parasite-infected_erythrocyte_surface_antigen_[Plasmodium_falciparum_3D7]"
           ]
          ],
          [
           [
            "clique_193_MEME-0_6.0e-006"
           ],
           [
            "TYDEKVKKN"
           ],
           [
            "eid_59591::Liver_stage_antigen"
           ]
          ],
          [
           [
            "clique_64_MEME-0_2.9e-036",
            "clique_64_MEME-1_8.3e-021"
           ],
           [
            "YKLGNNKKSYLI",
            "NDVHKKKADDGN"
           ],
           [
            "eid_1068632::merozoite_surface_protein_10_[Plasmodium_falciparum_3D7]"
           ]
          ],
          [
           [
            "clique_62_MEME-0_9.4e-186"
           ],
           [
            "ETGESKETGESK"
           ],
           [
            "eid_1067392::mature_parasite-infected_erythrocyte_surface_antigen_[Plasmodium_falciparum_3D7]"
           ]
          ],
          [
           [
            "clique_59_MEME-0_1.1e-059"
           ],
           [
            "NEVKSEVKNEVK"
           ],
           [
            "eid_188093::CelTOS"
           ]
          ],
          [
           [
            "clique_58_MEME-0_2.1e-136"
           ],
           [
            "VNNNBNMDNIYN"
           ],
           [
            "eid_1068012::duffy_binding-like_merozoite_surface_protein_[Plasmodium_falciparum_3D7]"
           ]
          ],
          [
           [
            "clique_55_MEME-0_9.9e-161"
           ],
           [
            "ATKEASTSK"
           ],
           [
            "eid_58833::Knob-associated_histidine-rich_protein_precursor"
           ]
          ],
          [
           [
            "clique_48_MEME-0_7.7e-111"
           ],
           [
            "YYDTNDDDV"
           ],
           [
            "eid_1067887::acidic_basic_repeat_antigen_[Plasmodium_falciparum_3D7]"
           ]
          ],
          [
           [
            "clique_47_MEME-0_9.7e-301"
           ],
           [
            "SDGDKGP"
           ],
           [
            "eid_1067578::endoplasmin"
           ]
          ],
          [
           [
            "clique_46_MEME-0_1.2e-075",
            "clique_46_MEME-1_1.0e-011"
           ],
           [
            "KEKEEVKEKEEV",
            "NKDKVIEQE"
           ],
           [
            "eid_1066787::mature_parasite-infected_erythrocyte_surface_antigen_[Plasmodium_falciparum_3D7]"
           ]
          ],
          [
           [
            "clique_36_MEME-1_2.6e-011"
           ],
           [
            "LRDNYASEQEYF"
           ],
           [
            "eid_1068141::antigen_332"
           ]
          ],
          [
           [
            "clique_32_MEME-0_6.9e-225"
           ],
           [
            "GSVTEEIVE"
           ],
           [
            "eid_70537::antigen_332"
           ]
          ],
          [
           [
            "clique_26_MEME-0_5.0e-147"
           ],
           [
            "EKNEKNEKSIPN"
           ],
           [
            "eid_913475::probable_protein"
           ]
          ],
          [
           [
            "clique_22_MEME-0_7.8e-420"
           ],
           [
            "NTDTISTDN"
           ],
           [
            "eid_913827::sporozoite_threonine_and_asparagine-rich_protein_[Plasmodium_falciparum_3D7]"
           ]
          ],
          [
           [
            "clique_19_MEME-3_3.9e-013"
           ],
           [
            "HDHDDFCDC"
           ],
           [
            "eid_1066667::erythrocyte_binding_antigen-140_[Plasmodium_falciparum_3D7]"
           ]
          ],
          [
           [
            "clique_8_MEME-3_3.0e-028"
           ],
           [
            "SSTCECTDINNA"
           ],
           [
            "eid_58239::Merozoite_surface_protein_1_precursor"
           ]
          ],
          [
           [
            "clique_7_MEME-0_1.0e-957"
           ],
           [
            "QQSDLEQERLAK"
           ],
           [
            "eid_913175::liver_stage_antigen_1_[Plasmodium_falciparum_3D7]"
           ]
          ],
          [
           [
            "clique_6_MEME-0_2.2e-752"
           ],
           [
            "KDKCMKEIQQKF"
           ],
           [
            "eid_914089::apical_membrane_antigen-1"
           ]
          ],
          [
           [
            "clique_89_MEME-0_2.9e-025"
           ],
           [
            "FFTNKKKKDMNK"
           ],
           [
            "eid_28742::glutamate-rich_protein"
           ]
          ],
          [
           [
            "clique_137_MEME-0_8.2e-015"
           ],
           [
            "GSFDTIFDGFVN"
           ],
           [
            "eid_1067481::merozoite_surface_protein_[Plasmodium_falciparum_3D7]"
           ]
          ],
          [
           [
            "clique_93_MEME-0_3.3e-035"
           ],
           [
            "TNPCQLEYQWHT"
           ],
           [
            "eid_236266::erythrocyte_membrane_protein_1"
           ]
          ],
          [
           [
            "clique_160_MEME-0_3.2e-006"
           ],
           [
            "AATCGPNDGDCF"
           ],
           [
            "eid_16942::sporozoite_surface_protein_2"
           ]
          ],
          [
           [
            "clique_163_MEME-0_1.9e-063"
           ],
           [
            "YGPNGTYGPNGT"
           ],
           [
            "eid_58266::major_surface_antigen_p190"
           ]
          ],
          [
           [
            "clique_150_MEME-0_8.2e-015"
           ],
           [
            "SNDKQSNDI"
           ],
           [
            "eid_1066904::merozoite_surface_protein_5_[Plasmodium_falciparum_3D7]"
           ]
          ],
          [
           [
            "clique_90_MEME-0_5.4e-042"
           ],
           [
            "EPFPNQKHKDLD"
           ],
           [
            "eid_914157::glutamate-rich_protein_[Plasmodium_falciparum_3D7]"
           ]
          ],
          [
           [
            "clique_165_MEME-0_8.4e-014"
           ],
           [
            "HDDEEIYLNKIE"
           ],
           [
            "eid_49314::Circumsporozoite"
           ]
          ],
          [
           [
            "clique_171_MEME-0_1.8e-023"
           ],
           [
            "YRSKYCQPCPDC"
           ],
           [
            "eid_236277::erythrocyte_membrane_protein_1"
           ]
          ],
          [
           [
            "clique_136_MEME-0_4.0e-008"
           ],
           [
            "NYIEPSYKIYTS"
           ],
           [
            "eid_45345::Merozoite_surface_protein_1_precursor"
           ]
          ],
          [
           [
            "clique_135_MEME-0_3.5e-012"
           ],
           [
            "REYQLDNEGPDT"
           ],
           [
            "eid_1067713::MSP7-like_protein_[Plasmodium_falciparum_3D7]"
           ]
          ],
          [
           [
            "clique_134_MEME-0_2.0e-010"
           ],
           [
            "KDKVLGEGDKED"
           ],
           [
            "eid_1067479::mature_parasite-infected_erythrocyte_surface_antigen_[Plasmodium_falciparum_3D7]"
           ]
          ],
          [
           [
            "clique_110_MEME-0_3.8e-035"
           ],
           [
            "PPTQDAETKSPT"
           ],
           [
            "eid_1068306::merozoite_surface_protein_2_[Plasmodium_falciparum_3D7]"
           ]
          ],
          [
           [
            "clique_94_MEME-0_3.4e-035"
           ],
           [
            "NIKGEDNIKNKG"
           ],
           [
            "eid_1068647::cytoadherence_linked_asexual_protein_9_[Plasmodium_falciparum_3D7]"
           ]
          ],
          [
           [
            "clique_176_MEME-0_6.6e-014"
           ],
           [
            "GTAESKDSTGAS"
           ],
           [
            "eid_872058::Merozoite_surface_antigen_2_precursor"
           ]
          ],
          [
           [
            "clique_117_MEME-0_2.0e-037"
           ],
           [
            "SPRIFJSDBKDE"
           ],
           [
            "eid_230393::apical_membrane_antigen-1"
           ]
          ],
          [
           [
            "clique_115_MEME-1_3.8e-006"
           ],
           [
            "AGPQDPADDVTP"
           ],
           [
            "eid_913259::exported_protein_1_[Plasmodium_falciparum_3D7]"
           ]
          ],
          [
           [
            "clique_114_MEME-0_5.2e-047"
           ],
           [
            "CKCRPNYDCBIS"
           ],
           [
            "eid_1067389::merozoite_surface_protein_10_[Plasmodium_falciparum_3D7]"
           ]
          ],
          [
           [
            "clique_106_MEME-0_2.3e-015"
           ],
           [
            "QKQKQEE"
           ],
           [
            "eid_1068069::erythrocyte_binding_antigen-181_[Plasmodium_falciparum_3D7]"
           ]
          ],
          [
           [
            "clique_103_MEME-0_4.8e-175"
           ],
           [
            "MNGENIMNGDNK"
           ],
           [
            "eid_1067857::cytoadherence_linked_asexual_protein_3.1_[Plasmodium_falciparum_3D7]"
           ]
          ],
          [
           [
            "clique_97_MEME-0_1.8e-038"
           ],
           [
            "DNIEVNNTL"
           ],
           [
            "eid_913807::protein_kinase"
           ]
          ],
          [
           [
            "clique_96_MEME-0_6.6e-025"
           ],
           [
            "NDTTHNSYTNKK"
           ],
           [
            "eid_141616::erythrocyte_membrane_protein_1"
           ]
          ],
          [
           [
            "clique_12_MEME-0_3.4e-203",
            "clique_12_MEME-1_7.4e-070"
           ],
           [
            "NNEYYKEFYKKL",
            "DYKTVDKFLNLL"
           ],
           [
            "eid_71354::major_merozoite_surface_antigen",
            "eid_1066699::glutamate-rich_protein_[Plasmodium_falciparum_3D7]"
           ]
          ],
          [
           [
            "clique_2_MEME-1_4.1e-546",
            "clique_2_MEME-5_4.6e-017"
           ],
           [
            "YKZLKEVVEENG",
            "YEQLKDVVEKNG"
           ],
           [
            "eid_501542::liver_stage-specific_antigen_1",
            "eid_11799::Liver_stage_antigen"
           ]
          ],
          [
           [
            "clique_15_MEME-0_1.2e-209",
            "clique_15_MEME-1_1.7e-045"
           ],
           [
            "NDTEVKDKVKKQ",
            "VEEGIKE"
           ],
           [
            "eid_1067371::mature_parasite-infected_erythrocyte_surface_antigen_[Plasmodium_falciparum_3D7]",
            "eid_1068514::mature_parasite-infected_erythrocyte_surface_antigen_[Plasmodium_falciparum_3D7]"
           ]
          ],
          [
           [
            "clique_17_MEME-0_6.0e-280",
            "clique_17_MEME-1_2.2e-083"
           ],
           [
            "RPQFLRWFTEWG",
            "DEFCRERKKKE"
           ],
           [
            "eid_1067630::erythrocyte_binding_antigen-140_[Plasmodium_falciparum_3D7]",
            "eid_181547::PfEMP1"
           ]
          ],
          [
           [
            "clique_25_MEME-0_5.2e-241",
            "clique_25_MEME-1_2.2e-056"
           ],
           [
            "FSDGSAFGGGLP",
            "GLSVTNS"
           ],
           [
            "eid_466413::erythrocyte_membrane_protein",
            "eid_1068688::duffy_binding-like_merozoite_surface_protein_[Plasmodium_falciparum_3D7]"
           ]
          ],
          [
           [
            "clique_49_MEME-0_1.2e-048",
            "clique_49_MEME-2_5.6e-007"
           ],
           [
            "INNMYVKEFYEK",
            "CWDKCDPFEQW"
           ],
           [
            "eid_179993::merozoite_surface_protein_8",
            "eid_1067841::erythrocyte_binding_antigen-175_[Plasmodium_falciparum_3D7]"
           ]
          ],
          [
           [
            "clique_57_MEME-0_1.9e-064",
            "clique_57_MEME-1_3.3e-023"
           ],
           [
            "EFYKKLKEKTYN",
            "NSINNIYY"
           ],
           [
            "eid_1066998::cytoadherence_linked_asexual_protein_3.2_[Plasmodium_falciparum_3D7]",
            "eid_1068183::cytoadherence_linked_asexual_protein_8_[Plasmodium_falciparum_3D7]"
           ]
          ],
          [
           [
            "clique_112_MEME-0_7.6e-011",
            "clique_112_MEME-1_4.1e-008"
           ],
           [
            "FIQEDQEGQTHS",
            "NVPSGLDIDDIP"
           ],
           [
            "eid_1066701::glutamate-rich_protein_[Plasmodium_falciparum_3D7]",
            "eid_1068139::glutamate-rich_protein_[Plasmodium_falciparum_3D7]"
           ]
          ],
          [
           [
            "clique_69_MEME-0_2.0e-069",
            "clique_69_MEME-2_2.4e-010"
           ],
           [
            "PQYLRWFEEWAE",
            "VPTYFDY"
           ],
           [
            "eid_70460::erythrocyte_membrane_protein_1_var_IT-ICAM",
            "eid_236163::EMP1"
           ]
          ],
          [
           [
            "clique_11_MEME-0_1.5e-339",
            "clique_11_MEME-1_2.1e-089",
            "clique_11_MEME-3_1.1e-013"
           ],
           [
            "QHEIVEVEEILP",
            "EDKNEKV",
            "HTEQLDLDHKTV"
           ],
           [
            "eid_469456::glutamate-rich_protein",
            "eid_913436::glutamate-rich_protein_[Plasmodium_falciparum_3D7]",
            "eid_1067856::glutamate-rich_protein_[Plasmodium_falciparum_3D7]"
           ]
          ],
          [
           [
            "clique_18_MEME-0_8.1e-803",
            "clique_18_MEME-1_1.2e-044",
            "clique_18_MEME-2_1.4e-022",
            "clique_18_MEME-3_3.0e-014"
           ],
           [
            "PNANPNANPNAN",
            "PNANPNA",
            "RKPKHKKLKQPG",
            "QGNGQGHNM"
           ],
           [
            "eid_756411::Circumsporozoite_protein_precursor",
            "eid_68038::Circumsporozoite_protein_precursor",
            "eid_45110::Circumsporozoite_protein_precursor",
            "eid_118868::Circumsporozoite_protein_precursor"
           ]
          ],
          [
           [
            "clique_20_MEME-0_3.6e-104",
            "clique_20_MEME-1_4.2e-063",
            "clique_20_MEME-2_3.1e-017",
            "clique_20_MEME-3_1.4e-013",
            "clique_20_MEME-4_3.3e-007"
           ],
           [
            "EEEDEEDIEEEN",
            "QQSEKKSISKVD",
            "EKELSNQ",
            "ETNDTEDTD",
            "DIIKHNEDVR"
           ],
           [
            "eid_1067086::mature_parasite-infected_erythrocyte_surface_antigen_[Plasmodium_falciparum_3D7]",
            "eid_1068135::duffy_binding-like_merozoite_surface_protein_[Plasmodium_falciparum_3D7]",
            "eid_1067872::duffy_binding-like_merozoite_surface_protein_[Plasmodium_falciparum_3D7]",
            "eid_1068370::duffy_binding-like_merozoite_surface_protein_[Plasmodium_falciparum_3D7]"
           ]
          ],
          [
           [
            "clique_1_MEME-0_3.3e-1426",
            "clique_1_MEME-3_3.5e-125",
            "clique_1_MEME-5_1.1e-022",
            "clique_1_MEME-8_2.6e-008"
           ],
           [
            "GYSGIDJIBDVL",
            "VAKLTNSDP",
            "RKENELF",
            "WLDRHRD"
           ],
           [
            "eid_913933::RAP_protein",
            "eid_73821::Glycophorin-binding_protein",
            "eid_73540::PfEMP1_variant_1_of_strain_MC",
            "eid_913519::erythrocyte_membrane_protein_1_(PfEMP1)"
           ]
          ],
          [
           [
            "clique_16_MEME-0_2.1e-305",
            "clique_16_MEME-1_2.2e-052",
            "clique_16_MEME-2_8.5e-013",
            "clique_16_MEME-4_1.7e-007"
           ],
           [
            "EGGACANSKIKG",
            "MCDLNLEHJ",
            "DVHNTQNTHDLL",
            "AFHSNTPGNQR"
           ],
           [
            "eid_1067148::antigen_332",
            "eid_181762::PfEMP1",
            "eid_181618::erythrocyte_membrane_protein_1",
            "eid_1067253::high_molecular_weight_rhoptry_protein_3_[Plasmodium_falciparum_3D7]"
           ]
          ]
         ],
         "hovertemplate": "<b>%{hovertext}</b><br><br>leaning=T<br>agg_x=%{x}<br>agg_y=%{y}<br>membership=%{marker.size}<br>qseqid=%{customdata[0]}<br>sequences=%{customdata[1]}<br>sseqid=%{customdata[2]}<br>num_known=%{marker.color}<extra></extra>",
         "hovertext": [
          122,
          123,
          124,
          213,
          129,
          130,
          212,
          132,
          133,
          211,
          210,
          209,
          208,
          139,
          207,
          214,
          118,
          192,
          222,
          98,
          99,
          102,
          105,
          108,
          109,
          219,
          111,
          113,
          217,
          216,
          116,
          95,
          172,
          174,
          175,
          178,
          179,
          180,
          183,
          184,
          185,
          186,
          195,
          188,
          189,
          170,
          168,
          145,
          204,
          154,
          143,
          156,
          159,
          161,
          162,
          200,
          164,
          199,
          166,
          167,
          224,
          223,
          92,
          28,
          251,
          30,
          33,
          35,
          247,
          252,
          38,
          246,
          42,
          43,
          225,
          39,
          253,
          254,
          24,
          272,
          271,
          270,
          5,
          267,
          262,
          14,
          260,
          259,
          258,
          257,
          256,
          23,
          241,
          50,
          45,
          52,
          71,
          51,
          73,
          75,
          76,
          231,
          78,
          79,
          80,
          83,
          85,
          229,
          228,
          91,
          72,
          194,
          237,
          60,
          68,
          63,
          56,
          239,
          240,
          54,
          66,
          67,
          53,
          65,
          266,
          235,
          232,
          249,
          215,
          264,
          261,
          0,
          187,
          86,
          82,
          77,
          74,
          70,
          193,
          64,
          62,
          59,
          58,
          55,
          48,
          47,
          46,
          36,
          32,
          26,
          22,
          19,
          8,
          7,
          6,
          89,
          137,
          93,
          160,
          163,
          150,
          90,
          165,
          171,
          136,
          135,
          134,
          110,
          94,
          176,
          117,
          115,
          114,
          106,
          103,
          97,
          96,
          12,
          2,
          15,
          17,
          25,
          49,
          57,
          112,
          69,
          11,
          18,
          20,
          1,
          16
         ],
         "legendgroup": "",
         "marker": {
          "color": [
           0,
           0,
           0,
           0,
           0,
           0,
           0,
           0,
           0,
           0,
           0,
           0,
           0,
           0,
           0,
           0,
           0,
           0,
           0,
           0,
           0,
           0,
           0,
           0,
           0,
           0,
           0,
           0,
           0,
           0,
           0,
           0,
           0,
           0,
           0,
           0,
           0,
           0,
           0,
           0,
           0,
           0,
           0,
           0,
           0,
           0,
           0,
           0,
           0,
           0,
           0,
           0,
           0,
           0,
           0,
           0,
           0,
           0,
           0,
           0,
           0,
           0,
           0,
           0,
           0,
           0,
           0,
           0,
           0,
           0,
           0,
           0,
           0,
           0,
           0,
           0,
           0,
           0,
           0,
           0,
           0,
           0,
           0,
           0,
           0,
           0,
           0,
           0,
           0,
           0,
           0,
           0,
           0,
           0,
           0,
           0,
           0,
           0,
           0,
           0,
           0,
           0,
           0,
           0,
           0,
           0,
           0,
           0,
           0,
           0,
           0,
           0,
           0,
           0,
           0,
           0,
           0,
           0,
           0,
           0,
           0,
           0,
           0,
           0,
           1,
           1,
           1,
           1,
           1,
           1,
           1,
           1,
           1,
           1,
           1,
           1,
           1,
           1,
           1,
           1,
           1,
           1,
           1,
           1,
           1,
           1,
           1,
           1,
           1,
           1,
           1,
           1,
           1,
           1,
           1,
           1,
           1,
           1,
           1,
           1,
           1,
           1,
           1,
           1,
           1,
           1,
           1,
           1,
           1,
           1,
           1,
           1,
           1,
           1,
           1,
           1,
           1,
           2,
           2,
           2,
           2,
           2,
           2,
           2,
           2,
           2,
           3,
           4,
           4,
           4,
           4
          ],
          "coloraxis": "coloraxis",
          "size": [
           4,
           4,
           4,
           2,
           4,
           4,
           2,
           4,
           3,
           2,
           2,
           2,
           2,
           3,
           2,
           2,
           4,
           2,
           2,
           5,
           5,
           5,
           4,
           4,
           4,
           2,
           4,
           4,
           2,
           2,
           4,
           5,
           3,
           3,
           3,
           3,
           3,
           3,
           2,
           2,
           2,
           2,
           2,
           2,
           2,
           3,
           3,
           3,
           2,
           3,
           3,
           3,
           3,
           3,
           3,
           2,
           3,
           2,
           3,
           3,
           2,
           2,
           5,
           16,
           2,
           15,
           12,
           12,
           2,
           2,
           12,
           2,
           11,
           11,
           2,
           11,
           2,
           2,
           17,
           2,
           2,
           2,
           43,
           2,
           2,
           24,
           2,
           2,
           2,
           2,
           2,
           17,
           2,
           9,
           11,
           9,
           7,
           9,
           7,
           7,
           7,
           2,
           6,
           6,
           6,
           6,
           6,
           2,
           2,
           5,
           7,
           2,
           2,
           8,
           7,
           8,
           8,
           2,
           2,
           9,
           7,
           7,
           9,
           7,
           2,
           2,
           2,
           2,
           2,
           2,
           2,
           442,
           2,
           5,
           6,
           6,
           7,
           7,
           2,
           8,
           8,
           8,
           8,
           8,
           10,
           10,
           10,
           12,
           13,
           16,
           17,
           21,
           35,
           37,
           40,
           5,
           3,
           5,
           3,
           3,
           3,
           5,
           3,
           3,
           3,
           3,
           3,
           4,
           5,
           3,
           4,
           4,
           4,
           4,
           5,
           5,
           5,
           26,
           83,
           24,
           22,
           16,
           10,
           8,
           4,
           7,
           27,
           22,
           20,
           120,
           23
          ],
          "sizemode": "area",
          "sizeref": 0.1768,
          "symbol": "circle"
         },
         "mode": "markers",
         "name": "",
         "orientation": "v",
         "showlegend": false,
         "type": "scatter",
         "x": [
          0.8100695908069611,
          -0.7325291484594345,
          0.24476170912384987,
          -0.7456682026386261,
          0.2402430884540081,
          0.03199549112468958,
          -0.2950160950422287,
          -0.416610985994339,
          -0.828447957833608,
          0.36117076873779297,
          0.7616588473320007,
          -0.2105705887079239,
          0.9307701289653778,
          0.6318347056706747,
          -0.8717817962169647,
          -0.28142350912094116,
          0.4639918580651283,
          0.4699707627296448,
          0.5373697876930237,
          -0.06010209769010544,
          0.5316519260406494,
          0.5765735626220703,
          -0.16452741250395775,
          -0.7285996824502945,
          0.46708931773900986,
          -0.6150411367416382,
          -0.7974357455968857,
          0.9116086363792419,
          0.2615208476781845,
          0.4159700572490692,
          0.5859400033950806,
          0.07623241692781449,
          -0.2423804054657618,
          0.2269207884867986,
          -0.8299218813578287,
          -0.6391573349634806,
          -0.461915264527003,
          0.2970402141412099,
          0.2691158503293991,
          0.9098321199417114,
          0.8894278705120087,
          -0.16932766884565353,
          -0.5620416700839996,
          -0.5515527725219727,
          0.4676477313041687,
          -0.694759468237559,
          0.2621610263983409,
          0.2968331774075826,
          0.7559301555156708,
          0.7487306793530782,
          -0.4577912191549937,
          0.5398016571998596,
          0.4888985753059387,
          0.8708277146021525,
          0.7658725380897522,
          0.6188056766986847,
          -0.7336740096410116,
          0.7447687983512878,
          0.8088749249776205,
          -0.48909587661425274,
          -0.7586423754692078,
          0.18046917766332626,
          -0.5883750677108764,
          0.43111768178641796,
          -0.645988792181015,
          -0.5750285863876343,
          0.5982988526423773,
          0.23255180194973946,
          0.37074439227581024,
          0.7702845335006714,
          -0.3061412001649539,
          -0.6200238764286041,
          -0.17783210223371332,
          0.7351628704504534,
          -0.8404061794281006,
          0.6550398956645619,
          -0.7192818820476532,
          0.9096475839614868,
          -0.2187926436171812,
          0.8173423707485199,
          -0.8715997934341431,
          -0.8048095405101776,
          0.18120609119881032,
          0.891304224729538,
          -0.8016707301139832,
          0.24205784065028033,
          -0.16603629291057587,
          0.012270500883460045,
          0.2767431288957596,
          -0.8458283543586731,
          0.09663471207022667,
          -0.4042127465500551,
          0.7373769283294678,
          -0.7846255699793497,
          -0.4001708057793704,
          -0.5715758403142294,
          0.3903074051652636,
          0.06136169077621566,
          -0.19233202508517674,
          0.5918283717972892,
          -0.642238165651049,
          -0.8581258654594421,
          -0.47708582878112793,
          -0.6432021458943685,
          0.7378510137399038,
          -0.66072545448939,
          -0.7831896245479584,
          0.5903081893920898,
          0.8315620124340057,
          0.8547165274620057,
          -0.25246567385537283,
          -0.7585101127624512,
          0.4386874586343765,
          0.1448536217212677,
          -0.6107211198125567,
          0.48030397668480873,
          -0.6796426102519035,
          -0.08361808210611343,
          -0.6688982546329498,
          0.6639356215794882,
          0.14884075735296523,
          -0.68770113161632,
          -0.5033220019605424,
          -0.7609620945794242,
          0.8088138401508331,
          0.7811398804187775,
          0.6876272559165955,
          0.6508760750293732,
          -0.11182162910699844,
          -0.37875300645828247,
          0.8651771247386932,
          -0.02615169909829063,
          -0.3756464719772339,
          0.8048494100570679,
          -0.8144155840078989,
          0.7159413993358612,
          -0.6887073857443673,
          -0.7454547541482108,
          0.3804747611284256,
          0.007822185521945357,
          0.6567748636007309,
          -0.28789228573441505,
          0.3663102760910988,
          0.7045884728431702,
          0.49084936678409574,
          0.40621852278709414,
          -0.03305115923285484,
          -0.5991819600264231,
          0.5667216640252334,
          0.09840467059984803,
          -0.03609885932768092,
          -0.23342823485533395,
          0.2692410818168095,
          0.11591760069131851,
          -0.08154275566339493,
          0.6871515870094299,
          0.5612712899843851,
          -0.07728644162416458,
          -0.9616106748580933,
          -0.56719042857488,
          -0.24448485672473907,
          -0.43243529200553893,
          -0.7636982798576355,
          0.7720518906911215,
          -0.047890586157639824,
          0.04479858403404554,
          0.6265184084574381,
          -0.4976905807852745,
          -0.4101529777050018,
          0.32461197177569073,
          0.7718800604343414,
          -0.6028413772583008,
          0.5436108559370041,
          -0.8008471131324768,
          0.6415163516998291,
          0.36697001457214357,
          -0.6409656763076782,
          -0.25988167180464816,
          0.08025895059108734,
          0.35105259095629054,
          -0.3343664082613858,
          -0.4259010087698698,
          -0.556621640920639,
          0.5065722018480301,
          0.25955963134765625,
          -0.1252342632838658,
          0.18190574921943523,
          0.25066814910281787,
          -0.0884264275431633,
          -0.13976194635033606,
          -0.3181372064611186
         ],
         "xaxis": "x",
         "y": [
          0.1597374752163887,
          -0.2607179135084152,
          0.712304413318634,
          -0.5283397734165192,
          -0.8130281269550323,
          -0.7945081889629364,
          -0.7449380159378052,
          0.8310341089963913,
          -0.12845377624034882,
          -0.9506981372833252,
          0.3641768544912338,
          -0.8838756382465363,
          0.007607927080243826,
          0.5708160400390625,
          0.1737351194024086,
          -0.8244857788085938,
          -0.6307114213705063,
          -0.7157186269760132,
          -0.6637206971645355,
          0.7962396383285523,
          -0.5190059304237366,
          0.5131572246551513,
          0.7492632418870926,
          -0.45338519662618637,
          0.628034234046936,
          -0.6763759851455688,
          0.36710909754037857,
          0.12957921996712685,
          0.9599418342113495,
          -0.8263508379459381,
          0.4645475670695305,
          -0.7093389153480529,
          -0.8415272037188212,
          0.749064028263092,
          0.3239057660102844,
          0.675926943620046,
          0.7231362263361613,
          -0.7309739391009012,
          0.8299373984336853,
          0.0709880143404007,
          0.247247576713562,
          0.8142891228199005,
          0.568591833114624,
          -0.5466216802597046,
          0.7603584229946136,
          0.5108335812886556,
          0.6742053429285685,
          -0.6870562632878622,
          0.23794417083263397,
          -0.5114221572875977,
          0.7732784152030945,
          0.4614133636156718,
          -0.5477128426233927,
          0.05441923439502716,
          0.09384045004844666,
          0.6635446846485138,
          0.2768979072570801,
          0.44497257471084595,
          0.3727760811646779,
          0.8632955352465311,
          0.08895860984921455,
          -0.9636448919773102,
          0.5251018404960632,
          -0.31384641490876675,
          0.7352049946784973,
          0.20982277592023213,
          0.2632452150185903,
          0.5856858293215433,
          0.7275796830654144,
          0.31589581072330475,
          -0.6457125842571259,
          0.6506184637546539,
          0.6771037524396722,
          -0.0450568598779765,
          -0.554069310426712,
          0.16908384453166614,
          -0.3436197340488434,
          0.4553980976343155,
          -0.447954386472702,
          -0.3128082901239395,
          0.02485204767435789,
          0.1993967667222023,
          -0.10080226458782374,
          0.2798299491405487,
          0.10917572677135468,
          -0.3554792255163193,
          -0.6415109932422638,
          0.875875860452652,
          -0.8448572754859924,
          -0.3316829204559326,
          -0.7556141018867493,
          0.37669433390392976,
          -0.09060515835881233,
          0.056332589437564216,
          -0.6297660740939054,
          0.4586481485101912,
          0.5917820164135524,
          0.7071573932965597,
          -0.7133204085486275,
          0.3969440077032362,
          0.4111344516277313,
          0.5732195973396301,
          0.565141628185908,
          -0.4351461281379064,
          -0.14662755032380423,
          0.46938001612822217,
          0.14872982849677405,
          -0.6116076111793518,
          0.2591441720724106,
          -0.16498131155967713,
          0.7681993927274432,
          -0.32574737071990967,
          0.8609072864055634,
          0.7025825828313828,
          -0.4153147212096623,
          0.531848780810833,
          -0.3460739925503731,
          0.8988127112388611,
          -0.6707325875759125,
          -0.3514747851424747,
          -0.7700178878647941,
          0.2937735063689096,
          -0.594460474120246,
          -0.1793108390910285,
          0.03163507115095854,
          -0.3650553226470947,
          0.32503172755241394,
          0.5238805413246155,
          0.6696903109550476,
          -0.7112112939357758,
          0.08457915112376213,
          0.024530763413369384,
          0.6081429719924927,
          0.10372414588928222,
          -0.17295454442501068,
          -0.33973827958106995,
          0.03130759724548885,
          0.1851942539215088,
          0.8160973191261292,
          -0.7210352346301079,
          -0.46045122668147087,
          0.6705010160803795,
          0.6678571477532387,
          -0.1994694136083126,
          0.09913995116949081,
          -0.6081770062446594,
          0.7573771834373474,
          -0.10284117298821609,
          -0.2762374236033513,
          -0.589042242616415,
          0.3896605512675117,
          -0.34472667887097314,
          -0.04243125521710941,
          -0.2328540582109142,
          0.2968160308897495,
          0.2723546802997589,
          0.5546871423721313,
          0.8654568076133728,
          0.1573909471432368,
          0.7064804037412008,
          0.9192782839139303,
          0.6857637286186218,
          0.31534279386202496,
          -0.19899280865987143,
          -0.7477441628774008,
          0.8597670197486877,
          0.40958784023920697,
          0.5874452143907547,
          0.6070397973060608,
          0.7463692426681519,
          0.2015015296638012,
          -0.7516595125198364,
          0.673716813325882,
          0.0065271588973701,
          0.4416560232639313,
          -0.7200682640075684,
          0.5865991711616516,
          -0.19101863984878248,
          0.11961116085210478,
          -0.2022253517061472,
          0.10529527135870674,
          -0.3898122198879719,
          -0.3887316703796387,
          0.5672794207930565,
          -0.7590684592723846,
          -0.7227800233023507,
          0.2525546048526411,
          -0.1914347227324139,
          -0.4147268280386925,
          0.024524692337339123,
          -0.1644568734842798
         ],
         "yaxis": "y"
        }
       ],
       "layout": {
        "annotations": [
         {
          "font": {},
          "showarrow": false,
          "text": "leaning=T",
          "textangle": 90,
          "x": 0.98,
          "xanchor": "left",
          "xref": "paper",
          "y": 0.2425,
          "yanchor": "middle",
          "yref": "paper"
         },
         {
          "font": {},
          "showarrow": false,
          "text": "leaning=K",
          "textangle": 90,
          "x": 0.98,
          "xanchor": "left",
          "xref": "paper",
          "y": 0.7575000000000001,
          "yanchor": "middle",
          "yref": "paper"
         }
        ],
        "coloraxis": {
         "colorbar": {
          "tickvals": [
           0,
           1,
           2,
           3
          ],
          "title": {
           "text": "num_known"
          }
         },
         "colorscale": [
          [
           0,
           "#0d0887"
          ],
          [
           0.1111111111111111,
           "#46039f"
          ],
          [
           0.2222222222222222,
           "#7201a8"
          ],
          [
           0.3333333333333333,
           "#9c179e"
          ],
          [
           0.4444444444444444,
           "#bd3786"
          ],
          [
           0.5555555555555556,
           "#d8576b"
          ],
          [
           0.6666666666666666,
           "#ed7953"
          ],
          [
           0.7777777777777778,
           "#fb9f3a"
          ],
          [
           0.8888888888888888,
           "#fdca26"
          ],
          [
           1,
           "#f0f921"
          ]
         ]
        },
        "height": 1000,
        "legend": {
         "itemsizing": "constant",
         "tracegroupgap": 0
        },
        "margin": {
         "t": 60
        },
        "template": {
         "data": {
          "bar": [
           {
            "error_x": {
             "color": "#2a3f5f"
            },
            "error_y": {
             "color": "#2a3f5f"
            },
            "marker": {
             "line": {
              "color": "white",
              "width": 0.5
             }
            },
            "type": "bar"
           }
          ],
          "barpolar": [
           {
            "marker": {
             "line": {
              "color": "white",
              "width": 0.5
             }
            },
            "type": "barpolar"
           }
          ],
          "carpet": [
           {
            "aaxis": {
             "endlinecolor": "#2a3f5f",
             "gridcolor": "#C8D4E3",
             "linecolor": "#C8D4E3",
             "minorgridcolor": "#C8D4E3",
             "startlinecolor": "#2a3f5f"
            },
            "baxis": {
             "endlinecolor": "#2a3f5f",
             "gridcolor": "#C8D4E3",
             "linecolor": "#C8D4E3",
             "minorgridcolor": "#C8D4E3",
             "startlinecolor": "#2a3f5f"
            },
            "type": "carpet"
           }
          ],
          "choropleth": [
           {
            "colorbar": {
             "outlinewidth": 0,
             "ticks": ""
            },
            "type": "choropleth"
           }
          ],
          "contour": [
           {
            "colorbar": {
             "outlinewidth": 0,
             "ticks": ""
            },
            "colorscale": [
             [
              0,
              "#0d0887"
             ],
             [
              0.1111111111111111,
              "#46039f"
             ],
             [
              0.2222222222222222,
              "#7201a8"
             ],
             [
              0.3333333333333333,
              "#9c179e"
             ],
             [
              0.4444444444444444,
              "#bd3786"
             ],
             [
              0.5555555555555556,
              "#d8576b"
             ],
             [
              0.6666666666666666,
              "#ed7953"
             ],
             [
              0.7777777777777778,
              "#fb9f3a"
             ],
             [
              0.8888888888888888,
              "#fdca26"
             ],
             [
              1,
              "#f0f921"
             ]
            ],
            "type": "contour"
           }
          ],
          "contourcarpet": [
           {
            "colorbar": {
             "outlinewidth": 0,
             "ticks": ""
            },
            "type": "contourcarpet"
           }
          ],
          "heatmap": [
           {
            "colorbar": {
             "outlinewidth": 0,
             "ticks": ""
            },
            "colorscale": [
             [
              0,
              "#0d0887"
             ],
             [
              0.1111111111111111,
              "#46039f"
             ],
             [
              0.2222222222222222,
              "#7201a8"
             ],
             [
              0.3333333333333333,
              "#9c179e"
             ],
             [
              0.4444444444444444,
              "#bd3786"
             ],
             [
              0.5555555555555556,
              "#d8576b"
             ],
             [
              0.6666666666666666,
              "#ed7953"
             ],
             [
              0.7777777777777778,
              "#fb9f3a"
             ],
             [
              0.8888888888888888,
              "#fdca26"
             ],
             [
              1,
              "#f0f921"
             ]
            ],
            "type": "heatmap"
           }
          ],
          "heatmapgl": [
           {
            "colorbar": {
             "outlinewidth": 0,
             "ticks": ""
            },
            "colorscale": [
             [
              0,
              "#0d0887"
             ],
             [
              0.1111111111111111,
              "#46039f"
             ],
             [
              0.2222222222222222,
              "#7201a8"
             ],
             [
              0.3333333333333333,
              "#9c179e"
             ],
             [
              0.4444444444444444,
              "#bd3786"
             ],
             [
              0.5555555555555556,
              "#d8576b"
             ],
             [
              0.6666666666666666,
              "#ed7953"
             ],
             [
              0.7777777777777778,
              "#fb9f3a"
             ],
             [
              0.8888888888888888,
              "#fdca26"
             ],
             [
              1,
              "#f0f921"
             ]
            ],
            "type": "heatmapgl"
           }
          ],
          "histogram": [
           {
            "marker": {
             "colorbar": {
              "outlinewidth": 0,
              "ticks": ""
             }
            },
            "type": "histogram"
           }
          ],
          "histogram2d": [
           {
            "colorbar": {
             "outlinewidth": 0,
             "ticks": ""
            },
            "colorscale": [
             [
              0,
              "#0d0887"
             ],
             [
              0.1111111111111111,
              "#46039f"
             ],
             [
              0.2222222222222222,
              "#7201a8"
             ],
             [
              0.3333333333333333,
              "#9c179e"
             ],
             [
              0.4444444444444444,
              "#bd3786"
             ],
             [
              0.5555555555555556,
              "#d8576b"
             ],
             [
              0.6666666666666666,
              "#ed7953"
             ],
             [
              0.7777777777777778,
              "#fb9f3a"
             ],
             [
              0.8888888888888888,
              "#fdca26"
             ],
             [
              1,
              "#f0f921"
             ]
            ],
            "type": "histogram2d"
           }
          ],
          "histogram2dcontour": [
           {
            "colorbar": {
             "outlinewidth": 0,
             "ticks": ""
            },
            "colorscale": [
             [
              0,
              "#0d0887"
             ],
             [
              0.1111111111111111,
              "#46039f"
             ],
             [
              0.2222222222222222,
              "#7201a8"
             ],
             [
              0.3333333333333333,
              "#9c179e"
             ],
             [
              0.4444444444444444,
              "#bd3786"
             ],
             [
              0.5555555555555556,
              "#d8576b"
             ],
             [
              0.6666666666666666,
              "#ed7953"
             ],
             [
              0.7777777777777778,
              "#fb9f3a"
             ],
             [
              0.8888888888888888,
              "#fdca26"
             ],
             [
              1,
              "#f0f921"
             ]
            ],
            "type": "histogram2dcontour"
           }
          ],
          "mesh3d": [
           {
            "colorbar": {
             "outlinewidth": 0,
             "ticks": ""
            },
            "type": "mesh3d"
           }
          ],
          "parcoords": [
           {
            "line": {
             "colorbar": {
              "outlinewidth": 0,
              "ticks": ""
             }
            },
            "type": "parcoords"
           }
          ],
          "pie": [
           {
            "automargin": true,
            "type": "pie"
           }
          ],
          "scatter": [
           {
            "marker": {
             "colorbar": {
              "outlinewidth": 0,
              "ticks": ""
             }
            },
            "type": "scatter"
           }
          ],
          "scatter3d": [
           {
            "line": {
             "colorbar": {
              "outlinewidth": 0,
              "ticks": ""
             }
            },
            "marker": {
             "colorbar": {
              "outlinewidth": 0,
              "ticks": ""
             }
            },
            "type": "scatter3d"
           }
          ],
          "scattercarpet": [
           {
            "marker": {
             "colorbar": {
              "outlinewidth": 0,
              "ticks": ""
             }
            },
            "type": "scattercarpet"
           }
          ],
          "scattergeo": [
           {
            "marker": {
             "colorbar": {
              "outlinewidth": 0,
              "ticks": ""
             }
            },
            "type": "scattergeo"
           }
          ],
          "scattergl": [
           {
            "marker": {
             "colorbar": {
              "outlinewidth": 0,
              "ticks": ""
             }
            },
            "type": "scattergl"
           }
          ],
          "scattermapbox": [
           {
            "marker": {
             "colorbar": {
              "outlinewidth": 0,
              "ticks": ""
             }
            },
            "type": "scattermapbox"
           }
          ],
          "scatterpolar": [
           {
            "marker": {
             "colorbar": {
              "outlinewidth": 0,
              "ticks": ""
             }
            },
            "type": "scatterpolar"
           }
          ],
          "scatterpolargl": [
           {
            "marker": {
             "colorbar": {
              "outlinewidth": 0,
              "ticks": ""
             }
            },
            "type": "scatterpolargl"
           }
          ],
          "scatterternary": [
           {
            "marker": {
             "colorbar": {
              "outlinewidth": 0,
              "ticks": ""
             }
            },
            "type": "scatterternary"
           }
          ],
          "surface": [
           {
            "colorbar": {
             "outlinewidth": 0,
             "ticks": ""
            },
            "colorscale": [
             [
              0,
              "#0d0887"
             ],
             [
              0.1111111111111111,
              "#46039f"
             ],
             [
              0.2222222222222222,
              "#7201a8"
             ],
             [
              0.3333333333333333,
              "#9c179e"
             ],
             [
              0.4444444444444444,
              "#bd3786"
             ],
             [
              0.5555555555555556,
              "#d8576b"
             ],
             [
              0.6666666666666666,
              "#ed7953"
             ],
             [
              0.7777777777777778,
              "#fb9f3a"
             ],
             [
              0.8888888888888888,
              "#fdca26"
             ],
             [
              1,
              "#f0f921"
             ]
            ],
            "type": "surface"
           }
          ],
          "table": [
           {
            "cells": {
             "fill": {
              "color": "#EBF0F8"
             },
             "line": {
              "color": "white"
             }
            },
            "header": {
             "fill": {
              "color": "#C8D4E3"
             },
             "line": {
              "color": "white"
             }
            },
            "type": "table"
           }
          ]
         },
         "layout": {
          "annotationdefaults": {
           "arrowcolor": "#2a3f5f",
           "arrowhead": 0,
           "arrowwidth": 1
          },
          "coloraxis": {
           "colorbar": {
            "outlinewidth": 0,
            "ticks": ""
           }
          },
          "colorscale": {
           "diverging": [
            [
             0,
             "#8e0152"
            ],
            [
             0.1,
             "#c51b7d"
            ],
            [
             0.2,
             "#de77ae"
            ],
            [
             0.3,
             "#f1b6da"
            ],
            [
             0.4,
             "#fde0ef"
            ],
            [
             0.5,
             "#f7f7f7"
            ],
            [
             0.6,
             "#e6f5d0"
            ],
            [
             0.7,
             "#b8e186"
            ],
            [
             0.8,
             "#7fbc41"
            ],
            [
             0.9,
             "#4d9221"
            ],
            [
             1,
             "#276419"
            ]
           ],
           "sequential": [
            [
             0,
             "#0d0887"
            ],
            [
             0.1111111111111111,
             "#46039f"
            ],
            [
             0.2222222222222222,
             "#7201a8"
            ],
            [
             0.3333333333333333,
             "#9c179e"
            ],
            [
             0.4444444444444444,
             "#bd3786"
            ],
            [
             0.5555555555555556,
             "#d8576b"
            ],
            [
             0.6666666666666666,
             "#ed7953"
            ],
            [
             0.7777777777777778,
             "#fb9f3a"
            ],
            [
             0.8888888888888888,
             "#fdca26"
            ],
            [
             1,
             "#f0f921"
            ]
           ],
           "sequentialminus": [
            [
             0,
             "#0d0887"
            ],
            [
             0.1111111111111111,
             "#46039f"
            ],
            [
             0.2222222222222222,
             "#7201a8"
            ],
            [
             0.3333333333333333,
             "#9c179e"
            ],
            [
             0.4444444444444444,
             "#bd3786"
            ],
            [
             0.5555555555555556,
             "#d8576b"
            ],
            [
             0.6666666666666666,
             "#ed7953"
            ],
            [
             0.7777777777777778,
             "#fb9f3a"
            ],
            [
             0.8888888888888888,
             "#fdca26"
            ],
            [
             1,
             "#f0f921"
            ]
           ]
          },
          "colorway": [
           "#636efa",
           "#EF553B",
           "#00cc96",
           "#ab63fa",
           "#FFA15A",
           "#19d3f3",
           "#FF6692",
           "#B6E880",
           "#FF97FF",
           "#FECB52"
          ],
          "font": {
           "color": "#2a3f5f"
          },
          "geo": {
           "bgcolor": "white",
           "lakecolor": "white",
           "landcolor": "white",
           "showlakes": true,
           "showland": true,
           "subunitcolor": "#C8D4E3"
          },
          "hoverlabel": {
           "align": "left"
          },
          "hovermode": "closest",
          "mapbox": {
           "style": "light"
          },
          "paper_bgcolor": "white",
          "plot_bgcolor": "white",
          "polar": {
           "angularaxis": {
            "gridcolor": "#EBF0F8",
            "linecolor": "#EBF0F8",
            "ticks": ""
           },
           "bgcolor": "white",
           "radialaxis": {
            "gridcolor": "#EBF0F8",
            "linecolor": "#EBF0F8",
            "ticks": ""
           }
          },
          "scene": {
           "xaxis": {
            "backgroundcolor": "white",
            "gridcolor": "#DFE8F3",
            "gridwidth": 2,
            "linecolor": "#EBF0F8",
            "showbackground": true,
            "ticks": "",
            "zerolinecolor": "#EBF0F8"
           },
           "yaxis": {
            "backgroundcolor": "white",
            "gridcolor": "#DFE8F3",
            "gridwidth": 2,
            "linecolor": "#EBF0F8",
            "showbackground": true,
            "ticks": "",
            "zerolinecolor": "#EBF0F8"
           },
           "zaxis": {
            "backgroundcolor": "white",
            "gridcolor": "#DFE8F3",
            "gridwidth": 2,
            "linecolor": "#EBF0F8",
            "showbackground": true,
            "ticks": "",
            "zerolinecolor": "#EBF0F8"
           }
          },
          "shapedefaults": {
           "line": {
            "color": "#2a3f5f"
           }
          },
          "ternary": {
           "aaxis": {
            "gridcolor": "#DFE8F3",
            "linecolor": "#A2B1C6",
            "ticks": ""
           },
           "baxis": {
            "gridcolor": "#DFE8F3",
            "linecolor": "#A2B1C6",
            "ticks": ""
           },
           "bgcolor": "white",
           "caxis": {
            "gridcolor": "#DFE8F3",
            "linecolor": "#A2B1C6",
            "ticks": ""
           }
          },
          "title": {
           "x": 0.05
          },
          "xaxis": {
           "automargin": true,
           "gridcolor": "#EBF0F8",
           "linecolor": "#EBF0F8",
           "ticks": "",
           "title": {
            "standoff": 15
           },
           "zerolinecolor": "#EBF0F8",
           "zerolinewidth": 2
          },
          "yaxis": {
           "automargin": true,
           "gridcolor": "#EBF0F8",
           "linecolor": "#EBF0F8",
           "ticks": "",
           "title": {
            "standoff": 15
           },
           "zerolinecolor": "#EBF0F8",
           "zerolinewidth": 2
          }
         }
        },
        "width": 1000,
        "xaxis": {
         "anchor": "y",
         "domain": [
          0,
          0.98
         ],
         "title": {
          "text": "agg_x"
         }
        },
        "xaxis2": {
         "anchor": "y2",
         "domain": [
          0,
          0.98
         ],
         "matches": "x",
         "showticklabels": false
        },
        "yaxis": {
         "anchor": "x",
         "domain": [
          0,
          0.485
         ],
         "title": {
          "text": "agg_y"
         }
        },
        "yaxis2": {
         "anchor": "x2",
         "domain": [
          0.515,
          1
         ],
         "matches": "y",
         "title": {
          "text": "agg_y"
         }
        }
       }
      },
      "text/html": [
       "<div>\n",
       "        \n",
       "        \n",
       "            <div id=\"eaf16b99-6576-427b-9d03-1c8fd8448a22\" class=\"plotly-graph-div\" style=\"height:1000px; width:1000px;\"></div>\n",
       "            <script type=\"text/javascript\">\n",
       "                require([\"plotly\"], function(Plotly) {\n",
       "                    window.PLOTLYENV=window.PLOTLYENV || {};\n",
       "                    \n",
       "                if (document.getElementById(\"eaf16b99-6576-427b-9d03-1c8fd8448a22\")) {\n",
       "                    Plotly.newPlot(\n",
       "                        'eaf16b99-6576-427b-9d03-1c8fd8448a22',\n",
       "                        [{\"customdata\": [[[], [], []], [[], [], []], [[], [], []], [[], [], []], [[], [], []], [[], [], []], [[], [], []], [[], [], []], [[], [], []], [[], [], []], [[], [], []], [[], [], []], [[], [], []], [[], [], []], [[], [], []], [[], [], []], [[], [], []], [[], [], []], [[], [], []], [[], [], []], [[], [], []], [[], [], []], [[], [], []], [[], [], []], [[], [], []], [[], [], []], [[], [], []], [[], [], []], [[], [], []], [[], [], []], [[], [], []], [[], [], []], [[], [], []], [[], [], []], [[], [], []], [[], [], []], [[], [], []], [[], [], []], [[], [], []], [[], [], []], [[], [], []], [[], [], []], [[], [], []], [[], [], []], [[], [], []], [[], [], []], [[], [], []], [[], [], []], [[], [], []], [[], [], []], [[], [], []], [[], [], []], [[], [], []], [[], [], []], [[\"clique_269_MEME-0_5.5e-009\"], [\"DDYSKRNRS\"], [\"eid_32301::Merozoite_surface_protein_1_precursor\"]], [[\"clique_227_MEME-0_2.2e-010\"], [\"YNLNSGYNQNNG\"], [\"eid_179965::merozoite_surface_protein_8\"]], [[\"clique_243_MEME-0_1.9e-010\"], [\"KCDDRIFKKRNY\"], [\"eid_1067745::erythrocyte_binding_antigen-165_[Plasmodium_falciparum_3D7]\"]], [[\"clique_201_MEME-0_1.2e-019\"], [\"NKMDNKY\"], [\"eid_141618::erythrocyte_membrane_protein_1\"]], [[\"clique_221_MEME-0_1.5e-011\"], [\"AGYSDSDYDDEY\"], [\"eid_74323::Circumsporozoite\"]], [[\"clique_197_MEME-0_1.2e-009\"], [\"QVPVSGSPL\"], [\"eid_1068342::merozoite_surface_protein_1\"]], [[\"clique_203_MEME-0_1.1e-022\"], [\"TADLNAEKTTDL\"], [\"eid_1066649::cytoadherence_linked_asexual_protein_3.1_[Plasmodium_falciparum_3D7]\"]], [[\"clique_202_MEME-0_6.3e-034\"], [\"PQGSTGA\"], [\"eid_227384::serine_repeat_antigen_5\"]], [[\"clique_250_MEME-0_1.1e-007\"], [\"NGLRNDAGRGNJ\"], [\"eid_1068491::erythrocyte_binding_antigen-181_[Plasmodium_falciparum_3D7]\"]], [[\"clique_87_MEME-1_3.2e-007\"], [\"LSDDVRPDKNH\"], [\"eid_1066748::erythrocyte_binding_antigen-175_[Plasmodium_falciparum_3D7]\"]], [[\"clique_37_MEME-0_3.4e-131\"], [\"FKRQMFYTLGDY\"], [\"eid_1068080::cytoadherence_linked_asexual_protein_3.2_[Plasmodium_falciparum_3D7]\"]], [[\"clique_29_MEME-1_5.8e-011\"], [\"FDFRDSYFCNFP\"], [\"eid_1068363::cytoadherence_linked_asexual_protein_8_[Plasmodium_falciparum_3D7]\"]], [[\"clique_27_MEME-1_1.2e-143\"], [\"ELKNKEL\"], [\"eid_1067038::erythrocyte_binding_antigen-181_[Plasmodium_falciparum_3D7]\"]], [[\"clique_9_MEME-1_3.6e-021\"], [\"NIEENIEEN\"], [\"eid_46363::ring-infested_erythrocyte_surface_antigen\"]], [[\"clique_3_MEME-0_7.3e-1603\", \"clique_3_MEME-1_4.1e-139\", \"clique_3_MEME-4_2.5e-011\"], [\"TTQEPVTTQEPV\", \"TTQEPVTTQ\", \"VTTQEPV\"], [\"eid_78559::Interspersed_repeat_antigen\"]], [[\"clique_41_MEME-1_1.6e-016\"], [\"HDDLYNSENSTF\"], [\"eid_1067003::erythrocyte_binding_antigen-181_[Plasmodium_falciparum_3D7]\"]], [[\"clique_155_MEME-0_5.6e-044\"], [\"NNGNNFNKDNIL\"], [\"eid_1066909::merozoite_surface_protein_1\"]], [[\"clique_153_MEME-0_1.5e-048\"], [\"KLIGDNKLIGDB\"], [\"eid_11927::erythrocyte_membrane-associated_giant_protein_antigen_332\"]], [[\"clique_151_MEME-0_2.0e-006\"], [\"DTSSLKKIKGSP\"], [\"eid_1066934::erythrocyte_binding_antigen-175_[Plasmodium_falciparum_3D7]\"]], [[\"clique_149_MEME-0_5.4e-044\"], [\"GASAPSGTS\"], [\"eid_95828::merozoite_surface_protein_1\"]], [[\"clique_138_MEME-0_5.6e-015\"], [\"LNKDISNKDYKY\"], [\"eid_1067988::apical_membrane_antigen_1\"]], [[\"clique_131_MEME-0_6.8e-016\"], [\"LDRHRDMCEKW\"], [\"eid_913519::erythrocyte_membrane_protein_1_(PfEMP1)\"]], [[\"clique_125_MEME-0_3.8e-019\"], [\"RTLNKEYEDGEL\"], [\"eid_13975::erythrocyte_binding_protein\"]], [[\"clique_173_MEME-1_2.7e-011\"], [\"EKRNGFDLBDDT\"], [\"eid_45337::sporozoite_surface_protein_2\"]], [[\"clique_10_MEME-0_6.0e-954\", \"clique_10_MEME-3_1.7e-007\"], [\"RNQNVNDRRNFD\", \"CGLEKGGPPWTP\"], [\"eid_1067300::cytoadherence_linked_asexual_protein_3.1_[Plasmodium_falciparum_3D7]\", \"eid_181625::erythrocyte_membrane_protein_1\"]], [[\"clique_4_MEME-0_1.3e-2238\", \"clique_4_MEME-2_1.0e-011\"], [\"GQQNTGLKNTPS\", \"LNKDIRNKDLKN\"], [\"eid_1067917::high_molecular_weight_rhoptry_protein_3_[Plasmodium_falciparum_3D7]\", \"eid_1066836::erythrocyte_binding_antigen-175_[Plasmodium_falciparum_3D7]\"]], [[\"clique_31_MEME-1_7.2e-033\", \"clique_31_MEME-2_1.6e-011\"], [\"NADNKED\", \"FHKILTNTD\"], [\"eid_1068703::MSP7-like_protein_[Plasmodium_falciparum_3D7]\", \"eid_73821::Glycophorin-binding_protein\"]], [[\"clique_140_MEME-0_3.7e-012\", \"clique_140_MEME-1_9.8e-006\"], [\"HDIYDIDTF\", \"DMCKKCDEIKYL\"], [\"eid_1067530::erythrocyte_binding_antigen-140_[Plasmodium_falciparum_3D7]\", \"eid_1066720::erythrocyte_binding_antigen-140_[Plasmodium_falciparum_3D7]\"]], [[\"clique_40_MEME-0_7.9e-324\", \"clique_40_MEME-1_3.1e-051\"], [\"SNGREDKVSNGG\", \"DEVSNGRED\"], [\"eid_914261::S-antigen_[Plasmodium_falciparum_3D7]\", \"eid_913339::S-antigen_[Plasmodium_falciparum_3D7]\"]], [[\"clique_119_MEME-0_2.9e-030\", \"clique_119_MEME-1_1.8e-012\"], [\"MSIHDGMKGQKY\", \"QNKNYKHLTDEE\"], [\"eid_1066929::erythrocyte_binding_antigen-165_[Plasmodium_falciparum_3D7]\", \"eid_913567::conserved_Plasmodium_protein\"]]], \"hovertemplate\": \"<b>%{hovertext}</b><br><br>leaning=K<br>agg_x=%{x}<br>agg_y=%{y}<br>membership=%{marker.size}<br>qseqid=%{customdata[0]}<br>sequences=%{customdata[1]}<br>sseqid=%{customdata[2]}<br>num_known=%{marker.color}<extra></extra>\", \"hovertext\": [274.0, 126.0, 127.0, 128.0, 273.0, 121.0, 120.0, 100.0, 101.0, 104.0, 141.0, 220.0, 218.0, 107.0, 142.0, 144.0, 196.0, 177.0, 181.0, 182.0, 190.0, 191.0, 198.0, 169.0, 146.0, 147.0, 148.0, 206.0, 205.0, 152.0, 158.0, 157.0, 34.0, 248.0, 245.0, 44.0, 244.0, 242.0, 268.0, 265.0, 263.0, 13.0, 21.0, 255.0, 81.0, 230.0, 84.0, 88.0, 226.0, 233.0, 234.0, 61.0, 236.0, 238.0, 269.0, 227.0, 243.0, 201.0, 221.0, 197.0, 203.0, 202.0, 250.0, 87.0, 37.0, 29.0, 27.0, 9.0, 3.0, 41.0, 155.0, 153.0, 151.0, 149.0, 138.0, 131.0, 125.0, 173.0, 10.0, 4.0, 31.0, 140.0, 40.0, 119.0], \"legendgroup\": \"\", \"marker\": {\"color\": [0, 0, 0, 0, 0, 0, 0, 0, 0, 0, 0, 0, 0, 0, 0, 0, 0, 0, 0, 0, 0, 0, 0, 0, 0, 0, 0, 0, 0, 0, 0, 0, 0, 0, 0, 0, 0, 0, 0, 0, 0, 0, 0, 0, 0, 0, 0, 0, 0, 0, 0, 0, 0, 0, 1, 1, 1, 1, 1, 1, 1, 1, 1, 1, 1, 1, 1, 1, 1, 1, 1, 1, 1, 1, 1, 1, 1, 1, 2, 2, 2, 2, 2, 2], \"coloraxis\": \"coloraxis\", \"size\": [2, 4, 4, 4, 2, 4, 4, 5, 5, 4, 3, 2, 2, 4, 3, 3, 2, 3, 2, 2, 2, 2, 2, 3, 3, 3, 3, 2, 2, 3, 3, 3, 12, 2, 2, 11, 2, 2, 2, 2, 2, 25, 18, 2, 6, 2, 6, 5, 2, 2, 2, 8, 2, 2, 2, 2, 2, 2, 2, 2, 2, 2, 2, 5, 12, 16, 16, 29, 66, 11, 3, 3, 3, 3, 3, 4, 4, 3, 27, 57, 14, 3, 11, 4], \"sizemode\": \"area\", \"sizeref\": 0.1768, \"symbol\": \"circle\"}, \"mode\": \"markers\", \"name\": \"\", \"orientation\": \"v\", \"showlegend\": false, \"type\": \"scatter\", \"x\": [0.08741186186671257, -0.23536089807748795, 0.6344028115272522, 0.7073276937007904, -0.500730499625206, -0.7095675617456436, 0.634680300951004, 0.33465894460678103, -0.7890691637992859, -0.7624323815107346, -0.8024386763572693, 0.20047051459550858, 0.5508686006069183, 0.1170795951038599, -0.3332040309906006, -0.8162234425544739, 0.5023595690727234, 0.8250914414723715, -0.8721057176589966, 0.05877603590488434, 0.3714127540588379, 0.6262489557266235, 0.5624980628490448, -0.3003203173478444, 0.8705007632573446, -0.06348925456404686, -0.19840864837169647, -0.5165800452232361, 0.8694146573543549, 0.7866345445315043, 0.6613522370656332, 0.7820912996927897, -0.03966560525198778, -0.6876915395259857, -0.29533228278160095, 0.2017715641043403, -0.5375024080276489, -0.7863399982452393, -0.6961060166358948, -0.8520104289054871, -0.5360464453697205, 0.07976516425609588, 0.005168264505401667, 0.4180283397436142, 0.6603393952051798, 0.4971752166748047, -0.0510550681501627, -0.7181538343429565, 0.22862257808446884, -0.05041687376797199, -0.13210876286029816, -0.04158807406201959, 0.7430870831012726, 0.14003048092126846, -0.029771416448056698, -0.5245940387248993, -0.36516430974006653, -0.7757576406002045, 0.6119994521141052, -0.8339196443557739, 0.8345828652381897, -0.19336730986833572, 0.20879388600587845, -0.6805130004882812, -0.7463216086228689, 0.5042765699326992, 0.41060037538409233, -0.34268079955002356, -0.006451798264275898, -0.42346167835322296, 0.06672866145769756, -0.8051658868789673, -0.3647873302300771, 0.21537665526072183, 0.5446706414222717, -0.37384501099586487, -0.2502428814768791, -0.3164479434490204, 0.3591803279187944, 0.10338734286396127, 0.6075279755251748, -0.7932584285736084, 0.322227957573804, 0.42236149311065674], \"xaxis\": \"x2\", \"y\": [0.8490608632564545, 0.7222279459238052, 0.32522203773260117, -0.40455781668424606, -0.8170453608036041, 0.3691842630505562, 0.36278732120990753, -0.6561058759689331, -0.23882408142089845, -0.3266249820590019, 0.2362471471230189, -0.7944314479827881, -0.8424915075302124, 0.8184793591499329, 0.639624277750651, -0.2800912658373515, -0.7018028199672699, 0.31644266843795776, 0.1364191174507141, -0.8555690050125122, -0.8422617018222809, -0.6187876164913177, 0.7541602551937103, 0.8635705510775248, 0.005355902947485447, 0.8355867067972819, 0.8495489160219828, 0.7029245793819427, 0.20073729008436203, 0.009002715970079104, -0.6109699408213297, -0.022826241950194042, -0.6109053194522858, 0.6456752121448517, 0.7327852845191956, -0.6018094312060963, -0.784300297498703, 0.2670016884803772, -0.6436246931552887, -0.4132489413022995, 0.5857003927230835, -0.2972885203361511, -0.3680332882536782, -0.6913145184516907, -0.2657891859610875, 0.7972534894943237, -0.859913170337677, 0.4532416880130768, 0.8117696344852448, 0.9910098016262054, -0.8892950713634491, 0.7020932734012604, 0.48318029940128326, -0.8376785814762115, -0.7895996570587158, 0.8755220472812653, 0.7359733283519745, -0.2835308313369751, -0.5454920828342438, -0.447564497590065, -0.2113407999277115, 0.9115613996982574, 0.9444856345653534, -0.5152043104171753, -0.08807527149717014, -0.10263409931212664, 0.2838506232947111, 0.01222865538800071, -0.10992335855509296, -0.5572634014216337, 0.7845801512400309, -0.3762867550055186, -0.8642682234446207, -0.697797417640686, -0.6333915193875631, 0.7909888327121735, -0.7408706545829773, -0.8319299419720968, 0.07750318282180363, -0.10604065029244673, -0.031237879768013954, -0.04763321081797282, 0.605866405096921, 0.6053445190191269], \"yaxis\": \"y2\"}, {\"customdata\": [[[], [], []], [[], [], []], [[], [], []], [[], [], []], [[], [], []], [[], [], []], [[], [], []], [[], [], []], [[], [], []], [[], [], []], [[], [], []], [[], [], []], [[], [], []], [[], [], []], [[], [], []], [[], [], []], [[], [], []], [[], [], []], [[], [], []], [[], [], []], [[], [], []], [[], [], []], [[], [], []], [[], [], []], [[], [], []], [[], [], []], [[], [], []], [[], [], []], [[], [], []], [[], [], []], [[], [], []], [[], [], []], [[], [], []], [[], [], []], [[], [], []], [[], [], []], [[], [], []], [[], [], []], [[], [], []], [[], [], []], [[], [], []], [[], [], []], [[], [], []], [[], [], []], [[], [], []], [[], [], []], [[], [], []], [[], [], []], [[], [], []], [[], [], []], [[], [], []], [[], [], []], [[], [], []], [[], [], []], [[], [], []], [[], [], []], [[], [], []], [[], [], []], [[], [], []], [[], [], []], [[], [], []], [[], [], []], [[], [], []], [[], [], []], [[], [], []], [[], [], []], [[], [], []], [[], [], []], [[], [], []], [[], [], []], [[], [], []], [[], [], []], [[], [], []], [[], [], []], [[], [], []], [[], [], []], [[], [], []], [[], [], []], [[], [], []], [[], [], []], [[], [], []], [[], [], []], [[], [], []], [[], [], []], [[], [], []], [[], [], []], [[], [], []], [[], [], []], [[], [], []], [[], [], []], [[], [], []], [[], [], []], [[], [], []], [[], [], []], [[], [], []], [[], [], []], [[], [], []], [[], [], []], [[], [], []], [[], [], []], [[], [], []], [[], [], []], [[], [], []], [[], [], []], [[], [], []], [[], [], []], [[], [], []], [[], [], []], [[], [], []], [[], [], []], [[], [], []], [[], [], []], [[], [], []], [[], [], []], [[], [], []], [[], [], []], [[], [], []], [[], [], []], [[], [], []], [[], [], []], [[], [], []], [[], [], []], [[], [], []], [[], [], []], [[\"clique_266_MEME-0_2.5e-010\"], [\"VSEFKNNFDGCL\"], [\"eid_1067233::cytoadherence_linked_asexual_protein_3.1_[Plasmodium_falciparum_3D7]\"]], [[\"clique_235_MEME-0_6.2e-013\"], [\"SKSQPQHPK\"], [\"eid_1066612::merozoite_surface_protein_10_[Plasmodium_falciparum_3D7]\"]], [[\"clique_232_MEME-0_4.5e-007\"], [\"GGCGDKKIC\"], [\"eid_1068670::merozoite_surface_protein_4_[Plasmodium_falciparum_3D7]\"]], [[\"clique_249_MEME-0_4.4e-013\"], [\"SDKINDYDN\"], [\"eid_181598::PfEMP1\"]], [[\"clique_215_MEME-0_1.1e-009\"], [\"TPPAPQGESGLK\"], [\"eid_1066955::MSP7-like_protein_[Plasmodium_falciparum_3D7]\"]], [[\"clique_264_MEME-0_1.5e-012\"], [\"KKSNTKYNI\"], [\"eid_913343::petidase\"]], [[\"clique_261_MEME-0_1.5e-009\"], [\"GTGQHGHMHGSR\"], [\"eid_142387::merozoite_surface_protein_2\"]], [[\"clique_0_MEME-0_1.4e-6639\", \"clique_0_MEME-2_5.5e-302\"], [\"VIPEELVEEVIP\", \"EVVEEVVPE\"], [\"eid_11776::11-1_polypeptide\"]], [[\"clique_187_MEME-0_7.2e-011\"], [\"GEHLYDIDG\"], [\"eid_181804::erythrocyte_membrane_protein_1\"]], [[\"clique_86_MEME-0_2.5e-085\"], [\"KEINKTDSE\"], [\"eid_43692::hypothetical_protein_PF07_0086\"]], [[\"clique_82_MEME-1_1.2e-009\"], [\"YKFLSMKH\"], [\"eid_1067951::merozoite_surface_protein_10_[Plasmodium_falciparum_3D7]\"]], [[\"clique_77_MEME-0_4.3e-146\"], [\"RRAKEKLQEQQS\"], [\"eid_914045::liver_stage_antigen_1_[Plasmodium_falciparum_3D7]\"]], [[\"clique_74_MEME-1_1.3e-014\"], [\"EDSAQDTZNSLD\"], [\"eid_1067155::erythrocyte_binding_antigen-181_[Plasmodium_falciparum_3D7]\"]], [[\"clique_70_MEME-0_4.7e-106\"], [\"DEGKTTDEGKTT\"], [\"eid_1068178::mature_parasite-infected_erythrocyte_surface_antigen_[Plasmodium_falciparum_3D7]\"]], [[\"clique_193_MEME-0_6.0e-006\"], [\"TYDEKVKKN\"], [\"eid_59591::Liver_stage_antigen\"]], [[\"clique_64_MEME-0_2.9e-036\", \"clique_64_MEME-1_8.3e-021\"], [\"YKLGNNKKSYLI\", \"NDVHKKKADDGN\"], [\"eid_1068632::merozoite_surface_protein_10_[Plasmodium_falciparum_3D7]\"]], [[\"clique_62_MEME-0_9.4e-186\"], [\"ETGESKETGESK\"], [\"eid_1067392::mature_parasite-infected_erythrocyte_surface_antigen_[Plasmodium_falciparum_3D7]\"]], [[\"clique_59_MEME-0_1.1e-059\"], [\"NEVKSEVKNEVK\"], [\"eid_188093::CelTOS\"]], [[\"clique_58_MEME-0_2.1e-136\"], [\"VNNNBNMDNIYN\"], [\"eid_1068012::duffy_binding-like_merozoite_surface_protein_[Plasmodium_falciparum_3D7]\"]], [[\"clique_55_MEME-0_9.9e-161\"], [\"ATKEASTSK\"], [\"eid_58833::Knob-associated_histidine-rich_protein_precursor\"]], [[\"clique_48_MEME-0_7.7e-111\"], [\"YYDTNDDDV\"], [\"eid_1067887::acidic_basic_repeat_antigen_[Plasmodium_falciparum_3D7]\"]], [[\"clique_47_MEME-0_9.7e-301\"], [\"SDGDKGP\"], [\"eid_1067578::endoplasmin\"]], [[\"clique_46_MEME-0_1.2e-075\", \"clique_46_MEME-1_1.0e-011\"], [\"KEKEEVKEKEEV\", \"NKDKVIEQE\"], [\"eid_1066787::mature_parasite-infected_erythrocyte_surface_antigen_[Plasmodium_falciparum_3D7]\"]], [[\"clique_36_MEME-1_2.6e-011\"], [\"LRDNYASEQEYF\"], [\"eid_1068141::antigen_332\"]], [[\"clique_32_MEME-0_6.9e-225\"], [\"GSVTEEIVE\"], [\"eid_70537::antigen_332\"]], [[\"clique_26_MEME-0_5.0e-147\"], [\"EKNEKNEKSIPN\"], [\"eid_913475::probable_protein\"]], [[\"clique_22_MEME-0_7.8e-420\"], [\"NTDTISTDN\"], [\"eid_913827::sporozoite_threonine_and_asparagine-rich_protein_[Plasmodium_falciparum_3D7]\"]], [[\"clique_19_MEME-3_3.9e-013\"], [\"HDHDDFCDC\"], [\"eid_1066667::erythrocyte_binding_antigen-140_[Plasmodium_falciparum_3D7]\"]], [[\"clique_8_MEME-3_3.0e-028\"], [\"SSTCECTDINNA\"], [\"eid_58239::Merozoite_surface_protein_1_precursor\"]], [[\"clique_7_MEME-0_1.0e-957\"], [\"QQSDLEQERLAK\"], [\"eid_913175::liver_stage_antigen_1_[Plasmodium_falciparum_3D7]\"]], [[\"clique_6_MEME-0_2.2e-752\"], [\"KDKCMKEIQQKF\"], [\"eid_914089::apical_membrane_antigen-1\"]], [[\"clique_89_MEME-0_2.9e-025\"], [\"FFTNKKKKDMNK\"], [\"eid_28742::glutamate-rich_protein\"]], [[\"clique_137_MEME-0_8.2e-015\"], [\"GSFDTIFDGFVN\"], [\"eid_1067481::merozoite_surface_protein_[Plasmodium_falciparum_3D7]\"]], [[\"clique_93_MEME-0_3.3e-035\"], [\"TNPCQLEYQWHT\"], [\"eid_236266::erythrocyte_membrane_protein_1\"]], [[\"clique_160_MEME-0_3.2e-006\"], [\"AATCGPNDGDCF\"], [\"eid_16942::sporozoite_surface_protein_2\"]], [[\"clique_163_MEME-0_1.9e-063\"], [\"YGPNGTYGPNGT\"], [\"eid_58266::major_surface_antigen_p190\"]], [[\"clique_150_MEME-0_8.2e-015\"], [\"SNDKQSNDI\"], [\"eid_1066904::merozoite_surface_protein_5_[Plasmodium_falciparum_3D7]\"]], [[\"clique_90_MEME-0_5.4e-042\"], [\"EPFPNQKHKDLD\"], [\"eid_914157::glutamate-rich_protein_[Plasmodium_falciparum_3D7]\"]], [[\"clique_165_MEME-0_8.4e-014\"], [\"HDDEEIYLNKIE\"], [\"eid_49314::Circumsporozoite\"]], [[\"clique_171_MEME-0_1.8e-023\"], [\"YRSKYCQPCPDC\"], [\"eid_236277::erythrocyte_membrane_protein_1\"]], [[\"clique_136_MEME-0_4.0e-008\"], [\"NYIEPSYKIYTS\"], [\"eid_45345::Merozoite_surface_protein_1_precursor\"]], [[\"clique_135_MEME-0_3.5e-012\"], [\"REYQLDNEGPDT\"], [\"eid_1067713::MSP7-like_protein_[Plasmodium_falciparum_3D7]\"]], [[\"clique_134_MEME-0_2.0e-010\"], [\"KDKVLGEGDKED\"], [\"eid_1067479::mature_parasite-infected_erythrocyte_surface_antigen_[Plasmodium_falciparum_3D7]\"]], [[\"clique_110_MEME-0_3.8e-035\"], [\"PPTQDAETKSPT\"], [\"eid_1068306::merozoite_surface_protein_2_[Plasmodium_falciparum_3D7]\"]], [[\"clique_94_MEME-0_3.4e-035\"], [\"NIKGEDNIKNKG\"], [\"eid_1068647::cytoadherence_linked_asexual_protein_9_[Plasmodium_falciparum_3D7]\"]], [[\"clique_176_MEME-0_6.6e-014\"], [\"GTAESKDSTGAS\"], [\"eid_872058::Merozoite_surface_antigen_2_precursor\"]], [[\"clique_117_MEME-0_2.0e-037\"], [\"SPRIFJSDBKDE\"], [\"eid_230393::apical_membrane_antigen-1\"]], [[\"clique_115_MEME-1_3.8e-006\"], [\"AGPQDPADDVTP\"], [\"eid_913259::exported_protein_1_[Plasmodium_falciparum_3D7]\"]], [[\"clique_114_MEME-0_5.2e-047\"], [\"CKCRPNYDCBIS\"], [\"eid_1067389::merozoite_surface_protein_10_[Plasmodium_falciparum_3D7]\"]], [[\"clique_106_MEME-0_2.3e-015\"], [\"QKQKQEE\"], [\"eid_1068069::erythrocyte_binding_antigen-181_[Plasmodium_falciparum_3D7]\"]], [[\"clique_103_MEME-0_4.8e-175\"], [\"MNGENIMNGDNK\"], [\"eid_1067857::cytoadherence_linked_asexual_protein_3.1_[Plasmodium_falciparum_3D7]\"]], [[\"clique_97_MEME-0_1.8e-038\"], [\"DNIEVNNTL\"], [\"eid_913807::protein_kinase\"]], [[\"clique_96_MEME-0_6.6e-025\"], [\"NDTTHNSYTNKK\"], [\"eid_141616::erythrocyte_membrane_protein_1\"]], [[\"clique_12_MEME-0_3.4e-203\", \"clique_12_MEME-1_7.4e-070\"], [\"NNEYYKEFYKKL\", \"DYKTVDKFLNLL\"], [\"eid_71354::major_merozoite_surface_antigen\", \"eid_1066699::glutamate-rich_protein_[Plasmodium_falciparum_3D7]\"]], [[\"clique_2_MEME-1_4.1e-546\", \"clique_2_MEME-5_4.6e-017\"], [\"YKZLKEVVEENG\", \"YEQLKDVVEKNG\"], [\"eid_501542::liver_stage-specific_antigen_1\", \"eid_11799::Liver_stage_antigen\"]], [[\"clique_15_MEME-0_1.2e-209\", \"clique_15_MEME-1_1.7e-045\"], [\"NDTEVKDKVKKQ\", \"VEEGIKE\"], [\"eid_1067371::mature_parasite-infected_erythrocyte_surface_antigen_[Plasmodium_falciparum_3D7]\", \"eid_1068514::mature_parasite-infected_erythrocyte_surface_antigen_[Plasmodium_falciparum_3D7]\"]], [[\"clique_17_MEME-0_6.0e-280\", \"clique_17_MEME-1_2.2e-083\"], [\"RPQFLRWFTEWG\", \"DEFCRERKKKE\"], [\"eid_1067630::erythrocyte_binding_antigen-140_[Plasmodium_falciparum_3D7]\", \"eid_181547::PfEMP1\"]], [[\"clique_25_MEME-0_5.2e-241\", \"clique_25_MEME-1_2.2e-056\"], [\"FSDGSAFGGGLP\", \"GLSVTNS\"], [\"eid_466413::erythrocyte_membrane_protein\", \"eid_1068688::duffy_binding-like_merozoite_surface_protein_[Plasmodium_falciparum_3D7]\"]], [[\"clique_49_MEME-0_1.2e-048\", \"clique_49_MEME-2_5.6e-007\"], [\"INNMYVKEFYEK\", \"CWDKCDPFEQW\"], [\"eid_179993::merozoite_surface_protein_8\", \"eid_1067841::erythrocyte_binding_antigen-175_[Plasmodium_falciparum_3D7]\"]], [[\"clique_57_MEME-0_1.9e-064\", \"clique_57_MEME-1_3.3e-023\"], [\"EFYKKLKEKTYN\", \"NSINNIYY\"], [\"eid_1066998::cytoadherence_linked_asexual_protein_3.2_[Plasmodium_falciparum_3D7]\", \"eid_1068183::cytoadherence_linked_asexual_protein_8_[Plasmodium_falciparum_3D7]\"]], [[\"clique_112_MEME-0_7.6e-011\", \"clique_112_MEME-1_4.1e-008\"], [\"FIQEDQEGQTHS\", \"NVPSGLDIDDIP\"], [\"eid_1066701::glutamate-rich_protein_[Plasmodium_falciparum_3D7]\", \"eid_1068139::glutamate-rich_protein_[Plasmodium_falciparum_3D7]\"]], [[\"clique_69_MEME-0_2.0e-069\", \"clique_69_MEME-2_2.4e-010\"], [\"PQYLRWFEEWAE\", \"VPTYFDY\"], [\"eid_70460::erythrocyte_membrane_protein_1_var_IT-ICAM\", \"eid_236163::EMP1\"]], [[\"clique_11_MEME-0_1.5e-339\", \"clique_11_MEME-1_2.1e-089\", \"clique_11_MEME-3_1.1e-013\"], [\"QHEIVEVEEILP\", \"EDKNEKV\", \"HTEQLDLDHKTV\"], [\"eid_469456::glutamate-rich_protein\", \"eid_913436::glutamate-rich_protein_[Plasmodium_falciparum_3D7]\", \"eid_1067856::glutamate-rich_protein_[Plasmodium_falciparum_3D7]\"]], [[\"clique_18_MEME-0_8.1e-803\", \"clique_18_MEME-1_1.2e-044\", \"clique_18_MEME-2_1.4e-022\", \"clique_18_MEME-3_3.0e-014\"], [\"PNANPNANPNAN\", \"PNANPNA\", \"RKPKHKKLKQPG\", \"QGNGQGHNM\"], [\"eid_756411::Circumsporozoite_protein_precursor\", \"eid_68038::Circumsporozoite_protein_precursor\", \"eid_45110::Circumsporozoite_protein_precursor\", \"eid_118868::Circumsporozoite_protein_precursor\"]], [[\"clique_20_MEME-0_3.6e-104\", \"clique_20_MEME-1_4.2e-063\", \"clique_20_MEME-2_3.1e-017\", \"clique_20_MEME-3_1.4e-013\", \"clique_20_MEME-4_3.3e-007\"], [\"EEEDEEDIEEEN\", \"QQSEKKSISKVD\", \"EKELSNQ\", \"ETNDTEDTD\", \"DIIKHNEDVR\"], [\"eid_1067086::mature_parasite-infected_erythrocyte_surface_antigen_[Plasmodium_falciparum_3D7]\", \"eid_1068135::duffy_binding-like_merozoite_surface_protein_[Plasmodium_falciparum_3D7]\", \"eid_1067872::duffy_binding-like_merozoite_surface_protein_[Plasmodium_falciparum_3D7]\", \"eid_1068370::duffy_binding-like_merozoite_surface_protein_[Plasmodium_falciparum_3D7]\"]], [[\"clique_1_MEME-0_3.3e-1426\", \"clique_1_MEME-3_3.5e-125\", \"clique_1_MEME-5_1.1e-022\", \"clique_1_MEME-8_2.6e-008\"], [\"GYSGIDJIBDVL\", \"VAKLTNSDP\", \"RKENELF\", \"WLDRHRD\"], [\"eid_913933::RAP_protein\", \"eid_73821::Glycophorin-binding_protein\", \"eid_73540::PfEMP1_variant_1_of_strain_MC\", \"eid_913519::erythrocyte_membrane_protein_1_(PfEMP1)\"]], [[\"clique_16_MEME-0_2.1e-305\", \"clique_16_MEME-1_2.2e-052\", \"clique_16_MEME-2_8.5e-013\", \"clique_16_MEME-4_1.7e-007\"], [\"EGGACANSKIKG\", \"MCDLNLEHJ\", \"DVHNTQNTHDLL\", \"AFHSNTPGNQR\"], [\"eid_1067148::antigen_332\", \"eid_181762::PfEMP1\", \"eid_181618::erythrocyte_membrane_protein_1\", \"eid_1067253::high_molecular_weight_rhoptry_protein_3_[Plasmodium_falciparum_3D7]\"]]], \"hovertemplate\": \"<b>%{hovertext}</b><br><br>leaning=T<br>agg_x=%{x}<br>agg_y=%{y}<br>membership=%{marker.size}<br>qseqid=%{customdata[0]}<br>sequences=%{customdata[1]}<br>sseqid=%{customdata[2]}<br>num_known=%{marker.color}<extra></extra>\", \"hovertext\": [122.0, 123.0, 124.0, 213.0, 129.0, 130.0, 212.0, 132.0, 133.0, 211.0, 210.0, 209.0, 208.0, 139.0, 207.0, 214.0, 118.0, 192.0, 222.0, 98.0, 99.0, 102.0, 105.0, 108.0, 109.0, 219.0, 111.0, 113.0, 217.0, 216.0, 116.0, 95.0, 172.0, 174.0, 175.0, 178.0, 179.0, 180.0, 183.0, 184.0, 185.0, 186.0, 195.0, 188.0, 189.0, 170.0, 168.0, 145.0, 204.0, 154.0, 143.0, 156.0, 159.0, 161.0, 162.0, 200.0, 164.0, 199.0, 166.0, 167.0, 224.0, 223.0, 92.0, 28.0, 251.0, 30.0, 33.0, 35.0, 247.0, 252.0, 38.0, 246.0, 42.0, 43.0, 225.0, 39.0, 253.0, 254.0, 24.0, 272.0, 271.0, 270.0, 5.0, 267.0, 262.0, 14.0, 260.0, 259.0, 258.0, 257.0, 256.0, 23.0, 241.0, 50.0, 45.0, 52.0, 71.0, 51.0, 73.0, 75.0, 76.0, 231.0, 78.0, 79.0, 80.0, 83.0, 85.0, 229.0, 228.0, 91.0, 72.0, 194.0, 237.0, 60.0, 68.0, 63.0, 56.0, 239.0, 240.0, 54.0, 66.0, 67.0, 53.0, 65.0, 266.0, 235.0, 232.0, 249.0, 215.0, 264.0, 261.0, 0.0, 187.0, 86.0, 82.0, 77.0, 74.0, 70.0, 193.0, 64.0, 62.0, 59.0, 58.0, 55.0, 48.0, 47.0, 46.0, 36.0, 32.0, 26.0, 22.0, 19.0, 8.0, 7.0, 6.0, 89.0, 137.0, 93.0, 160.0, 163.0, 150.0, 90.0, 165.0, 171.0, 136.0, 135.0, 134.0, 110.0, 94.0, 176.0, 117.0, 115.0, 114.0, 106.0, 103.0, 97.0, 96.0, 12.0, 2.0, 15.0, 17.0, 25.0, 49.0, 57.0, 112.0, 69.0, 11.0, 18.0, 20.0, 1.0, 16.0], \"legendgroup\": \"\", \"marker\": {\"color\": [0, 0, 0, 0, 0, 0, 0, 0, 0, 0, 0, 0, 0, 0, 0, 0, 0, 0, 0, 0, 0, 0, 0, 0, 0, 0, 0, 0, 0, 0, 0, 0, 0, 0, 0, 0, 0, 0, 0, 0, 0, 0, 0, 0, 0, 0, 0, 0, 0, 0, 0, 0, 0, 0, 0, 0, 0, 0, 0, 0, 0, 0, 0, 0, 0, 0, 0, 0, 0, 0, 0, 0, 0, 0, 0, 0, 0, 0, 0, 0, 0, 0, 0, 0, 0, 0, 0, 0, 0, 0, 0, 0, 0, 0, 0, 0, 0, 0, 0, 0, 0, 0, 0, 0, 0, 0, 0, 0, 0, 0, 0, 0, 0, 0, 0, 0, 0, 0, 0, 0, 0, 0, 0, 0, 1, 1, 1, 1, 1, 1, 1, 1, 1, 1, 1, 1, 1, 1, 1, 1, 1, 1, 1, 1, 1, 1, 1, 1, 1, 1, 1, 1, 1, 1, 1, 1, 1, 1, 1, 1, 1, 1, 1, 1, 1, 1, 1, 1, 1, 1, 1, 1, 1, 1, 1, 1, 1, 2, 2, 2, 2, 2, 2, 2, 2, 2, 3, 4, 4, 4, 4], \"coloraxis\": \"coloraxis\", \"size\": [4, 4, 4, 2, 4, 4, 2, 4, 3, 2, 2, 2, 2, 3, 2, 2, 4, 2, 2, 5, 5, 5, 4, 4, 4, 2, 4, 4, 2, 2, 4, 5, 3, 3, 3, 3, 3, 3, 2, 2, 2, 2, 2, 2, 2, 3, 3, 3, 2, 3, 3, 3, 3, 3, 3, 2, 3, 2, 3, 3, 2, 2, 5, 16, 2, 15, 12, 12, 2, 2, 12, 2, 11, 11, 2, 11, 2, 2, 17, 2, 2, 2, 43, 2, 2, 24, 2, 2, 2, 2, 2, 17, 2, 9, 11, 9, 7, 9, 7, 7, 7, 2, 6, 6, 6, 6, 6, 2, 2, 5, 7, 2, 2, 8, 7, 8, 8, 2, 2, 9, 7, 7, 9, 7, 2, 2, 2, 2, 2, 2, 2, 442, 2, 5, 6, 6, 7, 7, 2, 8, 8, 8, 8, 8, 10, 10, 10, 12, 13, 16, 17, 21, 35, 37, 40, 5, 3, 5, 3, 3, 3, 5, 3, 3, 3, 3, 3, 4, 5, 3, 4, 4, 4, 4, 5, 5, 5, 26, 83, 24, 22, 16, 10, 8, 4, 7, 27, 22, 20, 120, 23], \"sizemode\": \"area\", \"sizeref\": 0.1768, \"symbol\": \"circle\"}, \"mode\": \"markers\", \"name\": \"\", \"orientation\": \"v\", \"showlegend\": false, \"type\": \"scatter\", \"x\": [0.8100695908069611, -0.7325291484594345, 0.24476170912384987, -0.7456682026386261, 0.2402430884540081, 0.03199549112468958, -0.2950160950422287, -0.416610985994339, -0.828447957833608, 0.36117076873779297, 0.7616588473320007, -0.2105705887079239, 0.9307701289653778, 0.6318347056706747, -0.8717817962169647, -0.28142350912094116, 0.4639918580651283, 0.4699707627296448, 0.5373697876930237, -0.06010209769010544, 0.5316519260406494, 0.5765735626220703, -0.16452741250395775, -0.7285996824502945, 0.46708931773900986, -0.6150411367416382, -0.7974357455968857, 0.9116086363792419, 0.2615208476781845, 0.4159700572490692, 0.5859400033950806, 0.07623241692781449, -0.2423804054657618, 0.2269207884867986, -0.8299218813578287, -0.6391573349634806, -0.461915264527003, 0.2970402141412099, 0.2691158503293991, 0.9098321199417114, 0.8894278705120087, -0.16932766884565353, -0.5620416700839996, -0.5515527725219727, 0.4676477313041687, -0.694759468237559, 0.2621610263983409, 0.2968331774075826, 0.7559301555156708, 0.7487306793530782, -0.4577912191549937, 0.5398016571998596, 0.4888985753059387, 0.8708277146021525, 0.7658725380897522, 0.6188056766986847, -0.7336740096410116, 0.7447687983512878, 0.8088749249776205, -0.48909587661425274, -0.7586423754692078, 0.18046917766332626, -0.5883750677108764, 0.43111768178641796, -0.645988792181015, -0.5750285863876343, 0.5982988526423773, 0.23255180194973946, 0.37074439227581024, 0.7702845335006714, -0.3061412001649539, -0.6200238764286041, -0.17783210223371332, 0.7351628704504534, -0.8404061794281006, 0.6550398956645619, -0.7192818820476532, 0.9096475839614868, -0.2187926436171812, 0.8173423707485199, -0.8715997934341431, -0.8048095405101776, 0.18120609119881032, 0.891304224729538, -0.8016707301139832, 0.24205784065028033, -0.16603629291057587, 0.012270500883460045, 0.2767431288957596, -0.8458283543586731, 0.09663471207022667, -0.4042127465500551, 0.7373769283294678, -0.7846255699793497, -0.4001708057793704, -0.5715758403142294, 0.3903074051652636, 0.06136169077621566, -0.19233202508517674, 0.5918283717972892, -0.642238165651049, -0.8581258654594421, -0.47708582878112793, -0.6432021458943685, 0.7378510137399038, -0.66072545448939, -0.7831896245479584, 0.5903081893920898, 0.8315620124340057, 0.8547165274620057, -0.25246567385537283, -0.7585101127624512, 0.4386874586343765, 0.1448536217212677, -0.6107211198125567, 0.48030397668480873, -0.6796426102519035, -0.08361808210611343, -0.6688982546329498, 0.6639356215794882, 0.14884075735296523, -0.68770113161632, -0.5033220019605424, -0.7609620945794242, 0.8088138401508331, 0.7811398804187775, 0.6876272559165955, 0.6508760750293732, -0.11182162910699844, -0.37875300645828247, 0.8651771247386932, -0.02615169909829063, -0.3756464719772339, 0.8048494100570679, -0.8144155840078989, 0.7159413993358612, -0.6887073857443673, -0.7454547541482108, 0.3804747611284256, 0.007822185521945357, 0.6567748636007309, -0.28789228573441505, 0.3663102760910988, 0.7045884728431702, 0.49084936678409574, 0.40621852278709414, -0.03305115923285484, -0.5991819600264231, 0.5667216640252334, 0.09840467059984803, -0.03609885932768092, -0.23342823485533395, 0.2692410818168095, 0.11591760069131851, -0.08154275566339493, 0.6871515870094299, 0.5612712899843851, -0.07728644162416458, -0.9616106748580933, -0.56719042857488, -0.24448485672473907, -0.43243529200553893, -0.7636982798576355, 0.7720518906911215, -0.047890586157639824, 0.04479858403404554, 0.6265184084574381, -0.4976905807852745, -0.4101529777050018, 0.32461197177569073, 0.7718800604343414, -0.6028413772583008, 0.5436108559370041, -0.8008471131324768, 0.6415163516998291, 0.36697001457214357, -0.6409656763076782, -0.25988167180464816, 0.08025895059108734, 0.35105259095629054, -0.3343664082613858, -0.4259010087698698, -0.556621640920639, 0.5065722018480301, 0.25955963134765625, -0.1252342632838658, 0.18190574921943523, 0.25066814910281787, -0.0884264275431633, -0.13976194635033606, -0.3181372064611186], \"xaxis\": \"x\", \"y\": [0.1597374752163887, -0.2607179135084152, 0.712304413318634, -0.5283397734165192, -0.8130281269550323, -0.7945081889629364, -0.7449380159378052, 0.8310341089963913, -0.12845377624034882, -0.9506981372833252, 0.3641768544912338, -0.8838756382465363, 0.007607927080243826, 0.5708160400390625, 0.1737351194024086, -0.8244857788085938, -0.6307114213705063, -0.7157186269760132, -0.6637206971645355, 0.7962396383285523, -0.5190059304237366, 0.5131572246551513, 0.7492632418870926, -0.45338519662618637, 0.628034234046936, -0.6763759851455688, 0.36710909754037857, 0.12957921996712685, 0.9599418342113495, -0.8263508379459381, 0.4645475670695305, -0.7093389153480529, -0.8415272037188212, 0.749064028263092, 0.3239057660102844, 0.675926943620046, 0.7231362263361613, -0.7309739391009012, 0.8299373984336853, 0.0709880143404007, 0.247247576713562, 0.8142891228199005, 0.568591833114624, -0.5466216802597046, 0.7603584229946136, 0.5108335812886556, 0.6742053429285685, -0.6870562632878622, 0.23794417083263397, -0.5114221572875977, 0.7732784152030945, 0.4614133636156718, -0.5477128426233927, 0.05441923439502716, 0.09384045004844666, 0.6635446846485138, 0.2768979072570801, 0.44497257471084595, 0.3727760811646779, 0.8632955352465311, 0.08895860984921455, -0.9636448919773102, 0.5251018404960632, -0.31384641490876675, 0.7352049946784973, 0.20982277592023213, 0.2632452150185903, 0.5856858293215433, 0.7275796830654144, 0.31589581072330475, -0.6457125842571259, 0.6506184637546539, 0.6771037524396722, -0.0450568598779765, -0.554069310426712, 0.16908384453166614, -0.3436197340488434, 0.4553980976343155, -0.447954386472702, -0.3128082901239395, 0.02485204767435789, 0.1993967667222023, -0.10080226458782374, 0.2798299491405487, 0.10917572677135468, -0.3554792255163193, -0.6415109932422638, 0.875875860452652, -0.8448572754859924, -0.3316829204559326, -0.7556141018867493, 0.37669433390392976, -0.09060515835881233, 0.056332589437564216, -0.6297660740939054, 0.4586481485101912, 0.5917820164135524, 0.7071573932965597, -0.7133204085486275, 0.3969440077032362, 0.4111344516277313, 0.5732195973396301, 0.565141628185908, -0.4351461281379064, -0.14662755032380423, 0.46938001612822217, 0.14872982849677405, -0.6116076111793518, 0.2591441720724106, -0.16498131155967713, 0.7681993927274432, -0.32574737071990967, 0.8609072864055634, 0.7025825828313828, -0.4153147212096623, 0.531848780810833, -0.3460739925503731, 0.8988127112388611, -0.6707325875759125, -0.3514747851424747, -0.7700178878647941, 0.2937735063689096, -0.594460474120246, -0.1793108390910285, 0.03163507115095854, -0.3650553226470947, 0.32503172755241394, 0.5238805413246155, 0.6696903109550476, -0.7112112939357758, 0.08457915112376213, 0.024530763413369384, 0.6081429719924927, 0.10372414588928222, -0.17295454442501068, -0.33973827958106995, 0.03130759724548885, 0.1851942539215088, 0.8160973191261292, -0.7210352346301079, -0.46045122668147087, 0.6705010160803795, 0.6678571477532387, -0.1994694136083126, 0.09913995116949081, -0.6081770062446594, 0.7573771834373474, -0.10284117298821609, -0.2762374236033513, -0.589042242616415, 0.3896605512675117, -0.34472667887097314, -0.04243125521710941, -0.2328540582109142, 0.2968160308897495, 0.2723546802997589, 0.5546871423721313, 0.8654568076133728, 0.1573909471432368, 0.7064804037412008, 0.9192782839139303, 0.6857637286186218, 0.31534279386202496, -0.19899280865987143, -0.7477441628774008, 0.8597670197486877, 0.40958784023920697, 0.5874452143907547, 0.6070397973060608, 0.7463692426681519, 0.2015015296638012, -0.7516595125198364, 0.673716813325882, 0.0065271588973701, 0.4416560232639313, -0.7200682640075684, 0.5865991711616516, -0.19101863984878248, 0.11961116085210478, -0.2022253517061472, 0.10529527135870674, -0.3898122198879719, -0.3887316703796387, 0.5672794207930565, -0.7590684592723846, -0.7227800233023507, 0.2525546048526411, -0.1914347227324139, -0.4147268280386925, 0.024524692337339123, -0.1644568734842798], \"yaxis\": \"y\"}],\n",
       "                        {\"annotations\": [{\"font\": {}, \"showarrow\": false, \"text\": \"leaning=T\", \"textangle\": 90, \"x\": 0.98, \"xanchor\": \"left\", \"xref\": \"paper\", \"y\": 0.2425, \"yanchor\": \"middle\", \"yref\": \"paper\"}, {\"font\": {}, \"showarrow\": false, \"text\": \"leaning=K\", \"textangle\": 90, \"x\": 0.98, \"xanchor\": \"left\", \"xref\": \"paper\", \"y\": 0.7575000000000001, \"yanchor\": \"middle\", \"yref\": \"paper\"}], \"coloraxis\": {\"colorbar\": {\"tickvals\": [0, 1, 2, 3], \"title\": {\"text\": \"num_known\"}}, \"colorscale\": [[0.0, \"#0d0887\"], [0.1111111111111111, \"#46039f\"], [0.2222222222222222, \"#7201a8\"], [0.3333333333333333, \"#9c179e\"], [0.4444444444444444, \"#bd3786\"], [0.5555555555555556, \"#d8576b\"], [0.6666666666666666, \"#ed7953\"], [0.7777777777777778, \"#fb9f3a\"], [0.8888888888888888, \"#fdca26\"], [1.0, \"#f0f921\"]]}, \"height\": 1000, \"legend\": {\"itemsizing\": \"constant\", \"tracegroupgap\": 0}, \"margin\": {\"t\": 60}, \"template\": {\"data\": {\"bar\": [{\"error_x\": {\"color\": \"#2a3f5f\"}, \"error_y\": {\"color\": \"#2a3f5f\"}, \"marker\": {\"line\": {\"color\": \"white\", \"width\": 0.5}}, \"type\": \"bar\"}], \"barpolar\": [{\"marker\": {\"line\": {\"color\": \"white\", \"width\": 0.5}}, \"type\": \"barpolar\"}], \"carpet\": [{\"aaxis\": {\"endlinecolor\": \"#2a3f5f\", \"gridcolor\": \"#C8D4E3\", \"linecolor\": \"#C8D4E3\", \"minorgridcolor\": \"#C8D4E3\", \"startlinecolor\": \"#2a3f5f\"}, \"baxis\": {\"endlinecolor\": \"#2a3f5f\", \"gridcolor\": \"#C8D4E3\", \"linecolor\": \"#C8D4E3\", \"minorgridcolor\": \"#C8D4E3\", \"startlinecolor\": \"#2a3f5f\"}, \"type\": \"carpet\"}], \"choropleth\": [{\"colorbar\": {\"outlinewidth\": 0, \"ticks\": \"\"}, \"type\": \"choropleth\"}], \"contour\": [{\"colorbar\": {\"outlinewidth\": 0, \"ticks\": \"\"}, \"colorscale\": [[0.0, \"#0d0887\"], [0.1111111111111111, \"#46039f\"], [0.2222222222222222, \"#7201a8\"], [0.3333333333333333, \"#9c179e\"], [0.4444444444444444, \"#bd3786\"], [0.5555555555555556, \"#d8576b\"], [0.6666666666666666, \"#ed7953\"], [0.7777777777777778, \"#fb9f3a\"], [0.8888888888888888, \"#fdca26\"], [1.0, \"#f0f921\"]], \"type\": \"contour\"}], \"contourcarpet\": [{\"colorbar\": {\"outlinewidth\": 0, \"ticks\": \"\"}, \"type\": \"contourcarpet\"}], \"heatmap\": [{\"colorbar\": {\"outlinewidth\": 0, \"ticks\": \"\"}, \"colorscale\": [[0.0, \"#0d0887\"], [0.1111111111111111, \"#46039f\"], [0.2222222222222222, \"#7201a8\"], [0.3333333333333333, \"#9c179e\"], [0.4444444444444444, \"#bd3786\"], [0.5555555555555556, \"#d8576b\"], [0.6666666666666666, \"#ed7953\"], [0.7777777777777778, \"#fb9f3a\"], [0.8888888888888888, \"#fdca26\"], [1.0, \"#f0f921\"]], \"type\": \"heatmap\"}], \"heatmapgl\": [{\"colorbar\": {\"outlinewidth\": 0, \"ticks\": \"\"}, \"colorscale\": [[0.0, \"#0d0887\"], [0.1111111111111111, \"#46039f\"], [0.2222222222222222, \"#7201a8\"], [0.3333333333333333, \"#9c179e\"], [0.4444444444444444, \"#bd3786\"], [0.5555555555555556, \"#d8576b\"], [0.6666666666666666, \"#ed7953\"], [0.7777777777777778, \"#fb9f3a\"], [0.8888888888888888, \"#fdca26\"], [1.0, \"#f0f921\"]], \"type\": \"heatmapgl\"}], \"histogram\": [{\"marker\": {\"colorbar\": {\"outlinewidth\": 0, \"ticks\": \"\"}}, \"type\": \"histogram\"}], \"histogram2d\": [{\"colorbar\": {\"outlinewidth\": 0, \"ticks\": \"\"}, \"colorscale\": [[0.0, \"#0d0887\"], [0.1111111111111111, \"#46039f\"], [0.2222222222222222, \"#7201a8\"], [0.3333333333333333, \"#9c179e\"], [0.4444444444444444, \"#bd3786\"], [0.5555555555555556, \"#d8576b\"], [0.6666666666666666, \"#ed7953\"], [0.7777777777777778, \"#fb9f3a\"], [0.8888888888888888, \"#fdca26\"], [1.0, \"#f0f921\"]], \"type\": \"histogram2d\"}], \"histogram2dcontour\": [{\"colorbar\": {\"outlinewidth\": 0, \"ticks\": \"\"}, \"colorscale\": [[0.0, \"#0d0887\"], [0.1111111111111111, \"#46039f\"], [0.2222222222222222, \"#7201a8\"], [0.3333333333333333, \"#9c179e\"], [0.4444444444444444, \"#bd3786\"], [0.5555555555555556, \"#d8576b\"], [0.6666666666666666, \"#ed7953\"], [0.7777777777777778, \"#fb9f3a\"], [0.8888888888888888, \"#fdca26\"], [1.0, \"#f0f921\"]], \"type\": \"histogram2dcontour\"}], \"mesh3d\": [{\"colorbar\": {\"outlinewidth\": 0, \"ticks\": \"\"}, \"type\": \"mesh3d\"}], \"parcoords\": [{\"line\": {\"colorbar\": {\"outlinewidth\": 0, \"ticks\": \"\"}}, \"type\": \"parcoords\"}], \"pie\": [{\"automargin\": true, \"type\": \"pie\"}], \"scatter\": [{\"marker\": {\"colorbar\": {\"outlinewidth\": 0, \"ticks\": \"\"}}, \"type\": \"scatter\"}], \"scatter3d\": [{\"line\": {\"colorbar\": {\"outlinewidth\": 0, \"ticks\": \"\"}}, \"marker\": {\"colorbar\": {\"outlinewidth\": 0, \"ticks\": \"\"}}, \"type\": \"scatter3d\"}], \"scattercarpet\": [{\"marker\": {\"colorbar\": {\"outlinewidth\": 0, \"ticks\": \"\"}}, \"type\": \"scattercarpet\"}], \"scattergeo\": [{\"marker\": {\"colorbar\": {\"outlinewidth\": 0, \"ticks\": \"\"}}, \"type\": \"scattergeo\"}], \"scattergl\": [{\"marker\": {\"colorbar\": {\"outlinewidth\": 0, \"ticks\": \"\"}}, \"type\": \"scattergl\"}], \"scattermapbox\": [{\"marker\": {\"colorbar\": {\"outlinewidth\": 0, \"ticks\": \"\"}}, \"type\": \"scattermapbox\"}], \"scatterpolar\": [{\"marker\": {\"colorbar\": {\"outlinewidth\": 0, \"ticks\": \"\"}}, \"type\": \"scatterpolar\"}], \"scatterpolargl\": [{\"marker\": {\"colorbar\": {\"outlinewidth\": 0, \"ticks\": \"\"}}, \"type\": \"scatterpolargl\"}], \"scatterternary\": [{\"marker\": {\"colorbar\": {\"outlinewidth\": 0, \"ticks\": \"\"}}, \"type\": \"scatterternary\"}], \"surface\": [{\"colorbar\": {\"outlinewidth\": 0, \"ticks\": \"\"}, \"colorscale\": [[0.0, \"#0d0887\"], [0.1111111111111111, \"#46039f\"], [0.2222222222222222, \"#7201a8\"], [0.3333333333333333, \"#9c179e\"], [0.4444444444444444, \"#bd3786\"], [0.5555555555555556, \"#d8576b\"], [0.6666666666666666, \"#ed7953\"], [0.7777777777777778, \"#fb9f3a\"], [0.8888888888888888, \"#fdca26\"], [1.0, \"#f0f921\"]], \"type\": \"surface\"}], \"table\": [{\"cells\": {\"fill\": {\"color\": \"#EBF0F8\"}, \"line\": {\"color\": \"white\"}}, \"header\": {\"fill\": {\"color\": \"#C8D4E3\"}, \"line\": {\"color\": \"white\"}}, \"type\": \"table\"}]}, \"layout\": {\"annotationdefaults\": {\"arrowcolor\": \"#2a3f5f\", \"arrowhead\": 0, \"arrowwidth\": 1}, \"coloraxis\": {\"colorbar\": {\"outlinewidth\": 0, \"ticks\": \"\"}}, \"colorscale\": {\"diverging\": [[0, \"#8e0152\"], [0.1, \"#c51b7d\"], [0.2, \"#de77ae\"], [0.3, \"#f1b6da\"], [0.4, \"#fde0ef\"], [0.5, \"#f7f7f7\"], [0.6, \"#e6f5d0\"], [0.7, \"#b8e186\"], [0.8, \"#7fbc41\"], [0.9, \"#4d9221\"], [1, \"#276419\"]], \"sequential\": [[0.0, \"#0d0887\"], [0.1111111111111111, \"#46039f\"], [0.2222222222222222, \"#7201a8\"], [0.3333333333333333, \"#9c179e\"], [0.4444444444444444, \"#bd3786\"], [0.5555555555555556, \"#d8576b\"], [0.6666666666666666, \"#ed7953\"], [0.7777777777777778, \"#fb9f3a\"], [0.8888888888888888, \"#fdca26\"], [1.0, \"#f0f921\"]], \"sequentialminus\": [[0.0, \"#0d0887\"], [0.1111111111111111, \"#46039f\"], [0.2222222222222222, \"#7201a8\"], [0.3333333333333333, \"#9c179e\"], [0.4444444444444444, \"#bd3786\"], [0.5555555555555556, \"#d8576b\"], [0.6666666666666666, \"#ed7953\"], [0.7777777777777778, \"#fb9f3a\"], [0.8888888888888888, \"#fdca26\"], [1.0, \"#f0f921\"]]}, \"colorway\": [\"#636efa\", \"#EF553B\", \"#00cc96\", \"#ab63fa\", \"#FFA15A\", \"#19d3f3\", \"#FF6692\", \"#B6E880\", \"#FF97FF\", \"#FECB52\"], \"font\": {\"color\": \"#2a3f5f\"}, \"geo\": {\"bgcolor\": \"white\", \"lakecolor\": \"white\", \"landcolor\": \"white\", \"showlakes\": true, \"showland\": true, \"subunitcolor\": \"#C8D4E3\"}, \"hoverlabel\": {\"align\": \"left\"}, \"hovermode\": \"closest\", \"mapbox\": {\"style\": \"light\"}, \"paper_bgcolor\": \"white\", \"plot_bgcolor\": \"white\", \"polar\": {\"angularaxis\": {\"gridcolor\": \"#EBF0F8\", \"linecolor\": \"#EBF0F8\", \"ticks\": \"\"}, \"bgcolor\": \"white\", \"radialaxis\": {\"gridcolor\": \"#EBF0F8\", \"linecolor\": \"#EBF0F8\", \"ticks\": \"\"}}, \"scene\": {\"xaxis\": {\"backgroundcolor\": \"white\", \"gridcolor\": \"#DFE8F3\", \"gridwidth\": 2, \"linecolor\": \"#EBF0F8\", \"showbackground\": true, \"ticks\": \"\", \"zerolinecolor\": \"#EBF0F8\"}, \"yaxis\": {\"backgroundcolor\": \"white\", \"gridcolor\": \"#DFE8F3\", \"gridwidth\": 2, \"linecolor\": \"#EBF0F8\", \"showbackground\": true, \"ticks\": \"\", \"zerolinecolor\": \"#EBF0F8\"}, \"zaxis\": {\"backgroundcolor\": \"white\", \"gridcolor\": \"#DFE8F3\", \"gridwidth\": 2, \"linecolor\": \"#EBF0F8\", \"showbackground\": true, \"ticks\": \"\", \"zerolinecolor\": \"#EBF0F8\"}}, \"shapedefaults\": {\"line\": {\"color\": \"#2a3f5f\"}}, \"ternary\": {\"aaxis\": {\"gridcolor\": \"#DFE8F3\", \"linecolor\": \"#A2B1C6\", \"ticks\": \"\"}, \"baxis\": {\"gridcolor\": \"#DFE8F3\", \"linecolor\": \"#A2B1C6\", \"ticks\": \"\"}, \"bgcolor\": \"white\", \"caxis\": {\"gridcolor\": \"#DFE8F3\", \"linecolor\": \"#A2B1C6\", \"ticks\": \"\"}}, \"title\": {\"x\": 0.05}, \"xaxis\": {\"automargin\": true, \"gridcolor\": \"#EBF0F8\", \"linecolor\": \"#EBF0F8\", \"ticks\": \"\", \"title\": {\"standoff\": 15}, \"zerolinecolor\": \"#EBF0F8\", \"zerolinewidth\": 2}, \"yaxis\": {\"automargin\": true, \"gridcolor\": \"#EBF0F8\", \"linecolor\": \"#EBF0F8\", \"ticks\": \"\", \"title\": {\"standoff\": 15}, \"zerolinecolor\": \"#EBF0F8\", \"zerolinewidth\": 2}}}, \"width\": 1000, \"xaxis\": {\"anchor\": \"y\", \"domain\": [0.0, 0.98], \"title\": {\"text\": \"agg_x\"}}, \"xaxis2\": {\"anchor\": \"y2\", \"domain\": [0.0, 0.98], \"matches\": \"x\", \"showticklabels\": false}, \"yaxis\": {\"anchor\": \"x\", \"domain\": [0.0, 0.485], \"title\": {\"text\": \"agg_y\"}}, \"yaxis2\": {\"anchor\": \"x2\", \"domain\": [0.515, 1.0], \"matches\": \"y\", \"title\": {\"text\": \"agg_y\"}}},\n",
       "                        {\"responsive\": true}\n",
       "                    ).then(function(){\n",
       "                            \n",
       "var gd = document.getElementById('eaf16b99-6576-427b-9d03-1c8fd8448a22');\n",
       "var x = new MutationObserver(function (mutations, observer) {{\n",
       "        var display = window.getComputedStyle(gd).display;\n",
       "        if (!display || display === 'none') {{\n",
       "            console.log([gd, 'removed!']);\n",
       "            Plotly.purge(gd);\n",
       "            observer.disconnect();\n",
       "        }}\n",
       "}});\n",
       "\n",
       "// Listen for the removal of the full notebook cells\n",
       "var notebookContainer = gd.closest('#notebook-container');\n",
       "if (notebookContainer) {{\n",
       "    x.observe(notebookContainer, {childList: true});\n",
       "}}\n",
       "\n",
       "// Listen for the clearing of the current output cell\n",
       "var outputEl = gd.closest('.output');\n",
       "if (outputEl) {{\n",
       "    x.observe(outputEl, {childList: true});\n",
       "}}\n",
       "\n",
       "                        })\n",
       "                };\n",
       "                });\n",
       "            </script>\n",
       "        </div>"
      ]
     },
     "metadata": {},
     "output_type": "display_data"
    }
   ],
   "source": [
    "fig = px.scatter(\n",
    "    clique_response_frame.merge(patient_response_by_region),\n",
    "    x = 'agg_x', y = 'agg_y', size = 'membership',\n",
    "    size_max = 50, hover_name='clique_idx', hover_data=['qseqid', 'sequences', 'sseqid'],\n",
    "    facet_row = 'leaning',\n",
    "    color = 'num_known',\n",
    "    color_discrete_sequence=['#06021c', '#dcb825', '#dc5c25', '#dc2549']\n",
    ")\n",
    "\n",
    "fig.update_layout(\n",
    "    height = 1000, width = 1000,\n",
    "    coloraxis_colorbar=dict(\n",
    "        tickvals = [0,1,2,3]\n",
    "    )\n",
    ")\n",
    "\n",
    "fig.update_layout(height = 1000, width = 1000)\n",
    "\n",
    "fig.write_html(\"regional_clique_enrichment.html\")\n",
    "\n",
    "fig"
   ]
  },
  {
   "cell_type": "code",
   "execution_count": null,
   "metadata": {},
   "outputs": [],
   "source": []
  }
 ],
 "metadata": {
  "kernelspec": {
   "display_name": "Python 3",
   "language": "python",
   "name": "python3"
  },
  "language_info": {
   "codemirror_mode": {
    "name": "ipython",
    "version": 3
   },
   "file_extension": ".py",
   "mimetype": "text/x-python",
   "name": "python",
   "nbconvert_exporter": "python",
   "pygments_lexer": "ipython3",
   "version": "3.8.5"
  },
  "toc": {
   "base_numbering": 1,
   "nav_menu": {},
   "number_sections": true,
   "sideBar": true,
   "skip_h1_title": false,
   "title_cell": "Table of Contents",
   "title_sidebar": "Contents",
   "toc_cell": false,
   "toc_position": {},
   "toc_section_display": true,
   "toc_window_display": true
  }
 },
 "nbformat": 4,
 "nbformat_minor": 4
}
